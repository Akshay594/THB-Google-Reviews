{
 "cells": [
  {
   "cell_type": "code",
   "execution_count": 1,
   "id": "1b862ef2",
   "metadata": {},
   "outputs": [
    {
     "name": "stderr",
     "output_type": "stream",
     "text": [
      "[nltk_data] Downloading package maxent_ne_chunker to\n",
      "[nltk_data]     /Users/gopalsingh/nltk_data...\n",
      "[nltk_data]   Package maxent_ne_chunker is already up-to-date!\n",
      "[nltk_data] Downloading package words to\n",
      "[nltk_data]     /Users/gopalsingh/nltk_data...\n",
      "[nltk_data]   Package words is already up-to-date!\n",
      "[nltk_data] Downloading package treebank to\n",
      "[nltk_data]     /Users/gopalsingh/nltk_data...\n",
      "[nltk_data]   Package treebank is already up-to-date!\n",
      "[nltk_data] Downloading package maxent_treebank_pos_tagger to\n",
      "[nltk_data]     /Users/gopalsingh/nltk_data...\n",
      "[nltk_data]   Package maxent_treebank_pos_tagger is already up-to-\n",
      "[nltk_data]       date!\n",
      "[nltk_data] Downloading package punkt to\n",
      "[nltk_data]     /Users/gopalsingh/nltk_data...\n",
      "[nltk_data]   Package punkt is already up-to-date!\n",
      "[nltk_data] Downloading package averaged_perceptron_tagger to\n",
      "[nltk_data]     /Users/gopalsingh/nltk_data...\n",
      "[nltk_data]   Package averaged_perceptron_tagger is already up-to-\n",
      "[nltk_data]       date!\n"
     ]
    },
    {
     "data": {
      "text/plain": [
       "True"
      ]
     },
     "execution_count": 1,
     "metadata": {},
     "output_type": "execute_result"
    }
   ],
   "source": [
    "import pandas as pd\n",
    "import re\n",
    "from tqdm import tqdm\n",
    "\n",
    "import matplotlib.pyplot as plt\n",
    "import numpy as np\n",
    "import locationtagger\n",
    "\n",
    "\n",
    "\n",
    "import nltk\n",
    "import spacy\n",
    " \n",
    "# essential entity models downloads\n",
    "nltk.downloader.download('maxent_ne_chunker')\n",
    "nltk.downloader.download('words')\n",
    "nltk.downloader.download('treebank')\n",
    "nltk.downloader.download('maxent_treebank_pos_tagger')\n",
    "nltk.downloader.download('punkt')\n",
    "nltk.download('averaged_perceptron_tagger')"
   ]
  },
  {
   "cell_type": "code",
   "execution_count": 2,
   "id": "644e6a25",
   "metadata": {},
   "outputs": [
    {
     "data": {
      "text/html": [
       "<div>\n",
       "<style scoped>\n",
       "    .dataframe tbody tr th:only-of-type {\n",
       "        vertical-align: middle;\n",
       "    }\n",
       "\n",
       "    .dataframe tbody tr th {\n",
       "        vertical-align: top;\n",
       "    }\n",
       "\n",
       "    .dataframe thead th {\n",
       "        text-align: right;\n",
       "    }\n",
       "</style>\n",
       "<table border=\"1\" class=\"dataframe\">\n",
       "  <thead>\n",
       "    <tr style=\"text-align: right;\">\n",
       "      <th></th>\n",
       "      <th>SVAAS_ID</th>\n",
       "      <th>user_id</th>\n",
       "      <th>firstName</th>\n",
       "      <th>middleName</th>\n",
       "      <th>lastName</th>\n",
       "      <th>email</th>\n",
       "      <th>phone</th>\n",
       "      <th>description</th>\n",
       "      <th>pan</th>\n",
       "      <th>mci</th>\n",
       "      <th>...</th>\n",
       "      <th>numberFollowUp</th>\n",
       "      <th>followUpDuration</th>\n",
       "      <th>insuranceProviderId</th>\n",
       "      <th>isActive</th>\n",
       "      <th>ABDM_Healthcare_Professional_ID</th>\n",
       "      <th>SVAAS_DOCTOR_ID</th>\n",
       "      <th>svaasClinicId</th>\n",
       "      <th>tbl_user_phone_number</th>\n",
       "      <th>name</th>\n",
       "      <th>location</th>\n",
       "    </tr>\n",
       "  </thead>\n",
       "  <tbody>\n",
       "    <tr>\n",
       "      <th>0</th>\n",
       "      <td>NaN</td>\n",
       "      <td>NaN</td>\n",
       "      <td>NaN</td>\n",
       "      <td>NaN</td>\n",
       "      <td>NaN</td>\n",
       "      <td>NaN</td>\n",
       "      <td>NaN</td>\n",
       "      <td>NaN</td>\n",
       "      <td>NaN</td>\n",
       "      <td>NaN</td>\n",
       "      <td>...</td>\n",
       "      <td>NaN</td>\n",
       "      <td>NaN</td>\n",
       "      <td>NaN</td>\n",
       "      <td>NaN</td>\n",
       "      <td>NaN</td>\n",
       "      <td>NaN</td>\n",
       "      <td>NaN</td>\n",
       "      <td>NaN</td>\n",
       "      <td>NaN</td>\n",
       "      <td>NaN</td>\n",
       "    </tr>\n",
       "    <tr>\n",
       "      <th>1</th>\n",
       "      <td>NaN</td>\n",
       "      <td>NaN</td>\n",
       "      <td>NaN</td>\n",
       "      <td>NaN</td>\n",
       "      <td>NaN</td>\n",
       "      <td>NaN</td>\n",
       "      <td>NaN</td>\n",
       "      <td>NaN</td>\n",
       "      <td>NaN</td>\n",
       "      <td>NaN</td>\n",
       "      <td>...</td>\n",
       "      <td>NaN</td>\n",
       "      <td>NaN</td>\n",
       "      <td>NaN</td>\n",
       "      <td>NaN</td>\n",
       "      <td>NaN</td>\n",
       "      <td>NaN</td>\n",
       "      <td>NaN</td>\n",
       "      <td>NaN</td>\n",
       "      <td>NaN</td>\n",
       "      <td>NaN</td>\n",
       "    </tr>\n",
       "    <tr>\n",
       "      <th>2</th>\n",
       "      <td>NaN</td>\n",
       "      <td>NaN</td>\n",
       "      <td>NaN</td>\n",
       "      <td>NaN</td>\n",
       "      <td>NaN</td>\n",
       "      <td>NaN</td>\n",
       "      <td>NaN</td>\n",
       "      <td>NaN</td>\n",
       "      <td>NaN</td>\n",
       "      <td>NaN</td>\n",
       "      <td>...</td>\n",
       "      <td>NaN</td>\n",
       "      <td>NaN</td>\n",
       "      <td>NaN</td>\n",
       "      <td>NaN</td>\n",
       "      <td>NaN</td>\n",
       "      <td>NaN</td>\n",
       "      <td>NaN</td>\n",
       "      <td>NaN</td>\n",
       "      <td>NaN</td>\n",
       "      <td>NaN</td>\n",
       "    </tr>\n",
       "    <tr>\n",
       "      <th>3</th>\n",
       "      <td>NaN</td>\n",
       "      <td>NaN</td>\n",
       "      <td>NaN</td>\n",
       "      <td>NaN</td>\n",
       "      <td>NaN</td>\n",
       "      <td>NaN</td>\n",
       "      <td>NaN</td>\n",
       "      <td>NaN</td>\n",
       "      <td>NaN</td>\n",
       "      <td>NaN</td>\n",
       "      <td>...</td>\n",
       "      <td>NaN</td>\n",
       "      <td>NaN</td>\n",
       "      <td>NaN</td>\n",
       "      <td>NaN</td>\n",
       "      <td>NaN</td>\n",
       "      <td>NaN</td>\n",
       "      <td>NaN</td>\n",
       "      <td>NaN</td>\n",
       "      <td>NaN</td>\n",
       "      <td>NaN</td>\n",
       "    </tr>\n",
       "    <tr>\n",
       "      <th>4</th>\n",
       "      <td>NaN</td>\n",
       "      <td>NaN</td>\n",
       "      <td>NaN</td>\n",
       "      <td>NaN</td>\n",
       "      <td>NaN</td>\n",
       "      <td>NaN</td>\n",
       "      <td>NaN</td>\n",
       "      <td>NaN</td>\n",
       "      <td>NaN</td>\n",
       "      <td>NaN</td>\n",
       "      <td>...</td>\n",
       "      <td>NaN</td>\n",
       "      <td>NaN</td>\n",
       "      <td>NaN</td>\n",
       "      <td>NaN</td>\n",
       "      <td>NaN</td>\n",
       "      <td>NaN</td>\n",
       "      <td>NaN</td>\n",
       "      <td>NaN</td>\n",
       "      <td>NaN</td>\n",
       "      <td>NaN</td>\n",
       "    </tr>\n",
       "  </tbody>\n",
       "</table>\n",
       "<p>5 rows × 53 columns</p>\n",
       "</div>"
      ],
      "text/plain": [
       "   SVAAS_ID  user_id firstName middleName lastName email  phone  description  \\\n",
       "0       NaN      NaN       NaN        NaN      NaN   NaN    NaN          NaN   \n",
       "1       NaN      NaN       NaN        NaN      NaN   NaN    NaN          NaN   \n",
       "2       NaN      NaN       NaN        NaN      NaN   NaN    NaN          NaN   \n",
       "3       NaN      NaN       NaN        NaN      NaN   NaN    NaN          NaN   \n",
       "4       NaN      NaN       NaN        NaN      NaN   NaN    NaN          NaN   \n",
       "\n",
       "   pan  mci  ... numberFollowUp followUpDuration insuranceProviderId isActive  \\\n",
       "0  NaN  NaN  ...            NaN              NaN                 NaN      NaN   \n",
       "1  NaN  NaN  ...            NaN              NaN                 NaN      NaN   \n",
       "2  NaN  NaN  ...            NaN              NaN                 NaN      NaN   \n",
       "3  NaN  NaN  ...            NaN              NaN                 NaN      NaN   \n",
       "4  NaN  NaN  ...            NaN              NaN                 NaN      NaN   \n",
       "\n",
       "  ABDM_Healthcare_Professional_ID SVAAS_DOCTOR_ID  svaasClinicId  \\\n",
       "0                             NaN             NaN            NaN   \n",
       "1                             NaN             NaN            NaN   \n",
       "2                             NaN             NaN            NaN   \n",
       "3                             NaN             NaN            NaN   \n",
       "4                             NaN             NaN            NaN   \n",
       "\n",
       "  tbl_user_phone_number  name location  \n",
       "0                   NaN   NaN      NaN  \n",
       "1                   NaN   NaN      NaN  \n",
       "2                   NaN   NaN      NaN  \n",
       "3                   NaN   NaN      NaN  \n",
       "4                   NaN   NaN      NaN  \n",
       "\n",
       "[5 rows x 53 columns]"
      ]
     },
     "execution_count": 2,
     "metadata": {},
     "output_type": "execute_result"
    }
   ],
   "source": [
    "df = pd.read_csv(\"google_review_29_08_v3.csv\")\n",
    "df.head()"
   ]
  },
  {
   "cell_type": "code",
   "execution_count": 3,
   "id": "2c48fe3d",
   "metadata": {},
   "outputs": [
    {
     "data": {
      "text/html": [
       "<div>\n",
       "<style scoped>\n",
       "    .dataframe tbody tr th:only-of-type {\n",
       "        vertical-align: middle;\n",
       "    }\n",
       "\n",
       "    .dataframe tbody tr th {\n",
       "        vertical-align: top;\n",
       "    }\n",
       "\n",
       "    .dataframe thead th {\n",
       "        text-align: right;\n",
       "    }\n",
       "</style>\n",
       "<table border=\"1\" class=\"dataframe\">\n",
       "  <thead>\n",
       "    <tr style=\"text-align: right;\">\n",
       "      <th></th>\n",
       "      <th>SVAAS_ID</th>\n",
       "      <th>firstName</th>\n",
       "      <th>middleName</th>\n",
       "      <th>lastName</th>\n",
       "      <th>name</th>\n",
       "      <th>baseCity</th>\n",
       "    </tr>\n",
       "  </thead>\n",
       "  <tbody>\n",
       "    <tr>\n",
       "      <th>0</th>\n",
       "      <td>NaN</td>\n",
       "      <td>NaN</td>\n",
       "      <td>NaN</td>\n",
       "      <td>NaN</td>\n",
       "      <td>NaN</td>\n",
       "      <td>NaN</td>\n",
       "    </tr>\n",
       "    <tr>\n",
       "      <th>1</th>\n",
       "      <td>NaN</td>\n",
       "      <td>NaN</td>\n",
       "      <td>NaN</td>\n",
       "      <td>NaN</td>\n",
       "      <td>NaN</td>\n",
       "      <td>NaN</td>\n",
       "    </tr>\n",
       "    <tr>\n",
       "      <th>2</th>\n",
       "      <td>NaN</td>\n",
       "      <td>NaN</td>\n",
       "      <td>NaN</td>\n",
       "      <td>NaN</td>\n",
       "      <td>NaN</td>\n",
       "      <td>NaN</td>\n",
       "    </tr>\n",
       "    <tr>\n",
       "      <th>3</th>\n",
       "      <td>NaN</td>\n",
       "      <td>NaN</td>\n",
       "      <td>NaN</td>\n",
       "      <td>NaN</td>\n",
       "      <td>NaN</td>\n",
       "      <td>NaN</td>\n",
       "    </tr>\n",
       "    <tr>\n",
       "      <th>4</th>\n",
       "      <td>NaN</td>\n",
       "      <td>NaN</td>\n",
       "      <td>NaN</td>\n",
       "      <td>NaN</td>\n",
       "      <td>NaN</td>\n",
       "      <td>NaN</td>\n",
       "    </tr>\n",
       "  </tbody>\n",
       "</table>\n",
       "</div>"
      ],
      "text/plain": [
       "   SVAAS_ID firstName middleName lastName name baseCity\n",
       "0       NaN       NaN        NaN      NaN  NaN      NaN\n",
       "1       NaN       NaN        NaN      NaN  NaN      NaN\n",
       "2       NaN       NaN        NaN      NaN  NaN      NaN\n",
       "3       NaN       NaN        NaN      NaN  NaN      NaN\n",
       "4       NaN       NaN        NaN      NaN  NaN      NaN"
      ]
     },
     "execution_count": 3,
     "metadata": {},
     "output_type": "execute_result"
    }
   ],
   "source": [
    "df = df[['SVAAS_ID','firstName', 'middleName', 'lastName', 'name', 'baseCity']]\n",
    "df.head()"
   ]
  },
  {
   "cell_type": "markdown",
   "id": "9b4310f5",
   "metadata": {},
   "source": [
    "### I think, it will be safe to drop the middleName column, and we can proceed with the firstName only here."
   ]
  },
  {
   "cell_type": "code",
   "execution_count": 4,
   "id": "42422e64",
   "metadata": {},
   "outputs": [],
   "source": [
    "df.drop('middleName', axis=1, inplace=True)"
   ]
  },
  {
   "cell_type": "markdown",
   "id": "a57049a8",
   "metadata": {},
   "source": [
    "## Let's seggregate the data based on missing vs non-missing row values"
   ]
  },
  {
   "cell_type": "code",
   "execution_count": 5,
   "id": "6e5eec07",
   "metadata": {},
   "outputs": [],
   "source": [
    "df_not_missing = df.dropna()"
   ]
  },
  {
   "cell_type": "code",
   "execution_count": 6,
   "id": "bbf3e6ea",
   "metadata": {},
   "outputs": [
    {
     "data": {
      "text/html": [
       "<div>\n",
       "<style scoped>\n",
       "    .dataframe tbody tr th:only-of-type {\n",
       "        vertical-align: middle;\n",
       "    }\n",
       "\n",
       "    .dataframe tbody tr th {\n",
       "        vertical-align: top;\n",
       "    }\n",
       "\n",
       "    .dataframe thead th {\n",
       "        text-align: right;\n",
       "    }\n",
       "</style>\n",
       "<table border=\"1\" class=\"dataframe\">\n",
       "  <thead>\n",
       "    <tr style=\"text-align: right;\">\n",
       "      <th></th>\n",
       "      <th>SVAAS_ID</th>\n",
       "      <th>firstName</th>\n",
       "      <th>lastName</th>\n",
       "      <th>name</th>\n",
       "      <th>baseCity</th>\n",
       "    </tr>\n",
       "  </thead>\n",
       "  <tbody>\n",
       "    <tr>\n",
       "      <th>17</th>\n",
       "      <td>3.0</td>\n",
       "      <td>Divya</td>\n",
       "      <td>Kavuri</td>\n",
       "      <td>Apollo Clinic</td>\n",
       "      <td>Hyderabad</td>\n",
       "    </tr>\n",
       "    <tr>\n",
       "      <th>18</th>\n",
       "      <td>4.0</td>\n",
       "      <td>Shivam</td>\n",
       "      <td>P</td>\n",
       "      <td>Shivam hospitals</td>\n",
       "      <td>Hyderabad</td>\n",
       "    </tr>\n",
       "    <tr>\n",
       "      <th>19</th>\n",
       "      <td>5.0</td>\n",
       "      <td>Ranjan</td>\n",
       "      <td>Dey</td>\n",
       "      <td>Ranjan skin clinics</td>\n",
       "      <td>Hyderabad</td>\n",
       "    </tr>\n",
       "    <tr>\n",
       "      <th>20</th>\n",
       "      <td>6.0</td>\n",
       "      <td>Soumya</td>\n",
       "      <td>Sarkar</td>\n",
       "      <td>Soumya Multi speciality clinic</td>\n",
       "      <td>Hyderabad</td>\n",
       "    </tr>\n",
       "    <tr>\n",
       "      <th>21</th>\n",
       "      <td>7.0</td>\n",
       "      <td>Rishanku</td>\n",
       "      <td>Goyal</td>\n",
       "      <td>RKG Eye Center</td>\n",
       "      <td>Hyderabad</td>\n",
       "    </tr>\n",
       "  </tbody>\n",
       "</table>\n",
       "</div>"
      ],
      "text/plain": [
       "    SVAAS_ID firstName lastName                            name   baseCity\n",
       "17       3.0     Divya   Kavuri                   Apollo Clinic  Hyderabad\n",
       "18       4.0    Shivam        P                Shivam hospitals  Hyderabad\n",
       "19       5.0    Ranjan      Dey             Ranjan skin clinics  Hyderabad\n",
       "20       6.0    Soumya   Sarkar  Soumya Multi speciality clinic  Hyderabad\n",
       "21       7.0  Rishanku    Goyal                  RKG Eye Center  Hyderabad"
      ]
     },
     "execution_count": 6,
     "metadata": {},
     "output_type": "execute_result"
    }
   ],
   "source": [
    "df_not_missing.head()"
   ]
  },
  {
   "cell_type": "code",
   "execution_count": 7,
   "id": "bb40a816",
   "metadata": {},
   "outputs": [
    {
     "data": {
      "text/plain": [
       "SVAAS_ID     0\n",
       "firstName    0\n",
       "lastName     0\n",
       "name         0\n",
       "baseCity     0\n",
       "dtype: int64"
      ]
     },
     "execution_count": 7,
     "metadata": {},
     "output_type": "execute_result"
    }
   ],
   "source": [
    "df_not_missing.isna().sum()"
   ]
  },
  {
   "cell_type": "code",
   "execution_count": 8,
   "id": "537b2fcc",
   "metadata": {},
   "outputs": [
    {
     "name": "stdout",
     "output_type": "stream",
     "text": [
      "<class 'pandas.core.frame.DataFrame'>\n",
      "Int64Index: 1715 entries, 17 to 1735\n",
      "Data columns (total 5 columns):\n",
      " #   Column     Non-Null Count  Dtype  \n",
      "---  ------     --------------  -----  \n",
      " 0   SVAAS_ID   1715 non-null   float64\n",
      " 1   firstName  1715 non-null   object \n",
      " 2   lastName   1715 non-null   object \n",
      " 3   name       1715 non-null   object \n",
      " 4   baseCity   1715 non-null   object \n",
      "dtypes: float64(1), object(4)\n",
      "memory usage: 80.4+ KB\n"
     ]
    }
   ],
   "source": [
    "df_not_missing.info()"
   ]
  },
  {
   "cell_type": "code",
   "execution_count": 9,
   "id": "961bc3c5",
   "metadata": {},
   "outputs": [
    {
     "name": "stdout",
     "output_type": "stream",
     "text": [
      "1715\n"
     ]
    }
   ],
   "source": [
    "print(len(df_not_missing))"
   ]
  },
  {
   "cell_type": "code",
   "execution_count": 10,
   "id": "33480c13",
   "metadata": {},
   "outputs": [
    {
     "data": {
      "text/plain": [
       "0.9879032258064516"
      ]
     },
     "execution_count": 10,
     "metadata": {},
     "output_type": "execute_result"
    }
   ],
   "source": [
    "len(df_not_missing)/len(df)"
   ]
  },
  {
   "cell_type": "code",
   "execution_count": 11,
   "id": "909ded9e",
   "metadata": {},
   "outputs": [
    {
     "name": "stderr",
     "output_type": "stream",
     "text": [
      "/var/folders/z1/0tn2v83n6pzgl2m8lzz1phbc0000gn/T/ipykernel_38066/4047833984.py:1: SettingWithCopyWarning: \n",
      "A value is trying to be set on a copy of a slice from a DataFrame.\n",
      "Try using .loc[row_indexer,col_indexer] = value instead\n",
      "\n",
      "See the caveats in the documentation: https://pandas.pydata.org/pandas-docs/stable/user_guide/indexing.html#returning-a-view-versus-a-copy\n",
      "  df_not_missing['query'] = df_not_missing['firstName'].apply(lambda x:x.lower()) +\"+\" + df_not_missing['lastName'].apply(lambda x:x.lower()) \\\n"
     ]
    }
   ],
   "source": [
    "df_not_missing['query'] = df_not_missing['firstName'].apply(lambda x:x.lower()) +\"+\" + df_not_missing['lastName'].apply(lambda x:x.lower()) \\\n",
    "                          +\"+\"+ df_not_missing['name'].apply(lambda x:x.lower()) + \"+\" + df_not_missing[\"baseCity\"].apply(lambda x:x.lower())"
   ]
  },
  {
   "cell_type": "code",
   "execution_count": 12,
   "id": "7683467c",
   "metadata": {},
   "outputs": [
    {
     "data": {
      "text/plain": [
       "17                   divya+kavuri+apollo clinic+hyderabad\n",
       "18                    shivam+p+shivam hospitals+hyderabad\n",
       "19               ranjan+dey+ranjan skin clinics+hyderabad\n",
       "20      soumya+sarkar+soumya multi speciality clinic+h...\n",
       "21                rishanku+goyal+rkg eye center+hyderabad\n",
       "                              ...                        \n",
       "1731    kushang+mod+shivam children hospital and neona...\n",
       "1732           dhaval+akhani+childhood hospital+ahmedabad\n",
       "1733    keval patel+patel+jk dental hospital orthodont...\n",
       "1734    jinal patel+patel+jk dental hospital orthodont...\n",
       "1735                   lavanya+yasam+sai clinic+hyderabad\n",
       "Name: query, Length: 1715, dtype: object"
      ]
     },
     "execution_count": 12,
     "metadata": {},
     "output_type": "execute_result"
    }
   ],
   "source": [
    "df_not_missing['query']"
   ]
  },
  {
   "cell_type": "markdown",
   "id": "8836fa3d",
   "metadata": {},
   "source": [
    "## For missing data"
   ]
  },
  {
   "cell_type": "code",
   "execution_count": 13,
   "id": "c0470c89",
   "metadata": {},
   "outputs": [],
   "source": [
    "import preprocess_kgptalkie as ps\n",
    "import re\n",
    "\n",
    "def get_clean(x):\n",
    "    x = str(x).lower().replace('\\\\', '').replace('_', ' ')\n",
    "    x = ps.cont_exp(x)\n",
    "    x = ps.remove_emails(x)\n",
    "    x = ps.remove_urls(x)\n",
    "    x = ps.remove_html_tags(x)\n",
    "    x = ps.remove_rt(x)\n",
    "    x = ps.remove_accented_chars(x)\n",
    "    x = ps.remove_special_chars(x)\n",
    "    x = re.sub(\"(.)\\\\1{2,}\", \"\\\\1\", x)\n",
    "    return x\n",
    "\n",
    "\n"
   ]
  },
  {
   "cell_type": "code",
   "execution_count": 14,
   "id": "e2eafedb",
   "metadata": {},
   "outputs": [
    {
     "name": "stderr",
     "output_type": "stream",
     "text": [
      "/var/folders/z1/0tn2v83n6pzgl2m8lzz1phbc0000gn/T/ipykernel_38066/153722280.py:1: SettingWithCopyWarning: \n",
      "A value is trying to be set on a copy of a slice from a DataFrame.\n",
      "Try using .loc[row_indexer,col_indexer] = value instead\n",
      "\n",
      "See the caveats in the documentation: https://pandas.pydata.org/pandas-docs/stable/user_guide/indexing.html#returning-a-view-versus-a-copy\n",
      "  df_not_missing['query'] = df_not_missing['query'].apply(lambda x:ps.remove_accented_chars(x))\n"
     ]
    },
    {
     "data": {
      "text/plain": [
       "17                 divya+kavuri+apollo clinic+hyderabad\n",
       "18                  shivam+p+shivam hospitals+hyderabad\n",
       "19             ranjan+dey+ranjan skin clinics+hyderabad\n",
       "20    soumya+sarkar+soumya multi speciality clinic+h...\n",
       "21              rishanku+goyal+rkg eye center+hyderabad\n",
       "Name: query, dtype: object"
      ]
     },
     "execution_count": 14,
     "metadata": {},
     "output_type": "execute_result"
    }
   ],
   "source": [
    "df_not_missing['query'] = df_not_missing['query'].apply(lambda x:ps.remove_accented_chars(x))\n",
    "df_not_missing['query'].head()"
   ]
  },
  {
   "cell_type": "code",
   "execution_count": 15,
   "id": "bc265424",
   "metadata": {},
   "outputs": [
    {
     "data": {
      "text/plain": [
       "1715"
      ]
     },
     "execution_count": 15,
     "metadata": {},
     "output_type": "execute_result"
    }
   ],
   "source": [
    "len(df_not_missing['query'].values)"
   ]
  },
  {
   "cell_type": "code",
   "execution_count": 16,
   "id": "6bd5d1c1",
   "metadata": {},
   "outputs": [],
   "source": [
    "from collections import defaultdict\n",
    "\n",
    "final_df = defaultdict(list)"
   ]
  },
  {
   "cell_type": "code",
   "execution_count": 17,
   "id": "0fe0056c",
   "metadata": {},
   "outputs": [
    {
     "data": {
      "text/html": [
       "<div>\n",
       "<style scoped>\n",
       "    .dataframe tbody tr th:only-of-type {\n",
       "        vertical-align: middle;\n",
       "    }\n",
       "\n",
       "    .dataframe tbody tr th {\n",
       "        vertical-align: top;\n",
       "    }\n",
       "\n",
       "    .dataframe thead th {\n",
       "        text-align: right;\n",
       "    }\n",
       "</style>\n",
       "<table border=\"1\" class=\"dataframe\">\n",
       "  <thead>\n",
       "    <tr style=\"text-align: right;\">\n",
       "      <th></th>\n",
       "      <th>SVAAS_ID</th>\n",
       "      <th>firstName</th>\n",
       "      <th>lastName</th>\n",
       "      <th>name</th>\n",
       "      <th>baseCity</th>\n",
       "      <th>query</th>\n",
       "    </tr>\n",
       "  </thead>\n",
       "  <tbody>\n",
       "    <tr>\n",
       "      <th>17</th>\n",
       "      <td>3.0</td>\n",
       "      <td>Divya</td>\n",
       "      <td>Kavuri</td>\n",
       "      <td>Apollo Clinic</td>\n",
       "      <td>Hyderabad</td>\n",
       "      <td>divya+kavuri+apollo clinic+hyderabad</td>\n",
       "    </tr>\n",
       "    <tr>\n",
       "      <th>18</th>\n",
       "      <td>4.0</td>\n",
       "      <td>Shivam</td>\n",
       "      <td>P</td>\n",
       "      <td>Shivam hospitals</td>\n",
       "      <td>Hyderabad</td>\n",
       "      <td>shivam+p+shivam hospitals+hyderabad</td>\n",
       "    </tr>\n",
       "    <tr>\n",
       "      <th>19</th>\n",
       "      <td>5.0</td>\n",
       "      <td>Ranjan</td>\n",
       "      <td>Dey</td>\n",
       "      <td>Ranjan skin clinics</td>\n",
       "      <td>Hyderabad</td>\n",
       "      <td>ranjan+dey+ranjan skin clinics+hyderabad</td>\n",
       "    </tr>\n",
       "    <tr>\n",
       "      <th>20</th>\n",
       "      <td>6.0</td>\n",
       "      <td>Soumya</td>\n",
       "      <td>Sarkar</td>\n",
       "      <td>Soumya Multi speciality clinic</td>\n",
       "      <td>Hyderabad</td>\n",
       "      <td>soumya+sarkar+soumya multi speciality clinic+h...</td>\n",
       "    </tr>\n",
       "    <tr>\n",
       "      <th>21</th>\n",
       "      <td>7.0</td>\n",
       "      <td>Rishanku</td>\n",
       "      <td>Goyal</td>\n",
       "      <td>RKG Eye Center</td>\n",
       "      <td>Hyderabad</td>\n",
       "      <td>rishanku+goyal+rkg eye center+hyderabad</td>\n",
       "    </tr>\n",
       "    <tr>\n",
       "      <th>...</th>\n",
       "      <td>...</td>\n",
       "      <td>...</td>\n",
       "      <td>...</td>\n",
       "      <td>...</td>\n",
       "      <td>...</td>\n",
       "      <td>...</td>\n",
       "    </tr>\n",
       "    <tr>\n",
       "      <th>1731</th>\n",
       "      <td>2425.0</td>\n",
       "      <td>Kushang</td>\n",
       "      <td>Mod</td>\n",
       "      <td>Shivam Children Hospital And Neonatal Care Centre</td>\n",
       "      <td>Ahmedabad</td>\n",
       "      <td>kushang+mod+shivam children hospital and neona...</td>\n",
       "    </tr>\n",
       "    <tr>\n",
       "      <th>1732</th>\n",
       "      <td>2426.0</td>\n",
       "      <td>Dhaval</td>\n",
       "      <td>Akhani</td>\n",
       "      <td>Childhood Hospital</td>\n",
       "      <td>Ahmedabad</td>\n",
       "      <td>dhaval+akhani+childhood hospital+ahmedabad</td>\n",
       "    </tr>\n",
       "    <tr>\n",
       "      <th>1733</th>\n",
       "      <td>2427.0</td>\n",
       "      <td>Keval Patel</td>\n",
       "      <td>Patel</td>\n",
       "      <td>Jk Dental Hospital Orthodontic &amp; Implant Center</td>\n",
       "      <td>Ahmedabad</td>\n",
       "      <td>keval patel+patel+jk dental hospital orthodont...</td>\n",
       "    </tr>\n",
       "    <tr>\n",
       "      <th>1734</th>\n",
       "      <td>2428.0</td>\n",
       "      <td>Jinal Patel</td>\n",
       "      <td>Patel</td>\n",
       "      <td>Jk Dental Hospital Orthodontic &amp; Implant Center</td>\n",
       "      <td>Ahmedabad</td>\n",
       "      <td>jinal patel+patel+jk dental hospital orthodont...</td>\n",
       "    </tr>\n",
       "    <tr>\n",
       "      <th>1735</th>\n",
       "      <td>2429.0</td>\n",
       "      <td>Lavanya</td>\n",
       "      <td>Yasam</td>\n",
       "      <td>Sai Clinic</td>\n",
       "      <td>Hyderabad</td>\n",
       "      <td>lavanya+yasam+sai clinic+hyderabad</td>\n",
       "    </tr>\n",
       "  </tbody>\n",
       "</table>\n",
       "<p>1715 rows × 6 columns</p>\n",
       "</div>"
      ],
      "text/plain": [
       "      SVAAS_ID    firstName lastName  \\\n",
       "17         3.0        Divya   Kavuri   \n",
       "18         4.0       Shivam        P   \n",
       "19         5.0       Ranjan      Dey   \n",
       "20         6.0       Soumya   Sarkar   \n",
       "21         7.0     Rishanku    Goyal   \n",
       "...        ...          ...      ...   \n",
       "1731    2425.0      Kushang      Mod   \n",
       "1732    2426.0       Dhaval   Akhani   \n",
       "1733    2427.0  Keval Patel    Patel   \n",
       "1734    2428.0  Jinal Patel    Patel   \n",
       "1735    2429.0      Lavanya    Yasam   \n",
       "\n",
       "                                                   name   baseCity  \\\n",
       "17                                        Apollo Clinic  Hyderabad   \n",
       "18                                     Shivam hospitals  Hyderabad   \n",
       "19                                  Ranjan skin clinics  Hyderabad   \n",
       "20                       Soumya Multi speciality clinic  Hyderabad   \n",
       "21                                       RKG Eye Center  Hyderabad   \n",
       "...                                                 ...        ...   \n",
       "1731  Shivam Children Hospital And Neonatal Care Centre  Ahmedabad   \n",
       "1732                                 Childhood Hospital  Ahmedabad   \n",
       "1733    Jk Dental Hospital Orthodontic & Implant Center  Ahmedabad   \n",
       "1734    Jk Dental Hospital Orthodontic & Implant Center  Ahmedabad   \n",
       "1735                                         Sai Clinic  Hyderabad   \n",
       "\n",
       "                                                  query  \n",
       "17                 divya+kavuri+apollo clinic+hyderabad  \n",
       "18                  shivam+p+shivam hospitals+hyderabad  \n",
       "19             ranjan+dey+ranjan skin clinics+hyderabad  \n",
       "20    soumya+sarkar+soumya multi speciality clinic+h...  \n",
       "21              rishanku+goyal+rkg eye center+hyderabad  \n",
       "...                                                 ...  \n",
       "1731  kushang+mod+shivam children hospital and neona...  \n",
       "1732         dhaval+akhani+childhood hospital+ahmedabad  \n",
       "1733  keval patel+patel+jk dental hospital orthodont...  \n",
       "1734  jinal patel+patel+jk dental hospital orthodont...  \n",
       "1735                 lavanya+yasam+sai clinic+hyderabad  \n",
       "\n",
       "[1715 rows x 6 columns]"
      ]
     },
     "execution_count": 17,
     "metadata": {},
     "output_type": "execute_result"
    }
   ],
   "source": [
    "df_not_missing"
   ]
  },
  {
   "cell_type": "code",
   "execution_count": 18,
   "id": "be9c2b0b",
   "metadata": {},
   "outputs": [],
   "source": [
    "# df_ch = df_not_missing[df_not_missing['baseCity'] == 'Chennai']\n",
    "# df_ch.isna().sum()"
   ]
  },
  {
   "cell_type": "code",
   "execution_count": 19,
   "id": "82cc7b64",
   "metadata": {},
   "outputs": [],
   "source": [
    "def isDigit(char):\n",
    "    pattern = \"^[-+]?[0-9]*\\.?[0-9]+(e[-+]?[0-9]+)?$\"\n",
    "    reg = re.compile(pattern)\n",
    "    if reg.match(char):\n",
    "        return True\n",
    "    return False"
   ]
  },
  {
   "cell_type": "code",
   "execution_count": 20,
   "id": "c06e3a20",
   "metadata": {},
   "outputs": [],
   "source": [
    "# from bs4 import BeautifulSoup\n",
    "# import urllib.request\n",
    "# import numpy as np\n",
    "\n",
    "# def extractReviews(df_not_missing, limit=100):\n",
    "#     queries = df_not_missing['query'].values[:limit]\n",
    "\n",
    "#     for i in tqdm(range(len(queries))):\n",
    "#         query = queries[i]\n",
    "#         query = \"+\".join(query.split(\" \"))\n",
    "#         url = 'https://google.com/search?q='+query\n",
    "#         print(url)\n",
    "\n",
    "#         request = urllib.request.Request(url)\n",
    "#         request.add_header('User-Agent', 'Mozilla/5.0 (Macintosh; Intel Mac OS X 10_15_6) AppleWebKit/537.36 (KHTML, like Gecko) Chrome/87.0.4280.88 Safari/537.36')\n",
    "#         raw_response = urllib.request.urlopen(request).read()\n",
    "\n",
    "#         # Read the repsonse as a utf-8 string\n",
    "#         html = raw_response.decode(\"utf-8\")\n",
    "\n",
    "#         soup = BeautifulSoup(html, 'html.parser')\n",
    "\n",
    "#         try:\n",
    "#             rating = soup.find(\"span\", class_=\"Aq14fc\")\n",
    "#             review = soup.find(\"span\", class_=\"hqzQac\")\n",
    "#             address = soup.find(\"span\", class_=\"LrzXr\").get_text()\n",
    "#             phone = soup.find(\"span\", class_=\"LrzXr zdqRlf kno-fv\").get_text()\n",
    "#             speciality = soup.find(\"span\", class_=\"YhemCb\").get_text()\n",
    "#             working_hours = soup.find(\"table\", class_=\"WgFkxc\").get_text()\n",
    "            \n",
    "#             print(\"address: \", address)\n",
    "#             print(\"phone: \", phone)\n",
    "#             print(\"spec: \", speciality)\n",
    "\n",
    "#             rating = rating.get_text()\n",
    "#             greviews = review.get_text()\n",
    "#             print(greviews)\n",
    "#             greviews = [ps.remove_special_chars(i) for i in greviews.split(\" \")]\n",
    "#             greviews = [i for i in greviews if isDigit(i)][0]\n",
    "            \n",
    "            \n",
    "#             final_df['firstName'].append(df_not_missing.iloc[i]['firstName'])\n",
    "#             final_df['lastName'].append(df_not_missing.iloc[i]['lastName'])\n",
    "#             final_df['clinicName'].append(df_not_missing.iloc[i]['name'])\n",
    "#             final_df['baseCity'].append(df_not_missing.iloc[i]['baseCity'])\n",
    "#             final_df['SVAAS_ID'].append(df_not_missing.iloc[i]['SVAAS_ID'])\n",
    "\n",
    "#             if greviews:\n",
    "#                 final_df['GoogleNRs'].append(float(greviews))\n",
    "#                 print(\"GNumber of google reviews: \", greviews)\n",
    "#             else:\n",
    "#                 final_df['GoogleNRs'].append(\"NA\")\n",
    "#                 print(\"Google reviews are not available.\")\n",
    "            \n",
    "#             if working_hours:\n",
    "#                 final_df['workingHours'].append(working_hours)\n",
    "#                 print(\"working hours: \", working_hours)\n",
    "#             else:\n",
    "#                 print(\"Working hours are not available.\")\n",
    "#                 final_df['workingHours'].append(\"NA\")\n",
    "            \n",
    "            \n",
    "\n",
    "#             if rating:\n",
    "#                 final_df['rating'].append(rating)\n",
    "#                 print(\"Rating is :\", rating)\n",
    "#             else:\n",
    "#                 final_df['rating'].append(\"NA\")\n",
    "#                 print(\"Rating is not available.\")\n",
    "\n",
    "#             if address:\n",
    "#                 final_df['address'].append(address)\n",
    "#                 print(\"Address: \", address)\n",
    "#             else:\n",
    "#                 final_df['address'].append(\"NA\")\n",
    "#                 print(\"Address is not available.\")\n",
    "\n",
    "#             if phone:\n",
    "#                 final_df['phoneNo'].append(phone)\n",
    "#                 print(\"Phone number: \", phone)\n",
    "#             else:\n",
    "#                 final_df['phoneNo'].append(\"NA\")\n",
    "#                 print(\"Phone number is not availble.\")\n",
    "\n",
    "\n",
    "#             if speciality:\n",
    "#                 final_df['speciality'].append(speciality)\n",
    "#                 print(\"Speciality: \", speciality)\n",
    "#             else:\n",
    "#                 final_df['speciality'].append(\"NA\")\n",
    "#                 print(\"Speciality not available\")\n",
    "\n",
    "\n",
    "#             text = ps.remove_accented_chars(address)\n",
    "#             text = ps.remove_special_chars(text)\n",
    "#             text = ps.remove_html_tags(text)\n",
    "\n",
    "#             text = text.split(\" \")\n",
    "#             print(text)\n",
    "#             print(text[-4:][:-1])\n",
    "#             city = \" \".join(text[-4:][:-1])\n",
    "\n",
    "\n",
    "            \n",
    "#             if city:\n",
    "#                 print(\"Extracted city: \", city)\n",
    "#                 final_df['extractedCity'].append(city)\n",
    "#             else:\n",
    "#                 print(\"Couldn't extract the city.\")\n",
    "#                 final_df[\"extractedCity\"].append(\"NA\")\n",
    "            \n",
    "#         except Exception as e:\n",
    "#             print(\"Error was: \", e)\n",
    "                \n",
    "                    \n",
    "#     return final_df\n",
    "\n",
    "#     #             print(div.get_text())\n"
   ]
  },
  {
   "cell_type": "code",
   "execution_count": 21,
   "id": "f3359b65",
   "metadata": {},
   "outputs": [],
   "source": [
    "# final_df = extractReviews(df_not_missing, limit=5)"
   ]
  },
  {
   "cell_type": "code",
   "execution_count": 22,
   "id": "ff9618c7",
   "metadata": {},
   "outputs": [],
   "source": [
    "# pd.DataFrame(final_df)"
   ]
  },
  {
   "cell_type": "markdown",
   "id": "980d63d2",
   "metadata": {},
   "source": [
    "### Comment Extraction"
   ]
  },
  {
   "cell_type": "code",
   "execution_count": 32,
   "id": "203b7bb0",
   "metadata": {},
   "outputs": [
    {
     "name": "stdout",
     "output_type": "stream",
     "text": [
      "Goyal Eye Institute is the best place for any eye problem. I’m coming here fromlong time. My Retina detachment surgery and cataract surgery were done here. I’m happy with my Surgery. Doctors are very polite and very humble. I feel very comfortable here. If you visit here, it means you are in safe hands.Thanks, Goyal Eye Institute for your marvelous services.\n",
      "****************************************************************************************************\n",
      "I recently had an amazing experience at Goyal Eye where my mother went through a cataract surgery. The doctor was kind, answered all our questions and patiently \"allowed\" us to be ready for the surgery. This was rare because usually doctors want the \"package\" completed promptly so they can work on the next one. Not this one... Highly recommend Dr. Anshul Goyal at Goyal Eye institute. The staff, well, they can do better; but medical expertise is par excellence! I will be going back soon for my mother's cataract surgery in the second eye. Thank you Goyal Eye Institute.Recommendation: Maybe have a valet parking option due to the lack of parking space around your facility. We are happy to pay, if there was an option. Kindly look into it to improve the patient and caregiver/ care taker experience.\n",
      "****************************************************************************************************\n",
      "My experience with Goyal eye centre for Lasik was amazing. The entire team including the staff was highly co-operative. A huge shout out to Dr. Ritin Goyal for being super informative and who performed the surgery with utmost ease. The procedure went very smooth and I experienced no pain. I would highly recommend this place for any kind of eye issues. Kudos to the entire team!\n",
      "****************************************************************************************************\n",
      "There's Zero COVID protocol in place lately. Almost every single of their staff and doctor don't wear masks. The opticians checking the eyesight/operating instrument sit right across you without masks, some even have cold and cough. The examination lenses and your glasses are handled with no sanitation, no matter if they sneeze in between the process. The place is overcrowded with poor ventilation and there's no mask mandate.I got my entire family infected after visiting this place. Literally horrible experience. At least a Medical clinic handling so many patients daily should follow appropriate COVID protocols. This clinic is literally a breeding ground for COVID and nobody seems to care.\n",
      "****************************************************************************************************\n",
      "My father recently had VR surgery for retinal detachment. Doctors and staff are very humble and helpful. We are very thankful to Dr. Anshul Goyal who is a genius doctor and is very kind towards his patients. His way of treatment and consultation is unique and give immense faith to the patients. We really appreciate his efforts and wish him all the very best for his future. We're also very thankful to Dr. Ankita Srivastava for the successful laser in left eye.\n",
      "****************************************************************************************************\n",
      "I have recently got my Lasik- Contoura done by Dr. Ritin Goel. I must tell you guys that my experience was awesome. He is very experienced and performed my procedure beautifully. I didn't even feel a thing. All the staff is friendly, knowledgeable and professional. They answer all questions and the pre-procedure visits, procedure itself, and follow-ups went off without any problem. I highly recommend you guys to get your lasik done from him only.\n",
      "****************************************************************************************************\n"
     ]
    }
   ],
   "source": [
    "from selenium import webdriver\n",
    "from webdriver_manager.chrome import ChromeDriverManager\n",
    "from selenium.webdriver.chrome.options import Options\n",
    "from selenium.webdriver.chrome.service import Service\n",
    "from selenium.webdriver.common.by import By\n",
    "from selenium.webdriver.common.keys import Keys\n",
    "from selenium.webdriver import ActionChains\n",
    "import time\n",
    "\n",
    "\n",
    "\n",
    "options = Options()\n",
    "options.headless = True\n",
    "# As there are possibilities of different chrome\n",
    "# browser and we are not sure under which it get\n",
    "# executed let us use the below syntax\n",
    "driver = webdriver.Chrome(service=Service(ChromeDriverManager().install()), options=options)\n",
    "\n",
    "driver.get(\"https://www.google.com/search?q=rishanku+goyal+rkg+eye+center+hyderabad&safe=strict\")\n",
    "driver.find_element(By.LINK_TEXT, \"180 Google reviews\").click()\n",
    "\n",
    "time.sleep(10)\n",
    "exctracted_comments = []\n",
    "\n",
    "for c in driver.find_elements(By.CLASS_NAME, \"review-full-text\"):\n",
    "    time.sleep(5)\n",
    "    print(c.get_attribute(\"innerText\"))\n",
    "    print(\"*\"*100)\n",
    "    exctracted_comments.append(c.get_attribute(\"innerText\"))"
   ]
  },
  {
   "cell_type": "code",
   "execution_count": 33,
   "id": "45f3e9c9",
   "metadata": {},
   "outputs": [
    {
     "data": {
      "text/plain": [
       "6"
      ]
     },
     "execution_count": 33,
     "metadata": {},
     "output_type": "execute_result"
    }
   ],
   "source": [
    "len(exctracted_comments)"
   ]
  },
  {
   "cell_type": "code",
   "execution_count": null,
   "id": "cbbdc7a4",
   "metadata": {},
   "outputs": [],
   "source": []
  }
 ],
 "metadata": {
  "kernelspec": {
   "display_name": "Python 3 (ipykernel)",
   "language": "python",
   "name": "python3"
  },
  "language_info": {
   "codemirror_mode": {
    "name": "ipython",
    "version": 3
   },
   "file_extension": ".py",
   "mimetype": "text/x-python",
   "name": "python",
   "nbconvert_exporter": "python",
   "pygments_lexer": "ipython3",
   "version": "3.9.13"
  },
  "vscode": {
   "interpreter": {
    "hash": "1152254d1e610f803db0a6fed8bc02d35ce78bc817c0aa9e797ec443b5cb6318"
   }
  }
 },
 "nbformat": 4,
 "nbformat_minor": 5
}
