{
 "cells": [
  {
   "cell_type": "code",
   "execution_count": 1,
   "id": "1b862ef2",
   "metadata": {},
   "outputs": [
    {
     "name": "stderr",
     "output_type": "stream",
     "text": [
      "[nltk_data] Downloading package maxent_ne_chunker to\n",
      "[nltk_data]     /Users/gopalsingh/nltk_data...\n",
      "[nltk_data]   Package maxent_ne_chunker is already up-to-date!\n",
      "[nltk_data] Downloading package words to\n",
      "[nltk_data]     /Users/gopalsingh/nltk_data...\n",
      "[nltk_data]   Package words is already up-to-date!\n",
      "[nltk_data] Downloading package treebank to\n",
      "[nltk_data]     /Users/gopalsingh/nltk_data...\n",
      "[nltk_data]   Package treebank is already up-to-date!\n",
      "[nltk_data] Downloading package maxent_treebank_pos_tagger to\n",
      "[nltk_data]     /Users/gopalsingh/nltk_data...\n",
      "[nltk_data]   Package maxent_treebank_pos_tagger is already up-to-\n",
      "[nltk_data]       date!\n",
      "[nltk_data] Downloading package punkt to\n",
      "[nltk_data]     /Users/gopalsingh/nltk_data...\n",
      "[nltk_data]   Package punkt is already up-to-date!\n",
      "[nltk_data] Downloading package averaged_perceptron_tagger to\n",
      "[nltk_data]     /Users/gopalsingh/nltk_data...\n",
      "[nltk_data]   Package averaged_perceptron_tagger is already up-to-\n",
      "[nltk_data]       date!\n"
     ]
    },
    {
     "data": {
      "text/plain": [
       "True"
      ]
     },
     "execution_count": 1,
     "metadata": {},
     "output_type": "execute_result"
    }
   ],
   "source": [
    "import pandas as pd\n",
    "import re\n",
    "from tqdm import tqdm\n",
    "\n",
    "import matplotlib.pyplot as plt\n",
    "import numpy as np\n",
    "import locationtagger\n",
    "\n",
    "\n",
    "\n",
    "import nltk\n",
    "import spacy\n",
    " \n",
    "# essential entity models downloads\n",
    "nltk.downloader.download('maxent_ne_chunker')\n",
    "nltk.downloader.download('words')\n",
    "nltk.downloader.download('treebank')\n",
    "nltk.downloader.download('maxent_treebank_pos_tagger')\n",
    "nltk.downloader.download('punkt')\n",
    "nltk.download('averaged_perceptron_tagger')"
   ]
  },
  {
   "cell_type": "code",
   "execution_count": 2,
   "id": "a44d1d06",
   "metadata": {},
   "outputs": [
    {
     "name": "stdout",
     "output_type": "stream",
     "text": [
      "The countries in text : \n",
      "[]\n",
      "The states in text : \n",
      "[]\n",
      "The cities in text : \n",
      "[]\n"
     ]
    }
   ],
   "source": [
    " \n",
    "# initializing sample text\n",
    " \n",
    "# extracting entities.\n",
    "\n",
    "text = \"Shop No 1 Kaveri Apartments Ramghat Rd opposite Meenakshi Cinema Sudhama Puri Aligarh Uttar Pradesh 202001\"\n",
    "\n",
    "place_entity = locationtagger.find_locations(text=text)\n",
    "# getting all countries\n",
    "print(\"The countries in text : \")\n",
    "print(place_entity.countries)\n",
    " \n",
    "# getting all states\n",
    "print(\"The states in text : \")\n",
    "print(place_entity.regions)\n",
    " \n",
    "# getting all cities\n",
    "print(\"The cities in text : \")\n",
    "print(place_entity.cities)"
   ]
  },
  {
   "cell_type": "code",
   "execution_count": 3,
   "id": "644e6a25",
   "metadata": {},
   "outputs": [
    {
     "data": {
      "text/html": [
       "<div>\n",
       "<style scoped>\n",
       "    .dataframe tbody tr th:only-of-type {\n",
       "        vertical-align: middle;\n",
       "    }\n",
       "\n",
       "    .dataframe tbody tr th {\n",
       "        vertical-align: top;\n",
       "    }\n",
       "\n",
       "    .dataframe thead th {\n",
       "        text-align: right;\n",
       "    }\n",
       "</style>\n",
       "<table border=\"1\" class=\"dataframe\">\n",
       "  <thead>\n",
       "    <tr style=\"text-align: right;\">\n",
       "      <th></th>\n",
       "      <th>SVAAS_ID</th>\n",
       "      <th>user_id</th>\n",
       "      <th>firstName</th>\n",
       "      <th>middleName</th>\n",
       "      <th>lastName</th>\n",
       "      <th>email</th>\n",
       "      <th>phone</th>\n",
       "      <th>description</th>\n",
       "      <th>pan</th>\n",
       "      <th>mci</th>\n",
       "      <th>...</th>\n",
       "      <th>numberFollowUp</th>\n",
       "      <th>followUpDuration</th>\n",
       "      <th>insuranceProviderId</th>\n",
       "      <th>isActive</th>\n",
       "      <th>ABDM_Healthcare_Professional_ID</th>\n",
       "      <th>SVAAS_DOCTOR_ID</th>\n",
       "      <th>svaasClinicId</th>\n",
       "      <th>tbl_user_phone_number</th>\n",
       "      <th>name</th>\n",
       "      <th>location</th>\n",
       "    </tr>\n",
       "  </thead>\n",
       "  <tbody>\n",
       "    <tr>\n",
       "      <th>0</th>\n",
       "      <td>NaN</td>\n",
       "      <td>NaN</td>\n",
       "      <td>NaN</td>\n",
       "      <td>NaN</td>\n",
       "      <td>NaN</td>\n",
       "      <td>NaN</td>\n",
       "      <td>NaN</td>\n",
       "      <td>NaN</td>\n",
       "      <td>NaN</td>\n",
       "      <td>NaN</td>\n",
       "      <td>...</td>\n",
       "      <td>NaN</td>\n",
       "      <td>NaN</td>\n",
       "      <td>NaN</td>\n",
       "      <td>NaN</td>\n",
       "      <td>NaN</td>\n",
       "      <td>NaN</td>\n",
       "      <td>NaN</td>\n",
       "      <td>NaN</td>\n",
       "      <td>NaN</td>\n",
       "      <td>NaN</td>\n",
       "    </tr>\n",
       "    <tr>\n",
       "      <th>1</th>\n",
       "      <td>NaN</td>\n",
       "      <td>NaN</td>\n",
       "      <td>NaN</td>\n",
       "      <td>NaN</td>\n",
       "      <td>NaN</td>\n",
       "      <td>NaN</td>\n",
       "      <td>NaN</td>\n",
       "      <td>NaN</td>\n",
       "      <td>NaN</td>\n",
       "      <td>NaN</td>\n",
       "      <td>...</td>\n",
       "      <td>NaN</td>\n",
       "      <td>NaN</td>\n",
       "      <td>NaN</td>\n",
       "      <td>NaN</td>\n",
       "      <td>NaN</td>\n",
       "      <td>NaN</td>\n",
       "      <td>NaN</td>\n",
       "      <td>NaN</td>\n",
       "      <td>NaN</td>\n",
       "      <td>NaN</td>\n",
       "    </tr>\n",
       "    <tr>\n",
       "      <th>2</th>\n",
       "      <td>NaN</td>\n",
       "      <td>NaN</td>\n",
       "      <td>NaN</td>\n",
       "      <td>NaN</td>\n",
       "      <td>NaN</td>\n",
       "      <td>NaN</td>\n",
       "      <td>NaN</td>\n",
       "      <td>NaN</td>\n",
       "      <td>NaN</td>\n",
       "      <td>NaN</td>\n",
       "      <td>...</td>\n",
       "      <td>NaN</td>\n",
       "      <td>NaN</td>\n",
       "      <td>NaN</td>\n",
       "      <td>NaN</td>\n",
       "      <td>NaN</td>\n",
       "      <td>NaN</td>\n",
       "      <td>NaN</td>\n",
       "      <td>NaN</td>\n",
       "      <td>NaN</td>\n",
       "      <td>NaN</td>\n",
       "    </tr>\n",
       "    <tr>\n",
       "      <th>3</th>\n",
       "      <td>NaN</td>\n",
       "      <td>NaN</td>\n",
       "      <td>NaN</td>\n",
       "      <td>NaN</td>\n",
       "      <td>NaN</td>\n",
       "      <td>NaN</td>\n",
       "      <td>NaN</td>\n",
       "      <td>NaN</td>\n",
       "      <td>NaN</td>\n",
       "      <td>NaN</td>\n",
       "      <td>...</td>\n",
       "      <td>NaN</td>\n",
       "      <td>NaN</td>\n",
       "      <td>NaN</td>\n",
       "      <td>NaN</td>\n",
       "      <td>NaN</td>\n",
       "      <td>NaN</td>\n",
       "      <td>NaN</td>\n",
       "      <td>NaN</td>\n",
       "      <td>NaN</td>\n",
       "      <td>NaN</td>\n",
       "    </tr>\n",
       "    <tr>\n",
       "      <th>4</th>\n",
       "      <td>NaN</td>\n",
       "      <td>NaN</td>\n",
       "      <td>NaN</td>\n",
       "      <td>NaN</td>\n",
       "      <td>NaN</td>\n",
       "      <td>NaN</td>\n",
       "      <td>NaN</td>\n",
       "      <td>NaN</td>\n",
       "      <td>NaN</td>\n",
       "      <td>NaN</td>\n",
       "      <td>...</td>\n",
       "      <td>NaN</td>\n",
       "      <td>NaN</td>\n",
       "      <td>NaN</td>\n",
       "      <td>NaN</td>\n",
       "      <td>NaN</td>\n",
       "      <td>NaN</td>\n",
       "      <td>NaN</td>\n",
       "      <td>NaN</td>\n",
       "      <td>NaN</td>\n",
       "      <td>NaN</td>\n",
       "    </tr>\n",
       "  </tbody>\n",
       "</table>\n",
       "<p>5 rows × 53 columns</p>\n",
       "</div>"
      ],
      "text/plain": [
       "   SVAAS_ID  user_id firstName middleName lastName email  phone  description  \\\n",
       "0       NaN      NaN       NaN        NaN      NaN   NaN    NaN          NaN   \n",
       "1       NaN      NaN       NaN        NaN      NaN   NaN    NaN          NaN   \n",
       "2       NaN      NaN       NaN        NaN      NaN   NaN    NaN          NaN   \n",
       "3       NaN      NaN       NaN        NaN      NaN   NaN    NaN          NaN   \n",
       "4       NaN      NaN       NaN        NaN      NaN   NaN    NaN          NaN   \n",
       "\n",
       "   pan  mci  ... numberFollowUp followUpDuration insuranceProviderId isActive  \\\n",
       "0  NaN  NaN  ...            NaN              NaN                 NaN      NaN   \n",
       "1  NaN  NaN  ...            NaN              NaN                 NaN      NaN   \n",
       "2  NaN  NaN  ...            NaN              NaN                 NaN      NaN   \n",
       "3  NaN  NaN  ...            NaN              NaN                 NaN      NaN   \n",
       "4  NaN  NaN  ...            NaN              NaN                 NaN      NaN   \n",
       "\n",
       "  ABDM_Healthcare_Professional_ID SVAAS_DOCTOR_ID  svaasClinicId  \\\n",
       "0                             NaN             NaN            NaN   \n",
       "1                             NaN             NaN            NaN   \n",
       "2                             NaN             NaN            NaN   \n",
       "3                             NaN             NaN            NaN   \n",
       "4                             NaN             NaN            NaN   \n",
       "\n",
       "  tbl_user_phone_number  name location  \n",
       "0                   NaN   NaN      NaN  \n",
       "1                   NaN   NaN      NaN  \n",
       "2                   NaN   NaN      NaN  \n",
       "3                   NaN   NaN      NaN  \n",
       "4                   NaN   NaN      NaN  \n",
       "\n",
       "[5 rows x 53 columns]"
      ]
     },
     "execution_count": 3,
     "metadata": {},
     "output_type": "execute_result"
    }
   ],
   "source": [
    "df = pd.read_csv(\"google_review_29_08_v3.csv\")\n",
    "df.head()"
   ]
  },
  {
   "cell_type": "code",
   "execution_count": 4,
   "id": "2c48fe3d",
   "metadata": {},
   "outputs": [
    {
     "data": {
      "text/html": [
       "<div>\n",
       "<style scoped>\n",
       "    .dataframe tbody tr th:only-of-type {\n",
       "        vertical-align: middle;\n",
       "    }\n",
       "\n",
       "    .dataframe tbody tr th {\n",
       "        vertical-align: top;\n",
       "    }\n",
       "\n",
       "    .dataframe thead th {\n",
       "        text-align: right;\n",
       "    }\n",
       "</style>\n",
       "<table border=\"1\" class=\"dataframe\">\n",
       "  <thead>\n",
       "    <tr style=\"text-align: right;\">\n",
       "      <th></th>\n",
       "      <th>firstName</th>\n",
       "      <th>middleName</th>\n",
       "      <th>lastName</th>\n",
       "      <th>name</th>\n",
       "      <th>baseCity</th>\n",
       "    </tr>\n",
       "  </thead>\n",
       "  <tbody>\n",
       "    <tr>\n",
       "      <th>0</th>\n",
       "      <td>NaN</td>\n",
       "      <td>NaN</td>\n",
       "      <td>NaN</td>\n",
       "      <td>NaN</td>\n",
       "      <td>NaN</td>\n",
       "    </tr>\n",
       "    <tr>\n",
       "      <th>1</th>\n",
       "      <td>NaN</td>\n",
       "      <td>NaN</td>\n",
       "      <td>NaN</td>\n",
       "      <td>NaN</td>\n",
       "      <td>NaN</td>\n",
       "    </tr>\n",
       "    <tr>\n",
       "      <th>2</th>\n",
       "      <td>NaN</td>\n",
       "      <td>NaN</td>\n",
       "      <td>NaN</td>\n",
       "      <td>NaN</td>\n",
       "      <td>NaN</td>\n",
       "    </tr>\n",
       "    <tr>\n",
       "      <th>3</th>\n",
       "      <td>NaN</td>\n",
       "      <td>NaN</td>\n",
       "      <td>NaN</td>\n",
       "      <td>NaN</td>\n",
       "      <td>NaN</td>\n",
       "    </tr>\n",
       "    <tr>\n",
       "      <th>4</th>\n",
       "      <td>NaN</td>\n",
       "      <td>NaN</td>\n",
       "      <td>NaN</td>\n",
       "      <td>NaN</td>\n",
       "      <td>NaN</td>\n",
       "    </tr>\n",
       "  </tbody>\n",
       "</table>\n",
       "</div>"
      ],
      "text/plain": [
       "  firstName middleName lastName name baseCity\n",
       "0       NaN        NaN      NaN  NaN      NaN\n",
       "1       NaN        NaN      NaN  NaN      NaN\n",
       "2       NaN        NaN      NaN  NaN      NaN\n",
       "3       NaN        NaN      NaN  NaN      NaN\n",
       "4       NaN        NaN      NaN  NaN      NaN"
      ]
     },
     "execution_count": 4,
     "metadata": {},
     "output_type": "execute_result"
    }
   ],
   "source": [
    "df = df[['firstName', 'middleName', 'lastName', 'name', 'baseCity']]\n",
    "df.head()"
   ]
  },
  {
   "cell_type": "code",
   "execution_count": 5,
   "id": "ee343cb5",
   "metadata": {},
   "outputs": [
    {
     "data": {
      "text/plain": [
       "firstName       20\n",
       "middleName    1532\n",
       "lastName        18\n",
       "name            19\n",
       "baseCity        19\n",
       "dtype: int64"
      ]
     },
     "execution_count": 5,
     "metadata": {},
     "output_type": "execute_result"
    }
   ],
   "source": [
    "df.isna().sum()"
   ]
  },
  {
   "cell_type": "code",
   "execution_count": 6,
   "id": "348cee6a",
   "metadata": {},
   "outputs": [
    {
     "data": {
      "text/html": [
       "<div>\n",
       "<style scoped>\n",
       "    .dataframe tbody tr th:only-of-type {\n",
       "        vertical-align: middle;\n",
       "    }\n",
       "\n",
       "    .dataframe tbody tr th {\n",
       "        vertical-align: top;\n",
       "    }\n",
       "\n",
       "    .dataframe thead th {\n",
       "        text-align: right;\n",
       "    }\n",
       "</style>\n",
       "<table border=\"1\" class=\"dataframe\">\n",
       "  <thead>\n",
       "    <tr style=\"text-align: right;\">\n",
       "      <th></th>\n",
       "      <th>firstName</th>\n",
       "      <th>middleName</th>\n",
       "      <th>lastName</th>\n",
       "      <th>name</th>\n",
       "      <th>baseCity</th>\n",
       "    </tr>\n",
       "  </thead>\n",
       "  <tbody>\n",
       "    <tr>\n",
       "      <th>count</th>\n",
       "      <td>1716</td>\n",
       "      <td>204</td>\n",
       "      <td>1718</td>\n",
       "      <td>1717</td>\n",
       "      <td>1717</td>\n",
       "    </tr>\n",
       "    <tr>\n",
       "      <th>unique</th>\n",
       "      <td>1228</td>\n",
       "      <td>68</td>\n",
       "      <td>1074</td>\n",
       "      <td>1583</td>\n",
       "      <td>15</td>\n",
       "    </tr>\n",
       "    <tr>\n",
       "      <th>top</th>\n",
       "      <td>Rahul</td>\n",
       "      <td></td>\n",
       "      <td>K</td>\n",
       "      <td>SLG HOSPITALS</td>\n",
       "      <td>Hyderabad</td>\n",
       "    </tr>\n",
       "    <tr>\n",
       "      <th>freq</th>\n",
       "      <td>14</td>\n",
       "      <td>78</td>\n",
       "      <td>31</td>\n",
       "      <td>23</td>\n",
       "      <td>524</td>\n",
       "    </tr>\n",
       "  </tbody>\n",
       "</table>\n",
       "</div>"
      ],
      "text/plain": [
       "       firstName middleName lastName           name   baseCity\n",
       "count       1716        204     1718           1717       1717\n",
       "unique      1228         68     1074           1583         15\n",
       "top        Rahul                   K  SLG HOSPITALS  Hyderabad\n",
       "freq          14         78       31             23        524"
      ]
     },
     "execution_count": 6,
     "metadata": {},
     "output_type": "execute_result"
    }
   ],
   "source": [
    "df.describe()"
   ]
  },
  {
   "cell_type": "code",
   "execution_count": 7,
   "id": "92b23930",
   "metadata": {},
   "outputs": [
    {
     "name": "stdout",
     "output_type": "stream",
     "text": [
      "<class 'pandas.core.frame.DataFrame'>\n",
      "RangeIndex: 1736 entries, 0 to 1735\n",
      "Data columns (total 5 columns):\n",
      " #   Column      Non-Null Count  Dtype \n",
      "---  ------      --------------  ----- \n",
      " 0   firstName   1716 non-null   object\n",
      " 1   middleName  204 non-null    object\n",
      " 2   lastName    1718 non-null   object\n",
      " 3   name        1717 non-null   object\n",
      " 4   baseCity    1717 non-null   object\n",
      "dtypes: object(5)\n",
      "memory usage: 67.9+ KB\n"
     ]
    }
   ],
   "source": [
    "df.info()"
   ]
  },
  {
   "cell_type": "markdown",
   "id": "e1ee746c",
   "metadata": {},
   "source": [
    "### Let's calculate the % of missing values"
   ]
  },
  {
   "cell_type": "code",
   "execution_count": 8,
   "id": "5fedec67",
   "metadata": {},
   "outputs": [
    {
     "data": {
      "text/plain": [
       "firstName      1.152074\n",
       "middleName    88.248848\n",
       "lastName       1.036866\n",
       "name           1.094470\n",
       "baseCity       1.094470\n",
       "dtype: float64"
      ]
     },
     "execution_count": 8,
     "metadata": {},
     "output_type": "execute_result"
    }
   ],
   "source": [
    "(df.isna().sum())/len(df) * 100"
   ]
  },
  {
   "cell_type": "markdown",
   "id": "f926f213",
   "metadata": {},
   "source": [
    "It's apparent that middleName columns has the most number of missing values here. "
   ]
  },
  {
   "cell_type": "code",
   "execution_count": 9,
   "id": "5421cc73",
   "metadata": {},
   "outputs": [
    {
     "data": {
      "text/plain": [
       "<AxesSubplot:>"
      ]
     },
     "execution_count": 9,
     "metadata": {},
     "output_type": "execute_result"
    },
    {
     "data": {
      "image/png": "[encoded data removed]",
      "text/plain": [
       "<Figure size 1600x1600 with 1 Axes>"
      ]
     },
     "metadata": {},
     "output_type": "display_data"
    }
   ],
   "source": [
    "plt.figure(figsize=(16, 16))\n",
    "df['middleName'].value_counts().plot.bar()"
   ]
  },
  {
   "cell_type": "markdown",
   "id": "f703a2aa",
   "metadata": {},
   "source": [
    "Kumar is the most common middle name we can observe here."
   ]
  },
  {
   "cell_type": "code",
   "execution_count": 10,
   "id": "0d30c3a1",
   "metadata": {},
   "outputs": [
    {
     "data": {
      "text/html": [
       "<div>\n",
       "<style scoped>\n",
       "    .dataframe tbody tr th:only-of-type {\n",
       "        vertical-align: middle;\n",
       "    }\n",
       "\n",
       "    .dataframe tbody tr th {\n",
       "        vertical-align: top;\n",
       "    }\n",
       "\n",
       "    .dataframe thead th {\n",
       "        text-align: right;\n",
       "    }\n",
       "</style>\n",
       "<table border=\"1\" class=\"dataframe\">\n",
       "  <thead>\n",
       "    <tr style=\"text-align: right;\">\n",
       "      <th></th>\n",
       "      <th>firstName</th>\n",
       "      <th>middleName</th>\n",
       "      <th>lastName</th>\n",
       "      <th>name</th>\n",
       "      <th>baseCity</th>\n",
       "    </tr>\n",
       "  </thead>\n",
       "  <tbody>\n",
       "    <tr>\n",
       "      <th>17</th>\n",
       "      <td>Divya</td>\n",
       "      <td>NaN</td>\n",
       "      <td>Kavuri</td>\n",
       "      <td>Apollo Clinic</td>\n",
       "      <td>Hyderabad</td>\n",
       "    </tr>\n",
       "    <tr>\n",
       "      <th>18</th>\n",
       "      <td>Shivam</td>\n",
       "      <td>NaN</td>\n",
       "      <td>P</td>\n",
       "      <td>Shivam hospitals</td>\n",
       "      <td>Hyderabad</td>\n",
       "    </tr>\n",
       "    <tr>\n",
       "      <th>19</th>\n",
       "      <td>Ranjan</td>\n",
       "      <td>NaN</td>\n",
       "      <td>Dey</td>\n",
       "      <td>Ranjan skin clinics</td>\n",
       "      <td>Hyderabad</td>\n",
       "    </tr>\n",
       "    <tr>\n",
       "      <th>20</th>\n",
       "      <td>Soumya</td>\n",
       "      <td>NaN</td>\n",
       "      <td>Sarkar</td>\n",
       "      <td>Soumya Multi speciality clinic</td>\n",
       "      <td>Hyderabad</td>\n",
       "    </tr>\n",
       "    <tr>\n",
       "      <th>21</th>\n",
       "      <td>Rishanku</td>\n",
       "      <td>NaN</td>\n",
       "      <td>Goyal</td>\n",
       "      <td>RKG Eye Center</td>\n",
       "      <td>Hyderabad</td>\n",
       "    </tr>\n",
       "    <tr>\n",
       "      <th>...</th>\n",
       "      <td>...</td>\n",
       "      <td>...</td>\n",
       "      <td>...</td>\n",
       "      <td>...</td>\n",
       "      <td>...</td>\n",
       "    </tr>\n",
       "    <tr>\n",
       "      <th>1731</th>\n",
       "      <td>Kushang</td>\n",
       "      <td>NaN</td>\n",
       "      <td>Mod</td>\n",
       "      <td>Shivam Children Hospital And Neonatal Care Centre</td>\n",
       "      <td>Ahmedabad</td>\n",
       "    </tr>\n",
       "    <tr>\n",
       "      <th>1732</th>\n",
       "      <td>Dhaval</td>\n",
       "      <td>NaN</td>\n",
       "      <td>Akhani</td>\n",
       "      <td>Childhood Hospital</td>\n",
       "      <td>Ahmedabad</td>\n",
       "    </tr>\n",
       "    <tr>\n",
       "      <th>1733</th>\n",
       "      <td>Keval Patel</td>\n",
       "      <td>NaN</td>\n",
       "      <td>Patel</td>\n",
       "      <td>Jk Dental Hospital Orthodontic &amp; Implant Center</td>\n",
       "      <td>Ahmedabad</td>\n",
       "    </tr>\n",
       "    <tr>\n",
       "      <th>1734</th>\n",
       "      <td>Jinal Patel</td>\n",
       "      <td>NaN</td>\n",
       "      <td>Patel</td>\n",
       "      <td>Jk Dental Hospital Orthodontic &amp; Implant Center</td>\n",
       "      <td>Ahmedabad</td>\n",
       "    </tr>\n",
       "    <tr>\n",
       "      <th>1735</th>\n",
       "      <td>Lavanya</td>\n",
       "      <td>NaN</td>\n",
       "      <td>Yasam</td>\n",
       "      <td>Sai Clinic</td>\n",
       "      <td>Hyderabad</td>\n",
       "    </tr>\n",
       "  </tbody>\n",
       "</table>\n",
       "<p>1716 rows × 5 columns</p>\n",
       "</div>"
      ],
      "text/plain": [
       "        firstName middleName lastName  \\\n",
       "17          Divya        NaN   Kavuri   \n",
       "18         Shivam        NaN        P   \n",
       "19         Ranjan        NaN      Dey   \n",
       "20         Soumya        NaN   Sarkar   \n",
       "21       Rishanku        NaN    Goyal   \n",
       "...           ...        ...      ...   \n",
       "1731      Kushang        NaN      Mod   \n",
       "1732       Dhaval        NaN   Akhani   \n",
       "1733  Keval Patel        NaN    Patel   \n",
       "1734  Jinal Patel        NaN    Patel   \n",
       "1735      Lavanya        NaN    Yasam   \n",
       "\n",
       "                                                   name   baseCity  \n",
       "17                                        Apollo Clinic  Hyderabad  \n",
       "18                                     Shivam hospitals  Hyderabad  \n",
       "19                                  Ranjan skin clinics  Hyderabad  \n",
       "20                       Soumya Multi speciality clinic  Hyderabad  \n",
       "21                                       RKG Eye Center  Hyderabad  \n",
       "...                                                 ...        ...  \n",
       "1731  Shivam Children Hospital And Neonatal Care Centre  Ahmedabad  \n",
       "1732                                 Childhood Hospital  Ahmedabad  \n",
       "1733    Jk Dental Hospital Orthodontic & Implant Center  Ahmedabad  \n",
       "1734    Jk Dental Hospital Orthodontic & Implant Center  Ahmedabad  \n",
       "1735                                         Sai Clinic  Hyderabad  \n",
       "\n",
       "[1716 rows x 5 columns]"
      ]
     },
     "execution_count": 10,
     "metadata": {},
     "output_type": "execute_result"
    }
   ],
   "source": [
    "df[df['firstName'].isna() == False]"
   ]
  },
  {
   "cell_type": "markdown",
   "id": "9b4310f5",
   "metadata": {},
   "source": [
    "### I think, it will be safe to drop the middleName column, and we can proceed with the firstName only here."
   ]
  },
  {
   "cell_type": "code",
   "execution_count": 11,
   "id": "42422e64",
   "metadata": {},
   "outputs": [],
   "source": [
    "df.drop('middleName', axis=1, inplace=True)"
   ]
  },
  {
   "cell_type": "markdown",
   "id": "a57049a8",
   "metadata": {},
   "source": [
    "## Let's seggregate the data based on missing vs non-missing row values"
   ]
  },
  {
   "cell_type": "code",
   "execution_count": 12,
   "id": "6e5eec07",
   "metadata": {},
   "outputs": [],
   "source": [
    "df_not_missing = df.dropna()"
   ]
  },
  {
   "cell_type": "code",
   "execution_count": 13,
   "id": "bbf3e6ea",
   "metadata": {},
   "outputs": [
    {
     "data": {
      "text/html": [
       "<div>\n",
       "<style scoped>\n",
       "    .dataframe tbody tr th:only-of-type {\n",
       "        vertical-align: middle;\n",
       "    }\n",
       "\n",
       "    .dataframe tbody tr th {\n",
       "        vertical-align: top;\n",
       "    }\n",
       "\n",
       "    .dataframe thead th {\n",
       "        text-align: right;\n",
       "    }\n",
       "</style>\n",
       "<table border=\"1\" class=\"dataframe\">\n",
       "  <thead>\n",
       "    <tr style=\"text-align: right;\">\n",
       "      <th></th>\n",
       "      <th>firstName</th>\n",
       "      <th>lastName</th>\n",
       "      <th>name</th>\n",
       "      <th>baseCity</th>\n",
       "    </tr>\n",
       "  </thead>\n",
       "  <tbody>\n",
       "    <tr>\n",
       "      <th>17</th>\n",
       "      <td>Divya</td>\n",
       "      <td>Kavuri</td>\n",
       "      <td>Apollo Clinic</td>\n",
       "      <td>Hyderabad</td>\n",
       "    </tr>\n",
       "    <tr>\n",
       "      <th>18</th>\n",
       "      <td>Shivam</td>\n",
       "      <td>P</td>\n",
       "      <td>Shivam hospitals</td>\n",
       "      <td>Hyderabad</td>\n",
       "    </tr>\n",
       "    <tr>\n",
       "      <th>19</th>\n",
       "      <td>Ranjan</td>\n",
       "      <td>Dey</td>\n",
       "      <td>Ranjan skin clinics</td>\n",
       "      <td>Hyderabad</td>\n",
       "    </tr>\n",
       "    <tr>\n",
       "      <th>20</th>\n",
       "      <td>Soumya</td>\n",
       "      <td>Sarkar</td>\n",
       "      <td>Soumya Multi speciality clinic</td>\n",
       "      <td>Hyderabad</td>\n",
       "    </tr>\n",
       "    <tr>\n",
       "      <th>21</th>\n",
       "      <td>Rishanku</td>\n",
       "      <td>Goyal</td>\n",
       "      <td>RKG Eye Center</td>\n",
       "      <td>Hyderabad</td>\n",
       "    </tr>\n",
       "  </tbody>\n",
       "</table>\n",
       "</div>"
      ],
      "text/plain": [
       "   firstName lastName                            name   baseCity\n",
       "17     Divya   Kavuri                   Apollo Clinic  Hyderabad\n",
       "18    Shivam        P                Shivam hospitals  Hyderabad\n",
       "19    Ranjan      Dey             Ranjan skin clinics  Hyderabad\n",
       "20    Soumya   Sarkar  Soumya Multi speciality clinic  Hyderabad\n",
       "21  Rishanku    Goyal                  RKG Eye Center  Hyderabad"
      ]
     },
     "execution_count": 13,
     "metadata": {},
     "output_type": "execute_result"
    }
   ],
   "source": [
    "df_not_missing.head()"
   ]
  },
  {
   "cell_type": "code",
   "execution_count": 14,
   "id": "bb40a816",
   "metadata": {},
   "outputs": [
    {
     "data": {
      "text/plain": [
       "firstName    0\n",
       "lastName     0\n",
       "name         0\n",
       "baseCity     0\n",
       "dtype: int64"
      ]
     },
     "execution_count": 14,
     "metadata": {},
     "output_type": "execute_result"
    }
   ],
   "source": [
    "df_not_missing.isna().sum()"
   ]
  },
  {
   "cell_type": "code",
   "execution_count": 15,
   "id": "537b2fcc",
   "metadata": {},
   "outputs": [
    {
     "name": "stdout",
     "output_type": "stream",
     "text": [
      "<class 'pandas.core.frame.DataFrame'>\n",
      "Int64Index: 1715 entries, 17 to 1735\n",
      "Data columns (total 4 columns):\n",
      " #   Column     Non-Null Count  Dtype \n",
      "---  ------     --------------  ----- \n",
      " 0   firstName  1715 non-null   object\n",
      " 1   lastName   1715 non-null   object\n",
      " 2   name       1715 non-null   object\n",
      " 3   baseCity   1715 non-null   object\n",
      "dtypes: object(4)\n",
      "memory usage: 67.0+ KB\n"
     ]
    }
   ],
   "source": [
    "df_not_missing.info()"
   ]
  },
  {
   "cell_type": "code",
   "execution_count": 16,
   "id": "961bc3c5",
   "metadata": {},
   "outputs": [
    {
     "name": "stdout",
     "output_type": "stream",
     "text": [
      "1715\n"
     ]
    }
   ],
   "source": [
    "print(len(df_not_missing))"
   ]
  },
  {
   "cell_type": "code",
   "execution_count": 17,
   "id": "33480c13",
   "metadata": {},
   "outputs": [
    {
     "data": {
      "text/plain": [
       "0.9879032258064516"
      ]
     },
     "execution_count": 17,
     "metadata": {},
     "output_type": "execute_result"
    }
   ],
   "source": [
    "len(df_not_missing)/len(df)"
   ]
  },
  {
   "cell_type": "code",
   "execution_count": 18,
   "id": "909ded9e",
   "metadata": {},
   "outputs": [
    {
     "name": "stderr",
     "output_type": "stream",
     "text": [
      "/var/folders/z1/0tn2v83n6pzgl2m8lzz1phbc0000gn/T/ipykernel_51989/4047833984.py:1: SettingWithCopyWarning: \n",
      "A value is trying to be set on a copy of a slice from a DataFrame.\n",
      "Try using .loc[row_indexer,col_indexer] = value instead\n",
      "\n",
      "See the caveats in the documentation: https://pandas.pydata.org/pandas-docs/stable/user_guide/indexing.html#returning-a-view-versus-a-copy\n",
      "  df_not_missing['query'] = df_not_missing['firstName'].apply(lambda x:x.lower()) +\"+\" + df_not_missing['lastName'].apply(lambda x:x.lower()) \\\n"
     ]
    }
   ],
   "source": [
    "df_not_missing['query'] = df_not_missing['firstName'].apply(lambda x:x.lower()) +\"+\" + df_not_missing['lastName'].apply(lambda x:x.lower()) \\\n",
    "                          +\"+\"+ df_not_missing['name'].apply(lambda x:x.lower()) + \"+\" + df_not_missing[\"baseCity\"].apply(lambda x:x.lower())"
   ]
  },
  {
   "cell_type": "code",
   "execution_count": 19,
   "id": "7683467c",
   "metadata": {},
   "outputs": [
    {
     "data": {
      "text/plain": [
       "17                   divya+kavuri+apollo clinic+hyderabad\n",
       "18                    shivam+p+shivam hospitals+hyderabad\n",
       "19               ranjan+dey+ranjan skin clinics+hyderabad\n",
       "20      soumya+sarkar+soumya multi speciality clinic+h...\n",
       "21                rishanku+goyal+rkg eye center+hyderabad\n",
       "                              ...                        \n",
       "1731    kushang+mod+shivam children hospital and neona...\n",
       "1732           dhaval+akhani+childhood hospital+ahmedabad\n",
       "1733    keval patel+patel+jk dental hospital orthodont...\n",
       "1734    jinal patel+patel+jk dental hospital orthodont...\n",
       "1735                   lavanya+yasam+sai clinic+hyderabad\n",
       "Name: query, Length: 1715, dtype: object"
      ]
     },
     "execution_count": 19,
     "metadata": {},
     "output_type": "execute_result"
    }
   ],
   "source": [
    "df_not_missing['query']"
   ]
  },
  {
   "cell_type": "markdown",
   "id": "8836fa3d",
   "metadata": {},
   "source": [
    "## For missing data"
   ]
  },
  {
   "cell_type": "code",
   "execution_count": 20,
   "id": "c0470c89",
   "metadata": {},
   "outputs": [],
   "source": [
    "import preprocess_kgptalkie as ps\n",
    "import re\n",
    "\n",
    "def get_clean(x):\n",
    "    x = str(x).lower().replace('\\\\', '').replace('_', ' ')\n",
    "    x = ps.cont_exp(x)\n",
    "    x = ps.remove_emails(x)\n",
    "    x = ps.remove_urls(x)\n",
    "    x = ps.remove_html_tags(x)\n",
    "    x = ps.remove_rt(x)\n",
    "    x = ps.remove_accented_chars(x)\n",
    "    x = ps.remove_special_chars(x)\n",
    "    x = re.sub(\"(.)\\\\1{2,}\", \"\\\\1\", x)\n",
    "    return x\n",
    "\n",
    "\n"
   ]
  },
  {
   "cell_type": "code",
   "execution_count": 21,
   "id": "e2eafedb",
   "metadata": {},
   "outputs": [
    {
     "name": "stderr",
     "output_type": "stream",
     "text": [
      "/var/folders/z1/0tn2v83n6pzgl2m8lzz1phbc0000gn/T/ipykernel_51989/153722280.py:1: SettingWithCopyWarning: \n",
      "A value is trying to be set on a copy of a slice from a DataFrame.\n",
      "Try using .loc[row_indexer,col_indexer] = value instead\n",
      "\n",
      "See the caveats in the documentation: https://pandas.pydata.org/pandas-docs/stable/user_guide/indexing.html#returning-a-view-versus-a-copy\n",
      "  df_not_missing['query'] = df_not_missing['query'].apply(lambda x:ps.remove_accented_chars(x))\n"
     ]
    },
    {
     "data": {
      "text/plain": [
       "17                 divya+kavuri+apollo clinic+hyderabad\n",
       "18                  shivam+p+shivam hospitals+hyderabad\n",
       "19             ranjan+dey+ranjan skin clinics+hyderabad\n",
       "20    soumya+sarkar+soumya multi speciality clinic+h...\n",
       "21              rishanku+goyal+rkg eye center+hyderabad\n",
       "Name: query, dtype: object"
      ]
     },
     "execution_count": 21,
     "metadata": {},
     "output_type": "execute_result"
    }
   ],
   "source": [
    "df_not_missing['query'] = df_not_missing['query'].apply(lambda x:ps.remove_accented_chars(x))\n",
    "df_not_missing['query'].head()"
   ]
  },
  {
   "cell_type": "code",
   "execution_count": 22,
   "id": "bc265424",
   "metadata": {},
   "outputs": [
    {
     "data": {
      "text/plain": [
       "1715"
      ]
     },
     "execution_count": 22,
     "metadata": {},
     "output_type": "execute_result"
    }
   ],
   "source": [
    "len(df_not_missing['query'].values)"
   ]
  },
  {
   "cell_type": "code",
   "execution_count": 23,
   "id": "6bd5d1c1",
   "metadata": {},
   "outputs": [],
   "source": [
    "from collections import defaultdict\n",
    "\n",
    "final_df = defaultdict(list)"
   ]
  },
  {
   "cell_type": "code",
   "execution_count": 24,
   "id": "e095027c",
   "metadata": {},
   "outputs": [],
   "source": [
    "df_not_missing = df_not_missing[['firstName', 'lastName', 'name', 'baseCity','query']]"
   ]
  },
  {
   "cell_type": "code",
   "execution_count": 25,
   "id": "be9c2b0b",
   "metadata": {},
   "outputs": [],
   "source": [
    "# df_ch = df_not_missing[df_not_missing['baseCity'] == 'Chennai']\n",
    "# df_ch.isna().sum()"
   ]
  },
  {
   "cell_type": "code",
   "execution_count": 26,
   "id": "82cc7b64",
   "metadata": {},
   "outputs": [],
   "source": [
    "def isDigit(char):\n",
    "    pattern = \"^[-+]?[0-9]*\\.?[0-9]+(e[-+]?[0-9]+)?$\"\n",
    "    reg = re.compile(pattern)\n",
    "    if reg.match(char):\n",
    "        return True\n",
    "    return False"
   ]
  },
  {
   "cell_type": "code",
   "execution_count": 39,
   "id": "c06e3a20",
   "metadata": {},
   "outputs": [
    {
     "ename": "SyntaxError",
     "evalue": "invalid syntax (1046385845.py, line 51)",
     "output_type": "error",
     "traceback": [
      "\u001b[0;36m  Input \u001b[0;32mIn [39]\u001b[0;36m\u001b[0m\n\u001b[0;31m    address = soup.find_all(\"span\", class_=\"LrzXr\")\u001b[0m\n\u001b[0m    ^\u001b[0m\n\u001b[0;31mSyntaxError\u001b[0m\u001b[0;31m:\u001b[0m invalid syntax\n"
     ]
    }
   ],
   "source": [
    "from bs4 import BeautifulSoup\n",
    "import urllib.request\n",
    "import numpy as np\n",
    "\n",
    "def extractReviews(df_not_missing):\n",
    "    queries = df_not_missing['query'].values\n",
    "\n",
    "    for i in tqdm(range(len(queries))):\n",
    "        query = queries[i]\n",
    "        query = \"+\".join(query.split(\" \"))\n",
    "        url = 'https://google.com/search?q='+query\n",
    "        print(url)\n",
    "\n",
    "        request = urllib.request.Request(url)\n",
    "        request.add_header('User-Agent', 'Mozilla/5.0 (Macintosh; Intel Mac OS X 10_15_6) AppleWebKit/537.36 (KHTML, like Gecko) Chrome/87.0.4280.88 Safari/537.36')\n",
    "        raw_response = urllib.request.urlopen(request).read()\n",
    "\n",
    "        # Read the repsonse as a utf-8 string\n",
    "        html = raw_response.decode(\"utf-8\")\n",
    "\n",
    "        soup = BeautifulSoup(html, 'html.parser')\n",
    "\n",
    "        divs = soup.find_all(\"span\", class_=\"Aq14fc\")\n",
    "        spans = soup.find_all(\"span\", class_=\"hqzQac\")\n",
    "        practo_divs = soup.find_all(\"div\", class_=\"fG8Fp uo4vr\")\n",
    "\n",
    "        if len(divs) > 0:\n",
    "            for div, span, practo in zip(divs, spans, practo_divs):\n",
    "                # Search for a h3 tag\n",
    "                rating = div.get_text()\n",
    "                greviews = span.get_text()\n",
    "                prac = practo.get_text()\n",
    "                print(greviews)\n",
    "                greviews = [ps.remove_special_chars(i) for i in greviews.split(\" \")]\n",
    "                greviews = [i for i in greviews if isDigit(i)][0]\n",
    "    #             print(\"Rating: \", rating, \"Number of Reviews: \", greviews)\n",
    "                final_df['firstName'].append(df_not_missing.iloc[i]['firstName'])\n",
    "                final_df['lastName'].append(df_not_missing.iloc[i]['lastName'])\n",
    "                final_df['clinicName'].append(df_not_missing.iloc[i]['name'])\n",
    "                final_df['baseCity'].append(df_not_missing.iloc[i]['baseCity'])\n",
    "    #             print(df_not_missing.iloc[i]['baseCity'])\n",
    "                final_df['GoogleNRs'].append(float(greviews)\n",
    "                final_df['practColumn'].append(prac)\n",
    "\n",
    "                if rating is None:\n",
    "                    print(\"Appending None!\")\n",
    "                    final_df['rating'].append(\"NA\")\n",
    "                else:\n",
    "                    address = soup.find_all(\"span\", class_=\"LrzXr\")\n",
    "    #                 print(df_not_missing.iloc[i]['baseCity'] in address[0].get_text())\n",
    "    #                 print(address[0].get_text())\n",
    "                    text = address[0].get_text()\n",
    "                    text = ps.remove_accented_chars(text)\n",
    "                    text = ps.remove_special_chars(text)\n",
    "                    text = ps.remove_html_tags(text)\n",
    "\n",
    "                    text = text.split(\" \")\n",
    "                    print(text)\n",
    "                    print(text[-4:][:-1])\n",
    "                    city = \" \".join(text[-4:][:-1])\n",
    "\n",
    "                    print(\"city: \", city)\n",
    "\n",
    "\n",
    "                    final_df['extractedCity'].append(city)\n",
    "                    if city == df_not_missing.iloc[i]['baseCity']:\n",
    "                        print(\"Cities are matched!\")\n",
    "                        final_df['matched'].append(True)\n",
    "                    else:\n",
    "                        final_df['matched'].append(False)\n",
    "                    final_df['rating'].append(rating)\n",
    "                    \n",
    "    return final_df\n",
    "\n",
    "    #             print(div.get_text())\n"
   ]
  },
  {
   "cell_type": "code",
   "execution_count": 28,
   "id": "f3359b65",
   "metadata": {},
   "outputs": [
    {
     "ename": "NameError",
     "evalue": "name 'extractReviews' is not defined",
     "output_type": "error",
     "traceback": [
      "\u001b[0;31m---------------------------------------------------------------------------\u001b[0m",
      "\u001b[0;31mNameError\u001b[0m                                 Traceback (most recent call last)",
      "Input \u001b[0;32mIn [28]\u001b[0m, in \u001b[0;36m<cell line: 1>\u001b[0;34m()\u001b[0m\n\u001b[0;32m----> 1\u001b[0m final_df \u001b[38;5;241m=\u001b[39m \u001b[43mextractReviews\u001b[49m(df_not_missing)\n",
      "\u001b[0;31mNameError\u001b[0m: name 'extractReviews' is not defined"
     ]
    }
   ],
   "source": [
    "final_df = extractReviews(df_not_missing)"
   ]
  },
  {
   "cell_type": "code",
   "execution_count": null,
   "id": "4e71e82a",
   "metadata": {},
   "outputs": [],
   "source": [
    "pd.DataFrame(final_df).to_csv(\"output_v3_ch.csv\", index=False)"
   ]
  },
  {
   "cell_type": "code",
   "execution_count": null,
   "id": "4220a0a9",
   "metadata": {},
   "outputs": [],
   "source": [
    "df_final = pd.DataFrame(final_df)"
   ]
  },
  {
   "cell_type": "code",
   "execution_count": 46,
   "id": "b5147083",
   "metadata": {},
   "outputs": [
    {
     "data": {
      "text/html": [
       "<div>\n",
       "<style scoped>\n",
       "    .dataframe tbody tr th:only-of-type {\n",
       "        vertical-align: middle;\n",
       "    }\n",
       "\n",
       "    .dataframe tbody tr th {\n",
       "        vertical-align: top;\n",
       "    }\n",
       "\n",
       "    .dataframe thead th {\n",
       "        text-align: right;\n",
       "    }\n",
       "</style>\n",
       "<table border=\"1\" class=\"dataframe\">\n",
       "  <thead>\n",
       "    <tr style=\"text-align: right;\">\n",
       "      <th></th>\n",
       "      <th>firstName</th>\n",
       "      <th>lastName</th>\n",
       "      <th>clinicName</th>\n",
       "      <th>baseCity</th>\n",
       "      <th>GoogleNRs</th>\n",
       "      <th>extractedCity</th>\n",
       "      <th>matched</th>\n",
       "      <th>rating</th>\n",
       "    </tr>\n",
       "  </thead>\n",
       "  <tbody>\n",
       "    <tr>\n",
       "      <th>0</th>\n",
       "      <td>Ranjan</td>\n",
       "      <td>Dey</td>\n",
       "      <td>Ranjan skin clinics</td>\n",
       "      <td>Hyderabad</td>\n",
       "      <td>176.0</td>\n",
       "      <td>Aligarh Uttar Pradesh</td>\n",
       "      <td>False</td>\n",
       "      <td>3.9</td>\n",
       "    </tr>\n",
       "    <tr>\n",
       "      <th>1</th>\n",
       "      <td>Soumya</td>\n",
       "      <td>Sarkar</td>\n",
       "      <td>Soumya Multi speciality clinic</td>\n",
       "      <td>Hyderabad</td>\n",
       "      <td>195.0</td>\n",
       "      <td>Karkhana Secunderabad Telangana</td>\n",
       "      <td>False</td>\n",
       "      <td>3.9</td>\n",
       "    </tr>\n",
       "    <tr>\n",
       "      <th>2</th>\n",
       "      <td>Rishanku</td>\n",
       "      <td>Goyal</td>\n",
       "      <td>RKG Eye Center</td>\n",
       "      <td>Hyderabad</td>\n",
       "      <td>175.0</td>\n",
       "      <td>New Delhi Delhi</td>\n",
       "      <td>False</td>\n",
       "      <td>4.2</td>\n",
       "    </tr>\n",
       "    <tr>\n",
       "      <th>3</th>\n",
       "      <td>Ranjan</td>\n",
       "      <td>Dey</td>\n",
       "      <td>Ranjan skin clinics</td>\n",
       "      <td>Hyderabad</td>\n",
       "      <td>176.0</td>\n",
       "      <td>Aligarh Uttar Pradesh</td>\n",
       "      <td>False</td>\n",
       "      <td>3.9</td>\n",
       "    </tr>\n",
       "    <tr>\n",
       "      <th>4</th>\n",
       "      <td>Soumya</td>\n",
       "      <td>Sarkar</td>\n",
       "      <td>Soumya Multi speciality clinic</td>\n",
       "      <td>Hyderabad</td>\n",
       "      <td>195.0</td>\n",
       "      <td>Karkhana Secunderabad Telangana</td>\n",
       "      <td>False</td>\n",
       "      <td>3.9</td>\n",
       "    </tr>\n",
       "  </tbody>\n",
       "</table>\n",
       "</div>"
      ],
      "text/plain": [
       "  firstName lastName                      clinicName   baseCity  GoogleNRs  \\\n",
       "0    Ranjan      Dey             Ranjan skin clinics  Hyderabad      176.0   \n",
       "1    Soumya   Sarkar  Soumya Multi speciality clinic  Hyderabad      195.0   \n",
       "2  Rishanku    Goyal                  RKG Eye Center  Hyderabad      175.0   \n",
       "3    Ranjan      Dey             Ranjan skin clinics  Hyderabad      176.0   \n",
       "4    Soumya   Sarkar  Soumya Multi speciality clinic  Hyderabad      195.0   \n",
       "\n",
       "                     extractedCity  matched rating  \n",
       "0            Aligarh Uttar Pradesh    False    3.9  \n",
       "1  Karkhana Secunderabad Telangana    False    3.9  \n",
       "2                  New Delhi Delhi    False    4.2  \n",
       "3            Aligarh Uttar Pradesh    False    3.9  \n",
       "4  Karkhana Secunderabad Telangana    False    3.9  "
      ]
     },
     "execution_count": 46,
     "metadata": {},
     "output_type": "execute_result"
    }
   ],
   "source": [
    "df_final"
   ]
  },
  {
   "cell_type": "code",
   "execution_count": null,
   "id": "6c27c5fe",
   "metadata": {},
   "outputs": [],
   "source": [
    "df.columns"
   ]
  },
  {
   "cell_type": "code",
   "execution_count": null,
   "id": "c18f7498",
   "metadata": {},
   "outputs": [],
   "source": [
    "pd.merge(df, df_final, how='outer').to_csv(\"full_output_30_aug_2022.csv\", index=False)"
   ]
  },
  {
   "cell_type": "code",
   "execution_count": 28,
   "id": "0f593e5f",
   "metadata": {},
   "outputs": [
    {
     "data": {
      "text/html": [
       "<div>\n",
       "<style scoped>\n",
       "    .dataframe tbody tr th:only-of-type {\n",
       "        vertical-align: middle;\n",
       "    }\n",
       "\n",
       "    .dataframe tbody tr th {\n",
       "        vertical-align: top;\n",
       "    }\n",
       "\n",
       "    .dataframe thead th {\n",
       "        text-align: right;\n",
       "    }\n",
       "</style>\n",
       "<table border=\"1\" class=\"dataframe\">\n",
       "  <thead>\n",
       "    <tr style=\"text-align: right;\">\n",
       "      <th></th>\n",
       "      <th>firstName</th>\n",
       "      <th>lastName</th>\n",
       "      <th>name</th>\n",
       "      <th>baseCity</th>\n",
       "      <th>clinicName</th>\n",
       "      <th>GoogleNRs</th>\n",
       "      <th>rating</th>\n",
       "    </tr>\n",
       "  </thead>\n",
       "  <tbody>\n",
       "    <tr>\n",
       "      <th>0</th>\n",
       "      <td>NaN</td>\n",
       "      <td>NaN</td>\n",
       "      <td>NaN</td>\n",
       "      <td>NaN</td>\n",
       "      <td>NaN</td>\n",
       "      <td>NaN</td>\n",
       "      <td>NaN</td>\n",
       "    </tr>\n",
       "    <tr>\n",
       "      <th>1</th>\n",
       "      <td>NaN</td>\n",
       "      <td>NaN</td>\n",
       "      <td>NaN</td>\n",
       "      <td>NaN</td>\n",
       "      <td>NaN</td>\n",
       "      <td>NaN</td>\n",
       "      <td>NaN</td>\n",
       "    </tr>\n",
       "    <tr>\n",
       "      <th>2</th>\n",
       "      <td>NaN</td>\n",
       "      <td>NaN</td>\n",
       "      <td>NaN</td>\n",
       "      <td>NaN</td>\n",
       "      <td>NaN</td>\n",
       "      <td>NaN</td>\n",
       "      <td>NaN</td>\n",
       "    </tr>\n",
       "    <tr>\n",
       "      <th>3</th>\n",
       "      <td>NaN</td>\n",
       "      <td>NaN</td>\n",
       "      <td>NaN</td>\n",
       "      <td>NaN</td>\n",
       "      <td>NaN</td>\n",
       "      <td>NaN</td>\n",
       "      <td>NaN</td>\n",
       "    </tr>\n",
       "    <tr>\n",
       "      <th>4</th>\n",
       "      <td>NaN</td>\n",
       "      <td>NaN</td>\n",
       "      <td>NaN</td>\n",
       "      <td>NaN</td>\n",
       "      <td>NaN</td>\n",
       "      <td>NaN</td>\n",
       "      <td>NaN</td>\n",
       "    </tr>\n",
       "    <tr>\n",
       "      <th>...</th>\n",
       "      <td>...</td>\n",
       "      <td>...</td>\n",
       "      <td>...</td>\n",
       "      <td>...</td>\n",
       "      <td>...</td>\n",
       "      <td>...</td>\n",
       "      <td>...</td>\n",
       "    </tr>\n",
       "    <tr>\n",
       "      <th>1747</th>\n",
       "      <td>Kushang</td>\n",
       "      <td>Mod</td>\n",
       "      <td>Shivam Children Hospital And Neonatal Care Centre</td>\n",
       "      <td>Ahmedabad</td>\n",
       "      <td>Shivam Children Hospital And Neonatal Care Centre</td>\n",
       "      <td>18.0</td>\n",
       "      <td>2.9</td>\n",
       "    </tr>\n",
       "    <tr>\n",
       "      <th>1748</th>\n",
       "      <td>Dhaval</td>\n",
       "      <td>Akhani</td>\n",
       "      <td>Childhood Hospital</td>\n",
       "      <td>Ahmedabad</td>\n",
       "      <td>Childhood Hospital</td>\n",
       "      <td>436.0</td>\n",
       "      <td>4.9</td>\n",
       "    </tr>\n",
       "    <tr>\n",
       "      <th>1749</th>\n",
       "      <td>Keval Patel</td>\n",
       "      <td>Patel</td>\n",
       "      <td>Jk Dental Hospital Orthodontic &amp; Implant Center</td>\n",
       "      <td>Ahmedabad</td>\n",
       "      <td>Jk Dental Hospital Orthodontic &amp; Implant Center</td>\n",
       "      <td>12.0</td>\n",
       "      <td>5.0</td>\n",
       "    </tr>\n",
       "    <tr>\n",
       "      <th>1750</th>\n",
       "      <td>Jinal Patel</td>\n",
       "      <td>Patel</td>\n",
       "      <td>Jk Dental Hospital Orthodontic &amp; Implant Center</td>\n",
       "      <td>Ahmedabad</td>\n",
       "      <td>Jk Dental Hospital Orthodontic &amp; Implant Center</td>\n",
       "      <td>3.0</td>\n",
       "      <td>4.0</td>\n",
       "    </tr>\n",
       "    <tr>\n",
       "      <th>1751</th>\n",
       "      <td>Lavanya</td>\n",
       "      <td>Yasam</td>\n",
       "      <td>Sai Clinic</td>\n",
       "      <td>Hyderabad</td>\n",
       "      <td>Sai Clinic</td>\n",
       "      <td>4.0</td>\n",
       "      <td>4.3</td>\n",
       "    </tr>\n",
       "  </tbody>\n",
       "</table>\n",
       "<p>1752 rows × 7 columns</p>\n",
       "</div>"
      ],
      "text/plain": [
       "        firstName lastName                                               name  \\\n",
       "0             NaN      NaN                                                NaN   \n",
       "1             NaN      NaN                                                NaN   \n",
       "2             NaN      NaN                                                NaN   \n",
       "3             NaN      NaN                                                NaN   \n",
       "4             NaN      NaN                                                NaN   \n",
       "...           ...      ...                                                ...   \n",
       "1747      Kushang      Mod  Shivam Children Hospital And Neonatal Care Centre   \n",
       "1748       Dhaval   Akhani                                 Childhood Hospital   \n",
       "1749  Keval Patel    Patel    Jk Dental Hospital Orthodontic & Implant Center   \n",
       "1750  Jinal Patel    Patel    Jk Dental Hospital Orthodontic & Implant Center   \n",
       "1751      Lavanya    Yasam                                         Sai Clinic   \n",
       "\n",
       "       baseCity                                         clinicName  GoogleNRs  \\\n",
       "0           NaN                                                NaN        NaN   \n",
       "1           NaN                                                NaN        NaN   \n",
       "2           NaN                                                NaN        NaN   \n",
       "3           NaN                                                NaN        NaN   \n",
       "4           NaN                                                NaN        NaN   \n",
       "...         ...                                                ...        ...   \n",
       "1747  Ahmedabad  Shivam Children Hospital And Neonatal Care Centre       18.0   \n",
       "1748  Ahmedabad                                 Childhood Hospital      436.0   \n",
       "1749  Ahmedabad    Jk Dental Hospital Orthodontic & Implant Center       12.0   \n",
       "1750  Ahmedabad    Jk Dental Hospital Orthodontic & Implant Center        3.0   \n",
       "1751  Hyderabad                                         Sai Clinic        4.0   \n",
       "\n",
       "      rating  \n",
       "0        NaN  \n",
       "1        NaN  \n",
       "2        NaN  \n",
       "3        NaN  \n",
       "4        NaN  \n",
       "...      ...  \n",
       "1747     2.9  \n",
       "1748     4.9  \n",
       "1749     5.0  \n",
       "1750     4.0  \n",
       "1751     4.3  \n",
       "\n",
       "[1752 rows x 7 columns]"
      ]
     },
     "execution_count": 28,
     "metadata": {},
     "output_type": "execute_result"
    }
   ],
   "source": [
    "pd.read_csv(\"full_output_30_aug_2022.csv\")"
   ]
  },
  {
   "cell_type": "code",
   "execution_count": null,
   "id": "78499a38",
   "metadata": {},
   "outputs": [],
   "source": [
    "df"
   ]
  },
  {
   "cell_type": "markdown",
   "id": "8d6bc02c",
   "metadata": {},
   "source": [
    "### Processing for NA"
   ]
  },
  {
   "cell_type": "code",
   "execution_count": 29,
   "id": "bd4684a5",
   "metadata": {},
   "outputs": [
    {
     "data": {
      "text/html": [
       "<div>\n",
       "<style scoped>\n",
       "    .dataframe tbody tr th:only-of-type {\n",
       "        vertical-align: middle;\n",
       "    }\n",
       "\n",
       "    .dataframe tbody tr th {\n",
       "        vertical-align: top;\n",
       "    }\n",
       "\n",
       "    .dataframe thead th {\n",
       "        text-align: right;\n",
       "    }\n",
       "</style>\n",
       "<table border=\"1\" class=\"dataframe\">\n",
       "  <thead>\n",
       "    <tr style=\"text-align: right;\">\n",
       "      <th></th>\n",
       "      <th>firstName</th>\n",
       "      <th>lastName</th>\n",
       "      <th>name</th>\n",
       "      <th>baseCity</th>\n",
       "      <th>clinicName</th>\n",
       "      <th>GoogleNRs</th>\n",
       "      <th>rating</th>\n",
       "    </tr>\n",
       "  </thead>\n",
       "  <tbody>\n",
       "    <tr>\n",
       "      <th>0</th>\n",
       "      <td>NaN</td>\n",
       "      <td>NaN</td>\n",
       "      <td>NaN</td>\n",
       "      <td>NaN</td>\n",
       "      <td>NaN</td>\n",
       "      <td>NaN</td>\n",
       "      <td>NaN</td>\n",
       "    </tr>\n",
       "    <tr>\n",
       "      <th>1</th>\n",
       "      <td>NaN</td>\n",
       "      <td>NaN</td>\n",
       "      <td>NaN</td>\n",
       "      <td>NaN</td>\n",
       "      <td>NaN</td>\n",
       "      <td>NaN</td>\n",
       "      <td>NaN</td>\n",
       "    </tr>\n",
       "    <tr>\n",
       "      <th>2</th>\n",
       "      <td>NaN</td>\n",
       "      <td>NaN</td>\n",
       "      <td>NaN</td>\n",
       "      <td>NaN</td>\n",
       "      <td>NaN</td>\n",
       "      <td>NaN</td>\n",
       "      <td>NaN</td>\n",
       "    </tr>\n",
       "    <tr>\n",
       "      <th>3</th>\n",
       "      <td>NaN</td>\n",
       "      <td>NaN</td>\n",
       "      <td>NaN</td>\n",
       "      <td>NaN</td>\n",
       "      <td>NaN</td>\n",
       "      <td>NaN</td>\n",
       "      <td>NaN</td>\n",
       "    </tr>\n",
       "    <tr>\n",
       "      <th>4</th>\n",
       "      <td>NaN</td>\n",
       "      <td>NaN</td>\n",
       "      <td>NaN</td>\n",
       "      <td>NaN</td>\n",
       "      <td>NaN</td>\n",
       "      <td>NaN</td>\n",
       "      <td>NaN</td>\n",
       "    </tr>\n",
       "  </tbody>\n",
       "</table>\n",
       "</div>"
      ],
      "text/plain": [
       "  firstName lastName name baseCity clinicName  GoogleNRs  rating\n",
       "0       NaN      NaN  NaN      NaN        NaN        NaN     NaN\n",
       "1       NaN      NaN  NaN      NaN        NaN        NaN     NaN\n",
       "2       NaN      NaN  NaN      NaN        NaN        NaN     NaN\n",
       "3       NaN      NaN  NaN      NaN        NaN        NaN     NaN\n",
       "4       NaN      NaN  NaN      NaN        NaN        NaN     NaN"
      ]
     },
     "execution_count": 29,
     "metadata": {},
     "output_type": "execute_result"
    }
   ],
   "source": [
    "df = pd.read_csv(\"full_output_30_aug_2022.csv\")\n",
    "df.head()"
   ]
  },
  {
   "cell_type": "code",
   "execution_count": 32,
   "id": "5ca98276",
   "metadata": {},
   "outputs": [],
   "source": [
    "df_na = df[df['rating'].isna() == True]"
   ]
  },
  {
   "cell_type": "code",
   "execution_count": 36,
   "id": "54a974ff",
   "metadata": {},
   "outputs": [],
   "source": [
    "df_na = df_na[df_na['firstName'].isna()!=True].drop('clinicName', axis=1)"
   ]
  },
  {
   "cell_type": "code",
   "execution_count": 39,
   "id": "5b7d84a6",
   "metadata": {},
   "outputs": [],
   "source": [
    "df_na.columns = ['firstName', 'lastName', 'name', 'baseCity', 'GoogleNRs', 'googleRating']"
   ]
  },
  {
   "cell_type": "code",
   "execution_count": 40,
   "id": "090c73e1",
   "metadata": {},
   "outputs": [
    {
     "data": {
      "text/html": [
       "<div>\n",
       "<style scoped>\n",
       "    .dataframe tbody tr th:only-of-type {\n",
       "        vertical-align: middle;\n",
       "    }\n",
       "\n",
       "    .dataframe tbody tr th {\n",
       "        vertical-align: top;\n",
       "    }\n",
       "\n",
       "    .dataframe thead th {\n",
       "        text-align: right;\n",
       "    }\n",
       "</style>\n",
       "<table border=\"1\" class=\"dataframe\">\n",
       "  <thead>\n",
       "    <tr style=\"text-align: right;\">\n",
       "      <th></th>\n",
       "      <th>firstName</th>\n",
       "      <th>lastName</th>\n",
       "      <th>name</th>\n",
       "      <th>baseCity</th>\n",
       "      <th>GoogleNRs</th>\n",
       "      <th>googleRating</th>\n",
       "    </tr>\n",
       "  </thead>\n",
       "  <tbody>\n",
       "    <tr>\n",
       "      <th>18</th>\n",
       "      <td>Divya</td>\n",
       "      <td>Kavuri</td>\n",
       "      <td>Apollo Clinic</td>\n",
       "      <td>Hyderabad</td>\n",
       "      <td>NaN</td>\n",
       "      <td>NaN</td>\n",
       "    </tr>\n",
       "    <tr>\n",
       "      <th>19</th>\n",
       "      <td>Shivam</td>\n",
       "      <td>P</td>\n",
       "      <td>Shivam hospitals</td>\n",
       "      <td>Hyderabad</td>\n",
       "      <td>NaN</td>\n",
       "      <td>NaN</td>\n",
       "    </tr>\n",
       "    <tr>\n",
       "      <th>23</th>\n",
       "      <td>Mamatha</td>\n",
       "      <td>R</td>\n",
       "      <td>Mamatha Clinics</td>\n",
       "      <td>Hyderabad</td>\n",
       "      <td>NaN</td>\n",
       "      <td>NaN</td>\n",
       "    </tr>\n",
       "    <tr>\n",
       "      <th>25</th>\n",
       "      <td>B</td>\n",
       "      <td>Ramesh</td>\n",
       "      <td>Aditya Medical Complex</td>\n",
       "      <td>Visakhapatnam</td>\n",
       "      <td>NaN</td>\n",
       "      <td>NaN</td>\n",
       "    </tr>\n",
       "    <tr>\n",
       "      <th>30</th>\n",
       "      <td>Sreeniavsa Rao</td>\n",
       "      <td>Reddy</td>\n",
       "      <td>Sri Srinivasa Gastro &amp; Liver Centre</td>\n",
       "      <td>Visakhapatnam</td>\n",
       "      <td>NaN</td>\n",
       "      <td>NaN</td>\n",
       "    </tr>\n",
       "    <tr>\n",
       "      <th>...</th>\n",
       "      <td>...</td>\n",
       "      <td>...</td>\n",
       "      <td>...</td>\n",
       "      <td>...</td>\n",
       "      <td>...</td>\n",
       "      <td>...</td>\n",
       "    </tr>\n",
       "    <tr>\n",
       "      <th>1727</th>\n",
       "      <td>Dhirena</td>\n",
       "      <td>Sanandiya</td>\n",
       "      <td>Vaibhav Clinic</td>\n",
       "      <td>Ahmedabad</td>\n",
       "      <td>NaN</td>\n",
       "      <td>NaN</td>\n",
       "    </tr>\n",
       "    <tr>\n",
       "      <th>1728</th>\n",
       "      <td>Rakesh</td>\n",
       "      <td>Sanol</td>\n",
       "      <td>Sadbhavna Hospital</td>\n",
       "      <td>Ahmedabad</td>\n",
       "      <td>NaN</td>\n",
       "      <td>NaN</td>\n",
       "    </tr>\n",
       "    <tr>\n",
       "      <th>1735</th>\n",
       "      <td>Lal</td>\n",
       "      <td>Daga</td>\n",
       "      <td>Dr LalS Heart Centre</td>\n",
       "      <td>Ahmedabad</td>\n",
       "      <td>NaN</td>\n",
       "      <td>NaN</td>\n",
       "    </tr>\n",
       "    <tr>\n",
       "      <th>1744</th>\n",
       "      <td>Narayan</td>\n",
       "      <td>Varma</td>\n",
       "      <td>Pakhi Hospital</td>\n",
       "      <td>Ahmedabad</td>\n",
       "      <td>NaN</td>\n",
       "      <td>NaN</td>\n",
       "    </tr>\n",
       "    <tr>\n",
       "      <th>1746</th>\n",
       "      <td>Jatin</td>\n",
       "      <td>Lathiya</td>\n",
       "      <td>Neuroexperts</td>\n",
       "      <td>Ahmedabad</td>\n",
       "      <td>NaN</td>\n",
       "      <td>NaN</td>\n",
       "    </tr>\n",
       "  </tbody>\n",
       "</table>\n",
       "<p>413 rows × 6 columns</p>\n",
       "</div>"
      ],
      "text/plain": [
       "           firstName   lastName                                 name  \\\n",
       "18             Divya     Kavuri                        Apollo Clinic   \n",
       "19            Shivam          P                     Shivam hospitals   \n",
       "23           Mamatha          R                      Mamatha Clinics   \n",
       "25                B      Ramesh               Aditya Medical Complex   \n",
       "30    Sreeniavsa Rao      Reddy  Sri Srinivasa Gastro & Liver Centre   \n",
       "...              ...        ...                                  ...   \n",
       "1727         Dhirena  Sanandiya                       Vaibhav Clinic   \n",
       "1728          Rakesh      Sanol                   Sadbhavna Hospital   \n",
       "1735             Lal       Daga                Dr LalS Heart Centre   \n",
       "1744         Narayan      Varma                       Pakhi Hospital   \n",
       "1746           Jatin    Lathiya                         Neuroexperts   \n",
       "\n",
       "           baseCity  GoogleNRs  googleRating  \n",
       "18        Hyderabad        NaN           NaN  \n",
       "19        Hyderabad        NaN           NaN  \n",
       "23        Hyderabad        NaN           NaN  \n",
       "25    Visakhapatnam        NaN           NaN  \n",
       "30    Visakhapatnam        NaN           NaN  \n",
       "...             ...        ...           ...  \n",
       "1727      Ahmedabad        NaN           NaN  \n",
       "1728      Ahmedabad        NaN           NaN  \n",
       "1735      Ahmedabad        NaN           NaN  \n",
       "1744      Ahmedabad        NaN           NaN  \n",
       "1746      Ahmedabad        NaN           NaN  \n",
       "\n",
       "[413 rows x 6 columns]"
      ]
     },
     "execution_count": 40,
     "metadata": {},
     "output_type": "execute_result"
    }
   ],
   "source": [
    "df_na"
   ]
  },
  {
   "cell_type": "code",
   "execution_count": null,
   "id": "84a876fe",
   "metadata": {},
   "outputs": [],
   "source": []
  }
 ],
 "metadata": {
  "kernelspec": {
   "display_name": "Python 3 (ipykernel)",
   "language": "python",
   "name": "python3"
  },
  "language_info": {
   "codemirror_mode": {
    "name": "ipython",
    "version": 3
   },
   "file_extension": ".py",
   "mimetype": "text/x-python",
   "name": "python",
   "nbconvert_exporter": "python",
   "pygments_lexer": "ipython3",
   "version": "3.9.13"
  },
  "vscode": {
   "interpreter": {
    "hash": "1152254d1e610f803db0a6fed8bc02d35ce78bc817c0aa9e797ec443b5cb6318"
   }
  }
 },
 "nbformat": 4,
 "nbformat_minor": 5
}
