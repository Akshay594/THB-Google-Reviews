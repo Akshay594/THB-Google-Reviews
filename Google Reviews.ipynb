{
 "cells": [
  {
   "cell_type": "code",
   "execution_count": 1,
   "id": "1b862ef2",
   "metadata": {},
   "outputs": [
    {
     "name": "stderr",
     "output_type": "stream",
     "text": [
      "[nltk_data] Downloading package maxent_ne_chunker to\n",
      "[nltk_data]     /Users/gopalsingh/nltk_data...\n",
      "[nltk_data]   Package maxent_ne_chunker is already up-to-date!\n",
      "[nltk_data] Downloading package words to\n",
      "[nltk_data]     /Users/gopalsingh/nltk_data...\n",
      "[nltk_data]   Package words is already up-to-date!\n",
      "[nltk_data] Downloading package treebank to\n",
      "[nltk_data]     /Users/gopalsingh/nltk_data...\n",
      "[nltk_data]   Package treebank is already up-to-date!\n",
      "[nltk_data] Downloading package maxent_treebank_pos_tagger to\n",
      "[nltk_data]     /Users/gopalsingh/nltk_data...\n",
      "[nltk_data]   Package maxent_treebank_pos_tagger is already up-to-\n",
      "[nltk_data]       date!\n",
      "[nltk_data] Downloading package punkt to\n",
      "[nltk_data]     /Users/gopalsingh/nltk_data...\n",
      "[nltk_data]   Package punkt is already up-to-date!\n",
      "[nltk_data] Downloading package averaged_perceptron_tagger to\n",
      "[nltk_data]     /Users/gopalsingh/nltk_data...\n",
      "[nltk_data]   Package averaged_perceptron_tagger is already up-to-\n",
      "[nltk_data]       date!\n"
     ]
    },
    {
     "data": {
      "text/plain": [
       "True"
      ]
     },
     "execution_count": 1,
     "metadata": {},
     "output_type": "execute_result"
    }
   ],
   "source": [
    "import pandas as pd\n",
    "import re\n",
    "from tqdm import tqdm\n",
    "\n",
    "import matplotlib.pyplot as plt\n",
    "import numpy as np\n",
    "import locationtagger\n",
    "\n",
    "\n",
    "\n",
    "import nltk\n",
    "import spacy\n",
    " \n",
    "# essential entity models downloads\n",
    "nltk.downloader.download('maxent_ne_chunker')\n",
    "nltk.downloader.download('words')\n",
    "nltk.downloader.download('treebank')\n",
    "nltk.downloader.download('maxent_treebank_pos_tagger')\n",
    "nltk.downloader.download('punkt')\n",
    "nltk.download('averaged_perceptron_tagger')"
   ]
  },
  {
   "cell_type": "code",
   "execution_count": 2,
   "id": "a44d1d06",
   "metadata": {},
   "outputs": [
    {
     "name": "stdout",
     "output_type": "stream",
     "text": [
      "The countries in text : \n",
      "[]\n",
      "The states in text : \n",
      "[]\n",
      "The cities in text : \n",
      "[]\n"
     ]
    }
   ],
   "source": [
    " \n",
    "# initializing sample text\n",
    " \n",
    "# extracting entities.\n",
    "\n",
    "text = \"Shop No 1 Kaveri Apartments Ramghat Rd opposite Meenakshi Cinema Sudhama Puri Aligarh Uttar Pradesh 202001\"\n",
    "\n",
    "place_entity = locationtagger.find_locations(text=text)\n",
    "# getting all countries\n",
    "print(\"The countries in text : \")\n",
    "print(place_entity.countries)\n",
    " \n",
    "# getting all states\n",
    "print(\"The states in text : \")\n",
    "print(place_entity.regions)\n",
    " \n",
    "# getting all cities\n",
    "print(\"The cities in text : \")\n",
    "print(place_entity.cities)"
   ]
  },
  {
   "cell_type": "code",
   "execution_count": 3,
   "id": "644e6a25",
   "metadata": {},
   "outputs": [
    {
     "data": {
      "text/html": [
       "<div>\n",
       "<style scoped>\n",
       "    .dataframe tbody tr th:only-of-type {\n",
       "        vertical-align: middle;\n",
       "    }\n",
       "\n",
       "    .dataframe tbody tr th {\n",
       "        vertical-align: top;\n",
       "    }\n",
       "\n",
       "    .dataframe thead th {\n",
       "        text-align: right;\n",
       "    }\n",
       "</style>\n",
       "<table border=\"1\" class=\"dataframe\">\n",
       "  <thead>\n",
       "    <tr style=\"text-align: right;\">\n",
       "      <th></th>\n",
       "      <th>SVAAS_ID</th>\n",
       "      <th>user_id</th>\n",
       "      <th>firstName</th>\n",
       "      <th>middleName</th>\n",
       "      <th>lastName</th>\n",
       "      <th>email</th>\n",
       "      <th>phone</th>\n",
       "      <th>description</th>\n",
       "      <th>pan</th>\n",
       "      <th>mci</th>\n",
       "      <th>...</th>\n",
       "      <th>numberFollowUp</th>\n",
       "      <th>followUpDuration</th>\n",
       "      <th>insuranceProviderId</th>\n",
       "      <th>isActive</th>\n",
       "      <th>ABDM_Healthcare_Professional_ID</th>\n",
       "      <th>SVAAS_DOCTOR_ID</th>\n",
       "      <th>svaasClinicId</th>\n",
       "      <th>tbl_user_phone_number</th>\n",
       "      <th>name</th>\n",
       "      <th>location</th>\n",
       "    </tr>\n",
       "  </thead>\n",
       "  <tbody>\n",
       "    <tr>\n",
       "      <th>0</th>\n",
       "      <td>NaN</td>\n",
       "      <td>NaN</td>\n",
       "      <td>NaN</td>\n",
       "      <td>NaN</td>\n",
       "      <td>NaN</td>\n",
       "      <td>NaN</td>\n",
       "      <td>NaN</td>\n",
       "      <td>NaN</td>\n",
       "      <td>NaN</td>\n",
       "      <td>NaN</td>\n",
       "      <td>...</td>\n",
       "      <td>NaN</td>\n",
       "      <td>NaN</td>\n",
       "      <td>NaN</td>\n",
       "      <td>NaN</td>\n",
       "      <td>NaN</td>\n",
       "      <td>NaN</td>\n",
       "      <td>NaN</td>\n",
       "      <td>NaN</td>\n",
       "      <td>NaN</td>\n",
       "      <td>NaN</td>\n",
       "    </tr>\n",
       "    <tr>\n",
       "      <th>1</th>\n",
       "      <td>NaN</td>\n",
       "      <td>NaN</td>\n",
       "      <td>NaN</td>\n",
       "      <td>NaN</td>\n",
       "      <td>NaN</td>\n",
       "      <td>NaN</td>\n",
       "      <td>NaN</td>\n",
       "      <td>NaN</td>\n",
       "      <td>NaN</td>\n",
       "      <td>NaN</td>\n",
       "      <td>...</td>\n",
       "      <td>NaN</td>\n",
       "      <td>NaN</td>\n",
       "      <td>NaN</td>\n",
       "      <td>NaN</td>\n",
       "      <td>NaN</td>\n",
       "      <td>NaN</td>\n",
       "      <td>NaN</td>\n",
       "      <td>NaN</td>\n",
       "      <td>NaN</td>\n",
       "      <td>NaN</td>\n",
       "    </tr>\n",
       "    <tr>\n",
       "      <th>2</th>\n",
       "      <td>NaN</td>\n",
       "      <td>NaN</td>\n",
       "      <td>NaN</td>\n",
       "      <td>NaN</td>\n",
       "      <td>NaN</td>\n",
       "      <td>NaN</td>\n",
       "      <td>NaN</td>\n",
       "      <td>NaN</td>\n",
       "      <td>NaN</td>\n",
       "      <td>NaN</td>\n",
       "      <td>...</td>\n",
       "      <td>NaN</td>\n",
       "      <td>NaN</td>\n",
       "      <td>NaN</td>\n",
       "      <td>NaN</td>\n",
       "      <td>NaN</td>\n",
       "      <td>NaN</td>\n",
       "      <td>NaN</td>\n",
       "      <td>NaN</td>\n",
       "      <td>NaN</td>\n",
       "      <td>NaN</td>\n",
       "    </tr>\n",
       "    <tr>\n",
       "      <th>3</th>\n",
       "      <td>NaN</td>\n",
       "      <td>NaN</td>\n",
       "      <td>NaN</td>\n",
       "      <td>NaN</td>\n",
       "      <td>NaN</td>\n",
       "      <td>NaN</td>\n",
       "      <td>NaN</td>\n",
       "      <td>NaN</td>\n",
       "      <td>NaN</td>\n",
       "      <td>NaN</td>\n",
       "      <td>...</td>\n",
       "      <td>NaN</td>\n",
       "      <td>NaN</td>\n",
       "      <td>NaN</td>\n",
       "      <td>NaN</td>\n",
       "      <td>NaN</td>\n",
       "      <td>NaN</td>\n",
       "      <td>NaN</td>\n",
       "      <td>NaN</td>\n",
       "      <td>NaN</td>\n",
       "      <td>NaN</td>\n",
       "    </tr>\n",
       "    <tr>\n",
       "      <th>4</th>\n",
       "      <td>NaN</td>\n",
       "      <td>NaN</td>\n",
       "      <td>NaN</td>\n",
       "      <td>NaN</td>\n",
       "      <td>NaN</td>\n",
       "      <td>NaN</td>\n",
       "      <td>NaN</td>\n",
       "      <td>NaN</td>\n",
       "      <td>NaN</td>\n",
       "      <td>NaN</td>\n",
       "      <td>...</td>\n",
       "      <td>NaN</td>\n",
       "      <td>NaN</td>\n",
       "      <td>NaN</td>\n",
       "      <td>NaN</td>\n",
       "      <td>NaN</td>\n",
       "      <td>NaN</td>\n",
       "      <td>NaN</td>\n",
       "      <td>NaN</td>\n",
       "      <td>NaN</td>\n",
       "      <td>NaN</td>\n",
       "    </tr>\n",
       "  </tbody>\n",
       "</table>\n",
       "<p>5 rows × 53 columns</p>\n",
       "</div>"
      ],
      "text/plain": [
       "   SVAAS_ID  user_id firstName middleName lastName email  phone  description  \\\n",
       "0       NaN      NaN       NaN        NaN      NaN   NaN    NaN          NaN   \n",
       "1       NaN      NaN       NaN        NaN      NaN   NaN    NaN          NaN   \n",
       "2       NaN      NaN       NaN        NaN      NaN   NaN    NaN          NaN   \n",
       "3       NaN      NaN       NaN        NaN      NaN   NaN    NaN          NaN   \n",
       "4       NaN      NaN       NaN        NaN      NaN   NaN    NaN          NaN   \n",
       "\n",
       "   pan  mci  ... numberFollowUp followUpDuration insuranceProviderId isActive  \\\n",
       "0  NaN  NaN  ...            NaN              NaN                 NaN      NaN   \n",
       "1  NaN  NaN  ...            NaN              NaN                 NaN      NaN   \n",
       "2  NaN  NaN  ...            NaN              NaN                 NaN      NaN   \n",
       "3  NaN  NaN  ...            NaN              NaN                 NaN      NaN   \n",
       "4  NaN  NaN  ...            NaN              NaN                 NaN      NaN   \n",
       "\n",
       "  ABDM_Healthcare_Professional_ID SVAAS_DOCTOR_ID  svaasClinicId  \\\n",
       "0                             NaN             NaN            NaN   \n",
       "1                             NaN             NaN            NaN   \n",
       "2                             NaN             NaN            NaN   \n",
       "3                             NaN             NaN            NaN   \n",
       "4                             NaN             NaN            NaN   \n",
       "\n",
       "  tbl_user_phone_number  name location  \n",
       "0                   NaN   NaN      NaN  \n",
       "1                   NaN   NaN      NaN  \n",
       "2                   NaN   NaN      NaN  \n",
       "3                   NaN   NaN      NaN  \n",
       "4                   NaN   NaN      NaN  \n",
       "\n",
       "[5 rows x 53 columns]"
      ]
     },
     "execution_count": 3,
     "metadata": {},
     "output_type": "execute_result"
    }
   ],
   "source": [
    "df = pd.read_csv(\"google_review_29_08_v3.csv\")\n",
    "df.head()"
   ]
  },
  {
   "cell_type": "code",
   "execution_count": 4,
   "id": "2c48fe3d",
   "metadata": {},
   "outputs": [
    {
     "data": {
      "text/html": [
       "<div>\n",
       "<style scoped>\n",
       "    .dataframe tbody tr th:only-of-type {\n",
       "        vertical-align: middle;\n",
       "    }\n",
       "\n",
       "    .dataframe tbody tr th {\n",
       "        vertical-align: top;\n",
       "    }\n",
       "\n",
       "    .dataframe thead th {\n",
       "        text-align: right;\n",
       "    }\n",
       "</style>\n",
       "<table border=\"1\" class=\"dataframe\">\n",
       "  <thead>\n",
       "    <tr style=\"text-align: right;\">\n",
       "      <th></th>\n",
       "      <th>firstName</th>\n",
       "      <th>middleName</th>\n",
       "      <th>lastName</th>\n",
       "      <th>name</th>\n",
       "      <th>baseCity</th>\n",
       "    </tr>\n",
       "  </thead>\n",
       "  <tbody>\n",
       "    <tr>\n",
       "      <th>0</th>\n",
       "      <td>NaN</td>\n",
       "      <td>NaN</td>\n",
       "      <td>NaN</td>\n",
       "      <td>NaN</td>\n",
       "      <td>NaN</td>\n",
       "    </tr>\n",
       "    <tr>\n",
       "      <th>1</th>\n",
       "      <td>NaN</td>\n",
       "      <td>NaN</td>\n",
       "      <td>NaN</td>\n",
       "      <td>NaN</td>\n",
       "      <td>NaN</td>\n",
       "    </tr>\n",
       "    <tr>\n",
       "      <th>2</th>\n",
       "      <td>NaN</td>\n",
       "      <td>NaN</td>\n",
       "      <td>NaN</td>\n",
       "      <td>NaN</td>\n",
       "      <td>NaN</td>\n",
       "    </tr>\n",
       "    <tr>\n",
       "      <th>3</th>\n",
       "      <td>NaN</td>\n",
       "      <td>NaN</td>\n",
       "      <td>NaN</td>\n",
       "      <td>NaN</td>\n",
       "      <td>NaN</td>\n",
       "    </tr>\n",
       "    <tr>\n",
       "      <th>4</th>\n",
       "      <td>NaN</td>\n",
       "      <td>NaN</td>\n",
       "      <td>NaN</td>\n",
       "      <td>NaN</td>\n",
       "      <td>NaN</td>\n",
       "    </tr>\n",
       "  </tbody>\n",
       "</table>\n",
       "</div>"
      ],
      "text/plain": [
       "  firstName middleName lastName name baseCity\n",
       "0       NaN        NaN      NaN  NaN      NaN\n",
       "1       NaN        NaN      NaN  NaN      NaN\n",
       "2       NaN        NaN      NaN  NaN      NaN\n",
       "3       NaN        NaN      NaN  NaN      NaN\n",
       "4       NaN        NaN      NaN  NaN      NaN"
      ]
     },
     "execution_count": 4,
     "metadata": {},
     "output_type": "execute_result"
    }
   ],
   "source": [
    "df = df[['firstName', 'middleName', 'lastName', 'name', 'baseCity']]\n",
    "df.head()"
   ]
  },
  {
   "cell_type": "code",
   "execution_count": 5,
   "id": "ee343cb5",
   "metadata": {},
   "outputs": [
    {
     "data": {
      "text/plain": [
       "firstName       20\n",
       "middleName    1532\n",
       "lastName        18\n",
       "name            19\n",
       "baseCity        19\n",
       "dtype: int64"
      ]
     },
     "execution_count": 5,
     "metadata": {},
     "output_type": "execute_result"
    }
   ],
   "source": [
    "df.isna().sum()"
   ]
  },
  {
   "cell_type": "code",
   "execution_count": 6,
   "id": "348cee6a",
   "metadata": {},
   "outputs": [
    {
     "data": {
      "text/html": [
       "<div>\n",
       "<style scoped>\n",
       "    .dataframe tbody tr th:only-of-type {\n",
       "        vertical-align: middle;\n",
       "    }\n",
       "\n",
       "    .dataframe tbody tr th {\n",
       "        vertical-align: top;\n",
       "    }\n",
       "\n",
       "    .dataframe thead th {\n",
       "        text-align: right;\n",
       "    }\n",
       "</style>\n",
       "<table border=\"1\" class=\"dataframe\">\n",
       "  <thead>\n",
       "    <tr style=\"text-align: right;\">\n",
       "      <th></th>\n",
       "      <th>firstName</th>\n",
       "      <th>middleName</th>\n",
       "      <th>lastName</th>\n",
       "      <th>name</th>\n",
       "      <th>baseCity</th>\n",
       "    </tr>\n",
       "  </thead>\n",
       "  <tbody>\n",
       "    <tr>\n",
       "      <th>count</th>\n",
       "      <td>1716</td>\n",
       "      <td>204</td>\n",
       "      <td>1718</td>\n",
       "      <td>1717</td>\n",
       "      <td>1717</td>\n",
       "    </tr>\n",
       "    <tr>\n",
       "      <th>unique</th>\n",
       "      <td>1228</td>\n",
       "      <td>68</td>\n",
       "      <td>1074</td>\n",
       "      <td>1583</td>\n",
       "      <td>15</td>\n",
       "    </tr>\n",
       "    <tr>\n",
       "      <th>top</th>\n",
       "      <td>Rahul</td>\n",
       "      <td></td>\n",
       "      <td>K</td>\n",
       "      <td>SLG HOSPITALS</td>\n",
       "      <td>Hyderabad</td>\n",
       "    </tr>\n",
       "    <tr>\n",
       "      <th>freq</th>\n",
       "      <td>14</td>\n",
       "      <td>78</td>\n",
       "      <td>31</td>\n",
       "      <td>23</td>\n",
       "      <td>524</td>\n",
       "    </tr>\n",
       "  </tbody>\n",
       "</table>\n",
       "</div>"
      ],
      "text/plain": [
       "       firstName middleName lastName           name   baseCity\n",
       "count       1716        204     1718           1717       1717\n",
       "unique      1228         68     1074           1583         15\n",
       "top        Rahul                   K  SLG HOSPITALS  Hyderabad\n",
       "freq          14         78       31             23        524"
      ]
     },
     "execution_count": 6,
     "metadata": {},
     "output_type": "execute_result"
    }
   ],
   "source": [
    "df.describe()"
   ]
  },
  {
   "cell_type": "code",
   "execution_count": 7,
   "id": "92b23930",
   "metadata": {},
   "outputs": [
    {
     "name": "stdout",
     "output_type": "stream",
     "text": [
      "<class 'pandas.core.frame.DataFrame'>\n",
      "RangeIndex: 1736 entries, 0 to 1735\n",
      "Data columns (total 5 columns):\n",
      " #   Column      Non-Null Count  Dtype \n",
      "---  ------      --------------  ----- \n",
      " 0   firstName   1716 non-null   object\n",
      " 1   middleName  204 non-null    object\n",
      " 2   lastName    1718 non-null   object\n",
      " 3   name        1717 non-null   object\n",
      " 4   baseCity    1717 non-null   object\n",
      "dtypes: object(5)\n",
      "memory usage: 67.9+ KB\n"
     ]
    }
   ],
   "source": [
    "df.info()"
   ]
  },
  {
   "cell_type": "markdown",
   "id": "e1ee746c",
   "metadata": {},
   "source": [
    "### Let's calculate the % of missing values"
   ]
  },
  {
   "cell_type": "code",
   "execution_count": 8,
   "id": "5fedec67",
   "metadata": {},
   "outputs": [
    {
     "data": {
      "text/plain": [
       "firstName      1.152074\n",
       "middleName    88.248848\n",
       "lastName       1.036866\n",
       "name           1.094470\n",
       "baseCity       1.094470\n",
       "dtype: float64"
      ]
     },
     "execution_count": 8,
     "metadata": {},
     "output_type": "execute_result"
    }
   ],
   "source": [
    "(df.isna().sum())/len(df) * 100"
   ]
  },
  {
   "cell_type": "markdown",
   "id": "f926f213",
   "metadata": {},
   "source": [
    "It's apparent that middleName columns has the most number of missing values here. "
   ]
  },
  {
   "cell_type": "code",
   "execution_count": 9,
   "id": "5421cc73",
   "metadata": {},
   "outputs": [
    {
     "data": {
      "text/plain": [
       "<AxesSubplot:>"
      ]
     },
     "execution_count": 9,
     "metadata": {},
     "output_type": "execute_result"
    },
    {
     "data": {
      "image/png": "[encoded data removed]",
      "text/plain": [
       "<Figure size 1600x1600 with 1 Axes>"
      ]
     },
     "metadata": {},
     "output_type": "display_data"
    }
   ],
   "source": [
    "plt.figure(figsize=(16, 16))\n",
    "df['middleName'].value_counts().plot.bar()"
   ]
  },
  {
   "cell_type": "markdown",
   "id": "f703a2aa",
   "metadata": {},
   "source": [
    "Kumar is the most common middle name we can observe here."
   ]
  },
  {
   "cell_type": "code",
   "execution_count": 10,
   "id": "0d30c3a1",
   "metadata": {},
   "outputs": [
    {
     "data": {
      "text/html": [
       "<div>\n",
       "<style scoped>\n",
       "    .dataframe tbody tr th:only-of-type {\n",
       "        vertical-align: middle;\n",
       "    }\n",
       "\n",
       "    .dataframe tbody tr th {\n",
       "        vertical-align: top;\n",
       "    }\n",
       "\n",
       "    .dataframe thead th {\n",
       "        text-align: right;\n",
       "    }\n",
       "</style>\n",
       "<table border=\"1\" class=\"dataframe\">\n",
       "  <thead>\n",
       "    <tr style=\"text-align: right;\">\n",
       "      <th></th>\n",
       "      <th>firstName</th>\n",
       "      <th>middleName</th>\n",
       "      <th>lastName</th>\n",
       "      <th>name</th>\n",
       "      <th>baseCity</th>\n",
       "    </tr>\n",
       "  </thead>\n",
       "  <tbody>\n",
       "    <tr>\n",
       "      <th>17</th>\n",
       "      <td>Divya</td>\n",
       "      <td>NaN</td>\n",
       "      <td>Kavuri</td>\n",
       "      <td>Apollo Clinic</td>\n",
       "      <td>Hyderabad</td>\n",
       "    </tr>\n",
       "    <tr>\n",
       "      <th>18</th>\n",
       "      <td>Shivam</td>\n",
       "      <td>NaN</td>\n",
       "      <td>P</td>\n",
       "      <td>Shivam hospitals</td>\n",
       "      <td>Hyderabad</td>\n",
       "    </tr>\n",
       "    <tr>\n",
       "      <th>19</th>\n",
       "      <td>Ranjan</td>\n",
       "      <td>NaN</td>\n",
       "      <td>Dey</td>\n",
       "      <td>Ranjan skin clinics</td>\n",
       "      <td>Hyderabad</td>\n",
       "    </tr>\n",
       "    <tr>\n",
       "      <th>20</th>\n",
       "      <td>Soumya</td>\n",
       "      <td>NaN</td>\n",
       "      <td>Sarkar</td>\n",
       "      <td>Soumya Multi speciality clinic</td>\n",
       "      <td>Hyderabad</td>\n",
       "    </tr>\n",
       "    <tr>\n",
       "      <th>21</th>\n",
       "      <td>Rishanku</td>\n",
       "      <td>NaN</td>\n",
       "      <td>Goyal</td>\n",
       "      <td>RKG Eye Center</td>\n",
       "      <td>Hyderabad</td>\n",
       "    </tr>\n",
       "    <tr>\n",
       "      <th>...</th>\n",
       "      <td>...</td>\n",
       "      <td>...</td>\n",
       "      <td>...</td>\n",
       "      <td>...</td>\n",
       "      <td>...</td>\n",
       "    </tr>\n",
       "    <tr>\n",
       "      <th>1731</th>\n",
       "      <td>Kushang</td>\n",
       "      <td>NaN</td>\n",
       "      <td>Mod</td>\n",
       "      <td>Shivam Children Hospital And Neonatal Care Centre</td>\n",
       "      <td>Ahmedabad</td>\n",
       "    </tr>\n",
       "    <tr>\n",
       "      <th>1732</th>\n",
       "      <td>Dhaval</td>\n",
       "      <td>NaN</td>\n",
       "      <td>Akhani</td>\n",
       "      <td>Childhood Hospital</td>\n",
       "      <td>Ahmedabad</td>\n",
       "    </tr>\n",
       "    <tr>\n",
       "      <th>1733</th>\n",
       "      <td>Keval Patel</td>\n",
       "      <td>NaN</td>\n",
       "      <td>Patel</td>\n",
       "      <td>Jk Dental Hospital Orthodontic &amp; Implant Center</td>\n",
       "      <td>Ahmedabad</td>\n",
       "    </tr>\n",
       "    <tr>\n",
       "      <th>1734</th>\n",
       "      <td>Jinal Patel</td>\n",
       "      <td>NaN</td>\n",
       "      <td>Patel</td>\n",
       "      <td>Jk Dental Hospital Orthodontic &amp; Implant Center</td>\n",
       "      <td>Ahmedabad</td>\n",
       "    </tr>\n",
       "    <tr>\n",
       "      <th>1735</th>\n",
       "      <td>Lavanya</td>\n",
       "      <td>NaN</td>\n",
       "      <td>Yasam</td>\n",
       "      <td>Sai Clinic</td>\n",
       "      <td>Hyderabad</td>\n",
       "    </tr>\n",
       "  </tbody>\n",
       "</table>\n",
       "<p>1716 rows × 5 columns</p>\n",
       "</div>"
      ],
      "text/plain": [
       "        firstName middleName lastName  \\\n",
       "17          Divya        NaN   Kavuri   \n",
       "18         Shivam        NaN        P   \n",
       "19         Ranjan        NaN      Dey   \n",
       "20         Soumya        NaN   Sarkar   \n",
       "21       Rishanku        NaN    Goyal   \n",
       "...           ...        ...      ...   \n",
       "1731      Kushang        NaN      Mod   \n",
       "1732       Dhaval        NaN   Akhani   \n",
       "1733  Keval Patel        NaN    Patel   \n",
       "1734  Jinal Patel        NaN    Patel   \n",
       "1735      Lavanya        NaN    Yasam   \n",
       "\n",
       "                                                   name   baseCity  \n",
       "17                                        Apollo Clinic  Hyderabad  \n",
       "18                                     Shivam hospitals  Hyderabad  \n",
       "19                                  Ranjan skin clinics  Hyderabad  \n",
       "20                       Soumya Multi speciality clinic  Hyderabad  \n",
       "21                                       RKG Eye Center  Hyderabad  \n",
       "...                                                 ...        ...  \n",
       "1731  Shivam Children Hospital And Neonatal Care Centre  Ahmedabad  \n",
       "1732                                 Childhood Hospital  Ahmedabad  \n",
       "1733    Jk Dental Hospital Orthodontic & Implant Center  Ahmedabad  \n",
       "1734    Jk Dental Hospital Orthodontic & Implant Center  Ahmedabad  \n",
       "1735                                         Sai Clinic  Hyderabad  \n",
       "\n",
       "[1716 rows x 5 columns]"
      ]
     },
     "execution_count": 10,
     "metadata": {},
     "output_type": "execute_result"
    }
   ],
   "source": [
    "df[df['firstName'].isna() == False]"
   ]
  },
  {
   "cell_type": "markdown",
   "id": "9b4310f5",
   "metadata": {},
   "source": [
    "### I think, it will be safe to drop the middleName column, and we can proceed with the firstName only here."
   ]
  },
  {
   "cell_type": "code",
   "execution_count": 11,
   "id": "42422e64",
   "metadata": {},
   "outputs": [],
   "source": [
    "df.drop('middleName', axis=1, inplace=True)"
   ]
  },
  {
   "cell_type": "markdown",
   "id": "a57049a8",
   "metadata": {},
   "source": [
    "## Let's seggregate the data based on missing vs non-missing row values"
   ]
  },
  {
   "cell_type": "code",
   "execution_count": 12,
   "id": "6e5eec07",
   "metadata": {},
   "outputs": [],
   "source": [
    "df_not_missing = df.dropna()"
   ]
  },
  {
   "cell_type": "code",
   "execution_count": 13,
   "id": "bbf3e6ea",
   "metadata": {},
   "outputs": [
    {
     "data": {
      "text/html": [
       "<div>\n",
       "<style scoped>\n",
       "    .dataframe tbody tr th:only-of-type {\n",
       "        vertical-align: middle;\n",
       "    }\n",
       "\n",
       "    .dataframe tbody tr th {\n",
       "        vertical-align: top;\n",
       "    }\n",
       "\n",
       "    .dataframe thead th {\n",
       "        text-align: right;\n",
       "    }\n",
       "</style>\n",
       "<table border=\"1\" class=\"dataframe\">\n",
       "  <thead>\n",
       "    <tr style=\"text-align: right;\">\n",
       "      <th></th>\n",
       "      <th>firstName</th>\n",
       "      <th>lastName</th>\n",
       "      <th>name</th>\n",
       "      <th>baseCity</th>\n",
       "    </tr>\n",
       "  </thead>\n",
       "  <tbody>\n",
       "    <tr>\n",
       "      <th>17</th>\n",
       "      <td>Divya</td>\n",
       "      <td>Kavuri</td>\n",
       "      <td>Apollo Clinic</td>\n",
       "      <td>Hyderabad</td>\n",
       "    </tr>\n",
       "    <tr>\n",
       "      <th>18</th>\n",
       "      <td>Shivam</td>\n",
       "      <td>P</td>\n",
       "      <td>Shivam hospitals</td>\n",
       "      <td>Hyderabad</td>\n",
       "    </tr>\n",
       "    <tr>\n",
       "      <th>19</th>\n",
       "      <td>Ranjan</td>\n",
       "      <td>Dey</td>\n",
       "      <td>Ranjan skin clinics</td>\n",
       "      <td>Hyderabad</td>\n",
       "    </tr>\n",
       "    <tr>\n",
       "      <th>20</th>\n",
       "      <td>Soumya</td>\n",
       "      <td>Sarkar</td>\n",
       "      <td>Soumya Multi speciality clinic</td>\n",
       "      <td>Hyderabad</td>\n",
       "    </tr>\n",
       "    <tr>\n",
       "      <th>21</th>\n",
       "      <td>Rishanku</td>\n",
       "      <td>Goyal</td>\n",
       "      <td>RKG Eye Center</td>\n",
       "      <td>Hyderabad</td>\n",
       "    </tr>\n",
       "  </tbody>\n",
       "</table>\n",
       "</div>"
      ],
      "text/plain": [
       "   firstName lastName                            name   baseCity\n",
       "17     Divya   Kavuri                   Apollo Clinic  Hyderabad\n",
       "18    Shivam        P                Shivam hospitals  Hyderabad\n",
       "19    Ranjan      Dey             Ranjan skin clinics  Hyderabad\n",
       "20    Soumya   Sarkar  Soumya Multi speciality clinic  Hyderabad\n",
       "21  Rishanku    Goyal                  RKG Eye Center  Hyderabad"
      ]
     },
     "execution_count": 13,
     "metadata": {},
     "output_type": "execute_result"
    }
   ],
   "source": [
    "df_not_missing.head()"
   ]
  },
  {
   "cell_type": "code",
   "execution_count": 14,
   "id": "bb40a816",
   "metadata": {},
   "outputs": [
    {
     "data": {
      "text/plain": [
       "firstName    0\n",
       "lastName     0\n",
       "name         0\n",
       "baseCity     0\n",
       "dtype: int64"
      ]
     },
     "execution_count": 14,
     "metadata": {},
     "output_type": "execute_result"
    }
   ],
   "source": [
    "df_not_missing.isna().sum()"
   ]
  },
  {
   "cell_type": "code",
   "execution_count": 15,
   "id": "537b2fcc",
   "metadata": {},
   "outputs": [
    {
     "name": "stdout",
     "output_type": "stream",
     "text": [
      "<class 'pandas.core.frame.DataFrame'>\n",
      "Int64Index: 1715 entries, 17 to 1735\n",
      "Data columns (total 4 columns):\n",
      " #   Column     Non-Null Count  Dtype \n",
      "---  ------     --------------  ----- \n",
      " 0   firstName  1715 non-null   object\n",
      " 1   lastName   1715 non-null   object\n",
      " 2   name       1715 non-null   object\n",
      " 3   baseCity   1715 non-null   object\n",
      "dtypes: object(4)\n",
      "memory usage: 67.0+ KB\n"
     ]
    }
   ],
   "source": [
    "df_not_missing.info()"
   ]
  },
  {
   "cell_type": "code",
   "execution_count": 16,
   "id": "961bc3c5",
   "metadata": {},
   "outputs": [
    {
     "name": "stdout",
     "output_type": "stream",
     "text": [
      "1715\n"
     ]
    }
   ],
   "source": [
    "print(len(df_not_missing))"
   ]
  },
  {
   "cell_type": "code",
   "execution_count": 17,
   "id": "33480c13",
   "metadata": {},
   "outputs": [
    {
     "data": {
      "text/plain": [
       "0.9879032258064516"
      ]
     },
     "execution_count": 17,
     "metadata": {},
     "output_type": "execute_result"
    }
   ],
   "source": [
    "len(df_not_missing)/len(df)"
   ]
  },
  {
   "cell_type": "code",
   "execution_count": 18,
   "id": "909ded9e",
   "metadata": {},
   "outputs": [
    {
     "name": "stderr",
     "output_type": "stream",
     "text": [
      "/var/folders/z1/0tn2v83n6pzgl2m8lzz1phbc0000gn/T/ipykernel_78606/4047833984.py:1: SettingWithCopyWarning: \n",
      "A value is trying to be set on a copy of a slice from a DataFrame.\n",
      "Try using .loc[row_indexer,col_indexer] = value instead\n",
      "\n",
      "See the caveats in the documentation: https://pandas.pydata.org/pandas-docs/stable/user_guide/indexing.html#returning-a-view-versus-a-copy\n",
      "  df_not_missing['query'] = df_not_missing['firstName'].apply(lambda x:x.lower()) +\"+\" + df_not_missing['lastName'].apply(lambda x:x.lower()) \\\n"
     ]
    }
   ],
   "source": [
    "df_not_missing['query'] = df_not_missing['firstName'].apply(lambda x:x.lower()) +\"+\" + df_not_missing['lastName'].apply(lambda x:x.lower()) \\\n",
    "                          +\"+\"+ df_not_missing['name'].apply(lambda x:x.lower()) + \"+\" + df_not_missing[\"baseCity\"].apply(lambda x:x.lower())"
   ]
  },
  {
   "cell_type": "code",
   "execution_count": 19,
   "id": "7683467c",
   "metadata": {},
   "outputs": [
    {
     "data": {
      "text/plain": [
       "17                   divya+kavuri+apollo clinic+hyderabad\n",
       "18                    shivam+p+shivam hospitals+hyderabad\n",
       "19               ranjan+dey+ranjan skin clinics+hyderabad\n",
       "20      soumya+sarkar+soumya multi speciality clinic+h...\n",
       "21                rishanku+goyal+rkg eye center+hyderabad\n",
       "                              ...                        \n",
       "1731    kushang+mod+shivam children hospital and neona...\n",
       "1732           dhaval+akhani+childhood hospital+ahmedabad\n",
       "1733    keval patel+patel+jk dental hospital orthodont...\n",
       "1734    jinal patel+patel+jk dental hospital orthodont...\n",
       "1735                   lavanya+yasam+sai clinic+hyderabad\n",
       "Name: query, Length: 1715, dtype: object"
      ]
     },
     "execution_count": 19,
     "metadata": {},
     "output_type": "execute_result"
    }
   ],
   "source": [
    "df_not_missing['query']"
   ]
  },
  {
   "cell_type": "markdown",
   "id": "8836fa3d",
   "metadata": {},
   "source": [
    "## For missing data"
   ]
  },
  {
   "cell_type": "code",
   "execution_count": 20,
   "id": "c0470c89",
   "metadata": {},
   "outputs": [],
   "source": [
    "import preprocess_kgptalkie as ps\n",
    "import re\n",
    "\n",
    "def get_clean(x):\n",
    "    x = str(x).lower().replace('\\\\', '').replace('_', ' ')\n",
    "    x = ps.cont_exp(x)\n",
    "    x = ps.remove_emails(x)\n",
    "    x = ps.remove_urls(x)\n",
    "    x = ps.remove_html_tags(x)\n",
    "    x = ps.remove_rt(x)\n",
    "    x = ps.remove_accented_chars(x)\n",
    "    x = ps.remove_special_chars(x)\n",
    "    x = re.sub(\"(.)\\\\1{2,}\", \"\\\\1\", x)\n",
    "    return x\n",
    "\n",
    "\n"
   ]
  },
  {
   "cell_type": "code",
   "execution_count": 21,
   "id": "e2eafedb",
   "metadata": {},
   "outputs": [
    {
     "name": "stderr",
     "output_type": "stream",
     "text": [
      "/var/folders/z1/0tn2v83n6pzgl2m8lzz1phbc0000gn/T/ipykernel_78606/153722280.py:1: SettingWithCopyWarning: \n",
      "A value is trying to be set on a copy of a slice from a DataFrame.\n",
      "Try using .loc[row_indexer,col_indexer] = value instead\n",
      "\n",
      "See the caveats in the documentation: https://pandas.pydata.org/pandas-docs/stable/user_guide/indexing.html#returning-a-view-versus-a-copy\n",
      "  df_not_missing['query'] = df_not_missing['query'].apply(lambda x:ps.remove_accented_chars(x))\n"
     ]
    },
    {
     "data": {
      "text/plain": [
       "17                 divya+kavuri+apollo clinic+hyderabad\n",
       "18                  shivam+p+shivam hospitals+hyderabad\n",
       "19             ranjan+dey+ranjan skin clinics+hyderabad\n",
       "20    soumya+sarkar+soumya multi speciality clinic+h...\n",
       "21              rishanku+goyal+rkg eye center+hyderabad\n",
       "Name: query, dtype: object"
      ]
     },
     "execution_count": 21,
     "metadata": {},
     "output_type": "execute_result"
    }
   ],
   "source": [
    "df_not_missing['query'] = df_not_missing['query'].apply(lambda x:ps.remove_accented_chars(x))\n",
    "df_not_missing['query'].head()"
   ]
  },
  {
   "cell_type": "code",
   "execution_count": 22,
   "id": "bc265424",
   "metadata": {},
   "outputs": [
    {
     "data": {
      "text/plain": [
       "1715"
      ]
     },
     "execution_count": 22,
     "metadata": {},
     "output_type": "execute_result"
    }
   ],
   "source": [
    "len(df_not_missing['query'].values)"
   ]
  },
  {
   "cell_type": "code",
   "execution_count": 23,
   "id": "6bd5d1c1",
   "metadata": {},
   "outputs": [],
   "source": [
    "from collections import defaultdict\n",
    "\n",
    "final_df = defaultdict(list)"
   ]
  },
  {
   "cell_type": "code",
   "execution_count": 24,
   "id": "e095027c",
   "metadata": {},
   "outputs": [],
   "source": [
    "df_not_missing = df_not_missing[['firstName', 'lastName', 'name', 'baseCity','query']]"
   ]
  },
  {
   "cell_type": "code",
   "execution_count": 25,
   "id": "be9c2b0b",
   "metadata": {},
   "outputs": [],
   "source": [
    "# df_ch = df_not_missing[df_not_missing['baseCity'] == 'Chennai']\n",
    "# df_ch.isna().sum()"
   ]
  },
  {
   "cell_type": "code",
   "execution_count": 26,
   "id": "82cc7b64",
   "metadata": {},
   "outputs": [],
   "source": [
    "def isDigit(char):\n",
    "    pattern = \"^[-+]?[0-9]*\\.?[0-9]+(e[-+]?[0-9]+)?$\"\n",
    "    reg = re.compile(pattern)\n",
    "    if reg.match(char):\n",
    "        return True\n",
    "    return False"
   ]
  },
  {
   "cell_type": "code",
   "execution_count": 27,
   "id": "c06e3a20",
   "metadata": {},
   "outputs": [],
   "source": [
    "from bs4 import BeautifulSoup\n",
    "import urllib.request\n",
    "import numpy as np\n",
    "\n",
    "def extractReviews(df_not_missing):\n",
    "    queries = df_not_missing['query'].values\n",
    "\n",
    "    for i in tqdm(range(len(queries))):\n",
    "        query = queries[i]\n",
    "        query = \"+\".join(query.split(\" \"))\n",
    "        url = 'https://google.com/search?q='+query\n",
    "        print(url)\n",
    "\n",
    "        request = urllib.request.Request(url)\n",
    "        request.add_header('User-Agent', 'Mozilla/5.0 (Macintosh; Intel Mac OS X 10_15_6) AppleWebKit/537.36 (KHTML, like Gecko) Chrome/87.0.4280.88 Safari/537.36')\n",
    "        raw_response = urllib.request.urlopen(request).read()\n",
    "\n",
    "        # Read the repsonse as a utf-8 string\n",
    "        html = raw_response.decode(\"utf-8\")\n",
    "\n",
    "        soup = BeautifulSoup(html, 'html.parser')\n",
    "\n",
    "        divs = soup.find_all(\"span\", class_=\"Aq14fc\")\n",
    "        spans = soup.find_all(\"span\", class_=\"hqzQac\")\n",
    "        practo_divs = soup.find_all(\"div\", class_=\"fG8Fp uo4vr\")\n",
    "\n",
    "        if len(divs) > 0:\n",
    "            for div, span, practo in zip(divs, spans, practo_divs):\n",
    "                # Search for a h3 tag\n",
    "                rating = div.get_text()\n",
    "                greviews = span.get_text()\n",
    "                prac = practo.get_text()\n",
    "                print(greviews)\n",
    "                greviews = [ps.remove_special_chars(i) for i in greviews.split(\" \")]\n",
    "                greviews = [i for i in greviews if isDigit(i)][0]\n",
    "    #             print(\"Rating: \", rating, \"Number of Reviews: \", greviews)\n",
    "                final_df['firstName'].append(df_not_missing.iloc[i]['firstName'])\n",
    "                final_df['lastName'].append(df_not_missing.iloc[i]['lastName'])\n",
    "                final_df['clinicName'].append(df_not_missing.iloc[i]['name'])\n",
    "                final_df['baseCity'].append(df_not_missing.iloc[i]['baseCity'])\n",
    "    #             print(df_not_missing.iloc[i]['baseCity'])\n",
    "                final_df['GoogleNRs'].append(float(greviews))\n",
    "                final_df['practColumn'].append(prac)\n",
    "\n",
    "                if rating is None:\n",
    "                    print(\"Appending None!\")\n",
    "                    final_df['rating'].append(\"NA\")\n",
    "                else:\n",
    "                    address = soup.find_all(\"span\", class_=\"LrzXr\")\n",
    "    #                 print(df_not_missing.iloc[i]['baseCity'] in address[0].get_text())\n",
    "    #                 print(address[0].get_text())\n",
    "                    text = address[0].get_text()\n",
    "                    text = ps.remove_accented_chars(text)\n",
    "                    text = ps.remove_special_chars(text)\n",
    "                    text = ps.remove_html_tags(text)\n",
    "\n",
    "                    text = text.split(\" \")\n",
    "                    print(text)\n",
    "                    print(text[-4:][:-1])\n",
    "                    city = \" \".join(text[-4:][:-1])\n",
    "\n",
    "                    print(\"city: \", city)\n",
    "\n",
    "\n",
    "                    final_df['extractedCity'].append(city)\n",
    "                    if city == df_not_missing.iloc[i]['baseCity']:\n",
    "                        print(\"Cities are matched!\")\n",
    "                        final_df['matched'].append(True)\n",
    "                    else:\n",
    "                        final_df['matched'].append(False)\n",
    "                    final_df['rating'].append(rating)\n",
    "                    \n",
    "    return final_df\n",
    "\n",
    "    #             print(div.get_text())\n"
   ]
  },
  {
   "cell_type": "code",
   "execution_count": null,
   "id": "f3359b65",
   "metadata": {},
   "outputs": [
    {
     "name": "stderr",
     "output_type": "stream",
     "text": [
      "\r",
      "  0%|                                                  | 0/1715 [00:00<?, ?it/s]"
     ]
    },
    {
     "name": "stdout",
     "output_type": "stream",
     "text": [
      "https://google.com/search?q=divya+kavuri+apollo+clinic+hyderabad\n"
     ]
    },
    {
     "name": "stderr",
     "output_type": "stream",
     "text": [
      "\r",
      "  0%|                                        | 1/1715 [00:02<1:04:49,  2.27s/it]"
     ]
    },
    {
     "name": "stdout",
     "output_type": "stream",
     "text": [
      "https://google.com/search?q=shivam+p+shivam+hospitals+hyderabad\n"
     ]
    },
    {
     "name": "stderr",
     "output_type": "stream",
     "text": [
      "\r",
      "  0%|                                        | 2/1715 [00:04<1:05:59,  2.31s/it]"
     ]
    },
    {
     "name": "stdout",
     "output_type": "stream",
     "text": [
      "https://google.com/search?q=ranjan+dey+ranjan+skin+clinics+hyderabad\n"
     ]
    },
    {
     "name": "stderr",
     "output_type": "stream",
     "text": [
      "\r",
      "  0%|                                        | 3/1715 [00:07<1:09:42,  2.44s/it]"
     ]
    },
    {
     "name": "stdout",
     "output_type": "stream",
     "text": [
      "176 Google reviews\n",
      "['Shop', 'No', '1', 'Kaveri', 'Apartments', 'Ramghat', 'Rd', 'opposite', 'Meenakshi', 'Cinema', 'Sudhama', 'Puri', 'Aligarh', 'Uttar', 'Pradesh', '202001']\n",
      "['Aligarh', 'Uttar', 'Pradesh']\n",
      "city:  Aligarh Uttar Pradesh\n",
      "https://google.com/search?q=soumya+sarkar+soumya+multi+speciality+clinic+hyderabad\n"
     ]
    },
    {
     "name": "stderr",
     "output_type": "stream",
     "text": [
      "\r",
      "  0%|                                        | 4/1715 [00:09<1:09:11,  2.43s/it]"
     ]
    },
    {
     "name": "stdout",
     "output_type": "stream",
     "text": [
      "https://google.com/search?q=rishanku+goyal+rkg+eye+center+hyderabad\n"
     ]
    },
    {
     "name": "stderr",
     "output_type": "stream",
     "text": [
      "\r",
      "  0%|                                        | 5/1715 [00:12<1:11:02,  2.49s/it]"
     ]
    },
    {
     "name": "stdout",
     "output_type": "stream",
     "text": [
      "179 Google reviews\n",
      "['110', 'East', 'Patel', 'Nagar', 'Opposite', 'Metro', 'No', '176', 'Patel', 'Nagar', 'New', 'Delhi', 'Delhi', '110008']\n",
      "['New', 'Delhi', 'Delhi']\n",
      "city:  New Delhi Delhi\n",
      "https://google.com/search?q=mamatha+r+mamatha+clinics+hyderabad\n"
     ]
    },
    {
     "name": "stderr",
     "output_type": "stream",
     "text": [
      "\r",
      "  0%|▏                                       | 6/1715 [00:14<1:12:26,  2.54s/it]"
     ]
    },
    {
     "name": "stdout",
     "output_type": "stream",
     "text": [
      "https://google.com/search?q=ravi+pallapolu+sai+keerthi+children+and+dental+clinic+hyderabad\n"
     ]
    },
    {
     "name": "stderr",
     "output_type": "stream",
     "text": [
      "\r",
      "  0%|▏                                       | 7/1715 [00:17<1:12:39,  2.55s/it]"
     ]
    },
    {
     "name": "stdout",
     "output_type": "stream",
     "text": [
      "https://google.com/search?q=b++ramesh+aditya+medical+complex+visakhapatnam\n"
     ]
    },
    {
     "name": "stderr",
     "output_type": "stream",
     "text": [
      "\r",
      "  0%|▏                                       | 8/1715 [00:19<1:07:19,  2.37s/it]"
     ]
    },
    {
     "name": "stdout",
     "output_type": "stream",
     "text": [
      "https://google.com/search?q=v+v++satya+sekhar+mamata+hospital+visakhapatnam\n"
     ]
    },
    {
     "name": "stderr",
     "output_type": "stream",
     "text": [
      "\r",
      "  1%|▏                                       | 9/1715 [00:22<1:10:07,  2.47s/it]"
     ]
    },
    {
     "name": "stdout",
     "output_type": "stream",
     "text": [
      "23 Google reviews\n",
      "['behind', 'Srikanya', 'Theatre', 'Gandhinagar', 'Gajuwaka', 'Visakhapatnam', 'Andhra', 'Pradesh', '530026']\n",
      "['Visakhapatnam', 'Andhra', 'Pradesh']\n",
      "city:  Visakhapatnam Andhra Pradesh\n",
      "https://google.com/search?q=v+ravi+chandra+sg+ortho+care+visakhapatnam\n"
     ]
    },
    {
     "name": "stderr",
     "output_type": "stream",
     "text": [
      "\r",
      "  1%|▏                                      | 10/1715 [00:24<1:13:20,  2.58s/it]"
     ]
    },
    {
     "name": "stdout",
     "output_type": "stream",
     "text": [
      "77 Google reviews\n",
      "['SG', 'Ortho', 'Care', 'beside', 'Vijaya', 'Medical', 'Centre', 'Maharani', 'Peta', 'Visakhapatnam', 'Andhra', 'Pradesh', '530002']\n",
      "['Visakhapatnam', 'Andhra', 'Pradesh']\n",
      "city:  Visakhapatnam Andhra Pradesh\n",
      "https://google.com/search?q=l+s++appala+naidu+visakha+multispeciality+clinics+visakhapatnam\n"
     ]
    },
    {
     "name": "stderr",
     "output_type": "stream",
     "text": [
      "\r",
      "  1%|▎                                      | 11/1715 [00:27<1:14:04,  2.61s/it]"
     ]
    },
    {
     "name": "stdout",
     "output_type": "stream",
     "text": [
      "https://google.com/search?q=v++chandra+sekharam+chandra+sekharam+clinic+visakhapatnam\n"
     ]
    },
    {
     "name": "stderr",
     "output_type": "stream",
     "text": [
      "\r",
      "  1%|▎                                      | 12/1715 [00:29<1:10:43,  2.49s/it]"
     ]
    },
    {
     "name": "stdout",
     "output_type": "stream",
     "text": [
      "3 Google reviews\n",
      "['18130', 'Aditya', 'Medical', 'Complex', 'Opposite', 'KGH', 'OP', 'Gate', 'Maharani', 'Peta', 'Visakhapatnam', 'Andhra', 'Pradesh', '530002']\n",
      "['Visakhapatnam', 'Andhra', 'Pradesh']\n",
      "city:  Visakhapatnam Andhra Pradesh\n",
      "https://google.com/search?q=sreeniavsa+rao+reddy+sri+srinivasa+gastro+&+liver+centre+visakhapatnam\n"
     ]
    },
    {
     "name": "stderr",
     "output_type": "stream",
     "text": [
      "\r",
      "  1%|▎                                      | 13/1715 [00:32<1:09:23,  2.45s/it]"
     ]
    },
    {
     "name": "stdout",
     "output_type": "stream",
     "text": [
      "https://google.com/search?q=j+k++vijay+kumar+urocare+visakhapatnam\n"
     ]
    },
    {
     "name": "stderr",
     "output_type": "stream",
     "text": [
      "\r",
      "  1%|▎                                      | 14/1715 [00:34<1:05:53,  2.32s/it]"
     ]
    },
    {
     "name": "stdout",
     "output_type": "stream",
     "text": [
      "11 Google reviews\n",
      "['Collectorate', 'Junction', 'Maharanipeta', 'Opposite', 'Sagar', 'Lodge', 'Maharanipeta', 'Visakhapatnam', 'Andhra', 'Pradesh', '530002']\n",
      "['Visakhapatnam', 'Andhra', 'Pradesh']\n",
      "city:  Visakhapatnam Andhra Pradesh\n",
      "https://google.com/search?q=chodisetti++subbarao+samudra+hospital+visakhapatnam\n"
     ]
    },
    {
     "name": "stderr",
     "output_type": "stream",
     "text": [
      "\r",
      "  1%|▎                                      | 15/1715 [00:36<1:05:13,  2.30s/it]"
     ]
    },
    {
     "name": "stdout",
     "output_type": "stream",
     "text": [
      "17 Google reviews\n",
      "['105080', 'Waltair', 'Main', 'Rd', 'Ram', 'Nagar', 'Visakhapatnam', 'Andhra', 'Pradesh', '530002']\n",
      "['Visakhapatnam', 'Andhra', 'Pradesh']\n",
      "city:  Visakhapatnam Andhra Pradesh\n",
      "https://google.com/search?q=b+s++kalyani+dr.+b.+s+kalyani+bharathi+hospital+visakhapatnam\n"
     ]
    },
    {
     "name": "stderr",
     "output_type": "stream",
     "text": [
      "\r",
      "  1%|▎                                      | 16/1715 [00:38<1:04:53,  2.29s/it]"
     ]
    },
    {
     "name": "stdout",
     "output_type": "stream",
     "text": [
      "56 Google reviews\n",
      "['beside', 'Zilla', 'Parishad', 'Maharani', 'Peta', 'Visakhapatnam', 'Andhra', 'Pradesh', '530002']\n",
      "['Visakhapatnam', 'Andhra', 'Pradesh']\n",
      "city:  Visakhapatnam Andhra Pradesh\n",
      "https://google.com/search?q=k++v+nageswar+rao+kotagiri+clinic+visakhapatnam\n"
     ]
    },
    {
     "name": "stderr",
     "output_type": "stream",
     "text": [
      "\r",
      "  1%|▍                                      | 17/1715 [00:40<1:03:39,  2.25s/it]"
     ]
    },
    {
     "name": "stdout",
     "output_type": "stream",
     "text": [
      "https://google.com/search?q=mohammed+akbar+gastro+&+liver+clinic+visakhapatnam\n"
     ]
    },
    {
     "name": "stderr",
     "output_type": "stream",
     "text": [
      "\r",
      "  1%|▍                                      | 18/1715 [00:43<1:03:38,  2.25s/it]"
     ]
    },
    {
     "name": "stdout",
     "output_type": "stream",
     "text": [
      "14 Google reviews\n",
      "['206ARBT', 'Animishai', 'Pearl', '2ndFloorCollectors', 'Office', 'Junction', 'Junction', 'beside', 'Sagar', 'Lodge', 'Visakhapatnam', 'Andhra', 'Pradesh', '530002']\n",
      "['Visakhapatnam', 'Andhra', 'Pradesh']\n",
      "city:  Visakhapatnam Andhra Pradesh\n",
      "https://google.com/search?q=sravani++sandhya+aura+skin+&+hair+clinic+visakhapatnam\n"
     ]
    },
    {
     "name": "stderr",
     "output_type": "stream",
     "text": [
      "\r",
      "  1%|▍                                      | 19/1715 [00:45<1:06:24,  2.35s/it]"
     ]
    },
    {
     "name": "stdout",
     "output_type": "stream",
     "text": [
      "https://google.com/search?q=komanapalli+sowjanya++padmaja+hospital+visakhapatnam\n"
     ]
    },
    {
     "name": "stderr",
     "output_type": "stream",
     "text": [
      "\r",
      "  1%|▍                                      | 20/1715 [00:48<1:07:41,  2.40s/it]"
     ]
    },
    {
     "name": "stdout",
     "output_type": "stream",
     "text": [
      "129 Google reviews\n",
      "['71512', 'SRMT', 'Canteen', 'Rd', 'behind', '38', 'Bus', 'Stop', 'Chittinaidu', 'Colony', 'Old', 'Gajuwaka', 'Chaitanya', 'Nagar', 'Gajuwaka', 'Visakhapatnam', 'Andhra', 'Pradesh', '530026']\n",
      "['Visakhapatnam', 'Andhra', 'Pradesh']\n",
      "city:  Visakhapatnam Andhra Pradesh\n",
      "https://google.com/search?q=a+meenakshi+sai+clinic+visakhapatnam\n"
     ]
    },
    {
     "name": "stderr",
     "output_type": "stream",
     "text": [
      "\r",
      "  1%|▍                                      | 21/1715 [00:50<1:05:22,  2.32s/it]"
     ]
    },
    {
     "name": "stdout",
     "output_type": "stream",
     "text": [
      "https://google.com/search?q=krishnam+penmatsa+onelife+clinic+visakhapatnam\n"
     ]
    },
    {
     "name": "stderr",
     "output_type": "stream",
     "text": [
      "\r",
      "  1%|▌                                      | 22/1715 [00:52<1:03:56,  2.27s/it]"
     ]
    },
    {
     "name": "stdout",
     "output_type": "stream",
     "text": [
      "https://google.com/search?q=j+n++srinivasulu+sri+chaitra+kidney+clinic+visakhapatnam\n"
     ]
    },
    {
     "name": "stderr",
     "output_type": "stream",
     "text": [
      "\r",
      "  1%|▌                                      | 23/1715 [00:54<1:05:07,  2.31s/it]"
     ]
    },
    {
     "name": "stdout",
     "output_type": "stream",
     "text": [
      "9 Google reviews\n",
      "['Ushodaya', 'Chamber', 'Collectorate', 'Junction', 'opp', 'sagar', 'lodge', 'Visakhapatnam', 'Andhra', 'Pradesh', '530002']\n",
      "['Visakhapatnam', 'Andhra', 'Pradesh']\n",
      "city:  Visakhapatnam Andhra Pradesh\n",
      "https://google.com/search?q=monitha+narendrula+eeshritha+skin+&+hair+institute++hyderabad\n"
     ]
    },
    {
     "name": "stderr",
     "output_type": "stream",
     "text": [
      "\r",
      "  1%|▌                                      | 24/1715 [00:57<1:05:53,  2.34s/it]"
     ]
    },
    {
     "name": "stdout",
     "output_type": "stream",
     "text": [
      "https://google.com/search?q=mona+deva+apollo+sugar+clinic+hyderabad\n"
     ]
    },
    {
     "name": "stderr",
     "output_type": "stream",
     "text": [
      "\r",
      "  1%|▌                                      | 25/1715 [01:00<1:16:11,  2.71s/it]"
     ]
    },
    {
     "name": "stdout",
     "output_type": "stream",
     "text": [
      "https://google.com/search?q=shehzad+ruman+dr.shehzad+endocrine+&+diabetes+clinic+hyderabad\n"
     ]
    },
    {
     "name": "stderr",
     "output_type": "stream",
     "text": [
      "\r",
      "  2%|▌                                      | 26/1715 [01:02<1:11:09,  2.53s/it]"
     ]
    },
    {
     "name": "stdout",
     "output_type": "stream",
     "text": [
      "https://google.com/search?q=mushtaq+quadri+first+health+diagnostics+and+clinics+hyderabad\n"
     ]
    },
    {
     "name": "stderr",
     "output_type": "stream",
     "text": [
      "\r",
      "  2%|▌                                      | 27/1715 [01:05<1:10:18,  2.50s/it]"
     ]
    },
    {
     "name": "stdout",
     "output_type": "stream",
     "text": [
      "54 Google reviews\n",
      "['Archies', 'Building', '1st', 'FloorBeside', 'Sydicate', 'BankAttapur', 'Utkoor', 'Mogdumpur', 'Rd', 'Opposite', 'Pillar', 'No180', 'Hyderabad', 'Telangana', '500048']\n",
      "['No180', 'Hyderabad', 'Telangana']\n",
      "city:  No180 Hyderabad Telangana\n",
      "https://google.com/search?q=fiazullah+khan+integro+hospital+hyderabad\n"
     ]
    },
    {
     "name": "stderr",
     "output_type": "stream",
     "text": [
      "\r",
      "  2%|▋                                      | 28/1715 [01:07<1:09:20,  2.47s/it]"
     ]
    },
    {
     "name": "stdout",
     "output_type": "stream",
     "text": [
      "77 Google reviews\n",
      "['1227252', 'INTEGRO', 'HOSPITAL', 'P', 'T', 'COOP', 'HOUSING', 'SOCIETY', 'Rethibowli', 'Hyderabad', 'Telangana', '500008']\n",
      "['Rethibowli', 'Hyderabad', 'Telangana']\n",
      "city:  Rethibowli Hyderabad Telangana\n",
      "https://google.com/search?q=mohammed+asif+sameer+cardiac+care+hyderabad\n"
     ]
    },
    {
     "name": "stderr",
     "output_type": "stream",
     "text": [
      "\r",
      "  2%|▋                                      | 29/1715 [01:11<1:19:12,  2.82s/it]"
     ]
    },
    {
     "name": "stdout",
     "output_type": "stream",
     "text": [
      "https://google.com/search?q=kollipara++haritha+radha's+derma+care+visakhapatnam\n"
     ]
    },
    {
     "name": "stderr",
     "output_type": "stream",
     "text": [
      "\r",
      "  2%|▋                                      | 30/1715 [01:14<1:19:35,  2.83s/it]"
     ]
    },
    {
     "name": "stdout",
     "output_type": "stream",
     "text": [
      "33 Google reviews\n",
      "['103', 'Siripuram', 'Fort', 'Siripuram', 'Visakhapatnam', 'Andhra', 'Pradesh', '530003']\n",
      "['Visakhapatnam', 'Andhra', 'Pradesh']\n",
      "city:  Visakhapatnam Andhra Pradesh\n",
      "https://google.com/search?q=shilpa+bharatgiri+raghava+polyclinic+hyderabad\n"
     ]
    },
    {
     "name": "stderr",
     "output_type": "stream",
     "text": [
      "\r",
      "  2%|▋                                      | 31/1715 [01:16<1:15:01,  2.67s/it]"
     ]
    },
    {
     "name": "stdout",
     "output_type": "stream",
     "text": [
      "3 Google reviews\n",
      "['CCCW49J', 'Rd', 'Number', '4', 'Zahara', 'Nagar', 'Banjara', 'Hills', 'Hyderabad', 'Telangana', '500034']\n",
      "['Hills', 'Hyderabad', 'Telangana']\n",
      "city:  Hills Hyderabad Telangana\n",
      "https://google.com/search?q=sujitkumar+vakatir+orthopaedic+&+sports+injury+clinic+hyderabad\n"
     ]
    },
    {
     "name": "stderr",
     "output_type": "stream",
     "text": [
      "\r",
      "  2%|▋                                      | 32/1715 [01:18<1:11:45,  2.56s/it]"
     ]
    },
    {
     "name": "stdout",
     "output_type": "stream",
     "text": [
      "https://google.com/search?q=divyaswetha+narasapuram+sai+medha+speciality+clinics+hyderabad\n"
     ]
    },
    {
     "name": "stderr",
     "output_type": "stream",
     "text": [
      "\r",
      "  2%|▊                                      | 33/1715 [01:21<1:10:18,  2.51s/it]"
     ]
    },
    {
     "name": "stdout",
     "output_type": "stream",
     "text": [
      "81 Google reviews\n",
      "['Flat', 'NoG8', 'SERENE', 'VIEW', 'Apartment', 'Complex', 'Rd', 'Number', '12', 'Madhavapuri', 'Hills', 'Chanda', 'Nagar', 'Telangana', '502032']\n",
      "['Chanda', 'Nagar', 'Telangana']\n",
      "city:  Chanda Nagar Telangana\n",
      "https://google.com/search?q=alekya+singapore+the+skin+sense+hyderabad\n"
     ]
    },
    {
     "name": "stderr",
     "output_type": "stream",
     "text": [
      "\r",
      "  2%|▊                                      | 34/1715 [01:24<1:12:08,  2.58s/it]"
     ]
    },
    {
     "name": "stdout",
     "output_type": "stream",
     "text": [
      "241 Google reviews\n",
      "['202', 'Bhavyas', 'Fantastika', 'Road', 'No', '12', 'Anand', 'Banjara', 'Colony', 'Banjara', 'Hills', 'Hyderabad', 'Telangana', '500034']\n",
      "['Hills', 'Hyderabad', 'Telangana']\n",
      "city:  Hills Hyderabad Telangana\n",
      "https://google.com/search?q=suneetha++reddy+e+birthcare+hospital+hyderabad\n"
     ]
    },
    {
     "name": "stderr",
     "output_type": "stream",
     "text": [
      "\r",
      "  2%|▊                                      | 35/1715 [01:26<1:09:20,  2.48s/it]"
     ]
    },
    {
     "name": "stdout",
     "output_type": "stream",
     "text": [
      "154 Google reviews\n",
      "['22647182A64', 'Street', '1', 'Shivam', 'Rd', 'behind', 'Bakers', 'Q', 'bakery', 'Sharada', 'Nagar', 'Bagh', 'Amberpet', 'Amberpet', 'Hyderabad', 'Telangana', '500013']\n",
      "['Amberpet', 'Hyderabad', 'Telangana']\n",
      "city:  Amberpet Hyderabad Telangana\n",
      "https://google.com/search?q=naveen+kumar+magna+code+clinic+hyderabad\n"
     ]
    },
    {
     "name": "stderr",
     "output_type": "stream",
     "text": [
      "\r",
      "  2%|▊                                      | 36/1715 [01:28<1:10:55,  2.53s/it]"
     ]
    },
    {
     "name": "stdout",
     "output_type": "stream",
     "text": [
      "101 Google reviews\n",
      "['MAG', 'POLY', 'CLINICS', 'Naman', 'Towers', 'Servi', 'Nivas', 'H', 'no', '114B', 'Survey', 'number', '194', '2nd', 'floor', 'Manikonda', 'marrichettu', 'Telangana', '500089']\n",
      "['Manikonda', 'marrichettu', 'Telangana']\n",
      "city:  Manikonda marrichettu Telangana\n",
      "https://google.com/search?q=hariram+vuppaladadhiam+hari's+heart+clinic.+dr+v+hariram+hyderabad\n"
     ]
    },
    {
     "name": "stderr",
     "output_type": "stream",
     "text": [
      "\r",
      "  2%|▊                                      | 37/1715 [01:31<1:08:27,  2.45s/it]"
     ]
    },
    {
     "name": "stdout",
     "output_type": "stream",
     "text": [
      "22 Google reviews\n",
      "['First', 'floor', 'MIG', '321REMEDY', 'HOSPITAL', 'ROAD', 'Kukatpally', 'Housing', 'Board', 'Colony', 'Kukatpally', 'Hyderabad', 'Telangana', '500072']\n",
      "['Kukatpally', 'Hyderabad', 'Telangana']\n",
      "city:  Kukatpally Hyderabad Telangana\n",
      "https://google.com/search?q=ramesh+raju+sneha+clinic+hyderabad\n"
     ]
    },
    {
     "name": "stderr",
     "output_type": "stream",
     "text": [
      "\r",
      "  2%|▊                                      | 38/1715 [01:33<1:08:46,  2.46s/it]"
     ]
    },
    {
     "name": "stdout",
     "output_type": "stream",
     "text": [
      "96 Google reviews\n",
      "['Mig', '152', 'Above', 'Axis', 'Bank', 'Ist', 'floor', 'road', 'no', '1', 'KPHB', 'Hyderabad', 'Telangana', '500085']\n",
      "['KPHB', 'Hyderabad', 'Telangana']\n",
      "city:  KPHB Hyderabad Telangana\n",
      "https://google.com/search?q=venkata++arella+sri+sai+kalpana+clinic+hyderabad\n"
     ]
    },
    {
     "name": "stderr",
     "output_type": "stream",
     "text": [
      "\r",
      "  2%|▉                                      | 39/1715 [01:35<1:06:55,  2.40s/it]"
     ]
    },
    {
     "name": "stdout",
     "output_type": "stream",
     "text": [
      "https://google.com/search?q=madhavi+aurangabadkar+skin+&+laser+clinic+hyderabad\n"
     ]
    },
    {
     "name": "stderr",
     "output_type": "stream",
     "text": [
      "\r",
      "  2%|▉                                      | 40/1715 [01:38<1:07:49,  2.43s/it]"
     ]
    },
    {
     "name": "stdout",
     "output_type": "stream",
     "text": [
      "159 Google reviews\n",
      "['43323', 'Bank', 'St', 'near', 'Hotel', 'Sitaara', 'Sultan', 'Bazar', 'Koti', 'Hyderabad', 'Telangana', '500095']\n",
      "['Koti', 'Hyderabad', 'Telangana']\n",
      "city:  Koti Hyderabad Telangana\n",
      "https://google.com/search?q=raghunath+babu+diabaid+diabetes+center+hyderabad\n"
     ]
    },
    {
     "name": "stderr",
     "output_type": "stream",
     "text": [
      "\r",
      "  2%|▉                                      | 41/1715 [01:41<1:09:25,  2.49s/it]"
     ]
    },
    {
     "name": "stdout",
     "output_type": "stream",
     "text": [
      "https://google.com/search?q=saketh+k+gk+polyclinic+hyderabad\n"
     ]
    },
    {
     "name": "stderr",
     "output_type": "stream",
     "text": [
      "\r",
      "  2%|▉                                      | 42/1715 [01:43<1:10:42,  2.54s/it]"
     ]
    },
    {
     "name": "stdout",
     "output_type": "stream",
     "text": [
      "https://google.com/search?q=samata+tulla+medihub+clinics+hyderabad\n"
     ]
    },
    {
     "name": "stderr",
     "output_type": "stream",
     "text": [
      "\r",
      "  3%|▉                                      | 43/1715 [01:45<1:07:45,  2.43s/it]"
     ]
    },
    {
     "name": "stdout",
     "output_type": "stream",
     "text": [
      "https://google.com/search?q=janaki+ram+reddy+sree+srinivasa+ent+center+hyderabad\n"
     ]
    },
    {
     "name": "stderr",
     "output_type": "stream",
     "text": [
      "\r",
      "  3%|█                                      | 44/1715 [01:48<1:09:16,  2.49s/it]"
     ]
    },
    {
     "name": "stdout",
     "output_type": "stream",
     "text": [
      "20 Google reviews\n",
      "['63347172', 'Dwarakapuri', 'Colony', 'Road', 'beside', 'corporation', 'bank', 'Punjagutta', 'Hyderabad', 'Telangana', '500082']\n",
      "['Punjagutta', 'Hyderabad', 'Telangana']\n",
      "city:  Punjagutta Hyderabad Telangana\n",
      "https://google.com/search?q=manogna++vellala+mano's+skin+&+hair+clinic+hyderabad\n"
     ]
    },
    {
     "name": "stderr",
     "output_type": "stream",
     "text": [
      "\r",
      "  3%|█                                      | 45/1715 [01:51<1:14:38,  2.68s/it]"
     ]
    },
    {
     "name": "stdout",
     "output_type": "stream",
     "text": [
      "https://google.com/search?q=amishrita++chintawar++manasa+hospital+hyderabad\n"
     ]
    },
    {
     "name": "stderr",
     "output_type": "stream",
     "text": [
      "\r",
      "  3%|█                                      | 46/1715 [01:54<1:14:03,  2.66s/it]"
     ]
    },
    {
     "name": "stdout",
     "output_type": "stream",
     "text": [
      "254 Google reviews\n",
      "['Adjcent', 'public', 'school', 'Lane', 'Number', '6', 'Sai', 'Chitra', 'Nagar', 'Ramanthapur', 'Hyderabad', 'Telangana', '500013']\n",
      "['Ramanthapur', 'Hyderabad', 'Telangana']\n",
      "city:  Ramanthapur Hyderabad Telangana\n",
      "https://google.com/search?q=neelima+potluri+v+viva+skin+clinic+hyderabad\n"
     ]
    },
    {
     "name": "stderr",
     "output_type": "stream",
     "text": [
      "\r",
      "  3%|█                                      | 47/1715 [01:56<1:10:28,  2.54s/it]"
     ]
    },
    {
     "name": "stdout",
     "output_type": "stream",
     "text": [
      "52 Google reviews\n",
      "['Aditya', 'Ram', 'Square', '82283A646A', '1st', 'floor', 'Rd', 'Number', '36', 'Jubilee', 'Hills', 'Hyderabad', 'Telangana', '500033']\n",
      "['Hills', 'Hyderabad', 'Telangana']\n",
      "city:  Hills Hyderabad Telangana\n",
      "https://google.com/search?q=swapna++priya+cosmosure+clinic+hyderabad\n"
     ]
    },
    {
     "name": "stderr",
     "output_type": "stream",
     "text": [
      "\r",
      "  3%|█                                      | 48/1715 [01:59<1:11:34,  2.58s/it]"
     ]
    },
    {
     "name": "stdout",
     "output_type": "stream",
     "text": [
      "154 Google reviews\n",
      "['Maxcure', 'lane', '4th', 'Floor', 'SBR', 'Gateway', 'Opp', 'Cyber', 'Gate', 'Way', 'Hitech', 'City', 'Main', 'Rd', 'Hyderabad', 'Telangana', '500081']\n",
      "['Rd', 'Hyderabad', 'Telangana']\n",
      "city:  Rd Hyderabad Telangana\n",
      "https://google.com/search?q=babitha+++++++++maturi+parijatham+women+wellness+clinics+hyderabad\n"
     ]
    },
    {
     "name": "stderr",
     "output_type": "stream",
     "text": [
      "\r",
      "  3%|█                                      | 49/1715 [02:01<1:08:10,  2.46s/it]"
     ]
    },
    {
     "name": "stdout",
     "output_type": "stream",
     "text": [
      "https://google.com/search?q=sudha+shroff+dermdent+skin&dental+clinic+hyderabad\n"
     ]
    },
    {
     "name": "stderr",
     "output_type": "stream",
     "text": [
      "\r",
      "  3%|█▏                                     | 50/1715 [02:03<1:06:37,  2.40s/it]"
     ]
    },
    {
     "name": "stdout",
     "output_type": "stream",
     "text": [
      "https://google.com/search?q=suryaprakash+hedda+hedda+clinic+hyderabad\n"
     ]
    },
    {
     "name": "stderr",
     "output_type": "stream",
     "text": [
      "\r",
      "  3%|█▏                                     | 51/1715 [02:05<1:06:25,  2.39s/it]"
     ]
    },
    {
     "name": "stdout",
     "output_type": "stream",
     "text": [
      "33 Google reviews\n",
      "['Czech', 'Colony', 'Sanath', 'Nagar', 'Hyderabad', 'Telangana', '500018']\n",
      "['Nagar', 'Hyderabad', 'Telangana']\n",
      "city:  Nagar Hyderabad Telangana\n",
      "https://google.com/search?q=srikant+jawalkar+the+shoulder+centre+hyderabad\n"
     ]
    },
    {
     "name": "stderr",
     "output_type": "stream",
     "text": [
      "\r",
      "  3%|█▏                                     | 52/1715 [02:08<1:07:44,  2.44s/it]"
     ]
    },
    {
     "name": "stdout",
     "output_type": "stream",
     "text": [
      "31 Google reviews\n",
      "['Between', 'Ohris', 'Banjara', 'and', 'petrol', 'pump', 'Mayfair', 'Garden', 'at', 'The', 'Shoulder', 'centre', 'G1A', 'Road', 'No', '12', 'Banjara', 'Hills', 'Hyderabad', 'Telangana', '500034']\n",
      "['Hills', 'Hyderabad', 'Telangana']\n",
      "city:  Hills Hyderabad Telangana\n",
      "https://google.com/search?q=suraj+uppalapati+gastro+360+clinics+hyderabad\n"
     ]
    },
    {
     "name": "stderr",
     "output_type": "stream",
     "text": [
      "\r",
      "  3%|█▏                                     | 53/1715 [02:11<1:07:53,  2.45s/it]"
     ]
    },
    {
     "name": "stdout",
     "output_type": "stream",
     "text": [
      "144 Google reviews\n",
      "['2nd', 'floor', 'Harsha', 'Pride', 'Plot', 'no', '34', 'A', '45', 'A', 'Sriram', 'Nagar', 'Above', 'KS', 'Bakers', 'Botanical', 'garden', 'road', 'Kondapur', 'near', 'Sarath', 'City', 'Capital', 'Mall', 'Hyderabad', 'Telangana', '500084']\n",
      "['Mall', 'Hyderabad', 'Telangana']\n",
      "city:  Mall Hyderabad Telangana\n",
      "https://google.com/search?q=sivani+payneni+vito+specialty+clinic+hyderabad\n"
     ]
    },
    {
     "name": "stderr",
     "output_type": "stream",
     "text": [
      "\r",
      "  3%|█▏                                     | 54/1715 [02:13<1:05:51,  2.38s/it]"
     ]
    },
    {
     "name": "stdout",
     "output_type": "stream",
     "text": [
      "37 Google reviews\n",
      "['2F', 'Plot', '1492', 'Seshadri', 'Marg', 'Raghavendra', 'Colony', 'Kondapur', 'Telangana', '500084']\n",
      "['Colony', 'Kondapur', 'Telangana']\n",
      "city:  Colony Kondapur Telangana\n",
      "https://google.com/search?q=saikiran+thipparthi+vito+specialty+clinics+hyderabad\n"
     ]
    },
    {
     "name": "stderr",
     "output_type": "stream",
     "text": [
      "\r",
      "  3%|█▎                                     | 55/1715 [02:15<1:03:51,  2.31s/it]"
     ]
    },
    {
     "name": "stdout",
     "output_type": "stream",
     "text": [
      "https://google.com/search?q=venkateswara++abburu+siri+children's+clinic+hyderabad\n"
     ]
    },
    {
     "name": "stderr",
     "output_type": "stream",
     "text": [
      "\r",
      "  3%|█▎                                     | 56/1715 [02:17<1:03:42,  2.30s/it]"
     ]
    },
    {
     "name": "stdout",
     "output_type": "stream",
     "text": [
      "https://google.com/search?q=gokul+mandala+drgokulreddy+hyderabad\n"
     ]
    },
    {
     "name": "stderr",
     "output_type": "stream",
     "text": [
      "\r",
      "  3%|█▎                                     | 57/1715 [02:19<1:03:25,  2.30s/it]"
     ]
    },
    {
     "name": "stdout",
     "output_type": "stream",
     "text": [
      "3 Google reviews\n",
      "['Apollo', 'Health', 'Street', 'City', 'Rd', 'Number', '72', 'opp', 'Bharatiya', 'Vidya', 'Bhavan', 'School', 'Prashasan', 'Nagar', 'Film', 'Nagar', 'Hyderabad', 'Telangana', '500033']\n",
      "['Nagar', 'Hyderabad', 'Telangana']\n",
      "city:  Nagar Hyderabad Telangana\n",
      "https://google.com/search?q=naresh+kanukunta++shreshta+sugar,thyroid+and+general+clinic++hyderabad\n"
     ]
    },
    {
     "name": "stderr",
     "output_type": "stream",
     "text": [
      "\r",
      "  3%|█▎                                     | 58/1715 [02:22<1:02:07,  2.25s/it]"
     ]
    },
    {
     "name": "stdout",
     "output_type": "stream",
     "text": [
      "https://google.com/search?q=mukesh+khetan+khetan+children's+clinic+hyderabad\n"
     ]
    },
    {
     "name": "stderr",
     "output_type": "stream",
     "text": [
      "\r",
      "  3%|█▎                                     | 59/1715 [02:24<1:04:12,  2.33s/it]"
     ]
    },
    {
     "name": "stdout",
     "output_type": "stream",
     "text": [
      "118 Google reviews\n",
      "['91364B103', 'Bapu', 'Ghat', 'Bapu', 'Nagar', 'Langar', 'Houz', 'Hyderabad', 'Telangana', '500008']\n",
      "['Houz', 'Hyderabad', 'Telangana']\n",
      "city:  Houz Hyderabad Telangana\n",
      "https://google.com/search?q=nitin+rai+vohra+vohra+e.n.t+care+centre+hyderabad\n"
     ]
    },
    {
     "name": "stderr",
     "output_type": "stream",
     "text": [
      "\r",
      "  3%|█▎                                     | 60/1715 [02:27<1:06:57,  2.43s/it]"
     ]
    },
    {
     "name": "stdout",
     "output_type": "stream",
     "text": [
      "79 Google reviews\n",
      "['2350438', 'Govindula', 'Complex', 'Main', 'Road', 'Amberpet', 'near', 'Irani', 'Hotel', 'Bus', 'Stop', 'Hyderabad', 'Telangana', '500013']\n",
      "['Stop', 'Hyderabad', 'Telangana']\n",
      "city:  Stop Hyderabad Telangana\n",
      "https://google.com/search?q=chandrasekhar+reddy+lavie+clinic+hyderabad\n"
     ]
    },
    {
     "name": "stderr",
     "output_type": "stream",
     "text": [
      "\r",
      "  4%|█▍                                     | 61/1715 [02:29<1:05:48,  2.39s/it]"
     ]
    },
    {
     "name": "stdout",
     "output_type": "stream",
     "text": [
      "10 Google reviews\n",
      "['Prime', 'Plaza', 'Yousufguda', 'Main', 'Rd', 'near', 'to', 'Signal', 'Sri', 'Krishna', 'Nagar', 'Yousufguda', 'Hyderabad', 'Telangana', '500045']\n",
      "['Yousufguda', 'Hyderabad', 'Telangana']\n",
      "city:  Yousufguda Hyderabad Telangana\n",
      "https://google.com/search?q=rafi+md+kids+care+the+childrens+hospital+hyderabad\n"
     ]
    },
    {
     "name": "stderr",
     "output_type": "stream",
     "text": [
      "\r",
      "  4%|█▍                                     | 62/1715 [02:31<1:05:10,  2.37s/it]"
     ]
    },
    {
     "name": "stdout",
     "output_type": "stream",
     "text": [
      "https://google.com/search?q=satish++reddy+sai+sohan+childrens+clinic+hyderabad\n"
     ]
    },
    {
     "name": "stderr",
     "output_type": "stream",
     "text": [
      "\r",
      "  4%|█▍                                     | 63/1715 [02:34<1:04:22,  2.34s/it]"
     ]
    },
    {
     "name": "stdout",
     "output_type": "stream",
     "text": [
      "17 Google reviews\n",
      "['1', '111244', 'NH65', 'Kalapuram', 'Basti', 'Miyapur', 'Telangana', '500049']\n",
      "['Basti', 'Miyapur', 'Telangana']\n",
      "city:  Basti Miyapur Telangana\n",
      "https://google.com/search?q=uday+goutam+goutam+neuro+care+hyderabad\n"
     ]
    },
    {
     "name": "stderr",
     "output_type": "stream",
     "text": [
      "\r",
      "  4%|█▍                                     | 64/1715 [02:36<1:06:52,  2.43s/it]"
     ]
    },
    {
     "name": "stdout",
     "output_type": "stream",
     "text": [
      "135 Google reviews\n",
      "['HNo261', 'MIG', 'Road', 'No', '4', 'Kukatpally', 'Housing', 'Board', 'Colony', 'Kukatpally', 'Hyderabad', 'Telangana', '500072']\n",
      "['Kukatpally', 'Hyderabad', 'Telangana']\n",
      "city:  Kukatpally Hyderabad Telangana\n",
      "https://google.com/search?q=mohammed+anfas+shine+specialty+clinics+hyderabad\n"
     ]
    },
    {
     "name": "stderr",
     "output_type": "stream",
     "text": [
      "\r",
      "  4%|█▍                                     | 65/1715 [02:39<1:07:07,  2.44s/it]"
     ]
    },
    {
     "name": "stdout",
     "output_type": "stream",
     "text": [
      "22 Google reviews\n",
      "['Lakshmi', 'Nagar', 'Colony', 'Film', 'Nagar', 'Hyderabad', 'Telangana', '500008']\n",
      "['Nagar', 'Hyderabad', 'Telangana']\n",
      "city:  Nagar Hyderabad Telangana\n",
      "https://google.com/search?q=navaneeth+raj+dr+romanas+hyderabad\n"
     ]
    },
    {
     "name": "stderr",
     "output_type": "stream",
     "text": [
      "\r",
      "  4%|█▌                                     | 66/1715 [02:41<1:08:44,  2.50s/it]"
     ]
    },
    {
     "name": "stdout",
     "output_type": "stream",
     "text": [
      "https://google.com/search?q=raghuveer+reddy+sai+institute+of+sports+injury+&+arthroscopy+hyderabad\n"
     ]
    },
    {
     "name": "stderr",
     "output_type": "stream",
     "text": [
      "\r",
      "  4%|█▌                                     | 67/1715 [02:44<1:11:18,  2.60s/it]"
     ]
    },
    {
     "name": "stdout",
     "output_type": "stream",
     "text": [
      "239 Google reviews\n",
      "['63252B8', 'Lane', 'Opp', 'More', 'Mega', 'Store', 'Erramanzil', 'Colony', 'Rd', 'Eramanzil', 'Punjagutta', 'Hyderabad', 'Telangana', '500004']\n",
      "['Punjagutta', 'Hyderabad', 'Telangana']\n",
      "city:  Punjagutta Hyderabad Telangana\n",
      "https://google.com/search?q=deepti+bandaru+pranada+childrens+clinic+hyderabad\n"
     ]
    },
    {
     "name": "stderr",
     "output_type": "stream",
     "text": [
      "\r",
      "  4%|█▌                                     | 68/1715 [02:47<1:09:12,  2.52s/it]"
     ]
    },
    {
     "name": "stdout",
     "output_type": "stream",
     "text": [
      "https://google.com/search?q=satish+andani+andani+hospital+for+women+&+children+hyderabad\n"
     ]
    },
    {
     "name": "stderr",
     "output_type": "stream",
     "text": [
      "\r",
      "  4%|█▌                                     | 69/1715 [02:49<1:08:05,  2.48s/it]"
     ]
    },
    {
     "name": "stdout",
     "output_type": "stream",
     "text": [
      "150 Google reviews\n",
      "['Narsingi', 'Heights', 'Opposite', 'Syndicate', 'Bank', 'beside', 'S', 'R', 'Model', 'School', 'Narsinigi', 'Telangana', '500089']\n",
      "['School', 'Narsinigi', 'Telangana']\n",
      "city:  School Narsinigi Telangana\n",
      "https://google.com/search?q=lakkireddi+prabhat+regenio+lakki+scope+orthopaedics+hyderabad\n"
     ]
    },
    {
     "name": "stderr",
     "output_type": "stream",
     "text": [
      "\r",
      "  4%|█▌                                     | 70/1715 [02:51<1:05:14,  2.38s/it]"
     ]
    },
    {
     "name": "stdout",
     "output_type": "stream",
     "text": [
      "https://google.com/search?q=alluri+neeraja+goutam+neuro+care+hyderabad\n"
     ]
    },
    {
     "name": "stderr",
     "output_type": "stream",
     "text": [
      "\r",
      "  4%|█▌                                     | 71/1715 [02:54<1:06:11,  2.42s/it]"
     ]
    },
    {
     "name": "stdout",
     "output_type": "stream",
     "text": [
      "135 Google reviews\n",
      "['HNo261', 'MIG', 'Road', 'No', '4', 'Kukatpally', 'Housing', 'Board', 'Colony', 'Kukatpally', 'Hyderabad', 'Telangana', '500072']\n",
      "['Kukatpally', 'Hyderabad', 'Telangana']\n",
      "city:  Kukatpally Hyderabad Telangana\n",
      "https://google.com/search?q=swetha+v+v+swethas+skin+&+cosmetology+clinic+hyderabad\n"
     ]
    },
    {
     "name": "stderr",
     "output_type": "stream",
     "text": [
      "\r",
      "  4%|█▋                                     | 72/1715 [02:56<1:05:54,  2.41s/it]"
     ]
    },
    {
     "name": "stdout",
     "output_type": "stream",
     "text": [
      "8 Google reviews\n",
      "['Shop', 'No3SR', 'TOWERSREMEDEY', 'HOSPITAL', 'LANE', 'Road', 'No', '4', 'Kukatpally', 'Housing', 'Board', 'Colony', 'Hyderabad', 'Telangana', '500072']\n",
      "['Colony', 'Hyderabad', 'Telangana']\n",
      "city:  Colony Hyderabad Telangana\n",
      "https://google.com/search?q=praneeth+moka+olive+diagnostics+hyderabad\n"
     ]
    },
    {
     "name": "stderr",
     "output_type": "stream",
     "text": [
      "\r",
      "  4%|█▋                                     | 73/1715 [02:59<1:08:12,  2.49s/it]"
     ]
    },
    {
     "name": "stdout",
     "output_type": "stream",
     "text": [
      "119 Google reviews\n",
      "['3rd', 'Floor', 'Yogeshwara', 'Complex', 'Madeenaguda', 'Telangana', '500049']\n",
      "['Complex', 'Madeenaguda', 'Telangana']\n",
      "city:  Complex Madeenaguda Telangana\n",
      "https://google.com/search?q=manohar++n+n+m+reddy+skin+and+hair+clinic+hyderabad\n"
     ]
    },
    {
     "name": "stderr",
     "output_type": "stream",
     "text": [
      "\r",
      "  4%|█▋                                     | 74/1715 [03:01<1:07:37,  2.47s/it]"
     ]
    },
    {
     "name": "stdout",
     "output_type": "stream",
     "text": [
      "23 Google reviews\n",
      "['Backside', 'of', 'Vijetha', 'Supermarket', '3', 'Manjeera', 'Pipeline', 'Rd', 'beside', 'Dr', 'Chenna', 'Reddy', 'Hospital', 'Indira', 'Nagar', 'Chanda', 'Nagar', 'Hyderabad', 'Telangana', '500050']\n",
      "['Nagar', 'Hyderabad', 'Telangana']\n",
      "city:  Nagar Hyderabad Telangana\n",
      "https://google.com/search?q=indira+pavan+omega+clinics+hyderabad\n"
     ]
    },
    {
     "name": "stderr",
     "output_type": "stream",
     "text": [
      "\r",
      "  4%|█▋                                     | 75/1715 [03:04<1:08:12,  2.50s/it]"
     ]
    },
    {
     "name": "stdout",
     "output_type": "stream",
     "text": [
      "351 Google reviews\n",
      "['Divija', 'Enclave', 'Street', 'No3', 'Western', 'HillsAddagutta', 'Society', 'Opp', 'JNTU', 'KPHB', 'Kukatpally', 'Hyderabad', 'Telangana', '500085']\n",
      "['Kukatpally', 'Hyderabad', 'Telangana']\n",
      "city:  Kukatpally Hyderabad Telangana\n",
      "https://google.com/search?q=boddepalli+srinivasarao+srinivasa+clinic+visakhapatnam\n"
     ]
    },
    {
     "name": "stderr",
     "output_type": "stream",
     "text": [
      "\r",
      "  4%|█▋                                     | 76/1715 [03:06<1:05:03,  2.38s/it]"
     ]
    },
    {
     "name": "stdout",
     "output_type": "stream",
     "text": [
      "https://google.com/search?q=gopi+palli+deepthi+nursing+home+visakhapatnam\n"
     ]
    },
    {
     "name": "stderr",
     "output_type": "stream",
     "text": [
      "\r",
      "  4%|█▊                                     | 77/1715 [03:08<1:02:04,  2.27s/it]"
     ]
    },
    {
     "name": "stdout",
     "output_type": "stream",
     "text": [
      "https://google.com/search?q=jayini+p+rammohen+jayini+multi-speciality+clinics+hyderabad\n"
     ]
    },
    {
     "name": "stderr",
     "output_type": "stream",
     "text": [
      "\r",
      "  5%|█▊                                     | 78/1715 [03:10<1:04:06,  2.35s/it]"
     ]
    },
    {
     "name": "stdout",
     "output_type": "stream",
     "text": [
      "507 Google reviews\n",
      "['5th', 'Floor', 'Above', 'Sachdev', 'Sports', 'Sri', 'Tirumalas', 'Subash', 'Arcade', 'HNo1621', 'Kondapur', 'Kothaguda', 'X', 'Roads', 'Hyderabad', 'Telangana', '500084']\n",
      "['Roads', 'Hyderabad', 'Telangana']\n",
      "city:  Roads Hyderabad Telangana\n",
      "https://google.com/search?q=sriharsha++talabhaktula+alyve+skin+clinic+visakhapatnam\n"
     ]
    },
    {
     "name": "stderr",
     "output_type": "stream",
     "text": [
      "\r",
      "  5%|█▊                                     | 79/1715 [03:13<1:04:53,  2.38s/it]"
     ]
    },
    {
     "name": "stdout",
     "output_type": "stream",
     "text": [
      "https://google.com/search?q=t+vijay+kumar+shree+sharan+poly+clinic+visakhapatnam\n"
     ]
    },
    {
     "name": "stderr",
     "output_type": "stream",
     "text": [
      "\r",
      "  5%|█▊                                     | 80/1715 [03:15<1:00:16,  2.21s/it]"
     ]
    },
    {
     "name": "stdout",
     "output_type": "stream",
     "text": [
      "https://google.com/search?q=b++rajendraprasad+sri+gayatri+clinic+visakhapatnam\n"
     ]
    },
    {
     "name": "stderr",
     "output_type": "stream",
     "text": [
      "\r",
      "  5%|█▊                                     | 81/1715 [03:19<1:14:49,  2.75s/it]"
     ]
    },
    {
     "name": "stdout",
     "output_type": "stream",
     "text": [
      "12 Google reviews\n",
      "['715', 'Bakkanapalem', 'Rd', 'Junction', 'Madhurawada', 'Visakhapatnam', 'Andhra', 'Pradesh', '530041']\n",
      "['Visakhapatnam', 'Andhra', 'Pradesh']\n",
      "city:  Visakhapatnam Andhra Pradesh\n",
      "https://google.com/search?q=p+kamakshi+sri+gayatri+clinic+visakhapatnam\n"
     ]
    },
    {
     "name": "stderr",
     "output_type": "stream",
     "text": [
      "\r",
      "  5%|█▊                                     | 82/1715 [03:22<1:23:26,  3.07s/it]"
     ]
    },
    {
     "name": "stdout",
     "output_type": "stream",
     "text": [
      "https://google.com/search?q=r++krishna++krishna+clinic+visakhapatnam\n"
     ]
    },
    {
     "name": "stderr",
     "output_type": "stream",
     "text": [
      "\r",
      "  5%|█▉                                     | 83/1715 [03:25<1:16:23,  2.81s/it]"
     ]
    },
    {
     "name": "stdout",
     "output_type": "stream",
     "text": [
      "https://google.com/search?q=kvn+prasad+sri+rama+clinic+visakhapatnam\n"
     ]
    },
    {
     "name": "stderr",
     "output_type": "stream",
     "text": [
      "\r",
      "  5%|█▉                                     | 84/1715 [03:27<1:10:50,  2.61s/it]"
     ]
    },
    {
     "name": "stdout",
     "output_type": "stream",
     "text": [
      "https://google.com/search?q=a+lakshmi+manasi+sri+krishna+multispeciality+clinics+visakhapatnam\n"
     ]
    },
    {
     "name": "stderr",
     "output_type": "stream",
     "text": [
      "\r",
      "  5%|█▉                                     | 85/1715 [03:29<1:11:15,  2.62s/it]"
     ]
    },
    {
     "name": "stdout",
     "output_type": "stream",
     "text": [
      "27 Google reviews\n",
      "['Srinivasa', 'nilayam', 'D', 'No', '5511836', 'JR', 'Layout', 'S', 'V', 'S', 'New', 'Venkojipalem', 'Visakhapatnam', 'Andhra', 'Pradesh', '530022']\n",
      "['Visakhapatnam', 'Andhra', 'Pradesh']\n",
      "city:  Visakhapatnam Andhra Pradesh\n",
      "https://google.com/search?q=venkata+vaddiraju+visakhakneeclinic+visakhapatnam\n"
     ]
    },
    {
     "name": "stderr",
     "output_type": "stream",
     "text": [
      "\r",
      "  5%|█▉                                     | 86/1715 [03:32<1:12:23,  2.67s/it]"
     ]
    },
    {
     "name": "stdout",
     "output_type": "stream",
     "text": [
      "https://google.com/search?q=g+manohar+gayatri+doctors+care+visakhapatnam\n"
     ]
    },
    {
     "name": "stderr",
     "output_type": "stream",
     "text": [
      "\r",
      "  5%|█▉                                     | 87/1715 [03:36<1:22:56,  3.06s/it]"
     ]
    },
    {
     "name": "stdout",
     "output_type": "stream",
     "text": [
      "7 Google reviews\n",
      "['8315', 'Opp', 'Surya', 'Kiran', 'Apartments', 'Andhra', 'Medical', 'College', 'Pedda', 'Waltair', 'Visakhapatnam', 'Andhra', 'Pradesh', '530017']\n",
      "['Visakhapatnam', 'Andhra', 'Pradesh']\n",
      "city:  Visakhapatnam Andhra Pradesh\n",
      "https://google.com/search?q=m+madhusudhana+babu+somanath+enclave+visakhapatnam\n"
     ]
    },
    {
     "name": "stderr",
     "output_type": "stream",
     "text": [
      "\r",
      "  5%|██                                     | 88/1715 [03:40<1:30:56,  3.35s/it]"
     ]
    },
    {
     "name": "stdout",
     "output_type": "stream",
     "text": [
      "4 Google reviews\n",
      "['Apollo', 'Hospitals', 'Health', 'City', 'Arilova', 'Vizag', 'Srl', 'No78P', '76', 'Chinnadagili', 'Arilova', 'Visakhapatnam', 'Andhra', 'Pradesh', '530040']\n",
      "['Visakhapatnam', 'Andhra', 'Pradesh']\n",
      "city:  Visakhapatnam Andhra Pradesh\n",
      "https://google.com/search?q=naveen+kumar++madigani+dr.+naveen's+advanced+skin,+cosmetology,+laser+&+hair+transplantation+clinic++visakhapatnam\n"
     ]
    },
    {
     "name": "stderr",
     "output_type": "stream",
     "text": [
      "\r",
      "  5%|██                                     | 89/1715 [03:43<1:26:01,  3.17s/it]"
     ]
    },
    {
     "name": "stdout",
     "output_type": "stream",
     "text": [
      "33 Google reviews\n",
      "['Plot', 'no308', 'Near', 'Punjab', 'National', 'Bank', 'Rd', 'Sector', '3A', 'Block', 'B', 'Sector', '3', 'Vaishali', 'Ghaziabad', 'Uttar', 'Pradesh', '201014']\n",
      "['Ghaziabad', 'Uttar', 'Pradesh']\n",
      "city:  Ghaziabad Uttar Pradesh\n",
      "https://google.com/search?q=b+bhaskarrao+doctor's+enclave+visakhapatnam\n"
     ]
    },
    {
     "name": "stderr",
     "output_type": "stream",
     "text": [
      "\r",
      "  5%|██                                     | 90/1715 [03:46<1:21:41,  3.02s/it]"
     ]
    },
    {
     "name": "stdout",
     "output_type": "stream",
     "text": [
      "https://google.com/search?q=anup+gundu+blossoms+skin+and+hair+clinic+hyderabad\n"
     ]
    },
    {
     "name": "stderr",
     "output_type": "stream",
     "text": [
      "\r",
      "  5%|██                                     | 91/1715 [03:50<1:31:50,  3.39s/it]"
     ]
    },
    {
     "name": "stdout",
     "output_type": "stream",
     "text": [
      "17 Google reviews\n",
      "['Dharmareddy', 'Phase2', 'Hydernagar', 'Balaji', 'Nagar', 'Main', 'Rd', 'Kukatpally', 'Hyderabad', 'Telangana', '500072']\n",
      "['Kukatpally', 'Hyderabad', 'Telangana']\n",
      "city:  Kukatpally Hyderabad Telangana\n",
      "https://google.com/search?q=venkata++p++dr.+pvk+health+care+poly+clinic+and+diagnostics+hyderabad\n"
     ]
    },
    {
     "name": "stderr",
     "output_type": "stream",
     "text": [
      "\r",
      "  5%|██                                     | 92/1715 [03:52<1:24:18,  3.12s/it]"
     ]
    },
    {
     "name": "stdout",
     "output_type": "stream",
     "text": [
      "6 Google reviews\n",
      "['8G4GRX3', 'Unnamed', 'Road', 'Shirdi', 'Enclave', 'Balapur', 'Badangpet', 'Hyderabad', 'Telangana', '500069']\n",
      "['Badangpet', 'Hyderabad', 'Telangana']\n",
      "city:  Badangpet Hyderabad Telangana\n",
      "https://google.com/search?q=pavan+kumar++k+omega+clinics+hyderabad\n"
     ]
    },
    {
     "name": "stderr",
     "output_type": "stream",
     "text": [
      "\r",
      "  5%|██                                     | 93/1715 [03:55<1:18:11,  2.89s/it]"
     ]
    },
    {
     "name": "stdout",
     "output_type": "stream",
     "text": [
      "https://google.com/search?q=vidya+m+kavya+narsing+home+hyderabad\n"
     ]
    },
    {
     "name": "stderr",
     "output_type": "stream",
     "text": [
      "\r",
      "  5%|██▏                                    | 94/1715 [03:58<1:19:27,  2.94s/it]"
     ]
    },
    {
     "name": "stdout",
     "output_type": "stream",
     "text": [
      "164 Google reviews\n",
      "['22', '254', 'beside', 'sbi', 'bank', 'lane', 'ASRaju', 'Nagar', 'Vivekananda', 'Nagar', 'Kukatpally', 'Hyderabad', 'Telangana', '500072']\n",
      "['Kukatpally', 'Hyderabad', 'Telangana']\n",
      "city:  Kukatpally Hyderabad Telangana\n",
      "https://google.com/search?q=aruna+k+shree+vaishnavi+childrens+clinic+hyderabad\n"
     ]
    },
    {
     "name": "stderr",
     "output_type": "stream",
     "text": [
      "\r",
      "  6%|██▏                                    | 95/1715 [04:02<1:28:17,  3.27s/it]"
     ]
    },
    {
     "name": "stdout",
     "output_type": "stream",
     "text": [
      "7 Google reviews\n",
      "['G9QVRFJ', 'Pragathi', 'Nagar', 'ALEAP', 'Industrial', 'Area', 'Near', 'Pragathi', 'Nagar', 'Kamaan', 'Miyapur', 'Rd', 'Hyderabad', 'Telangana', '500090']\n",
      "['Rd', 'Hyderabad', 'Telangana']\n",
      "city:  Rd Hyderabad Telangana\n",
      "https://google.com/search?q=jhansi+k+sri+bhargavi+hospital+hyderabad\n"
     ]
    },
    {
     "name": "stderr",
     "output_type": "stream",
     "text": [
      "\r",
      "  6%|██▏                                    | 96/1715 [04:06<1:34:33,  3.50s/it]"
     ]
    },
    {
     "name": "stdout",
     "output_type": "stream",
     "text": [
      "47 Google reviews\n",
      "['Plo', 'No170', 'Kalyan', 'Nagar', 'Phase', '3', 'Road', 'Kalyan', 'Nagar', 'Hyderabad', 'Telangana', '500045']\n",
      "['Nagar', 'Hyderabad', 'Telangana']\n",
      "city:  Nagar Hyderabad Telangana\n",
      "https://google.com/search?q=i+chandrasekhar+harshitha+hospital+visakhapatnam\n"
     ]
    },
    {
     "name": "stderr",
     "output_type": "stream",
     "text": [
      "\r",
      "  6%|██▏                                    | 97/1715 [04:10<1:38:49,  3.66s/it]"
     ]
    },
    {
     "name": "stdout",
     "output_type": "stream",
     "text": [
      "43 Google reviews\n",
      "['GNT', 'Road', 'New', 'Gajuwaka', 'Main', 'Road', 'New', 'Gajuwaka', 'Photo', 'Studio', 'Gajuwaka', 'Visakhapatnam', 'Andhra', 'Pradesh', '530026']\n",
      "['Visakhapatnam', 'Andhra', 'Pradesh']\n",
      "city:  Visakhapatnam Andhra Pradesh\n",
      "https://google.com/search?q=av+mohanrao+samudra+hospital+visakhapatnam\n"
     ]
    },
    {
     "name": "stderr",
     "output_type": "stream",
     "text": [
      "\r",
      "  6%|██▏                                    | 98/1715 [04:13<1:35:48,  3.56s/it]"
     ]
    },
    {
     "name": "stdout",
     "output_type": "stream",
     "text": [
      "23 Google reviews\n",
      "['Raksha', 'Plaza', 'KGH', 'Down', 'Rd', 'Near', 'KGH', 'Down', 'Road', 'Jagadamba', 'Junction', 'Visakhapatnam', 'Andhra', 'Pradesh', '530002']\n",
      "['Visakhapatnam', 'Andhra', 'Pradesh']\n",
      "city:  Visakhapatnam Andhra Pradesh\n",
      "https://google.com/search?q=ranga+rao+m+v+kavya+nursing+home+hyderabad\n"
     ]
    },
    {
     "name": "stderr",
     "output_type": "stream",
     "text": [
      "\r",
      "  6%|██▎                                    | 99/1715 [04:15<1:25:08,  3.16s/it]"
     ]
    },
    {
     "name": "stdout",
     "output_type": "stream",
     "text": [
      "https://google.com/search?q=mithun+d+ashmita+ortho+spine+care+hyderabad\n"
     ]
    },
    {
     "name": "stderr",
     "output_type": "stream",
     "text": [
      "\r",
      "  6%|██▏                                   | 100/1715 [04:19<1:32:03,  3.42s/it]"
     ]
    },
    {
     "name": "stdout",
     "output_type": "stream",
     "text": [
      "114 Google reviews\n",
      "['261', 'shop', 'no', '12', 'opp', 'Vijetha', 'supermarket', 'Main', 'road', 'behind', 'Lotus', 'pharmacy', 'Chanda', 'Nagar', 'Telangana', '500050']\n",
      "['Chanda', 'Nagar', 'Telangana']\n",
      "city:  Chanda Nagar Telangana\n",
      "https://google.com/search?q=varun+bogadi+nithya+gastro+and+liver+clinic++hyderabad\n"
     ]
    },
    {
     "name": "stderr",
     "output_type": "stream",
     "text": [
      "\r",
      "  6%|██▏                                   | 101/1715 [04:24<1:37:28,  3.62s/it]"
     ]
    },
    {
     "name": "stdout",
     "output_type": "stream",
     "text": [
      "https://google.com/search?q=shobha++p+maruthu+hospital+hyderabad\n"
     ]
    },
    {
     "name": "stderr",
     "output_type": "stream",
     "text": [
      "\r",
      "  6%|██▎                                   | 102/1715 [04:28<1:40:49,  3.75s/it]"
     ]
    },
    {
     "name": "stdout",
     "output_type": "stream",
     "text": [
      "https://google.com/search?q=ajay++paruchuri+ajay+orthopaedic+clinic+hyderabad\n"
     ]
    },
    {
     "name": "stderr",
     "output_type": "stream",
     "text": [
      "\r",
      "  6%|██▎                                   | 103/1715 [04:32<1:43:20,  3.85s/it]"
     ]
    },
    {
     "name": "stdout",
     "output_type": "stream",
     "text": [
      "40 Google reviews\n",
      "['4th', 'Rd', 'MIG251', '4th', 'Rd', 'K', 'P', 'H', 'B', 'Phase', '1', 'Kukatpally', 'Hyderabad', 'Telangana', '500072']\n",
      "['Kukatpally', 'Hyderabad', 'Telangana']\n",
      "city:  Kukatpally Hyderabad Telangana\n",
      "https://google.com/search?q=k+venkatachalam+sri+gayatri+skin+care+visakhapatnam\n"
     ]
    },
    {
     "name": "stderr",
     "output_type": "stream",
     "text": [
      "\r",
      "  6%|██▎                                   | 104/1715 [04:34<1:33:57,  3.50s/it]"
     ]
    },
    {
     "name": "stdout",
     "output_type": "stream",
     "text": [
      "74 Google reviews\n",
      "['2nd', 'Floor', 'Satya', 'Sridevi', 'Enclave', 'III', 'Lane', 'Seethammapeta', 'Road', 'Opposite', 'Harsha', 'Labs', 'Dwaraka', 'Nagar', 'Visakhapatnam', 'Andhra', 'Pradesh', '530016']\n",
      "['Visakhapatnam', 'Andhra', 'Pradesh']\n",
      "city:  Visakhapatnam Andhra Pradesh\n",
      "https://google.com/search?q=chandra+v+tanishka+clinic+hyderabad\n"
     ]
    },
    {
     "name": "stderr",
     "output_type": "stream",
     "text": [
      "\r",
      "  6%|██▎                                   | 105/1715 [04:37<1:25:14,  3.18s/it]"
     ]
    },
    {
     "name": "stdout",
     "output_type": "stream",
     "text": [
      "40 Google reviews\n",
      "['plot', 'no76croad', 'no3HP', 'GAS', 'AGENCY', 'LINEADDAGUTTA', 'SOCIETYOPPJNTU', 'Kukatpally', 'Hyderabad', 'Telangana', '500072']\n",
      "['Kukatpally', 'Hyderabad', 'Telangana']\n",
      "city:  Kukatpally Hyderabad Telangana\n",
      "https://google.com/search?q=kavitha+khola+sai+arogya+pharmacy+hyderabad\n"
     ]
    },
    {
     "name": "stderr",
     "output_type": "stream",
     "text": [
      "\r",
      "  6%|██▎                                   | 106/1715 [04:41<1:32:47,  3.46s/it]"
     ]
    },
    {
     "name": "stdout",
     "output_type": "stream",
     "text": [
      "1 Google review\n",
      "['Shop', 'no7', 'csc4', 'Pocket', '5', 'Sector', '5', 'Rohini', 'Delhi', '110085']\n",
      "['5', 'Rohini', 'Delhi']\n",
      "city:  5 Rohini Delhi\n",
      "https://google.com/search?q=prabhat+kiran+reddy+k+prabhath+medical+center+hyderabad\n"
     ]
    },
    {
     "name": "stderr",
     "output_type": "stream",
     "text": [
      "\r",
      "  6%|██▎                                   | 107/1715 [04:44<1:26:12,  3.22s/it]"
     ]
    },
    {
     "name": "stdout",
     "output_type": "stream",
     "text": [
      "71 Google reviews\n",
      "['CC76XVX', 'Film', 'Nagar', 'Hyderabad', 'Telangana', '500096']\n",
      "['Nagar', 'Hyderabad', 'Telangana']\n",
      "city:  Nagar Hyderabad Telangana\n",
      "https://google.com/search?q=swathi+c+ramdev+rao+hospital,house++hyderabad\n"
     ]
    },
    {
     "name": "stderr",
     "output_type": "stream",
     "text": [
      "\r",
      "  6%|██▍                                   | 108/1715 [04:48<1:35:53,  3.58s/it]"
     ]
    },
    {
     "name": "stdout",
     "output_type": "stream",
     "text": [
      "445 Google reviews\n",
      "['Metro', 'pillar', 'no', '34', 'HN16', 'National', 'Highway', 'No', '65', 'Kukatpally', 'Hyderabad', 'Telangana', '500072']\n",
      "['Kukatpally', 'Hyderabad', 'Telangana']\n",
      "city:  Kukatpally Hyderabad Telangana\n",
      "https://google.com/search?q=arun+nadimpalli++magnum+orthopadic+clinic+hyderabad\n"
     ]
    },
    {
     "name": "stderr",
     "output_type": "stream",
     "text": [
      "\r",
      "  6%|██▍                                   | 109/1715 [04:52<1:38:59,  3.70s/it]"
     ]
    },
    {
     "name": "stdout",
     "output_type": "stream",
     "text": [
      "7 Google reviews\n",
      "['1', 'JNTU', 'Hitech', 'City', 'Road', 'Phase', '2', 'JNTU', 'Hitech', 'City', 'Road', 'Phase', '2', 'K', 'P', 'H', 'B', 'Phase', '1', 'Kukatpally', 'Hyderabad', 'Telangana', '500072']\n",
      "['Kukatpally', 'Hyderabad', 'Telangana']\n",
      "city:  Kukatpally Hyderabad Telangana\n",
      "https://google.com/search?q=sreekanth+appasani+shine+gastro+centre+sangareddy\n"
     ]
    },
    {
     "name": "stderr",
     "output_type": "stream",
     "text": [
      "\r",
      "  6%|██▍                                   | 110/1715 [04:56<1:42:48,  3.84s/it]"
     ]
    },
    {
     "name": "stdout",
     "output_type": "stream",
     "text": [
      "89 Google reviews\n",
      "['MIG', '1167', '3rd', 'Floor', 'Insight', 'Towers', 'Rd', 'Number', '1', 'opp', 'Prime', 'Hospitals', 'Kukatpally', 'Housing', 'Board', 'Colony', 'Kukatpally', 'Hyderabad', 'Telangana', '500072']\n",
      "['Kukatpally', 'Hyderabad', 'Telangana']\n",
      "city:  Kukatpally Hyderabad Telangana\n",
      "https://google.com/search?q=madhavi+b+prathima+hospital+hyderabad\n"
     ]
    },
    {
     "name": "stderr",
     "output_type": "stream",
     "text": [
      "\r",
      "  6%|██▍                                   | 111/1715 [05:00<1:45:54,  3.96s/it]"
     ]
    },
    {
     "name": "stdout",
     "output_type": "stream",
     "text": [
      "1,117 Google reviews\n",
      "['Plot', 'No', '27', 'Street', 'no', '1', 'Jal', 'Vayuvihar', 'Road', 'opp', 'Arjun', 'Theatre', 'Hyderabad', 'Telangana', '500072']\n",
      "['Theatre', 'Hyderabad', 'Telangana']\n",
      "city:  Theatre Hyderabad Telangana\n",
      "https://google.com/search?q=aparna++m+prerana+hospital+hyderabad\n"
     ]
    },
    {
     "name": "stderr",
     "output_type": "stream",
     "text": [
      "\r",
      "  7%|██▍                                   | 112/1715 [05:05<1:47:24,  4.02s/it]"
     ]
    },
    {
     "name": "stdout",
     "output_type": "stream",
     "text": [
      "39 Google reviews\n",
      "['Plot', 'No', '61', 'Near', 'Kukatpally', 'Bus', 'Stop', 'Kumar', 'Road', 'Balaji', 'Nagar', 'Main', 'Rd', 'Balaji', 'Nagar', 'Kukatpally', 'Hyderabad', 'Telangana', '500072']\n",
      "['Kukatpally', 'Hyderabad', 'Telangana']\n",
      "city:  Kukatpally Hyderabad Telangana\n",
      "https://google.com/search?q=moningi+kedar+jyoti+ortho+care+visakhapatnam\n"
     ]
    },
    {
     "name": "stderr",
     "output_type": "stream",
     "text": [
      "\r",
      "  7%|██▌                                   | 113/1715 [05:09<1:47:34,  4.03s/it]"
     ]
    },
    {
     "name": "stdout",
     "output_type": "stream",
     "text": [
      "8 Google reviews\n",
      "['16820', 'S', 'K', 'Clinics', 'and', 'diagnostics', 'MVP', 'Main', 'Rd', 'next', 'to', 'Tirumala', 'Vijaya', 'hospital', 'Sector', '2', 'MVP', 'Colony', 'Visakhapatnam', 'Andhra', 'Pradesh', '530017']\n",
      "['Visakhapatnam', 'Andhra', 'Pradesh']\n",
      "city:  Visakhapatnam Andhra Pradesh\n",
      "https://google.com/search?q=nithya+chandra+nitya's+clinic+hyderabad\n"
     ]
    },
    {
     "name": "stderr",
     "output_type": "stream",
     "text": [
      "\r",
      "  7%|██▌                                   | 114/1715 [05:10<1:30:27,  3.39s/it]"
     ]
    },
    {
     "name": "stdout",
     "output_type": "stream",
     "text": [
      "https://google.com/search?q=manasa+tupkar++ananya+skin+hair+laser+&+multispecialty+clinic+hyderabad\n"
     ]
    },
    {
     "name": "stderr",
     "output_type": "stream",
     "text": [
      "\r",
      "  7%|██▌                                   | 115/1715 [05:15<1:37:18,  3.65s/it]"
     ]
    },
    {
     "name": "stdout",
     "output_type": "stream",
     "text": [
      "https://google.com/search?q=gopi+tupkar+ananya+skin+hair+laser+&+multispecialty+clinic+hyderabad\n"
     ]
    },
    {
     "name": "stderr",
     "output_type": "stream",
     "text": [
      "\r",
      "  7%|██▌                                   | 116/1715 [05:18<1:36:00,  3.60s/it]"
     ]
    },
    {
     "name": "stdout",
     "output_type": "stream",
     "text": [
      "https://google.com/search?q=ganesh+mathan+mathans+medical+centre+hyderabad\n"
     ]
    },
    {
     "name": "stderr",
     "output_type": "stream",
     "text": [
      "\r",
      "  7%|██▌                                   | 117/1715 [05:21<1:29:14,  3.35s/it]"
     ]
    },
    {
     "name": "stdout",
     "output_type": "stream",
     "text": [
      "376 Google reviews\n",
      "['above', 'MAYURI', 'MEDICALS', 'Gulmohar', 'Park', 'Colony', 'Serilingampalle', 'M', 'Telangana', '500019']\n",
      "['Serilingampalle', 'M', 'Telangana']\n",
      "city:  Serilingampalle M Telangana\n",
      "https://google.com/search?q=nikita+deshmukh+nikitas+ent+hyderabad\n"
     ]
    },
    {
     "name": "stderr",
     "output_type": "stream",
     "text": [
      "\r",
      "  7%|██▌                                   | 118/1715 [05:23<1:22:20,  3.09s/it]"
     ]
    },
    {
     "name": "stdout",
     "output_type": "stream",
     "text": [
      "39 Google reviews\n",
      "['KIMS', 'Hospitals', 'Kondapur', '1112', '86', 'Gachibowli', 'Miyapur', 'Rd', 'beside', 'Andhra', 'Bank', 'Hanuman', 'Nagar', 'Shilpa', 'Hills', 'Kondapur', 'Telangana', '500084']\n",
      "['Hills', 'Kondapur', 'Telangana']\n",
      "city:  Hills Kondapur Telangana\n",
      "https://google.com/search?q=raju+ch+dr+rajus+chest+and+eye+clinic+hyderabad\n"
     ]
    },
    {
     "name": "stderr",
     "output_type": "stream",
     "text": [
      "\r",
      "  7%|██▋                                   | 119/1715 [05:26<1:18:17,  2.94s/it]"
     ]
    },
    {
     "name": "stdout",
     "output_type": "stream",
     "text": [
      "168 Google reviews\n",
      "['H', 'No', '498', 'Service', 'Road', 'Behind', 'Anu', 'Furniture', 'Lane', 'Hyderabad', 'Telangana', '500050']\n",
      "['Lane', 'Hyderabad', 'Telangana']\n",
      "city:  Lane Hyderabad Telangana\n",
      "https://google.com/search?q=ans+varaprasad+vijaya+krishna+clinic+visakhapatnam\n"
     ]
    },
    {
     "name": "stderr",
     "output_type": "stream",
     "text": [
      "\r",
      "  7%|██▋                                   | 120/1715 [05:30<1:28:22,  3.32s/it]"
     ]
    },
    {
     "name": "stdout",
     "output_type": "stream",
     "text": [
      "37 Google reviews\n",
      "['P8669JR', 'Opposite', 'Zilla', 'Parishad', 'Gate', 'Krishnagar', 'Port', 'Officers', 'Quarters', 'Maharani', 'Peta', 'Visakhapatnam', 'Andhra', 'Pradesh', '530002']\n",
      "['Visakhapatnam', 'Andhra', 'Pradesh']\n",
      "city:  Visakhapatnam Andhra Pradesh\n",
      "https://google.com/search?q=venkatesh+lagudu+dr.+venkatesh+clinic+visakhapatnam\n"
     ]
    },
    {
     "name": "stderr",
     "output_type": "stream",
     "text": [
      "\r",
      "  7%|██▋                                   | 121/1715 [05:33<1:20:04,  3.01s/it]"
     ]
    },
    {
     "name": "stdout",
     "output_type": "stream",
     "text": [
      "https://google.com/search?q=anirudh+b+medcare+clinic+hyderabad\n"
     ]
    },
    {
     "name": "stderr",
     "output_type": "stream",
     "text": [
      "\r",
      "  7%|██▋                                   | 122/1715 [05:37<1:28:25,  3.33s/it]"
     ]
    },
    {
     "name": "stdout",
     "output_type": "stream",
     "text": [
      "5 Google reviews\n",
      "['h', 'no', '151073', 'nr', 'plot', '75', 'Father', 'Balaiah', 'Nagar', 'Road', 'Old', 'Alwal', 'Hyderabad', 'Telangana', '500010']\n",
      "['Alwal', 'Hyderabad', 'Telangana']\n",
      "city:  Alwal Hyderabad Telangana\n",
      "https://google.com/search?q=rv++venkata+rao+best+super+speciality+clinics+hyderabad\n"
     ]
    },
    {
     "name": "stderr",
     "output_type": "stream",
     "text": [
      "\r",
      "  7%|██▋                                   | 123/1715 [05:41<1:37:32,  3.68s/it]"
     ]
    },
    {
     "name": "stdout",
     "output_type": "stream",
     "text": [
      "https://google.com/search?q=ravi+daksh+daksh+clinics+hyderabad\n"
     ]
    },
    {
     "name": "stderr",
     "output_type": "stream",
     "text": [
      "\r",
      "  7%|██▋                                   | 124/1715 [05:44<1:27:22,  3.29s/it]"
     ]
    },
    {
     "name": "stdout",
     "output_type": "stream",
     "text": [
      "41 Google reviews\n",
      "['Sangeetha', 'Landmark', 'Botanical', 'Garden', 'Rd', 'adjacent', 'to', 'Palapitta', 'cycling', 'park', 'Kondapur', 'Telangana', '500084']\n",
      "['park', 'Kondapur', 'Telangana']\n",
      "city:  park Kondapur Telangana\n",
      "https://google.com/search?q=neelima++madireddy++best+super+speciality+clinics+hyderabad\n"
     ]
    },
    {
     "name": "stderr",
     "output_type": "stream",
     "text": [
      "\r",
      "  7%|██▊                                   | 125/1715 [05:46<1:17:55,  2.94s/it]"
     ]
    },
    {
     "name": "stdout",
     "output_type": "stream",
     "text": [
      "https://google.com/search?q=satyanarayana+batari+mediclinic+multispeciality+clinilc+hyderabad\n"
     ]
    },
    {
     "name": "stderr",
     "output_type": "stream",
     "text": [
      "\r",
      "  7%|██▊                                   | 126/1715 [05:50<1:27:23,  3.30s/it]"
     ]
    },
    {
     "name": "stdout",
     "output_type": "stream",
     "text": [
      "28 Google reviews\n",
      "['NVS', 'Residency', 'Shop', '6', 'MMTS', 'Main', 'Road', 'Chandnagar', 'Railway', 'Station', 'Road', 'HUDA', 'Colony', 'Chanda', 'Nagar', 'Hyderabad', 'Telangana', '500050']\n",
      "['Nagar', 'Hyderabad', 'Telangana']\n",
      "city:  Nagar Hyderabad Telangana\n",
      "https://google.com/search?q=pvijaya+lakshmi+vijayas+maternity+and+general+hosptials+hyderabad\n"
     ]
    },
    {
     "name": "stderr",
     "output_type": "stream",
     "text": [
      "\r",
      "  7%|██▊                                   | 127/1715 [05:54<1:35:49,  3.62s/it]"
     ]
    },
    {
     "name": "stdout",
     "output_type": "stream",
     "text": [
      "104 Google reviews\n",
      "['Kondapur', 'Main', 'Road', 'Sri', 'Ramnagar', 'Block', 'B', 'Laxmi', 'Nagar', 'Kondapur', 'Telangana', '500084']\n",
      "['Nagar', 'Kondapur', 'Telangana']\n",
      "city:  Nagar Kondapur Telangana\n",
      "https://google.com/search?q=puja+lavania+life+care+gynecology+hospital+hyderabad\n"
     ]
    },
    {
     "name": "stderr",
     "output_type": "stream",
     "text": [
      "\r",
      "  7%|██▊                                   | 128/1715 [05:57<1:28:17,  3.34s/it]"
     ]
    },
    {
     "name": "stdout",
     "output_type": "stream",
     "text": [
      "18 Google reviews\n",
      "['9402403', 'PJR', 'Enclave', 'Rd', 'Madhavapuri', 'Hills', 'PJR', 'Enclave', 'PJR', 'Layout', 'Chanda', 'Nagar', 'Hyderabad', 'Telangana', '500133']\n",
      "['Nagar', 'Hyderabad', 'Telangana']\n",
      "city:  Nagar Hyderabad Telangana\n",
      "https://google.com/search?q=guru+a+relief+clinic+hyderabad\n"
     ]
    },
    {
     "name": "stderr",
     "output_type": "stream",
     "text": [
      "\r",
      "  8%|██▊                                   | 129/1715 [06:00<1:30:36,  3.43s/it]"
     ]
    },
    {
     "name": "stdout",
     "output_type": "stream",
     "text": [
      "https://google.com/search?q=sunil+ch+relief+hospital+and+clinic+hyderabad\n"
     ]
    },
    {
     "name": "stderr",
     "output_type": "stream",
     "text": [
      "\r",
      "  8%|██▉                                   | 130/1715 [06:03<1:24:22,  3.19s/it]"
     ]
    },
    {
     "name": "stdout",
     "output_type": "stream",
     "text": [
      "137 Google reviews\n",
      "['6383', 'Mallampet', 'Rd', 'Near', 'Silver', 'Oaks', 'School', 'Bachupally', 'Hyderabad', 'Telangana', '500090']\n",
      "['Bachupally', 'Hyderabad', 'Telangana']\n",
      "city:  Bachupally Hyderabad Telangana\n",
      "https://google.com/search?q=ashok+kumar+singh+singh+ent+clinic+hyderabad\n"
     ]
    },
    {
     "name": "stderr",
     "output_type": "stream",
     "text": [
      "\r",
      "  8%|██▉                                   | 131/1715 [06:07<1:31:01,  3.45s/it]"
     ]
    },
    {
     "name": "stdout",
     "output_type": "stream",
     "text": [
      "27 Google reviews\n",
      "['2nd', 'Floor', 'HNo', '81284OU305', 'Bheemas', 'Hotel', 'Lane', 'OU', 'Colony', 'Shaikpet', 'Telangana', '500008']\n",
      "['Colony', 'Shaikpet', 'Telangana']\n",
      "city:  Colony Shaikpet Telangana\n",
      "https://google.com/search?q=bala+murali+krishna+kondala+atharv+gastro+&liver+clinic+hyderabad\n"
     ]
    },
    {
     "name": "stderr",
     "output_type": "stream",
     "text": [
      "\r",
      "  8%|██▉                                   | 132/1715 [06:09<1:21:06,  3.07s/it]"
     ]
    },
    {
     "name": "stdout",
     "output_type": "stream",
     "text": [
      "https://google.com/search?q=b+nithin+kumar+medihub+clinics+hyderabad\n"
     ]
    },
    {
     "name": "stderr",
     "output_type": "stream",
     "text": [
      "\r",
      "  8%|██▉                                   | 133/1715 [06:13<1:29:20,  3.39s/it]"
     ]
    },
    {
     "name": "stdout",
     "output_type": "stream",
     "text": [
      "https://google.com/search?q=sai+katepally++gastro+care+hyderabad\n"
     ]
    },
    {
     "name": "stderr",
     "output_type": "stream",
     "text": [
      "\r",
      "  8%|██▉                                   | 134/1715 [06:16<1:20:48,  3.07s/it]"
     ]
    },
    {
     "name": "stdout",
     "output_type": "stream",
     "text": [
      "28 Google reviews\n",
      "['Street', 'Number', '8', 'Satyanarayana', 'Swamy', 'Nagar', 'Habsiguda', 'Hyderabad', 'Telangana', '500007']\n",
      "['Habsiguda', 'Hyderabad', 'Telangana']\n",
      "city:  Habsiguda Hyderabad Telangana\n",
      "https://google.com/search?q=udaykiran+b+sai+polyclinic+hyderabad\n"
     ]
    },
    {
     "name": "stderr",
     "output_type": "stream",
     "text": [
      "\r",
      "  8%|██▉                                   | 135/1715 [06:20<1:29:58,  3.42s/it]"
     ]
    },
    {
     "name": "stdout",
     "output_type": "stream",
     "text": [
      "284 Google reviews\n",
      "['HNo122823A1', 'PVR', 'Fly', 'Over', 'Mehdipatnam', 'opposite', 'Pillar', 'Number', '19', 'Hyderabad', 'Telangana', '500028']\n",
      "['19', 'Hyderabad', 'Telangana']\n",
      "city:  19 Hyderabad Telangana\n",
      "https://google.com/search?q=nilofer+dr+dr.+nilofer+skin+clinic+hyderabad\n"
     ]
    },
    {
     "name": "stderr",
     "output_type": "stream",
     "text": [
      "\r",
      "  8%|███                                   | 136/1715 [06:22<1:20:06,  3.04s/it]"
     ]
    },
    {
     "name": "stdout",
     "output_type": "stream",
     "text": [
      "https://google.com/search?q=meghanadh+k+r+maa+ent+hospital+hyderabad\n"
     ]
    },
    {
     "name": "stderr",
     "output_type": "stream",
     "text": [
      "\r",
      "  8%|███                                   | 137/1715 [06:25<1:16:37,  2.91s/it]"
     ]
    },
    {
     "name": "stdout",
     "output_type": "stream",
     "text": [
      "817 Google reviews\n",
      "['8229382A', '1266', 'Rd', 'Number', '36', 'Jubilee', 'Hills', 'Hyderabad', 'Telangana', '500033']\n",
      "['Hills', 'Hyderabad', 'Telangana']\n",
      "city:  Hills Hyderabad Telangana\n",
      "https://google.com/search?q=nataraj+perumalla+my+skin+hair+and+cosmetology+clinic+hyderabad\n"
     ]
    },
    {
     "name": "stderr",
     "output_type": "stream",
     "text": [
      "\r",
      "  8%|███                                   | 138/1715 [06:28<1:16:15,  2.90s/it]"
     ]
    },
    {
     "name": "stdout",
     "output_type": "stream",
     "text": [
      "46 Google reviews\n",
      "['Door', 'Number', '110262', 'Beside', 'Prasamsha', 'Hospital', 'Temple', 'Alwal', 'Rd', 'opposite', 'to', 'L', 'V', 'Prasad', 'Eye', 'Hospital', 'Secunderabad', 'Telangana', '500010']\n",
      "['Hospital', 'Secunderabad', 'Telangana']\n",
      "city:  Hospital Secunderabad Telangana\n",
      "https://google.com/search?q=dwarakanatha+reddy+swati+ployclinic+hyderabad\n"
     ]
    },
    {
     "name": "stderr",
     "output_type": "stream",
     "text": [
      "\r",
      "  8%|███                                   | 139/1715 [06:30<1:13:05,  2.78s/it]"
     ]
    },
    {
     "name": "stdout",
     "output_type": "stream",
     "text": [
      "4 Google reviews\n",
      "['Swati', 'Polyclinic', 'opp', 'Vijaya', 'diagnostics', 'Moti', 'Nagar', 'Phase', 'III', 'Kalyan', 'Nagar', 'Moti', 'Nagar', 'Hyderabad', 'Telangana', '500045']\n",
      "['Nagar', 'Hyderabad', 'Telangana']\n",
      "city:  Nagar Hyderabad Telangana\n",
      "https://google.com/search?q=madan+mohan+rao+p+hope+children's+hospital+hyderabad\n"
     ]
    },
    {
     "name": "stderr",
     "output_type": "stream",
     "text": [
      "\r",
      "  8%|███                                   | 140/1715 [06:33<1:11:42,  2.73s/it]"
     ]
    },
    {
     "name": "stdout",
     "output_type": "stream",
     "text": [
      "179 Google reviews\n",
      "['592481', 'Lake', 'Hill', 'Rd', 'Hill', 'Fort', 'Adarsh', 'Nagar', 'Hyderabad', 'Telangana', '500063']\n",
      "['Nagar', 'Hyderabad', 'Telangana']\n",
      "city:  Nagar Hyderabad Telangana\n",
      "https://google.com/search?q=g+k+rao+chandra+clinic+hyderabad\n"
     ]
    },
    {
     "name": "stderr",
     "output_type": "stream",
     "text": [
      "\r",
      "  8%|███                                   | 141/1715 [06:35<1:08:25,  2.61s/it]"
     ]
    },
    {
     "name": "stdout",
     "output_type": "stream",
     "text": [
      "6 Google reviews\n",
      "['15975', 'Hafeezpet', 'Road', 'Miyapur', 'Miyapur', 'Hyderabad', 'Telangana', '500050']\n",
      "['Miyapur', 'Hyderabad', 'Telangana']\n",
      "city:  Miyapur Hyderabad Telangana\n",
      "https://google.com/search?q=pandu+ranga+rao+kondadasula+gastro+vision+hyderabad\n"
     ]
    },
    {
     "name": "stderr",
     "output_type": "stream",
     "text": [
      "\r",
      "  8%|███▏                                  | 142/1715 [06:39<1:17:58,  2.97s/it]"
     ]
    },
    {
     "name": "stdout",
     "output_type": "stream",
     "text": [
      "https://google.com/search?q=ganesh+namani+sree+ganesh+endocrine+centre+hyderabad\n"
     ]
    },
    {
     "name": "stderr",
     "output_type": "stream",
     "text": [
      "\r",
      "  8%|███▏                                  | 143/1715 [06:41<1:13:22,  2.80s/it]"
     ]
    },
    {
     "name": "stdout",
     "output_type": "stream",
     "text": [
      "https://google.com/search?q=kusuma+++sandhya+sandhya+children's+clinic+visakhapatnam\n"
     ]
    },
    {
     "name": "stderr",
     "output_type": "stream",
     "text": [
      "\r",
      "  8%|███▏                                  | 144/1715 [06:44<1:09:38,  2.66s/it]"
     ]
    },
    {
     "name": "stdout",
     "output_type": "stream",
     "text": [
      "6 Google reviews\n",
      "['M6RJ6M9', 'Gajuwaka', 'Scindia', 'Rd', 'Coromandel', 'Colony', 'Ajantha', 'Colony', 'Sriram', 'Nagar', 'Visakhapatnam', 'Andhra', 'Pradesh', '530015']\n",
      "['Visakhapatnam', 'Andhra', 'Pradesh']\n",
      "city:  Visakhapatnam Andhra Pradesh\n",
      "https://google.com/search?q=muzaffar+sharif+the+ent+care+hyderabad\n"
     ]
    },
    {
     "name": "stderr",
     "output_type": "stream",
     "text": [
      "\r",
      "  8%|███▏                                  | 145/1715 [06:46<1:08:12,  2.61s/it]"
     ]
    },
    {
     "name": "stdout",
     "output_type": "stream",
     "text": [
      "343 Google reviews\n",
      "['Abhay', 'Plaza', 'Amberpet', 'Main', 'Rd', 'beside', 'Crown', 'Function', 'Hall', 'Owaisi', 'Nagar', 'Kamshetty', 'Enclave', 'Akash', 'Nagar', 'Amberpet', 'Hyderabad', 'Telangana', '500013']\n",
      "['Amberpet', 'Hyderabad', 'Telangana']\n",
      "city:  Amberpet Hyderabad Telangana\n",
      "https://google.com/search?q=kiran++reddy+bvs+dr+kiran's+ent+hyderabad\n"
     ]
    },
    {
     "name": "stderr",
     "output_type": "stream",
     "text": [
      "\r",
      "  9%|███▏                                  | 146/1715 [06:50<1:21:15,  3.11s/it]"
     ]
    },
    {
     "name": "stdout",
     "output_type": "stream",
     "text": [
      "29 Google reviews\n",
      "['Plot', 'no', '343', 'Radhika', 'Residency1st', 'floor', 'Raja', 'Rajeswari', 'Colony', 'Kondapur', 'Telangana', '500084']\n",
      "['Colony', 'Kondapur', 'Telangana']\n",
      "city:  Colony Kondapur Telangana\n",
      "https://google.com/search?q=sandeep+reddy+karri+apple+clinic+hyderabad\n"
     ]
    },
    {
     "name": "stderr",
     "output_type": "stream",
     "text": [
      "\r",
      "  9%|███▎                                  | 147/1715 [06:53<1:14:37,  2.86s/it]"
     ]
    },
    {
     "name": "stdout",
     "output_type": "stream",
     "text": [
      "https://google.com/search?q=snitha+reddy++apple+clinic+hyderabad\n"
     ]
    },
    {
     "name": "stderr",
     "output_type": "stream",
     "text": [
      "\r",
      "  9%|███▎                                  | 148/1715 [06:56<1:16:23,  2.92s/it]"
     ]
    },
    {
     "name": "stdout",
     "output_type": "stream",
     "text": [
      "141 Google reviews\n",
      "['Swapna', 'nirman', 'platina', 'A', 'Manjeera', 'Pipeline', 'Rd', 'Hafeezpet', 'Telangana', '500049']\n",
      "['Rd', 'Hafeezpet', 'Telangana']\n",
      "city:  Rd Hafeezpet Telangana\n",
      "https://google.com/search?q=geetha+k+sri+krishna+hospital+hyderabad\n"
     ]
    },
    {
     "name": "stderr",
     "output_type": "stream",
     "text": [
      "\r",
      "  9%|███▎                                  | 149/1715 [06:59<1:19:17,  3.04s/it]"
     ]
    },
    {
     "name": "stdout",
     "output_type": "stream",
     "text": [
      "37 Google reviews\n",
      "['1693343A', 'near', 'Khagazz', 'Khana', 'Sarjoni', 'Nagar', 'Dhobi', 'Galli', 'Old', 'Malakpet', 'Hyderabad', 'Telangana', '500036']\n",
      "['Malakpet', 'Hyderabad', 'Telangana']\n",
      "city:  Malakpet Hyderabad Telangana\n",
      "https://google.com/search?q=avinash+s+sri+krishna+hospital+hyderabad\n"
     ]
    },
    {
     "name": "stderr",
     "output_type": "stream",
     "text": [
      "\r",
      "  9%|███▎                                  | 150/1715 [07:03<1:26:22,  3.31s/it]"
     ]
    },
    {
     "name": "stdout",
     "output_type": "stream",
     "text": [
      "https://google.com/search?q=vasanth+suram+veda+clinic+hyderabad\n"
     ]
    },
    {
     "name": "stderr",
     "output_type": "stream",
     "text": [
      "\r",
      "  9%|███▎                                  | 151/1715 [07:07<1:32:54,  3.56s/it]"
     ]
    },
    {
     "name": "stdout",
     "output_type": "stream",
     "text": [
      "59 Google reviews\n",
      "['Hno216102', 'prashanth', 'nagar', 'near', 'little', 'flower', 'junior', 'college', 'opp', 'sbi', 'bank', 'and', 'beside', 'med', 'plus', 'pharmacy', 'Prashanthinagar', 'Uppal', 'Hyderabad', 'Telangana', '500039']\n",
      "['Uppal', 'Hyderabad', 'Telangana']\n",
      "city:  Uppal Hyderabad Telangana\n",
      "https://google.com/search?q=ramesh+gajula+atharva+institute+of+spine+and+pain+hyderabad\n"
     ]
    },
    {
     "name": "stderr",
     "output_type": "stream",
     "text": [
      "\r",
      "  9%|███▎                                  | 152/1715 [07:11<1:38:06,  3.77s/it]"
     ]
    },
    {
     "name": "stdout",
     "output_type": "stream",
     "text": [
      "https://google.com/search?q=kiran++reddy+chennuri+kindle+clinics+hyderabad\n"
     ]
    },
    {
     "name": "stderr",
     "output_type": "stream",
     "text": [
      "\r",
      "  9%|███▍                                  | 153/1715 [07:17<1:52:58,  4.34s/it]"
     ]
    },
    {
     "name": "stdout",
     "output_type": "stream",
     "text": [
      "221 Google reviews\n",
      "['Kindle', 'Clinics', 'Opposite', 'KS', 'Bakers', 'Plot', 'No1', '2', 'Old', 'Mumbai', 'Hwy', 'Indira', 'Nagar', 'Gachibowli', 'Hyderabad', 'Telangana', '500032']\n",
      "['Gachibowli', 'Hyderabad', 'Telangana']\n",
      "city:  Gachibowli Hyderabad Telangana\n",
      "https://google.com/search?q=sudheer+reddy+chandra++health+hub+clinics+pvt+ltd+hyderabad\n"
     ]
    },
    {
     "name": "stderr",
     "output_type": "stream",
     "text": [
      "\r",
      "  9%|███▍                                  | 154/1715 [07:22<1:56:05,  4.46s/it]"
     ]
    },
    {
     "name": "stdout",
     "output_type": "stream",
     "text": [
      "https://google.com/search?q=komal+meettupalli+health+hub+clinics+pvt+ltd++hyderabad\n"
     ]
    },
    {
     "name": "stderr",
     "output_type": "stream",
     "text": [
      "\r",
      "  9%|███▍                                  | 155/1715 [07:25<1:45:07,  4.04s/it]"
     ]
    },
    {
     "name": "stdout",
     "output_type": "stream",
     "text": [
      "https://google.com/search?q=muneeb++mirza+fatima+hospital+hyderabad\n"
     ]
    },
    {
     "name": "stderr",
     "output_type": "stream",
     "text": [
      "\r",
      "  9%|███▍                                  | 156/1715 [07:28<1:34:30,  3.64s/it]"
     ]
    },
    {
     "name": "stdout",
     "output_type": "stream",
     "text": [
      "https://google.com/search?q=vaseem+fatima+mohammedi+memorial+hospital+hyderabad\n"
     ]
    },
    {
     "name": "stderr",
     "output_type": "stream",
     "text": [
      "\r",
      "  9%|███▍                                  | 157/1715 [07:32<1:40:21,  3.87s/it]"
     ]
    },
    {
     "name": "stdout",
     "output_type": "stream",
     "text": [
      "142 Google reviews\n",
      "['Aspire', 'Mall', 'Kishan', 'Bagh', 'Rd', 'beside', 'Bahadurpura', 'Bahadurpura', 'West', 'Hyderabad', 'Telangana', '500064']\n",
      "['West', 'Hyderabad', 'Telangana']\n",
      "city:  West Hyderabad Telangana\n",
      "https://google.com/search?q=ranjitha+k+raghavendra+ent+&+dental+clinic+hyderabad\n"
     ]
    },
    {
     "name": "stderr",
     "output_type": "stream",
     "text": [
      "\r",
      "  9%|███▌                                  | 158/1715 [07:36<1:38:13,  3.79s/it]"
     ]
    },
    {
     "name": "stdout",
     "output_type": "stream",
     "text": [
      "https://google.com/search?q=md+ashfaq+max+care+hospital+hyderabad\n"
     ]
    },
    {
     "name": "stderr",
     "output_type": "stream",
     "text": [
      "\r",
      "  9%|███▌                                  | 159/1715 [07:40<1:42:47,  3.96s/it]"
     ]
    },
    {
     "name": "stdout",
     "output_type": "stream",
     "text": [
      "25 Google reviews\n",
      "['Omer', 'Complex', '22421', 'Amberpet', 'Main', 'Rd', 'opposite', 'Gandhi', 'Statue', 'Tulasi', 'Nagar', 'Colony', 'Bagh', 'Amberpet', 'Amberpet', 'Hyderabad', 'Telangana', '500013']\n",
      "['Amberpet', 'Hyderabad', 'Telangana']\n",
      "city:  Amberpet Hyderabad Telangana\n",
      "https://google.com/search?q=dilip+m+babu+renin+polyclinic+diabetic+and+kidney+center++hyderabad\n"
     ]
    },
    {
     "name": "stderr",
     "output_type": "stream",
     "text": [
      "\r",
      "  9%|███▌                                  | 160/1715 [07:43<1:34:37,  3.65s/it]"
     ]
    },
    {
     "name": "stdout",
     "output_type": "stream",
     "text": [
      "95 Google reviews\n",
      "['Renin', 'Polyclinic', 'MCH', 'No', '191114', 'to', '1117Shop', 'no', 'UGF3AFirst', 'Floor', 'Shobha', 'Pavani', 'Arcade', 'Above', 'ICICI', 'Bank', 'Osmania', 'University', 'Rd', 'opposite', 'AMS', 'Durgabai', 'Deshmukh', 'Hospital', 'Vidya', 'Nagar', 'Hyderabad', 'Telangana', '500044']\n",
      "['Nagar', 'Hyderabad', 'Telangana']\n",
      "city:  Nagar Hyderabad Telangana\n",
      "https://google.com/search?q=dipika+aawar+renin+polyclinic+diabetes+&+kidney+care++hyderabad\n"
     ]
    },
    {
     "name": "stderr",
     "output_type": "stream",
     "text": [
      "\r",
      "  9%|███▌                                  | 161/1715 [07:46<1:33:31,  3.61s/it]"
     ]
    },
    {
     "name": "stdout",
     "output_type": "stream",
     "text": [
      "https://google.com/search?q=nalini++tellakula+amrutha+clinic+hyderabad\n"
     ]
    },
    {
     "name": "stderr",
     "output_type": "stream",
     "text": [
      "\r",
      "  9%|███▌                                  | 162/1715 [07:49<1:26:17,  3.33s/it]"
     ]
    },
    {
     "name": "stdout",
     "output_type": "stream",
     "text": [
      "https://google.com/search?q=b+ravi++shankar++ravi+gastroenterology+&+liver+clinic+&+diagnostics+hyderabad\n"
     ]
    },
    {
     "name": "stderr",
     "output_type": "stream",
     "text": [
      "\r",
      " 10%|███▌                                  | 163/1715 [07:52<1:20:38,  3.12s/it]"
     ]
    },
    {
     "name": "stdout",
     "output_type": "stream",
     "text": [
      "46 Google reviews\n",
      "['F704', '7th', 'Floor', 'T19', 'Towers', 'Mahatma', 'Gandhi', 'Rd', 'above', 'Decathlon', 'Rani', 'Gunj', 'Secunderabad', 'Telangana', '500003']\n",
      "['Gunj', 'Secunderabad', 'Telangana']\n",
      "city:  Gunj Secunderabad Telangana\n",
      "https://google.com/search?q=n+ravisankar+reddy+hardhik's+gastro+liver+clinic+and+scan+center+hyderabad\n"
     ]
    },
    {
     "name": "stderr",
     "output_type": "stream",
     "text": [
      "\r",
      " 10%|███▋                                  | 164/1715 [07:56<1:29:43,  3.47s/it]"
     ]
    },
    {
     "name": "stdout",
     "output_type": "stream",
     "text": [
      "14 Google reviews\n",
      "['Street', 'Number', '1', 'above', 'om', 'dental', 'clinic', 'Bapuji', 'Nagar', 'MBD', 'Complex', 'HMT', 'Nagar', 'Nacharam', 'Hyderabad', 'Telangana', '500076']\n",
      "['Nacharam', 'Hyderabad', 'Telangana']\n",
      "city:  Nacharam Hyderabad Telangana\n",
      "https://google.com/search?q=naveen+kumar+k+raghavendra+ent+&+dental+clinic+hyderabad\n"
     ]
    },
    {
     "name": "stderr",
     "output_type": "stream",
     "text": [
      "\r",
      " 10%|███▋                                  | 165/1715 [07:58<1:21:05,  3.14s/it]"
     ]
    },
    {
     "name": "stdout",
     "output_type": "stream",
     "text": [
      "15 Google reviews\n",
      "['Shop', 'No2', 'Gate', 'No', 'B', 'Metro', 'Station', 'Dilsukhnagar', 'Hyderabad', 'Telangana', '500060']\n",
      "['Dilsukhnagar', 'Hyderabad', 'Telangana']\n",
      "city:  Dilsukhnagar Hyderabad Telangana\n",
      "https://google.com/search?q=sitara+ganisetti+dr.sitara+skin+and+hair+clinic+hyderabad\n"
     ]
    },
    {
     "name": "stderr",
     "output_type": "stream",
     "text": [
      "\r",
      " 10%|███▋                                  | 166/1715 [08:02<1:26:54,  3.37s/it]"
     ]
    },
    {
     "name": "stdout",
     "output_type": "stream",
     "text": [
      "114 Google reviews\n",
      "['4th', 'Floor', 'Plot', 'no', '12', 'Block', '2', 'Mythri', 'Nagar', 'Colony', 'Madeenaguda', 'Telangana', '500049']\n",
      "['Colony', 'Madeenaguda', 'Telangana']\n",
      "city:  Colony Madeenaguda Telangana\n",
      "https://google.com/search?q=nishant+jain+kalp+skin+hair+&+wellness+hyderabad\n"
     ]
    },
    {
     "name": "stderr",
     "output_type": "stream",
     "text": [
      "\r",
      " 10%|███▋                                  | 167/1715 [08:05<1:23:03,  3.22s/it]"
     ]
    },
    {
     "name": "stdout",
     "output_type": "stream",
     "text": [
      "43 Google reviews\n",
      "['Silver', 'Square', 'Building', '1st', 'floor', 'Rd', 'Number', '36', 'opposite', 'Croma', 'Jubilee', 'Hills', 'Hyderabad', 'Telangana', '500033']\n",
      "['Hills', 'Hyderabad', 'Telangana']\n",
      "city:  Hills Hyderabad Telangana\n",
      "https://google.com/search?q=usha+p+samanvi+skin+clinic+hyderabad\n"
     ]
    },
    {
     "name": "stderr",
     "output_type": "stream",
     "text": [
      "\r",
      " 10%|███▋                                  | 168/1715 [08:08<1:18:52,  3.06s/it]"
     ]
    },
    {
     "name": "stdout",
     "output_type": "stream",
     "text": [
      "62 Google reviews\n",
      "['DNo', '103540', 'Plot', 'No', '553RT', '1st', 'Floor', 'Vijaya', 'Nagar', 'Colony', 'opp', 'Bus', 'Stop', 'Hyderabad', 'Telangana', '500057']\n",
      "['Stop', 'Hyderabad', 'Telangana']\n",
      "city:  Stop Hyderabad Telangana\n",
      "https://google.com/search?q=gnaneswarao+c+dr+gnaneshwar+c+skin+&+std+clinc+hyderabad\n"
     ]
    },
    {
     "name": "stderr",
     "output_type": "stream",
     "text": [
      "\r",
      " 10%|███▋                                  | 169/1715 [08:10<1:15:22,  2.92s/it]"
     ]
    },
    {
     "name": "stdout",
     "output_type": "stream",
     "text": [
      "6 Google reviews\n",
      "['Venkata', 'Sai', 'Plaza', 'GNT', 'circle', 'Nalagandla', 'Telangana', '500019']\n",
      "['circle', 'Nalagandla', 'Telangana']\n",
      "city:  circle Nalagandla Telangana\n",
      "https://google.com/search?q=syeda+nikhat+dr+syeda+nikhat+skin+care+center+hyderabad\n"
     ]
    },
    {
     "name": "stderr",
     "output_type": "stream",
     "text": [
      "\r",
      " 10%|███▊                                  | 170/1715 [08:13<1:13:16,  2.85s/it]"
     ]
    },
    {
     "name": "stdout",
     "output_type": "stream",
     "text": [
      "10 Google reviews\n",
      "['Opp', 'Rainbow', 'hospital', 'Aptronix', 'showroom', 'Building', 'Road', 'No', '2', 'Banjara', 'Hills', 'Hyderabad', 'Telangana', '500034']\n",
      "['Hills', 'Hyderabad', 'Telangana']\n",
      "city:  Hills Hyderabad Telangana\n",
      "https://google.com/search?q=sanjoy+paul+dr.+sanjoy+paul+-+best+diabetologist++hyderabad\n"
     ]
    },
    {
     "name": "stderr",
     "output_type": "stream",
     "text": [
      "\r",
      " 10%|███▊                                  | 171/1715 [08:16<1:09:53,  2.72s/it]"
     ]
    },
    {
     "name": "stdout",
     "output_type": "stream",
     "text": [
      "https://google.com/search?q=yasalapu+anitha+s+r+medical+care+visakhapatnam\n"
     ]
    },
    {
     "name": "stderr",
     "output_type": "stream",
     "text": [
      "\r",
      " 10%|███▊                                  | 172/1715 [08:18<1:06:33,  2.59s/it]"
     ]
    },
    {
     "name": "stdout",
     "output_type": "stream",
     "text": [
      "2 Google reviews\n",
      "['SR', 'MEDICAL', 'CENTER', 'opposite', 'DOLPHINE', 'Diagnostic', 'Maharani', 'Peta', 'Visakhapatnam', 'Andhra', 'Pradesh', '520002']\n",
      "['Visakhapatnam', 'Andhra', 'Pradesh']\n",
      "city:  Visakhapatnam Andhra Pradesh\n",
      "https://google.com/search?q=mohanreddy+m+nova+ent+head+and+neck+super+speciality+hospital+hyderabad\n"
     ]
    },
    {
     "name": "stderr",
     "output_type": "stream",
     "text": [
      "\r",
      " 10%|███▊                                  | 173/1715 [08:22<1:20:23,  3.13s/it]"
     ]
    },
    {
     "name": "stdout",
     "output_type": "stream",
     "text": [
      "196 Google reviews\n",
      "['636522', 'Punjagutta', 'RoadNova', 'ENT', 'ComplexNear', 'Erramanjil', 'Metro', 'Station', 'Raj', 'Bhavan', 'Quarters', 'Colony', 'Somajiguda', 'Hyderabad', 'Telangana', '500041']\n",
      "['Somajiguda', 'Hyderabad', 'Telangana']\n",
      "city:  Somajiguda Hyderabad Telangana\n",
      "https://google.com/search?q=srilatha+s+dr.+srilatha+neuro+clinic+hyderabad\n"
     ]
    },
    {
     "name": "stderr",
     "output_type": "stream",
     "text": [
      "\r",
      " 10%|███▊                                  | 174/1715 [08:25<1:17:22,  3.01s/it]"
     ]
    },
    {
     "name": "stdout",
     "output_type": "stream",
     "text": [
      "26 Google reviews\n",
      "['39122', 'Vayupuri', 'Sainikpuri', 'X', 'Rd', 'near', 'Rachakonda', 'Police', 'Commissionerate', 'Shiva', 'Sai', 'Nagar', 'Shiva', 'Nagar', 'Colony', 'Madhura', 'Nagar', 'Sainikpuri', 'Secunderabad', 'Telangana', '56']\n",
      "['Sainikpuri', 'Secunderabad', 'Telangana']\n",
      "city:  Sainikpuri Secunderabad Telangana\n",
      "https://google.com/search?q=bhupin+singh++bakshi++astra+orthopedic+clinic+hyderabad\n"
     ]
    },
    {
     "name": "stderr",
     "output_type": "stream",
     "text": [
      "\r",
      " 10%|███▉                                  | 175/1715 [08:27<1:11:34,  2.79s/it]"
     ]
    },
    {
     "name": "stdout",
     "output_type": "stream",
     "text": [
      "7 Google reviews\n",
      "['SURVEY', 'NO', '1574', 'ABUTTING', 'STAFF', 'ROAD', 'CHINNA', 'THKATTA', 'Diamond', 'Point', 'Sikh', 'Village', 'CIRCLE', 'Secunderabad', 'Telangana', '500009']\n",
      "['CIRCLE', 'Secunderabad', 'Telangana']\n",
      "city:  CIRCLE Secunderabad Telangana\n",
      "https://google.com/search?q=vikram+c+vicinity+multi-speciality+clinics+hyderabad\n"
     ]
    },
    {
     "name": "stderr",
     "output_type": "stream",
     "text": [
      "\r",
      " 10%|███▉                                  | 176/1715 [08:30<1:10:09,  2.73s/it]"
     ]
    },
    {
     "name": "stdout",
     "output_type": "stream",
     "text": [
      "128 Google reviews\n",
      "['2nd', 'Floor', 'Vicinity', 'Multispeciality', 'Clinics', 'Vaishnavi', 'Premia', '201', 'Lanco', 'Hills', 'Rd', 'Sri', 'Laxmi', 'Nagar', 'Colony', 'Manikonda', 'Jagir', 'Telangana', '500089']\n",
      "['Manikonda', 'Jagir', 'Telangana']\n",
      "city:  Manikonda Jagir Telangana\n",
      "https://google.com/search?q=kodanda++ramu+ulala+chodimella+complex+visakhapatnam\n"
     ]
    },
    {
     "name": "stderr",
     "output_type": "stream",
     "text": [
      "\r",
      " 10%|███▉                                  | 177/1715 [08:33<1:13:11,  2.86s/it]"
     ]
    },
    {
     "name": "stdout",
     "output_type": "stream",
     "text": [
      "https://google.com/search?q=varudu++chiranjeevi+dr.+cure+speciality+clinics+visakhapatnam\n"
     ]
    },
    {
     "name": "stderr",
     "output_type": "stream",
     "text": [
      "\r",
      " 10%|███▉                                  | 178/1715 [08:35<1:08:58,  2.69s/it]"
     ]
    },
    {
     "name": "stdout",
     "output_type": "stream",
     "text": [
      "4 Google reviews\n",
      "['Above', 'Dominos', 'pizza', 'SVS', 'pothina', 'singanna', 'plaza', 'car', 'shed', 'junction', 'PM', 'palem', 'Visakhapatnam', 'Andhra', 'Pradesh', '530041']\n",
      "['Visakhapatnam', 'Andhra', 'Pradesh']\n",
      "city:  Visakhapatnam Andhra Pradesh\n",
      "https://google.com/search?q=krishna++kishore+vdr+doctors+plaza+visakhapatnam\n"
     ]
    },
    {
     "name": "stderr",
     "output_type": "stream",
     "text": [
      "\r",
      " 10%|███▉                                  | 179/1715 [08:39<1:19:54,  3.12s/it]"
     ]
    },
    {
     "name": "stdout",
     "output_type": "stream",
     "text": [
      "26 Google reviews\n",
      "['Collectorate', '143739', 'Krishna', 'Nagar', 'Maharani', 'Peta', 'Visakhapatnam', 'Andhra', 'Pradesh', '530002']\n",
      "['Visakhapatnam', 'Andhra', 'Pradesh']\n",
      "city:  Visakhapatnam Andhra Pradesh\n",
      "https://google.com/search?q=krishnaveni+kandru+krishnaveni+womens+wellness+clinic+hyderabad\n"
     ]
    },
    {
     "name": "stderr",
     "output_type": "stream",
     "text": [
      "\r",
      " 10%|███▉                                  | 180/1715 [08:42<1:14:27,  2.91s/it]"
     ]
    },
    {
     "name": "stdout",
     "output_type": "stream",
     "text": [
      "22 Google reviews\n",
      "['Panchayat', 'office', 'rd', 'Pragathi', 'Nagar', 'Hyderabad', 'Telangana', '500090']\n",
      "['Nagar', 'Hyderabad', 'Telangana']\n",
      "city:  Nagar Hyderabad Telangana\n",
      "https://google.com/search?q=b+v+k+prasad+bvk+prasad+clinic+visakhapatnam\n"
     ]
    },
    {
     "name": "stderr",
     "output_type": "stream",
     "text": [
      "\r",
      " 11%|████                                  | 181/1715 [08:44<1:08:51,  2.69s/it]"
     ]
    },
    {
     "name": "stdout",
     "output_type": "stream",
     "text": [
      "3 Google reviews\n",
      "['Peetala', 'vari', 'veedhi', 'Old', 'cbi', 'down', 'Road', 'behind', 'Kotak', 'Salesian', 'school', 'Visakhapatnam', 'Andhra', 'Pradesh', '530017']\n",
      "['Visakhapatnam', 'Andhra', 'Pradesh']\n",
      "city:  Visakhapatnam Andhra Pradesh\n",
      "https://google.com/search?q=ramakrishna+reddy+m+mana+hospital+hyderabad\n"
     ]
    },
    {
     "name": "stderr",
     "output_type": "stream",
     "text": [
      "\r",
      " 11%|████                                  | 182/1715 [08:47<1:07:38,  2.65s/it]"
     ]
    },
    {
     "name": "stdout",
     "output_type": "stream",
     "text": [
      "254 Google reviews\n",
      "['498', 'Road', 'No', '2', 'Chaitanya', 'Nagar', 'Vivekananda', 'Nagar', 'Kukatpally', 'Hyderabad', 'Telangana', '500072']\n",
      "['Kukatpally', 'Hyderabad', 'Telangana']\n",
      "city:  Kukatpally Hyderabad Telangana\n",
      "https://google.com/search?q=uma++g+mana+hospital+hyderabad\n"
     ]
    },
    {
     "name": "stderr",
     "output_type": "stream",
     "text": [
      "\r",
      " 11%|████                                  | 183/1715 [08:49<1:08:00,  2.66s/it]"
     ]
    },
    {
     "name": "stdout",
     "output_type": "stream",
     "text": [
      "254 Google reviews\n",
      "['498', 'Road', 'No', '2', 'Chaitanya', 'Nagar', 'Vivekananda', 'Nagar', 'Kukatpally', 'Hyderabad', 'Telangana', '500072']\n",
      "['Kukatpally', 'Hyderabad', 'Telangana']\n",
      "city:  Kukatpally Hyderabad Telangana\n",
      "https://google.com/search?q=ramakrishna++p+nova+ent+clinic+hyderabad\n"
     ]
    },
    {
     "name": "stderr",
     "output_type": "stream",
     "text": [
      "\r",
      " 11%|████                                  | 184/1715 [08:52<1:06:54,  2.62s/it]"
     ]
    },
    {
     "name": "stdout",
     "output_type": "stream",
     "text": [
      "15 Google reviews\n",
      "['Hyderaguda', 'Attapur', 'Telangana', '500048']\n",
      "['Hyderaguda', 'Attapur', 'Telangana']\n",
      "city:  Hyderaguda Attapur Telangana\n",
      "https://google.com/search?q=divya+siddavaram+tatva+skin+clinic+hyderabad\n"
     ]
    },
    {
     "name": "stderr",
     "output_type": "stream",
     "text": [
      "\r",
      " 11%|████                                  | 185/1715 [08:54<1:04:26,  2.53s/it]"
     ]
    },
    {
     "name": "stdout",
     "output_type": "stream",
     "text": [
      "https://google.com/search?q=sirisha+varala+tatva+skin+clinic+hyderabad\n"
     ]
    },
    {
     "name": "stderr",
     "output_type": "stream",
     "text": [
      "\r",
      " 11%|████                                  | 186/1715 [08:56<1:02:32,  2.45s/it]"
     ]
    },
    {
     "name": "stdout",
     "output_type": "stream",
     "text": [
      "91 Google reviews\n",
      "['4th', 'Floor', 'Plot', 'No', '11', '14', 'S', 'No', '222', 'Part', 'Miyapur', 'Alwin', 'Cross', 'Roads', 'Madeenaguda', 'Telangana', '500049']\n",
      "['Roads', 'Madeenaguda', 'Telangana']\n",
      "city:  Roads Madeenaguda Telangana\n",
      "https://google.com/search?q=cma+mustaq+ahamed+a.n+beach+hospital+visakhapatnam\n"
     ]
    },
    {
     "name": "stderr",
     "output_type": "stream",
     "text": [
      "\r",
      " 11%|████▏                                 | 187/1715 [08:59<1:01:07,  2.40s/it]"
     ]
    },
    {
     "name": "stdout",
     "output_type": "stream",
     "text": [
      "https://google.com/search?q=chava+anjaneyulu+asian+ent+care+centre+hyderabad\n"
     ]
    },
    {
     "name": "stderr",
     "output_type": "stream",
     "text": [
      "\r",
      " 11%|████▏                                 | 188/1715 [09:01<1:02:42,  2.46s/it]"
     ]
    },
    {
     "name": "stdout",
     "output_type": "stream",
     "text": [
      "350 Google reviews\n",
      "['Red', 'Rose', 'Cafe', 'Ln', 'Sangeet', 'Nagar', 'Somajiguda', 'Hyderabad', 'Telangana', '500482']\n",
      "['Somajiguda', 'Hyderabad', 'Telangana']\n",
      "city:  Somajiguda Hyderabad Telangana\n",
      "https://google.com/search?q=nambada+muralidhar+center+for+liver+&+digestive+surgery+visakhapatnam\n"
     ]
    },
    {
     "name": "stderr",
     "output_type": "stream",
     "text": [
      "\r",
      " 11%|████▏                                 | 189/1715 [09:04<1:03:49,  2.51s/it]"
     ]
    },
    {
     "name": "stdout",
     "output_type": "stream",
     "text": [
      "22 Google reviews\n",
      "['50101', 'CLDS', 'Center', 'for', 'Liver', 'and', 'Digestive', 'Surgery', 'Beside', 'HMTV', 'Office', '12', 'behind', 'SFS', 'School', 'Seethammadara', 'Visakhapatnam', 'Andhra', 'Pradesh', '530013']\n",
      "['Visakhapatnam', 'Andhra', 'Pradesh']\n",
      "city:  Visakhapatnam Andhra Pradesh\n",
      "https://google.com/search?q=subbarao+mv+dr.+mv.+subba+rao+ent+clinic+hyderabad\n"
     ]
    },
    {
     "name": "stderr",
     "output_type": "stream",
     "text": [
      "\r",
      " 11%|████▏                                 | 190/1715 [09:06<1:01:52,  2.43s/it]"
     ]
    },
    {
     "name": "stdout",
     "output_type": "stream",
     "text": [
      "https://google.com/search?q=subhash+kumar+skin+clinic+hyderabad\n"
     ]
    },
    {
     "name": "stderr",
     "output_type": "stream",
     "text": [
      "\r",
      " 11%|████▍                                   | 191/1715 [09:08<59:31,  2.34s/it]"
     ]
    },
    {
     "name": "stdout",
     "output_type": "stream",
     "text": [
      "8 Google reviews\n",
      "['Co', 'Indian', 'Bank', 'Flats', 'beside', 'Vasavi', 'Medical', 'Hall', 'HDFC', 'Bank', 'Lane', 'Golconda', 'X', 'Roads', 'Gandhi', 'Nagar', 'Hyderabad', 'Telangana', '500080']\n",
      "['Nagar', 'Hyderabad', 'Telangana']\n",
      "city:  Nagar Hyderabad Telangana\n",
      "https://google.com/search?q=vijay+kumar+rhema's+ent+&+dental+care+hyderabad\n"
     ]
    },
    {
     "name": "stderr",
     "output_type": "stream",
     "text": [
      "\r",
      " 11%|████▎                                 | 192/1715 [09:11<1:00:46,  2.39s/it]"
     ]
    },
    {
     "name": "stdout",
     "output_type": "stream",
     "text": [
      "https://google.com/search?q=ranjitha+nadendla+helthfirst+clinic+hyderabad\n"
     ]
    },
    {
     "name": "stderr",
     "output_type": "stream",
     "text": [
      "\r",
      " 11%|████▎                                 | 193/1715 [09:13<1:00:36,  2.39s/it]"
     ]
    },
    {
     "name": "stdout",
     "output_type": "stream",
     "text": [
      "110 Google reviews\n",
      "['2nd', 'floor', 'above', 'vijetha', 'supermarket', 'Bachupally', 'Hyderabad', 'Telangana', '500090']\n",
      "['Bachupally', 'Hyderabad', 'Telangana']\n",
      "city:  Bachupally Hyderabad Telangana\n",
      "https://google.com/search?q=bhanu+pratap+chander+chintha+sanjeevini+healthacre+polyclinic+hyderabad\n"
     ]
    },
    {
     "name": "stderr",
     "output_type": "stream",
     "text": [
      "\r",
      " 11%|████▌                                   | 194/1715 [09:15<56:17,  2.22s/it]"
     ]
    },
    {
     "name": "stdout",
     "output_type": "stream",
     "text": [
      "https://google.com/search?q=nikhil+boda+nikhil+skin+clinic+hyderabad\n"
     ]
    },
    {
     "name": "stderr",
     "output_type": "stream",
     "text": [
      "\r",
      " 11%|████▌                                   | 195/1715 [09:17<58:28,  2.31s/it]"
     ]
    },
    {
     "name": "stdout",
     "output_type": "stream",
     "text": [
      "87 Google reviews\n",
      "['Sai', 'Ratna', 'Arcade', 'New', 'Santoshnagar', 'Santosh', 'Nagar', 'Hyderabad', 'Telangana', '500059']\n",
      "['Nagar', 'Hyderabad', 'Telangana']\n",
      "city:  Nagar Hyderabad Telangana\n",
      "https://google.com/search?q=vasudev+rao+shambhu++saptagiri+hospital++hyderabad\n"
     ]
    },
    {
     "name": "stderr",
     "output_type": "stream",
     "text": [
      "\r",
      " 11%|████▎                                 | 196/1715 [09:20<1:01:14,  2.42s/it]"
     ]
    },
    {
     "name": "stdout",
     "output_type": "stream",
     "text": [
      "268 Google reviews\n",
      "['3112', 'Pochamma', 'Temple', 'Lane', 'Millenium', 'Residency', 'Chaitanayapuri', 'X', 'roads', 'Dilshukanagar', 'Hyderabad', 'Telangana', '500060']\n",
      "['Dilshukanagar', 'Hyderabad', 'Telangana']\n",
      "city:  Dilshukanagar Hyderabad Telangana\n",
      "https://google.com/search?q=shiva+prasad+g+prime+heart+care+hyderabad\n"
     ]
    },
    {
     "name": "stderr",
     "output_type": "stream",
     "text": [
      "\r",
      " 11%|████▎                                 | 197/1715 [09:24<1:13:13,  2.89s/it]"
     ]
    },
    {
     "name": "stdout",
     "output_type": "stream",
     "text": [
      "6 Google reviews\n",
      "['opp', 'Geeta', 'Krishna', 'silk', 'shop', 'Aditi', 'clinic', 'Panama', 'Vanasthalipuram', 'Telangana', '500070']\n",
      "['Panama', 'Vanasthalipuram', 'Telangana']\n",
      "city:  Panama Vanasthalipuram Telangana\n",
      "https://google.com/search?q=sri+ranga++prakash+gupta+sri+ranga+prakash+gupta+clinic+visakhapatnam\n"
     ]
    },
    {
     "name": "stderr",
     "output_type": "stream",
     "text": [
      "\r",
      " 12%|████▍                                 | 198/1715 [09:27<1:09:03,  2.73s/it]"
     ]
    },
    {
     "name": "stdout",
     "output_type": "stream",
     "text": [
      "https://google.com/search?q=utham+kumar+b+ishaa+skin+and+hair+clinic+hyderabad\n"
     ]
    },
    {
     "name": "stderr",
     "output_type": "stream",
     "text": [
      "\r",
      " 12%|████▍                                 | 199/1715 [09:29<1:06:50,  2.65s/it]"
     ]
    },
    {
     "name": "stdout",
     "output_type": "stream",
     "text": [
      "121 Google reviews\n",
      "['HDFC', 'Bank', 'Building', '229A', 'NH65', 'Gouthami', 'Nagar', 'Colony', 'Jawahar', 'Colony', 'Chanda', 'Nagar', 'Hyderabad', 'Telangana', '500050']\n",
      "['Nagar', 'Hyderabad', 'Telangana']\n",
      "city:  Nagar Hyderabad Telangana\n",
      "https://google.com/search?q=ram+singh+keluth+sv+pooja+hospital+hyderabad\n"
     ]
    },
    {
     "name": "stderr",
     "output_type": "stream",
     "text": [
      "\r",
      " 12%|████▍                                 | 200/1715 [09:32<1:06:26,  2.63s/it]"
     ]
    },
    {
     "name": "stdout",
     "output_type": "stream",
     "text": [
      "111 Google reviews\n",
      "['Hydernagar', 'Plot', 'No33', 'Rd', 'Number', '14', 'Dharma', 'Reddy', 'Colony', 'Phase', 'I', 'Kukatpally', 'Hyderabad', 'Telangana', '500072']\n",
      "['Kukatpally', 'Hyderabad', 'Telangana']\n",
      "city:  Kukatpally Hyderabad Telangana\n",
      "https://google.com/search?q=b+++sri+harsha+tirumala+vijaya+hospital+visakhapatnam\n"
     ]
    },
    {
     "name": "stderr",
     "output_type": "stream",
     "text": [
      "\r",
      " 12%|████▍                                 | 201/1715 [09:34<1:03:43,  2.53s/it]"
     ]
    },
    {
     "name": "stdout",
     "output_type": "stream",
     "text": [
      "572 Google reviews\n",
      "['Tirumala', 'Vijaya', 'Hospital', '16821', 'MIG', '10', 'MVP', 'Colony', 'Visakhapatnam', 'Andhra', 'Pradesh', '530017']\n",
      "['Visakhapatnam', 'Andhra', 'Pradesh']\n",
      "city:  Visakhapatnam Andhra Pradesh\n",
      "https://google.com/search?q=k+++vijay+krishna+kvk+child+clinic+visakhapatnam\n"
     ]
    },
    {
     "name": "stderr",
     "output_type": "stream",
     "text": [
      "\r",
      " 12%|████▍                                 | 202/1715 [09:36<1:03:15,  2.51s/it]"
     ]
    },
    {
     "name": "stdout",
     "output_type": "stream",
     "text": [
      "172 Google reviews\n",
      "['Opposite', 'Alliance', 'college', 'Aditya', 'nagar', 'Krishna', 'College', 'Road', 'Visakhapatnam', 'Andhra', 'Pradesh', '530022']\n",
      "['Visakhapatnam', 'Andhra', 'Pradesh']\n",
      "city:  Visakhapatnam Andhra Pradesh\n",
      "https://google.com/search?q=naveenkumar+cheruku+vishruth+super+speciality+clinic+hyderabad\n"
     ]
    },
    {
     "name": "stderr",
     "output_type": "stream",
     "text": [
      "\r",
      " 12%|████▍                                 | 203/1715 [09:39<1:02:51,  2.49s/it]"
     ]
    },
    {
     "name": "stdout",
     "output_type": "stream",
     "text": [
      "16 Google reviews\n",
      "['DR', 'Rama', 'Rao', 'Complex', 'Sai', 'Nagar', 'Colony', 'Uppal', 'Bus', 'Depot', 'Sri', 'Sai', 'Nagar', 'Hyderabad', 'Sai', 'Nagar', 'Colony', 'Peerzadiguda', 'Secunderabad', 'Telangana', '500039']\n",
      "['Peerzadiguda', 'Secunderabad', 'Telangana']\n",
      "city:  Peerzadiguda Secunderabad Telangana\n",
      "https://google.com/search?q=ravindra+nallagonda+ravindra+hospital+hyderabad\n"
     ]
    },
    {
     "name": "stderr",
     "output_type": "stream",
     "text": [
      "\r",
      " 12%|████▊                                   | 204/1715 [09:41<59:33,  2.37s/it]"
     ]
    },
    {
     "name": "stdout",
     "output_type": "stream",
     "text": [
      "https://google.com/search?q=venkatsh+butti+venkatesh+cardio+clinic+hyderabad\n"
     ]
    },
    {
     "name": "stderr",
     "output_type": "stream",
     "text": [
      "\r",
      " 12%|████▊                                   | 205/1715 [09:43<57:25,  2.28s/it]"
     ]
    },
    {
     "name": "stdout",
     "output_type": "stream",
     "text": [
      "https://google.com/search?q=abhilash+mudumala+gastro+care+clinic+hyderabad\n"
     ]
    },
    {
     "name": "stderr",
     "output_type": "stream",
     "text": [
      "\r",
      " 12%|████▌                                 | 206/1715 [09:46<1:05:42,  2.61s/it]"
     ]
    },
    {
     "name": "stdout",
     "output_type": "stream",
     "text": [
      "https://google.com/search?q=hidayatullah+g+kidney+care+clinic+hyderabad\n"
     ]
    },
    {
     "name": "stderr",
     "output_type": "stream",
     "text": [
      "\r",
      " 12%|████▌                                 | 207/1715 [09:49<1:03:38,  2.53s/it]"
     ]
    },
    {
     "name": "stdout",
     "output_type": "stream",
     "text": [
      "23 Google reviews\n",
      "['Khader', 'Bagh', 'Rd', 'Khader', 'Bagh', 'Indira', 'Nagar', 'Toli', 'Chowki', 'Hyderabad', 'Telangana', '500008']\n",
      "['Chowki', 'Hyderabad', 'Telangana']\n",
      "city:  Chowki Hyderabad Telangana\n",
      "https://google.com/search?q=santhosh+bukya++jeevan+hospital+hyderabad\n"
     ]
    },
    {
     "name": "stderr",
     "output_type": "stream",
     "text": [
      "\r",
      " 12%|████▌                                 | 208/1715 [09:51<1:02:50,  2.50s/it]"
     ]
    },
    {
     "name": "stdout",
     "output_type": "stream",
     "text": [
      "168 Google reviews\n",
      "['Bairamalguda', 'Rd', 'Pavanpuri', 'Colony', 'APSRTC', 'Officers', 'Colony', 'Kharmanghat', 'Telangana', '500079']\n",
      "['Colony', 'Kharmanghat', 'Telangana']\n",
      "city:  Colony Kharmanghat Telangana\n",
      "https://google.com/search?q=ella+reddy++chinthala++hyderabad+diabetes,+thyroid,+endocrine+clinic+hyderabad\n"
     ]
    },
    {
     "name": "stderr",
     "output_type": "stream",
     "text": [
      "\r",
      " 12%|████▋                                 | 209/1715 [09:54<1:03:33,  2.53s/it]"
     ]
    },
    {
     "name": "stdout",
     "output_type": "stream",
     "text": [
      "110 Google reviews\n",
      "['Shanti', 'Nagar', 'Uppal', 'Hyderabad', 'Telangana', '500039']\n",
      "['Uppal', 'Hyderabad', 'Telangana']\n",
      "city:  Uppal Hyderabad Telangana\n",
      "https://google.com/search?q=v+v+satyanarayana+eethakota+satya's+orthopaedic+clinic+hyderabad\n"
     ]
    },
    {
     "name": "stderr",
     "output_type": "stream",
     "text": [
      "\r",
      " 12%|████▋                                 | 210/1715 [09:56<1:02:46,  2.50s/it]"
     ]
    },
    {
     "name": "stdout",
     "output_type": "stream",
     "text": [
      "https://google.com/search?q=priya+b+anand+clinic+hyderabad\n"
     ]
    },
    {
     "name": "stderr",
     "output_type": "stream",
     "text": [
      "\r",
      " 12%|████▋                                 | 211/1715 [09:58<1:01:44,  2.46s/it]"
     ]
    },
    {
     "name": "stdout",
     "output_type": "stream",
     "text": [
      "19 Google reviews\n",
      "['58536', 'Abids', 'St', 'Mahesh', 'Nagar', 'Abids', 'Hyderabad', 'Telangana', '500001']\n",
      "['Abids', 'Hyderabad', 'Telangana']\n",
      "city:  Abids Hyderabad Telangana\n",
      "https://google.com/search?q=venkat+nagender+reddy+k+karthika+ent+&+orthopaedic+clinics+hyderabad\n"
     ]
    },
    {
     "name": "stderr",
     "output_type": "stream",
     "text": [
      "\r",
      " 12%|████▋                                 | 212/1715 [10:01<1:03:11,  2.52s/it]"
     ]
    },
    {
     "name": "stdout",
     "output_type": "stream",
     "text": [
      "35 Google reviews\n",
      "['Grace', 'and', 'Truth', 'Bible', 'Church', 'Boduppal', 'Rd', 'Mallikarjuna', 'Nagar', 'Colony', 'Balaji', 'Residency', 'Mallika', 'Arjun', 'Nagar', 'Boduppal', 'Hyderabad', 'Telangana', '500092']\n",
      "['Boduppal', 'Hyderabad', 'Telangana']\n",
      "city:  Boduppal Hyderabad Telangana\n",
      "https://google.com/search?q=amit+goel+virinchi+clinic+hyderabad\n"
     ]
    },
    {
     "name": "stderr",
     "output_type": "stream",
     "text": [
      "\r",
      " 12%|████▋                                 | 213/1715 [10:04<1:04:02,  2.56s/it]"
     ]
    },
    {
     "name": "stdout",
     "output_type": "stream",
     "text": [
      "70 Google reviews\n",
      "['Plot', 'no', '23', 'Vasavi', 'Nagar', 'Karkhana', 'Secunderabad', 'Telangana', '500015']\n",
      "['Karkhana', 'Secunderabad', 'Telangana']\n",
      "city:  Karkhana Secunderabad Telangana\n",
      "https://google.com/search?q=sita+rama+raju+k+senses+e.n.t+speciality+hospital+hyderabad\n"
     ]
    },
    {
     "name": "stderr",
     "output_type": "stream",
     "text": [
      "\r",
      " 12%|████▋                                 | 214/1715 [10:06<1:02:42,  2.51s/it]"
     ]
    },
    {
     "name": "stdout",
     "output_type": "stream",
     "text": [
      "https://google.com/search?q=deepak+goel+srishti+neuro+clinic+hyderabad\n"
     ]
    },
    {
     "name": "stderr",
     "output_type": "stream",
     "text": [
      "\r",
      " 13%|████▊                                 | 215/1715 [10:09<1:02:48,  2.51s/it]"
     ]
    },
    {
     "name": "stdout",
     "output_type": "stream",
     "text": [
      "58 Google reviews\n",
      "['211388', 'Near', 'Womens', 'Police', 'Station', 'Lane', 'Rikab', 'Gunj', 'Hyderabad', 'Telangana', '500002']\n",
      "['Gunj', 'Hyderabad', 'Telangana']\n",
      "city:  Gunj Hyderabad Telangana\n",
      "https://google.com/search?q=kondal++g+padmavati+medical+center+hyderabad\n"
     ]
    },
    {
     "name": "stderr",
     "output_type": "stream",
     "text": [
      "\r",
      " 13%|████▊                                 | 216/1715 [10:11<1:03:14,  2.53s/it]"
     ]
    },
    {
     "name": "stdout",
     "output_type": "stream",
     "text": [
      "36 Google reviews\n",
      "['1213', '672', 'Street', 'Number', '5', 'Near', 'Sanman', 'Hotel', 'Sadashiva', 'Nagar', 'Tarnaka', 'Secunderabad', 'Telangana', '500017']\n",
      "['Tarnaka', 'Secunderabad', 'Telangana']\n",
      "city:  Tarnaka Secunderabad Telangana\n",
      "https://google.com/search?q=ridhima+gandrath+rs+skin,+hair,+laser+clinic+and+pain+management+clinic+hyderabad\n"
     ]
    },
    {
     "name": "stderr",
     "output_type": "stream",
     "text": [
      "\r",
      " 13%|████▊                                 | 217/1715 [10:14<1:03:51,  2.56s/it]"
     ]
    },
    {
     "name": "stdout",
     "output_type": "stream",
     "text": [
      "https://google.com/search?q=deepa+srikonda+deepas+skin+clinic+hyderabad\n"
     ]
    },
    {
     "name": "stderr",
     "output_type": "stream",
     "text": [
      "\r",
      " 13%|████▊                                 | 218/1715 [10:16<1:03:38,  2.55s/it]"
     ]
    },
    {
     "name": "stdout",
     "output_type": "stream",
     "text": [
      "34 Google reviews\n",
      "['Ameena', 'Complex', 'Skin', 'Clinic', 'Consulting', 'Room', '18352', 'opp', 'Survey', 'Of', 'India', 'Uppal', 'Hyderabad', 'Telangana', '500039']\n",
      "['Uppal', 'Hyderabad', 'Telangana']\n",
      "city:  Uppal Hyderabad Telangana\n",
      "https://google.com/search?q=gandi++vikram+sri+surya+gastro+&+liver+centre+visakhapatnam\n"
     ]
    },
    {
     "name": "stderr",
     "output_type": "stream",
     "text": [
      "\r",
      " 13%|████▊                                 | 219/1715 [10:20<1:14:46,  3.00s/it]"
     ]
    },
    {
     "name": "stdout",
     "output_type": "stream",
     "text": [
      "41 Google reviews\n",
      "['Coastal', 'Battery', 'Road', '16125', 'RS', 'Edifice', 'Beach', 'Down', 'Collector', 'Office', 'Krishna', 'Nagar', 'Maharani', 'Peta', 'Visakhapatnam', 'Andhra', 'Pradesh', '530002']\n",
      "['Visakhapatnam', 'Andhra', 'Pradesh']\n",
      "city:  Visakhapatnam Andhra Pradesh\n",
      "https://google.com/search?q=g+j+madhuri+sri+sai+hospitals+visakhapatnam\n"
     ]
    },
    {
     "name": "stderr",
     "output_type": "stream",
     "text": [
      "\r",
      " 13%|████▊                                 | 220/1715 [10:23<1:09:11,  2.78s/it]"
     ]
    },
    {
     "name": "stdout",
     "output_type": "stream",
     "text": [
      "1 Google review\n",
      "['936193', 'Pithapuram', 'Colony', 'Dwaraka', 'Nagar', 'beside', 'Sakunthala', 'Nilayam', 'Visakhapatnam', 'Andhra', 'Pradesh', '530003']\n",
      "['Visakhapatnam', 'Andhra', 'Pradesh']\n",
      "city:  Visakhapatnam Andhra Pradesh\n",
      "https://google.com/search?q=jagadeeswara+rao+child+clinic+visakhapatnam\n"
     ]
    },
    {
     "name": "stderr",
     "output_type": "stream",
     "text": [
      "\r",
      " 13%|████▉                                 | 221/1715 [10:25<1:04:13,  2.58s/it]"
     ]
    },
    {
     "name": "stdout",
     "output_type": "stream",
     "text": [
      "https://google.com/search?q=a+surya+lakshmi+sri+satya+sai+poly+clinic+visakhapatnam\n"
     ]
    },
    {
     "name": "stderr",
     "output_type": "stream",
     "text": [
      "\r",
      " 13%|████▉                                 | 222/1715 [10:27<1:02:03,  2.49s/it]"
     ]
    },
    {
     "name": "stdout",
     "output_type": "stream",
     "text": [
      "https://google.com/search?q=shanti+devi+shanthi+devi+hyderabad\n"
     ]
    },
    {
     "name": "stderr",
     "output_type": "stream",
     "text": [
      "\r",
      " 13%|████▉                                 | 223/1715 [10:29<1:00:43,  2.44s/it]"
     ]
    },
    {
     "name": "stdout",
     "output_type": "stream",
     "text": [
      "https://google.com/search?q=t++leela+prasad+sai+nikhila+clinic+visakhapatnam\n"
     ]
    },
    {
     "name": "stderr",
     "output_type": "stream",
     "text": [
      "\r",
      " 13%|█████▏                                  | 224/1715 [10:32<59:38,  2.40s/it]"
     ]
    },
    {
     "name": "stdout",
     "output_type": "stream",
     "text": [
      "4 Google reviews\n",
      "['P854MHX', 'KGH', 'Down', 'Rd', 'Opp', 'KGH', 'OP', 'Gate', 'Jagadamba', 'Junction', 'Visakhapatnam', 'Andhra', 'Pradesh', '530002']\n",
      "['Visakhapatnam', 'Andhra', 'Pradesh']\n",
      "city:  Visakhapatnam Andhra Pradesh\n",
      "https://google.com/search?q=ch+v+n+g+r+ramanujam+medi+links+polyclinic+visakhapatnam\n"
     ]
    },
    {
     "name": "stderr",
     "output_type": "stream",
     "text": [
      "\r",
      " 13%|████▉                                 | 225/1715 [10:35<1:02:21,  2.51s/it]"
     ]
    },
    {
     "name": "stdout",
     "output_type": "stream",
     "text": [
      "1,068 Google reviews\n",
      "['dno', '505314', 'Gurudwara', 'Rd', 'Balayya', 'Sastri', 'Layout', 'Seethammadara', 'Visakhapatnam', 'Andhra', 'Pradesh', '530013']\n",
      "['Visakhapatnam', 'Andhra', 'Pradesh']\n",
      "city:  Visakhapatnam Andhra Pradesh\n",
      "https://google.com/search?q=v+s+r+murthy+total+thyro+diabetic+diagnostic+center+hyderabad\n"
     ]
    },
    {
     "name": "stderr",
     "output_type": "stream",
     "text": [
      "\r",
      " 13%|█████                                 | 226/1715 [10:37<1:01:31,  2.48s/it]"
     ]
    },
    {
     "name": "stdout",
     "output_type": "stream",
     "text": [
      "20 Google reviews\n",
      "['316C', 'ESI', 'To', 'Balkam', 'Pet', 'Rd', 'ESI', 'To', 'Balkam', 'Pet', 'Road', 'BK', 'Guda', 'Sanjeeva', 'Reddy', 'Nagar', 'Hyderabad', 'Telangana', '500038']\n",
      "['Nagar', 'Hyderabad', 'Telangana']\n",
      "city:  Nagar Hyderabad Telangana\n",
      "https://google.com/search?q=raghu++ram+reddy+radiance+skin,+hair+cosmetic+&+laser+center+hyderabad\n"
     ]
    },
    {
     "name": "stderr",
     "output_type": "stream",
     "text": [
      "\r",
      " 13%|█████                                 | 227/1715 [10:39<1:01:38,  2.49s/it]"
     ]
    },
    {
     "name": "stdout",
     "output_type": "stream",
     "text": [
      "37 Google reviews\n",
      "['Radiance', 'Skin', 'Hair', 'Cosmetic', 'Laser', 'Center', 'HNo', '55303P25A', 'Prashanth', 'Nagar', 'Vanasthalipuram', 'Hyderabad', 'Telangana', '500070']\n",
      "['Vanasthalipuram', 'Hyderabad', 'Telangana']\n",
      "city:  Vanasthalipuram Hyderabad Telangana\n",
      "https://google.com/search?q=saritha+bandaru+ajay+children's+clinic+&+diabetic+center+hyderabad\n"
     ]
    },
    {
     "name": "stderr",
     "output_type": "stream",
     "text": [
      "\r",
      " 13%|█████▎                                  | 228/1715 [10:41<56:47,  2.29s/it]"
     ]
    },
    {
     "name": "stdout",
     "output_type": "stream",
     "text": [
      "https://google.com/search?q=prashanth+chandra+ny+med+express+hyderabad\n"
     ]
    },
    {
     "name": "stderr",
     "output_type": "stream",
     "text": [
      "\r",
      " 13%|█████                                 | 229/1715 [10:44<1:02:55,  2.54s/it]"
     ]
    },
    {
     "name": "stdout",
     "output_type": "stream",
     "text": [
      "39 Google reviews\n",
      "['first', 'floor', 'above', 'united', 'bank', 'of', 'india', 'srikrishna', 'devaraya', 'colony', 'srinagar', 'colony', 'Hyderabad', 'Telangana', '500073']\n",
      "['colony', 'Hyderabad', 'Telangana']\n",
      "city:  colony Hyderabad Telangana\n",
      "https://google.com/search?q=raghu+kishore+galla+cygnet+super+speciality+clinics+hyderabad\n"
     ]
    },
    {
     "name": "stderr",
     "output_type": "stream",
     "text": [
      "\r",
      " 13%|█████                                 | 230/1715 [10:47<1:00:24,  2.44s/it]"
     ]
    },
    {
     "name": "stdout",
     "output_type": "stream",
     "text": [
      "https://google.com/search?q=raghuramulu+pemira+raghuramulu+pemira+hyderabad\n"
     ]
    },
    {
     "name": "stderr",
     "output_type": "stream",
     "text": [
      "\r",
      " 13%|█████                                 | 231/1715 [10:49<1:02:21,  2.52s/it]"
     ]
    },
    {
     "name": "stdout",
     "output_type": "stream",
     "text": [
      "https://google.com/search?q=triveni+reddy+doctors+chambers+visakhapatnam\n"
     ]
    },
    {
     "name": "stderr",
     "output_type": "stream",
     "text": [
      "\r",
      " 14%|█████▏                                | 232/1715 [10:52<1:00:18,  2.44s/it]"
     ]
    },
    {
     "name": "stdout",
     "output_type": "stream",
     "text": [
      "https://google.com/search?q=murali+c+dr.c.murali+mohan.+children's+clinic+hyderabad\n"
     ]
    },
    {
     "name": "stderr",
     "output_type": "stream",
     "text": [
      "\r",
      " 14%|█████▍                                  | 233/1715 [10:54<58:15,  2.36s/it]"
     ]
    },
    {
     "name": "stdout",
     "output_type": "stream",
     "text": [
      "1 Google review\n",
      "['Doyen', 'Chambers', 'Keerthi', 'Apartments', 'Ln', 'Sai', 'Sarathi', 'Nagar', 'Padala', 'Ramareddy', 'Colony', 'Yousufguda', 'Hyderabad', 'Telangana', '500073']\n",
      "['Yousufguda', 'Hyderabad', 'Telangana']\n",
      "city:  Yousufguda Hyderabad Telangana\n",
      "https://google.com/search?q=ch++mounika+anitha+dr.+mounika's+diabetes+&+endocrine+centre+visakhapatnam\n"
     ]
    },
    {
     "name": "stderr",
     "output_type": "stream",
     "text": [
      "\r",
      " 14%|█████▍                                  | 234/1715 [10:56<57:11,  2.32s/it]"
     ]
    },
    {
     "name": "stdout",
     "output_type": "stream",
     "text": [
      "4 Google reviews\n",
      "['Human', 'Health', 'Services', '1034Near', 'Cricket', 'StadiumOppSFC', 'Food', 'Court', 'Beside', 'Traffic', 'Police', 'Station', 'Pothinamallayya', 'Palem', 'Visakhapatnam', 'Andhra', 'Pradesh', '530041']\n",
      "['Visakhapatnam', 'Andhra', 'Pradesh']\n",
      "city:  Visakhapatnam Andhra Pradesh\n",
      "https://google.com/search?q=kirthi+bommakanti+chaitra's+neurology+clinic+hyderabad\n"
     ]
    },
    {
     "name": "stderr",
     "output_type": "stream",
     "text": [
      "\r",
      " 14%|█████▍                                  | 235/1715 [10:58<58:20,  2.37s/it]"
     ]
    },
    {
     "name": "stdout",
     "output_type": "stream",
     "text": [
      "https://google.com/search?q=p+raju+naidu+pothula+ayush+poly+clinic+visakhapatnam\n"
     ]
    },
    {
     "name": "stderr",
     "output_type": "stream",
     "text": [
      "\r",
      " 14%|█████▌                                  | 236/1715 [11:01<57:33,  2.34s/it]"
     ]
    },
    {
     "name": "stdout",
     "output_type": "stream",
     "text": [
      "https://google.com/search?q=syed+mustafa+ashraf+panacea+speciality+clinic+hyderabad\n"
     ]
    },
    {
     "name": "stderr",
     "output_type": "stream",
     "text": [
      "\r",
      " 14%|█████▌                                  | 237/1715 [11:03<56:46,  2.30s/it]"
     ]
    },
    {
     "name": "stdout",
     "output_type": "stream",
     "text": [
      "1 Google review\n",
      "['Panacea', 'Speciality', 'Clinic', '12', '2', '709', 'C', '76', 'near', 'MasjideQuba', 'Padmanabha', 'Nagar', 'Mehdipatnam', 'Hyderabad', 'Telangana', '500028']\n",
      "['Mehdipatnam', 'Hyderabad', 'Telangana']\n",
      "city:  Mehdipatnam Hyderabad Telangana\n",
      "https://google.com/search?q=priyanka+d+hanika's+general+and+dental+hospital+hyderabad\n"
     ]
    },
    {
     "name": "stderr",
     "output_type": "stream",
     "text": [
      "\r",
      " 14%|█████▌                                  | 238/1715 [11:05<53:18,  2.17s/it]"
     ]
    },
    {
     "name": "stdout",
     "output_type": "stream",
     "text": [
      "https://google.com/search?q=alekhya+s+seven+hills+hospital+bn+reddy+nagar+near+vishal+mart+hyderabad\n"
     ]
    },
    {
     "name": "stderr",
     "output_type": "stream",
     "text": [
      "\r",
      " 14%|█████▌                                  | 239/1715 [11:07<54:42,  2.22s/it]"
     ]
    },
    {
     "name": "stdout",
     "output_type": "stream",
     "text": [
      "128 Google reviews\n",
      "['Shop', 'No1051112', 'FK', 'Regency2ND', 'Floor', 'Main', 'Road', 'Rd', 'Number', '1', 'beside', 'Balaji', 'Grand', 'Bazar', 'Masab', 'Tank', 'Hyderabad', 'Telangana', '500028']\n",
      "['Tank', 'Hyderabad', 'Telangana']\n",
      "city:  Tank Hyderabad Telangana\n",
      "https://google.com/search?q=venkata+sai+shanthi+vision+tree+eye+hospital+and+lasik+centre+visakhapatnam\n"
     ]
    },
    {
     "name": "stderr",
     "output_type": "stream",
     "text": [
      "\r",
      " 14%|█████▎                                | 240/1715 [11:11<1:06:45,  2.72s/it]"
     ]
    },
    {
     "name": "stdout",
     "output_type": "stream",
     "text": [
      "40 Google reviews\n",
      "['Central', 'Mall', 'VIP', 'ROAD', 'Beside', 'Mantris', 'Hotel', 'near', 'Visakhapatnam', 'Visakhapatnam', 'Andhra', 'Pradesh', '530003']\n",
      "['Visakhapatnam', 'Andhra', 'Pradesh']\n",
      "city:  Visakhapatnam Andhra Pradesh\n",
      "https://google.com/search?q=harsha+vikaram+kattam+kadimi+nursing+home+hyderabad\n"
     ]
    },
    {
     "name": "stderr",
     "output_type": "stream",
     "text": [
      "\r",
      " 14%|█████▎                                | 241/1715 [11:13<1:00:35,  2.47s/it]"
     ]
    },
    {
     "name": "stdout",
     "output_type": "stream",
     "text": [
      "https://google.com/search?q=gopinath+kadimi+kadimi+nursing+home+hyderabad\n"
     ]
    },
    {
     "name": "stderr",
     "output_type": "stream",
     "text": [
      "\r",
      " 14%|█████▋                                  | 242/1715 [11:15<59:37,  2.43s/it]"
     ]
    },
    {
     "name": "stdout",
     "output_type": "stream",
     "text": [
      "23 Google reviews\n",
      "['4895', 'Manjeera', 'Rd', 'Santhi', 'Nagar', 'Chanda', 'Nagar', 'Hyderabad', 'Telangana', '500050']\n",
      "['Nagar', 'Hyderabad', 'Telangana']\n",
      "city:  Nagar Hyderabad Telangana\n",
      "https://google.com/search?q=amrutha+kadimi+kadimi+nursing+home+hyderabad\n"
     ]
    },
    {
     "name": "stderr",
     "output_type": "stream",
     "text": [
      "\r",
      " 14%|█████▋                                  | 243/1715 [11:18<58:53,  2.40s/it]"
     ]
    },
    {
     "name": "stdout",
     "output_type": "stream",
     "text": [
      "17 Google reviews\n",
      "['Kadimi', 'Nursing', 'Home', 'Manjeera', 'Rd', 'Gangaram', 'Chanda', 'Nagar', 'Hyderabad', 'Telangana', '500050']\n",
      "['Nagar', 'Hyderabad', 'Telangana']\n",
      "city:  Nagar Hyderabad Telangana\n",
      "https://google.com/search?q=harati+kadimi+kadimi+nursing+home+hyderabad\n"
     ]
    },
    {
     "name": "stderr",
     "output_type": "stream",
     "text": [
      "\r",
      " 14%|█████▋                                  | 244/1715 [11:20<57:33,  2.35s/it]"
     ]
    },
    {
     "name": "stdout",
     "output_type": "stream",
     "text": [
      "23 Google reviews\n",
      "['4895', 'Manjeera', 'Rd', 'Santhi', 'Nagar', 'Chanda', 'Nagar', 'Hyderabad', 'Telangana', '500050']\n",
      "['Nagar', 'Hyderabad', 'Telangana']\n",
      "city:  Nagar Hyderabad Telangana\n",
      "https://google.com/search?q=lasya++mandadi+celestial+essence+skin,+hair+&+cosmetology+clinic+visakhapatnam\n"
     ]
    },
    {
     "name": "stderr",
     "output_type": "stream",
     "text": [
      "\r",
      " 14%|█████▋                                  | 245/1715 [11:22<56:13,  2.29s/it]"
     ]
    },
    {
     "name": "stdout",
     "output_type": "stream",
     "text": [
      "https://google.com/search?q=shobha+k+sv+poly+clinic+hyderabad\n"
     ]
    },
    {
     "name": "stderr",
     "output_type": "stream",
     "text": [
      "\r",
      " 14%|█████▋                                  | 246/1715 [11:25<59:35,  2.43s/it]"
     ]
    },
    {
     "name": "stdout",
     "output_type": "stream",
     "text": [
      "58 Google reviews\n",
      "['My', 'Home', 'Jewels', 'Apartments', '6742A', 'NH65', 'Opposite', 'Madeenaguda', 'Telangana', '500049']\n",
      "['Opposite', 'Madeenaguda', 'Telangana']\n",
      "city:  Opposite Madeenaguda Telangana\n",
      "https://google.com/search?q=krishna++prasad+dharani+hospital+hyderabad\n"
     ]
    },
    {
     "name": "stderr",
     "output_type": "stream",
     "text": [
      "\r",
      " 14%|█████▊                                  | 247/1715 [11:27<58:43,  2.40s/it]"
     ]
    },
    {
     "name": "stdout",
     "output_type": "stream",
     "text": [
      "44 Google reviews\n",
      "['500028', 'Market', 'Road', 'Gudi', 'Malkapur', 'Road', 'Shivaji', 'Nagar', 'Gayatri', 'Nagar', 'Gudimalkapur', 'Hyderabad', 'Telangana', '500028']\n",
      "['Gudimalkapur', 'Hyderabad', 'Telangana']\n",
      "city:  Gudimalkapur Hyderabad Telangana\n",
      "https://google.com/search?q=marathala+pradeep++reddy++hyderabad+multispecialty+hospital+hyderabad\n"
     ]
    },
    {
     "name": "stderr",
     "output_type": "stream",
     "text": [
      "\r",
      " 14%|█████▊                                  | 248/1715 [11:30<59:55,  2.45s/it]"
     ]
    },
    {
     "name": "stdout",
     "output_type": "stream",
     "text": [
      "100 Google reviews\n",
      "['Hyderabad', 'MultiSpeciality', 'Hospital', '16267411', 'Judges', 'Colony', 'New', 'Malakpet', 'Hyderabad', 'Telangana', '500036']\n",
      "['Malakpet', 'Hyderabad', 'Telangana']\n",
      "city:  Malakpet Hyderabad Telangana\n",
      "https://google.com/search?q=shasheendra++d+sai+ram+poly+clinic+hyderabad\n"
     ]
    },
    {
     "name": "stderr",
     "output_type": "stream",
     "text": [
      "\r",
      " 15%|█████▌                                | 249/1715 [11:32<1:00:06,  2.46s/it]"
     ]
    },
    {
     "name": "stdout",
     "output_type": "stream",
     "text": [
      "https://google.com/search?q=srushanth+mukka+euderm+skin+and+hair+clinic+hyderabad\n"
     ]
    },
    {
     "name": "stderr",
     "output_type": "stream",
     "text": [
      "\r",
      " 15%|█████▊                                  | 250/1715 [11:34<59:33,  2.44s/it]"
     ]
    },
    {
     "name": "stdout",
     "output_type": "stream",
     "text": [
      "https://google.com/search?q=sudhir++prasad++prasad's+clinic+hyderabad\n"
     ]
    },
    {
     "name": "stderr",
     "output_type": "stream",
     "text": [
      "\r",
      " 15%|█████▊                                  | 251/1715 [11:37<57:02,  2.34s/it]"
     ]
    },
    {
     "name": "stdout",
     "output_type": "stream",
     "text": [
      "https://google.com/search?q=hiran++reddy+dr+hiran's+diabetic+thyroid+&+general+clinic+hyderabad\n"
     ]
    },
    {
     "name": "stderr",
     "output_type": "stream",
     "text": [
      "\r",
      " 15%|█████▉                                  | 252/1715 [11:39<59:06,  2.42s/it]"
     ]
    },
    {
     "name": "stdout",
     "output_type": "stream",
     "text": [
      "88 Google reviews\n",
      "['Iscon', 'Center', '317', '3rd', 'floor', 'Shivranjani', 'Cross', 'Rd', 'above', 'TBZ', 'jewellers', 'Satellite', 'Ahmedabad', 'Gujarat', '380015']\n",
      "['Satellite', 'Ahmedabad', 'Gujarat']\n",
      "city:  Satellite Ahmedabad Gujarat\n",
      "https://google.com/search?q=md+mubasheer++ali+true+care+clinics+hyderabad\n"
     ]
    },
    {
     "name": "stderr",
     "output_type": "stream",
     "text": [
      "\r",
      " 15%|█████▉                                  | 253/1715 [11:42<59:44,  2.45s/it]"
     ]
    },
    {
     "name": "stdout",
     "output_type": "stream",
     "text": [
      "142 Google reviews\n",
      "['Anusha', 'enclaveSecretariat', 'Colony', 'beside', 'shobha', 'hospital', 'near', 'Golden', 'Temple', 'Manikonda', 'Puppalguda', 'Telangana', '500089']\n",
      "['Manikonda', 'Puppalguda', 'Telangana']\n",
      "city:  Manikonda Puppalguda Telangana\n",
      "https://google.com/search?q=harish++nerella++heal+up+clinic+hyderabad\n"
     ]
    },
    {
     "name": "stderr",
     "output_type": "stream",
     "text": [
      "\r",
      " 15%|█████▋                                | 254/1715 [11:44<1:00:30,  2.48s/it]"
     ]
    },
    {
     "name": "stdout",
     "output_type": "stream",
     "text": [
      "28 Google reviews\n",
      "['Plot', 'no', '296', 'Golden', 'temple', 'road', 'Shaikpet', 'Main', 'Rd', 'Hyderabad', 'Telangana', '500089']\n",
      "['Rd', 'Hyderabad', 'Telangana']\n",
      "city:  Rd Hyderabad Telangana\n",
      "https://google.com/search?q=naveen+kumar++noothi+advanced+medcare+clinics+hyderabad\n"
     ]
    },
    {
     "name": "stderr",
     "output_type": "stream",
     "text": [
      "\r",
      " 15%|█████▉                                  | 255/1715 [11:47<59:25,  2.44s/it]"
     ]
    },
    {
     "name": "stdout",
     "output_type": "stream",
     "text": [
      "49 Google reviews\n",
      "['Med', '360', 'Clinics', 'Door', 'Number1574', '3rd', 'stabove', 'SBI', 'Sri', 'Ram', 'Nagar', 'Block', 'c', 'Beside', 'Burfi', 'Ghar', 'Sweet', 'Shop', 'Botanical', 'Garden', 'Rd', 'near', 'Chirec', 'School', 'Hyderabad', 'Telangana', '500084']\n",
      "['School', 'Hyderabad', 'Telangana']\n",
      "city:  School Hyderabad Telangana\n",
      "https://google.com/search?q=sushma+k+advanced+medcare+clinics+hyderabad\n"
     ]
    },
    {
     "name": "stderr",
     "output_type": "stream",
     "text": [
      "\r",
      " 15%|█████▉                                  | 256/1715 [11:49<58:32,  2.41s/it]"
     ]
    },
    {
     "name": "stdout",
     "output_type": "stream",
     "text": [
      "16 Google reviews\n",
      "['Chaitanya', 'Nagar', 'Vivekananda', 'Nagar', 'Kukatpally', 'Hyderabad', 'Telangana', '500072']\n",
      "['Kukatpally', 'Hyderabad', 'Telangana']\n",
      "city:  Kukatpally Hyderabad Telangana\n",
      "https://google.com/search?q=anish+kolly+jaya+bhushan+hospital+hyderabad\n"
     ]
    },
    {
     "name": "stderr",
     "output_type": "stream",
     "text": [
      "\r",
      " 15%|█████▉                                  | 257/1715 [11:51<59:22,  2.44s/it]"
     ]
    },
    {
     "name": "stdout",
     "output_type": "stream",
     "text": [
      "75 Google reviews\n",
      "['122823A10', 'Santosh', 'Nagar', 'Colony', 'Main', 'Road', 'Mehdipatnam', 'Opposite', 'Jaya', 'Bhushan', 'Bus', 'Stop', 'ICICI', 'Bank', 'Hyderabad', 'Telangana', '500028']\n",
      "['Bank', 'Hyderabad', 'Telangana']\n",
      "city:  Bank Hyderabad Telangana\n",
      "https://google.com/search?q=vanaja+d+gayathri+diabetic+care+hyderabad\n"
     ]
    },
    {
     "name": "stderr",
     "output_type": "stream",
     "text": [
      "\r",
      " 15%|██████                                  | 258/1715 [11:54<58:15,  2.40s/it]"
     ]
    },
    {
     "name": "stdout",
     "output_type": "stream",
     "text": [
      "23 Google reviews\n",
      "['OU', 'Colony', 'Shaikpet', 'Hyderabad', 'Telangana', '500008']\n",
      "['Shaikpet', 'Hyderabad', 'Telangana']\n",
      "city:  Shaikpet Hyderabad Telangana\n",
      "https://google.com/search?q=mukhesh+rao+sree+syamala+heart+clinic+hyderabad\n"
     ]
    },
    {
     "name": "stderr",
     "output_type": "stream",
     "text": [
      "\r",
      " 15%|██████                                  | 259/1715 [11:56<58:15,  2.40s/it]"
     ]
    },
    {
     "name": "stdout",
     "output_type": "stream",
     "text": [
      "54 Google reviews\n",
      "['floor', 'shop', 'no', '7', 'Ground', 'Rajanigandha', 'Complex', '8', 'Dilsukh', 'Nagar', 'Main', 'Rd', 'VR', 'Colony', 'Chaitanyapuri', 'Kothapet', 'Hyderabad', 'Telangana', '500060']\n",
      "['Kothapet', 'Hyderabad', 'Telangana']\n",
      "city:  Kothapet Hyderabad Telangana\n",
      "https://google.com/search?q=sandeep+ch+sainath+diagnostics+clinic+hyderabad\n"
     ]
    },
    {
     "name": "stderr",
     "output_type": "stream",
     "text": [
      "\r",
      " 15%|██████                                  | 260/1715 [11:58<57:24,  2.37s/it]"
     ]
    },
    {
     "name": "stdout",
     "output_type": "stream",
     "text": [
      "3 Google reviews\n",
      "['8H8F27Q', 'Old', 'Balaji', 'Talkies', 'Road', 'beside', 'Weight', 'Measures', 'Office', 'Gandhi', 'Nagar', 'Hyderabad', 'Telangana', '500020']\n",
      "['Nagar', 'Hyderabad', 'Telangana']\n",
      "city:  Nagar Hyderabad Telangana\n",
      "https://google.com/search?q=m+vasantha+vijaya+clinic+visakhapatnam\n"
     ]
    },
    {
     "name": "stderr",
     "output_type": "stream",
     "text": [
      "\r",
      " 15%|██████                                  | 261/1715 [12:01<56:11,  2.32s/it]"
     ]
    },
    {
     "name": "stdout",
     "output_type": "stream",
     "text": [
      "https://google.com/search?q=sunil+dr+sunil+clinic+hyderabad\n"
     ]
    },
    {
     "name": "stderr",
     "output_type": "stream",
     "text": [
      "\r",
      " 15%|██████                                  | 262/1715 [12:03<55:09,  2.28s/it]"
     ]
    },
    {
     "name": "stdout",
     "output_type": "stream",
     "text": [
      "https://google.com/search?q=a+sai+kiran++maatru+sree+childern's+hospital++hyderabad\n"
     ]
    },
    {
     "name": "stderr",
     "output_type": "stream",
     "text": [
      "\r",
      " 15%|██████▏                                 | 263/1715 [12:05<56:22,  2.33s/it]"
     ]
    },
    {
     "name": "stdout",
     "output_type": "stream",
     "text": [
      "https://google.com/search?q=shankar++k+skin+glow+skin,+hair+&+cosmetic+clinics+hyderabad\n"
     ]
    },
    {
     "name": "stderr",
     "output_type": "stream",
     "text": [
      "\r",
      " 15%|██████▏                                 | 264/1715 [12:08<59:20,  2.45s/it]"
     ]
    },
    {
     "name": "stdout",
     "output_type": "stream",
     "text": [
      "191 Google reviews\n",
      "['3', 'Shankar', 'Vihar', 'Main', 'Vikas', 'Marg', 'opposite', 'Metro', 'Pillar', 'Number', '74', 'Preet', 'Vihar', 'New', 'Delhi', 'Delhi', '110092']\n",
      "['New', 'Delhi', 'Delhi']\n",
      "city:  New Delhi Delhi\n",
      "https://google.com/search?q=dishita+reddy+dishita+children's+clinic+hyderabad\n"
     ]
    },
    {
     "name": "stderr",
     "output_type": "stream",
     "text": [
      "\r",
      " 15%|██████▏                                 | 265/1715 [12:10<57:52,  2.39s/it]"
     ]
    },
    {
     "name": "stdout",
     "output_type": "stream",
     "text": [
      "1 Google review\n",
      "['Hno', '46B', 'near', 'Abhiruchi', 'Swagruha', 'Foods', 'Sanjeeva', 'Reddy', 'Nagar', 'Hyderabad', 'Telangana', '500038']\n",
      "['Nagar', 'Hyderabad', 'Telangana']\n",
      "city:  Nagar Hyderabad Telangana\n",
      "https://google.com/search?q=sitaram+m+tenet+diagnostics+hyderabad\n"
     ]
    },
    {
     "name": "stderr",
     "output_type": "stream",
     "text": [
      "\r",
      " 16%|██████▏                                 | 266/1715 [12:13<59:57,  2.48s/it]"
     ]
    },
    {
     "name": "stdout",
     "output_type": "stream",
     "text": [
      "572 Google reviews\n",
      "['822694B', 'Road', 'No', '2', 'Beside', 'Rainbow', 'Childrens', 'Hospital', 'Sagar', 'Society', 'Sri', 'Nagar', 'Colony', 'Kamalapuri', 'Colony', 'Banjara', 'Hills', 'Hyderabad', 'Telangana', '500034']\n",
      "['Hills', 'Hyderabad', 'Telangana']\n",
      "city:  Hills Hyderabad Telangana\n",
      "https://google.com/search?q=charitha+reddy+sri+krishna+skin+and+heart+care+centre+hyderabad\n"
     ]
    },
    {
     "name": "stderr",
     "output_type": "stream",
     "text": [
      "\r",
      " 16%|█████▉                                | 267/1715 [12:16<1:01:22,  2.54s/it]"
     ]
    },
    {
     "name": "stdout",
     "output_type": "stream",
     "text": [
      "78 Google reviews\n",
      "['Sri', 'Krishna', 'skin', 'and', 'heart', 'care', 'clinic', 'flat', 'no', '303', 'third', 'floor', 'castle', 'apartmentbeside', 'Innova', 'hospital', 'above', 'Arun', 'medical', 'Hall', 'Tarnaka', 'Secunderabad', 'Telangana', '500017']\n",
      "['Tarnaka', 'Secunderabad', 'Telangana']\n",
      "city:  Tarnaka Secunderabad Telangana\n",
      "https://google.com/search?q=anand++c+palwai+ent+clinic+hyderabad\n"
     ]
    },
    {
     "name": "stderr",
     "output_type": "stream",
     "text": [
      "\r",
      " 16%|██████▎                                 | 268/1715 [12:18<59:24,  2.46s/it]"
     ]
    },
    {
     "name": "stdout",
     "output_type": "stream",
     "text": [
      "https://google.com/search?q=satyanath+rv+patnaik's+skin+clinic+and+laser+centre+hyderabad\n"
     ]
    },
    {
     "name": "stderr",
     "output_type": "stream",
     "text": [
      "\r",
      " 16%|█████▉                                | 269/1715 [12:21<1:00:01,  2.49s/it]"
     ]
    },
    {
     "name": "stdout",
     "output_type": "stream",
     "text": [
      "115 Google reviews\n",
      "['Bhanu', 'Enclave', 'Sunder', 'Nagar', 'colony', 'ESI', 'X', 'Rds', 'beside', 'Sai', 'Maruti', 'show', 'room', 'Telangana', '500038']\n",
      "['show', 'room', 'Telangana']\n",
      "city:  show room Telangana\n",
      "https://google.com/search?q=som+nanu+swikriti+childrens+clinic+hyderabad\n"
     ]
    },
    {
     "name": "stderr",
     "output_type": "stream",
     "text": [
      "\r",
      " 16%|██████▎                                 | 270/1715 [12:22<55:57,  2.32s/it]"
     ]
    },
    {
     "name": "stdout",
     "output_type": "stream",
     "text": [
      "https://google.com/search?q=kiran+adabala+aaditya+hospital+hyderabad\n"
     ]
    },
    {
     "name": "stderr",
     "output_type": "stream",
     "text": [
      "\r",
      " 16%|██████▎                                 | 271/1715 [12:25<55:58,  2.33s/it]"
     ]
    },
    {
     "name": "stdout",
     "output_type": "stream",
     "text": [
      "6 Google reviews\n",
      "['24', 'AADITYA', 'HOSPITAL', '1', '146', 'Indira', 'Nagar', 'Colony', 'Venkatapuram', 'Alwal', 'Secunderabad', 'Telangana', '500015']\n",
      "['Alwal', 'Secunderabad', 'Telangana']\n",
      "city:  Alwal Secunderabad Telangana\n",
      "https://google.com/search?q=kiran+kumar+a+hair+and+skin+clinic+hyderabad\n"
     ]
    },
    {
     "name": "stderr",
     "output_type": "stream",
     "text": [
      "\r",
      " 16%|██████                                | 272/1715 [12:28<1:05:28,  2.72s/it]"
     ]
    },
    {
     "name": "stdout",
     "output_type": "stream",
     "text": [
      "444 Google reviews\n",
      "['Apurupa', 'LN', 'Chambers', '2nd', 'floor', 'Above', 'Indus', 'Ind', 'Bank', 'Opposite', 'to', 'Telangana', 'Tourism', 'Old', 'MLA', 'Quarters', 'Rd', 'Himayatnagar', 'Hyderabad', 'Telangana', '500029']\n",
      "['Himayatnagar', 'Hyderabad', 'Telangana']\n",
      "city:  Himayatnagar Hyderabad Telangana\n",
      "https://google.com/search?q=bharathkanth++reddy+srujana+hospital+hyderabad\n"
     ]
    },
    {
     "name": "stderr",
     "output_type": "stream",
     "text": [
      "\r",
      " 16%|██████                                | 273/1715 [12:30<1:00:31,  2.52s/it]"
     ]
    },
    {
     "name": "stdout",
     "output_type": "stream",
     "text": [
      "https://google.com/search?q=naresh+gundapaneni+renova+hospitals+hyderabad\n"
     ]
    },
    {
     "name": "stderr",
     "output_type": "stream",
     "text": [
      "\r",
      " 16%|██████                                | 274/1715 [12:33<1:01:14,  2.55s/it]"
     ]
    },
    {
     "name": "stdout",
     "output_type": "stream",
     "text": [
      "https://google.com/search?q=firdaus+fatima+ab+rheumatology+center+hyderabad\n"
     ]
    },
    {
     "name": "stderr",
     "output_type": "stream",
     "text": [
      "\r",
      " 16%|██████                                | 275/1715 [12:36<1:00:41,  2.53s/it]"
     ]
    },
    {
     "name": "stdout",
     "output_type": "stream",
     "text": [
      "253 Google reviews\n",
      "['5910322Bhartiya', 'Vidya', 'Bhavan', 'Road', 'Gun', 'Foundry', 'Basheer', 'Bagh', 'mosque', 'lane', 'behind', 'Bahar', 'cafe', 'Hyderguda', 'Telangana', '500029']\n",
      "['cafe', 'Hyderguda', 'Telangana']\n",
      "city:  cafe Hyderguda Telangana\n",
      "https://google.com/search?q=sambasivarao+cheruvu+ss+heartcare+clinic+hyderabad\n"
     ]
    },
    {
     "name": "stderr",
     "output_type": "stream",
     "text": [
      "\r",
      " 16%|██████▍                                 | 276/1715 [12:38<59:14,  2.47s/it]"
     ]
    },
    {
     "name": "stdout",
     "output_type": "stream",
     "text": [
      "https://google.com/search?q=rajesh+vukkala+rajeshvukkula+hyderabad\n"
     ]
    },
    {
     "name": "stderr",
     "output_type": "stream",
     "text": [
      "\r",
      " 16%|██████▍                                 | 277/1715 [12:40<55:33,  2.32s/it]"
     ]
    },
    {
     "name": "stdout",
     "output_type": "stream",
     "text": [
      "https://google.com/search?q=payal+bhargava+praanadah+hospital+hyderabad\n"
     ]
    },
    {
     "name": "stderr",
     "output_type": "stream",
     "text": [
      "\r",
      " 16%|██████▍                                 | 278/1715 [12:42<56:07,  2.34s/it]"
     ]
    },
    {
     "name": "stdout",
     "output_type": "stream",
     "text": [
      "https://google.com/search?q=hari+kiran++p+v+s+c+kiran+heart+care,+kompally+hyderabad\n"
     ]
    },
    {
     "name": "stderr",
     "output_type": "stream",
     "text": [
      "\r",
      " 16%|██████▏                               | 279/1715 [12:45<1:01:23,  2.57s/it]"
     ]
    },
    {
     "name": "stdout",
     "output_type": "stream",
     "text": [
      "46 Google reviews\n",
      "['Plot', 'no', 'Kiran', 'Heart', 'Care', '19', 'Suchitra', 'Rd', 'behind', 'RENOVAOld', 'Balaji', 'Hospital', 'NCL', 'Enclave', 'South', 'Caton', 'Residential', 'Twp', 'Jeedimetla', 'Hyderabad', 'Telangana', '500014']\n",
      "['Jeedimetla', 'Hyderabad', 'Telangana']\n",
      "city:  Jeedimetla Hyderabad Telangana\n",
      "https://google.com/search?q=anand+reddy+b+smilenglow+skin+and+dental+hospital+hyderabad\n"
     ]
    },
    {
     "name": "stderr",
     "output_type": "stream",
     "text": [
      "\r",
      " 16%|██████▏                               | 280/1715 [12:48<1:03:33,  2.66s/it]"
     ]
    },
    {
     "name": "stdout",
     "output_type": "stream",
     "text": [
      "167 Google reviews\n",
      "['Ritesh', 'Premier', 'Towers', 'Plot', 'No', '177', '3rd', 'Floor', 'Vasavi', 'Nagar', 'Karkhana', 'Secunderabad', 'Telangana', '500009']\n",
      "['Karkhana', 'Secunderabad', 'Telangana']\n",
      "city:  Karkhana Secunderabad Telangana\n",
      "https://google.com/search?q=roshan+kosuri+dr.jeevan's+maruthi+clinic+visakhapatnam\n"
     ]
    },
    {
     "name": "stderr",
     "output_type": "stream",
     "text": [
      "\r",
      " 16%|██████▏                               | 281/1715 [12:51<1:01:58,  2.59s/it]"
     ]
    },
    {
     "name": "stdout",
     "output_type": "stream",
     "text": [
      "https://google.com/search?q=v++srinivasa+rao+satya+srinivas+gastro+&+gynaec+care+visakhapatnam\n"
     ]
    },
    {
     "name": "stderr",
     "output_type": "stream",
     "text": [
      "\r",
      " 16%|██████▏                               | 282/1715 [12:54<1:04:50,  2.72s/it]"
     ]
    },
    {
     "name": "stdout",
     "output_type": "stream",
     "text": [
      "https://google.com/search?q=kaushik+reddy+m+dr+kaushik+reddy+|+orthopedic+surgeon+|+bone+&+joint+clinic+hyderabad\n"
     ]
    },
    {
     "name": "stderr",
     "output_type": "stream",
     "text": [
      "\r",
      " 17%|██████▎                               | 283/1715 [12:56<1:03:15,  2.65s/it]"
     ]
    },
    {
     "name": "stdout",
     "output_type": "stream",
     "text": [
      "267 Google reviews\n",
      "['Orthopaedics', 'opd', 'Apollo', 'Health', 'City', 'Room', 'no', '958', 'International', 'Block', 'Rd', 'Number', '72', 'Jubilee', 'Hills', 'Hyderabad', 'Telangana', '500033']\n",
      "['Hills', 'Hyderabad', 'Telangana']\n",
      "city:  Hills Hyderabad Telangana\n",
      "https://google.com/search?q=k+v+rao+dr.+k.+v.+rao's+clinic+hyderabad\n"
     ]
    },
    {
     "name": "stderr",
     "output_type": "stream",
     "text": [
      "\r",
      " 17%|██████▎                               | 284/1715 [12:59<1:01:01,  2.56s/it]"
     ]
    },
    {
     "name": "stdout",
     "output_type": "stream",
     "text": [
      "https://google.com/search?q=vvg+mohan+visakha+children+hospital+visakhapatnam\n"
     ]
    },
    {
     "name": "stderr",
     "output_type": "stream",
     "text": [
      "\r",
      " 17%|██████▎                               | 285/1715 [13:01<1:00:44,  2.55s/it]"
     ]
    },
    {
     "name": "stdout",
     "output_type": "stream",
     "text": [
      "22 Google reviews\n",
      "['GOKHALE', 'ROAD', 'Zilla', 'Parishad', 'Jn', 'Krishna', 'Temple', 'Opp', 'St', 'Joseph', 'Hospital', 'Maharani', 'Peta', 'Visakhapatnam', 'Andhra', 'Pradesh', '530002']\n",
      "['Visakhapatnam', 'Andhra', 'Pradesh']\n",
      "city:  Visakhapatnam Andhra Pradesh\n",
      "https://google.com/search?q=krishna+prasad++anne+pranam+hospital+hyderabad\n"
     ]
    },
    {
     "name": "stderr",
     "output_type": "stream",
     "text": [
      "\r",
      " 17%|██████▋                                 | 286/1715 [13:03<59:17,  2.49s/it]"
     ]
    },
    {
     "name": "stdout",
     "output_type": "stream",
     "text": [
      "https://google.com/search?q=sudhir+reddy+++++++++++++++++++++++++++++k+landmark+hospitals+hyderabad\n"
     ]
    },
    {
     "name": "stderr",
     "output_type": "stream",
     "text": [
      "\r",
      " 17%|██████▋                                 | 287/1715 [13:06<59:34,  2.50s/it]"
     ]
    },
    {
     "name": "stdout",
     "output_type": "stream",
     "text": [
      "65 Google reviews\n",
      "['Room', 'No', '02', 'Ground', 'Floor', 'Landmark', 'Orthopedic', 'Center', 'beside', 'JNTU', 'Metro', 'Station', 'Kukatpally', 'Hyderabad', 'Telangana', '500085']\n",
      "['Kukatpally', 'Hyderabad', 'Telangana']\n",
      "city:  Kukatpally Hyderabad Telangana\n",
      "https://google.com/search?q=g+umamaheswara+rao+sri+sai+durga+nursing+home+visakhapatnam\n"
     ]
    },
    {
     "name": "stderr",
     "output_type": "stream",
     "text": [
      "\r",
      " 17%|██████▋                                 | 288/1715 [13:08<58:40,  2.47s/it]"
     ]
    },
    {
     "name": "stdout",
     "output_type": "stream",
     "text": [
      "8 Google reviews\n",
      "['30151421', 'Ranga', 'Street', 'Near', 'By', 'Main', 'Rd', 'Daba', 'Gardens', 'Visakhapatnam', 'Andhra', 'Pradesh', '530020']\n",
      "['Visakhapatnam', 'Andhra', 'Pradesh']\n",
      "city:  Visakhapatnam Andhra Pradesh\n",
      "https://google.com/search?q=naga+murali+k+dr+murali+heart+care+hyderabad\n"
     ]
    },
    {
     "name": "stderr",
     "output_type": "stream",
     "text": [
      "\r",
      " 17%|██████▋                                 | 289/1715 [13:11<58:40,  2.47s/it]"
     ]
    },
    {
     "name": "stdout",
     "output_type": "stream",
     "text": [
      "11 Google reviews\n",
      "['Co', 'APARNA', 'HOSPITAL', 'Behind', 'HDFC', 'Bank', 'Nallagandla2', 'branch', 'Navodaya', 'colony', 'Nalagandla', 'Telangana', '500019']\n",
      "['colony', 'Nalagandla', 'Telangana']\n",
      "city:  colony Nalagandla Telangana\n",
      "https://google.com/search?q=b+jaipal++reddy+jagannath+clinic+hyderabad\n"
     ]
    },
    {
     "name": "stderr",
     "output_type": "stream",
     "text": [
      "\r",
      " 17%|██████▊                                 | 290/1715 [13:13<57:29,  2.42s/it]"
     ]
    },
    {
     "name": "stdout",
     "output_type": "stream",
     "text": [
      "1 Google review\n",
      "['8HJ344P', 'Jagannath', 'clinic', 'Hastinapur', 'cross', 'road', 'beside', 'sangeeta', 'restaurant', 'Hyderabad', 'Telangana', '500079']\n",
      "['restaurant', 'Hyderabad', 'Telangana']\n",
      "city:  restaurant Hyderabad Telangana\n",
      "https://google.com/search?q=sushma+j+jagannath+clinic+hyderabad\n"
     ]
    },
    {
     "name": "stderr",
     "output_type": "stream",
     "text": [
      "\r",
      " 17%|██████▊                                 | 291/1715 [13:15<55:34,  2.34s/it]"
     ]
    },
    {
     "name": "stdout",
     "output_type": "stream",
     "text": [
      "https://google.com/search?q=r+l+praveen+sai+vihaan+gastro+and+liver+care+centre+visakhapatnam\n"
     ]
    },
    {
     "name": "stderr",
     "output_type": "stream",
     "text": [
      "\r",
      " 17%|██████▊                                 | 292/1715 [13:18<54:56,  2.32s/it]"
     ]
    },
    {
     "name": "stdout",
     "output_type": "stream",
     "text": [
      "https://google.com/search?q=nikhil+immadi+anupama+hospital+hyderabad\n"
     ]
    },
    {
     "name": "stderr",
     "output_type": "stream",
     "text": [
      "\r",
      " 17%|██████▊                                 | 293/1715 [13:20<54:50,  2.31s/it]"
     ]
    },
    {
     "name": "stdout",
     "output_type": "stream",
     "text": [
      "55 Google reviews\n",
      "['Anupama', 'hospital', 'beside', 'forum', 'sujana', 'mall', 'opp', 'Chaitanya', 'food', 'court', 'Kukatpally', 'Housing', 'Board', 'Colony', 'Kukatpally', 'Hyderabad', 'Telangana', '500072']\n",
      "['Kukatpally', 'Hyderabad', 'Telangana']\n",
      "city:  Kukatpally Hyderabad Telangana\n",
      "https://google.com/search?q=teki+satya+sri+uday+skin+clinic+hyderabad\n"
     ]
    },
    {
     "name": "stderr",
     "output_type": "stream",
     "text": [
      "\r",
      " 17%|██████▊                                 | 294/1715 [13:22<53:32,  2.26s/it]"
     ]
    },
    {
     "name": "stdout",
     "output_type": "stream",
     "text": [
      "6 Google reviews\n",
      "['Opp', 'Sowmya', 'Childrens', 'Hospital', 'Lane', 'Number', '23', 'Behind', 'Axis', 'Bank', 'Sanjeeva', 'Reddy', 'Nagar', 'Hyderabad', 'Telangana', '500038']\n",
      "['Nagar', 'Hyderabad', 'Telangana']\n",
      "city:  Nagar Hyderabad Telangana\n",
      "https://google.com/search?q=t+vinay+kumar+sri+satya+aashrita+skin,+v.d.,+hair+&+cosmetology+clinic+visakhapatnam\n"
     ]
    },
    {
     "name": "stderr",
     "output_type": "stream",
     "text": [
      "\r",
      " 17%|██████▉                                 | 295/1715 [13:24<50:34,  2.14s/it]"
     ]
    },
    {
     "name": "stdout",
     "output_type": "stream",
     "text": [
      "https://google.com/search?q=kavitha+gone+bright+kidney+centre+hyderabad\n"
     ]
    },
    {
     "name": "stderr",
     "output_type": "stream",
     "text": [
      "\r",
      " 17%|██████▉                                 | 296/1715 [13:27<55:09,  2.33s/it]"
     ]
    },
    {
     "name": "stdout",
     "output_type": "stream",
     "text": [
      "https://google.com/search?q=r++satyavathi+satya+srinivas+gastro+&+gynaec+care+visakhapatnam\n"
     ]
    },
    {
     "name": "stderr",
     "output_type": "stream",
     "text": [
      "\r",
      " 17%|██████▉                                 | 297/1715 [13:29<54:08,  2.29s/it]"
     ]
    },
    {
     "name": "stdout",
     "output_type": "stream",
     "text": [
      "https://google.com/search?q=g+r+murthy+model+family+clinic+hyderabad\n"
     ]
    },
    {
     "name": "stderr",
     "output_type": "stream",
     "text": [
      "\r",
      " 17%|██████▉                                 | 298/1715 [13:31<55:17,  2.34s/it]"
     ]
    },
    {
     "name": "stdout",
     "output_type": "stream",
     "text": [
      "https://google.com/search?q=kishore+kumar+reddy+kk+reddy++hospital+hyderabad\n"
     ]
    },
    {
     "name": "stderr",
     "output_type": "stream",
     "text": [
      "\r",
      " 17%|██████▉                                 | 299/1715 [13:34<58:15,  2.47s/it]"
     ]
    },
    {
     "name": "stdout",
     "output_type": "stream",
     "text": [
      "320 Google reviews\n",
      "['MIG', '278', 'Rd', 'Number', '4', 'near', 'Eswar', 'Eye', 'Hospital', 'Kukatpally', 'Housing', 'Board', 'Colony', 'Kukatpally', 'Hyderabad', 'Telangana', '500072']\n",
      "['Kukatpally', 'Hyderabad', 'Telangana']\n",
      "city:  Kukatpally Hyderabad Telangana\n",
      "https://google.com/search?q=k+sadandam+sadanand+nursing+home+hyderabad\n"
     ]
    },
    {
     "name": "stderr",
     "output_type": "stream",
     "text": [
      "\r",
      " 17%|██████▉                                 | 300/1715 [13:36<56:52,  2.41s/it]"
     ]
    },
    {
     "name": "stdout",
     "output_type": "stream",
     "text": [
      "18 Google reviews\n",
      "['CCRF7P7', 'Andhra', 'Pradesh', 'Rahmat', 'Nagar', 'Hyderabad', 'Telangana', '500045']\n",
      "['Nagar', 'Hyderabad', 'Telangana']\n",
      "city:  Nagar Hyderabad Telangana\n",
      "https://google.com/search?q=archana+daftardar+dr+archana's+kidney+clinic+hyderabad\n"
     ]
    },
    {
     "name": "stderr",
     "output_type": "stream",
     "text": [
      "\r",
      " 18%|███████                                 | 301/1715 [13:39<56:00,  2.38s/it]"
     ]
    },
    {
     "name": "stdout",
     "output_type": "stream",
     "text": [
      "https://google.com/search?q=praveen++++k+dr+praveen+breath+easy+lung+care+center+hyderabad\n"
     ]
    },
    {
     "name": "stderr",
     "output_type": "stream",
     "text": [
      "\r",
      " 18%|███████                                 | 302/1715 [13:41<57:09,  2.43s/it]"
     ]
    },
    {
     "name": "stdout",
     "output_type": "stream",
     "text": [
      "16 Google reviews\n",
      "['Kukatpally', 'Housing', 'Board', 'Colony', 'Kukatpally', 'Hyderabad', 'Telangana', '500072']\n",
      "['Kukatpally', 'Hyderabad', 'Telangana']\n",
      "city:  Kukatpally Hyderabad Telangana\n",
      "https://google.com/search?q=veerendra+mudnoor+vihaortho+care++hyderabad\n"
     ]
    },
    {
     "name": "stderr",
     "output_type": "stream",
     "text": [
      "\r",
      " 18%|███████                                 | 303/1715 [13:44<59:44,  2.54s/it]"
     ]
    },
    {
     "name": "stdout",
     "output_type": "stream",
     "text": [
      "41 Google reviews\n",
      "['Road', 'No', '4', 'KPHB', 'mig', '279', 'MIG279', 'Remedy', 'Hospital', 'Ln', 'K', 'P', 'H', 'B', 'Phase', '1', 'Kukatpally', 'Hyderabad', 'Telangana', '500072']\n",
      "['Kukatpally', 'Hyderabad', 'Telangana']\n",
      "city:  Kukatpally Hyderabad Telangana\n",
      "https://google.com/search?q=faraz+farishta+f+s+endocrinology+&+diabetic+center+hyderabad\n"
     ]
    },
    {
     "name": "stderr",
     "output_type": "stream",
     "text": [
      "\r",
      " 18%|███████                                 | 304/1715 [13:46<55:25,  2.36s/it]"
     ]
    },
    {
     "name": "stdout",
     "output_type": "stream",
     "text": [
      "https://google.com/search?q=ashok+b+happy+health+clinic+hyderabad\n"
     ]
    },
    {
     "name": "stderr",
     "output_type": "stream",
     "text": [
      "\r",
      " 18%|███████                                 | 305/1715 [13:48<55:56,  2.38s/it]"
     ]
    },
    {
     "name": "stdout",
     "output_type": "stream",
     "text": [
      "2 Google reviews\n",
      "['Road', '9A', 'Krushi', 'Nagar', 'Street', 'Madeenaguda', 'Telangana', '500049']\n",
      "['Street', 'Madeenaguda', 'Telangana']\n",
      "city:  Street Madeenaguda Telangana\n",
      "https://google.com/search?q=seetha++ram++b+venkat+kripa+diabetic+centre+hyderabad\n"
     ]
    },
    {
     "name": "stderr",
     "output_type": "stream",
     "text": [
      "\r",
      " 18%|███████▏                                | 306/1715 [13:51<56:30,  2.41s/it]"
     ]
    },
    {
     "name": "stdout",
     "output_type": "stream",
     "text": [
      "8 Google reviews\n",
      "['2523RT', '1st', 'Floor', 'Central', 'Bank', 'Building', 'Main', 'Road', 'Vijaya', 'Nagar', 'Colony', 'Hyderabad', 'Telangana', '500057']\n",
      "['Colony', 'Hyderabad', 'Telangana']\n",
      "city:  Colony Hyderabad Telangana\n",
      "https://google.com/search?q=sudhakar+barla+sudhakar+multispeciality+clinic+hyderabad\n"
     ]
    },
    {
     "name": "stderr",
     "output_type": "stream",
     "text": [
      "\r",
      " 18%|███████▏                                | 307/1715 [13:53<57:45,  2.46s/it]"
     ]
    },
    {
     "name": "stdout",
     "output_type": "stream",
     "text": [
      "229 Google reviews\n",
      "['SUDHAKAR', 'Multispeciality', 'Clinic', '1st', 'floor', 'Omer', 'Naseem', 'Square', 'Road', 'no', '25', 'circle', 'Alkapur', 'Twp', 'Manikonda', 'Jagir', 'Telangana', '500075']\n",
      "['Manikonda', 'Jagir', 'Telangana']\n",
      "city:  Manikonda Jagir Telangana\n",
      "https://google.com/search?q=akurathi+padma+dr.padmas+skin+clinic+hyderabad\n"
     ]
    },
    {
     "name": "stderr",
     "output_type": "stream",
     "text": [
      "\r",
      " 18%|██████▊                               | 308/1715 [13:58<1:12:02,  3.07s/it]"
     ]
    },
    {
     "name": "stdout",
     "output_type": "stream",
     "text": [
      "82 Google reviews\n",
      "['No4', 'Beside', 'Remedy', 'Hospital', 'Ln', 'Dharma', 'Reddy', 'Colony', 'Phase', 'I', 'Kukatpally', 'Hyderabad', 'Telangana', '500072']\n",
      "['Kukatpally', 'Hyderabad', 'Telangana']\n",
      "city:  Kukatpally Hyderabad Telangana\n",
      "https://google.com/search?q=shiva+prasad+i+v+dr+i.+v.+siva+prasad+prasad's+clinic+hyderabad\n"
     ]
    },
    {
     "name": "stderr",
     "output_type": "stream",
     "text": [
      "\r",
      " 18%|██████▊                               | 309/1715 [14:00<1:06:52,  2.85s/it]"
     ]
    },
    {
     "name": "stdout",
     "output_type": "stream",
     "text": [
      "4 Google reviews\n",
      "['One', 'more', 'nagar', 'Shankarpalli', 'Hyderabad', 'Rd', 'Ibrahim', 'Bagh', 'Hyderabad', 'Telangana', '500075']\n",
      "['Bagh', 'Hyderabad', 'Telangana']\n",
      "city:  Bagh Hyderabad Telangana\n",
      "https://google.com/search?q=meghanath+yenni+mvp+hospital+visakhapatnam\n"
     ]
    },
    {
     "name": "stderr",
     "output_type": "stream",
     "text": [
      "\r",
      " 18%|██████▊                               | 310/1715 [14:03<1:03:48,  2.72s/it]"
     ]
    },
    {
     "name": "stdout",
     "output_type": "stream",
     "text": [
      "278 Google reviews\n",
      "['First', 'Choice', 'Clinics', '11174', 'Plot', 'No', '71', 'opp', 'Navya', 'Constructions', 'Office', 'Ushodaya', 'Junction', 'Sector', '12', 'MVP', 'Colony', 'Visakhapatnam', 'Andhra', 'Pradesh', '530017']\n",
      "['Visakhapatnam', 'Andhra', 'Pradesh']\n",
      "city:  Visakhapatnam Andhra Pradesh\n",
      "https://google.com/search?q=abhinandana+c+sai+triyas+clinic+and+diagnostic+centre+hyderabad\n"
     ]
    },
    {
     "name": "stderr",
     "output_type": "stream",
     "text": [
      "\r",
      " 18%|██████▉                               | 311/1715 [14:05<1:00:18,  2.58s/it]"
     ]
    },
    {
     "name": "stdout",
     "output_type": "stream",
     "text": [
      "https://google.com/search?q=j+v+srujan+united+home+health+care+visakhapatnam\n"
     ]
    },
    {
     "name": "stderr",
     "output_type": "stream",
     "text": [
      "\r",
      " 18%|██████▉                               | 312/1715 [14:08<1:06:45,  2.86s/it]"
     ]
    },
    {
     "name": "stdout",
     "output_type": "stream",
     "text": [
      "https://google.com/search?q=kalyan+varma++++++++++++++++++++++++++k+pragathi+clinic+hyderabad\n"
     ]
    },
    {
     "name": "stderr",
     "output_type": "stream",
     "text": [
      "\r",
      " 18%|██████▉                               | 313/1715 [14:11<1:04:36,  2.77s/it]"
     ]
    },
    {
     "name": "stdout",
     "output_type": "stream",
     "text": [
      "88 Google reviews\n",
      "['Plot', 'No', '177', 'Ground', 'Floor', 'Lahari', 'Estates', 'Pragathi', 'Nagar', 'Kukatpally', 'Hyderabad', 'Telangana', '500090']\n",
      "['Kukatpally', 'Hyderabad', 'Telangana']\n",
      "city:  Kukatpally Hyderabad Telangana\n",
      "https://google.com/search?q=rama+prathyusha+pragathi+clinic+hyderabad\n"
     ]
    },
    {
     "name": "stderr",
     "output_type": "stream",
     "text": [
      "\r",
      " 18%|██████▉                               | 314/1715 [14:15<1:11:12,  3.05s/it]"
     ]
    },
    {
     "name": "stdout",
     "output_type": "stream",
     "text": [
      "24 Google reviews\n",
      "['Pragathi', 'Clinic', 'Plot', 'No', '177', 'Ground', 'Floor', 'Lahari', 'Estates', 'Opp', 'Vijetha', 'Supermarket', 'Pragathi', 'Nagar', 'Kukatpally', 'Hyderabad', 'Telangana', '500090']\n",
      "['Kukatpally', 'Hyderabad', 'Telangana']\n",
      "city:  Kukatpally Hyderabad Telangana\n",
      "https://google.com/search?q=vineeta+samanthula+jayakrishna+ent+clinic+hyderabad\n"
     ]
    },
    {
     "name": "stderr",
     "output_type": "stream",
     "text": [
      "\r",
      " 18%|██████▉                               | 315/1715 [14:17<1:07:11,  2.88s/it]"
     ]
    },
    {
     "name": "stdout",
     "output_type": "stream",
     "text": [
      "https://google.com/search?q=vamsi+krishna+p+dr.+vamsi's+urology+clinic+hyderabad\n"
     ]
    },
    {
     "name": "stderr",
     "output_type": "stream",
     "text": [
      "\r",
      " 18%|███████                               | 316/1715 [14:19<1:01:03,  2.62s/it]"
     ]
    },
    {
     "name": "stdout",
     "output_type": "stream",
     "text": [
      "https://google.com/search?q=ravi+av+sn+specality+wellness+clinic+hyderabad\n"
     ]
    },
    {
     "name": "stderr",
     "output_type": "stream",
     "text": [
      "\r",
      " 18%|███████                               | 317/1715 [14:22<1:00:38,  2.60s/it]"
     ]
    },
    {
     "name": "stdout",
     "output_type": "stream",
     "text": [
      "21 Google reviews\n",
      "['1st', 'Floor', 'Kautilya', 'Complex', 'Beside', 'Vijaya', 'Bank', 'Irram', 'Manzil', 'Metro', 'Station', 'Somajiguda', 'Hyderabad', 'Telangana', '500082']\n",
      "['Somajiguda', 'Hyderabad', 'Telangana']\n",
      "city:  Somajiguda Hyderabad Telangana\n",
      "https://google.com/search?q=zipah+sheikh+romanas+hyderabad\n"
     ]
    },
    {
     "name": "stderr",
     "output_type": "stream",
     "text": [
      "\r",
      " 19%|███████▍                                | 318/1715 [14:23<54:21,  2.33s/it]"
     ]
    },
    {
     "name": "stdout",
     "output_type": "stream",
     "text": [
      "https://google.com/search?q=nagendra+babu+dr+romanas+dental+clinic+hyderabad\n"
     ]
    },
    {
     "name": "stderr",
     "output_type": "stream",
     "text": [
      "\r",
      " 19%|███████                               | 319/1715 [14:27<1:01:16,  2.63s/it]"
     ]
    },
    {
     "name": "stdout",
     "output_type": "stream",
     "text": [
      "https://google.com/search?q=binod+sharma+dr+mohan+rao+health+care+clinic+hyderabad\n"
     ]
    },
    {
     "name": "stderr",
     "output_type": "stream",
     "text": [
      "\r",
      " 19%|███████▍                                | 320/1715 [14:29<59:47,  2.57s/it]"
     ]
    },
    {
     "name": "stdout",
     "output_type": "stream",
     "text": [
      "https://google.com/search?q=neeraja++kapavarapu+tirumala+clinics+visakhapatnam\n"
     ]
    },
    {
     "name": "stderr",
     "output_type": "stream",
     "text": [
      "\r",
      " 19%|███████▍                                | 321/1715 [14:31<53:34,  2.31s/it]"
     ]
    },
    {
     "name": "stdout",
     "output_type": "stream",
     "text": [
      "https://google.com/search?q=b+sivananda++reddy+dr+siva's+gastrocare+&+dental+care++hyderabad\n"
     ]
    },
    {
     "name": "stderr",
     "output_type": "stream",
     "text": [
      "\r",
      " 19%|███████▌                                | 322/1715 [14:33<49:39,  2.14s/it]"
     ]
    },
    {
     "name": "stdout",
     "output_type": "stream",
     "text": [
      "https://google.com/search?q=sreehari+t+vaamans+sugar+clinic+hyderabad\n"
     ]
    },
    {
     "name": "stderr",
     "output_type": "stream",
     "text": [
      "\r",
      " 19%|███████▌                                | 323/1715 [14:35<52:40,  2.27s/it]"
     ]
    },
    {
     "name": "stdout",
     "output_type": "stream",
     "text": [
      "21 Google reviews\n",
      "['1571MALLAS', 'ARCADEMALLIKARJUNA', 'NAGAR', 'near', 'More', 'Supermarket', 'Peerzadiguda', 'Hyderabad', 'Telangana', '500039']\n",
      "['Peerzadiguda', 'Hyderabad', 'Telangana']\n",
      "city:  Peerzadiguda Hyderabad Telangana\n",
      "https://google.com/search?q=kalyan++chakravarthy++bsr+ent+&+eye+hospital+hyderabad\n"
     ]
    },
    {
     "name": "stderr",
     "output_type": "stream",
     "text": [
      "\r",
      " 19%|███████▌                                | 324/1715 [14:38<54:52,  2.37s/it]"
     ]
    },
    {
     "name": "stdout",
     "output_type": "stream",
     "text": [
      "87 Google reviews\n",
      "['Karan', 'Centre', '111', 'SD', 'Road', 'Secunderabad', 'Telangana', '500003']\n",
      "['Road', 'Secunderabad', 'Telangana']\n",
      "city:  Road Secunderabad Telangana\n",
      "https://google.com/search?q=u+victor++emmanuel+prajwala+clinics+hyderabad\n"
     ]
    },
    {
     "name": "stderr",
     "output_type": "stream",
     "text": [
      "\r",
      " 19%|███████▌                                | 325/1715 [14:40<55:04,  2.38s/it]"
     ]
    },
    {
     "name": "stdout",
     "output_type": "stream",
     "text": [
      "929 Google reviews\n",
      "['845', 'Street', 'No6', 'Prashanth', 'Nagar', 'Colony', 'Medipally', 'Hyderabad', 'Telangana', '500098']\n",
      "['Medipally', 'Hyderabad', 'Telangana']\n",
      "city:  Medipally Hyderabad Telangana\n",
      "https://google.com/search?q=ravi+kumar++magnas+ent+super+speciality+hospitals+hyderabad\n"
     ]
    },
    {
     "name": "stderr",
     "output_type": "stream",
     "text": [
      "\r",
      " 19%|███████▌                                | 326/1715 [14:43<56:35,  2.44s/it]"
     ]
    },
    {
     "name": "stdout",
     "output_type": "stream",
     "text": [
      "1,244 Google reviews\n",
      "['Manikanta', 'Crown', 'Complex', '1879', 'Dilsukh', 'Nagar', 'Main', 'Rd', 'beside', 'Indian', 'Bank', 'Dilsukhnagar', 'Hyderabad', 'Telangana', '500060']\n",
      "['Dilsukhnagar', 'Hyderabad', 'Telangana']\n",
      "city:  Dilsukhnagar Hyderabad Telangana\n",
      "https://google.com/search?q=rama+devi+gali+soumya+hospital+hyderabad\n"
     ]
    },
    {
     "name": "stderr",
     "output_type": "stream",
     "text": [
      "\r",
      " 19%|███████▋                                | 327/1715 [14:45<57:17,  2.48s/it]"
     ]
    },
    {
     "name": "stdout",
     "output_type": "stream",
     "text": [
      "73 Google reviews\n",
      "['Khader', 'Bagh', 'Rd', 'Khader', 'Bagh', 'Rethibowli', 'Mehdipatnam', 'Hyderabad', 'Telangana', '500008']\n",
      "['Mehdipatnam', 'Hyderabad', 'Telangana']\n",
      "city:  Mehdipatnam Hyderabad Telangana\n",
      "https://google.com/search?q=gautham+krishna+reddy+g+dr+g.sudarshan+reddy+skin+clinic+hyderabad\n"
     ]
    },
    {
     "name": "stderr",
     "output_type": "stream",
     "text": [
      "\r",
      " 19%|███████▋                                | 328/1715 [14:48<58:07,  2.51s/it]"
     ]
    },
    {
     "name": "stdout",
     "output_type": "stream",
     "text": [
      "14 Google reviews\n",
      "['Shop', 'No831665282', 'Rams', 'Enclave', 'Erragadda', 'Main', 'Road', 'Vikaspuri', 'Erragadda', 'Near', 'Metro', 'Pillar', 'A973', 'Hyderabad', 'Telangana', '500018']\n",
      "['A973', 'Hyderabad', 'Telangana']\n",
      "city:  A973 Hyderabad Telangana\n",
      "https://google.com/search?q=anitha+kotha+brain+and+spine+neuro+clinic+hyderabad\n"
     ]
    },
    {
     "name": "stderr",
     "output_type": "stream",
     "text": [
      "\r",
      " 19%|███████▋                                | 329/1715 [14:50<57:24,  2.48s/it]"
     ]
    },
    {
     "name": "stdout",
     "output_type": "stream",
     "text": [
      "35 Google reviews\n",
      "['110', 'Ist', 'Floor', 'Maheshwari', 'Chambers', 'adj', 'to', 'Somajiguda', 'Hyderabad', 'Telangana', '500082']\n",
      "['Somajiguda', 'Hyderabad', 'Telangana']\n",
      "city:  Somajiguda Hyderabad Telangana\n",
      "https://google.com/search?q=md+naseeruddin+mujahid+dr+naseer+ent+clinic++hyderabad\n"
     ]
    },
    {
     "name": "stderr",
     "output_type": "stream",
     "text": [
      "\r",
      " 19%|███████▋                                | 330/1715 [14:53<57:09,  2.48s/it]"
     ]
    },
    {
     "name": "stdout",
     "output_type": "stream",
     "text": [
      "https://google.com/search?q=kotamarthi+ravi+teja+sri+vishnu+clinc+visakhapatnam\n"
     ]
    },
    {
     "name": "stderr",
     "output_type": "stream",
     "text": [
      "\r",
      " 19%|███████▋                                | 331/1715 [14:55<55:26,  2.40s/it]"
     ]
    },
    {
     "name": "stdout",
     "output_type": "stream",
     "text": [
      "https://google.com/search?q=sandhya+gurubasappa+nanomedix+eye+&+diabetic+center+hyderabad\n"
     ]
    },
    {
     "name": "stderr",
     "output_type": "stream",
     "text": [
      "\r",
      " 19%|███████▋                                | 332/1715 [14:57<55:50,  2.42s/it]"
     ]
    },
    {
     "name": "stdout",
     "output_type": "stream",
     "text": [
      "https://google.com/search?q=siva+kumar+yanamadala+nanomedix+eye+and+diabetes+care+hyderabad\n"
     ]
    },
    {
     "name": "stderr",
     "output_type": "stream",
     "text": [
      "\r",
      " 19%|███████▊                                | 333/1715 [15:00<57:12,  2.48s/it]"
     ]
    },
    {
     "name": "stdout",
     "output_type": "stream",
     "text": [
      "20 Google reviews\n",
      "['New', 'Nagole', 'Main', 'Rd', 'SBI', 'Colony', 'Kothapet', 'Hyderabad', 'Telangana', '500035']\n",
      "['Kothapet', 'Hyderabad', 'Telangana']\n",
      "city:  Kothapet Hyderabad Telangana\n",
      "https://google.com/search?q=t+sateesh+kumar+satya+hasini+neuro+clinic+visakhapatnam\n"
     ]
    },
    {
     "name": "stderr",
     "output_type": "stream",
     "text": [
      "\r",
      " 19%|███████▍                              | 334/1715 [15:04<1:06:30,  2.89s/it]"
     ]
    },
    {
     "name": "stdout",
     "output_type": "stream",
     "text": [
      "1 Google review\n",
      "['DoNo', '557771', 'near', 'Sun', 'School', 'Old', 'Venkojipalem', 'H', 'B', 'Colony', 'Visakhapatnam', 'Andhra', 'Pradesh', '530022']\n",
      "['Visakhapatnam', 'Andhra', 'Pradesh']\n",
      "city:  Visakhapatnam Andhra Pradesh\n",
      "https://google.com/search?q=ajay+kumar+seva+skin+and+child+care+clinic+visakhapatnam\n"
     ]
    },
    {
     "name": "stderr",
     "output_type": "stream",
     "text": [
      "\r",
      " 20%|███████▍                              | 335/1715 [15:07<1:04:28,  2.80s/it]"
     ]
    },
    {
     "name": "stdout",
     "output_type": "stream",
     "text": [
      "24 Google reviews\n",
      "['18129CHAMBER', 'NOF', '561st', 'Floor', 'Krishna', 'Murthy', 'Chambers', 'Opp', 'KGH', 'OP', 'Gate', 'Visakhapatnam', 'Andhra', 'Pradesh', '530002']\n",
      "['Visakhapatnam', 'Andhra', 'Pradesh']\n",
      "city:  Visakhapatnam Andhra Pradesh\n",
      "https://google.com/search?q=butchi+raju+garuda+doctor's+enclave+visakhapatnam\n"
     ]
    },
    {
     "name": "stderr",
     "output_type": "stream",
     "text": [
      "\r",
      " 20%|███████▍                              | 336/1715 [15:09<1:02:27,  2.72s/it]"
     ]
    },
    {
     "name": "stdout",
     "output_type": "stream",
     "text": [
      "23 Google reviews\n",
      "['Doctors', 'Enclave', 'Krishna', 'Nagar', 'Near', 'Collectors', 'Office', 'Junction', 'Maharani', 'Peta', 'Visakhapatnam', 'Andhra', 'Pradesh', '530002']\n",
      "['Visakhapatnam', 'Andhra', 'Pradesh']\n",
      "city:  Visakhapatnam Andhra Pradesh\n",
      "https://google.com/search?q=sumanth+yadav+s+derma+glow+advanced+skin+hair+&+laser+clinic++hyderabad\n"
     ]
    },
    {
     "name": "stderr",
     "output_type": "stream",
     "text": [
      "\r",
      " 20%|███████▊                                | 337/1715 [15:11<56:25,  2.46s/it]"
     ]
    },
    {
     "name": "stdout",
     "output_type": "stream",
     "text": [
      "https://google.com/search?q=lakshmi+sameeri+swasthya+clinic+hyderabad\n"
     ]
    },
    {
     "name": "stderr",
     "output_type": "stream",
     "text": [
      "\r",
      " 20%|███████▉                                | 338/1715 [15:13<56:31,  2.46s/it]"
     ]
    },
    {
     "name": "stdout",
     "output_type": "stream",
     "text": [
      "https://google.com/search?q=ramesh+muthyapu+sai+sanjeevini+children's+clinic++hyderabad\n"
     ]
    },
    {
     "name": "stderr",
     "output_type": "stream",
     "text": [
      "\r",
      " 20%|███████▉                                | 339/1715 [15:16<54:24,  2.37s/it]"
     ]
    },
    {
     "name": "stdout",
     "output_type": "stream",
     "text": [
      "https://google.com/search?q=babu+mrm+dr+mrm+babu+heart+clinic+hyderabad\n"
     ]
    },
    {
     "name": "stderr",
     "output_type": "stream",
     "text": [
      "\r",
      " 20%|███████▉                                | 340/1715 [15:18<55:16,  2.41s/it]"
     ]
    },
    {
     "name": "stdout",
     "output_type": "stream",
     "text": [
      "1 Google review\n",
      "['HIG', '105', 'Phase', '5', 'KPHB', 'DMart', 'Lane', 'Opposite', 'to', 'Forum', 'Mall', 'Kukatpally', 'Hyderabad', 'Telangana', '500072']\n",
      "['Kukatpally', 'Hyderabad', 'Telangana']\n",
      "city:  Kukatpally Hyderabad Telangana\n",
      "https://google.com/search?q=ravinder+mehetrey++mehetrey+orthopedic+clinic+hyderabad\n"
     ]
    },
    {
     "name": "stderr",
     "output_type": "stream",
     "text": [
      "\r",
      " 20%|███████▌                              | 341/1715 [15:22<1:03:47,  2.79s/it]"
     ]
    },
    {
     "name": "stdout",
     "output_type": "stream",
     "text": [
      "120 Google reviews\n",
      "['Mysaiah', 'Complex', 'Bandlaguda', 'Rd', 'opp', 'CoOperative', 'Bank', 'Colony', 'beside', 'more', 'super', 'market', 'Hanuman', 'Nagar', 'Garden', 'II', 'Nagole', 'Hyderabad', 'Telangana', '500068']\n",
      "['Nagole', 'Hyderabad', 'Telangana']\n",
      "city:  Nagole Hyderabad Telangana\n",
      "https://google.com/search?q=nazia+siddiqua+skin&+hair+clinic+hyderabad\n"
     ]
    },
    {
     "name": "stderr",
     "output_type": "stream",
     "text": [
      "\r",
      " 20%|███████▉                                | 342/1715 [15:24<59:41,  2.61s/it]"
     ]
    },
    {
     "name": "stdout",
     "output_type": "stream",
     "text": [
      "https://google.com/search?q=y+rami+reddy+y+rami+reddy's+gastro+&+liver+center+hyderabad\n"
     ]
    },
    {
     "name": "stderr",
     "output_type": "stream",
     "text": [
      "\r",
      " 20%|████████                                | 343/1715 [15:26<58:43,  2.57s/it]"
     ]
    },
    {
     "name": "stdout",
     "output_type": "stream",
     "text": [
      "163 Google reviews\n",
      "['3', 'rd', 'floor', 'C', 'block', '8', '1305A42', 'Shaikpet', 'Rd', 'Aziz', 'Bagh', 'Colony', 'Toli', 'Chowki', 'Hyderabad', 'Telangana', '500008']\n",
      "['Chowki', 'Hyderabad', 'Telangana']\n",
      "city:  Chowki Hyderabad Telangana\n",
      "https://google.com/search?q=sudheer+d+akshara+poly+clinic+hyderabad\n"
     ]
    },
    {
     "name": "stderr",
     "output_type": "stream",
     "text": [
      "\r",
      " 20%|████████                                | 344/1715 [15:29<58:24,  2.56s/it]"
     ]
    },
    {
     "name": "stdout",
     "output_type": "stream",
     "text": [
      "https://google.com/search?q=himabindu++kona+pratima+hospital+hyderabad\n"
     ]
    },
    {
     "name": "stderr",
     "output_type": "stream",
     "text": [
      "\r",
      " 20%|███████▋                              | 345/1715 [15:32<1:00:09,  2.63s/it]"
     ]
    },
    {
     "name": "stdout",
     "output_type": "stream",
     "text": [
      "https://google.com/search?q=rakesh+jaiswal+dr+jaiswal's+pain+management+centre+hyderabad\n"
     ]
    },
    {
     "name": "stderr",
     "output_type": "stream",
     "text": [
      "\r",
      " 20%|████████                                | 346/1715 [15:34<59:28,  2.61s/it]"
     ]
    },
    {
     "name": "stdout",
     "output_type": "stream",
     "text": [
      "6 Google reviews\n",
      "['Flat', 'No', '401', 'Mahitha', 'Enclave', 'C61', 'Yousufguda', 'Main', 'Rd', 'Madhura', 'Nagar', 'Hyderabad', 'Telangana', '500038']\n",
      "['Nagar', 'Hyderabad', 'Telangana']\n",
      "city:  Nagar Hyderabad Telangana\n",
      "https://google.com/search?q=eluru+stephen+dr+stephens+clinic+cardio+diabetes+clinic+hyderabad\n"
     ]
    },
    {
     "name": "stderr",
     "output_type": "stream",
     "text": [
      "\r",
      " 20%|███████▋                              | 347/1715 [15:37<1:02:33,  2.74s/it]"
     ]
    },
    {
     "name": "stdout",
     "output_type": "stream",
     "text": [
      "1 Google review\n",
      "['Chandrapuri', 'Colony', 'Bahadurguda', 'Hyderabad', 'Telangana', '500074']\n",
      "['Bahadurguda', 'Hyderabad', 'Telangana']\n",
      "city:  Bahadurguda Hyderabad Telangana\n",
      "https://google.com/search?q=rajeshwari+v+sai+durga+clinic+hyderabad\n"
     ]
    },
    {
     "name": "stderr",
     "output_type": "stream",
     "text": [
      "\r",
      " 20%|███████▋                              | 348/1715 [15:41<1:06:25,  2.92s/it]"
     ]
    },
    {
     "name": "stdout",
     "output_type": "stream",
     "text": [
      "https://google.com/search?q=ushakiran+k+meghana+women+infertility+clinic+hyderabad\n"
     ]
    },
    {
     "name": "stderr",
     "output_type": "stream",
     "text": [
      "\r",
      " 20%|███████▋                              | 349/1715 [15:43<1:03:10,  2.78s/it]"
     ]
    },
    {
     "name": "stdout",
     "output_type": "stream",
     "text": [
      "16 Google reviews\n",
      "['FCM7V48', 'Ramalayam', 'Rd', 'Bjp', 'Office', 'Shanthi', 'Nagar', 'Kukatpally', 'Hyderabad', 'Telangana', '500072']\n",
      "['Kukatpally', 'Hyderabad', 'Telangana']\n",
      "city:  Kukatpally Hyderabad Telangana\n",
      "https://google.com/search?q=nuzhat++jahan+maxsuper+specialty+medical+center+hyderabad\n"
     ]
    },
    {
     "name": "stderr",
     "output_type": "stream",
     "text": [
      "\r",
      " 20%|███████▊                              | 350/1715 [15:45<1:00:03,  2.64s/it]"
     ]
    },
    {
     "name": "stdout",
     "output_type": "stream",
     "text": [
      "36 Google reviews\n",
      "['Apartments', '61626F1F2', 'Khairtabad', 'Market', 'Rd', 'opp', 'Super', 'Homes', 'Sunshine', 'Hyderabad', 'Telangana', '500004']\n",
      "['Sunshine', 'Hyderabad', 'Telangana']\n",
      "city:  Sunshine Hyderabad Telangana\n",
      "https://google.com/search?q=kashinatham+d+habsiguda+speciality+clinic++hyderabad\n"
     ]
    },
    {
     "name": "stderr",
     "output_type": "stream",
     "text": [
      "\r",
      " 20%|████████▏                               | 351/1715 [15:48<57:25,  2.53s/it]"
     ]
    },
    {
     "name": "stdout",
     "output_type": "stream",
     "text": [
      "1 Google review\n",
      "['Captain', 'Veera', 'Raja', 'Reddy', 'Marg', 'Brindavan', 'Colony', 'Habsiguda', 'Hyderabad', 'Telangana', '500007']\n",
      "['Habsiguda', 'Hyderabad', 'Telangana']\n",
      "city:  Habsiguda Hyderabad Telangana\n",
      "https://google.com/search?q=mallikarjuna+reddy+v+shree+krishna+clinic+for+women+and+children+hyderabad\n"
     ]
    },
    {
     "name": "stderr",
     "output_type": "stream",
     "text": [
      "\r",
      " 21%|████████▏                               | 352/1715 [15:50<57:30,  2.53s/it]"
     ]
    },
    {
     "name": "stdout",
     "output_type": "stream",
     "text": [
      "72 Google reviews\n",
      "['31611', 'Nizampet', 'Road', 'Venkatraya', 'Nagar', 'Nizampet', 'beside', 'Syndicate', 'Bank', 'near', 'BATA', 'showroom', 'Hyderabad', 'Telangana', '500090']\n",
      "['showroom', 'Hyderabad', 'Telangana']\n",
      "city:  showroom Hyderabad Telangana\n",
      "https://google.com/search?q=pavitra+reddy+v+shree+krishna+clinic+for+women+and+children+hyderabad\n"
     ]
    },
    {
     "name": "stderr",
     "output_type": "stream",
     "text": [
      "\r",
      " 21%|████████▏                               | 353/1715 [15:53<57:39,  2.54s/it]"
     ]
    },
    {
     "name": "stdout",
     "output_type": "stream",
     "text": [
      "72 Google reviews\n",
      "['31611', 'Nizampet', 'Road', 'Venkatraya', 'Nagar', 'Nizampet', 'beside', 'Syndicate', 'Bank', 'near', 'BATA', 'showroom', 'Hyderabad', 'Telangana', '500090']\n",
      "['showroom', 'Hyderabad', 'Telangana']\n",
      "city:  showroom Hyderabad Telangana\n",
      "https://google.com/search?q=lokesh+b+heallth+care+clinics+hyderabad\n"
     ]
    },
    {
     "name": "stderr",
     "output_type": "stream",
     "text": [
      "\r",
      " 21%|████████▎                               | 354/1715 [15:55<55:49,  2.46s/it]"
     ]
    },
    {
     "name": "stdout",
     "output_type": "stream",
     "text": [
      "https://google.com/search?q=manish++gour+++pranaam+hospital+hyderabad\n"
     ]
    },
    {
     "name": "stderr",
     "output_type": "stream",
     "text": [
      "\r",
      " 21%|████████▎                               | 355/1715 [15:57<54:29,  2.40s/it]"
     ]
    },
    {
     "name": "stdout",
     "output_type": "stream",
     "text": [
      "21 Google reviews\n",
      "['I', 'St', 'Floor', 'Prannam', 'Hospital', 'Megahill', 'Complex', 'Miyapur', 'Above', 'Andhra', 'Bank', 'Miyapur', 'Hyderabad', 'Telangana', '500050']\n",
      "['Miyapur', 'Hyderabad', 'Telangana']\n",
      "city:  Miyapur Hyderabad Telangana\n",
      "https://google.com/search?q=hari+babu+++++++++++++++++++++++++++++++k+anitha+nursing+home+hyderabad\n"
     ]
    },
    {
     "name": "stderr",
     "output_type": "stream",
     "text": [
      "\r",
      " 21%|████████▎                               | 356/1715 [16:00<53:37,  2.37s/it]"
     ]
    },
    {
     "name": "stdout",
     "output_type": "stream",
     "text": [
      "10 Google reviews\n",
      "['Chandan', 'Nagar', 'Opposite', 'Vijaya', 'Bank', 'Chandan', 'Nagar', 'Hyderabad', 'Telangana', '500050']\n",
      "['Nagar', 'Hyderabad', 'Telangana']\n",
      "city:  Nagar Hyderabad Telangana\n",
      "https://google.com/search?q=deepa+rani++++++++++++++++++++++++++++++bv+sai+deepa+hospital+hyderabad\n"
     ]
    },
    {
     "name": "stderr",
     "output_type": "stream",
     "text": [
      "\r",
      " 21%|███████▉                              | 357/1715 [16:03<1:00:34,  2.68s/it]"
     ]
    },
    {
     "name": "stdout",
     "output_type": "stream",
     "text": [
      "113 Google reviews\n",
      "['PLOT', 'NO387church', 'roadHUDA', 'Colony', 'chandanagar', 'Hyderabad', 'Telangana', '500050']\n",
      "['chandanagar', 'Hyderabad', 'Telangana']\n",
      "city:  chandanagar Hyderabad Telangana\n",
      "https://google.com/search?q=ganapathy+reddy++++++++++++++++++++++++++++b+sai+deepa+hospital+hyderabad\n"
     ]
    },
    {
     "name": "stderr",
     "output_type": "stream",
     "text": [
      "\r",
      " 21%|████████▎                               | 358/1715 [16:05<58:46,  2.60s/it]"
     ]
    },
    {
     "name": "stdout",
     "output_type": "stream",
     "text": [
      "113 Google reviews\n",
      "['PLOT', 'NO387church', 'roadHUDA', 'Colony', 'chandanagar', 'Hyderabad', 'Telangana', '500050']\n",
      "['chandanagar', 'Hyderabad', 'Telangana']\n",
      "city:  chandanagar Hyderabad Telangana\n",
      "https://google.com/search?q=kranthi+kumar+pasupulati+swecha+gastro+&+liver+care+clinic+hyderabad\n"
     ]
    },
    {
     "name": "stderr",
     "output_type": "stream",
     "text": [
      "\r",
      " 21%|████████▎                               | 359/1715 [16:07<54:24,  2.41s/it]"
     ]
    },
    {
     "name": "stdout",
     "output_type": "stream",
     "text": [
      "https://google.com/search?q=a+vidyullatha+vidyullatha+clinic+visakhapatnam\n"
     ]
    },
    {
     "name": "stderr",
     "output_type": "stream",
     "text": [
      "\r",
      " 21%|████████▍                               | 360/1715 [16:10<53:12,  2.36s/it]"
     ]
    },
    {
     "name": "stdout",
     "output_type": "stream",
     "text": [
      "https://google.com/search?q=deepthi+kondagari+endorheumacare++hyderabad\n"
     ]
    },
    {
     "name": "stderr",
     "output_type": "stream",
     "text": [
      "\r",
      " 21%|████████▍                               | 361/1715 [16:12<50:45,  2.25s/it]"
     ]
    },
    {
     "name": "stdout",
     "output_type": "stream",
     "text": [
      "https://google.com/search?q=nishant++sunkaraineni+nikhil+hospital+hyderabad\n"
     ]
    },
    {
     "name": "stderr",
     "output_type": "stream",
     "text": [
      "\r",
      " 21%|████████▍                               | 362/1715 [16:14<50:30,  2.24s/it]"
     ]
    },
    {
     "name": "stdout",
     "output_type": "stream",
     "text": [
      "https://google.com/search?q=venkateswara++rao++sujatha+eye+care+&+poly+care++hyderabad\n"
     ]
    },
    {
     "name": "stderr",
     "output_type": "stream",
     "text": [
      "\r",
      " 21%|████████▍                               | 363/1715 [16:16<52:00,  2.31s/it]"
     ]
    },
    {
     "name": "stdout",
     "output_type": "stream",
     "text": [
      "https://google.com/search?q=hanumantha++rao+t+rama+krishna+hospital+hyderabad\n"
     ]
    },
    {
     "name": "stderr",
     "output_type": "stream",
     "text": [
      "\r",
      " 21%|████████▍                               | 364/1715 [16:19<52:44,  2.34s/it]"
     ]
    },
    {
     "name": "stdout",
     "output_type": "stream",
     "text": [
      "29 Google reviews\n",
      "['32285', 'Kachiguda', 'Station', 'Rd', 'Chappal', 'Bazar', 'Kachiguda', 'Hyderabad', 'Telangana', '500027']\n",
      "['Kachiguda', 'Hyderabad', 'Telangana']\n",
      "city:  Kachiguda Hyderabad Telangana\n",
      "https://google.com/search?q=prashanth+kumar++roma+speciality+clinic+hyderabad\n"
     ]
    },
    {
     "name": "stderr",
     "output_type": "stream",
     "text": [
      "\r",
      " 21%|████████▌                               | 365/1715 [16:21<52:53,  2.35s/it]"
     ]
    },
    {
     "name": "stdout",
     "output_type": "stream",
     "text": [
      "26 Google reviews\n",
      "['Plot', 'No', '01', 'DVR', 'Grand', 'Opp', 'KVR', 'Convention', 'Cine', 'Planet', 'Road', 'Kompally', 'Medchal', 'District', 'Telangana', '500', '014', 'Kompally', 'Hyderabad', 'Telangana', '500014']\n",
      "['Kompally', 'Hyderabad', 'Telangana']\n",
      "city:  Kompally Hyderabad Telangana\n",
      "https://google.com/search?q=rama+krishna+t+dr.+t.+ramakrishna+orthopaedic+&+fracture+clinic+hyderabad\n"
     ]
    },
    {
     "name": "stderr",
     "output_type": "stream",
     "text": [
      "\r",
      " 21%|████████▌                               | 366/1715 [16:23<52:00,  2.31s/it]"
     ]
    },
    {
     "name": "stdout",
     "output_type": "stream",
     "text": [
      "40 Google reviews\n",
      "['Beside', 'Sudha', 'Hotel', 'Lane', 'adjacent', 'to', 'Chandana', 'Bros', 'Chikkadpally', 'Himayatnagar', 'Hyderabad', 'Telangana', '500020']\n",
      "['Himayatnagar', 'Hyderabad', 'Telangana']\n",
      "city:  Himayatnagar Hyderabad Telangana\n",
      "https://google.com/search?q=sruthi+m+sai+nursing+home++hyderabad\n"
     ]
    },
    {
     "name": "stderr",
     "output_type": "stream",
     "text": [
      "\r",
      " 21%|████████▌                               | 367/1715 [16:26<54:01,  2.40s/it]"
     ]
    },
    {
     "name": "stdout",
     "output_type": "stream",
     "text": [
      "105 Google reviews\n",
      "['Hanuman', 'Mandir', 'Beside', 'Saidabad', 'Bus', 'Stop', 'Main', 'Road', 'Luxury', 'Apartment', 'Saidabad', 'Main', 'Rd', 'Saidabad', 'Hyderabad', 'Telangana', '500059']\n",
      "['Saidabad', 'Hyderabad', 'Telangana']\n",
      "city:  Saidabad Hyderabad Telangana\n",
      "https://google.com/search?q=shankar++anand++sai+nursing+home++hyderabad\n"
     ]
    },
    {
     "name": "stderr",
     "output_type": "stream",
     "text": [
      "\r",
      " 21%|████████▌                               | 368/1715 [16:29<55:29,  2.47s/it]"
     ]
    },
    {
     "name": "stdout",
     "output_type": "stream",
     "text": [
      "105 Google reviews\n",
      "['Hanuman', 'Mandir', 'Beside', 'Saidabad', 'Bus', 'Stop', 'Main', 'Road', 'Luxury', 'Apartment', 'Saidabad', 'Main', 'Rd', 'Saidabad', 'Hyderabad', 'Telangana', '500059']\n",
      "['Saidabad', 'Hyderabad', 'Telangana']\n",
      "city:  Saidabad Hyderabad Telangana\n",
      "https://google.com/search?q=krishna+mohan+rao+a+avinash+orthopaedic+clinics+hyderabad\n"
     ]
    },
    {
     "name": "stderr",
     "output_type": "stream",
     "text": [
      "\r",
      " 22%|████████▌                               | 369/1715 [16:31<56:32,  2.52s/it]"
     ]
    },
    {
     "name": "stdout",
     "output_type": "stream",
     "text": [
      "12 Google reviews\n",
      "['9108', 'Besides', 'Sri', 'Laxmi', 'Medicals', '5', 'Street', 'Number', '3', 'Bapuji', 'Nagar', 'MBD', 'Complex', 'HMT', 'Nagar', 'Nacharam', 'Hyderabad', 'Telangana', '500076']\n",
      "['Nacharam', 'Hyderabad', 'Telangana']\n",
      "city:  Nacharam Hyderabad Telangana\n",
      "https://google.com/search?q=prem++sagar++padmavati+medical+center+hyderabad\n"
     ]
    },
    {
     "name": "stderr",
     "output_type": "stream",
     "text": [
      "\r",
      " 22%|████████▋                               | 370/1715 [16:34<57:03,  2.55s/it]"
     ]
    },
    {
     "name": "stdout",
     "output_type": "stream",
     "text": [
      "36 Google reviews\n",
      "['1213', '672', 'Street', 'Number', '5', 'Near', 'Sanman', 'Hotel', 'Sadashiva', 'Nagar', 'Tarnaka', 'Secunderabad', 'Telangana', '500017']\n",
      "['Tarnaka', 'Secunderabad', 'Telangana']\n",
      "city:  Tarnaka Secunderabad Telangana\n",
      "https://google.com/search?q=rakesh+adi+sandozi+health+-+the+gastro,+liver+&+pancreas+centre+hyderabad\n"
     ]
    },
    {
     "name": "stderr",
     "output_type": "stream",
     "text": [
      "\r",
      " 22%|████████▋                               | 371/1715 [16:36<55:10,  2.46s/it]"
     ]
    },
    {
     "name": "stdout",
     "output_type": "stream",
     "text": [
      "8 Google reviews\n",
      "['Vijaya', 'diagnostics', 'Himayat', 'Nagar', 'near', 'TDP', 'kalyanamandapam', 'Hyderabad', 'Telangana', '500029']\n",
      "['kalyanamandapam', 'Hyderabad', 'Telangana']\n",
      "city:  kalyanamandapam Hyderabad Telangana\n",
      "https://google.com/search?q=kapardhi+p+l+n+dr.jp+kotlas+medical+centre.diabetes+thyroid+obesity+infertility+hyderabad\n"
     ]
    },
    {
     "name": "stderr",
     "output_type": "stream",
     "text": [
      "\r",
      " 22%|████████▋                               | 372/1715 [16:39<55:03,  2.46s/it]"
     ]
    },
    {
     "name": "stdout",
     "output_type": "stream",
     "text": [
      "110 Google reviews\n",
      "['3678412', '13', '405405A', 'Legend', 'venkatesha', 'complex', 'beside', 'Narayanguda', 'Flyover', 'next', 'to', 'Taj', 'Mahal', 'Hotel', 'Narayanguda', 'Hyderabad', 'Telangana', '500029']\n",
      "['Narayanguda', 'Hyderabad', 'Telangana']\n",
      "city:  Narayanguda Hyderabad Telangana\n",
      "https://google.com/search?q=akbar++hussain+mohammedi+memorial+hospital+hyderabad\n"
     ]
    },
    {
     "name": "stderr",
     "output_type": "stream",
     "text": [
      "\r",
      " 22%|████████▋                               | 373/1715 [16:41<55:41,  2.49s/it]"
     ]
    },
    {
     "name": "stdout",
     "output_type": "stream",
     "text": [
      "142 Google reviews\n",
      "['Aspire', 'Mall', 'Kishan', 'Bagh', 'Rd', 'beside', 'Bahadurpura', 'Bahadurpura', 'West', 'Hyderabad', 'Telangana', '500064']\n",
      "['West', 'Hyderabad', 'Telangana']\n",
      "city:  West Hyderabad Telangana\n",
      "https://google.com/search?q=vijaya+iyer++sri+balaji+nursing+home+hyderabad\n"
     ]
    },
    {
     "name": "stderr",
     "output_type": "stream",
     "text": [
      "\r",
      " 22%|████████▋                               | 374/1715 [16:44<56:04,  2.51s/it]"
     ]
    },
    {
     "name": "stdout",
     "output_type": "stream",
     "text": [
      "21 Google reviews\n",
      "['3341', 'Vijay', 'Puri', 'Colony', 'Uppal', 'Main', 'Road', 'Uppal', 'Main', 'Road', 'Hyderabad', 'Telangana', '500039']\n",
      "['Road', 'Hyderabad', 'Telangana']\n",
      "city:  Road Hyderabad Telangana\n",
      "https://google.com/search?q=vasanth+periketi+kamala+kidney+centre+hyderabad\n"
     ]
    },
    {
     "name": "stderr",
     "output_type": "stream",
     "text": [
      "\r",
      " 22%|████████▋                               | 375/1715 [16:46<55:42,  2.49s/it]"
     ]
    },
    {
     "name": "stdout",
     "output_type": "stream",
     "text": [
      "11 Google reviews\n",
      "['8412', 'Padma', 'Nagar', 'Colony', 'Champapet', 'Telangana', '500079']\n",
      "['Colony', 'Champapet', 'Telangana']\n",
      "city:  Colony Champapet Telangana\n",
      "https://google.com/search?q=vamshidhar++reddy+v+sandozi+health+-+the+gastro,+liver+&+pancreas+centre+hyderabad\n"
     ]
    },
    {
     "name": "stderr",
     "output_type": "stream",
     "text": [
      "\r",
      " 22%|████████▊                               | 376/1715 [16:48<54:17,  2.43s/it]"
     ]
    },
    {
     "name": "stdout",
     "output_type": "stream",
     "text": [
      "1 Google review\n",
      "['CFRWWQC', 'Alexander', 'Rd', 'Kummari', 'Guda', 'Shivaji', 'Nagar', 'Secunderabad', 'Telangana', '500003']\n",
      "['Nagar', 'Secunderabad', 'Telangana']\n",
      "city:  Nagar Secunderabad Telangana\n",
      "https://google.com/search?q=harish+rachuri+avigna+childern's+clinic+hyderabad\n"
     ]
    },
    {
     "name": "stderr",
     "output_type": "stream",
     "text": [
      "\r",
      " 22%|████████▊                               | 377/1715 [16:51<54:50,  2.46s/it]"
     ]
    },
    {
     "name": "stdout",
     "output_type": "stream",
     "text": [
      "142 Google reviews\n",
      "['Ragala', 'Enclave', 'Sri', 'Ram', 'Hills', 'Colony', 'Mansoorabad', 'Telangana', '500070']\n",
      "['Colony', 'Mansoorabad', 'Telangana']\n",
      "city:  Colony Mansoorabad Telangana\n",
      "https://google.com/search?q=pranathi+b+bsr+ent+&+eye+hospital+hyderabad\n"
     ]
    },
    {
     "name": "stderr",
     "output_type": "stream",
     "text": [
      "\r",
      " 22%|████████▊                               | 378/1715 [16:54<56:08,  2.52s/it]"
     ]
    },
    {
     "name": "stdout",
     "output_type": "stream",
     "text": [
      "87 Google reviews\n",
      "['Karan', 'Centre', '111', 'SD', 'Road', 'Secunderabad', 'Telangana', '500003']\n",
      "['Road', 'Secunderabad', 'Telangana']\n",
      "city:  Road Secunderabad Telangana\n",
      "https://google.com/search?q=sungunakar+reddy+b+sunita+childern's+hospital+hyderabad\n"
     ]
    },
    {
     "name": "stderr",
     "output_type": "stream",
     "text": [
      "\r",
      " 22%|████████▊                               | 379/1715 [16:56<55:35,  2.50s/it]"
     ]
    },
    {
     "name": "stdout",
     "output_type": "stream",
     "text": [
      "113 Google reviews\n",
      "['Shop', 'No', '82', 'Opposite', 'Rose', 'Gardens', 'Sagar', 'Road', 'Santosh', 'Nagar', 'Champapet', 'Rd', 'Saidabad', 'Hyderabad', 'Telangana', '500059']\n",
      "['Saidabad', 'Hyderabad', 'Telangana']\n",
      "city:  Saidabad Hyderabad Telangana\n",
      "https://google.com/search?q=kiran+kumar+mukku++universal+clinics+hyderabad\n"
     ]
    },
    {
     "name": "stderr",
     "output_type": "stream",
     "text": [
      "\r",
      " 22%|████████▊                               | 380/1715 [16:58<54:32,  2.45s/it]"
     ]
    },
    {
     "name": "stdout",
     "output_type": "stream",
     "text": [
      "52 Google reviews\n",
      "['Universal', 'Clinics', '1524164', 'Road', '1', 'Kukatpally', 'Housing', 'Board', 'Colony', 'Kukatpally', 'Hyderabad', 'Telangana', '500072']\n",
      "['Kukatpally', 'Hyderabad', 'Telangana']\n",
      "city:  Kukatpally Hyderabad Telangana\n",
      "https://google.com/search?q=vanaja+reddy+l+sree+teja+clinic+hyderabad\n"
     ]
    },
    {
     "name": "stderr",
     "output_type": "stream",
     "text": [
      "\r",
      " 22%|████████▉                               | 381/1715 [17:01<54:12,  2.44s/it]"
     ]
    },
    {
     "name": "stdout",
     "output_type": "stream",
     "text": [
      "https://google.com/search?q=svp+reddy+cugnus+institute+of+gastroentrology+hyderabad\n"
     ]
    },
    {
     "name": "stderr",
     "output_type": "stream",
     "text": [
      "\r",
      " 22%|████████▉                               | 382/1715 [17:04<57:02,  2.57s/it]"
     ]
    },
    {
     "name": "stdout",
     "output_type": "stream",
     "text": [
      "1,563 Google reviews\n",
      "['Plot', 'No', '34', '35', 'Nizampet', 'X', 'Road', 'opp', 'More', 'Supermarket', 'Sardar', 'Patel', 'Nagar', 'Hyderabad', 'Telangana', '500072']\n",
      "['Nagar', 'Hyderabad', 'Telangana']\n",
      "city:  Nagar Hyderabad Telangana\n",
      "https://google.com/search?q=niranjan+nomula+++kadimi+nursing+home+hyderabad\n"
     ]
    },
    {
     "name": "stderr",
     "output_type": "stream",
     "text": [
      "\r",
      " 22%|████████▉                               | 383/1715 [17:06<54:51,  2.47s/it]"
     ]
    },
    {
     "name": "stdout",
     "output_type": "stream",
     "text": [
      "23 Google reviews\n",
      "['4895', 'Manjeera', 'Rd', 'Santhi', 'Nagar', 'Chanda', 'Nagar', 'Hyderabad', 'Telangana', '500050']\n",
      "['Nagar', 'Hyderabad', 'Telangana']\n",
      "city:  Nagar Hyderabad Telangana\n",
      "https://google.com/search?q=srikar+krishna+++++++++++++++++++++++++++++pullela++apollo+clinic+and+sugar+center+hyderabad\n"
     ]
    },
    {
     "name": "stderr",
     "output_type": "stream",
     "text": [
      "\r",
      " 22%|████████▉                               | 384/1715 [17:08<53:43,  2.42s/it]"
     ]
    },
    {
     "name": "stdout",
     "output_type": "stream",
     "text": [
      "10 Google reviews\n",
      "['Plot', 'No34', 'Survey', 'No239', 'Quthbullapur', 'Mandal', 'Apollo', 'Clinic', 'Nizampet', 'Hyderabad', 'Telangana', '500090']\n",
      "['Nizampet', 'Hyderabad', 'Telangana']\n",
      "city:  Nizampet Hyderabad Telangana\n",
      "https://google.com/search?q=johnaiah++watts+trichos+hair+transplant+institute+hyderabad\n"
     ]
    },
    {
     "name": "stderr",
     "output_type": "stream",
     "text": [
      "\r",
      " 22%|████████▉                               | 385/1715 [17:11<55:03,  2.48s/it]"
     ]
    },
    {
     "name": "stdout",
     "output_type": "stream",
     "text": [
      "237 Google reviews\n",
      "['HNO', '18HIG18', '3rd', 'Floor', 'Above', 'Aishwarya', 'fertility', 'Rd', 'Number', '1', 'beside', 'Sri', 'Sri', 'holistic', 'Hospital', 'Kukatpally', 'Housing', 'Board', 'Colony', 'Kukatpally', 'Hyderabad', 'Telangana', '500072']\n",
      "['Kukatpally', 'Hyderabad', 'Telangana']\n",
      "city:  Kukatpally Hyderabad Telangana\n",
      "https://google.com/search?q=lily+rodrigues++surakshaka+hospital+hyderabad\n"
     ]
    },
    {
     "name": "stderr",
     "output_type": "stream",
     "text": [
      "\r",
      " 23%|█████████                               | 386/1715 [17:13<54:26,  2.46s/it]"
     ]
    },
    {
     "name": "stdout",
     "output_type": "stream",
     "text": [
      "43 Google reviews\n",
      "['MIG', '218', 'KPHB', 'Main', 'Road', 'Kukatpally', 'Hyderabad', 'Telangana', '500072']\n",
      "['Kukatpally', 'Hyderabad', 'Telangana']\n",
      "city:  Kukatpally Hyderabad Telangana\n",
      "https://google.com/search?q=prathyusha++thanuku+dr.+prathyusha's+skin+and+hair+clinic+hyderabad\n"
     ]
    },
    {
     "name": "stderr",
     "output_type": "stream",
     "text": [
      "\r",
      " 23%|█████████                               | 387/1715 [17:16<55:16,  2.50s/it]"
     ]
    },
    {
     "name": "stdout",
     "output_type": "stream",
     "text": [
      "112 Google reviews\n",
      "['6', 'Janakapuri', 'Hyderabad', 'Asbestos', 'Staff', 'Colony', 'Karkhana', 'Secunderabad', 'Telangana', '500009']\n",
      "['Karkhana', 'Secunderabad', 'Telangana']\n",
      "city:  Karkhana Secunderabad Telangana\n",
      "https://google.com/search?q=venkata+sudheer+muraharishetti++suraksha+children+clinic+hyderabad\n"
     ]
    },
    {
     "name": "stderr",
     "output_type": "stream",
     "text": [
      "\r",
      " 23%|█████████                               | 388/1715 [17:18<55:34,  2.51s/it]"
     ]
    },
    {
     "name": "stdout",
     "output_type": "stream",
     "text": [
      "https://google.com/search?q=ch+vijay+vijay+sai+neuro+care+visakhapatnam\n"
     ]
    },
    {
     "name": "stderr",
     "output_type": "stream",
     "text": [
      "\r",
      " 23%|█████████                               | 389/1715 [17:21<54:54,  2.48s/it]"
     ]
    },
    {
     "name": "stdout",
     "output_type": "stream",
     "text": [
      "12 Google reviews\n",
      "['391485', 'GROUND', 'FLOOR', 'beside', 'ICICI', 'BANK', 'Muralinagar', 'Visakhapatnam', 'Andhra', 'Pradesh', '530007']\n",
      "['Visakhapatnam', 'Andhra', 'Pradesh']\n",
      "city:  Visakhapatnam Andhra Pradesh\n",
      "https://google.com/search?q=janaki+shirisha+m+suraksha+children+clinic+hyderabad\n"
     ]
    },
    {
     "name": "stderr",
     "output_type": "stream",
     "text": [
      "\r",
      " 23%|█████████                               | 390/1715 [17:23<55:27,  2.51s/it]"
     ]
    },
    {
     "name": "stdout",
     "output_type": "stream",
     "text": [
      "113 Google reviews\n",
      "['Shop', 'No', '20', 'RBR', 'Complex', 'Block', '3', 'beside', 'More', 'Super', 'market', 'Miyapur', 'Telangana', '500049']\n",
      "['market', 'Miyapur', 'Telangana']\n",
      "city:  market Miyapur Telangana\n",
      "https://google.com/search?q=sudhakar++g+srinivasa+clinic+hyderabad\n"
     ]
    },
    {
     "name": "stderr",
     "output_type": "stream",
     "text": [
      "\r",
      " 23%|█████████                               | 391/1715 [17:26<53:43,  2.43s/it]"
     ]
    },
    {
     "name": "stdout",
     "output_type": "stream",
     "text": [
      "1 Google review\n",
      "['161029', 'Nalgonda', 'X', 'Roads', 'Near', 'New', 'Market', 'Metro', 'station', 'Yashoda', 'Hospitals', 'Malakpet', 'Hyderabad', 'Telangana', '500036']\n",
      "['Malakpet', 'Hyderabad', 'Telangana']\n",
      "city:  Malakpet Hyderabad Telangana\n",
      "https://google.com/search?q=venkata+madhavi+ravinuthala+suraksha+children+clinic+hyderabad\n"
     ]
    },
    {
     "name": "stderr",
     "output_type": "stream",
     "text": [
      "\r",
      " 23%|█████████▏                              | 392/1715 [17:27<49:33,  2.25s/it]"
     ]
    },
    {
     "name": "stdout",
     "output_type": "stream",
     "text": [
      "https://google.com/search?q=archana+b+srinivasa+clinic+hyderabad\n"
     ]
    },
    {
     "name": "stderr",
     "output_type": "stream",
     "text": [
      "\r",
      " 23%|█████████▏                              | 393/1715 [17:30<54:50,  2.49s/it]"
     ]
    },
    {
     "name": "stdout",
     "output_type": "stream",
     "text": [
      "4 Google reviews\n",
      "['10192343A', 'Janaki', 'Enclave', 'Near', 'Meeseva', 'AmprocolonyKarmanghat', 'beside', 'Kothakapu', 'Yadava', 'Reddy', 'Gardens', 'Hyderabad', 'Telangana', '500035']\n",
      "['Gardens', 'Hyderabad', 'Telangana']\n",
      "city:  Gardens Hyderabad Telangana\n",
      "https://google.com/search?q=thrivikram+chander+care+plus+poly+clinic+and+diagnostics++hyderabad\n"
     ]
    },
    {
     "name": "stderr",
     "output_type": "stream",
     "text": [
      "\r",
      " 23%|█████████▏                              | 394/1715 [17:33<54:18,  2.47s/it]"
     ]
    },
    {
     "name": "stdout",
     "output_type": "stream",
     "text": [
      "224 Google reviews\n",
      "['Care', 'Plus', 'Polyclinic', 'and', 'Diagnostics', 'DrTHRIVIKRAM', '110', '9820', 'Mayur', 'Marg', 'Begumpet', 'Hyderabad', 'Telangana', '500016']\n",
      "['Begumpet', 'Hyderabad', 'Telangana']\n",
      "city:  Begumpet Hyderabad Telangana\n",
      "https://google.com/search?q=vamshidhar++reddy+t+pioneer+gastro+&+liver+clinic+hyderabad\n"
     ]
    },
    {
     "name": "stderr",
     "output_type": "stream",
     "text": [
      "\r",
      " 23%|█████████▏                              | 395/1715 [17:35<54:36,  2.48s/it]"
     ]
    },
    {
     "name": "stdout",
     "output_type": "stream",
     "text": [
      "94 Google reviews\n",
      "['Pioneer', 'Hospital', 'Nagarjuna', 'Sagar', 'Rd', 'Laxmi', 'Narashima', 'Puram', 'Colony', 'Hastinapuram', 'Hyderabad', 'Telangana', '500070']\n",
      "['Hastinapuram', 'Hyderabad', 'Telangana']\n",
      "city:  Hastinapuram Hyderabad Telangana\n",
      "https://google.com/search?q=sreekanth++burri+sreekanth's+kidney+centre+hyderabad\n"
     ]
    },
    {
     "name": "stderr",
     "output_type": "stream",
     "text": [
      "\r",
      " 23%|█████████▏                              | 396/1715 [17:38<53:45,  2.45s/it]"
     ]
    },
    {
     "name": "stdout",
     "output_type": "stream",
     "text": [
      "9 Google reviews\n",
      "['61608', 'MIG', 'SBI', 'Rd', 'near', 'Ganesh', 'temple', 'Phase', 'II', 'Vanasthalipuram', 'Telangana', '500070']\n",
      "['II', 'Vanasthalipuram', 'Telangana']\n",
      "city:  II Vanasthalipuram Telangana\n",
      "https://google.com/search?q=prashanthi+s+alekhya+ent+care+hyderabad\n"
     ]
    },
    {
     "name": "stderr",
     "output_type": "stream",
     "text": [
      "\r",
      " 23%|█████████▎                              | 397/1715 [17:40<54:41,  2.49s/it]"
     ]
    },
    {
     "name": "stdout",
     "output_type": "stream",
     "text": [
      "105 Google reviews\n",
      "['Ground', 'Floor', 'OppAroma', 'Bakery', 'GK', 'Prashanthi', 'Nilayam', 'G', 'K', 'Colony', 'Saptagiri', 'Colony', 'Neredmet', 'Secunderabad', 'Telangana', '500056']\n",
      "['Neredmet', 'Secunderabad', 'Telangana']\n",
      "city:  Neredmet Secunderabad Telangana\n",
      "https://google.com/search?q=vikrant+vijay+sanjeevani+orthopedic+and+paediatric+centre+hyderabad\n"
     ]
    },
    {
     "name": "stderr",
     "output_type": "stream",
     "text": [
      "\r",
      " 23%|█████████▎                              | 398/1715 [17:43<54:03,  2.46s/it]"
     ]
    },
    {
     "name": "stdout",
     "output_type": "stream",
     "text": [
      "72 Google reviews\n",
      "['119721A', 'THYAGRAYA', 'NAGAR', 'AYODHYA', 'NAGAR', 'ROAD', 'Kapra', 'Saket', 'Rd', 'behind', 'ANUTEX', 'Lakshmipuram', 'Colony', 'Thyagaraya', 'Nagar', 'Rukminipuri', 'Colony', 'A', 'S', 'Rao', 'Nagar', 'Secunderabad', 'Telangana', '500062']\n",
      "['Nagar', 'Secunderabad', 'Telangana']\n",
      "city:  Nagar Secunderabad Telangana\n",
      "https://google.com/search?q=pratima+s+amrutha+diabetic+centre+hyderabad\n"
     ]
    },
    {
     "name": "stderr",
     "output_type": "stream",
     "text": [
      "\r",
      " 23%|█████████▎                              | 399/1715 [17:45<52:30,  2.39s/it]"
     ]
    },
    {
     "name": "stdout",
     "output_type": "stream",
     "text": [
      "12 Google reviews\n",
      "['Amruta', 'Hills', 'Punjagutta', 'Officers', 'Colony', 'Punjagutta', 'Hyderabad', 'Telangana', '500084']\n",
      "['Punjagutta', 'Hyderabad', 'Telangana']\n",
      "city:  Punjagutta Hyderabad Telangana\n",
      "https://google.com/search?q=ashok+rao+t+pavithra+nursing+home+hyderabad\n"
     ]
    },
    {
     "name": "stderr",
     "output_type": "stream",
     "text": [
      "\r",
      " 23%|█████████▎                              | 400/1715 [17:48<57:54,  2.64s/it]"
     ]
    },
    {
     "name": "stdout",
     "output_type": "stream",
     "text": [
      "3 Google reviews\n",
      "['8', '3228396', 'Rahmat', 'Nagar', 'Yousufguda', 'Hyderabad', 'Telangana', '500045']\n",
      "['Yousufguda', 'Hyderabad', 'Telangana']\n",
      "city:  Yousufguda Hyderabad Telangana\n",
      "https://google.com/search?q=anand++paritosh+ica+clinic+hyderabad\n"
     ]
    }
   ],
   "source": [
    "final_df = extractReviews(df_not_missing)"
   ]
  },
  {
   "cell_type": "code",
   "execution_count": null,
   "id": "4e71e82a",
   "metadata": {},
   "outputs": [],
   "source": [
    "pd.DataFrame(final_df).to_csv(\"output_v3_ch.csv\", index=False)"
   ]
  },
  {
   "cell_type": "code",
   "execution_count": null,
   "id": "4220a0a9",
   "metadata": {},
   "outputs": [],
   "source": [
    "df_final = pd.DataFrame(final_df)"
   ]
  },
  {
   "cell_type": "code",
   "execution_count": 46,
   "id": "b5147083",
   "metadata": {},
   "outputs": [
    {
     "data": {
      "text/html": [
       "<div>\n",
       "<style scoped>\n",
       "    .dataframe tbody tr th:only-of-type {\n",
       "        vertical-align: middle;\n",
       "    }\n",
       "\n",
       "    .dataframe tbody tr th {\n",
       "        vertical-align: top;\n",
       "    }\n",
       "\n",
       "    .dataframe thead th {\n",
       "        text-align: right;\n",
       "    }\n",
       "</style>\n",
       "<table border=\"1\" class=\"dataframe\">\n",
       "  <thead>\n",
       "    <tr style=\"text-align: right;\">\n",
       "      <th></th>\n",
       "      <th>firstName</th>\n",
       "      <th>lastName</th>\n",
       "      <th>clinicName</th>\n",
       "      <th>baseCity</th>\n",
       "      <th>GoogleNRs</th>\n",
       "      <th>extractedCity</th>\n",
       "      <th>matched</th>\n",
       "      <th>rating</th>\n",
       "    </tr>\n",
       "  </thead>\n",
       "  <tbody>\n",
       "    <tr>\n",
       "      <th>0</th>\n",
       "      <td>Ranjan</td>\n",
       "      <td>Dey</td>\n",
       "      <td>Ranjan skin clinics</td>\n",
       "      <td>Hyderabad</td>\n",
       "      <td>176.0</td>\n",
       "      <td>Aligarh Uttar Pradesh</td>\n",
       "      <td>False</td>\n",
       "      <td>3.9</td>\n",
       "    </tr>\n",
       "    <tr>\n",
       "      <th>1</th>\n",
       "      <td>Soumya</td>\n",
       "      <td>Sarkar</td>\n",
       "      <td>Soumya Multi speciality clinic</td>\n",
       "      <td>Hyderabad</td>\n",
       "      <td>195.0</td>\n",
       "      <td>Karkhana Secunderabad Telangana</td>\n",
       "      <td>False</td>\n",
       "      <td>3.9</td>\n",
       "    </tr>\n",
       "    <tr>\n",
       "      <th>2</th>\n",
       "      <td>Rishanku</td>\n",
       "      <td>Goyal</td>\n",
       "      <td>RKG Eye Center</td>\n",
       "      <td>Hyderabad</td>\n",
       "      <td>175.0</td>\n",
       "      <td>New Delhi Delhi</td>\n",
       "      <td>False</td>\n",
       "      <td>4.2</td>\n",
       "    </tr>\n",
       "    <tr>\n",
       "      <th>3</th>\n",
       "      <td>Ranjan</td>\n",
       "      <td>Dey</td>\n",
       "      <td>Ranjan skin clinics</td>\n",
       "      <td>Hyderabad</td>\n",
       "      <td>176.0</td>\n",
       "      <td>Aligarh Uttar Pradesh</td>\n",
       "      <td>False</td>\n",
       "      <td>3.9</td>\n",
       "    </tr>\n",
       "    <tr>\n",
       "      <th>4</th>\n",
       "      <td>Soumya</td>\n",
       "      <td>Sarkar</td>\n",
       "      <td>Soumya Multi speciality clinic</td>\n",
       "      <td>Hyderabad</td>\n",
       "      <td>195.0</td>\n",
       "      <td>Karkhana Secunderabad Telangana</td>\n",
       "      <td>False</td>\n",
       "      <td>3.9</td>\n",
       "    </tr>\n",
       "  </tbody>\n",
       "</table>\n",
       "</div>"
      ],
      "text/plain": [
       "  firstName lastName                      clinicName   baseCity  GoogleNRs  \\\n",
       "0    Ranjan      Dey             Ranjan skin clinics  Hyderabad      176.0   \n",
       "1    Soumya   Sarkar  Soumya Multi speciality clinic  Hyderabad      195.0   \n",
       "2  Rishanku    Goyal                  RKG Eye Center  Hyderabad      175.0   \n",
       "3    Ranjan      Dey             Ranjan skin clinics  Hyderabad      176.0   \n",
       "4    Soumya   Sarkar  Soumya Multi speciality clinic  Hyderabad      195.0   \n",
       "\n",
       "                     extractedCity  matched rating  \n",
       "0            Aligarh Uttar Pradesh    False    3.9  \n",
       "1  Karkhana Secunderabad Telangana    False    3.9  \n",
       "2                  New Delhi Delhi    False    4.2  \n",
       "3            Aligarh Uttar Pradesh    False    3.9  \n",
       "4  Karkhana Secunderabad Telangana    False    3.9  "
      ]
     },
     "execution_count": 46,
     "metadata": {},
     "output_type": "execute_result"
    }
   ],
   "source": [
    "df_final"
   ]
  },
  {
   "cell_type": "code",
   "execution_count": null,
   "id": "6c27c5fe",
   "metadata": {},
   "outputs": [],
   "source": [
    "df.columns"
   ]
  },
  {
   "cell_type": "code",
   "execution_count": null,
   "id": "c18f7498",
   "metadata": {},
   "outputs": [],
   "source": [
    "pd.merge(df, df_final, how='outer').to_csv(\"full_output_30_aug_2022.csv\", index=False)"
   ]
  },
  {
   "cell_type": "code",
   "execution_count": 28,
   "id": "0f593e5f",
   "metadata": {},
   "outputs": [
    {
     "data": {
      "text/html": [
       "<div>\n",
       "<style scoped>\n",
       "    .dataframe tbody tr th:only-of-type {\n",
       "        vertical-align: middle;\n",
       "    }\n",
       "\n",
       "    .dataframe tbody tr th {\n",
       "        vertical-align: top;\n",
       "    }\n",
       "\n",
       "    .dataframe thead th {\n",
       "        text-align: right;\n",
       "    }\n",
       "</style>\n",
       "<table border=\"1\" class=\"dataframe\">\n",
       "  <thead>\n",
       "    <tr style=\"text-align: right;\">\n",
       "      <th></th>\n",
       "      <th>firstName</th>\n",
       "      <th>lastName</th>\n",
       "      <th>name</th>\n",
       "      <th>baseCity</th>\n",
       "      <th>clinicName</th>\n",
       "      <th>GoogleNRs</th>\n",
       "      <th>rating</th>\n",
       "    </tr>\n",
       "  </thead>\n",
       "  <tbody>\n",
       "    <tr>\n",
       "      <th>0</th>\n",
       "      <td>NaN</td>\n",
       "      <td>NaN</td>\n",
       "      <td>NaN</td>\n",
       "      <td>NaN</td>\n",
       "      <td>NaN</td>\n",
       "      <td>NaN</td>\n",
       "      <td>NaN</td>\n",
       "    </tr>\n",
       "    <tr>\n",
       "      <th>1</th>\n",
       "      <td>NaN</td>\n",
       "      <td>NaN</td>\n",
       "      <td>NaN</td>\n",
       "      <td>NaN</td>\n",
       "      <td>NaN</td>\n",
       "      <td>NaN</td>\n",
       "      <td>NaN</td>\n",
       "    </tr>\n",
       "    <tr>\n",
       "      <th>2</th>\n",
       "      <td>NaN</td>\n",
       "      <td>NaN</td>\n",
       "      <td>NaN</td>\n",
       "      <td>NaN</td>\n",
       "      <td>NaN</td>\n",
       "      <td>NaN</td>\n",
       "      <td>NaN</td>\n",
       "    </tr>\n",
       "    <tr>\n",
       "      <th>3</th>\n",
       "      <td>NaN</td>\n",
       "      <td>NaN</td>\n",
       "      <td>NaN</td>\n",
       "      <td>NaN</td>\n",
       "      <td>NaN</td>\n",
       "      <td>NaN</td>\n",
       "      <td>NaN</td>\n",
       "    </tr>\n",
       "    <tr>\n",
       "      <th>4</th>\n",
       "      <td>NaN</td>\n",
       "      <td>NaN</td>\n",
       "      <td>NaN</td>\n",
       "      <td>NaN</td>\n",
       "      <td>NaN</td>\n",
       "      <td>NaN</td>\n",
       "      <td>NaN</td>\n",
       "    </tr>\n",
       "    <tr>\n",
       "      <th>...</th>\n",
       "      <td>...</td>\n",
       "      <td>...</td>\n",
       "      <td>...</td>\n",
       "      <td>...</td>\n",
       "      <td>...</td>\n",
       "      <td>...</td>\n",
       "      <td>...</td>\n",
       "    </tr>\n",
       "    <tr>\n",
       "      <th>1747</th>\n",
       "      <td>Kushang</td>\n",
       "      <td>Mod</td>\n",
       "      <td>Shivam Children Hospital And Neonatal Care Centre</td>\n",
       "      <td>Ahmedabad</td>\n",
       "      <td>Shivam Children Hospital And Neonatal Care Centre</td>\n",
       "      <td>18.0</td>\n",
       "      <td>2.9</td>\n",
       "    </tr>\n",
       "    <tr>\n",
       "      <th>1748</th>\n",
       "      <td>Dhaval</td>\n",
       "      <td>Akhani</td>\n",
       "      <td>Childhood Hospital</td>\n",
       "      <td>Ahmedabad</td>\n",
       "      <td>Childhood Hospital</td>\n",
       "      <td>436.0</td>\n",
       "      <td>4.9</td>\n",
       "    </tr>\n",
       "    <tr>\n",
       "      <th>1749</th>\n",
       "      <td>Keval Patel</td>\n",
       "      <td>Patel</td>\n",
       "      <td>Jk Dental Hospital Orthodontic &amp; Implant Center</td>\n",
       "      <td>Ahmedabad</td>\n",
       "      <td>Jk Dental Hospital Orthodontic &amp; Implant Center</td>\n",
       "      <td>12.0</td>\n",
       "      <td>5.0</td>\n",
       "    </tr>\n",
       "    <tr>\n",
       "      <th>1750</th>\n",
       "      <td>Jinal Patel</td>\n",
       "      <td>Patel</td>\n",
       "      <td>Jk Dental Hospital Orthodontic &amp; Implant Center</td>\n",
       "      <td>Ahmedabad</td>\n",
       "      <td>Jk Dental Hospital Orthodontic &amp; Implant Center</td>\n",
       "      <td>3.0</td>\n",
       "      <td>4.0</td>\n",
       "    </tr>\n",
       "    <tr>\n",
       "      <th>1751</th>\n",
       "      <td>Lavanya</td>\n",
       "      <td>Yasam</td>\n",
       "      <td>Sai Clinic</td>\n",
       "      <td>Hyderabad</td>\n",
       "      <td>Sai Clinic</td>\n",
       "      <td>4.0</td>\n",
       "      <td>4.3</td>\n",
       "    </tr>\n",
       "  </tbody>\n",
       "</table>\n",
       "<p>1752 rows × 7 columns</p>\n",
       "</div>"
      ],
      "text/plain": [
       "        firstName lastName                                               name  \\\n",
       "0             NaN      NaN                                                NaN   \n",
       "1             NaN      NaN                                                NaN   \n",
       "2             NaN      NaN                                                NaN   \n",
       "3             NaN      NaN                                                NaN   \n",
       "4             NaN      NaN                                                NaN   \n",
       "...           ...      ...                                                ...   \n",
       "1747      Kushang      Mod  Shivam Children Hospital And Neonatal Care Centre   \n",
       "1748       Dhaval   Akhani                                 Childhood Hospital   \n",
       "1749  Keval Patel    Patel    Jk Dental Hospital Orthodontic & Implant Center   \n",
       "1750  Jinal Patel    Patel    Jk Dental Hospital Orthodontic & Implant Center   \n",
       "1751      Lavanya    Yasam                                         Sai Clinic   \n",
       "\n",
       "       baseCity                                         clinicName  GoogleNRs  \\\n",
       "0           NaN                                                NaN        NaN   \n",
       "1           NaN                                                NaN        NaN   \n",
       "2           NaN                                                NaN        NaN   \n",
       "3           NaN                                                NaN        NaN   \n",
       "4           NaN                                                NaN        NaN   \n",
       "...         ...                                                ...        ...   \n",
       "1747  Ahmedabad  Shivam Children Hospital And Neonatal Care Centre       18.0   \n",
       "1748  Ahmedabad                                 Childhood Hospital      436.0   \n",
       "1749  Ahmedabad    Jk Dental Hospital Orthodontic & Implant Center       12.0   \n",
       "1750  Ahmedabad    Jk Dental Hospital Orthodontic & Implant Center        3.0   \n",
       "1751  Hyderabad                                         Sai Clinic        4.0   \n",
       "\n",
       "      rating  \n",
       "0        NaN  \n",
       "1        NaN  \n",
       "2        NaN  \n",
       "3        NaN  \n",
       "4        NaN  \n",
       "...      ...  \n",
       "1747     2.9  \n",
       "1748     4.9  \n",
       "1749     5.0  \n",
       "1750     4.0  \n",
       "1751     4.3  \n",
       "\n",
       "[1752 rows x 7 columns]"
      ]
     },
     "execution_count": 28,
     "metadata": {},
     "output_type": "execute_result"
    }
   ],
   "source": [
    "pd.read_csv(\"full_output_30_aug_2022.csv\")"
   ]
  },
  {
   "cell_type": "code",
   "execution_count": null,
   "id": "78499a38",
   "metadata": {},
   "outputs": [],
   "source": [
    "df"
   ]
  },
  {
   "cell_type": "markdown",
   "id": "8d6bc02c",
   "metadata": {},
   "source": [
    "### Processing for NA"
   ]
  },
  {
   "cell_type": "code",
   "execution_count": 29,
   "id": "bd4684a5",
   "metadata": {},
   "outputs": [
    {
     "data": {
      "text/html": [
       "<div>\n",
       "<style scoped>\n",
       "    .dataframe tbody tr th:only-of-type {\n",
       "        vertical-align: middle;\n",
       "    }\n",
       "\n",
       "    .dataframe tbody tr th {\n",
       "        vertical-align: top;\n",
       "    }\n",
       "\n",
       "    .dataframe thead th {\n",
       "        text-align: right;\n",
       "    }\n",
       "</style>\n",
       "<table border=\"1\" class=\"dataframe\">\n",
       "  <thead>\n",
       "    <tr style=\"text-align: right;\">\n",
       "      <th></th>\n",
       "      <th>firstName</th>\n",
       "      <th>lastName</th>\n",
       "      <th>name</th>\n",
       "      <th>baseCity</th>\n",
       "      <th>clinicName</th>\n",
       "      <th>GoogleNRs</th>\n",
       "      <th>rating</th>\n",
       "    </tr>\n",
       "  </thead>\n",
       "  <tbody>\n",
       "    <tr>\n",
       "      <th>0</th>\n",
       "      <td>NaN</td>\n",
       "      <td>NaN</td>\n",
       "      <td>NaN</td>\n",
       "      <td>NaN</td>\n",
       "      <td>NaN</td>\n",
       "      <td>NaN</td>\n",
       "      <td>NaN</td>\n",
       "    </tr>\n",
       "    <tr>\n",
       "      <th>1</th>\n",
       "      <td>NaN</td>\n",
       "      <td>NaN</td>\n",
       "      <td>NaN</td>\n",
       "      <td>NaN</td>\n",
       "      <td>NaN</td>\n",
       "      <td>NaN</td>\n",
       "      <td>NaN</td>\n",
       "    </tr>\n",
       "    <tr>\n",
       "      <th>2</th>\n",
       "      <td>NaN</td>\n",
       "      <td>NaN</td>\n",
       "      <td>NaN</td>\n",
       "      <td>NaN</td>\n",
       "      <td>NaN</td>\n",
       "      <td>NaN</td>\n",
       "      <td>NaN</td>\n",
       "    </tr>\n",
       "    <tr>\n",
       "      <th>3</th>\n",
       "      <td>NaN</td>\n",
       "      <td>NaN</td>\n",
       "      <td>NaN</td>\n",
       "      <td>NaN</td>\n",
       "      <td>NaN</td>\n",
       "      <td>NaN</td>\n",
       "      <td>NaN</td>\n",
       "    </tr>\n",
       "    <tr>\n",
       "      <th>4</th>\n",
       "      <td>NaN</td>\n",
       "      <td>NaN</td>\n",
       "      <td>NaN</td>\n",
       "      <td>NaN</td>\n",
       "      <td>NaN</td>\n",
       "      <td>NaN</td>\n",
       "      <td>NaN</td>\n",
       "    </tr>\n",
       "  </tbody>\n",
       "</table>\n",
       "</div>"
      ],
      "text/plain": [
       "  firstName lastName name baseCity clinicName  GoogleNRs  rating\n",
       "0       NaN      NaN  NaN      NaN        NaN        NaN     NaN\n",
       "1       NaN      NaN  NaN      NaN        NaN        NaN     NaN\n",
       "2       NaN      NaN  NaN      NaN        NaN        NaN     NaN\n",
       "3       NaN      NaN  NaN      NaN        NaN        NaN     NaN\n",
       "4       NaN      NaN  NaN      NaN        NaN        NaN     NaN"
      ]
     },
     "execution_count": 29,
     "metadata": {},
     "output_type": "execute_result"
    }
   ],
   "source": [
    "df = pd.read_csv(\"full_output_30_aug_2022.csv\")\n",
    "df.head()"
   ]
  },
  {
   "cell_type": "code",
   "execution_count": 32,
   "id": "5ca98276",
   "metadata": {},
   "outputs": [],
   "source": [
    "df_na = df[df['rating'].isna() == True]"
   ]
  },
  {
   "cell_type": "code",
   "execution_count": 36,
   "id": "54a974ff",
   "metadata": {},
   "outputs": [],
   "source": [
    "df_na = df_na[df_na['firstName'].isna()!=True].drop('clinicName', axis=1)"
   ]
  },
  {
   "cell_type": "code",
   "execution_count": 39,
   "id": "5b7d84a6",
   "metadata": {},
   "outputs": [],
   "source": [
    "df_na.columns = ['firstName', 'lastName', 'name', 'baseCity', 'GoogleNRs', 'googleRating']"
   ]
  },
  {
   "cell_type": "code",
   "execution_count": 40,
   "id": "090c73e1",
   "metadata": {},
   "outputs": [
    {
     "data": {
      "text/html": [
       "<div>\n",
       "<style scoped>\n",
       "    .dataframe tbody tr th:only-of-type {\n",
       "        vertical-align: middle;\n",
       "    }\n",
       "\n",
       "    .dataframe tbody tr th {\n",
       "        vertical-align: top;\n",
       "    }\n",
       "\n",
       "    .dataframe thead th {\n",
       "        text-align: right;\n",
       "    }\n",
       "</style>\n",
       "<table border=\"1\" class=\"dataframe\">\n",
       "  <thead>\n",
       "    <tr style=\"text-align: right;\">\n",
       "      <th></th>\n",
       "      <th>firstName</th>\n",
       "      <th>lastName</th>\n",
       "      <th>name</th>\n",
       "      <th>baseCity</th>\n",
       "      <th>GoogleNRs</th>\n",
       "      <th>googleRating</th>\n",
       "    </tr>\n",
       "  </thead>\n",
       "  <tbody>\n",
       "    <tr>\n",
       "      <th>18</th>\n",
       "      <td>Divya</td>\n",
       "      <td>Kavuri</td>\n",
       "      <td>Apollo Clinic</td>\n",
       "      <td>Hyderabad</td>\n",
       "      <td>NaN</td>\n",
       "      <td>NaN</td>\n",
       "    </tr>\n",
       "    <tr>\n",
       "      <th>19</th>\n",
       "      <td>Shivam</td>\n",
       "      <td>P</td>\n",
       "      <td>Shivam hospitals</td>\n",
       "      <td>Hyderabad</td>\n",
       "      <td>NaN</td>\n",
       "      <td>NaN</td>\n",
       "    </tr>\n",
       "    <tr>\n",
       "      <th>23</th>\n",
       "      <td>Mamatha</td>\n",
       "      <td>R</td>\n",
       "      <td>Mamatha Clinics</td>\n",
       "      <td>Hyderabad</td>\n",
       "      <td>NaN</td>\n",
       "      <td>NaN</td>\n",
       "    </tr>\n",
       "    <tr>\n",
       "      <th>25</th>\n",
       "      <td>B</td>\n",
       "      <td>Ramesh</td>\n",
       "      <td>Aditya Medical Complex</td>\n",
       "      <td>Visakhapatnam</td>\n",
       "      <td>NaN</td>\n",
       "      <td>NaN</td>\n",
       "    </tr>\n",
       "    <tr>\n",
       "      <th>30</th>\n",
       "      <td>Sreeniavsa Rao</td>\n",
       "      <td>Reddy</td>\n",
       "      <td>Sri Srinivasa Gastro &amp; Liver Centre</td>\n",
       "      <td>Visakhapatnam</td>\n",
       "      <td>NaN</td>\n",
       "      <td>NaN</td>\n",
       "    </tr>\n",
       "    <tr>\n",
       "      <th>...</th>\n",
       "      <td>...</td>\n",
       "      <td>...</td>\n",
       "      <td>...</td>\n",
       "      <td>...</td>\n",
       "      <td>...</td>\n",
       "      <td>...</td>\n",
       "    </tr>\n",
       "    <tr>\n",
       "      <th>1727</th>\n",
       "      <td>Dhirena</td>\n",
       "      <td>Sanandiya</td>\n",
       "      <td>Vaibhav Clinic</td>\n",
       "      <td>Ahmedabad</td>\n",
       "      <td>NaN</td>\n",
       "      <td>NaN</td>\n",
       "    </tr>\n",
       "    <tr>\n",
       "      <th>1728</th>\n",
       "      <td>Rakesh</td>\n",
       "      <td>Sanol</td>\n",
       "      <td>Sadbhavna Hospital</td>\n",
       "      <td>Ahmedabad</td>\n",
       "      <td>NaN</td>\n",
       "      <td>NaN</td>\n",
       "    </tr>\n",
       "    <tr>\n",
       "      <th>1735</th>\n",
       "      <td>Lal</td>\n",
       "      <td>Daga</td>\n",
       "      <td>Dr LalS Heart Centre</td>\n",
       "      <td>Ahmedabad</td>\n",
       "      <td>NaN</td>\n",
       "      <td>NaN</td>\n",
       "    </tr>\n",
       "    <tr>\n",
       "      <th>1744</th>\n",
       "      <td>Narayan</td>\n",
       "      <td>Varma</td>\n",
       "      <td>Pakhi Hospital</td>\n",
       "      <td>Ahmedabad</td>\n",
       "      <td>NaN</td>\n",
       "      <td>NaN</td>\n",
       "    </tr>\n",
       "    <tr>\n",
       "      <th>1746</th>\n",
       "      <td>Jatin</td>\n",
       "      <td>Lathiya</td>\n",
       "      <td>Neuroexperts</td>\n",
       "      <td>Ahmedabad</td>\n",
       "      <td>NaN</td>\n",
       "      <td>NaN</td>\n",
       "    </tr>\n",
       "  </tbody>\n",
       "</table>\n",
       "<p>413 rows × 6 columns</p>\n",
       "</div>"
      ],
      "text/plain": [
       "           firstName   lastName                                 name  \\\n",
       "18             Divya     Kavuri                        Apollo Clinic   \n",
       "19            Shivam          P                     Shivam hospitals   \n",
       "23           Mamatha          R                      Mamatha Clinics   \n",
       "25                B      Ramesh               Aditya Medical Complex   \n",
       "30    Sreeniavsa Rao      Reddy  Sri Srinivasa Gastro & Liver Centre   \n",
       "...              ...        ...                                  ...   \n",
       "1727         Dhirena  Sanandiya                       Vaibhav Clinic   \n",
       "1728          Rakesh      Sanol                   Sadbhavna Hospital   \n",
       "1735             Lal       Daga                Dr LalS Heart Centre   \n",
       "1744         Narayan      Varma                       Pakhi Hospital   \n",
       "1746           Jatin    Lathiya                         Neuroexperts   \n",
       "\n",
       "           baseCity  GoogleNRs  googleRating  \n",
       "18        Hyderabad        NaN           NaN  \n",
       "19        Hyderabad        NaN           NaN  \n",
       "23        Hyderabad        NaN           NaN  \n",
       "25    Visakhapatnam        NaN           NaN  \n",
       "30    Visakhapatnam        NaN           NaN  \n",
       "...             ...        ...           ...  \n",
       "1727      Ahmedabad        NaN           NaN  \n",
       "1728      Ahmedabad        NaN           NaN  \n",
       "1735      Ahmedabad        NaN           NaN  \n",
       "1744      Ahmedabad        NaN           NaN  \n",
       "1746      Ahmedabad        NaN           NaN  \n",
       "\n",
       "[413 rows x 6 columns]"
      ]
     },
     "execution_count": 40,
     "metadata": {},
     "output_type": "execute_result"
    }
   ],
   "source": [
    "df_na"
   ]
  },
  {
   "cell_type": "code",
   "execution_count": null,
   "id": "84a876fe",
   "metadata": {},
   "outputs": [],
   "source": []
  }
 ],
 "metadata": {
  "kernelspec": {
   "display_name": "Python 3 (ipykernel)",
   "language": "python",
   "name": "python3"
  },
  "language_info": {
   "codemirror_mode": {
    "name": "ipython",
    "version": 3
   },
   "file_extension": ".py",
   "mimetype": "text/x-python",
   "name": "python",
   "nbconvert_exporter": "python",
   "pygments_lexer": "ipython3",
   "version": "3.9.13"
  },
  "vscode": {
   "interpreter": {
    "hash": "1152254d1e610f803db0a6fed8bc02d35ce78bc817c0aa9e797ec443b5cb6318"
   }
  }
 },
 "nbformat": 4,
 "nbformat_minor": 5
}
