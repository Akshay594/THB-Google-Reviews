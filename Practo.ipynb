{
 "cells": [
  {
   "cell_type": "code",
   "execution_count": 1,
   "id": "1b862ef2",
   "metadata": {},
   "outputs": [],
   "source": [
    "import pandas as pd\n",
    "import re\n",
    "from tqdm import tqdm\n",
    "\n",
    "import matplotlib.pyplot as plt\n",
    "import numpy as np\n",
    "import locationtagger"
   ]
  },
  {
   "cell_type": "code",
   "execution_count": 2,
   "id": "644e6a25",
   "metadata": {},
   "outputs": [
    {
     "data": {
      "text/html": [
       "<div>\n",
       "<style scoped>\n",
       "    .dataframe tbody tr th:only-of-type {\n",
       "        vertical-align: middle;\n",
       "    }\n",
       "\n",
       "    .dataframe tbody tr th {\n",
       "        vertical-align: top;\n",
       "    }\n",
       "\n",
       "    .dataframe thead th {\n",
       "        text-align: right;\n",
       "    }\n",
       "</style>\n",
       "<table border=\"1\" class=\"dataframe\">\n",
       "  <thead>\n",
       "    <tr style=\"text-align: right;\">\n",
       "      <th></th>\n",
       "      <th>SVAAS_ID</th>\n",
       "      <th>user_id</th>\n",
       "      <th>firstName</th>\n",
       "      <th>middleName</th>\n",
       "      <th>lastName</th>\n",
       "      <th>email</th>\n",
       "      <th>phone</th>\n",
       "      <th>description</th>\n",
       "      <th>pan</th>\n",
       "      <th>mci</th>\n",
       "      <th>...</th>\n",
       "      <th>numberFollowUp</th>\n",
       "      <th>followUpDuration</th>\n",
       "      <th>insuranceProviderId</th>\n",
       "      <th>isActive</th>\n",
       "      <th>ABDM_Healthcare_Professional_ID</th>\n",
       "      <th>SVAAS_DOCTOR_ID</th>\n",
       "      <th>svaasClinicId</th>\n",
       "      <th>tbl_user_phone_number</th>\n",
       "      <th>name</th>\n",
       "      <th>location</th>\n",
       "    </tr>\n",
       "  </thead>\n",
       "  <tbody>\n",
       "    <tr>\n",
       "      <th>0</th>\n",
       "      <td>NaN</td>\n",
       "      <td>NaN</td>\n",
       "      <td>NaN</td>\n",
       "      <td>NaN</td>\n",
       "      <td>NaN</td>\n",
       "      <td>NaN</td>\n",
       "      <td>NaN</td>\n",
       "      <td>NaN</td>\n",
       "      <td>NaN</td>\n",
       "      <td>NaN</td>\n",
       "      <td>...</td>\n",
       "      <td>NaN</td>\n",
       "      <td>NaN</td>\n",
       "      <td>NaN</td>\n",
       "      <td>NaN</td>\n",
       "      <td>NaN</td>\n",
       "      <td>NaN</td>\n",
       "      <td>NaN</td>\n",
       "      <td>NaN</td>\n",
       "      <td>NaN</td>\n",
       "      <td>NaN</td>\n",
       "    </tr>\n",
       "    <tr>\n",
       "      <th>1</th>\n",
       "      <td>NaN</td>\n",
       "      <td>NaN</td>\n",
       "      <td>NaN</td>\n",
       "      <td>NaN</td>\n",
       "      <td>NaN</td>\n",
       "      <td>NaN</td>\n",
       "      <td>NaN</td>\n",
       "      <td>NaN</td>\n",
       "      <td>NaN</td>\n",
       "      <td>NaN</td>\n",
       "      <td>...</td>\n",
       "      <td>NaN</td>\n",
       "      <td>NaN</td>\n",
       "      <td>NaN</td>\n",
       "      <td>NaN</td>\n",
       "      <td>NaN</td>\n",
       "      <td>NaN</td>\n",
       "      <td>NaN</td>\n",
       "      <td>NaN</td>\n",
       "      <td>NaN</td>\n",
       "      <td>NaN</td>\n",
       "    </tr>\n",
       "    <tr>\n",
       "      <th>2</th>\n",
       "      <td>NaN</td>\n",
       "      <td>NaN</td>\n",
       "      <td>NaN</td>\n",
       "      <td>NaN</td>\n",
       "      <td>NaN</td>\n",
       "      <td>NaN</td>\n",
       "      <td>NaN</td>\n",
       "      <td>NaN</td>\n",
       "      <td>NaN</td>\n",
       "      <td>NaN</td>\n",
       "      <td>...</td>\n",
       "      <td>NaN</td>\n",
       "      <td>NaN</td>\n",
       "      <td>NaN</td>\n",
       "      <td>NaN</td>\n",
       "      <td>NaN</td>\n",
       "      <td>NaN</td>\n",
       "      <td>NaN</td>\n",
       "      <td>NaN</td>\n",
       "      <td>NaN</td>\n",
       "      <td>NaN</td>\n",
       "    </tr>\n",
       "    <tr>\n",
       "      <th>3</th>\n",
       "      <td>NaN</td>\n",
       "      <td>NaN</td>\n",
       "      <td>NaN</td>\n",
       "      <td>NaN</td>\n",
       "      <td>NaN</td>\n",
       "      <td>NaN</td>\n",
       "      <td>NaN</td>\n",
       "      <td>NaN</td>\n",
       "      <td>NaN</td>\n",
       "      <td>NaN</td>\n",
       "      <td>...</td>\n",
       "      <td>NaN</td>\n",
       "      <td>NaN</td>\n",
       "      <td>NaN</td>\n",
       "      <td>NaN</td>\n",
       "      <td>NaN</td>\n",
       "      <td>NaN</td>\n",
       "      <td>NaN</td>\n",
       "      <td>NaN</td>\n",
       "      <td>NaN</td>\n",
       "      <td>NaN</td>\n",
       "    </tr>\n",
       "    <tr>\n",
       "      <th>4</th>\n",
       "      <td>NaN</td>\n",
       "      <td>NaN</td>\n",
       "      <td>NaN</td>\n",
       "      <td>NaN</td>\n",
       "      <td>NaN</td>\n",
       "      <td>NaN</td>\n",
       "      <td>NaN</td>\n",
       "      <td>NaN</td>\n",
       "      <td>NaN</td>\n",
       "      <td>NaN</td>\n",
       "      <td>...</td>\n",
       "      <td>NaN</td>\n",
       "      <td>NaN</td>\n",
       "      <td>NaN</td>\n",
       "      <td>NaN</td>\n",
       "      <td>NaN</td>\n",
       "      <td>NaN</td>\n",
       "      <td>NaN</td>\n",
       "      <td>NaN</td>\n",
       "      <td>NaN</td>\n",
       "      <td>NaN</td>\n",
       "    </tr>\n",
       "  </tbody>\n",
       "</table>\n",
       "<p>5 rows × 53 columns</p>\n",
       "</div>"
      ],
      "text/plain": [
       "   SVAAS_ID  user_id firstName middleName lastName email  phone  description  \\\n",
       "0       NaN      NaN       NaN        NaN      NaN   NaN    NaN          NaN   \n",
       "1       NaN      NaN       NaN        NaN      NaN   NaN    NaN          NaN   \n",
       "2       NaN      NaN       NaN        NaN      NaN   NaN    NaN          NaN   \n",
       "3       NaN      NaN       NaN        NaN      NaN   NaN    NaN          NaN   \n",
       "4       NaN      NaN       NaN        NaN      NaN   NaN    NaN          NaN   \n",
       "\n",
       "   pan  mci  ... numberFollowUp followUpDuration insuranceProviderId isActive  \\\n",
       "0  NaN  NaN  ...            NaN              NaN                 NaN      NaN   \n",
       "1  NaN  NaN  ...            NaN              NaN                 NaN      NaN   \n",
       "2  NaN  NaN  ...            NaN              NaN                 NaN      NaN   \n",
       "3  NaN  NaN  ...            NaN              NaN                 NaN      NaN   \n",
       "4  NaN  NaN  ...            NaN              NaN                 NaN      NaN   \n",
       "\n",
       "  ABDM_Healthcare_Professional_ID SVAAS_DOCTOR_ID  svaasClinicId  \\\n",
       "0                             NaN             NaN            NaN   \n",
       "1                             NaN             NaN            NaN   \n",
       "2                             NaN             NaN            NaN   \n",
       "3                             NaN             NaN            NaN   \n",
       "4                             NaN             NaN            NaN   \n",
       "\n",
       "  tbl_user_phone_number  name location  \n",
       "0                   NaN   NaN      NaN  \n",
       "1                   NaN   NaN      NaN  \n",
       "2                   NaN   NaN      NaN  \n",
       "3                   NaN   NaN      NaN  \n",
       "4                   NaN   NaN      NaN  \n",
       "\n",
       "[5 rows x 53 columns]"
      ]
     },
     "execution_count": 2,
     "metadata": {},
     "output_type": "execute_result"
    }
   ],
   "source": [
    "df = pd.read_csv(\"google_review_29_08_v3.csv\")\n",
    "df.head()"
   ]
  },
  {
   "cell_type": "code",
   "execution_count": 3,
   "id": "2c48fe3d",
   "metadata": {},
   "outputs": [
    {
     "data": {
      "text/html": [
       "<div>\n",
       "<style scoped>\n",
       "    .dataframe tbody tr th:only-of-type {\n",
       "        vertical-align: middle;\n",
       "    }\n",
       "\n",
       "    .dataframe tbody tr th {\n",
       "        vertical-align: top;\n",
       "    }\n",
       "\n",
       "    .dataframe thead th {\n",
       "        text-align: right;\n",
       "    }\n",
       "</style>\n",
       "<table border=\"1\" class=\"dataframe\">\n",
       "  <thead>\n",
       "    <tr style=\"text-align: right;\">\n",
       "      <th></th>\n",
       "      <th>SVAAS_ID</th>\n",
       "      <th>firstName</th>\n",
       "      <th>lastName</th>\n",
       "      <th>name</th>\n",
       "      <th>baseCity</th>\n",
       "    </tr>\n",
       "  </thead>\n",
       "  <tbody>\n",
       "    <tr>\n",
       "      <th>0</th>\n",
       "      <td>NaN</td>\n",
       "      <td>NaN</td>\n",
       "      <td>NaN</td>\n",
       "      <td>NaN</td>\n",
       "      <td>NaN</td>\n",
       "    </tr>\n",
       "    <tr>\n",
       "      <th>1</th>\n",
       "      <td>NaN</td>\n",
       "      <td>NaN</td>\n",
       "      <td>NaN</td>\n",
       "      <td>NaN</td>\n",
       "      <td>NaN</td>\n",
       "    </tr>\n",
       "    <tr>\n",
       "      <th>2</th>\n",
       "      <td>NaN</td>\n",
       "      <td>NaN</td>\n",
       "      <td>NaN</td>\n",
       "      <td>NaN</td>\n",
       "      <td>NaN</td>\n",
       "    </tr>\n",
       "    <tr>\n",
       "      <th>3</th>\n",
       "      <td>NaN</td>\n",
       "      <td>NaN</td>\n",
       "      <td>NaN</td>\n",
       "      <td>NaN</td>\n",
       "      <td>NaN</td>\n",
       "    </tr>\n",
       "    <tr>\n",
       "      <th>4</th>\n",
       "      <td>NaN</td>\n",
       "      <td>NaN</td>\n",
       "      <td>NaN</td>\n",
       "      <td>NaN</td>\n",
       "      <td>NaN</td>\n",
       "    </tr>\n",
       "  </tbody>\n",
       "</table>\n",
       "</div>"
      ],
      "text/plain": [
       "   SVAAS_ID firstName lastName name baseCity\n",
       "0       NaN       NaN      NaN  NaN      NaN\n",
       "1       NaN       NaN      NaN  NaN      NaN\n",
       "2       NaN       NaN      NaN  NaN      NaN\n",
       "3       NaN       NaN      NaN  NaN      NaN\n",
       "4       NaN       NaN      NaN  NaN      NaN"
      ]
     },
     "execution_count": 3,
     "metadata": {},
     "output_type": "execute_result"
    }
   ],
   "source": [
    "df = df[['SVAAS_ID', 'firstName', 'lastName', 'name', 'baseCity']]\n",
    "df.head()"
   ]
  },
  {
   "cell_type": "code",
   "execution_count": 4,
   "id": "6e5eec07",
   "metadata": {},
   "outputs": [],
   "source": [
    "df_not_missing = df.dropna()"
   ]
  },
  {
   "cell_type": "code",
   "execution_count": 5,
   "id": "bbf3e6ea",
   "metadata": {},
   "outputs": [
    {
     "data": {
      "text/html": [
       "<div>\n",
       "<style scoped>\n",
       "    .dataframe tbody tr th:only-of-type {\n",
       "        vertical-align: middle;\n",
       "    }\n",
       "\n",
       "    .dataframe tbody tr th {\n",
       "        vertical-align: top;\n",
       "    }\n",
       "\n",
       "    .dataframe thead th {\n",
       "        text-align: right;\n",
       "    }\n",
       "</style>\n",
       "<table border=\"1\" class=\"dataframe\">\n",
       "  <thead>\n",
       "    <tr style=\"text-align: right;\">\n",
       "      <th></th>\n",
       "      <th>SVAAS_ID</th>\n",
       "      <th>firstName</th>\n",
       "      <th>lastName</th>\n",
       "      <th>name</th>\n",
       "      <th>baseCity</th>\n",
       "    </tr>\n",
       "  </thead>\n",
       "  <tbody>\n",
       "    <tr>\n",
       "      <th>17</th>\n",
       "      <td>3.0</td>\n",
       "      <td>Divya</td>\n",
       "      <td>Kavuri</td>\n",
       "      <td>Apollo Clinic</td>\n",
       "      <td>Hyderabad</td>\n",
       "    </tr>\n",
       "    <tr>\n",
       "      <th>18</th>\n",
       "      <td>4.0</td>\n",
       "      <td>Shivam</td>\n",
       "      <td>P</td>\n",
       "      <td>Shivam hospitals</td>\n",
       "      <td>Hyderabad</td>\n",
       "    </tr>\n",
       "    <tr>\n",
       "      <th>19</th>\n",
       "      <td>5.0</td>\n",
       "      <td>Ranjan</td>\n",
       "      <td>Dey</td>\n",
       "      <td>Ranjan skin clinics</td>\n",
       "      <td>Hyderabad</td>\n",
       "    </tr>\n",
       "    <tr>\n",
       "      <th>20</th>\n",
       "      <td>6.0</td>\n",
       "      <td>Soumya</td>\n",
       "      <td>Sarkar</td>\n",
       "      <td>Soumya Multi speciality clinic</td>\n",
       "      <td>Hyderabad</td>\n",
       "    </tr>\n",
       "    <tr>\n",
       "      <th>21</th>\n",
       "      <td>7.0</td>\n",
       "      <td>Rishanku</td>\n",
       "      <td>Goyal</td>\n",
       "      <td>RKG Eye Center</td>\n",
       "      <td>Hyderabad</td>\n",
       "    </tr>\n",
       "  </tbody>\n",
       "</table>\n",
       "</div>"
      ],
      "text/plain": [
       "    SVAAS_ID firstName lastName                            name   baseCity\n",
       "17       3.0     Divya   Kavuri                   Apollo Clinic  Hyderabad\n",
       "18       4.0    Shivam        P                Shivam hospitals  Hyderabad\n",
       "19       5.0    Ranjan      Dey             Ranjan skin clinics  Hyderabad\n",
       "20       6.0    Soumya   Sarkar  Soumya Multi speciality clinic  Hyderabad\n",
       "21       7.0  Rishanku    Goyal                  RKG Eye Center  Hyderabad"
      ]
     },
     "execution_count": 5,
     "metadata": {},
     "output_type": "execute_result"
    }
   ],
   "source": [
    "df_not_missing.head()"
   ]
  },
  {
   "cell_type": "code",
   "execution_count": 6,
   "id": "bb40a816",
   "metadata": {},
   "outputs": [
    {
     "data": {
      "text/plain": [
       "SVAAS_ID     0\n",
       "firstName    0\n",
       "lastName     0\n",
       "name         0\n",
       "baseCity     0\n",
       "dtype: int64"
      ]
     },
     "execution_count": 6,
     "metadata": {},
     "output_type": "execute_result"
    }
   ],
   "source": [
    "df_not_missing.isna().sum()"
   ]
  },
  {
   "cell_type": "code",
   "execution_count": 7,
   "id": "33480c13",
   "metadata": {},
   "outputs": [
    {
     "data": {
      "text/plain": [
       "0.9879032258064516"
      ]
     },
     "execution_count": 7,
     "metadata": {},
     "output_type": "execute_result"
    }
   ],
   "source": [
    "len(df_not_missing)/len(df)"
   ]
  },
  {
   "cell_type": "code",
   "execution_count": 8,
   "id": "909ded9e",
   "metadata": {},
   "outputs": [
    {
     "name": "stderr",
     "output_type": "stream",
     "text": [
      "/var/folders/z1/0tn2v83n6pzgl2m8lzz1phbc0000gn/T/ipykernel_87780/4047833984.py:1: SettingWithCopyWarning: \n",
      "A value is trying to be set on a copy of a slice from a DataFrame.\n",
      "Try using .loc[row_indexer,col_indexer] = value instead\n",
      "\n",
      "See the caveats in the documentation: https://pandas.pydata.org/pandas-docs/stable/user_guide/indexing.html#returning-a-view-versus-a-copy\n",
      "  df_not_missing['query'] = df_not_missing['firstName'].apply(lambda x:x.lower()) +\"+\" + df_not_missing['lastName'].apply(lambda x:x.lower()) \\\n"
     ]
    }
   ],
   "source": [
    "df_not_missing['query'] = df_not_missing['firstName'].apply(lambda x:x.lower()) +\"+\" + df_not_missing['lastName'].apply(lambda x:x.lower()) \\\n",
    "                          +\"+\"+ df_not_missing['name'].apply(lambda x:x.lower()) + \"+\" + df_not_missing[\"baseCity\"].apply(lambda x:x.lower())"
   ]
  },
  {
   "cell_type": "code",
   "execution_count": 9,
   "id": "7683467c",
   "metadata": {},
   "outputs": [
    {
     "data": {
      "text/plain": [
       "(1715,)"
      ]
     },
     "execution_count": 9,
     "metadata": {},
     "output_type": "execute_result"
    }
   ],
   "source": [
    "df_not_missing['query'].values.shape"
   ]
  },
  {
   "cell_type": "markdown",
   "id": "8836fa3d",
   "metadata": {},
   "source": [
    "## For missing data"
   ]
  },
  {
   "cell_type": "code",
   "execution_count": 10,
   "id": "c0470c89",
   "metadata": {},
   "outputs": [],
   "source": [
    "import preprocess_kgptalkie as ps\n",
    "import re\n",
    "\n",
    "def get_clean(x):\n",
    "    x = str(x).lower().replace('\\\\', '').replace('_', ' ')\n",
    "    x = ps.cont_exp(x)\n",
    "    x = ps.remove_emails(x)\n",
    "    x = ps.remove_urls(x)\n",
    "    x = ps.remove_html_tags(x)\n",
    "    x = ps.remove_rt(x)\n",
    "    x = ps.remove_accented_chars(x)\n",
    "    x = ps.remove_special_chars(x)\n",
    "    x = re.sub(\"(.)\\\\1{2,}\", \"\\\\1\", x)\n",
    "    return x\n",
    "\n",
    "\n"
   ]
  },
  {
   "cell_type": "code",
   "execution_count": 11,
   "id": "4100283b",
   "metadata": {},
   "outputs": [
    {
     "name": "stderr",
     "output_type": "stream",
     "text": [
      "/var/folders/z1/0tn2v83n6pzgl2m8lzz1phbc0000gn/T/ipykernel_87780/4195452832.py:1: SettingWithCopyWarning: \n",
      "A value is trying to be set on a copy of a slice from a DataFrame.\n",
      "Try using .loc[row_indexer,col_indexer] = value instead\n",
      "\n",
      "See the caveats in the documentation: https://pandas.pydata.org/pandas-docs/stable/user_guide/indexing.html#returning-a-view-versus-a-copy\n",
      "  df_not_missing['SVAAS_ID'] = df_not_missing['SVAAS_ID'].astype('int')\n"
     ]
    }
   ],
   "source": [
    "df_not_missing['SVAAS_ID'] = df_not_missing['SVAAS_ID'].astype('int')"
   ]
  },
  {
   "cell_type": "code",
   "execution_count": 12,
   "id": "e2eafedb",
   "metadata": {},
   "outputs": [
    {
     "name": "stderr",
     "output_type": "stream",
     "text": [
      "/var/folders/z1/0tn2v83n6pzgl2m8lzz1phbc0000gn/T/ipykernel_87780/153722280.py:1: SettingWithCopyWarning: \n",
      "A value is trying to be set on a copy of a slice from a DataFrame.\n",
      "Try using .loc[row_indexer,col_indexer] = value instead\n",
      "\n",
      "See the caveats in the documentation: https://pandas.pydata.org/pandas-docs/stable/user_guide/indexing.html#returning-a-view-versus-a-copy\n",
      "  df_not_missing['query'] = df_not_missing['query'].apply(lambda x:ps.remove_accented_chars(x))\n"
     ]
    },
    {
     "data": {
      "text/plain": [
       "17                 divya+kavuri+apollo clinic+hyderabad\n",
       "18                  shivam+p+shivam hospitals+hyderabad\n",
       "19             ranjan+dey+ranjan skin clinics+hyderabad\n",
       "20    soumya+sarkar+soumya multi speciality clinic+h...\n",
       "21              rishanku+goyal+rkg eye center+hyderabad\n",
       "Name: query, dtype: object"
      ]
     },
     "execution_count": 12,
     "metadata": {},
     "output_type": "execute_result"
    }
   ],
   "source": [
    "df_not_missing['query'] = df_not_missing['query'].apply(lambda x:ps.remove_accented_chars(x))\n",
    "df_not_missing['query'].head()"
   ]
  },
  {
   "cell_type": "code",
   "execution_count": 13,
   "id": "6bd5d1c1",
   "metadata": {},
   "outputs": [],
   "source": [
    "from collections import defaultdict\n",
    "\n",
    "final_df = defaultdict(list)"
   ]
  },
  {
   "cell_type": "code",
   "execution_count": 14,
   "id": "82cc7b64",
   "metadata": {},
   "outputs": [],
   "source": [
    "def isDigit(char):\n",
    "    pattern = \"^[-+]?[0-9]*\\.?[0-9]+(e[-+]?[0-9]+)?$\"\n",
    "    reg = re.compile(pattern)\n",
    "    if reg.match(char):\n",
    "        return True\n",
    "    return False"
   ]
  },
  {
   "cell_type": "code",
   "execution_count": 15,
   "id": "974664b5",
   "metadata": {},
   "outputs": [],
   "source": [
    "import requests\n",
    "from bs4 import BeautifulSoup\n",
    "import re\n",
    "\n",
    "def getLinkFromUrl(query):\n",
    "    link_values = []\n",
    "    cleaned_links = []\n",
    "    page = requests.get(query)\n",
    "    soup = BeautifulSoup(page.content)\n",
    "    links = soup.findAll(\"a\")\n",
    "    for link in  soup.find_all(\"a\",href=re.compile(\"(?<=/url\\?q=)(htt.*://.*)\")):\n",
    "        url = re.split(\":(?=http)\",link[\"href\"].replace(\"/url?q=\",\"\"))\n",
    "        link_values.append(str(url[0]))\n",
    "        \n",
    "    return link_values "
   ]
  },
  {
   "cell_type": "code",
   "execution_count": 16,
   "id": "a7f4e201",
   "metadata": {},
   "outputs": [],
   "source": [
    "links = getLinkFromUrl(query=\"https://google.com/search?q=shivam+p+shivam+hospitals+hyderabad\")"
   ]
  },
  {
   "cell_type": "code",
   "execution_count": 17,
   "id": "fa6f9898",
   "metadata": {},
   "outputs": [
    {
     "name": "stdout",
     "output_type": "stream",
     "text": [
      "https://www.justdial.com/Hyderabad/Shivam-Clinic-Near-Hanuman-Temple-Kukatpally/040PXX40-XX40-140310200923-M5T7_BZDET\n",
      "https://www.justdial.com/Hyderabad/Shivam-Clinic-Obg-Gynecology-and-Orthopedics-Near-Y-Junction-Kukatpally/040PXX40-XX40-150727214202-J1K7_BZDET\n",
      "https://www.practo.com/hyderabad/clinic/shivam-clinic-kphb\n",
      "https://www.drmsanjayortho.com/\n",
      "https://drlogy.com/hospitals/shivam-clinic-23676\n",
      "https://www.timesmed.com/Hospital/Hyderabad/shivam-clinic-115461\n",
      "https://www.lybrate.com/hyderabad/clinic/shivam-clinic-kphb\n",
      "https://ezz.health/hyderabad/hospitals/shivam-clinic-kukatpally\n",
      "https://theshivamhospital.in/\n",
      "http://www.shivamhospital.in/\n",
      "https://support.google.com/websearch\n",
      "https://accounts.google.com/ServiceLogin\n"
     ]
    }
   ],
   "source": [
    "for l in links:\n",
    "    if \"%\" in l:\n",
    "        link = l.split(\"%\")[0]\n",
    "        print(link)\n",
    "    elif \"&\" in l:\n",
    "        link = l.split(\"&\")[0]\n",
    "        print(link)"
   ]
  },
  {
   "cell_type": "code",
   "execution_count": 18,
   "id": "865468a8",
   "metadata": {},
   "outputs": [],
   "source": [
    "from bs4 import BeautifulSoup\n",
    "import urllib.request\n",
    "import numpy as np\n",
    "import requests\n",
    "import re\n",
    "\n",
    "    \n",
    "\n",
    "query=\"https://google.com/search?q=shivam+p+shivam+hospitals+hyderabad\"\n",
    "\n",
    "request = urllib.request.Request(query)\n",
    "request.add_header('User-Agent', 'Mozilla/5.0 (Macintosh; Intel Mac OS X 10_15_6) AppleWebKit/537.36 (KHTML, like Gecko) Chrome/87.0.4280.88 Safari/537.36')\n",
    "raw_response = urllib.request.urlopen(request).read()\n",
    "\n",
    "html = raw_response.decode(\"utf-8\")\n",
    "\n",
    "soup = BeautifulSoup(html, 'html.parser')\n",
    "\n",
    "links = soup.findAll(\"a\")\n",
    "for link in  soup.find_all(\"a\",href=re.compile(\"(?<=/url\\?q=)(htt.*://.*)\")):\n",
    "    print(re.split(\":(?=http)\",link[\"href\"].replace(\"/url?q=\",\"\")))\n"
   ]
  },
  {
   "cell_type": "code",
   "execution_count": 19,
   "id": "3732d754",
   "metadata": {},
   "outputs": [
    {
     "data": {
      "text/plain": [
       "True"
      ]
     },
     "execution_count": 19,
     "metadata": {},
     "output_type": "execute_result"
    }
   ],
   "source": [
    "\"practo\" in \"practo.com\""
   ]
  },
  {
   "cell_type": "code",
   "execution_count": 20,
   "id": "187c9c4c",
   "metadata": {},
   "outputs": [
    {
     "name": "stdout",
     "output_type": "stream",
     "text": [
      "Dr. Divya Varikallu\n",
      "General Practitioner\n",
      "61B, Sri Ram Nagar Colony, Botanical Garden Road, Landmark: Beside Lane of Burfighar Sweet Shop &  State Bank of India Lane, Hyderabad\n"
     ]
    }
   ],
   "source": [
    "from bs4 import BeautifulSoup\n",
    "import urllib.request\n",
    "import numpy as np\n",
    "from googlesearch import search   \n",
    "\n",
    "url = \"https://www.practo.com/hyderabad/doctor/divya-varikallu-general-practitioner\"\n",
    "request = urllib.request.Request(url)\n",
    "\n",
    "request.add_header('User-Agent', 'your bot 0.1')\n",
    "raw_response = urllib.request.urlopen(request).read()\n",
    "\n",
    "html = raw_response.decode(\"utf-8\")\n",
    "\n",
    "soup = BeautifulSoup(html, 'html.parser')\n",
    "\n",
    "heading = soup.find(\"h1\")\n",
    "speciality = soup.find(\"h2\", class_=\"u-d-inlineblock u-spacer--right-v-thin c-profile__details\")\n",
    "rating = soup.find(\"span\", class_=\"u-green-text u-bold u-large-font\")\n",
    "votes = soup.find(\"span\", class_=\"u-smallest-font u-grey_3-text\")\n",
    "address = soup.find(\"p\", class_=\"c-profile--clinic__address\")\n",
    "\n",
    "print(heading.get_text())\n",
    "print(speciality.get_text())\n",
    "# print(rating.get_text())\n",
    "# print(votes.get_text().strip(\")\").strip(\"(\"))\n",
    "print(address.get_text())\n"
   ]
  },
  {
   "cell_type": "code",
   "execution_count": 21,
   "id": "1350e677",
   "metadata": {},
   "outputs": [
    {
     "data": {
      "text/plain": [
       "17                      divyakavuriapollo clinichyderabad\n",
       "18                       shivampshivam hospitalshyderabad\n",
       "19                  ranjandeyranjan skin clinicshyderabad\n",
       "20      soumyasarkarsoumya multi speciality clinichyde...\n",
       "21                   rishankugoyalrkg eye centerhyderabad\n",
       "                              ...                        \n",
       "1731    kushangmodshivam children hospital and neonata...\n",
       "1732              dhavalakhanichildhood hospitalahmedabad\n",
       "1733    keval patelpateljk dental hospital orthodontic...\n",
       "1734    jinal patelpateljk dental hospital orthodontic...\n",
       "1735                      lavanyayasamsai clinichyderabad\n",
       "Name: query, Length: 1715, dtype: object"
      ]
     },
     "execution_count": 21,
     "metadata": {},
     "output_type": "execute_result"
    }
   ],
   "source": [
    "df_not_missing['query'].apply(lambda x:ps.remove_special_chars(x))"
   ]
  },
  {
   "cell_type": "code",
   "execution_count": 22,
   "id": "a6839852",
   "metadata": {},
   "outputs": [
    {
     "data": {
      "text/plain": [
       "False"
      ]
     },
     "execution_count": 22,
     "metadata": {},
     "output_type": "execute_result"
    }
   ],
   "source": [
    "set([\"doctor\"]).issubset(set(list(map(str.lower, link.split(\"/\")))))"
   ]
  },
  {
   "cell_type": "code",
   "execution_count": 27,
   "id": "c06e3a20",
   "metadata": {},
   "outputs": [],
   "source": [
    "from bs4 import BeautifulSoup\n",
    "import urllib.request\n",
    "import numpy as np\n",
    "from googlesearch import search   \n",
    "\n",
    "\n",
    "def extractReviews(df_not_missing):\n",
    "    queries = df_not_missing['query'].values\n",
    "\n",
    "    for i in tqdm(range(len(queries))):\n",
    "        query = queries[i]\n",
    "        query = \"+\".join(query.split(\" \"))\n",
    "        url = 'https://google.com/search?q=dr+'+query\n",
    "        \n",
    "\n",
    "        \n",
    "        for link in getLinkFromUrl(url):\n",
    "            if \"practo\" in link:\n",
    "                    # link wihtout ampersand\n",
    "                    if \"&\" in link:\n",
    "                        link_w = link.split(\"&\")[0]\n",
    "                    elif \"%\" in link:\n",
    "                        link_w = link.split(\"%\")[0]\n",
    "                    \n",
    "                    print(\"Link searched for: \", link_w)\n",
    "\n",
    "                    request = urllib.request.Request(link_w)\n",
    "                    request.add_header('User-Agent', 'Mozilla/5.0 (Macintosh; Intel Mac OS X 10_15_6) AppleWebKit/537.36 (KHTML, like Gecko) Chrome/87.0.4280.88 Safari/537.36')\n",
    "\n",
    "                \n",
    "                \n",
    "                    raw_response = urllib.request.urlopen(request).read()\n",
    "                    # Read the repsonse as a utf-8 string\n",
    "                    html = raw_response.decode(\"utf-8\")\n",
    "\n",
    "                    soup = BeautifulSoup(html, 'html.parser')\n",
    "                    \n",
    "                    heading = soup.find(\"h1\")\n",
    "\n",
    "                    # Dr data\n",
    "                    speciality = soup.find(\"h2\", class_=\"u-d-inlineblock u-spacer--right-v-thin c-profile__details\")\n",
    "                    rating = soup.find(\"span\", class_=\"u-green-text u-bold u-large-font\")\n",
    "                    votes = soup.find(\"span\", class_=\"u-smallest-font u-grey_3-text\")\n",
    "                    address = soup.find(\"p\", class_=\"c-profile--clinic__address\")\n",
    "\n",
    "                    # clinic data\n",
    "                    speciality_cl = soup.find(\"h2\", attrs={\n",
    "                        \"data-qa-id\":\"clinic-speciality\"\n",
    "                    })\n",
    "                    rating_cl = soup.find(\"span\", class_=\"common__star-rating__value\")\n",
    "                    votes_cl = soup.find(\"span\", attrs={\n",
    "                        \"data-qa-id\":\"clinic-votes\"\n",
    "                    })\n",
    "                    address_cl = soup.find(\"p\", class_=\"c-profile--clinic__address\")\n",
    "                    \n",
    "                    final_df['SVAAS_ID'].append(df_not_missing.iloc[i]['SVAAS_ID'])\n",
    "                    final_df['']\n",
    "\n",
    "\n",
    "                    if heading is not None:\n",
    "                        print(\"Name: \", heading.get_text())\n",
    "                        final_df['name'].append(heading.get_text())\n",
    "                    else:\n",
    "                        print(\"Heading is not availble\")\n",
    "                        final_df['name'].append(\"NA\")\n",
    "\n",
    "                    if speciality is not None:\n",
    "                        print(\"Speciality: \", speciality.get_text())\n",
    "                        final_df['speciality'].append(speciality.get_text())\n",
    "                    elif speciality_cl is not None:\n",
    "                        print(\"Speciality: \", speciality_cl.get_text())\n",
    "                        final_df['speciality'].append(speciality_cl.get_text())\n",
    "                    else:\n",
    "                        print(\"Speciality is not available.\")\n",
    "\n",
    "                    if rating is not None:\n",
    "                        print(\"Rating: \", rating.get_text())\n",
    "                        final_df['rating'].append(rating.get_text())\n",
    "                    elif rating_cl is not None:\n",
    "                        print(\"Rating: \", rating_cl.get_text())\n",
    "                        final_df['rating'].append(rating_cl.get_text())\n",
    "                    else:\n",
    "                        print(\"Rating not available.\")\n",
    "\n",
    "                    if votes is not None:\n",
    "                        print(\"Name: \", votes.get_text())\n",
    "                        final_df['votes'].append(votes.get_text())\n",
    "                    elif votes_cl is not None:\n",
    "                        print(\"Name: \", votes_cl.get_text())\n",
    "                        final_df['votes'].append(votes_cl.get_text())\n",
    "                    else:\n",
    "                        print(\"Votes are not available.\")\n",
    "\n",
    "\n",
    "                    if address is not None:\n",
    "                        print(\"Address: \", address.get_text())\n",
    "                        final_df['address'].append(address.get_text())\n",
    "                    elif address_cl is not None:\n",
    "                        print(\"Address: \", address_cl.get_text())\n",
    "                        final_df['address'].append(address_cl.get_text())\n",
    "                    else:\n",
    "                        print(\"Address not availble\")\n",
    "                        \n",
    "                        \n",
    "                       \n",
    "    return final_df"
   ]
  },
  {
   "cell_type": "code",
   "execution_count": 28,
   "id": "0e1ff94c",
   "metadata": {},
   "outputs": [
    {
     "data": {
      "text/html": [
       "<div>\n",
       "<style scoped>\n",
       "    .dataframe tbody tr th:only-of-type {\n",
       "        vertical-align: middle;\n",
       "    }\n",
       "\n",
       "    .dataframe tbody tr th {\n",
       "        vertical-align: top;\n",
       "    }\n",
       "\n",
       "    .dataframe thead th {\n",
       "        text-align: right;\n",
       "    }\n",
       "</style>\n",
       "<table border=\"1\" class=\"dataframe\">\n",
       "  <thead>\n",
       "    <tr style=\"text-align: right;\">\n",
       "      <th></th>\n",
       "      <th>SVAAS_ID</th>\n",
       "      <th>firstName</th>\n",
       "      <th>lastName</th>\n",
       "      <th>name</th>\n",
       "      <th>baseCity</th>\n",
       "      <th>query</th>\n",
       "    </tr>\n",
       "  </thead>\n",
       "  <tbody>\n",
       "    <tr>\n",
       "      <th>17</th>\n",
       "      <td>3</td>\n",
       "      <td>Divya</td>\n",
       "      <td>Kavuri</td>\n",
       "      <td>Apollo Clinic</td>\n",
       "      <td>Hyderabad</td>\n",
       "      <td>divya+kavuri+apollo clinic+hyderabad</td>\n",
       "    </tr>\n",
       "    <tr>\n",
       "      <th>18</th>\n",
       "      <td>4</td>\n",
       "      <td>Shivam</td>\n",
       "      <td>P</td>\n",
       "      <td>Shivam hospitals</td>\n",
       "      <td>Hyderabad</td>\n",
       "      <td>shivam+p+shivam hospitals+hyderabad</td>\n",
       "    </tr>\n",
       "    <tr>\n",
       "      <th>19</th>\n",
       "      <td>5</td>\n",
       "      <td>Ranjan</td>\n",
       "      <td>Dey</td>\n",
       "      <td>Ranjan skin clinics</td>\n",
       "      <td>Hyderabad</td>\n",
       "      <td>ranjan+dey+ranjan skin clinics+hyderabad</td>\n",
       "    </tr>\n",
       "    <tr>\n",
       "      <th>20</th>\n",
       "      <td>6</td>\n",
       "      <td>Soumya</td>\n",
       "      <td>Sarkar</td>\n",
       "      <td>Soumya Multi speciality clinic</td>\n",
       "      <td>Hyderabad</td>\n",
       "      <td>soumya+sarkar+soumya multi speciality clinic+h...</td>\n",
       "    </tr>\n",
       "    <tr>\n",
       "      <th>21</th>\n",
       "      <td>7</td>\n",
       "      <td>Rishanku</td>\n",
       "      <td>Goyal</td>\n",
       "      <td>RKG Eye Center</td>\n",
       "      <td>Hyderabad</td>\n",
       "      <td>rishanku+goyal+rkg eye center+hyderabad</td>\n",
       "    </tr>\n",
       "    <tr>\n",
       "      <th>22</th>\n",
       "      <td>8</td>\n",
       "      <td>Mamatha</td>\n",
       "      <td>R</td>\n",
       "      <td>Mamatha Clinics</td>\n",
       "      <td>Hyderabad</td>\n",
       "      <td>mamatha+r+mamatha clinics+hyderabad</td>\n",
       "    </tr>\n",
       "    <tr>\n",
       "      <th>24</th>\n",
       "      <td>150</td>\n",
       "      <td>Ravi</td>\n",
       "      <td>Pallapolu</td>\n",
       "      <td>SAI KEERTHI CHILDREN AND DENTAL CLINIC</td>\n",
       "      <td>Hyderabad</td>\n",
       "      <td>ravi+pallapolu+sai keerthi children and dental...</td>\n",
       "    </tr>\n",
       "    <tr>\n",
       "      <th>25</th>\n",
       "      <td>159</td>\n",
       "      <td>B</td>\n",
       "      <td>Ramesh</td>\n",
       "      <td>Aditya Medical Complex</td>\n",
       "      <td>Visakhapatnam</td>\n",
       "      <td>b +ramesh+aditya medical complex+visakhapatnam</td>\n",
       "    </tr>\n",
       "    <tr>\n",
       "      <th>26</th>\n",
       "      <td>160</td>\n",
       "      <td>V V</td>\n",
       "      <td>Satya Sekhar</td>\n",
       "      <td>Mamata Hospital</td>\n",
       "      <td>Visakhapatnam</td>\n",
       "      <td>v v +satya sekhar+mamata hospital+visakhapatnam</td>\n",
       "    </tr>\n",
       "    <tr>\n",
       "      <th>27</th>\n",
       "      <td>161</td>\n",
       "      <td>V</td>\n",
       "      <td>Ravi Chandra</td>\n",
       "      <td>SG Ortho Care</td>\n",
       "      <td>Visakhapatnam</td>\n",
       "      <td>v+ravi chandra+sg ortho care+visakhapatnam</td>\n",
       "    </tr>\n",
       "    <tr>\n",
       "      <th>28</th>\n",
       "      <td>162</td>\n",
       "      <td>L S</td>\n",
       "      <td>Appala Naidu</td>\n",
       "      <td>Visakha Multispeciality Clinics</td>\n",
       "      <td>Visakhapatnam</td>\n",
       "      <td>l s +appala naidu+visakha multispeciality clin...</td>\n",
       "    </tr>\n",
       "    <tr>\n",
       "      <th>29</th>\n",
       "      <td>163</td>\n",
       "      <td>V</td>\n",
       "      <td>Chandra Sekharam</td>\n",
       "      <td>Chandra Sekharam clinic</td>\n",
       "      <td>Visakhapatnam</td>\n",
       "      <td>v +chandra sekharam+chandra sekharam clinic+vi...</td>\n",
       "    </tr>\n",
       "    <tr>\n",
       "      <th>30</th>\n",
       "      <td>164</td>\n",
       "      <td>Sreeniavsa Rao</td>\n",
       "      <td>Reddy</td>\n",
       "      <td>Sri Srinivasa Gastro &amp; Liver Centre</td>\n",
       "      <td>Visakhapatnam</td>\n",
       "      <td>sreeniavsa rao+reddy+sri srinivasa gastro &amp; li...</td>\n",
       "    </tr>\n",
       "    <tr>\n",
       "      <th>31</th>\n",
       "      <td>165</td>\n",
       "      <td>J K</td>\n",
       "      <td>Vijay Kumar</td>\n",
       "      <td>Urocare</td>\n",
       "      <td>Visakhapatnam</td>\n",
       "      <td>j k +vijay kumar+urocare+visakhapatnam</td>\n",
       "    </tr>\n",
       "    <tr>\n",
       "      <th>32</th>\n",
       "      <td>166</td>\n",
       "      <td>Chodisetti</td>\n",
       "      <td>Subbarao</td>\n",
       "      <td>Samudra Hospital</td>\n",
       "      <td>Visakhapatnam</td>\n",
       "      <td>chodisetti +subbarao+samudra hospital+visakhap...</td>\n",
       "    </tr>\n",
       "    <tr>\n",
       "      <th>33</th>\n",
       "      <td>167</td>\n",
       "      <td>B S</td>\n",
       "      <td>Kalyani</td>\n",
       "      <td>Dr. B. S Kalyani Bharathi Hospital</td>\n",
       "      <td>Visakhapatnam</td>\n",
       "      <td>b s +kalyani+dr. b. s kalyani bharathi hospita...</td>\n",
       "    </tr>\n",
       "    <tr>\n",
       "      <th>34</th>\n",
       "      <td>168</td>\n",
       "      <td>K  V</td>\n",
       "      <td>Nageswar Rao</td>\n",
       "      <td>Kotagiri Clinic</td>\n",
       "      <td>Visakhapatnam</td>\n",
       "      <td>k  v+nageswar rao+kotagiri clinic+visakhapatnam</td>\n",
       "    </tr>\n",
       "    <tr>\n",
       "      <th>35</th>\n",
       "      <td>169</td>\n",
       "      <td>Mohammed</td>\n",
       "      <td>Akbar</td>\n",
       "      <td>Gastro &amp; Liver Clinic</td>\n",
       "      <td>Visakhapatnam</td>\n",
       "      <td>mohammed+akbar+gastro &amp; liver clinic+visakhapa...</td>\n",
       "    </tr>\n",
       "    <tr>\n",
       "      <th>36</th>\n",
       "      <td>170</td>\n",
       "      <td>Sravani</td>\n",
       "      <td>Sandhya</td>\n",
       "      <td>Aura Skin &amp; Hair Clinic</td>\n",
       "      <td>Visakhapatnam</td>\n",
       "      <td>sravani +sandhya+aura skin &amp; hair clinic+visak...</td>\n",
       "    </tr>\n",
       "    <tr>\n",
       "      <th>37</th>\n",
       "      <td>171</td>\n",
       "      <td>Komanapalli</td>\n",
       "      <td>Sowjanya</td>\n",
       "      <td>Padmaja Hospital</td>\n",
       "      <td>Visakhapatnam</td>\n",
       "      <td>komanapalli+sowjanya +padmaja hospital+visakha...</td>\n",
       "    </tr>\n",
       "  </tbody>\n",
       "</table>\n",
       "</div>"
      ],
      "text/plain": [
       "    SVAAS_ID       firstName          lastName  \\\n",
       "17         3           Divya            Kavuri   \n",
       "18         4          Shivam                 P   \n",
       "19         5          Ranjan               Dey   \n",
       "20         6          Soumya            Sarkar   \n",
       "21         7        Rishanku             Goyal   \n",
       "22         8         Mamatha                 R   \n",
       "24       150            Ravi         Pallapolu   \n",
       "25       159              B             Ramesh   \n",
       "26       160            V V       Satya Sekhar   \n",
       "27       161               V      Ravi Chandra   \n",
       "28       162            L S       Appala Naidu   \n",
       "29       163              V   Chandra Sekharam   \n",
       "30       164  Sreeniavsa Rao             Reddy   \n",
       "31       165            J K        Vijay Kumar   \n",
       "32       166     Chodisetti           Subbarao   \n",
       "33       167            B S            Kalyani   \n",
       "34       168            K  V      Nageswar Rao   \n",
       "35       169        Mohammed             Akbar   \n",
       "36       170        Sravani            Sandhya   \n",
       "37       171     Komanapalli         Sowjanya    \n",
       "\n",
       "                                      name       baseCity  \\\n",
       "17                           Apollo Clinic      Hyderabad   \n",
       "18                        Shivam hospitals      Hyderabad   \n",
       "19                     Ranjan skin clinics      Hyderabad   \n",
       "20          Soumya Multi speciality clinic      Hyderabad   \n",
       "21                          RKG Eye Center      Hyderabad   \n",
       "22                         Mamatha Clinics      Hyderabad   \n",
       "24  SAI KEERTHI CHILDREN AND DENTAL CLINIC      Hyderabad   \n",
       "25                  Aditya Medical Complex  Visakhapatnam   \n",
       "26                         Mamata Hospital  Visakhapatnam   \n",
       "27                           SG Ortho Care  Visakhapatnam   \n",
       "28         Visakha Multispeciality Clinics  Visakhapatnam   \n",
       "29                 Chandra Sekharam clinic  Visakhapatnam   \n",
       "30     Sri Srinivasa Gastro & Liver Centre  Visakhapatnam   \n",
       "31                                 Urocare  Visakhapatnam   \n",
       "32                        Samudra Hospital  Visakhapatnam   \n",
       "33      Dr. B. S Kalyani Bharathi Hospital  Visakhapatnam   \n",
       "34                         Kotagiri Clinic  Visakhapatnam   \n",
       "35                   Gastro & Liver Clinic  Visakhapatnam   \n",
       "36                 Aura Skin & Hair Clinic  Visakhapatnam   \n",
       "37                        Padmaja Hospital  Visakhapatnam   \n",
       "\n",
       "                                                query  \n",
       "17               divya+kavuri+apollo clinic+hyderabad  \n",
       "18                shivam+p+shivam hospitals+hyderabad  \n",
       "19           ranjan+dey+ranjan skin clinics+hyderabad  \n",
       "20  soumya+sarkar+soumya multi speciality clinic+h...  \n",
       "21            rishanku+goyal+rkg eye center+hyderabad  \n",
       "22                mamatha+r+mamatha clinics+hyderabad  \n",
       "24  ravi+pallapolu+sai keerthi children and dental...  \n",
       "25     b +ramesh+aditya medical complex+visakhapatnam  \n",
       "26    v v +satya sekhar+mamata hospital+visakhapatnam  \n",
       "27         v+ravi chandra+sg ortho care+visakhapatnam  \n",
       "28  l s +appala naidu+visakha multispeciality clin...  \n",
       "29  v +chandra sekharam+chandra sekharam clinic+vi...  \n",
       "30  sreeniavsa rao+reddy+sri srinivasa gastro & li...  \n",
       "31             j k +vijay kumar+urocare+visakhapatnam  \n",
       "32  chodisetti +subbarao+samudra hospital+visakhap...  \n",
       "33  b s +kalyani+dr. b. s kalyani bharathi hospita...  \n",
       "34    k  v+nageswar rao+kotagiri clinic+visakhapatnam  \n",
       "35  mohammed+akbar+gastro & liver clinic+visakhapa...  \n",
       "36  sravani +sandhya+aura skin & hair clinic+visak...  \n",
       "37  komanapalli+sowjanya +padmaja hospital+visakha...  "
      ]
     },
     "execution_count": 28,
     "metadata": {},
     "output_type": "execute_result"
    }
   ],
   "source": [
    "df_not_missing[:20]"
   ]
  },
  {
   "cell_type": "code",
   "execution_count": 29,
   "id": "f3359b65",
   "metadata": {},
   "outputs": [
    {
     "name": "stderr",
     "output_type": "stream",
     "text": [
      "\r",
      "  0%|                                                    | 0/20 [00:00<?, ?it/s]"
     ]
    },
    {
     "name": "stdout",
     "output_type": "stream",
     "text": [
      "Link searched for:  https://www.practo.com/hyderabad/doctor/divya-varikallu-general-practitioner\n"
     ]
    },
    {
     "name": "stderr",
     "output_type": "stream",
     "text": [
      "\r",
      "  5%|██▏                                         | 1/20 [00:04<01:28,  4.68s/it]"
     ]
    },
    {
     "name": "stdout",
     "output_type": "stream",
     "text": [
      "Name:  Dr. Divya Varikallu\n",
      "Speciality:  General Practitioner\n",
      "Rating:  5.0\n",
      "Votes are not available.\n",
      "Address:  61B, Sri Ram Nagar Colony, Botanical Garden Road, Landmark: Beside Lane of Burfighar Sweet Shop &  State Bank of India Lane, Hyderabad\n",
      "Link searched for:  https://www.practo.com/hyderabad/clinic/shivam-clinic-kphb\n"
     ]
    },
    {
     "name": "stderr",
     "output_type": "stream",
     "text": [
      "\r",
      " 10%|████▍                                       | 2/20 [00:08<01:13,  4.10s/it]"
     ]
    },
    {
     "name": "stdout",
     "output_type": "stream",
     "text": [
      "Name:  Shivam Clinic\n",
      "Speciality:  Orthopedics and Gynecology/Obstetrics Clinic\n",
      "Rating:  4.5\n",
      "Name:  (20 patient stories)\n",
      "Address:  22-1-81/2, Shop Number 9&10, Sree Nivasam, Y Junction, Shubodaya Colony, Kukatpally, Landmark: Near Hunaman Temple, Hyderabad\n",
      "Link searched for:  https://www.practo.com/kolkata/doctor/ranjan-kumar-dey-urologist/recommended\n"
     ]
    },
    {
     "name": "stderr",
     "output_type": "stream",
     "text": [
      "\r",
      " 15%|██████▌                                     | 3/20 [00:11<01:00,  3.57s/it]"
     ]
    },
    {
     "name": "stdout",
     "output_type": "stream",
     "text": [
      "Name:  Dr. Ranjan Kumar Dey\n",
      "Speciality:  Urologist\n",
      "Rating:  94% \n",
      "Name:  (184 votes)\n",
      "Address not availble\n",
      "Link searched for:  https://www.practo.com/kolkata/hospital/b-p-poddar-hospital-medical-research-new-alipore\n"
     ]
    },
    {
     "name": "stderr",
     "output_type": "stream",
     "text": [
      "\r",
      " 20%|████████▊                                   | 4/20 [00:14<00:53,  3.35s/it]"
     ]
    },
    {
     "name": "stdout",
     "output_type": "stream",
     "text": [
      "Name:  B P Poddar Hospital & Medical Research\n",
      "Speciality is not available.\n",
      "Rating not available.\n",
      "Votes are not available.\n",
      "Address not availble\n"
     ]
    },
    {
     "name": "stderr",
     "output_type": "stream",
     "text": [
      "\r",
      " 25%|███████████                                 | 5/20 [00:16<00:41,  2.75s/it]"
     ]
    },
    {
     "name": "stdout",
     "output_type": "stream",
     "text": [
      "Link searched for:  https://www.practo.com/hyderabad/doctor/mamatha-4-general-physician\n",
      "Name:  Dr. Mamatha\n",
      "Speciality:  General Physician\n",
      "Rating not available.\n",
      "Votes are not available.\n",
      "Address not availble\n",
      "Link searched for:  https://www.practo.com/hyderabad/doctor/dr-mamatha-ayurveda-1\n"
     ]
    },
    {
     "name": "stderr",
     "output_type": "stream",
     "text": [
      "\r",
      " 30%|█████████████▏                              | 6/20 [00:21<00:52,  3.72s/it]"
     ]
    },
    {
     "name": "stdout",
     "output_type": "stream",
     "text": [
      "Name:  Dr. Mamatha\n",
      "Speciality:  Ayurveda\n",
      "Rating not available.\n",
      "Votes are not available.\n",
      "Address:  #1-10-144, Temple Alwal Road, Alwal, Landmark: Behind Police Station., Hyderabad\n"
     ]
    },
    {
     "name": "stderr",
     "output_type": "stream",
     "text": [
      "\r",
      " 35%|███████████████▍                            | 7/20 [00:23<00:38,  2.99s/it]"
     ]
    },
    {
     "name": "stdout",
     "output_type": "stream",
     "text": [
      "Link searched for:  https://www.practo.com/visakhapatnam/doctor/dr-b-ramesh-1-psychiatrist\n"
     ]
    },
    {
     "name": "stderr",
     "output_type": "stream",
     "text": [
      "\r",
      " 40%|█████████████████▌                          | 8/20 [00:25<00:33,  2.83s/it]"
     ]
    },
    {
     "name": "stdout",
     "output_type": "stream",
     "text": [
      "Name:  Dr. B Ramesh\n",
      "Speciality:  Neuropsychiatrist\n",
      "Rating not available.\n",
      "Votes are not available.\n",
      "Address:  Sainath Plaza, Maharanipeta, Landmark: Opp KGH Clock Tower., Visakhapatnam\n"
     ]
    },
    {
     "name": "stderr",
     "output_type": "stream",
     "text": [
      " 50%|█████████████████████▌                     | 10/20 [00:29<00:22,  2.25s/it]"
     ]
    },
    {
     "name": "stdout",
     "output_type": "stream",
     "text": [
      "Link searched for:  https://www.practo.com/visakhapatnam/doctor/dr-appala-naidu-l-s-cardiologist\n"
     ]
    },
    {
     "name": "stderr",
     "output_type": "stream",
     "text": [
      "\r",
      " 55%|███████████████████████▋                   | 11/20 [00:31<00:21,  2.39s/it]"
     ]
    },
    {
     "name": "stdout",
     "output_type": "stream",
     "text": [
      "Name:  Dr. Appala Naidu L S\n",
      "Speciality:  General Physician\n",
      "Rating not available.\n",
      "Votes are not available.\n",
      "Address not availble\n"
     ]
    },
    {
     "name": "stderr",
     "output_type": "stream",
     "text": [
      "\r",
      " 60%|█████████████████████████▊                 | 12/20 [00:33<00:17,  2.20s/it]"
     ]
    },
    {
     "name": "stdout",
     "output_type": "stream",
     "text": [
      "Link searched for:  https://www.practo.com/visakhapatnam/doctor/dr-reddy-sreenivasa-rao-gastroenterologist\n",
      "Name:  Dr. Reddy Sreenivasa Rao\n",
      "Speciality:  Gastroenterologist\n",
      "Rating:  97% \n",
      "Name:  (303 votes)\n",
      "Address:  1st floor, MVV chambers, behind care-2 hospital,near KGH OP bus stop, Landmark: Opposite To care hospital backside, Visakhapatnam\n",
      "Link searched for:  https://www.practo.com/visakhapatnam/clinic/sri-srinivasa-gastro-and-liver-centre-maharanipeta\n"
     ]
    },
    {
     "name": "stderr",
     "output_type": "stream",
     "text": [
      "\r",
      " 65%|███████████████████████████▉               | 13/20 [00:38<00:20,  2.99s/it]"
     ]
    },
    {
     "name": "stdout",
     "output_type": "stream",
     "text": [
      "Name:  Sri Srinivasa Gastro And Liver Centre\n",
      "Speciality:  Gastroenterology Clinic\n",
      "Rating:  5.0\n",
      "Name:  (305 patient stories)\n",
      "Address:  1st floor, MVV chambers, behind care-2 hospital,near KGH OP bus stop, Landmark: Opposite To care hospital backside, Visakhapatnam\n",
      "Link searched for:  https://www.practo.com/visakhapatnam/doctor/dr-j-k-vijay-kumar-urologist\n"
     ]
    },
    {
     "name": "stderr",
     "output_type": "stream",
     "text": [
      "\r",
      " 70%|██████████████████████████████             | 14/20 [00:40<00:16,  2.79s/it]"
     ]
    },
    {
     "name": "stdout",
     "output_type": "stream",
     "text": [
      "Name:  Dr. J. k Vijay Kumar\n",
      "Speciality is not available.\n",
      "Rating not available.\n",
      "Votes are not available.\n",
      "Address not availble\n",
      "Link searched for:  https://www.practo.com/visakhapatnam/doctor/dr-chodisetti-subba-rao-urologist\n"
     ]
    },
    {
     "name": "stderr",
     "output_type": "stream",
     "text": [
      "\r",
      " 75%|████████████████████████████████▎          | 15/20 [00:42<00:13,  2.64s/it]"
     ]
    },
    {
     "name": "stdout",
     "output_type": "stream",
     "text": [
      "Name:  Dr. Chodisetti Subba Rao\n",
      "Speciality:  Urological Surgeon\n",
      "Rating:  5.0\n",
      "Votes are not available.\n",
      "Address:  10-50-80, Waltair Main Road, Landmark: Opposite Daspalla Executive Court, Visakhapatnam\n"
     ]
    },
    {
     "name": "stderr",
     "output_type": "stream",
     "text": [
      " 85%|████████████████████████████████████▌      | 17/20 [00:47<00:07,  2.36s/it]"
     ]
    },
    {
     "name": "stdout",
     "output_type": "stream",
     "text": [
      "Link searched for:  https://www.practo.com/visakhapatnam/doctor/mohammed-akbar-gastroenterologist\n"
     ]
    },
    {
     "name": "stderr",
     "output_type": "stream",
     "text": [
      "\r",
      " 90%|██████████████████████████████████████▋    | 18/20 [00:49<00:04,  2.37s/it]"
     ]
    },
    {
     "name": "stdout",
     "output_type": "stream",
     "text": [
      "Name:  Dr. Mohammed Akbar\n",
      "Speciality:  Gastroenterologist\n",
      "Rating not available.\n",
      "Votes are not available.\n",
      "Address:  Near KGH, Collector Offce Junction, Visakhapatnam\n",
      "Link searched for:  https://www.practo.com/visakhapatnam/doctor/dr-sravani-sandhya-b-dermatologist-cosmetologist\n"
     ]
    },
    {
     "name": "stderr",
     "output_type": "stream",
     "text": [
      "\r",
      " 95%|████████████████████████████████████████▊  | 19/20 [00:52<00:02,  2.42s/it]"
     ]
    },
    {
     "name": "stdout",
     "output_type": "stream",
     "text": [
      "Name:  Dr. Sravani Sandhya B\n",
      "Speciality:  Dermatologist\n",
      "Rating:  84% \n",
      "Name:  (19 votes)\n",
      "Address:  #50-49-43/4, TPT Colony, Seethammadhara., Landmark: Opposite Hindu Press., Visakhapatnam\n",
      "Link searched for:  https://www.practo.com/visakhapatnam/doctor/dr-ch-s-padmaja-gynecologist-obstetrician\n",
      "Name:  Dr. CH.S Padmaja\n",
      "Speciality:  Gynecologist\n",
      "Rating not available.\n",
      "Votes are not available.\n",
      "Address:  Seethammadara Jn,Visakhapatnam ,Landmark: Near Alluramalinga Statue., Visakhapatnam\n",
      "Link searched for:  https://www.practo.com/visakhapatnam/doctor/a-soujanya-psychiatrist\n"
     ]
    },
    {
     "name": "stderr",
     "output_type": "stream",
     "text": [
      "100%|███████████████████████████████████████████| 20/20 [00:55<00:00,  2.78s/it]"
     ]
    },
    {
     "name": "stdout",
     "output_type": "stream",
     "text": [
      "Name:  Dr. A.Soujanya\n",
      "Speciality:  Neuropsychiatrist\n",
      "Rating:  96% \n",
      "Name:  (28 votes)\n",
      "Address:  KGH Down, Landmark: Near Apollo Hospitals, Visakhapatnam\n"
     ]
    },
    {
     "name": "stderr",
     "output_type": "stream",
     "text": [
      "\n"
     ]
    }
   ],
   "source": [
    "final_df = extractReviews(df_not_missing)"
   ]
  },
  {
   "cell_type": "code",
   "execution_count": 32,
   "id": "4220a0a9",
   "metadata": {},
   "outputs": [],
   "source": [
    "df_final = pd.DataFrame.from_dict(final_df, orient=\"index\").T"
   ]
  },
  {
   "cell_type": "markdown",
   "id": "bec36300",
   "metadata": {},
   "source": [
    "practo: name, address, working days, phone, speciality"
   ]
  },
  {
   "cell_type": "code",
   "execution_count": 34,
   "id": "b5147083",
   "metadata": {},
   "outputs": [
    {
     "data": {
      "text/html": [
       "<div>\n",
       "<style scoped>\n",
       "    .dataframe tbody tr th:only-of-type {\n",
       "        vertical-align: middle;\n",
       "    }\n",
       "\n",
       "    .dataframe tbody tr th {\n",
       "        vertical-align: top;\n",
       "    }\n",
       "\n",
       "    .dataframe thead th {\n",
       "        text-align: right;\n",
       "    }\n",
       "</style>\n",
       "<table border=\"1\" class=\"dataframe\">\n",
       "  <thead>\n",
       "    <tr style=\"text-align: right;\">\n",
       "      <th></th>\n",
       "      <th>SVAAS_ID</th>\n",
       "      <th>name</th>\n",
       "      <th>speciality</th>\n",
       "      <th>rating</th>\n",
       "      <th>address</th>\n",
       "      <th>votes</th>\n",
       "    </tr>\n",
       "  </thead>\n",
       "  <tbody>\n",
       "    <tr>\n",
       "      <th>0</th>\n",
       "      <td>3</td>\n",
       "      <td>Dr. Divya Varikallu</td>\n",
       "      <td>General Practitioner</td>\n",
       "      <td>5.0</td>\n",
       "      <td>61B, Sri Ram Nagar Colony, Botanical Garden Ro...</td>\n",
       "      <td>(20 patient stories)</td>\n",
       "    </tr>\n",
       "    <tr>\n",
       "      <th>1</th>\n",
       "      <td>3</td>\n",
       "      <td>Dr. Divya Varikallu</td>\n",
       "      <td>General Practitioner</td>\n",
       "      <td>5.0</td>\n",
       "      <td>22-1-81/2, Shop Number 9&amp;10, Sree Nivasam, Y J...</td>\n",
       "      <td>(184 votes)</td>\n",
       "    </tr>\n",
       "    <tr>\n",
       "      <th>2</th>\n",
       "      <td>4</td>\n",
       "      <td>Shivam Clinic</td>\n",
       "      <td>Orthopedics and Gynecology/Obstetrics Clinic</td>\n",
       "      <td>4.5</td>\n",
       "      <td>#1-10-144, Temple Alwal Road, Alwal, Landmark:...</td>\n",
       "      <td>(303 votes)</td>\n",
       "    </tr>\n",
       "    <tr>\n",
       "      <th>3</th>\n",
       "      <td>5</td>\n",
       "      <td>Dr. Ranjan Kumar Dey</td>\n",
       "      <td>Urologist</td>\n",
       "      <td>94%</td>\n",
       "      <td>Sainath Plaza, Maharanipeta, Landmark: Opp KGH...</td>\n",
       "      <td>(305 patient stories)</td>\n",
       "    </tr>\n",
       "    <tr>\n",
       "      <th>4</th>\n",
       "      <td>6</td>\n",
       "      <td>B P Poddar Hospital &amp; Medical Research</td>\n",
       "      <td>General Physician</td>\n",
       "      <td>97%</td>\n",
       "      <td>1st floor, MVV chambers, behind care-2 hospita...</td>\n",
       "      <td>(19 votes)</td>\n",
       "    </tr>\n",
       "    <tr>\n",
       "      <th>5</th>\n",
       "      <td>8</td>\n",
       "      <td>Dr. Mamatha</td>\n",
       "      <td>Ayurveda</td>\n",
       "      <td>5.0</td>\n",
       "      <td>1st floor, MVV chambers, behind care-2 hospita...</td>\n",
       "      <td>(28 votes)</td>\n",
       "    </tr>\n",
       "    <tr>\n",
       "      <th>6</th>\n",
       "      <td>8</td>\n",
       "      <td>Dr. Mamatha</td>\n",
       "      <td>Neuropsychiatrist</td>\n",
       "      <td>5.0</td>\n",
       "      <td>10-50-80, Waltair Main Road, Landmark: Opposit...</td>\n",
       "      <td>None</td>\n",
       "    </tr>\n",
       "    <tr>\n",
       "      <th>7</th>\n",
       "      <td>159</td>\n",
       "      <td>Dr. B Ramesh</td>\n",
       "      <td>General Physician</td>\n",
       "      <td>84%</td>\n",
       "      <td>Near KGH, Collector Offce Junction, Visakhapatnam</td>\n",
       "      <td>None</td>\n",
       "    </tr>\n",
       "    <tr>\n",
       "      <th>8</th>\n",
       "      <td>162</td>\n",
       "      <td>Dr. Appala Naidu L S</td>\n",
       "      <td>Gastroenterologist</td>\n",
       "      <td>96%</td>\n",
       "      <td>#50-49-43/4, TPT Colony, Seethammadhara., Land...</td>\n",
       "      <td>None</td>\n",
       "    </tr>\n",
       "    <tr>\n",
       "      <th>9</th>\n",
       "      <td>164</td>\n",
       "      <td>Dr. Reddy Sreenivasa Rao</td>\n",
       "      <td>Gastroenterology Clinic</td>\n",
       "      <td>None</td>\n",
       "      <td>Seethammadara Jn,Visakhapatnam ,Landmark: Near...</td>\n",
       "      <td>None</td>\n",
       "    </tr>\n",
       "    <tr>\n",
       "      <th>10</th>\n",
       "      <td>164</td>\n",
       "      <td>Sri Srinivasa Gastro And Liver Centre</td>\n",
       "      <td>Urological Surgeon</td>\n",
       "      <td>None</td>\n",
       "      <td>KGH Down, Landmark: Near Apollo Hospitals, Vis...</td>\n",
       "      <td>None</td>\n",
       "    </tr>\n",
       "    <tr>\n",
       "      <th>11</th>\n",
       "      <td>165</td>\n",
       "      <td>Dr. J. k Vijay Kumar</td>\n",
       "      <td>Gastroenterologist</td>\n",
       "      <td>None</td>\n",
       "      <td>None</td>\n",
       "      <td>None</td>\n",
       "    </tr>\n",
       "    <tr>\n",
       "      <th>12</th>\n",
       "      <td>166</td>\n",
       "      <td>Dr. Chodisetti Subba Rao</td>\n",
       "      <td>Dermatologist</td>\n",
       "      <td>None</td>\n",
       "      <td>None</td>\n",
       "      <td>None</td>\n",
       "    </tr>\n",
       "    <tr>\n",
       "      <th>13</th>\n",
       "      <td>169</td>\n",
       "      <td>Dr. Mohammed Akbar</td>\n",
       "      <td>Gynecologist</td>\n",
       "      <td>None</td>\n",
       "      <td>None</td>\n",
       "      <td>None</td>\n",
       "    </tr>\n",
       "    <tr>\n",
       "      <th>14</th>\n",
       "      <td>170</td>\n",
       "      <td>Dr. Sravani Sandhya B</td>\n",
       "      <td>Neuropsychiatrist</td>\n",
       "      <td>None</td>\n",
       "      <td>None</td>\n",
       "      <td>None</td>\n",
       "    </tr>\n",
       "    <tr>\n",
       "      <th>15</th>\n",
       "      <td>171</td>\n",
       "      <td>Dr. CH.S Padmaja</td>\n",
       "      <td>None</td>\n",
       "      <td>None</td>\n",
       "      <td>None</td>\n",
       "      <td>None</td>\n",
       "    </tr>\n",
       "    <tr>\n",
       "      <th>16</th>\n",
       "      <td>171</td>\n",
       "      <td>Dr. A.Soujanya</td>\n",
       "      <td>None</td>\n",
       "      <td>None</td>\n",
       "      <td>None</td>\n",
       "      <td>None</td>\n",
       "    </tr>\n",
       "  </tbody>\n",
       "</table>\n",
       "</div>"
      ],
      "text/plain": [
       "   SVAAS_ID                                    name  \\\n",
       "0         3                     Dr. Divya Varikallu   \n",
       "1         3                     Dr. Divya Varikallu   \n",
       "2         4                           Shivam Clinic   \n",
       "3         5                    Dr. Ranjan Kumar Dey   \n",
       "4         6  B P Poddar Hospital & Medical Research   \n",
       "5         8                             Dr. Mamatha   \n",
       "6         8                             Dr. Mamatha   \n",
       "7       159                            Dr. B Ramesh   \n",
       "8       162                    Dr. Appala Naidu L S   \n",
       "9       164                Dr. Reddy Sreenivasa Rao   \n",
       "10      164   Sri Srinivasa Gastro And Liver Centre   \n",
       "11      165                    Dr. J. k Vijay Kumar   \n",
       "12      166                Dr. Chodisetti Subba Rao   \n",
       "13      169                      Dr. Mohammed Akbar   \n",
       "14      170                   Dr. Sravani Sandhya B   \n",
       "15      171                        Dr. CH.S Padmaja   \n",
       "16      171                          Dr. A.Soujanya   \n",
       "\n",
       "                                      speciality rating  \\\n",
       "0                           General Practitioner    5.0   \n",
       "1                           General Practitioner    5.0   \n",
       "2   Orthopedics and Gynecology/Obstetrics Clinic    4.5   \n",
       "3                                      Urologist   94%    \n",
       "4                              General Physician   97%    \n",
       "5                                       Ayurveda    5.0   \n",
       "6                              Neuropsychiatrist    5.0   \n",
       "7                              General Physician   84%    \n",
       "8                             Gastroenterologist   96%    \n",
       "9                        Gastroenterology Clinic   None   \n",
       "10                            Urological Surgeon   None   \n",
       "11                            Gastroenterologist   None   \n",
       "12                                 Dermatologist   None   \n",
       "13                                  Gynecologist   None   \n",
       "14                             Neuropsychiatrist   None   \n",
       "15                                          None   None   \n",
       "16                                          None   None   \n",
       "\n",
       "                                              address                  votes  \n",
       "0   61B, Sri Ram Nagar Colony, Botanical Garden Ro...   (20 patient stories)  \n",
       "1   22-1-81/2, Shop Number 9&10, Sree Nivasam, Y J...            (184 votes)  \n",
       "2   #1-10-144, Temple Alwal Road, Alwal, Landmark:...            (303 votes)  \n",
       "3   Sainath Plaza, Maharanipeta, Landmark: Opp KGH...  (305 patient stories)  \n",
       "4   1st floor, MVV chambers, behind care-2 hospita...             (19 votes)  \n",
       "5   1st floor, MVV chambers, behind care-2 hospita...             (28 votes)  \n",
       "6   10-50-80, Waltair Main Road, Landmark: Opposit...                   None  \n",
       "7   Near KGH, Collector Offce Junction, Visakhapatnam                   None  \n",
       "8   #50-49-43/4, TPT Colony, Seethammadhara., Land...                   None  \n",
       "9   Seethammadara Jn,Visakhapatnam ,Landmark: Near...                   None  \n",
       "10  KGH Down, Landmark: Near Apollo Hospitals, Vis...                   None  \n",
       "11                                               None                   None  \n",
       "12                                               None                   None  \n",
       "13                                               None                   None  \n",
       "14                                               None                   None  \n",
       "15                                               None                   None  \n",
       "16                                               None                   None  "
      ]
     },
     "execution_count": 34,
     "metadata": {},
     "output_type": "execute_result"
    }
   ],
   "source": [
    "df_final"
   ]
  },
  {
   "cell_type": "code",
   "execution_count": null,
   "id": "c18f7498",
   "metadata": {},
   "outputs": [],
   "source": [
    "pd.merge(df, df_final, how='outer').to_csv(\"full_output_30_aug_2022.csv\", index=False)"
   ]
  },
  {
   "cell_type": "code",
   "execution_count": null,
   "id": "0f593e5f",
   "metadata": {},
   "outputs": [],
   "source": [
    "pd.read_csv(\"full_output_30_aug_2022.csv\")"
   ]
  },
  {
   "cell_type": "code",
   "execution_count": null,
   "id": "78499a38",
   "metadata": {},
   "outputs": [],
   "source": [
    "df"
   ]
  },
  {
   "cell_type": "markdown",
   "id": "8d6bc02c",
   "metadata": {},
   "source": [
    "### Processing for NA"
   ]
  },
  {
   "cell_type": "code",
   "execution_count": null,
   "id": "bd4684a5",
   "metadata": {},
   "outputs": [],
   "source": [
    "df = pd.read_csv(\"full_output_30_aug_2022.csv\")\n",
    "df.head()"
   ]
  },
  {
   "cell_type": "code",
   "execution_count": null,
   "id": "5ca98276",
   "metadata": {},
   "outputs": [],
   "source": [
    "df_na = df[df['rating'].isna() == True]"
   ]
  },
  {
   "cell_type": "code",
   "execution_count": null,
   "id": "54a974ff",
   "metadata": {},
   "outputs": [],
   "source": [
    "df_na = df_na[df_na['firstName'].isna()!=True].drop('clinicName', axis=1)"
   ]
  },
  {
   "cell_type": "code",
   "execution_count": null,
   "id": "5b7d84a6",
   "metadata": {},
   "outputs": [],
   "source": [
    "df_na.columns = ['firstName', 'lastName', 'name', 'baseCity', 'GoogleNRs', 'googleRating']"
   ]
  },
  {
   "cell_type": "code",
   "execution_count": null,
   "id": "090c73e1",
   "metadata": {},
   "outputs": [],
   "source": [
    "df_na"
   ]
  },
  {
   "cell_type": "code",
   "execution_count": null,
   "id": "650730b0",
   "metadata": {},
   "outputs": [],
   "source": []
  }
 ],
 "metadata": {
  "kernelspec": {
   "display_name": "Python 3 (ipykernel)",
   "language": "python",
   "name": "python3"
  },
  "language_info": {
   "codemirror_mode": {
    "name": "ipython",
    "version": 3
   },
   "file_extension": ".py",
   "mimetype": "text/x-python",
   "name": "python",
   "nbconvert_exporter": "python",
   "pygments_lexer": "ipython3",
   "version": "3.9.13"
  },
  "vscode": {
   "interpreter": {
    "hash": "1152254d1e610f803db0a6fed8bc02d35ce78bc817c0aa9e797ec443b5cb6318"
   }
  }
 },
 "nbformat": 4,
 "nbformat_minor": 5
}
