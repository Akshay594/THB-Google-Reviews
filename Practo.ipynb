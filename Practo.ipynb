{
 "cells": [
  {
   "cell_type": "code",
   "execution_count": 1,
   "id": "1b862ef2",
   "metadata": {},
   "outputs": [],
   "source": [
    "import pandas as pd\n",
    "import re\n",
    "from tqdm import tqdm\n",
    "\n",
    "import matplotlib.pyplot as plt\n",
    "import numpy as np\n",
    "import locationtagger"
   ]
  },
  {
   "cell_type": "code",
   "execution_count": 2,
   "id": "644e6a25",
   "metadata": {},
   "outputs": [
    {
     "data": {
      "text/html": [
       "<div>\n",
       "<style scoped>\n",
       "    .dataframe tbody tr th:only-of-type {\n",
       "        vertical-align: middle;\n",
       "    }\n",
       "\n",
       "    .dataframe tbody tr th {\n",
       "        vertical-align: top;\n",
       "    }\n",
       "\n",
       "    .dataframe thead th {\n",
       "        text-align: right;\n",
       "    }\n",
       "</style>\n",
       "<table border=\"1\" class=\"dataframe\">\n",
       "  <thead>\n",
       "    <tr style=\"text-align: right;\">\n",
       "      <th></th>\n",
       "      <th>SVAAS_ID</th>\n",
       "      <th>user_id</th>\n",
       "      <th>firstName</th>\n",
       "      <th>middleName</th>\n",
       "      <th>lastName</th>\n",
       "      <th>email</th>\n",
       "      <th>phone</th>\n",
       "      <th>description</th>\n",
       "      <th>pan</th>\n",
       "      <th>mci</th>\n",
       "      <th>...</th>\n",
       "      <th>numberFollowUp</th>\n",
       "      <th>followUpDuration</th>\n",
       "      <th>insuranceProviderId</th>\n",
       "      <th>isActive</th>\n",
       "      <th>ABDM_Healthcare_Professional_ID</th>\n",
       "      <th>SVAAS_DOCTOR_ID</th>\n",
       "      <th>svaasClinicId</th>\n",
       "      <th>tbl_user_phone_number</th>\n",
       "      <th>name</th>\n",
       "      <th>location</th>\n",
       "    </tr>\n",
       "  </thead>\n",
       "  <tbody>\n",
       "    <tr>\n",
       "      <th>0</th>\n",
       "      <td>NaN</td>\n",
       "      <td>NaN</td>\n",
       "      <td>NaN</td>\n",
       "      <td>NaN</td>\n",
       "      <td>NaN</td>\n",
       "      <td>NaN</td>\n",
       "      <td>NaN</td>\n",
       "      <td>NaN</td>\n",
       "      <td>NaN</td>\n",
       "      <td>NaN</td>\n",
       "      <td>...</td>\n",
       "      <td>NaN</td>\n",
       "      <td>NaN</td>\n",
       "      <td>NaN</td>\n",
       "      <td>NaN</td>\n",
       "      <td>NaN</td>\n",
       "      <td>NaN</td>\n",
       "      <td>NaN</td>\n",
       "      <td>NaN</td>\n",
       "      <td>NaN</td>\n",
       "      <td>NaN</td>\n",
       "    </tr>\n",
       "    <tr>\n",
       "      <th>1</th>\n",
       "      <td>NaN</td>\n",
       "      <td>NaN</td>\n",
       "      <td>NaN</td>\n",
       "      <td>NaN</td>\n",
       "      <td>NaN</td>\n",
       "      <td>NaN</td>\n",
       "      <td>NaN</td>\n",
       "      <td>NaN</td>\n",
       "      <td>NaN</td>\n",
       "      <td>NaN</td>\n",
       "      <td>...</td>\n",
       "      <td>NaN</td>\n",
       "      <td>NaN</td>\n",
       "      <td>NaN</td>\n",
       "      <td>NaN</td>\n",
       "      <td>NaN</td>\n",
       "      <td>NaN</td>\n",
       "      <td>NaN</td>\n",
       "      <td>NaN</td>\n",
       "      <td>NaN</td>\n",
       "      <td>NaN</td>\n",
       "    </tr>\n",
       "    <tr>\n",
       "      <th>2</th>\n",
       "      <td>NaN</td>\n",
       "      <td>NaN</td>\n",
       "      <td>NaN</td>\n",
       "      <td>NaN</td>\n",
       "      <td>NaN</td>\n",
       "      <td>NaN</td>\n",
       "      <td>NaN</td>\n",
       "      <td>NaN</td>\n",
       "      <td>NaN</td>\n",
       "      <td>NaN</td>\n",
       "      <td>...</td>\n",
       "      <td>NaN</td>\n",
       "      <td>NaN</td>\n",
       "      <td>NaN</td>\n",
       "      <td>NaN</td>\n",
       "      <td>NaN</td>\n",
       "      <td>NaN</td>\n",
       "      <td>NaN</td>\n",
       "      <td>NaN</td>\n",
       "      <td>NaN</td>\n",
       "      <td>NaN</td>\n",
       "    </tr>\n",
       "    <tr>\n",
       "      <th>3</th>\n",
       "      <td>NaN</td>\n",
       "      <td>NaN</td>\n",
       "      <td>NaN</td>\n",
       "      <td>NaN</td>\n",
       "      <td>NaN</td>\n",
       "      <td>NaN</td>\n",
       "      <td>NaN</td>\n",
       "      <td>NaN</td>\n",
       "      <td>NaN</td>\n",
       "      <td>NaN</td>\n",
       "      <td>...</td>\n",
       "      <td>NaN</td>\n",
       "      <td>NaN</td>\n",
       "      <td>NaN</td>\n",
       "      <td>NaN</td>\n",
       "      <td>NaN</td>\n",
       "      <td>NaN</td>\n",
       "      <td>NaN</td>\n",
       "      <td>NaN</td>\n",
       "      <td>NaN</td>\n",
       "      <td>NaN</td>\n",
       "    </tr>\n",
       "    <tr>\n",
       "      <th>4</th>\n",
       "      <td>NaN</td>\n",
       "      <td>NaN</td>\n",
       "      <td>NaN</td>\n",
       "      <td>NaN</td>\n",
       "      <td>NaN</td>\n",
       "      <td>NaN</td>\n",
       "      <td>NaN</td>\n",
       "      <td>NaN</td>\n",
       "      <td>NaN</td>\n",
       "      <td>NaN</td>\n",
       "      <td>...</td>\n",
       "      <td>NaN</td>\n",
       "      <td>NaN</td>\n",
       "      <td>NaN</td>\n",
       "      <td>NaN</td>\n",
       "      <td>NaN</td>\n",
       "      <td>NaN</td>\n",
       "      <td>NaN</td>\n",
       "      <td>NaN</td>\n",
       "      <td>NaN</td>\n",
       "      <td>NaN</td>\n",
       "    </tr>\n",
       "  </tbody>\n",
       "</table>\n",
       "<p>5 rows × 53 columns</p>\n",
       "</div>"
      ],
      "text/plain": [
       "   SVAAS_ID  user_id firstName middleName lastName email  phone  description  \\\n",
       "0       NaN      NaN       NaN        NaN      NaN   NaN    NaN          NaN   \n",
       "1       NaN      NaN       NaN        NaN      NaN   NaN    NaN          NaN   \n",
       "2       NaN      NaN       NaN        NaN      NaN   NaN    NaN          NaN   \n",
       "3       NaN      NaN       NaN        NaN      NaN   NaN    NaN          NaN   \n",
       "4       NaN      NaN       NaN        NaN      NaN   NaN    NaN          NaN   \n",
       "\n",
       "   pan  mci  ... numberFollowUp followUpDuration insuranceProviderId isActive  \\\n",
       "0  NaN  NaN  ...            NaN              NaN                 NaN      NaN   \n",
       "1  NaN  NaN  ...            NaN              NaN                 NaN      NaN   \n",
       "2  NaN  NaN  ...            NaN              NaN                 NaN      NaN   \n",
       "3  NaN  NaN  ...            NaN              NaN                 NaN      NaN   \n",
       "4  NaN  NaN  ...            NaN              NaN                 NaN      NaN   \n",
       "\n",
       "  ABDM_Healthcare_Professional_ID SVAAS_DOCTOR_ID  svaasClinicId  \\\n",
       "0                             NaN             NaN            NaN   \n",
       "1                             NaN             NaN            NaN   \n",
       "2                             NaN             NaN            NaN   \n",
       "3                             NaN             NaN            NaN   \n",
       "4                             NaN             NaN            NaN   \n",
       "\n",
       "  tbl_user_phone_number  name location  \n",
       "0                   NaN   NaN      NaN  \n",
       "1                   NaN   NaN      NaN  \n",
       "2                   NaN   NaN      NaN  \n",
       "3                   NaN   NaN      NaN  \n",
       "4                   NaN   NaN      NaN  \n",
       "\n",
       "[5 rows x 53 columns]"
      ]
     },
     "execution_count": 2,
     "metadata": {},
     "output_type": "execute_result"
    }
   ],
   "source": [
    "df = pd.read_csv(\"google_review_29_08_v3.csv\")\n",
    "df.head()"
   ]
  },
  {
   "cell_type": "code",
   "execution_count": 3,
   "id": "2c48fe3d",
   "metadata": {},
   "outputs": [
    {
     "data": {
      "text/html": [
       "<div>\n",
       "<style scoped>\n",
       "    .dataframe tbody tr th:only-of-type {\n",
       "        vertical-align: middle;\n",
       "    }\n",
       "\n",
       "    .dataframe tbody tr th {\n",
       "        vertical-align: top;\n",
       "    }\n",
       "\n",
       "    .dataframe thead th {\n",
       "        text-align: right;\n",
       "    }\n",
       "</style>\n",
       "<table border=\"1\" class=\"dataframe\">\n",
       "  <thead>\n",
       "    <tr style=\"text-align: right;\">\n",
       "      <th></th>\n",
       "      <th>SVAAS_ID</th>\n",
       "      <th>firstName</th>\n",
       "      <th>lastName</th>\n",
       "      <th>name</th>\n",
       "      <th>baseCity</th>\n",
       "    </tr>\n",
       "  </thead>\n",
       "  <tbody>\n",
       "    <tr>\n",
       "      <th>0</th>\n",
       "      <td>NaN</td>\n",
       "      <td>NaN</td>\n",
       "      <td>NaN</td>\n",
       "      <td>NaN</td>\n",
       "      <td>NaN</td>\n",
       "    </tr>\n",
       "    <tr>\n",
       "      <th>1</th>\n",
       "      <td>NaN</td>\n",
       "      <td>NaN</td>\n",
       "      <td>NaN</td>\n",
       "      <td>NaN</td>\n",
       "      <td>NaN</td>\n",
       "    </tr>\n",
       "    <tr>\n",
       "      <th>2</th>\n",
       "      <td>NaN</td>\n",
       "      <td>NaN</td>\n",
       "      <td>NaN</td>\n",
       "      <td>NaN</td>\n",
       "      <td>NaN</td>\n",
       "    </tr>\n",
       "    <tr>\n",
       "      <th>3</th>\n",
       "      <td>NaN</td>\n",
       "      <td>NaN</td>\n",
       "      <td>NaN</td>\n",
       "      <td>NaN</td>\n",
       "      <td>NaN</td>\n",
       "    </tr>\n",
       "    <tr>\n",
       "      <th>4</th>\n",
       "      <td>NaN</td>\n",
       "      <td>NaN</td>\n",
       "      <td>NaN</td>\n",
       "      <td>NaN</td>\n",
       "      <td>NaN</td>\n",
       "    </tr>\n",
       "  </tbody>\n",
       "</table>\n",
       "</div>"
      ],
      "text/plain": [
       "   SVAAS_ID firstName lastName name baseCity\n",
       "0       NaN       NaN      NaN  NaN      NaN\n",
       "1       NaN       NaN      NaN  NaN      NaN\n",
       "2       NaN       NaN      NaN  NaN      NaN\n",
       "3       NaN       NaN      NaN  NaN      NaN\n",
       "4       NaN       NaN      NaN  NaN      NaN"
      ]
     },
     "execution_count": 3,
     "metadata": {},
     "output_type": "execute_result"
    }
   ],
   "source": [
    "df = df[['SVAAS_ID', 'firstName', 'lastName', 'name', 'baseCity']]\n",
    "df.head()"
   ]
  },
  {
   "cell_type": "code",
   "execution_count": 4,
   "id": "6e5eec07",
   "metadata": {},
   "outputs": [],
   "source": [
    "df_not_missing = df.dropna()"
   ]
  },
  {
   "cell_type": "code",
   "execution_count": 5,
   "id": "bbf3e6ea",
   "metadata": {},
   "outputs": [
    {
     "data": {
      "text/html": [
       "<div>\n",
       "<style scoped>\n",
       "    .dataframe tbody tr th:only-of-type {\n",
       "        vertical-align: middle;\n",
       "    }\n",
       "\n",
       "    .dataframe tbody tr th {\n",
       "        vertical-align: top;\n",
       "    }\n",
       "\n",
       "    .dataframe thead th {\n",
       "        text-align: right;\n",
       "    }\n",
       "</style>\n",
       "<table border=\"1\" class=\"dataframe\">\n",
       "  <thead>\n",
       "    <tr style=\"text-align: right;\">\n",
       "      <th></th>\n",
       "      <th>SVAAS_ID</th>\n",
       "      <th>firstName</th>\n",
       "      <th>lastName</th>\n",
       "      <th>name</th>\n",
       "      <th>baseCity</th>\n",
       "    </tr>\n",
       "  </thead>\n",
       "  <tbody>\n",
       "    <tr>\n",
       "      <th>17</th>\n",
       "      <td>3.0</td>\n",
       "      <td>Divya</td>\n",
       "      <td>Kavuri</td>\n",
       "      <td>Apollo Clinic</td>\n",
       "      <td>Hyderabad</td>\n",
       "    </tr>\n",
       "    <tr>\n",
       "      <th>18</th>\n",
       "      <td>4.0</td>\n",
       "      <td>Shivam</td>\n",
       "      <td>P</td>\n",
       "      <td>Shivam hospitals</td>\n",
       "      <td>Hyderabad</td>\n",
       "    </tr>\n",
       "    <tr>\n",
       "      <th>19</th>\n",
       "      <td>5.0</td>\n",
       "      <td>Ranjan</td>\n",
       "      <td>Dey</td>\n",
       "      <td>Ranjan skin clinics</td>\n",
       "      <td>Hyderabad</td>\n",
       "    </tr>\n",
       "    <tr>\n",
       "      <th>20</th>\n",
       "      <td>6.0</td>\n",
       "      <td>Soumya</td>\n",
       "      <td>Sarkar</td>\n",
       "      <td>Soumya Multi speciality clinic</td>\n",
       "      <td>Hyderabad</td>\n",
       "    </tr>\n",
       "    <tr>\n",
       "      <th>21</th>\n",
       "      <td>7.0</td>\n",
       "      <td>Rishanku</td>\n",
       "      <td>Goyal</td>\n",
       "      <td>RKG Eye Center</td>\n",
       "      <td>Hyderabad</td>\n",
       "    </tr>\n",
       "  </tbody>\n",
       "</table>\n",
       "</div>"
      ],
      "text/plain": [
       "    SVAAS_ID firstName lastName                            name   baseCity\n",
       "17       3.0     Divya   Kavuri                   Apollo Clinic  Hyderabad\n",
       "18       4.0    Shivam        P                Shivam hospitals  Hyderabad\n",
       "19       5.0    Ranjan      Dey             Ranjan skin clinics  Hyderabad\n",
       "20       6.0    Soumya   Sarkar  Soumya Multi speciality clinic  Hyderabad\n",
       "21       7.0  Rishanku    Goyal                  RKG Eye Center  Hyderabad"
      ]
     },
     "execution_count": 5,
     "metadata": {},
     "output_type": "execute_result"
    }
   ],
   "source": [
    "df_not_missing.head()"
   ]
  },
  {
   "cell_type": "code",
   "execution_count": 6,
   "id": "bb40a816",
   "metadata": {},
   "outputs": [
    {
     "data": {
      "text/plain": [
       "SVAAS_ID     0\n",
       "firstName    0\n",
       "lastName     0\n",
       "name         0\n",
       "baseCity     0\n",
       "dtype: int64"
      ]
     },
     "execution_count": 6,
     "metadata": {},
     "output_type": "execute_result"
    }
   ],
   "source": [
    "df_not_missing.isna().sum()"
   ]
  },
  {
   "cell_type": "code",
   "execution_count": 7,
   "id": "33480c13",
   "metadata": {},
   "outputs": [
    {
     "data": {
      "text/plain": [
       "0.9879032258064516"
      ]
     },
     "execution_count": 7,
     "metadata": {},
     "output_type": "execute_result"
    }
   ],
   "source": [
    "len(df_not_missing)/len(df)"
   ]
  },
  {
   "cell_type": "code",
   "execution_count": 8,
   "id": "909ded9e",
   "metadata": {},
   "outputs": [
    {
     "name": "stderr",
     "output_type": "stream",
     "text": [
      "/var/folders/z1/0tn2v83n6pzgl2m8lzz1phbc0000gn/T/ipykernel_91558/4047833984.py:1: SettingWithCopyWarning: \n",
      "A value is trying to be set on a copy of a slice from a DataFrame.\n",
      "Try using .loc[row_indexer,col_indexer] = value instead\n",
      "\n",
      "See the caveats in the documentation: https://pandas.pydata.org/pandas-docs/stable/user_guide/indexing.html#returning-a-view-versus-a-copy\n",
      "  df_not_missing['query'] = df_not_missing['firstName'].apply(lambda x:x.lower()) +\"+\" + df_not_missing['lastName'].apply(lambda x:x.lower()) \\\n"
     ]
    }
   ],
   "source": [
    "df_not_missing['query'] = df_not_missing['firstName'].apply(lambda x:x.lower()) +\"+\" + df_not_missing['lastName'].apply(lambda x:x.lower()) \\\n",
    "                          +\"+\"+ df_not_missing['name'].apply(lambda x:x.lower()) + \"+\" + df_not_missing[\"baseCity\"].apply(lambda x:x.lower())"
   ]
  },
  {
   "cell_type": "code",
   "execution_count": 9,
   "id": "7683467c",
   "metadata": {},
   "outputs": [
    {
     "data": {
      "text/plain": [
       "(1715,)"
      ]
     },
     "execution_count": 9,
     "metadata": {},
     "output_type": "execute_result"
    }
   ],
   "source": [
    "df_not_missing['query'].values.shape"
   ]
  },
  {
   "cell_type": "markdown",
   "id": "8836fa3d",
   "metadata": {},
   "source": [
    "## For missing data"
   ]
  },
  {
   "cell_type": "code",
   "execution_count": 10,
   "id": "c0470c89",
   "metadata": {},
   "outputs": [],
   "source": [
    "import preprocess_kgptalkie as ps\n",
    "import re\n",
    "\n",
    "def get_clean(x):\n",
    "    x = str(x).lower().replace('\\\\', '').replace('_', ' ')\n",
    "    x = ps.cont_exp(x)\n",
    "    x = ps.remove_emails(x)\n",
    "    x = ps.remove_urls(x)\n",
    "    x = ps.remove_html_tags(x)\n",
    "    x = ps.remove_rt(x)\n",
    "    x = ps.remove_accented_chars(x)\n",
    "    x = ps.remove_special_chars(x)\n",
    "    x = re.sub(\"(.)\\\\1{2,}\", \"\\\\1\", x)\n",
    "    return x\n",
    "\n",
    "\n"
   ]
  },
  {
   "cell_type": "code",
   "execution_count": 11,
   "id": "4100283b",
   "metadata": {},
   "outputs": [
    {
     "name": "stderr",
     "output_type": "stream",
     "text": [
      "/var/folders/z1/0tn2v83n6pzgl2m8lzz1phbc0000gn/T/ipykernel_91558/4195452832.py:1: SettingWithCopyWarning: \n",
      "A value is trying to be set on a copy of a slice from a DataFrame.\n",
      "Try using .loc[row_indexer,col_indexer] = value instead\n",
      "\n",
      "See the caveats in the documentation: https://pandas.pydata.org/pandas-docs/stable/user_guide/indexing.html#returning-a-view-versus-a-copy\n",
      "  df_not_missing['SVAAS_ID'] = df_not_missing['SVAAS_ID'].astype('int')\n"
     ]
    }
   ],
   "source": [
    "df_not_missing['SVAAS_ID'] = df_not_missing['SVAAS_ID'].astype('int')"
   ]
  },
  {
   "cell_type": "code",
   "execution_count": 12,
   "id": "e2eafedb",
   "metadata": {},
   "outputs": [
    {
     "name": "stderr",
     "output_type": "stream",
     "text": [
      "/var/folders/z1/0tn2v83n6pzgl2m8lzz1phbc0000gn/T/ipykernel_91558/153722280.py:1: SettingWithCopyWarning: \n",
      "A value is trying to be set on a copy of a slice from a DataFrame.\n",
      "Try using .loc[row_indexer,col_indexer] = value instead\n",
      "\n",
      "See the caveats in the documentation: https://pandas.pydata.org/pandas-docs/stable/user_guide/indexing.html#returning-a-view-versus-a-copy\n",
      "  df_not_missing['query'] = df_not_missing['query'].apply(lambda x:ps.remove_accented_chars(x))\n"
     ]
    },
    {
     "data": {
      "text/plain": [
       "17                 divya+kavuri+apollo clinic+hyderabad\n",
       "18                  shivam+p+shivam hospitals+hyderabad\n",
       "19             ranjan+dey+ranjan skin clinics+hyderabad\n",
       "20    soumya+sarkar+soumya multi speciality clinic+h...\n",
       "21              rishanku+goyal+rkg eye center+hyderabad\n",
       "Name: query, dtype: object"
      ]
     },
     "execution_count": 12,
     "metadata": {},
     "output_type": "execute_result"
    }
   ],
   "source": [
    "df_not_missing['query'] = df_not_missing['query'].apply(lambda x:ps.remove_accented_chars(x))\n",
    "df_not_missing['query'].head()"
   ]
  },
  {
   "cell_type": "code",
   "execution_count": 13,
   "id": "6bd5d1c1",
   "metadata": {},
   "outputs": [],
   "source": [
    "from collections import defaultdict\n",
    "\n",
    "final_df = defaultdict(list)"
   ]
  },
  {
   "cell_type": "code",
   "execution_count": 14,
   "id": "82cc7b64",
   "metadata": {},
   "outputs": [],
   "source": [
    "def isDigit(char):\n",
    "    pattern = \"^[-+]?[0-9]*\\.?[0-9]+(e[-+]?[0-9]+)?$\"\n",
    "    reg = re.compile(pattern)\n",
    "    if reg.match(char):\n",
    "        return True\n",
    "    return False"
   ]
  },
  {
   "cell_type": "code",
   "execution_count": 15,
   "id": "974664b5",
   "metadata": {},
   "outputs": [],
   "source": [
    "import requests\n",
    "from bs4 import BeautifulSoup\n",
    "import re\n",
    "\n",
    "def getLinkFromUrl(query):\n",
    "    link_values = []\n",
    "    cleaned_links = []\n",
    "    page = requests.get(query)\n",
    "    soup = BeautifulSoup(page.content)\n",
    "    links = soup.findAll(\"a\")\n",
    "    for link in  soup.find_all(\"a\",href=re.compile(\"(?<=/url\\?q=)(htt.*://.*)\")):\n",
    "        url = re.split(\":(?=http)\",link[\"href\"].replace(\"/url?q=\",\"\"))\n",
    "        link_values.append(str(url[0]))\n",
    "        \n",
    "    return link_values "
   ]
  },
  {
   "cell_type": "code",
   "execution_count": 16,
   "id": "a7f4e201",
   "metadata": {},
   "outputs": [],
   "source": [
    "links = getLinkFromUrl(query=\"https://google.com/search?q=shivam+p+shivam+hospitals+hyderabad\")"
   ]
  },
  {
   "cell_type": "code",
   "execution_count": 17,
   "id": "fa6f9898",
   "metadata": {},
   "outputs": [
    {
     "name": "stdout",
     "output_type": "stream",
     "text": [
      "https://www.justdial.com/Hyderabad/Shivam-Clinic-Near-Hanuman-Temple-Kukatpally/040PXX40-XX40-140310200923-M5T7_BZDET\n",
      "https://www.justdial.com/Hyderabad/Shivam-Clinic-Obg-Gynecology-and-Orthopedics-Near-Y-Junction-Kukatpally/040PXX40-XX40-150727214202-J1K7_BZDET\n",
      "https://www.practo.com/hyderabad/clinic/shivam-clinic-kphb\n",
      "https://drlogy.com/hospitals/shivam-clinic-23676\n",
      "https://www.timesmed.com/Hospital/Hyderabad/shivam-clinic-115461\n",
      "https://theshivamhospital.in/\n",
      "https://www.drmsanjayortho.com/\n",
      "https://ezz.health/hyderabad/hospitals/shivam-clinic-kukatpally\n",
      "http://www.shivamhospital.in/\n",
      "https://www.lybrate.com/hyderabad/clinic/shivam-clinic-kphb\n",
      "https://support.google.com/websearch\n",
      "https://accounts.google.com/ServiceLogin\n"
     ]
    }
   ],
   "source": [
    "for l in links:\n",
    "    if \"%\" in l:\n",
    "        link = l.split(\"%\")[0]\n",
    "        print(link)\n",
    "    elif \"&\" in l:\n",
    "        link = l.split(\"&\")[0]\n",
    "        print(link)"
   ]
  },
  {
   "cell_type": "code",
   "execution_count": 18,
   "id": "865468a8",
   "metadata": {},
   "outputs": [],
   "source": [
    "from bs4 import BeautifulSoup\n",
    "import urllib.request\n",
    "import numpy as np\n",
    "import requests\n",
    "import re\n",
    "\n",
    "    \n",
    "\n",
    "query=\"https://google.com/search?q=shivam+p+shivam+hospitals+hyderabad\"\n",
    "\n",
    "request = urllib.request.Request(query)\n",
    "request.add_header('User-Agent', 'Mozilla/5.0 (Macintosh; Intel Mac OS X 10_15_6) AppleWebKit/537.36 (KHTML, like Gecko) Chrome/87.0.4280.88 Safari/537.36')\n",
    "raw_response = urllib.request.urlopen(request).read()\n",
    "\n",
    "html = raw_response.decode(\"utf-8\")\n",
    "\n",
    "soup = BeautifulSoup(html, 'html.parser')\n",
    "\n",
    "links = soup.findAll(\"a\")\n",
    "for link in  soup.find_all(\"a\",href=re.compile(\"(?<=/url\\?q=)(htt.*://.*)\")):\n",
    "    print(re.split(\":(?=http)\",link[\"href\"].replace(\"/url?q=\",\"\")))\n"
   ]
  },
  {
   "cell_type": "code",
   "execution_count": 19,
   "id": "3732d754",
   "metadata": {},
   "outputs": [
    {
     "data": {
      "text/plain": [
       "True"
      ]
     },
     "execution_count": 19,
     "metadata": {},
     "output_type": "execute_result"
    }
   ],
   "source": [
    "\"practo\" in \"practo.com\""
   ]
  },
  {
   "cell_type": "code",
   "execution_count": 20,
   "id": "187c9c4c",
   "metadata": {},
   "outputs": [
    {
     "name": "stdout",
     "output_type": "stream",
     "text": [
      "Dr. Divya Varikallu\n",
      "General Practitioner\n",
      "61B, Sri Ram Nagar Colony, Botanical Garden Road, Landmark: Beside Lane of Burfighar Sweet Shop &  State Bank of India Lane, Hyderabad\n"
     ]
    }
   ],
   "source": [
    "from bs4 import BeautifulSoup\n",
    "import urllib.request\n",
    "import numpy as np\n",
    "from googlesearch import search   \n",
    "\n",
    "url = \"https://www.practo.com/hyderabad/doctor/divya-varikallu-general-practitioner\"\n",
    "request = urllib.request.Request(url)\n",
    "\n",
    "request.add_header('User-Agent', 'your bot 0.1')\n",
    "raw_response = urllib.request.urlopen(request).read()\n",
    "\n",
    "html = raw_response.decode(\"utf-8\")\n",
    "\n",
    "soup = BeautifulSoup(html, 'html.parser')\n",
    "\n",
    "heading = soup.find(\"h1\")\n",
    "speciality = soup.find(\"h2\", class_=\"u-d-inlineblock u-spacer--right-v-thin c-profile__details\")\n",
    "rating = soup.find(\"span\", class_=\"u-green-text u-bold u-large-font\")\n",
    "votes = soup.find(\"span\", class_=\"u-smallest-font u-grey_3-text\")\n",
    "address = soup.find(\"p\", class_=\"c-profile--clinic__address\")\n",
    "\n",
    "print(heading.get_text())\n",
    "print(speciality.get_text())\n",
    "# print(rating.get_text())\n",
    "# print(votes.get_text().strip(\")\").strip(\"(\"))\n",
    "print(address.get_text())\n"
   ]
  },
  {
   "cell_type": "code",
   "execution_count": 21,
   "id": "1350e677",
   "metadata": {},
   "outputs": [
    {
     "data": {
      "text/plain": [
       "17                      divyakavuriapollo clinichyderabad\n",
       "18                       shivampshivam hospitalshyderabad\n",
       "19                  ranjandeyranjan skin clinicshyderabad\n",
       "20      soumyasarkarsoumya multi speciality clinichyde...\n",
       "21                   rishankugoyalrkg eye centerhyderabad\n",
       "                              ...                        \n",
       "1731    kushangmodshivam children hospital and neonata...\n",
       "1732              dhavalakhanichildhood hospitalahmedabad\n",
       "1733    keval patelpateljk dental hospital orthodontic...\n",
       "1734    jinal patelpateljk dental hospital orthodontic...\n",
       "1735                      lavanyayasamsai clinichyderabad\n",
       "Name: query, Length: 1715, dtype: object"
      ]
     },
     "execution_count": 21,
     "metadata": {},
     "output_type": "execute_result"
    }
   ],
   "source": [
    "df_not_missing['query'].apply(lambda x:ps.remove_special_chars(x))"
   ]
  },
  {
   "cell_type": "code",
   "execution_count": 22,
   "id": "a6839852",
   "metadata": {},
   "outputs": [
    {
     "data": {
      "text/plain": [
       "False"
      ]
     },
     "execution_count": 22,
     "metadata": {},
     "output_type": "execute_result"
    }
   ],
   "source": [
    "set([\"doctor\"]).issubset(set(list(map(str.lower, link.split(\"/\")))))"
   ]
  },
  {
   "cell_type": "code",
   "execution_count": 23,
   "id": "c06e3a20",
   "metadata": {},
   "outputs": [],
   "source": [
    "from bs4 import BeautifulSoup\n",
    "import urllib.request\n",
    "import numpy as np\n",
    "from googlesearch import search   \n",
    "\n",
    "\n",
    "def extractReviews(df_not_missing):\n",
    "    queries = df_not_missing['query'].values\n",
    "\n",
    "    for i in tqdm(range(len(queries))):\n",
    "        query = queries[i]\n",
    "        query = \"+\".join(query.split(\" \"))\n",
    "        url = 'https://google.com/search?q=dr+'+query\n",
    "        \n",
    "        print(url)\n",
    "        \n",
    "        links = [link for link in getLinkFromUrl(url) if \"practo\" in link]\n",
    "        if len(links)>0:\n",
    "            link = links[0]\n",
    "            print(links[0])\n",
    "\n",
    "            if \"&\" in link:\n",
    "                print(link.split(\"&\"))\n",
    "                link_w = link.split(\"&\")[0]\n",
    "                link_w = '/'.join(i for i in link_w.split(\"/\") if not i.isdigit())\n",
    "            elif \"%\" in link:\n",
    "                print(link.split(\"%\"))\n",
    "                link_w = link.split(\"%\")[0]\n",
    "                link_w = '/'.join(i for i in link_w.split(\"/\") if not i.isdigit())\n",
    "            \n",
    "            \n",
    "            print(\"Link searched for: \", link_w)                    \n",
    "            print(\"*\" * 50)\n",
    "            \n",
    "            \n",
    "            try:\n",
    "                # Encoding the utf-values here by unquoting them\n",
    "                link_w = requests.utils.unquote(link_w)\n",
    "\n",
    "                request = urllib.request.Request(link_w)\n",
    "                request.add_header('User-Agent', 'Mozilla/5.0 (Macintosh; Intel Mac OS X 10_15_6) AppleWebKit/537.36 (KHTML, like Gecko) Chrome/87.0.4280.88 Safari/537.36')\n",
    "\n",
    "\n",
    "\n",
    "                raw_response = urllib.request.urlopen(request).read()\n",
    "                # Read the repsonse as a utf-8 string\n",
    "                html = raw_response.decode(\"utf-8\")\n",
    "\n",
    "                soup = BeautifulSoup(html, 'html.parser')\n",
    "\n",
    "                heading = soup.find(\"h1\")\n",
    "\n",
    "                # Dr data\n",
    "                speciality = soup.find(\"h2\", class_=\"u-d-inlineblock u-spacer--right-v-thin c-profile__details\")\n",
    "                rating = soup.find(\"span\", class_=\"u-green-text u-bold u-large-font\")\n",
    "                votes = soup.find(\"span\", class_=\"u-smallest-font u-grey_3-text\")\n",
    "                address = soup.find(\"p\", class_=\"c-profile--clinic__address\")\n",
    "\n",
    "                # clinic data\n",
    "                speciality_cl = soup.find(\"h2\", attrs={\n",
    "                    \"data-qa-id\":\"clinic-speciality\"\n",
    "                })\n",
    "                rating_cl = soup.find(\"span\", class_=\"common__star-rating__value\")\n",
    "                votes_cl = soup.find(\"span\", attrs={\n",
    "                    \"data-qa-id\":\"clinic-votes\"\n",
    "                })\n",
    "                address_cl = soup.find(\"p\", class_=\"c-profile--clinic__address\")\n",
    "\n",
    "                final_df['SVAAS_ID'].append(df_not_missing.iloc[i]['SVAAS_ID'])\n",
    "                final_df['link'].append(link_w)\n",
    "\n",
    "\n",
    "                if heading is not None:\n",
    "                    print(\"Name: \", heading.get_text())\n",
    "                    final_df['name'].append(heading.get_text())\n",
    "                else:\n",
    "                    print(\"Heading is not availble\")\n",
    "                    final_df['name'].append(\"NA\")\n",
    "\n",
    "                if speciality is not None:\n",
    "                    print(\"Speciality: \", speciality.get_text())\n",
    "                    final_df['speciality'].append(speciality.get_text())\n",
    "                elif speciality_cl is not None:\n",
    "                    print(\"Speciality: \", speciality_cl.get_text())\n",
    "                    final_df['speciality'].append(speciality_cl.get_text())\n",
    "                else:\n",
    "                    print(\"Speciality is not available.\")\n",
    "                    final_df['speciality'].append(\"NA\")\n",
    "\n",
    "                if rating is not None:\n",
    "                    print(\"Rating: \", rating.get_text())\n",
    "                    final_df['rating'].append(rating.get_text())\n",
    "                elif rating_cl is not None:\n",
    "                    print(\"Rating: \", rating_cl.get_text())\n",
    "                    final_df['rating'].append(rating_cl.get_text())\n",
    "                else:\n",
    "                    print(\"Rating not available.\")\n",
    "                    final_df[\"rating\"].append(\"NA\")\n",
    "\n",
    "                if votes is not None:\n",
    "                    print(\"Name: \", votes.get_text())\n",
    "                    final_df['votes'].append(votes.get_text())\n",
    "                elif votes_cl is not None:\n",
    "                    print(\"Name: \", votes_cl.get_text())\n",
    "                    final_df['votes'].append(votes_cl.get_text())\n",
    "                else:\n",
    "                    print(\"Votes are not available.\")\n",
    "                    final_df['votes'].append(\"NA\")\n",
    "\n",
    "\n",
    "                if address is not None:\n",
    "                    print(\"Address: \", address.get_text())\n",
    "                    final_df['address'].append(address.get_text())\n",
    "                elif address_cl is not None:\n",
    "                    print(\"Address: \", address_cl.get_text())\n",
    "                    final_df['address'].append(address_cl.get_text())\n",
    "                else:\n",
    "                    final_df['address'].append(\"NA\")\n",
    "            \n",
    "            except Exception as e:\n",
    "                print(\"Error was: \", e)\n",
    "        \n",
    "        else:\n",
    "            print(\"Couldn't find any practo links.\")\n",
    "\n",
    "                        \n",
    "                       \n",
    "    return final_df"
   ]
  },
  {
   "cell_type": "code",
   "execution_count": null,
   "id": "f3359b65",
   "metadata": {},
   "outputs": [
    {
     "name": "stderr",
     "output_type": "stream",
     "text": [
      "\r",
      "  0%|                                                  | 0/1715 [00:00<?, ?it/s]"
     ]
    },
    {
     "name": "stdout",
     "output_type": "stream",
     "text": [
      "https://google.com/search?q=dr+divya+kavuri+apollo+clinic+hyderabad\n",
      "https://www.practo.com/hyderabad/doctor/divya-varikallu-general-practitioner&sa=U&ved=2ahUKEwjE7YTNwvr5AhX2KLkGHTf-A2oQFnoECAYQAg&usg=AOvVaw0-VFdGjj7tIkeZDl8jU7Jp\n",
      "['https://www.practo.com/hyderabad/doctor/divya-varikallu-general-practitioner', 'sa=U', 'ved=2ahUKEwjE7YTNwvr5AhX2KLkGHTf-A2oQFnoECAYQAg', 'usg=AOvVaw0-VFdGjj7tIkeZDl8jU7Jp']\n",
      "Link searched for:  https://www.practo.com/hyderabad/doctor/divya-varikallu-general-practitioner\n",
      "**************************************************\n"
     ]
    },
    {
     "name": "stderr",
     "output_type": "stream",
     "text": [
      "\r",
      "  0%|                                        | 1/1715 [00:04<2:14:50,  4.72s/it]"
     ]
    },
    {
     "name": "stdout",
     "output_type": "stream",
     "text": [
      "Name:  Dr. Divya Varikallu\n",
      "Speciality:  General Practitioner\n",
      "Rating:  5.0\n",
      "Votes are not available.\n",
      "Address:  61B, Sri Ram Nagar Colony, Botanical Garden Road, Landmark: Beside Lane of Burfighar Sweet Shop &  State Bank of India Lane, Hyderabad\n",
      "https://google.com/search?q=dr+shivam+p+shivam+hospitals+hyderabad\n",
      "https://www.practo.com/hyderabad/clinic/shivam-clinic-kphb&sa=U&ved=2ahUKEwjWtKXPwvr5AhVAIbkGHWD_BIMQFnoECAIQAg&usg=AOvVaw1_nLBcMsbCWzkP3Jmq5mK9\n",
      "['https://www.practo.com/hyderabad/clinic/shivam-clinic-kphb', 'sa=U', 'ved=2ahUKEwjWtKXPwvr5AhVAIbkGHWD_BIMQFnoECAIQAg', 'usg=AOvVaw1_nLBcMsbCWzkP3Jmq5mK9']\n",
      "Link searched for:  https://www.practo.com/hyderabad/clinic/shivam-clinic-kphb\n",
      "**************************************************\n"
     ]
    },
    {
     "name": "stderr",
     "output_type": "stream",
     "text": [
      "\r",
      "  0%|                                        | 2/1715 [00:09<2:09:59,  4.55s/it]"
     ]
    },
    {
     "name": "stdout",
     "output_type": "stream",
     "text": [
      "Name:  Shivam Clinic\n",
      "Speciality:  Orthopedics and Gynecology/Obstetrics Clinic\n",
      "Rating:  4.5\n",
      "Name:  (20 patient stories)\n",
      "Address:  22-1-81/2, Shop Number 9&10, Sree Nivasam, Y Junction, Shubodaya Colony, Kukatpally, Landmark: Near Hunaman Temple, Hyderabad\n",
      "https://google.com/search?q=dr+ranjan+dey+ranjan+skin+clinics+hyderabad\n",
      "https://www.practo.com/kolkata/doctor/ranjan-kumar-dey-urologist/recommended&sa=U&ved=2ahUKEwjYmLTRwvr5AhUpA7kGHbrKBWoQFnoECAQQAg&usg=AOvVaw1utech_eGb7EUKCD7ITtNf\n",
      "['https://www.practo.com/kolkata/doctor/ranjan-kumar-dey-urologist/recommended', 'sa=U', 'ved=2ahUKEwjYmLTRwvr5AhUpA7kGHbrKBWoQFnoECAQQAg', 'usg=AOvVaw1utech_eGb7EUKCD7ITtNf']\n",
      "Link searched for:  https://www.practo.com/kolkata/doctor/ranjan-kumar-dey-urologist/recommended\n",
      "**************************************************\n"
     ]
    },
    {
     "name": "stderr",
     "output_type": "stream",
     "text": [
      "\r",
      "  0%|                                        | 3/1715 [00:11<1:43:55,  3.64s/it]"
     ]
    },
    {
     "name": "stdout",
     "output_type": "stream",
     "text": [
      "Name:  Dr. Ranjan Kumar Dey\n",
      "Speciality:  Urologist\n",
      "Rating:  94% \n",
      "Name:  (184 votes)\n",
      "https://google.com/search?q=dr+soumya+sarkar+soumya+multi+speciality+clinic+hyderabad\n",
      "https://www.practo.com/kolkata/hospital/b-p-poddar-hospital-medical-research-new-alipore&sa=U&ved=2ahUKEwixy8_Swvr5AhWnBbkGHUUiBpQQFnoECAUQAg&usg=AOvVaw0XutCPcO7eAXCE5OQIqPBo\n",
      "['https://www.practo.com/kolkata/hospital/b-p-poddar-hospital-medical-research-new-alipore', 'sa=U', 'ved=2ahUKEwixy8_Swvr5AhWnBbkGHUUiBpQQFnoECAUQAg', 'usg=AOvVaw0XutCPcO7eAXCE5OQIqPBo']\n",
      "Link searched for:  https://www.practo.com/kolkata/hospital/b-p-poddar-hospital-medical-research-new-alipore\n",
      "**************************************************\n"
     ]
    },
    {
     "name": "stderr",
     "output_type": "stream",
     "text": [
      "\r",
      "  0%|                                        | 4/1715 [00:14<1:38:57,  3.47s/it]"
     ]
    },
    {
     "name": "stdout",
     "output_type": "stream",
     "text": [
      "Name:  B P Poddar Hospital & Medical Research\n",
      "Speciality is not available.\n",
      "Rating not available.\n",
      "Votes are not available.\n",
      "https://google.com/search?q=dr+rishanku+goyal+rkg+eye+center+hyderabad\n"
     ]
    },
    {
     "name": "stderr",
     "output_type": "stream",
     "text": [
      "\r",
      "  0%|                                        | 5/1715 [00:18<1:40:32,  3.53s/it]"
     ]
    },
    {
     "name": "stdout",
     "output_type": "stream",
     "text": [
      "Couldn't find any practo links.\n",
      "https://google.com/search?q=dr+mamatha+r+mamatha+clinics+hyderabad\n",
      "https://www.practo.com/hyderabad/doctor/mamatha-4-general-physician&sa=U&ved=2ahUKEwjirLvWwvr5AhV_GbkGHR67CScQFnoECAcQAg&usg=AOvVaw3a6W02dKN3WuntpTEzcnTx\n",
      "['https://www.practo.com/hyderabad/doctor/mamatha-4-general-physician', 'sa=U', 'ved=2ahUKEwjirLvWwvr5AhV_GbkGHR67CScQFnoECAcQAg', 'usg=AOvVaw3a6W02dKN3WuntpTEzcnTx']\n",
      "Link searched for:  https://www.practo.com/hyderabad/doctor/mamatha-4-general-physician\n",
      "**************************************************\n"
     ]
    },
    {
     "name": "stderr",
     "output_type": "stream",
     "text": [
      "\r",
      "  0%|▏                                       | 6/1715 [00:23<1:54:21,  4.01s/it]"
     ]
    },
    {
     "name": "stdout",
     "output_type": "stream",
     "text": [
      "Name:  Dr. Mamatha\n",
      "Speciality:  General Physician\n",
      "Rating not available.\n",
      "Votes are not available.\n",
      "https://google.com/search?q=dr+ravi+pallapolu+sai+keerthi+children+and+dental+clinic+hyderabad\n"
     ]
    },
    {
     "name": "stderr",
     "output_type": "stream",
     "text": [
      "\r",
      "  0%|▏                                       | 7/1715 [00:25<1:37:44,  3.43s/it]"
     ]
    },
    {
     "name": "stdout",
     "output_type": "stream",
     "text": [
      "Couldn't find any practo links.\n",
      "https://google.com/search?q=dr+b++ramesh+aditya+medical+complex+visakhapatnam\n",
      "https://www.practo.com/visakhapatnam/doctor/dr-b-ramesh-1-psychiatrist&sa=U&ved=2ahUKEwjopqjZwvr5AhVSDrkGHYSqB6AQFnoECAQQAg&usg=AOvVaw3cQq942qo92A7Y9ExODJSS\n",
      "['https://www.practo.com/visakhapatnam/doctor/dr-b-ramesh-1-psychiatrist', 'sa=U', 'ved=2ahUKEwjopqjZwvr5AhVSDrkGHYSqB6AQFnoECAQQAg', 'usg=AOvVaw3cQq942qo92A7Y9ExODJSS']\n",
      "Link searched for:  https://www.practo.com/visakhapatnam/doctor/dr-b-ramesh-1-psychiatrist\n",
      "**************************************************\n"
     ]
    },
    {
     "name": "stderr",
     "output_type": "stream",
     "text": [
      "\r",
      "  0%|▏                                       | 8/1715 [00:27<1:26:31,  3.04s/it]"
     ]
    },
    {
     "name": "stdout",
     "output_type": "stream",
     "text": [
      "Name:  Dr. B Ramesh\n",
      "Speciality:  Neuropsychiatrist\n",
      "Rating not available.\n",
      "Votes are not available.\n",
      "Address:  Sainath Plaza, Maharanipeta, Landmark: Opp KGH Clock Tower., Visakhapatnam\n",
      "https://google.com/search?q=dr+v+v++satya+sekhar+mamata+hospital+visakhapatnam\n"
     ]
    },
    {
     "name": "stderr",
     "output_type": "stream",
     "text": [
      "\r",
      "  1%|▏                                       | 9/1715 [00:29<1:14:00,  2.60s/it]"
     ]
    },
    {
     "name": "stdout",
     "output_type": "stream",
     "text": [
      "Couldn't find any practo links.\n",
      "https://google.com/search?q=dr+v+ravi+chandra+sg+ortho+care+visakhapatnam\n"
     ]
    },
    {
     "name": "stderr",
     "output_type": "stream",
     "text": [
      "\r",
      "  1%|▏                                      | 10/1715 [00:31<1:06:04,  2.33s/it]"
     ]
    },
    {
     "name": "stdout",
     "output_type": "stream",
     "text": [
      "Couldn't find any practo links.\n",
      "https://google.com/search?q=dr+l+s++appala+naidu+visakha+multispeciality+clinics+visakhapatnam\n",
      "https://www.practo.com/visakhapatnam/doctor/dr-appala-naidu-l-s-cardiologist&sa=U&ved=2ahUKEwje3vrbwvr5AhXWBbkGHfaRCL8QFnoECAkQAg&usg=AOvVaw2uJy9HfLtZvz-zvq9KTweK\n",
      "['https://www.practo.com/visakhapatnam/doctor/dr-appala-naidu-l-s-cardiologist', 'sa=U', 'ved=2ahUKEwje3vrbwvr5AhXWBbkGHfaRCL8QFnoECAkQAg', 'usg=AOvVaw2uJy9HfLtZvz-zvq9KTweK']\n",
      "Link searched for:  https://www.practo.com/visakhapatnam/doctor/dr-appala-naidu-l-s-cardiologist\n",
      "**************************************************\n"
     ]
    },
    {
     "name": "stderr",
     "output_type": "stream",
     "text": [
      "\r",
      "  1%|▎                                      | 11/1715 [00:36<1:30:25,  3.18s/it]"
     ]
    },
    {
     "name": "stdout",
     "output_type": "stream",
     "text": [
      "Name:  Dr. Appala Naidu L S\n",
      "Speciality:  General Physician\n",
      "Rating not available.\n",
      "Votes are not available.\n",
      "https://google.com/search?q=dr+v++chandra+sekharam+chandra+sekharam+clinic+visakhapatnam\n"
     ]
    },
    {
     "name": "stderr",
     "output_type": "stream",
     "text": [
      "\r",
      "  1%|▎                                      | 12/1715 [00:38<1:20:18,  2.83s/it]"
     ]
    },
    {
     "name": "stdout",
     "output_type": "stream",
     "text": [
      "Couldn't find any practo links.\n",
      "https://google.com/search?q=dr+sreeniavsa+rao+reddy+sri+srinivasa+gastro+&+liver+centre+visakhapatnam\n",
      "https://www.practo.com/visakhapatnam/doctor/dr-reddy-sreenivasa-rao-gastroenterologist&sa=U&ved=2ahUKEwjAwtHfwvr5AhVvBrkGHQuPDfYQFnoECAkQAg&usg=AOvVaw1vXlu_9Gnnsm9rXmmdvQnb\n",
      "['https://www.practo.com/visakhapatnam/doctor/dr-reddy-sreenivasa-rao-gastroenterologist', 'sa=U', 'ved=2ahUKEwjAwtHfwvr5AhVvBrkGHQuPDfYQFnoECAkQAg', 'usg=AOvVaw1vXlu_9Gnnsm9rXmmdvQnb']\n",
      "Link searched for:  https://www.practo.com/visakhapatnam/doctor/dr-reddy-sreenivasa-rao-gastroenterologist\n",
      "**************************************************\n"
     ]
    },
    {
     "name": "stderr",
     "output_type": "stream",
     "text": [
      "\r",
      "  1%|▎                                      | 13/1715 [00:44<1:50:43,  3.90s/it]"
     ]
    },
    {
     "name": "stdout",
     "output_type": "stream",
     "text": [
      "Name:  Dr. Reddy Sreenivasa Rao\n",
      "Speciality:  Gastroenterologist\n",
      "Rating:  97% \n",
      "Name:  (303 votes)\n",
      "Address:  1st floor, MVV chambers, behind care-2 hospital,near KGH OP bus stop, Landmark: Opposite To care hospital backside, Visakhapatnam\n",
      "https://google.com/search?q=dr+j+k++vijay+kumar+urocare+visakhapatnam\n",
      "https://www.practo.com/visakhapatnam/doctor/dr-j-k-vijay-kumar-urologist&sa=U&ved=2ahUKEwjmx7Tiwvr5AhWjH7kGHUkOD1YQFnoECAgQAg&usg=AOvVaw2b9-Ujuo5lvHgRSsP6HsWR\n",
      "['https://www.practo.com/visakhapatnam/doctor/dr-j-k-vijay-kumar-urologist', 'sa=U', 'ved=2ahUKEwjmx7Tiwvr5AhWjH7kGHUkOD1YQFnoECAgQAg', 'usg=AOvVaw2b9-Ujuo5lvHgRSsP6HsWR']\n",
      "Link searched for:  https://www.practo.com/visakhapatnam/doctor/dr-j-k-vijay-kumar-urologist\n",
      "**************************************************\n"
     ]
    },
    {
     "name": "stderr",
     "output_type": "stream",
     "text": [
      "\r",
      "  1%|▎                                      | 14/1715 [00:50<2:02:48,  4.33s/it]"
     ]
    },
    {
     "name": "stdout",
     "output_type": "stream",
     "text": [
      "Name:  Dr. J. k Vijay Kumar\n",
      "Speciality is not available.\n",
      "Rating not available.\n",
      "Votes are not available.\n",
      "https://google.com/search?q=dr+chodisetti++subbarao+samudra+hospital+visakhapatnam\n",
      "https://www.practo.com/visakhapatnam/doctor/dr-chodisetti-subba-rao-urologist&sa=U&ved=2ahUKEwj2-Pnkwvr5AhXTCtQKHZCECtkQFnoECAoQAg&usg=AOvVaw2XGAoYSVWnjCW2kSflsH9J\n",
      "['https://www.practo.com/visakhapatnam/doctor/dr-chodisetti-subba-rao-urologist', 'sa=U', 'ved=2ahUKEwj2-Pnkwvr5AhXTCtQKHZCECtkQFnoECAoQAg', 'usg=AOvVaw2XGAoYSVWnjCW2kSflsH9J']\n",
      "Link searched for:  https://www.practo.com/visakhapatnam/doctor/dr-chodisetti-subba-rao-urologist\n",
      "**************************************************\n"
     ]
    },
    {
     "name": "stderr",
     "output_type": "stream",
     "text": [
      "\r",
      "  1%|▎                                      | 15/1715 [00:56<2:17:18,  4.85s/it]"
     ]
    },
    {
     "name": "stdout",
     "output_type": "stream",
     "text": [
      "Name:  Dr. Chodisetti Subba Rao\n",
      "Speciality:  Urological Surgeon\n",
      "Rating:  5.0\n",
      "Votes are not available.\n",
      "Address:  10-50-80, Waltair Main Road, Landmark: Opposite Daspalla Executive Court, Visakhapatnam\n",
      "https://google.com/search?q=dr+b+s++kalyani+dr.+b.+s+kalyani+bharathi+hospital+visakhapatnam\n"
     ]
    },
    {
     "name": "stderr",
     "output_type": "stream",
     "text": [
      "\r",
      "  1%|▎                                      | 16/1715 [00:58<1:54:27,  4.04s/it]"
     ]
    },
    {
     "name": "stdout",
     "output_type": "stream",
     "text": [
      "Couldn't find any practo links.\n",
      "https://google.com/search?q=dr+k++v+nageswar+rao+kotagiri+clinic+visakhapatnam\n"
     ]
    },
    {
     "name": "stderr",
     "output_type": "stream",
     "text": [
      "\r",
      "  1%|▍                                      | 17/1715 [01:01<1:45:15,  3.72s/it]"
     ]
    },
    {
     "name": "stdout",
     "output_type": "stream",
     "text": [
      "Couldn't find any practo links.\n",
      "https://google.com/search?q=dr+mohammed+akbar+gastro+&+liver+clinic+visakhapatnam\n",
      "https://www.practo.com/visakhapatnam/doctor/mohammed-akbar-gastroenterologist&sa=U&ved=2ahUKEwjLv6Pqwvr5AhXhGbkGHSybBgYQFnoECAUQAg&usg=AOvVaw2_p-J2pTk8mOQxbhR0hgnR\n",
      "['https://www.practo.com/visakhapatnam/doctor/mohammed-akbar-gastroenterologist', 'sa=U', 'ved=2ahUKEwjLv6Pqwvr5AhXhGbkGHSybBgYQFnoECAUQAg', 'usg=AOvVaw2_p-J2pTk8mOQxbhR0hgnR']\n",
      "Link searched for:  https://www.practo.com/visakhapatnam/doctor/mohammed-akbar-gastroenterologist\n",
      "**************************************************\n"
     ]
    },
    {
     "name": "stderr",
     "output_type": "stream",
     "text": [
      "\r",
      "  1%|▍                                      | 18/1715 [01:04<1:38:45,  3.49s/it]"
     ]
    },
    {
     "name": "stdout",
     "output_type": "stream",
     "text": [
      "Name:  Dr. Mohammed Akbar\n",
      "Speciality:  Gastroenterologist\n",
      "Rating not available.\n",
      "Votes are not available.\n",
      "Address:  Near KGH, Collector Offce Junction, Visakhapatnam\n",
      "https://google.com/search?q=dr+sravani++sandhya+aura+skin+&+hair+clinic+visakhapatnam\n",
      "https://www.practo.com/visakhapatnam/doctor/dr-sravani-sandhya-b-dermatologist-cosmetologist&sa=U&ved=2ahUKEwiq_dfrwvr5AhUHJrkGHZQBAp0QFnoECAIQAg&usg=AOvVaw1wL8AhFsqL49OB-jpMkoP3\n",
      "['https://www.practo.com/visakhapatnam/doctor/dr-sravani-sandhya-b-dermatologist-cosmetologist', 'sa=U', 'ved=2ahUKEwiq_dfrwvr5AhUHJrkGHZQBAp0QFnoECAIQAg', 'usg=AOvVaw1wL8AhFsqL49OB-jpMkoP3']\n",
      "Link searched for:  https://www.practo.com/visakhapatnam/doctor/dr-sravani-sandhya-b-dermatologist-cosmetologist\n",
      "**************************************************\n"
     ]
    },
    {
     "name": "stderr",
     "output_type": "stream",
     "text": [
      "\r",
      "  1%|▍                                      | 19/1715 [01:07<1:35:13,  3.37s/it]"
     ]
    },
    {
     "name": "stdout",
     "output_type": "stream",
     "text": [
      "Name:  Dr. Sravani Sandhya B\n",
      "Speciality:  Dermatologist\n",
      "Rating:  84% \n",
      "Name:  (19 votes)\n",
      "Address:  #50-49-43/4, TPT Colony, Seethammadhara., Landmark: Opposite Hindu Press., Visakhapatnam\n",
      "https://google.com/search?q=dr+komanapalli+sowjanya++padmaja+hospital+visakhapatnam\n",
      "https://www.practo.com/visakhapatnam/doctor/dr-ch-s-padmaja-gynecologist-obstetrician&sa=U&ved=2ahUKEwjS75Ttwvr5AhWdILkGHaERAzIQFnoECAMQAg&usg=AOvVaw28DRB12wbZyXNV8Hq6KdEU\n",
      "['https://www.practo.com/visakhapatnam/doctor/dr-ch-s-padmaja-gynecologist-obstetrician', 'sa=U', 'ved=2ahUKEwjS75Ttwvr5AhWdILkGHaERAzIQFnoECAMQAg', 'usg=AOvVaw28DRB12wbZyXNV8Hq6KdEU']\n",
      "Link searched for:  https://www.practo.com/visakhapatnam/doctor/dr-ch-s-padmaja-gynecologist-obstetrician\n",
      "**************************************************\n"
     ]
    },
    {
     "name": "stderr",
     "output_type": "stream",
     "text": [
      "\r",
      "  1%|▍                                      | 20/1715 [01:11<1:37:57,  3.47s/it]"
     ]
    },
    {
     "name": "stdout",
     "output_type": "stream",
     "text": [
      "Name:  Dr. CH.S Padmaja\n",
      "Speciality:  Gynecologist\n",
      "Rating not available.\n",
      "Votes are not available.\n",
      "Address:  Seethammadara Jn,Visakhapatnam ,Landmark: Near Alluramalinga Statue., Visakhapatnam\n",
      "https://google.com/search?q=dr+a+meenakshi+sai+clinic+visakhapatnam\n",
      "https://www.practo.com/visakhapatnam/doctor/dr-a-meenakshi-gynecologist-obstetrician&sa=U&ved=2ahUKEwjZpPbuwvr5AhVSDrkGHYSqB6AQFnoECAgQAg&usg=AOvVaw1V5oF-QB_HLQKJoGexx7ah\n",
      "['https://www.practo.com/visakhapatnam/doctor/dr-a-meenakshi-gynecologist-obstetrician', 'sa=U', 'ved=2ahUKEwjZpPbuwvr5AhVSDrkGHYSqB6AQFnoECAgQAg', 'usg=AOvVaw1V5oF-QB_HLQKJoGexx7ah']\n",
      "Link searched for:  https://www.practo.com/visakhapatnam/doctor/dr-a-meenakshi-gynecologist-obstetrician\n",
      "**************************************************\n"
     ]
    },
    {
     "name": "stderr",
     "output_type": "stream",
     "text": [
      "\r",
      "  1%|▍                                      | 21/1715 [01:14<1:34:15,  3.34s/it]"
     ]
    },
    {
     "name": "stdout",
     "output_type": "stream",
     "text": [
      "Name:  Dr. A Meenakshi\n",
      "Speciality:  Gynecologist\n",
      "Rating not available.\n",
      "Votes are not available.\n",
      "Address:  #50-16-32,LandMark: Dwaraka Medical Centre Back Side, Near Seethamma peta Bus Stop,, Visakhapatnam\n",
      "https://google.com/search?q=dr+krishnam+penmatsa+onelife+clinic+visakhapatnam\n",
      "https://www.practo.com/visakhapatnam/doctor/dr-swetha-penmetsa-dermatologist&sa=U&ved=2ahUKEwj_sa_wwvr5AhWXBbkGHVmSAOEQFnoECAAQAg&usg=AOvVaw3tolo3R_vT51_Rn5ClVBVK\n",
      "['https://www.practo.com/visakhapatnam/doctor/dr-swetha-penmetsa-dermatologist', 'sa=U', 'ved=2ahUKEwj_sa_wwvr5AhWXBbkGHVmSAOEQFnoECAAQAg', 'usg=AOvVaw3tolo3R_vT51_Rn5ClVBVK']\n",
      "Link searched for:  https://www.practo.com/visakhapatnam/doctor/dr-swetha-penmetsa-dermatologist\n",
      "**************************************************\n"
     ]
    },
    {
     "name": "stderr",
     "output_type": "stream",
     "text": [
      "\r",
      "  1%|▌                                      | 22/1715 [01:17<1:34:39,  3.35s/it]"
     ]
    },
    {
     "name": "stdout",
     "output_type": "stream",
     "text": [
      "Name:  Dr. Swetha Penmetsa\n",
      "Speciality:  Dermatologist\n",
      "Rating:  5.0\n",
      "Votes are not available.\n",
      "Address:  10-50-80, Waltair Main Road, Landmark: Opposite Daspalla Executive Court, Visakhapatnam\n",
      "https://google.com/search?q=dr+j+n++srinivasulu+sri+chaitra+kidney+clinic+visakhapatnam\n",
      "https://www.practo.com/visakhapatnam/doctor/dr-j-n-srinivasulu-nephrologist&sa=U&ved=2ahUKEwjbif7xwvr5AhVoJ7kGHcSJD0UQFnoECAYQAg&usg=AOvVaw360dDhiRfj2KEvZxZpeLwz\n",
      "['https://www.practo.com/visakhapatnam/doctor/dr-j-n-srinivasulu-nephrologist', 'sa=U', 'ved=2ahUKEwjbif7xwvr5AhVoJ7kGHcSJD0UQFnoECAYQAg', 'usg=AOvVaw360dDhiRfj2KEvZxZpeLwz']\n",
      "Link searched for:  https://www.practo.com/visakhapatnam/doctor/dr-j-n-srinivasulu-nephrologist\n",
      "**************************************************\n"
     ]
    },
    {
     "name": "stderr",
     "output_type": "stream",
     "text": [
      "\r",
      "  1%|▌                                      | 23/1715 [01:21<1:36:18,  3.42s/it]"
     ]
    },
    {
     "name": "stdout",
     "output_type": "stream",
     "text": [
      "Name:  Dr. J N Srinivasulu\n",
      "Speciality:  Nephrologist/Renal Specialist\n",
      "Rating:  4.5\n",
      "Votes are not available.\n",
      "Address:  Oppo. Lions Club, Waltair main Road, Landmark: Opp Lions Club, Visakhapatnam\n",
      "https://google.com/search?q=dr+monitha+narendrula+eeshritha+skin+&+hair+institute++hyderabad\n",
      "https://www.practo.com/hyderabad/doctor/monitha-narendrula-dermatologist&sa=U&ved=2ahUKEwi2pdfzwvr5AhWbBrkGHeaEDooQFnoECAUQAg&usg=AOvVaw1PZKIPRrB7xOFlEQfNfEyW\n",
      "['https://www.practo.com/hyderabad/doctor/monitha-narendrula-dermatologist', 'sa=U', 'ved=2ahUKEwi2pdfzwvr5AhWbBrkGHeaEDooQFnoECAUQAg', 'usg=AOvVaw1PZKIPRrB7xOFlEQfNfEyW']\n",
      "Link searched for:  https://www.practo.com/hyderabad/doctor/monitha-narendrula-dermatologist\n",
      "**************************************************\n"
     ]
    },
    {
     "name": "stderr",
     "output_type": "stream",
     "text": [
      "\r",
      "  1%|▌                                      | 24/1715 [01:24<1:33:34,  3.32s/it]"
     ]
    },
    {
     "name": "stdout",
     "output_type": "stream",
     "text": [
      "Name:  Dr. Monitha Narendrula\n",
      "Speciality:  Cosmetologist\n",
      "Rating not available.\n",
      "Votes are not available.\n",
      "https://google.com/search?q=dr+mona+deva+apollo+sugar+clinic+hyderabad\n"
     ]
    },
    {
     "name": "stderr",
     "output_type": "stream",
     "text": [
      "\r",
      "  1%|▌                                      | 25/1715 [01:26<1:23:21,  2.96s/it]"
     ]
    },
    {
     "name": "stdout",
     "output_type": "stream",
     "text": [
      "Couldn't find any practo links.\n",
      "https://google.com/search?q=dr+shehzad+ruman+dr.shehzad+endocrine+&+diabetes+clinic+hyderabad\n",
      "https://www.practo.com/hyderabad/doctor/shehzad-ruman-endocrinologist&sa=U&ved=2ahUKEwiekJX2wvr5AhWXArkGHWVAAZ0QFnoECAIQAg&usg=AOvVaw0UDiBzRvhHGygzTukas25R\n",
      "['https://www.practo.com/hyderabad/doctor/shehzad-ruman-endocrinologist', 'sa=U', 'ved=2ahUKEwiekJX2wvr5AhWXArkGHWVAAZ0QFnoECAIQAg', 'usg=AOvVaw0UDiBzRvhHGygzTukas25R']\n",
      "Link searched for:  https://www.practo.com/hyderabad/doctor/shehzad-ruman-endocrinologist\n",
      "**************************************************\n"
     ]
    },
    {
     "name": "stderr",
     "output_type": "stream",
     "text": [
      "\r",
      "  2%|▌                                      | 26/1715 [01:30<1:37:39,  3.47s/it]"
     ]
    },
    {
     "name": "stdout",
     "output_type": "stream",
     "text": [
      "Name:  Dr. Shehzad Ruman\n",
      "Speciality:  Internal Medicine\n",
      "Rating not available.\n",
      "Votes are not available.\n",
      "Address:  8-1-400/48/E, Deluxe Colony, Hyderabad\n",
      "https://google.com/search?q=dr+mushtaq+quadri+first+health+diagnostics+and+clinics+hyderabad\n",
      "https://www.practo.com/Hyderabad/doctor/dr-syed-mustaq-m-quadri-cardiologist/594091/call&sa=U&ved=2ahUKEwifhf34wvr5AhU6ILkGHRG2ADgQFnoECAMQAg&usg=AOvVaw03JUwZBigw6TZyWwXTw0iu\n",
      "['https://www.practo.com/Hyderabad/doctor/dr-syed-mustaq-m-quadri-cardiologist/594091/call', 'sa=U', 'ved=2ahUKEwifhf34wvr5AhU6ILkGHRG2ADgQFnoECAMQAg', 'usg=AOvVaw03JUwZBigw6TZyWwXTw0iu']\n",
      "Link searched for:  https://www.practo.com/Hyderabad/doctor/dr-syed-mustaq-m-quadri-cardiologist/call\n",
      "**************************************************\n"
     ]
    },
    {
     "name": "stderr",
     "output_type": "stream",
     "text": [
      "\r",
      "  2%|▌                                      | 27/1715 [01:35<1:43:41,  3.69s/it]"
     ]
    },
    {
     "name": "stdout",
     "output_type": "stream",
     "text": [
      "Name:  Dr. Syed Mustaq M Quadri\n",
      "Speciality:  Cardiologist\n",
      "Rating:  95% \n",
      "Name:  (39 votes)\n",
      "Address:  Upperpally, Landmark: opposite Pillar Number 222 & beside Khushi function Hall, Hyderabad\n",
      "https://google.com/search?q=dr+fiazullah+khan+integro+hospital+hyderabad\n",
      "https://www.practo.com/hyderabad/doctor/dr-faizulla-khan-urologist-3&sa=U&ved=2ahUKEwitobH6wvr5AhX5JrkGHbj7AyUQFnoECAgQAg&usg=AOvVaw0fKAb927oxWHkwXBMIfxX-\n",
      "['https://www.practo.com/hyderabad/doctor/dr-faizulla-khan-urologist-3', 'sa=U', 'ved=2ahUKEwitobH6wvr5AhX5JrkGHbj7AyUQFnoECAgQAg', 'usg=AOvVaw0fKAb927oxWHkwXBMIfxX-']\n",
      "Link searched for:  https://www.practo.com/hyderabad/doctor/dr-faizulla-khan-urologist-3\n",
      "**************************************************\n"
     ]
    },
    {
     "name": "stderr",
     "output_type": "stream",
     "text": [
      "\r",
      "  2%|▋                                      | 28/1715 [01:37<1:32:57,  3.31s/it]"
     ]
    },
    {
     "name": "stdout",
     "output_type": "stream",
     "text": [
      "Name:  Dr. Faizulla Khan\n",
      "Speciality:  Urologist\n",
      "Rating:  4.5\n",
      "Votes are not available.\n",
      "Address:  Road No 1 Virinchi Circle, Landmark: Near Pension Office, Hyderabad\n",
      "https://google.com/search?q=dr+mohammed+asif+sameer+cardiac+care+hyderabad\n",
      "https://www.practo.com/hyderabad/doctor/mohammed-asif-s-cardiologist&sa=U&ved=2ahUKEwj0h8X7wvr5AhVwJrkGHV_dATwQFnoECAkQAg&usg=AOvVaw3eCA6bXAMdf_rC7N083AaV\n",
      "['https://www.practo.com/hyderabad/doctor/mohammed-asif-s-cardiologist', 'sa=U', 'ved=2ahUKEwj0h8X7wvr5AhVwJrkGHV_dATwQFnoECAkQAg', 'usg=AOvVaw3eCA6bXAMdf_rC7N083AaV']\n",
      "Link searched for:  https://www.practo.com/hyderabad/doctor/mohammed-asif-s-cardiologist\n",
      "**************************************************\n"
     ]
    },
    {
     "name": "stderr",
     "output_type": "stream",
     "text": [
      "\r",
      "  2%|▋                                      | 29/1715 [01:42<1:42:46,  3.66s/it]"
     ]
    },
    {
     "name": "stdout",
     "output_type": "stream",
     "text": [
      "Name:  Dr. Mohammed Asif.S\n",
      "Speciality:  Cardiologist\n",
      "Rating not available.\n",
      "Votes are not available.\n",
      "Address:  12-2-835/A/B, Asif Nagar Road, Sri Ram Nagar Colony, MIGH Colony, Landmark: Opposite Andhra Bank, Hyderabad\n",
      "https://google.com/search?q=dr+kollipara++haritha+radha's+derma+care+visakhapatnam\n"
     ]
    },
    {
     "name": "stderr",
     "output_type": "stream",
     "text": [
      "\r",
      "  2%|▋                                      | 30/1715 [01:44<1:33:29,  3.33s/it]"
     ]
    },
    {
     "name": "stdout",
     "output_type": "stream",
     "text": [
      "Couldn't find any practo links.\n",
      "https://google.com/search?q=dr+shilpa+bharatgiri+raghava+polyclinic+hyderabad\n",
      "https://www.practo.com/hyderabad/doctor/shilpa-22-dermatologist-cosmetologist&sa=U&ved=2ahUKEwjpk_L-wvr5AhXcBrkGHXaMBjIQFnoECAIQAg&usg=AOvVaw0EKJcbRaBqvPBo4vbd1qiw\n",
      "['https://www.practo.com/hyderabad/doctor/shilpa-22-dermatologist-cosmetologist', 'sa=U', 'ved=2ahUKEwjpk_L-wvr5AhXcBrkGHXaMBjIQFnoECAIQAg', 'usg=AOvVaw0EKJcbRaBqvPBo4vbd1qiw']\n",
      "Link searched for:  https://www.practo.com/hyderabad/doctor/shilpa-22-dermatologist-cosmetologist\n",
      "**************************************************\n"
     ]
    },
    {
     "name": "stderr",
     "output_type": "stream",
     "text": [
      "\r",
      "  2%|▋                                      | 31/1715 [01:47<1:31:02,  3.24s/it]"
     ]
    },
    {
     "name": "stdout",
     "output_type": "stream",
     "text": [
      "Name:  Dr. Shilpa\n",
      "Speciality:  Dermatologist\n",
      "Rating:  92% \n",
      "Name:  (83 votes)\n",
      "Address:  House Number 8-2-469/9C, Road Number 5, Landmark: Opposite INOX GVK One Mall, Hyderabad\n",
      "https://google.com/search?q=dr+sujitkumar+vakatir+orthopaedic+&+sports+injury+clinic+hyderabad\n",
      "https://www.practo.com/hyderabad/doctor/dr-sujith-kumar-vakati-r-orthopedist&sa=U&ved=2ahUKEwjakqyAw_r5AhUzILkGHWCsCUAQFnoECAEQAg&usg=AOvVaw26sxxK8mONlyc9hEn_TLgx\n",
      "['https://www.practo.com/hyderabad/doctor/dr-sujith-kumar-vakati-r-orthopedist', 'sa=U', 'ved=2ahUKEwjakqyAw_r5AhUzILkGHWCsCUAQFnoECAEQAg', 'usg=AOvVaw26sxxK8mONlyc9hEn_TLgx']\n",
      "Link searched for:  https://www.practo.com/hyderabad/doctor/dr-sujith-kumar-vakati-r-orthopedist\n",
      "**************************************************\n"
     ]
    },
    {
     "name": "stderr",
     "output_type": "stream",
     "text": [
      "\r",
      "  2%|▋                                      | 32/1715 [01:52<1:42:10,  3.64s/it]"
     ]
    },
    {
     "name": "stdout",
     "output_type": "stream",
     "text": [
      "Name:  Dr. Sujitkumar Vakati R\n",
      "Speciality:  Orthopedist\n",
      "Rating not available.\n",
      "Votes are not available.\n",
      "Address:  Flat No. G-8, SERENE VIEW Apartment Complex, Road No. 12, Madhavapuri Hills, Chanda Nnagar, Hyderabad\n",
      "https://google.com/search?q=dr+divyaswetha+narasapuram+sai+medha+speciality+clinics+hyderabad\n",
      "https://www.practo.com/hyderabad/clinic/sai-medha-speciality-clinic-s-chanda-nagar&sa=U&ved=2ahUKEwiqyMOCw_r5AhXQG7kGHXUxAisQFnoECAIQAg&usg=AOvVaw1IApsSFTe6GvsKhvnTMeRn\n",
      "['https://www.practo.com/hyderabad/clinic/sai-medha-speciality-clinic-s-chanda-nagar', 'sa=U', 'ved=2ahUKEwiqyMOCw_r5AhXQG7kGHXUxAisQFnoECAIQAg', 'usg=AOvVaw1IApsSFTe6GvsKhvnTMeRn']\n",
      "Link searched for:  https://www.practo.com/hyderabad/clinic/sai-medha-speciality-clinic-s-chanda-nagar\n",
      "**************************************************\n"
     ]
    },
    {
     "name": "stderr",
     "output_type": "stream",
     "text": [
      "\r",
      "  2%|▊                                      | 33/1715 [01:55<1:39:14,  3.54s/it]"
     ]
    },
    {
     "name": "stdout",
     "output_type": "stream",
     "text": [
      "Name:  Sai Medha Speciality Clinic's\n",
      "Speciality:  Multi-speciality Clinic\n",
      "Rating not available.\n",
      "Votes are not available.\n",
      "Address:  Flat No. G-8, SERENE VIEW Apartment Complex, Road No. 12, Madhavapuri Hills, Chanda Nnagar, Hyderabad\n",
      "https://google.com/search?q=dr+alekya+singapore+the+skin+sense+hyderabad\n",
      "https://www.practo.com/hyderabad/clinic/the-skin-sens%25C3%25A9-by-dr-alekya-singapore-banjara-hills-1&sa=U&ved=2ahUKEwiX0oyEw_r5AhUVCNQKHWhAAWAQFnoECAoQAg&usg=AOvVaw1mlG7Ueyvp2ohTvagaKz34\n",
      "['https://www.practo.com/hyderabad/clinic/the-skin-sens%25C3%25A9-by-dr-alekya-singapore-banjara-hills-1', 'sa=U', 'ved=2ahUKEwiX0oyEw_r5AhUVCNQKHWhAAWAQFnoECAoQAg', 'usg=AOvVaw1mlG7Ueyvp2ohTvagaKz34']\n",
      "Link searched for:  https://www.practo.com/hyderabad/clinic/the-skin-sens%25C3%25A9-by-dr-alekya-singapore-banjara-hills-1\n",
      "**************************************************\n"
     ]
    },
    {
     "name": "stderr",
     "output_type": "stream",
     "text": [
      "\r",
      "  2%|▊                                      | 34/1715 [01:58<1:31:57,  3.28s/it]"
     ]
    },
    {
     "name": "stdout",
     "output_type": "stream",
     "text": [
      "Name:  The Skin Sense - Dr. Alekya\n",
      "Speciality:  Multi-speciality Clinic\n",
      "Rating:  5.0\n",
      "Name:  (13 patient stories)\n",
      "Address:  Bhavyas Fantastika, Road Number 12., Hyderabad\n",
      "https://google.com/search?q=dr+suneetha++reddy+e+birthcare+hospital+hyderabad\n",
      "https://www.practo.com/hyderabad/doctor/dr-k-suneetha-gynecologist-obstetrician&sa=U&ved=2ahUKEwiT-a-Fw_r5AhVeK7kGHbOoDzkQFnoECAgQAg&usg=AOvVaw2HG66g96MSR9Qs5yBLr8gV\n",
      "['https://www.practo.com/hyderabad/doctor/dr-k-suneetha-gynecologist-obstetrician', 'sa=U', 'ved=2ahUKEwiT-a-Fw_r5AhVeK7kGHbOoDzkQFnoECAgQAg', 'usg=AOvVaw2HG66g96MSR9Qs5yBLr8gV']\n",
      "Link searched for:  https://www.practo.com/hyderabad/doctor/dr-k-suneetha-gynecologist-obstetrician\n",
      "**************************************************\n"
     ]
    },
    {
     "name": "stderr",
     "output_type": "stream",
     "text": [
      "\r",
      "  2%|▊                                      | 35/1715 [02:01<1:29:48,  3.21s/it]"
     ]
    },
    {
     "name": "stdout",
     "output_type": "stream",
     "text": [
      "Name:  Dr. E. Suneetha Reddy\n",
      "Speciality:  Gynecologist\n",
      "Rating not available.\n",
      "Votes are not available.\n",
      "https://google.com/search?q=dr+naveen+kumar+magna+code+clinic+hyderabad\n",
      "https://www.practo.com/hyderabad/doctor/g-naveen-kumar-diabetologist&sa=U&ved=2ahUKEwjAo-mGw_r5AhVoIrkGHfJDCDkQFnoECAYQAg&usg=AOvVaw30IpBti5H2OxwMuQOjGdvY\n",
      "['https://www.practo.com/hyderabad/doctor/g-naveen-kumar-diabetologist', 'sa=U', 'ved=2ahUKEwjAo-mGw_r5AhVoIrkGHfJDCDkQFnoECAYQAg', 'usg=AOvVaw30IpBti5H2OxwMuQOjGdvY']\n",
      "Link searched for:  https://www.practo.com/hyderabad/doctor/g-naveen-kumar-diabetologist\n",
      "**************************************************\n"
     ]
    },
    {
     "name": "stderr",
     "output_type": "stream",
     "text": [
      "\r",
      "  2%|▊                                      | 36/1715 [02:04<1:31:01,  3.25s/it]"
     ]
    },
    {
     "name": "stdout",
     "output_type": "stream",
     "text": [
      "Name:  Dr. G Naveen Kumar\n",
      "Speciality:  General Physician\n",
      "Rating not available.\n",
      "Votes are not available.\n",
      "Address:  Plot No:5, Shop No:8, 2nd Floor, Sri Lakshmi Nagar, Lanco Hills Road, Landmark: Marichettu Junction, Hyderabad\n",
      "https://google.com/search?q=dr+hariram+vuppaladadhiam+hari's+heart+clinic.+dr+v+hariram+hyderabad\n",
      "https://www.practo.com/hyderabad/doctor/dr-v-hariram-cardiologist&sa=U&ved=2ahUKEwjtmLaIw_r5AhXdBrkGHcxAB1AQFnoECAQQAg&usg=AOvVaw1w5RLg9jPktJDTY2sTkqjR\n",
      "['https://www.practo.com/hyderabad/doctor/dr-v-hariram-cardiologist', 'sa=U', 'ved=2ahUKEwjtmLaIw_r5AhXdBrkGHcxAB1AQFnoECAQQAg', 'usg=AOvVaw1w5RLg9jPktJDTY2sTkqjR']\n",
      "Link searched for:  https://www.practo.com/hyderabad/doctor/dr-v-hariram-cardiologist\n",
      "**************************************************\n"
     ]
    },
    {
     "name": "stderr",
     "output_type": "stream",
     "text": [
      "\r",
      "  2%|▊                                      | 37/1715 [02:07<1:29:34,  3.20s/it]"
     ]
    },
    {
     "name": "stdout",
     "output_type": "stream",
     "text": [
      "Name:  Dr. Hari Ram. V\n",
      "Speciality:  Cardiologist\n",
      "Rating:  95% \n",
      "Name:  (87 votes)\n",
      "Address:  2-22-1/113, S2 & G14, Pragathi Enclave, Plot 95, 104 & 113, Pipeline Road, Bhagyanagar, Landmark: Opposite Ram Reddy Chicken Center, Hyderabad\n",
      "https://google.com/search?q=dr+ramesh+raju+sneha+clinic+hyderabad\n",
      "https://www.practo.com/hyderabad/doctor/g-ramesh-raju-general-physician&sa=U&ved=2ahUKEwia6fKJw_r5AhWCJrkGHS4bC-EQFnoECAgQAg&usg=AOvVaw1thq2DRCiIpyx_t3_k8VMK\n",
      "['https://www.practo.com/hyderabad/doctor/g-ramesh-raju-general-physician', 'sa=U', 'ved=2ahUKEwia6fKJw_r5AhWCJrkGHS4bC-EQFnoECAgQAg', 'usg=AOvVaw1thq2DRCiIpyx_t3_k8VMK']\n",
      "Link searched for:  https://www.practo.com/hyderabad/doctor/g-ramesh-raju-general-physician\n",
      "**************************************************\n"
     ]
    },
    {
     "name": "stderr",
     "output_type": "stream",
     "text": [
      "\r",
      "  2%|▊                                      | 38/1715 [02:10<1:22:55,  2.97s/it]"
     ]
    },
    {
     "name": "stdout",
     "output_type": "stream",
     "text": [
      "Name:  Dr. G.Ramesh Raju\n",
      "Speciality:  General Physician\n",
      "Rating:  97% \n",
      "Name:  (493 votes)\n",
      "Address:  MIG 152, KPHB Road Number 1, Landmark: Above Axis Bank, Hyderabad\n",
      "https://google.com/search?q=dr+venkata++arella+sri+sai+kalpana+clinic+hyderabad\n",
      "https://www.practo.com/hyderabad/doctor/dr-s-venkata-ramana-arella-general-physician&sa=U&ved=2ahUKEwj9woWLw_r5AhUQGbkGHbwED2cQFnoECAcQAg&usg=AOvVaw2N9ePxn2fVQlGzCd3TvZYL\n",
      "['https://www.practo.com/hyderabad/doctor/dr-s-venkata-ramana-arella-general-physician', 'sa=U', 'ved=2ahUKEwj9woWLw_r5AhUQGbkGHbwED2cQFnoECAcQAg', 'usg=AOvVaw2N9ePxn2fVQlGzCd3TvZYL']\n",
      "Link searched for:  https://www.practo.com/hyderabad/doctor/dr-s-venkata-ramana-arella-general-physician\n",
      "**************************************************\n"
     ]
    },
    {
     "name": "stderr",
     "output_type": "stream",
     "text": [
      "\r",
      "  2%|▉                                      | 39/1715 [02:12<1:19:55,  2.86s/it]"
     ]
    },
    {
     "name": "stdout",
     "output_type": "stream",
     "text": [
      "Name:  Dr. S. Venkata Ramana Arella\n",
      "Speciality:  General Physician\n",
      "Rating not available.\n",
      "Votes are not available.\n",
      "Address:  #8-3-228/265/A, Masjid road, Rahmath nagar, Yousufguda. Landmark: Near to vegetable market., Hyderabad\n",
      "https://google.com/search?q=dr+madhavi+aurangabadkar+skin+&+laser+clinic+hyderabad\n"
     ]
    },
    {
     "name": "stderr",
     "output_type": "stream",
     "text": [
      "\r",
      "  2%|▉                                      | 40/1715 [02:15<1:23:02,  2.97s/it]"
     ]
    },
    {
     "name": "stdout",
     "output_type": "stream",
     "text": [
      "Couldn't find any practo links.\n",
      "https://google.com/search?q=dr+raghunath+babu+diabaid+diabetes+center+hyderabad\n",
      "https://www.practo.com/hyderabad/doctor/dr-raghunath-babu-diabetologist-1&sa=U&ved=2ahUKEwjunOuNw_r5AhW2GrkGHQDxA5MQFnoECAkQAg&usg=AOvVaw2wYf68vcIwv5jhBqhrBk5_\n",
      "['https://www.practo.com/hyderabad/doctor/dr-raghunath-babu-diabetologist-1', 'sa=U', 'ved=2ahUKEwjunOuNw_r5AhW2GrkGHQDxA5MQFnoECAkQAg', 'usg=AOvVaw2wYf68vcIwv5jhBqhrBk5_']\n",
      "Link searched for:  https://www.practo.com/hyderabad/doctor/dr-raghunath-babu-diabetologist-1\n",
      "**************************************************\n"
     ]
    },
    {
     "name": "stderr",
     "output_type": "stream",
     "text": [
      "\r",
      "  2%|▉                                      | 41/1715 [02:18<1:22:33,  2.96s/it]"
     ]
    },
    {
     "name": "stdout",
     "output_type": "stream",
     "text": [
      "Name:  Dr. Raghunath Babu.M\n",
      "Speciality is not available.\n",
      "Rating:  97% \n",
      "Name:  (70 votes)\n",
      "Address:  #8-3-677 / 35, S.K.D. Nagar, Sri Nagar Colony., Landmark: Near HDFC & IDBI Atm, Hyderabad\n",
      "https://google.com/search?q=dr+saketh+k+gk+polyclinic+hyderabad\n",
      "https://www.practo.com/hyderabad/doctor/dr-k-saketh-1-orthopedist&sa=U&ved=2ahUKEwikj56Pw_r5AhV7GbkGHZBfC3AQFnoECAQQAg&usg=AOvVaw3AXsLMEDxs-LhTDt5L6JK1\n",
      "['https://www.practo.com/hyderabad/doctor/dr-k-saketh-1-orthopedist', 'sa=U', 'ved=2ahUKEwikj56Pw_r5AhV7GbkGHZBfC3AQFnoECAQQAg', 'usg=AOvVaw3AXsLMEDxs-LhTDt5L6JK1']\n",
      "Link searched for:  https://www.practo.com/hyderabad/doctor/dr-k-saketh-1-orthopedist\n",
      "**************************************************\n"
     ]
    },
    {
     "name": "stderr",
     "output_type": "stream",
     "text": [
      "\r",
      "  2%|▉                                      | 42/1715 [02:22<1:28:25,  3.17s/it]"
     ]
    },
    {
     "name": "stdout",
     "output_type": "stream",
     "text": [
      "Name:  Dr. K Saketh\n",
      "Speciality:  Orthopedist\n",
      "Rating:  4.5\n",
      "Votes are not available.\n",
      "Address:  6-1-1040/1 to 4, Landmark: Beside Ranga Reddy District & Opposite Dwaraka Hotel, Hyderabad\n",
      "https://google.com/search?q=dr+samata+tulla+medihub+clinics+hyderabad\n",
      "https://www.practo.com/hyderabad/doctor/dr-samatha-tulla-general-physician&sa=U&ved=2ahUKEwix4v2Qw_r5AhVPK7kGHYDdCzMQFnoECAMQAg&usg=AOvVaw3SSGZt78PrQuThj0UgEdQC\n",
      "['https://www.practo.com/hyderabad/doctor/dr-samatha-tulla-general-physician', 'sa=U', 'ved=2ahUKEwix4v2Qw_r5AhVPK7kGHYDdCzMQFnoECAMQAg', 'usg=AOvVaw3SSGZt78PrQuThj0UgEdQC']\n",
      "Link searched for:  https://www.practo.com/hyderabad/doctor/dr-samatha-tulla-general-physician\n",
      "**************************************************\n"
     ]
    },
    {
     "name": "stderr",
     "output_type": "stream",
     "text": [
      "\r",
      "  3%|▉                                      | 43/1715 [02:26<1:37:06,  3.48s/it]"
     ]
    },
    {
     "name": "stdout",
     "output_type": "stream",
     "text": [
      "Name:  Dr. Samatha Tulla\n",
      "Speciality:  Internal Medicine\n",
      "Rating:  4.5\n",
      "Votes are not available.\n",
      "Address:  Film Nagar , Landmark: Opposite Bata Showroom & Beside Film Nagar Temple Complex, Hyderabad\n",
      "https://google.com/search?q=dr+janaki+ram+reddy+sree+srinivasa+ent+center+hyderabad\n",
      "https://www.practo.com/hyderabad/doctor/dr-janaki-ram-reddy-ear-nose-throat-ent-specialist-1&sa=U&ved=2ahUKEwju1P-Sw_r5AhWpALkGHQnLAqEQFnoECAgQAg&usg=AOvVaw1C2FtV0ckWS2luB1kvDYN1\n",
      "['https://www.practo.com/hyderabad/doctor/dr-janaki-ram-reddy-ear-nose-throat-ent-specialist-1', 'sa=U', 'ved=2ahUKEwju1P-Sw_r5AhWpALkGHQnLAqEQFnoECAgQAg', 'usg=AOvVaw1C2FtV0ckWS2luB1kvDYN1']\n",
      "Link searched for:  https://www.practo.com/hyderabad/doctor/dr-janaki-ram-reddy-ear-nose-throat-ent-specialist-1\n",
      "**************************************************\n"
     ]
    },
    {
     "name": "stderr",
     "output_type": "stream",
     "text": [
      "\r",
      "  3%|█                                      | 44/1715 [02:29<1:34:41,  3.40s/it]"
     ]
    },
    {
     "name": "stdout",
     "output_type": "stream",
     "text": [
      "Name:  Dr. Janaki Ram Reddy\n",
      "Speciality:  ENT/ Otorhinolaryngologist\n",
      "Rating:  88% \n",
      "Name:  (17 votes)\n",
      "Address:  6-3-347/17/2, SY Number 142, Saibaba Temple Road, Dwarakapuri, Landmark: Near Sai Baba Temple, Hyderabad\n",
      "https://google.com/search?q=dr+manogna++vellala+mano's+skin+&+hair+clinic+hyderabad\n"
     ]
    },
    {
     "name": "stderr",
     "output_type": "stream",
     "text": [
      "\r",
      "  3%|█                                      | 45/1715 [02:31<1:21:01,  2.91s/it]"
     ]
    },
    {
     "name": "stdout",
     "output_type": "stream",
     "text": [
      "Couldn't find any practo links.\n",
      "https://google.com/search?q=dr+amishrita++chintawar++manasa+hospital+hyderabad\n",
      "https://www.practo.com/hyderabad/doctor/amishrita-chintawar-gynecologist-obstetrician&sa=U&ved=2ahUKEwjKlK6Vw_r5AhX7CbkGHTxrBvgQFnoECAgQAg&usg=AOvVaw3gMOghNDdtZgt4LvNKJ9qX\n",
      "['https://www.practo.com/hyderabad/doctor/amishrita-chintawar-gynecologist-obstetrician', 'sa=U', 'ved=2ahUKEwjKlK6Vw_r5AhX7CbkGHTxrBvgQFnoECAgQAg', 'usg=AOvVaw3gMOghNDdtZgt4LvNKJ9qX']\n",
      "Link searched for:  https://www.practo.com/hyderabad/doctor/amishrita-chintawar-gynecologist-obstetrician\n",
      "**************************************************\n"
     ]
    },
    {
     "name": "stderr",
     "output_type": "stream",
     "text": [
      "\r",
      "  3%|█                                      | 46/1715 [02:34<1:21:17,  2.92s/it]"
     ]
    },
    {
     "name": "stdout",
     "output_type": "stream",
     "text": [
      "Name:  Dr. Amishrita Chintawar\n",
      "Speciality:  Infertility Specialist\n",
      "Rating:  100% \n",
      "Name:  (11 votes)\n",
      "Address:  Lane No 6, Sai Chitra Nagar, Landmark: lane adj to hyderabad public school, Hyderabad\n",
      "https://google.com/search?q=dr+neelima+potluri+v+viva+skin+clinic+hyderabad\n"
     ]
    },
    {
     "name": "stderr",
     "output_type": "stream",
     "text": [
      "\r",
      "  3%|█                                      | 47/1715 [02:36<1:13:43,  2.65s/it]"
     ]
    },
    {
     "name": "stdout",
     "output_type": "stream",
     "text": [
      "Couldn't find any practo links.\n",
      "https://google.com/search?q=dr+swapna++priya+cosmosure+clinic+hyderabad\n",
      "https://www.practo.com/hyderabad/doctor/dr-p-swapna-priya-dermatologist-cosmetologist&sa=U&ved=2ahUKEwjW8KiYw_r5AhW3GrkGHTa_BZwQFnoECAQQAg&usg=AOvVaw3XvjOGs52PTZW3emev08Dm\n",
      "['https://www.practo.com/hyderabad/doctor/dr-p-swapna-priya-dermatologist-cosmetologist', 'sa=U', 'ved=2ahUKEwjW8KiYw_r5AhW3GrkGHTa_BZwQFnoECAQQAg', 'usg=AOvVaw3XvjOGs52PTZW3emev08Dm']\n",
      "Link searched for:  https://www.practo.com/hyderabad/doctor/dr-p-swapna-priya-dermatologist-cosmetologist\n",
      "**************************************************\n"
     ]
    },
    {
     "name": "stderr",
     "output_type": "stream",
     "text": [
      "\r",
      "  3%|█                                      | 48/1715 [02:40<1:22:21,  2.96s/it]"
     ]
    },
    {
     "name": "stdout",
     "output_type": "stream",
     "text": [
      "Name:  Dr. P.Swapna Priya\n",
      "Speciality:  Dermatologist\n",
      "Rating:  95% \n",
      "Name:  (20 votes)\n",
      "Address:  SBR Gateway, 4th Floor, Landmark: Opposite Cyber Gateway and Adjacent to Ibis Hotel, Hyderabad\n",
      "https://google.com/search?q=dr+babitha+++++++++maturi+parijatham+women+wellness+clinics+hyderabad\n",
      "https://www.practo.com/hyderabad/clinic/maturi-health-banjara-hills&sa=U&ved=2ahUKEwjgr7-Zw_r5AhWFA7kGHbKmC9kQFnoECAkQAg&usg=AOvVaw2H9DkoRN4pefwIMVJcOwpe\n",
      "['https://www.practo.com/hyderabad/clinic/maturi-health-banjara-hills', 'sa=U', 'ved=2ahUKEwjgr7-Zw_r5AhWFA7kGHbKmC9kQFnoECAkQAg', 'usg=AOvVaw2H9DkoRN4pefwIMVJcOwpe']\n",
      "Link searched for:  https://www.practo.com/hyderabad/clinic/maturi-health-banjara-hills\n",
      "**************************************************\n"
     ]
    },
    {
     "name": "stderr",
     "output_type": "stream",
     "text": [
      "\r",
      "  3%|█                                      | 49/1715 [02:45<1:36:46,  3.49s/it]"
     ]
    },
    {
     "name": "stdout",
     "output_type": "stream",
     "text": [
      "Name:  Parijatham Woman's Health Redifined\n",
      "Speciality:  Multi-speciality Clinic\n",
      "Rating not available.\n",
      "Votes are not available.\n",
      "Address:  8-1-301/302/303, Shaikpet, Landmark: Above Karachi Bakery, Hyderabad\n",
      "https://google.com/search?q=dr+sudha+shroff+dermdent+skin&dental+clinic+hyderabad\n",
      "https://www.practo.com/hyderabad/doctor/sudha-shroff-dermatologist-cosmetologist&sa=U&ved=2ahUKEwiVgN6bw_r5AhUUCdQKHdp5A3EQFnoECAAQAg&usg=AOvVaw0zBRXm_vSgZj6eAM-8NEb-\n",
      "['https://www.practo.com/hyderabad/doctor/sudha-shroff-dermatologist-cosmetologist', 'sa=U', 'ved=2ahUKEwiVgN6bw_r5AhUUCdQKHdp5A3EQFnoECAAQAg', 'usg=AOvVaw0zBRXm_vSgZj6eAM-8NEb-']\n",
      "Link searched for:  https://www.practo.com/hyderabad/doctor/sudha-shroff-dermatologist-cosmetologist\n",
      "**************************************************\n"
     ]
    },
    {
     "name": "stderr",
     "output_type": "stream",
     "text": [
      "\r",
      "  3%|█▏                                     | 50/1715 [02:49<1:45:50,  3.81s/it]"
     ]
    },
    {
     "name": "stdout",
     "output_type": "stream",
     "text": [
      "Name:  Dr. Sudha Shroff\n",
      "Speciality:  Dermatologist\n",
      "Rating:  93% \n",
      "Name:  (28 votes)\n",
      "Address:  3-100/2/B , 2nd Floor, Kolan Haritha Complex,, Landmark: Above Axis Bank, Hyderabad\n",
      "https://google.com/search?q=dr+suryaprakash+hedda+hedda+clinic+hyderabad\n",
      "https://www.practo.com/hyderabad/doctor/dr-suryaprakash-hedda-pediatrician&sa=U&ved=2ahUKEwi05fWdw_r5AhVWCbkGHZjbBPUQFnoECAkQAg&usg=AOvVaw1iWQsKYz8dBxZd8ZJsE30b\n",
      "['https://www.practo.com/hyderabad/doctor/dr-suryaprakash-hedda-pediatrician', 'sa=U', 'ved=2ahUKEwi05fWdw_r5AhVWCbkGHZjbBPUQFnoECAkQAg', 'usg=AOvVaw1iWQsKYz8dBxZd8ZJsE30b']\n",
      "Link searched for:  https://www.practo.com/hyderabad/doctor/dr-suryaprakash-hedda-pediatrician\n",
      "**************************************************\n"
     ]
    },
    {
     "name": "stderr",
     "output_type": "stream",
     "text": [
      "\r",
      "  3%|█▏                                     | 51/1715 [02:52<1:40:53,  3.64s/it]"
     ]
    },
    {
     "name": "stdout",
     "output_type": "stream",
     "text": [
      "Name:  Dr. Suryaprakash Hedda\n",
      "Speciality:  Pediatrician\n",
      "Rating:  93% \n",
      "Name:  (27 votes)\n",
      "Address:  7-2-1735/A, Czech Colony, Landmark: Opposite Voltas Company Private Limited, Hyderabad\n",
      "https://google.com/search?q=dr+srikant+jawalkar+the+shoulder+centre+hyderabad\n",
      "https://www.practo.com/hyderabad/doctor/dr-srikant-jawalkar-neurologist&sa=U&ved=2ahUKEwjG4Lqfw_r5AhUaCLkGHQNcAnMQFnoECAgQAg&usg=AOvVaw3Idjhva3Bl1mTt9KthoLAP\n",
      "['https://www.practo.com/hyderabad/doctor/dr-srikant-jawalkar-neurologist', 'sa=U', 'ved=2ahUKEwjG4Lqfw_r5AhUaCLkGHQNcAnMQFnoECAgQAg', 'usg=AOvVaw3Idjhva3Bl1mTt9KthoLAP']\n",
      "Link searched for:  https://www.practo.com/hyderabad/doctor/dr-srikant-jawalkar-neurologist\n",
      "**************************************************\n"
     ]
    },
    {
     "name": "stderr",
     "output_type": "stream",
     "text": [
      "\r",
      "  3%|█▏                                     | 52/1715 [02:56<1:39:24,  3.59s/it]"
     ]
    },
    {
     "name": "stdout",
     "output_type": "stream",
     "text": [
      "Name:  Dr. Srikant Jawalkar\n",
      "Speciality:  Neurologist\n",
      "Rating:  96% \n",
      "Name:  (341 votes)\n",
      "Address:  A-1, View Towers, Landmark: Opposite to Saifabad Police Station, Lane Before HP Petrol Pump and Mosque / Lane After Gogas Auto LPG Station,Near Seha Hospital., Hyderabad\n",
      "https://google.com/search?q=dr+suraj+uppalapati+gastro+360+clinics+hyderabad\n",
      "https://www.practo.com/hyderabad/doctor/dr-suraj-uppalapati-gastroenterologist&sa=U&ved=2ahUKEwj4oo6hw_r5AhUkJbkGHU4vBesQFnoECAkQAg&usg=AOvVaw3fsaOYQA37bhDr8Av6QZ3R\n",
      "['https://www.practo.com/hyderabad/doctor/dr-suraj-uppalapati-gastroenterologist', 'sa=U', 'ved=2ahUKEwj4oo6hw_r5AhUkJbkGHU4vBesQFnoECAkQAg', 'usg=AOvVaw3fsaOYQA37bhDr8Av6QZ3R']\n",
      "Link searched for:  https://www.practo.com/hyderabad/doctor/dr-suraj-uppalapati-gastroenterologist\n",
      "**************************************************\n"
     ]
    },
    {
     "name": "stderr",
     "output_type": "stream",
     "text": [
      "\r",
      "  3%|█▏                                     | 53/1715 [02:58<1:30:27,  3.27s/it]"
     ]
    },
    {
     "name": "stdout",
     "output_type": "stream",
     "text": [
      "Name:  Dr. Suraj Uppalapati\n",
      "Speciality:  Gastroenterologist\n",
      "Rating:  95% \n",
      "Name:  (206 votes)\n",
      "Address:  2nd Floor Harsha Pride, Plot No 34 A 45 A Botanical Garden road Sriramnagar, Landmark: Above KS Bakers, Hyderabad\n",
      "https://google.com/search?q=dr+sivani+payneni+vito+specialty+clinic+hyderabad\n",
      "https://www.practo.com/hyderabad/doctor/sivani-payneni-diabetologist-1&sa=U&ved=2ahUKEwiVh6iiw_r5AhU-D7kGHaXFDBsQFnoECAoQAg&usg=AOvVaw1LWQ5FkoqgL4j9vVDifTT2\n",
      "['https://www.practo.com/hyderabad/doctor/sivani-payneni-diabetologist-1', 'sa=U', 'ved=2ahUKEwiVh6iiw_r5AhU-D7kGHaXFDBsQFnoECAoQAg', 'usg=AOvVaw1LWQ5FkoqgL4j9vVDifTT2']\n",
      "Link searched for:  https://www.practo.com/hyderabad/doctor/sivani-payneni-diabetologist-1\n",
      "**************************************************\n"
     ]
    },
    {
     "name": "stderr",
     "output_type": "stream",
     "text": [
      "\r",
      "  3%|█▏                                     | 54/1715 [03:03<1:41:53,  3.68s/it]"
     ]
    },
    {
     "name": "stdout",
     "output_type": "stream",
     "text": [
      "Name:  Dr. Sivani Payneni\n",
      "Speciality:  General Physician\n",
      "Rating:  100% \n",
      "Name:  (46 votes)\n",
      "Address:  2F, Plot # 1492, Seshadri Marg, Raghavendra Colony,, Landmark: Opposite Bike Affair,Above Global Diagnostics, Hyderabad\n",
      "https://google.com/search?q=dr+saikiran+thipparthi+vito+specialty+clinics+hyderabad\n",
      "https://www.practo.com/hyderabad/doctor/sai-kiran-thipparthi-cardiologist&sa=U&ved=2ahUKEwiR18Okw_r5AhX8LbkGHRo6CrwQFnoECAMQAg&usg=AOvVaw2ilVEgIcTLQJeITmTUXwPR\n",
      "['https://www.practo.com/hyderabad/doctor/sai-kiran-thipparthi-cardiologist', 'sa=U', 'ved=2ahUKEwiR18Okw_r5AhX8LbkGHRo6CrwQFnoECAMQAg', 'usg=AOvVaw2ilVEgIcTLQJeITmTUXwPR']\n",
      "Link searched for:  https://www.practo.com/hyderabad/doctor/sai-kiran-thipparthi-cardiologist\n",
      "**************************************************\n"
     ]
    },
    {
     "name": "stderr",
     "output_type": "stream",
     "text": [
      "\r",
      "  3%|█▎                                     | 55/1715 [03:07<1:40:24,  3.63s/it]"
     ]
    },
    {
     "name": "stdout",
     "output_type": "stream",
     "text": [
      "Name:  Dr. Sai Kiran Thipparthi\n",
      "Speciality:  General Physician\n",
      "Rating:  5.0\n",
      "Votes are not available.\n",
      "Address:  Plot Number-107 and 108, High-Tension Line Road, Raja Rajeshwara Nagar, Landmark: Opposite to global diagnostics, Hyderabad\n",
      "https://google.com/search?q=dr+venkateswara++abburu+siri+children's+clinic+hyderabad\n"
     ]
    },
    {
     "name": "stderr",
     "output_type": "stream",
     "text": [
      "\r",
      "  3%|█▎                                     | 56/1715 [03:09<1:30:32,  3.27s/it]"
     ]
    },
    {
     "name": "stdout",
     "output_type": "stream",
     "text": [
      "Couldn't find any practo links.\n",
      "https://google.com/search?q=dr+gokul+mandala+drgokulreddy+hyderabad\n",
      "https://www.practo.com/hyderabad/doctor/dr-gokul-reddy-m-cardiologist&sa=U&ved=2ahUKEwizjN2nw_r5AhWaKrkGHWO7B7cQFnoECAIQAg&usg=AOvVaw24mx18ztRrY_L4VXKl0UNH\n",
      "['https://www.practo.com/hyderabad/doctor/dr-gokul-reddy-m-cardiologist', 'sa=U', 'ved=2ahUKEwizjN2nw_r5AhWaKrkGHWO7B7cQFnoECAIQAg', 'usg=AOvVaw24mx18ztRrY_L4VXKl0UNH']\n",
      "Link searched for:  https://www.practo.com/hyderabad/doctor/dr-gokul-reddy-m-cardiologist\n",
      "**************************************************\n"
     ]
    },
    {
     "name": "stderr",
     "output_type": "stream",
     "text": [
      "\r",
      "  3%|█▎                                     | 57/1715 [03:14<1:47:27,  3.89s/it]"
     ]
    },
    {
     "name": "stdout",
     "output_type": "stream",
     "text": [
      "Name:  Dr. Gokul Reddy\n",
      "Speciality:  Interventional Cardiologist\n",
      "Rating:  97% \n",
      "Name:  (106 votes)\n",
      "Address:  Road Number 72, Landmark: Opposite to Bharatiya Vidya Bhavan School Lane & Near Film Nagar, Hyderabad\n",
      "https://google.com/search?q=dr+naresh+kanukunta++shreshta+sugar,thyroid+and+general+clinic++hyderabad\n"
     ]
    },
    {
     "name": "stderr",
     "output_type": "stream",
     "text": [
      "\r",
      "  3%|█▎                                     | 58/1715 [03:16<1:27:54,  3.18s/it]"
     ]
    },
    {
     "name": "stdout",
     "output_type": "stream",
     "text": [
      "Couldn't find any practo links.\n",
      "https://google.com/search?q=dr+mukesh+khetan+khetan+children's+clinic+hyderabad\n",
      "https://www.practo.com/hyderabad/doctor/dr-mukesh-kumar-khetan-pediatrician-1-general-physician&sa=U&ved=2ahUKEwjz6tGqw_r5AhW-DLkGHaDVAAYQFnoECAgQAg&usg=AOvVaw3SWOJrIRPwZQ56afzmiFTR\n",
      "['https://www.practo.com/hyderabad/doctor/dr-mukesh-kumar-khetan-pediatrician-1-general-physician', 'sa=U', 'ved=2ahUKEwjz6tGqw_r5AhW-DLkGHaDVAAYQFnoECAgQAg', 'usg=AOvVaw3SWOJrIRPwZQ56afzmiFTR']\n",
      "Link searched for:  https://www.practo.com/hyderabad/doctor/dr-mukesh-kumar-khetan-pediatrician-1-general-physician\n",
      "**************************************************\n"
     ]
    },
    {
     "name": "stderr",
     "output_type": "stream",
     "text": [
      "\r",
      "  3%|█▎                                     | 59/1715 [03:18<1:22:14,  2.98s/it]"
     ]
    },
    {
     "name": "stdout",
     "output_type": "stream",
     "text": [
      "Name:  Dr. Mukesh Kumar Khetan\n",
      "Speciality:  Pediatrician\n",
      "Rating:  97% \n",
      "Name:  (2043 votes)\n",
      "Address:  9-1-364/B/103, Langer House, Landmark: Opposite Bapu Ghat, Hyderabad\n",
      "https://google.com/search?q=dr+nitin+rai+vohra+vohra+e.n.t+care+centre+hyderabad\n",
      "https://www.practo.com/hyderabad/doctor/dr-nitin-rai-vohra-ear-nose-throat-ent-specialist-1&sa=U&ved=2ahUKEwii8_Crw_r5AhW5O7kGHcnRDIMQFnoECAgQAg&usg=AOvVaw2_GqJN1YA5DC_rq9JHArGO\n",
      "['https://www.practo.com/hyderabad/doctor/dr-nitin-rai-vohra-ear-nose-throat-ent-specialist-1', 'sa=U', 'ved=2ahUKEwii8_Crw_r5AhW5O7kGHcnRDIMQFnoECAgQAg', 'usg=AOvVaw2_GqJN1YA5DC_rq9JHArGO']\n",
      "Link searched for:  https://www.practo.com/hyderabad/doctor/dr-nitin-rai-vohra-ear-nose-throat-ent-specialist-1\n",
      "**************************************************\n"
     ]
    },
    {
     "name": "stderr",
     "output_type": "stream",
     "text": [
      "\r",
      "  3%|█▎                                     | 60/1715 [03:21<1:22:08,  2.98s/it]"
     ]
    },
    {
     "name": "stdout",
     "output_type": "stream",
     "text": [
      "Name:  Dr. Nitin Rai Vohra\n",
      "Speciality:  ENT/ Otorhinolaryngologist\n",
      "Rating:  72% \n",
      "Name:  (18 votes)\n",
      "Address:  #2-3-504/3/8, Govindula Complex, Main Road, Amberpet, Malakpet, Landmark: Beside Idea Show Room., Hyderabad\n",
      "https://google.com/search?q=dr+chandrasekhar+reddy+lavie+clinic+hyderabad\n",
      "https://www.practo.com/hyderabad/clinic/lavie-clinic-krishna-nagar-1&sa=U&ved=2ahUKEwi_kKStw_r5AhXSFbkGHUpXBSMQFnoECAgQAg&usg=AOvVaw39l9QTD4Ly_qryklZz9FZY\n",
      "['https://www.practo.com/hyderabad/clinic/lavie-clinic-krishna-nagar-1', 'sa=U', 'ved=2ahUKEwi_kKStw_r5AhXSFbkGHUpXBSMQFnoECAgQAg', 'usg=AOvVaw39l9QTD4Ly_qryklZz9FZY']\n",
      "Link searched for:  https://www.practo.com/hyderabad/clinic/lavie-clinic-krishna-nagar-1\n",
      "**************************************************\n"
     ]
    },
    {
     "name": "stderr",
     "output_type": "stream",
     "text": [
      "\r",
      "  4%|█▍                                     | 61/1715 [03:24<1:16:54,  2.79s/it]"
     ]
    },
    {
     "name": "stdout",
     "output_type": "stream",
     "text": [
      "Name:  Lavie Clinic\n",
      "Speciality:  Gastroenterology and Cardiology Clinic\n",
      "Rating:  5.0\n",
      "Name:  (12 patient stories)\n",
      "Address:  Lakshmi Plaza, Krishna Nagar Chaurastha, Landmark: Opposite HDFC Bank and Opposite to More Super Market., Hyderabad\n",
      "https://google.com/search?q=dr+rafi+md+kids+care+the+childrens+hospital+hyderabad\n",
      "https://www.practo.com/hyderabad/doctor/md-rafi-pediatrician&sa=U&ved=2ahUKEwjd1q-uw_r5AhVFIbkGHaWlCpUQFnoECAYQAg&usg=AOvVaw34JPAO-g_qhX-g2ina5AmO\n",
      "['https://www.practo.com/hyderabad/doctor/md-rafi-pediatrician', 'sa=U', 'ved=2ahUKEwjd1q-uw_r5AhVFIbkGHaWlCpUQFnoECAYQAg', 'usg=AOvVaw34JPAO-g_qhX-g2ina5AmO']\n",
      "Link searched for:  https://www.practo.com/hyderabad/doctor/md-rafi-pediatrician\n",
      "**************************************************\n"
     ]
    },
    {
     "name": "stderr",
     "output_type": "stream",
     "text": [
      "\r",
      "  4%|█▍                                     | 62/1715 [03:28<1:28:36,  3.22s/it]"
     ]
    },
    {
     "name": "stdout",
     "output_type": "stream",
     "text": [
      "Name:  Dr. Md. Rafi\n",
      "Speciality:  Pediatrician\n",
      "Rating not available.\n",
      "Votes are not available.\n",
      "Address:  Plot Number 4, Madura Nagar, Landmark: Opposite ICRISAT Colony & Brahmarambha Temple, Hyderabad\n",
      "https://google.com/search?q=dr+satish++reddy+sai+sohan+childrens+clinic+hyderabad\n",
      "https://www.practo.com/hyderabad/clinic/sai-sohan-children-clinic-miyapur&sa=U&ved=2ahUKEwjy-bCww_r5AhWIGbkGHeXbDGsQFnoECAkQAg&usg=AOvVaw2OhjvhIgO0Vtpx-Mx86VMX\n",
      "['https://www.practo.com/hyderabad/clinic/sai-sohan-children-clinic-miyapur', 'sa=U', 'ved=2ahUKEwjy-bCww_r5AhWIGbkGHeXbDGsQFnoECAkQAg', 'usg=AOvVaw2OhjvhIgO0Vtpx-Mx86VMX']\n",
      "Link searched for:  https://www.practo.com/hyderabad/clinic/sai-sohan-children-clinic-miyapur\n",
      "**************************************************\n"
     ]
    },
    {
     "name": "stderr",
     "output_type": "stream",
     "text": [
      "\r",
      "  4%|█▍                                     | 63/1715 [03:30<1:21:08,  2.95s/it]"
     ]
    },
    {
     "name": "stdout",
     "output_type": "stream",
     "text": [
      "Name:  Sai Sohan Children clinic\n",
      "Speciality:  Pediatrics/Paediatrics Clinic\n",
      "Rating not available.\n",
      "Votes are not available.\n",
      "Address:  Plot Number 24, Ground Floor, Bollaram Road, Miyapur X Roads, Landmark: Behind Indusind Bank, Hyderabad\n",
      "https://google.com/search?q=dr+uday+goutam+goutam+neuro+care+hyderabad\n",
      "https://www.practo.com/hyderabad/clinic/goutam-neuro-care-kphb&sa=U&ved=2ahUKEwidtL6xw_r5AhUfO7kGHbAbBicQFnoECAMQAg&usg=AOvVaw3KM1ru45-Q88irR7jz5IV_\n",
      "['https://www.practo.com/hyderabad/clinic/goutam-neuro-care-kphb', 'sa=U', 'ved=2ahUKEwidtL6xw_r5AhUfO7kGHbAbBicQFnoECAMQAg', 'usg=AOvVaw3KM1ru45-Q88irR7jz5IV_']\n",
      "Link searched for:  https://www.practo.com/hyderabad/clinic/goutam-neuro-care-kphb\n",
      "**************************************************\n"
     ]
    },
    {
     "name": "stderr",
     "output_type": "stream",
     "text": [
      "\r",
      "  4%|█▍                                     | 64/1715 [03:33<1:19:54,  2.90s/it]"
     ]
    },
    {
     "name": "stdout",
     "output_type": "stream",
     "text": [
      "Name:  Goutam Neuro Care\n",
      "Speciality:  Neurology and Neurosurgery Clinic\n",
      "Rating:  5.0\n",
      "Name:  (45 patient stories)\n",
      "Address:  MIG 261, Road Number - 4, KPHB Colony, Kukatpally,, Landmark: Remedy Hospital Lane, Hyderabad\n",
      "https://google.com/search?q=dr+mohammed+anfas+shine+specialty+clinics+hyderabad\n",
      "https://www.practo.com/hyderabad/doctor/mohammed-anfas-general-physician&sa=U&ved=2ahUKEwjrwOmyw_r5AhXfGLkGHaxFAlUQFnoECAAQAg&usg=AOvVaw1fKR8ejqAIso0Umu9CXcR2\n",
      "['https://www.practo.com/hyderabad/doctor/mohammed-anfas-general-physician', 'sa=U', 'ved=2ahUKEwjrwOmyw_r5AhXfGLkGHaxFAlUQFnoECAAQAg', 'usg=AOvVaw1fKR8ejqAIso0Umu9CXcR2']\n",
      "Link searched for:  https://www.practo.com/hyderabad/doctor/mohammed-anfas-general-physician\n",
      "**************************************************\n"
     ]
    },
    {
     "name": "stderr",
     "output_type": "stream",
     "text": [
      "\r",
      "  4%|█▍                                     | 65/1715 [03:36<1:17:52,  2.83s/it]"
     ]
    },
    {
     "name": "stdout",
     "output_type": "stream",
     "text": [
      "Name:  Dr. Mohammed Anfas\n",
      "Speciality:  General Physician\n",
      "Rating:  96% \n",
      "Name:  (107 votes)\n",
      "Address:  Beside indusind bank, shaikpet, Landmark: Beside International School, Hyderabad\n",
      "https://google.com/search?q=dr+navaneeth+raj+dr+romanas+hyderabad\n",
      "https://www.practo.com/hyderabad/doctor/dr-raj-sekhar-orthopedist&sa=U&ved=2ahUKEwjh84u0w_r5AhVfErkGHXQkADQQFnoECAoQAg&usg=AOvVaw2CkzVgyBOBEpCntaceNtYb\n",
      "['https://www.practo.com/hyderabad/doctor/dr-raj-sekhar-orthopedist', 'sa=U', 'ved=2ahUKEwjh84u0w_r5AhVfErkGHXQkADQQFnoECAoQAg', 'usg=AOvVaw2CkzVgyBOBEpCntaceNtYb']\n",
      "Link searched for:  https://www.practo.com/hyderabad/doctor/dr-raj-sekhar-orthopedist\n",
      "**************************************************\n"
     ]
    },
    {
     "name": "stderr",
     "output_type": "stream",
     "text": [
      "\r",
      "  4%|█▌                                     | 66/1715 [03:39<1:23:00,  3.02s/it]"
     ]
    },
    {
     "name": "stdout",
     "output_type": "stream",
     "text": [
      "Name:  Dr. Raj Sekhar\n",
      "Speciality is not available.\n",
      "Rating:  3.5\n",
      "Votes are not available.\n",
      "Address:  #3-4-852, Kachiguda, Landmark: Opposite P F Office, Hyderabad\n",
      "https://google.com/search?q=dr+raghuveer+reddy+sai+institute+of+sports+injury+&+arthroscopy+hyderabad\n",
      "https://www.practo.com/hyderabad/clinic/sai-institute-of-sports-injury-and-arthroscopy-banjara-hills&sa=U&ved=2ahUKEwiu39-1w_r5AhU7FrkGHQl2CpAQFnoECAAQAg&usg=AOvVaw3GwKYyZmBTU2O9jTM0sWdv\n",
      "['https://www.practo.com/hyderabad/clinic/sai-institute-of-sports-injury-and-arthroscopy-banjara-hills', 'sa=U', 'ved=2ahUKEwiu39-1w_r5AhU7FrkGHQl2CpAQFnoECAAQAg', 'usg=AOvVaw3GwKYyZmBTU2O9jTM0sWdv']\n",
      "Link searched for:  https://www.practo.com/hyderabad/clinic/sai-institute-of-sports-injury-and-arthroscopy-banjara-hills\n",
      "**************************************************\n"
     ]
    },
    {
     "name": "stderr",
     "output_type": "stream",
     "text": [
      "\r",
      "  4%|█▌                                     | 67/1715 [03:42<1:18:53,  2.87s/it]"
     ]
    },
    {
     "name": "stdout",
     "output_type": "stream",
     "text": [
      "Name:  Sai Institute of Sports Injury And Arthroscopy\n",
      "Speciality:  Orthopedics Clinic\n",
      "Rating:  3.5\n",
      "Name:  (12 patient stories)\n",
      "Address:  Road No. 1, Erramanzil Colony,Banjara Hills, Landmark: Behind Taj Deccan., Hyderabad\n",
      "https://google.com/search?q=dr+deepti+bandaru+pranada+childrens+clinic+hyderabad\n"
     ]
    },
    {
     "name": "stderr",
     "output_type": "stream",
     "text": [
      "\r",
      "  4%|█▌                                     | 68/1715 [03:45<1:21:31,  2.97s/it]"
     ]
    },
    {
     "name": "stdout",
     "output_type": "stream",
     "text": [
      "Couldn't find any practo links.\n",
      "https://google.com/search?q=dr+satish+andani+andani+hospital+for+women+&+children+hyderabad\n",
      "https://www.practo.com/hyderabad/doctor/dr-satish-s-andani-pediatrician&sa=U&ved=2ahUKEwjN27u4w_r5AhX1HbkGHSL2DDkQFnoECAgQAg&usg=AOvVaw1y57BhQCTwJBusr7UCSvmb\n",
      "['https://www.practo.com/hyderabad/doctor/dr-satish-s-andani-pediatrician', 'sa=U', 'ved=2ahUKEwjN27u4w_r5AhX1HbkGHSL2DDkQFnoECAgQAg', 'usg=AOvVaw1y57BhQCTwJBusr7UCSvmb']\n",
      "Link searched for:  https://www.practo.com/hyderabad/doctor/dr-satish-s-andani-pediatrician\n",
      "**************************************************\n"
     ]
    },
    {
     "name": "stderr",
     "output_type": "stream",
     "text": [
      "\r",
      "  4%|█▌                                     | 69/1715 [03:48<1:19:33,  2.90s/it]"
     ]
    },
    {
     "name": "stdout",
     "output_type": "stream",
     "text": [
      "Name:  Dr. Satish S. Andani\n",
      "Speciality:  Pediatrician\n",
      "Rating:  99% \n",
      "Name:  (604 votes)\n",
      "Address:  Narsingi Hights, Landmark: Opposite Syndicate Bank & Beside S R Model School, Hyderabad\n",
      "https://google.com/search?q=dr+lakkireddi+prabhat+regenio+lakki+scope+orthopaedics+hyderabad\n",
      "https://www.practo.com/hyderabad/clinic/apollo-hospitals-jubilee-hills-jubilee-hills1&sa=U&ved=2ahUKEwjb9uK5w_r5AhW8BLkGHS8MDVkQFnoECAUQAg&usg=AOvVaw15aJeHt0zhmwJu5sUM3SjK\n",
      "['https://www.practo.com/hyderabad/clinic/apollo-hospitals-jubilee-hills-jubilee-hills1', 'sa=U', 'ved=2ahUKEwjb9uK5w_r5AhW8BLkGHS8MDVkQFnoECAUQAg', 'usg=AOvVaw15aJeHt0zhmwJu5sUM3SjK']\n",
      "Link searched for:  https://www.practo.com/hyderabad/clinic/apollo-hospitals-jubilee-hills-jubilee-hills1\n",
      "**************************************************\n"
     ]
    },
    {
     "name": "stderr",
     "output_type": "stream",
     "text": [
      "\r",
      "  4%|█▌                                     | 70/1715 [03:53<1:41:36,  3.71s/it]"
     ]
    },
    {
     "name": "stdout",
     "output_type": "stream",
     "text": [
      "Name:  Regenio Lakki Scope Orthopaedics\n",
      "Speciality:  Multi-speciality Clinic\n",
      "Rating:  5.0\n",
      "Name:  (1631 patient stories)\n",
      "Address:  8-2-269/4/B, Road No.2, Banjara Hills, Hyderabad, Telangana, Landmark: Beside New Rainbow Children Hospital, Hyderabad\n",
      "https://google.com/search?q=dr+alluri+neeraja+goutam+neuro+care+hyderabad\n",
      "https://www.practo.com/hyderabad/doctor/alluri-neeraja-neurologist&sa=U&ved=2ahUKEwjDu9a8w_r5AhWIGbkGHeXbDGsQFnoECAgQAg&usg=AOvVaw1q5NhL8pXSciU93Hy0SFn6\n",
      "['https://www.practo.com/hyderabad/doctor/alluri-neeraja-neurologist', 'sa=U', 'ved=2ahUKEwjDu9a8w_r5AhWIGbkGHeXbDGsQFnoECAgQAg', 'usg=AOvVaw1q5NhL8pXSciU93Hy0SFn6']\n",
      "Link searched for:  https://www.practo.com/hyderabad/doctor/alluri-neeraja-neurologist\n",
      "**************************************************\n"
     ]
    },
    {
     "name": "stderr",
     "output_type": "stream",
     "text": [
      "\r",
      "  4%|█▌                                     | 71/1715 [03:57<1:41:22,  3.70s/it]"
     ]
    },
    {
     "name": "stdout",
     "output_type": "stream",
     "text": [
      "Name:  Dr. Alluri Neeraja\n",
      "Speciality:  Neurologist\n",
      "Rating:  97% \n",
      "Name:  (39 votes)\n",
      "Address:  MIG 261, Road Number - 4, KPHB Colony, Kukatpally,, Landmark: Remedy Hospital Lane, Hyderabad\n",
      "https://google.com/search?q=dr+swetha+v+v+swethas+skin+&+cosmetology+clinic+hyderabad\n",
      "https://www.practo.com/hyderabad/hospital/dr-swetha-s-cosmetic-clinic-sankhya-hospital-kphb&sa=U&ved=2ahUKEwj99pm-w_r5AhWnD7kGHa0VCEUQFnoECAEQAg&usg=AOvVaw0JdkMU_G1NAcOrDKbUdrBV\n",
      "['https://www.practo.com/hyderabad/hospital/dr-swetha-s-cosmetic-clinic-sankhya-hospital-kphb', 'sa=U', 'ved=2ahUKEwj99pm-w_r5AhWnD7kGHa0VCEUQFnoECAEQAg', 'usg=AOvVaw0JdkMU_G1NAcOrDKbUdrBV']\n",
      "Link searched for:  https://www.practo.com/hyderabad/hospital/dr-swetha-s-cosmetic-clinic-sankhya-hospital-kphb\n",
      "**************************************************\n"
     ]
    },
    {
     "name": "stderr",
     "output_type": "stream",
     "text": [
      "\r",
      "  4%|█▋                                     | 72/1715 [04:00<1:36:16,  3.52s/it]"
     ]
    },
    {
     "name": "stdout",
     "output_type": "stream",
     "text": [
      "Name:  Dr.V. Swetha Skin And Cosmetology Clinic\n",
      "Speciality is not available.\n",
      "Rating:  4.5\n",
      "Name:  (123 patient stories)\n",
      "https://google.com/search?q=dr+praneeth+moka+olive+diagnostics+hyderabad\n",
      "https://www.practo.com/hyderabad/doctor/moka-praneeth-gastroenterologist&sa=U&ved=2ahUKEwiWlNa_w_r5AhXhILkGHQBWA3YQFnoECAEQAg&usg=AOvVaw3XpnOLMgPhWaKeCns8A3Yh\n",
      "['https://www.practo.com/hyderabad/doctor/moka-praneeth-gastroenterologist', 'sa=U', 'ved=2ahUKEwiWlNa_w_r5AhXhILkGHQBWA3YQFnoECAEQAg', 'usg=AOvVaw3XpnOLMgPhWaKeCns8A3Yh']\n",
      "Link searched for:  https://www.practo.com/hyderabad/doctor/moka-praneeth-gastroenterologist\n",
      "**************************************************\n"
     ]
    },
    {
     "name": "stderr",
     "output_type": "stream",
     "text": [
      "\r",
      "  4%|█▋                                     | 73/1715 [04:03<1:35:59,  3.51s/it]"
     ]
    },
    {
     "name": "stdout",
     "output_type": "stream",
     "text": [
      "Name:  Dr. Moka Praneeth\n",
      "Speciality:  Gastroenterologist\n",
      "Rating:  90% \n",
      "Name:  (20 votes)\n",
      "Address:  Opposite to Cyber Gateway, IBIS Hotel Lane , Hi-tech city, Hyderabad, Telanagana, Landmark: IBIS Hotel lane, Hyderabad\n",
      "https://google.com/search?q=dr+manohar++n+n+m+reddy+skin+and+hair+clinic+hyderabad\n",
      "https://www.practo.com/hyderabad/clinic/aditya-skin-hair-clinic-madinaguda&sa=U&ved=2ahUKEwjIi6vBw_r5AhVSHrkGHfLfAhwQFnoECAoQAg&usg=AOvVaw3VYFGgOqssnB4KBNs1AU1n\n",
      "['https://www.practo.com/hyderabad/clinic/aditya-skin-hair-clinic-madinaguda', 'sa=U', 'ved=2ahUKEwjIi6vBw_r5AhVSHrkGHfLfAhwQFnoECAoQAg', 'usg=AOvVaw3VYFGgOqssnB4KBNs1AU1n']\n",
      "Link searched for:  https://www.practo.com/hyderabad/clinic/aditya-skin-hair-clinic-madinaguda\n",
      "**************************************************\n"
     ]
    },
    {
     "name": "stderr",
     "output_type": "stream",
     "text": [
      "\r",
      "  4%|█▋                                     | 74/1715 [04:06<1:31:11,  3.33s/it]"
     ]
    },
    {
     "name": "stdout",
     "output_type": "stream",
     "text": [
      "Name:  N M Reddy SKIN AND HAIR CLINIC\n",
      "Speciality:  Dermatology Clinic\n",
      "Rating:  3.5\n",
      "Name:  (19 patient stories)\n",
      "Address:  # Shop No 3, Door No-5-85, Opposite Chenna Reddy Hospital, Manjeera Road., Landmark: Opposite Chenna Reddy Hospital, Hyderabad\n",
      "https://google.com/search?q=dr+indira+pavan+omega+clinics+hyderabad\n",
      "https://www.practo.com/hyderabad/doctor/dr-indira-pavan-202118-dermatologist-cosmetologist&sa=U&ved=2ahUKEwiAjt7Cw_r5AhVVH7kGHUM2B7cQFnoECAkQAg&usg=AOvVaw3VlhSmcIqXRkuchIOuzUKq\n",
      "['https://www.practo.com/hyderabad/doctor/dr-indira-pavan-202118-dermatologist-cosmetologist', 'sa=U', 'ved=2ahUKEwiAjt7Cw_r5AhVVH7kGHUM2B7cQFnoECAkQAg', 'usg=AOvVaw3VlhSmcIqXRkuchIOuzUKq']\n",
      "Link searched for:  https://www.practo.com/hyderabad/doctor/dr-indira-pavan-202118-dermatologist-cosmetologist\n",
      "**************************************************\n"
     ]
    },
    {
     "name": "stderr",
     "output_type": "stream",
     "text": [
      "\r",
      "  4%|█▋                                     | 75/1715 [04:09<1:27:53,  3.22s/it]"
     ]
    },
    {
     "name": "stdout",
     "output_type": "stream",
     "text": [
      "Name:  Dr. Indira Pavan\n",
      "Speciality:  Dermatologist\n",
      "Rating:  95% \n",
      "Name:  (539 votes)\n",
      "Address:  Divija Enclave, Street Number 3, Western Hills Colony, Addagutta Society., Landmark: Near Ratna HP Gas Agency And Opposite To JNTU., Hyderabad\n",
      "https://google.com/search?q=dr+boddepalli+srinivasarao+srinivasa+clinic+visakhapatnam\n",
      "https://www.practo.com/visakhapatnam/treatment-for-leptospirosis/pedda-boddepalli%3Fpage%3D8&sa=U&ved=2ahUKEwjS4ZDEw_r5AhWpFbkGHbK1BkAQFnoECAYQAg&usg=AOvVaw0QvXdBnVCyc1gxvFlLKZ-3\n",
      "['https://www.practo.com/visakhapatnam/treatment-for-leptospirosis/pedda-boddepalli%3Fpage%3D8', 'sa=U', 'ved=2ahUKEwjS4ZDEw_r5AhWpFbkGHbK1BkAQFnoECAYQAg', 'usg=AOvVaw0QvXdBnVCyc1gxvFlLKZ-3']\n",
      "Link searched for:  https://www.practo.com/visakhapatnam/treatment-for-leptospirosis/pedda-boddepalli%3Fpage%3D8\n",
      "**************************************************\n"
     ]
    },
    {
     "name": "stderr",
     "output_type": "stream",
     "text": [
      "\r",
      "  4%|█▋                                     | 76/1715 [04:13<1:32:23,  3.38s/it]"
     ]
    },
    {
     "name": "stdout",
     "output_type": "stream",
     "text": [
      "Heading is not availble\n",
      "Speciality is not available.\n",
      "Rating not available.\n",
      "Votes are not available.\n",
      "https://google.com/search?q=dr+gopi+palli+deepthi+nursing+home+visakhapatnam\n"
     ]
    },
    {
     "name": "stderr",
     "output_type": "stream",
     "text": [
      "\r",
      "  4%|█▊                                     | 77/1715 [04:15<1:23:47,  3.07s/it]"
     ]
    },
    {
     "name": "stdout",
     "output_type": "stream",
     "text": [
      "Couldn't find any practo links.\n",
      "https://google.com/search?q=dr+jayini+p+rammohen+jayini+multi-speciality+clinics+hyderabad\n",
      "https://www.practo.com/hyderabad/clinic/dr-jayini-rammohen-orthopedic-surgeon-kondapur&sa=U&ved=2ahUKEwjZ9YTHw_r5AhUuA7kGHcm1BcYQFnoECAkQAg&usg=AOvVaw0ElxOei_g6b_GUodcs2-rk\n",
      "['https://www.practo.com/hyderabad/clinic/dr-jayini-rammohen-orthopedic-surgeon-kondapur', 'sa=U', 'ved=2ahUKEwjZ9YTHw_r5AhUuA7kGHcm1BcYQFnoECAkQAg', 'usg=AOvVaw0ElxOei_g6b_GUodcs2-rk']\n",
      "Link searched for:  https://www.practo.com/hyderabad/clinic/dr-jayini-rammohen-orthopedic-surgeon-kondapur\n",
      "**************************************************\n"
     ]
    },
    {
     "name": "stderr",
     "output_type": "stream",
     "text": [
      "\r",
      "  5%|█▊                                     | 78/1715 [04:19<1:25:20,  3.13s/it]"
     ]
    },
    {
     "name": "stdout",
     "output_type": "stream",
     "text": [
      "Name:  Jayini Multi-Speciality Clinics\n",
      "Speciality:  Multi-speciality Clinic\n",
      "Rating:  4.5\n",
      "Name:  (1069 patient stories)\n",
      "Address:   Nallagandla , Landmark: Opp to Aparna Sarovar Grande, Hyderabad\n",
      "https://google.com/search?q=dr+sriharsha++talabhaktula+alyve+skin+clinic+visakhapatnam\n"
     ]
    },
    {
     "name": "stderr",
     "output_type": "stream",
     "text": [
      "\r",
      "  5%|█▊                                     | 79/1715 [04:21<1:16:36,  2.81s/it]"
     ]
    },
    {
     "name": "stdout",
     "output_type": "stream",
     "text": [
      "Couldn't find any practo links.\n",
      "https://google.com/search?q=dr+t+vijay+kumar+shree+sharan+poly+clinic+visakhapatnam\n"
     ]
    },
    {
     "name": "stderr",
     "output_type": "stream",
     "text": [
      "\r",
      "  5%|█▊                                     | 80/1715 [04:23<1:09:10,  2.54s/it]"
     ]
    },
    {
     "name": "stdout",
     "output_type": "stream",
     "text": [
      "Couldn't find any practo links.\n",
      "https://google.com/search?q=dr+b++rajendraprasad+sri+gayatri+clinic+visakhapatnam\n",
      "https://www.practo.com/visakhapatnam/clinic/sri-gayatri-skin-care-laser-clinic-dwarakanagar&sa=U&ved=2ahUKEwj16r7Kw_r5AhXVD7kGHecnDzwQFnoECAoQAg&usg=AOvVaw1Bq1KzYLQuKFxzmiLXy9vl\n",
      "['https://www.practo.com/visakhapatnam/clinic/sri-gayatri-skin-care-laser-clinic-dwarakanagar', 'sa=U', 'ved=2ahUKEwj16r7Kw_r5AhXVD7kGHecnDzwQFnoECAoQAg', 'usg=AOvVaw1Bq1KzYLQuKFxzmiLXy9vl']\n",
      "Link searched for:  https://www.practo.com/visakhapatnam/clinic/sri-gayatri-skin-care-laser-clinic-dwarakanagar\n",
      "**************************************************\n"
     ]
    },
    {
     "name": "stderr",
     "output_type": "stream",
     "text": [
      "\r",
      "  5%|█▊                                     | 81/1715 [04:26<1:15:49,  2.78s/it]"
     ]
    },
    {
     "name": "stdout",
     "output_type": "stream",
     "text": [
      "Name:  Sri Gayatri Skin Care, Laser Clinic & Hair Transplant Centre\n",
      "Speciality:  Multi-speciality Clinic\n",
      "Rating:  5.0\n",
      "Name:  (924 patient stories)\n",
      "Address:  42-9-24, 1st Floor, Satya Sridevi Enclave, 3rd Lane., Landmark: Opposite To Anupama Nursing Home., Visakhapatnam\n",
      "https://google.com/search?q=dr+p+kamakshi+sri+gayatri+clinic+visakhapatnam\n",
      "https://www.practo.com/visakhapatnam/clinic/sri-gayatri-skin-care-laser-clinic-dwarakanagar/doctors&sa=U&ved=2ahUKEwif74zMw_r5AhWIDrkGHRyCC-EQFnoECAkQAg&usg=AOvVaw2Zv2LqlShd0PuRTZTjXi6N\n",
      "['https://www.practo.com/visakhapatnam/clinic/sri-gayatri-skin-care-laser-clinic-dwarakanagar/doctors', 'sa=U', 'ved=2ahUKEwif74zMw_r5AhWIDrkGHRyCC-EQFnoECAkQAg', 'usg=AOvVaw2Zv2LqlShd0PuRTZTjXi6N']\n",
      "Link searched for:  https://www.practo.com/visakhapatnam/clinic/sri-gayatri-skin-care-laser-clinic-dwarakanagar/doctors\n",
      "**************************************************\n"
     ]
    },
    {
     "name": "stderr",
     "output_type": "stream",
     "text": [
      "\r",
      "  5%|█▊                                     | 82/1715 [04:30<1:23:21,  3.06s/it]"
     ]
    },
    {
     "name": "stdout",
     "output_type": "stream",
     "text": [
      "Name:  Sri Gayatri Skin Care, Laser Clinic & Hair Transplant Centre\n",
      "Speciality:  Multi-speciality Clinic\n",
      "Rating:  5.0\n",
      "Name:  (924 patient stories)\n",
      "Address:  42-9-24, 1st Floor, Satya Sridevi Enclave, 3rd Lane., Landmark: Opposite To Anupama Nursing Home., Visakhapatnam\n",
      "https://google.com/search?q=dr+r++krishna++krishna+clinic+visakhapatnam\n",
      "https://www.practo.com/visakhapatnam/doctor/dr-r-v-s-g-m-krishna-rao-general-physician&sa=U&ved=2ahUKEwjctu7Nw_r5AhX8DbkGHaOCCuQQFnoECAgQAg&usg=AOvVaw14oh-krCJyWJWtUlZc3KUv\n",
      "['https://www.practo.com/visakhapatnam/doctor/dr-r-v-s-g-m-krishna-rao-general-physician', 'sa=U', 'ved=2ahUKEwjctu7Nw_r5AhX8DbkGHaOCCuQQFnoECAgQAg', 'usg=AOvVaw14oh-krCJyWJWtUlZc3KUv']\n",
      "Link searched for:  https://www.practo.com/visakhapatnam/doctor/dr-r-v-s-g-m-krishna-rao-general-physician\n",
      "**************************************************\n"
     ]
    },
    {
     "name": "stderr",
     "output_type": "stream",
     "text": [
      "\r",
      "  5%|█▉                                     | 83/1715 [04:32<1:18:28,  2.88s/it]"
     ]
    },
    {
     "name": "stdout",
     "output_type": "stream",
     "text": [
      "Name:  Dr. R.V.S.G.M Krishna Rao\n",
      "Speciality:  General Physician\n",
      "Rating not available.\n",
      "Votes are not available.\n",
      "Address:  D No 8-9-8,Old Gajuwaka,Visakhapatnam, Landmark: opp Sudha Hotel., Visakhapatnam\n",
      "https://google.com/search?q=dr+kvn+prasad+sri+rama+clinic+visakhapatnam\n",
      "https://www.practo.com/visakhapatnam/doctor/dr-y-seetha-rama-prasad-orthopedist-1&sa=U&ved=2ahUKEwjt-sLPw_r5AhX8DbkGHTBzCsUQFnoECAUQAg&usg=AOvVaw2bq4At-5d-2MI1ZS1RTKVg\n",
      "['https://www.practo.com/visakhapatnam/doctor/dr-y-seetha-rama-prasad-orthopedist-1', 'sa=U', 'ved=2ahUKEwjt-sLPw_r5AhX8DbkGHTBzCsUQFnoECAUQAg', 'usg=AOvVaw2bq4At-5d-2MI1ZS1RTKVg']\n",
      "Link searched for:  https://www.practo.com/visakhapatnam/doctor/dr-y-seetha-rama-prasad-orthopedist-1\n",
      "**************************************************\n"
     ]
    },
    {
     "name": "stderr",
     "output_type": "stream",
     "text": [
      "\r",
      "  5%|█▉                                     | 84/1715 [04:36<1:22:09,  3.02s/it]"
     ]
    },
    {
     "name": "stdout",
     "output_type": "stream",
     "text": [
      "Name:  Dr. Y.Seetha Rama Prasad\n",
      "Speciality:  Orthopedist\n",
      "Rating not available.\n",
      "Votes are not available.\n",
      "Address:  Nowroji Rd, Ram Nagar, Visakhapatnam, Andhra Pradesh, Visakhapatnam\n",
      "https://google.com/search?q=dr+a+lakshmi+manasi+sri+krishna+multispeciality+clinics+visakhapatnam\n",
      "https://www.practo.com/visakhapatnam/clinic/sri-satya-doctors-plaza-seethammapeta&sa=U&ved=2ahUKEwjSu9HQw_r5AhUBA7kGHZQVCAoQFnoECAgQAg&usg=AOvVaw1Hm2HmfBkSiLhgVvaDzVY8\n",
      "['https://www.practo.com/visakhapatnam/clinic/sri-satya-doctors-plaza-seethammapeta', 'sa=U', 'ved=2ahUKEwjSu9HQw_r5AhUBA7kGHZQVCAoQFnoECAgQAg', 'usg=AOvVaw1Hm2HmfBkSiLhgVvaDzVY8']\n",
      "Link searched for:  https://www.practo.com/visakhapatnam/clinic/sri-satya-doctors-plaza-seethammapeta\n",
      "**************************************************\n"
     ]
    },
    {
     "name": "stderr",
     "output_type": "stream",
     "text": [
      "\r",
      "  5%|█▉                                     | 85/1715 [04:38<1:18:12,  2.88s/it]"
     ]
    },
    {
     "name": "stdout",
     "output_type": "stream",
     "text": [
      "Name:  Sri Krishna Multispeciality Clinics\n",
      "Speciality:  Multi-speciality Clinic\n",
      "Rating not available.\n",
      "Votes are not available.\n",
      "Address:  Srinivasa Nilayam, JR Lay Out, New Venkojipalem, Landmark: Near Hanuman Temple, Opposite to  Shivalayam, Visakhapatnam\n",
      "https://google.com/search?q=dr+venkata+vaddiraju+visakhakneeclinic+visakhapatnam\n"
     ]
    },
    {
     "name": "stderr",
     "output_type": "stream",
     "text": [
      "\r",
      "  5%|█▉                                     | 86/1715 [04:43<1:31:32,  3.37s/it]"
     ]
    },
    {
     "name": "stdout",
     "output_type": "stream",
     "text": [
      "Couldn't find any practo links.\n",
      "https://google.com/search?q=dr+g+manohar+gayatri+doctors+care+visakhapatnam\n",
      "https://www.practo.com/visakhapatnam/doctor/dr-g-manohar-urologist&sa=U&ved=2ahUKEwiN_YbUw_r5AhVXI7kGHTslBB8QFnoECAgQAg&usg=AOvVaw2_YgTJJvv13g9ipp7cduJ_\n",
      "['https://www.practo.com/visakhapatnam/doctor/dr-g-manohar-urologist', 'sa=U', 'ved=2ahUKEwiN_YbUw_r5AhVXI7kGHTslBB8QFnoECAgQAg', 'usg=AOvVaw2_YgTJJvv13g9ipp7cduJ_']\n",
      "Link searched for:  https://www.practo.com/visakhapatnam/doctor/dr-g-manohar-urologist\n",
      "**************************************************\n"
     ]
    },
    {
     "name": "stderr",
     "output_type": "stream",
     "text": [
      "\r",
      "  5%|█▉                                     | 87/1715 [04:45<1:25:15,  3.14s/it]"
     ]
    },
    {
     "name": "stdout",
     "output_type": "stream",
     "text": [
      "Name:  Dr. G.Manohar\n",
      "Speciality:  Urologist\n",
      "Rating not available.\n",
      "Votes are not available.\n",
      "Address:  1st Floor, Gayatri Doctors Care, Maharanipeta., Landmark: Opposite To Indus Hospital., Visakhapatnam\n",
      "https://google.com/search?q=dr+m+madhusudhana+babu+somanath+enclave+visakhapatnam\n",
      "https://www.practo.com/visakhapatnam/doctor/dr-madhusudan-babu-neurologist&sa=U&ved=2ahUKEwjYrrnVw_r5AhXABbkGHUsuB8oQFnoECAkQAg&usg=AOvVaw1G-rbTrGlU-VFKOuLm6B13\n",
      "['https://www.practo.com/visakhapatnam/doctor/dr-madhusudan-babu-neurologist', 'sa=U', 'ved=2ahUKEwjYrrnVw_r5AhXABbkGHUsuB8oQFnoECAkQAg', 'usg=AOvVaw1G-rbTrGlU-VFKOuLm6B13']\n",
      "Link searched for:  https://www.practo.com/visakhapatnam/doctor/dr-madhusudan-babu-neurologist\n",
      "**************************************************\n"
     ]
    },
    {
     "name": "stderr",
     "output_type": "stream",
     "text": [
      "\r",
      "  5%|██                                     | 88/1715 [04:48<1:23:59,  3.10s/it]"
     ]
    },
    {
     "name": "stdout",
     "output_type": "stream",
     "text": [
      "Name:  Dr. Madhusudan Babu\n",
      "Speciality:  Neurologist\n",
      "Rating:  4.5\n",
      "Votes are not available.\n",
      "Address:  Door Number-18-516/2/1, Plot Number 1, Health City, Chinnagadili, Landmark: Behind L V Prasad Eye Hospital & VIMS Hospital, Visakhapatnam\n",
      "https://google.com/search?q=dr+naveen+kumar++madigani+dr.+naveen's+advanced+skin,+cosmetology,+laser+&+hair+transplantation+clinic++visakhapatnam\n",
      "https://www.practo.com/bangalore/doctor/dr-naveen-kumar-10-cosmetic-surgery&sa=U&ved=2ahUKEwjW39bWw_r5AhUypZUCHaQsDwMQFnoECAIQAg&usg=AOvVaw0GVUjIFR8cLXzjdgfXXXm_\n",
      "['https://www.practo.com/bangalore/doctor/dr-naveen-kumar-10-cosmetic-surgery', 'sa=U', 'ved=2ahUKEwjW39bWw_r5AhUypZUCHaQsDwMQFnoECAIQAg', 'usg=AOvVaw0GVUjIFR8cLXzjdgfXXXm_']\n",
      "Link searched for:  https://www.practo.com/bangalore/doctor/dr-naveen-kumar-10-cosmetic-surgery\n",
      "**************************************************\n"
     ]
    },
    {
     "name": "stderr",
     "output_type": "stream",
     "text": [
      "\r",
      "  5%|██                                     | 89/1715 [04:52<1:30:18,  3.33s/it]"
     ]
    },
    {
     "name": "stdout",
     "output_type": "stream",
     "text": [
      "Name:  Dr. Naveen Kumar\n",
      "Speciality:  Hair Transplant Surgeon\n",
      "Rating:  100% \n",
      "Name:  (59 votes)\n",
      "Address:  488, 3rd Main, Teachers Colony, Landmark: Elite Clinic, Bangalore\n",
      "https://google.com/search?q=dr+b+bhaskarrao+doctor's+enclave+visakhapatnam\n",
      "https://www.practo.com/visakhapatnam/doctor/bhaskar-rao-b-nephrologist&sa=U&ved=2ahUKEwjrs8PYw_r5AhWqr5UCHedxC2YQFnoECAkQAg&usg=AOvVaw1ThYsw-i_lSOkETdOzfIMx\n",
      "['https://www.practo.com/visakhapatnam/doctor/bhaskar-rao-b-nephrologist', 'sa=U', 'ved=2ahUKEwjrs8PYw_r5AhWqr5UCHedxC2YQFnoECAkQAg', 'usg=AOvVaw1ThYsw-i_lSOkETdOzfIMx']\n",
      "Link searched for:  https://www.practo.com/visakhapatnam/doctor/bhaskar-rao-b-nephrologist\n",
      "**************************************************\n"
     ]
    },
    {
     "name": "stderr",
     "output_type": "stream",
     "text": [
      "\r",
      "  5%|██                                     | 90/1715 [04:55<1:24:04,  3.10s/it]"
     ]
    },
    {
     "name": "stdout",
     "output_type": "stream",
     "text": [
      "Name:  Dr. Bhaskar Rao B\n",
      "Speciality:  Nephrologist/Renal Specialist\n",
      "Rating not available.\n",
      "Votes are not available.\n",
      "Address:  1-1-83, Venkojipalem, MVP Colony, Landmark: Near Petrol Bunk, Visakhapatnam\n",
      "https://google.com/search?q=dr+anup+gundu+blossoms+skin+and+hair+clinic+hyderabad\n"
     ]
    },
    {
     "name": "stderr",
     "output_type": "stream",
     "text": [
      "\r",
      "  5%|██                                     | 91/1715 [04:57<1:17:43,  2.87s/it]"
     ]
    },
    {
     "name": "stdout",
     "output_type": "stream",
     "text": [
      "Couldn't find any practo links.\n",
      "https://google.com/search?q=dr+venkata++p++dr.+pvk+health+care+poly+clinic+and+diagnostics+hyderabad\n",
      "https://www.practo.com/hyderabad/clinic/viswasri-ashwini-polyclinic-and-diabetic-centre-balapur-1&sa=U&ved=2ahUKEwiUsu7aw_r5AhWoqZUCHeryBJMQFnoECAQQAg&usg=AOvVaw0LL5ete7E-Txct9XwI9Qhw\n",
      "['https://www.practo.com/hyderabad/clinic/viswasri-ashwini-polyclinic-and-diabetic-centre-balapur-1', 'sa=U', 'ved=2ahUKEwiUsu7aw_r5AhWoqZUCHeryBJMQFnoECAQQAg', 'usg=AOvVaw0LL5ete7E-Txct9XwI9Qhw']\n",
      "Link searched for:  https://www.practo.com/hyderabad/clinic/viswasri-ashwini-polyclinic-and-diabetic-centre-balapur-1\n",
      "**************************************************\n"
     ]
    },
    {
     "name": "stderr",
     "output_type": "stream",
     "text": [
      "\r",
      "  5%|██                                     | 92/1715 [05:00<1:19:27,  2.94s/it]"
     ]
    },
    {
     "name": "stdout",
     "output_type": "stream",
     "text": [
      "Name:  Dr. PVK Health Care Poly Clinic and Diagnostics\n",
      "Speciality:  Multi-speciality Clinic\n",
      "Rating not available.\n",
      "Votes are not available.\n",
      "Address:  # Plot No (47,48) , Gajularamaram, Landmark: Beside Ramky One Marvel Apartments, Hyderabad\n",
      "https://google.com/search?q=dr+pavan+kumar++k+omega+clinics+hyderabad\n",
      "https://www.practo.com/hyderabad/doctor/dr-pavan-10-pediatrician&sa=U&ved=2ahUKEwipw6rcw_r5AhUTs5UCHeZSDE4QFnoECAkQAg&usg=AOvVaw2EtWulD-I0aBcdqLzZrfsY\n",
      "['https://www.practo.com/hyderabad/doctor/dr-pavan-10-pediatrician', 'sa=U', 'ved=2ahUKEwipw6rcw_r5AhUTs5UCHeZSDE4QFnoECAkQAg', 'usg=AOvVaw2EtWulD-I0aBcdqLzZrfsY']\n",
      "Link searched for:  https://www.practo.com/hyderabad/doctor/dr-pavan-10-pediatrician\n",
      "**************************************************\n"
     ]
    },
    {
     "name": "stderr",
     "output_type": "stream",
     "text": [
      "\r",
      "  5%|██                                     | 93/1715 [05:06<1:41:38,  3.76s/it]"
     ]
    },
    {
     "name": "stdout",
     "output_type": "stream",
     "text": [
      "Name:  Dr. K. Pavan Kumar\n",
      "Speciality:  Pediatrician\n",
      "Rating:  98% \n",
      "Name:  (230 votes)\n",
      "Address:  Divija Enclave, Street Number 3, Western Hills Colony, Addagutta Society., Landmark: Near Ratna HP Gas Agency And Opposite To JNTU., Hyderabad\n",
      "https://google.com/search?q=dr+vidya+m+kavya+narsing+home+hyderabad\n",
      "https://www.practo.com/hyderabad/clinic/kavya-nursing-home-kphb-1&sa=U&ved=2ahUKEwjigIbfw_r5AhWTpZUCHaCqBw0QFnoECAoQAg&usg=AOvVaw2kihhN9Bp-QGAnZT0XZl8O\n",
      "['https://www.practo.com/hyderabad/clinic/kavya-nursing-home-kphb-1', 'sa=U', 'ved=2ahUKEwjigIbfw_r5AhWTpZUCHaCqBw0QFnoECAoQAg', 'usg=AOvVaw2kihhN9Bp-QGAnZT0XZl8O']\n",
      "Link searched for:  https://www.practo.com/hyderabad/clinic/kavya-nursing-home-kphb-1\n",
      "**************************************************\n"
     ]
    },
    {
     "name": "stderr",
     "output_type": "stream",
     "text": [
      "\r",
      "  5%|██▏                                    | 94/1715 [05:09<1:34:29,  3.50s/it]"
     ]
    },
    {
     "name": "stdout",
     "output_type": "stream",
     "text": [
      "Name:  Kavya Nursing Home\n",
      "Speciality:  Multi-speciality Clinic\n",
      "Rating:  5.0\n",
      "Name:  (398 patient stories)\n",
      "Address:  House Number 22-254, Street Number3, A.S Raju Nagar, Landmark: Near South India Shopping Mall and SBI Bank, Hyderabad\n",
      "https://google.com/search?q=dr+aruna+k+shree+vaishnavi+childrens+clinic+hyderabad\n",
      "https://www.practo.com/hyderabad/clinic/sri-vaishnavi-clinic-nizampet&sa=U&ved=2ahUKEwjprrbgw_r5AhUtqpUCHQedBJEQFnoECAAQAg&usg=AOvVaw29ArPTMhJDRF4ts3Rsfl-F\n",
      "['https://www.practo.com/hyderabad/clinic/sri-vaishnavi-clinic-nizampet', 'sa=U', 'ved=2ahUKEwjprrbgw_r5AhUtqpUCHQedBJEQFnoECAAQAg', 'usg=AOvVaw29ArPTMhJDRF4ts3Rsfl-F']\n",
      "Link searched for:  https://www.practo.com/hyderabad/clinic/sri-vaishnavi-clinic-nizampet\n",
      "**************************************************\n"
     ]
    },
    {
     "name": "stderr",
     "output_type": "stream",
     "text": [
      "\r",
      "  6%|██▏                                    | 95/1715 [05:12<1:31:43,  3.40s/it]"
     ]
    },
    {
     "name": "stdout",
     "output_type": "stream",
     "text": [
      "Name:  Sri Vaishnavi Clinic\n",
      "Speciality:  General Health Clinic\n",
      "Rating not available.\n",
      "Votes are not available.\n",
      "Address:  Beside Sri Sri Holistic Hospital, Behinde Vijaya Bank and ATM, Nizampet Main Road., Hyderabad\n",
      "https://google.com/search?q=dr+jhansi+k+sri+bhargavi+hospital+hyderabad\n",
      "https://www.practo.com/hyderabad/doctor/dr-k-jansilakshmi-gynecologist-obstetrician&sa=U&ved=2ahUKEwiAx_fhw_r5AhV1rZUCHf9cAnwQFnoECAkQAg&usg=AOvVaw2comyGDsfV1DPP-ejJTnwG\n",
      "['https://www.practo.com/hyderabad/doctor/dr-k-jansilakshmi-gynecologist-obstetrician', 'sa=U', 'ved=2ahUKEwiAx_fhw_r5AhV1rZUCHf9cAnwQFnoECAkQAg', 'usg=AOvVaw2comyGDsfV1DPP-ejJTnwG']\n",
      "Link searched for:  https://www.practo.com/hyderabad/doctor/dr-k-jansilakshmi-gynecologist-obstetrician\n",
      "**************************************************\n"
     ]
    },
    {
     "name": "stderr",
     "output_type": "stream",
     "text": [
      "\r",
      "  6%|██▏                                    | 96/1715 [05:16<1:36:48,  3.59s/it]"
     ]
    },
    {
     "name": "stdout",
     "output_type": "stream",
     "text": [
      "Name:  Dr. K.Jansi Lakshmi\n",
      "Speciality:  Gynecologist\n",
      "Rating not available.\n",
      "Votes are not available.\n",
      "Address:  Plot No 170, Kalyan Nagar, Venture 3, Moti Nagar, Hyderabad\n",
      "https://google.com/search?q=dr+i+chandrasekhar+harshitha+hospital+visakhapatnam\n"
     ]
    },
    {
     "name": "stderr",
     "output_type": "stream",
     "text": [
      "\r",
      "  6%|██▏                                    | 97/1715 [05:18<1:27:13,  3.23s/it]"
     ]
    },
    {
     "name": "stdout",
     "output_type": "stream",
     "text": [
      "Couldn't find any practo links.\n",
      "https://google.com/search?q=dr+av+mohanrao+samudra+hospital+visakhapatnam\n",
      "https://www.practo.com/visakhapatnam/doctor/dr-a-v-mohan-rao-urologist&sa=U&ved=2ahUKEwjk663lw_r5AhUYr5UCHSw3ASwQFnoECAMQAg&usg=AOvVaw2bBoiYzSF2qpDk55YJQz8j\n",
      "['https://www.practo.com/visakhapatnam/doctor/dr-a-v-mohan-rao-urologist', 'sa=U', 'ved=2ahUKEwjk663lw_r5AhUYr5UCHSw3ASwQFnoECAMQAg', 'usg=AOvVaw2bBoiYzSF2qpDk55YJQz8j']\n",
      "Link searched for:  https://www.practo.com/visakhapatnam/doctor/dr-a-v-mohan-rao-urologist\n",
      "**************************************************\n"
     ]
    },
    {
     "name": "stderr",
     "output_type": "stream",
     "text": [
      "\r",
      "  6%|██▏                                    | 98/1715 [05:23<1:36:35,  3.58s/it]"
     ]
    },
    {
     "name": "stdout",
     "output_type": "stream",
     "text": [
      "Name:  Dr. A. V. Mohan Rao\n",
      "Speciality:  Urologist\n",
      "Rating not available.\n",
      "Votes are not available.\n",
      "Address:  # 1st Floor, Sai Manasa Medical Centre, Zilla Parishad Jn., Landmark: Near Collector Office., Visakhapatnam\n",
      "https://google.com/search?q=dr+ranga+rao+m+v+kavya+nursing+home+hyderabad\n",
      "https://www.practo.com/hyderabad/doctor/dr-m-v-ranga-rao-general-surgeon%3Fsubscription_id%3D0&sa=U&ved=2ahUKEwjG3Iznw_r5AhWDqZUCHXzTB6cQFnoECAQQAg&usg=AOvVaw0SUROIzgN5AGM3JVUNpT60\n",
      "['https://www.practo.com/hyderabad/doctor/dr-m-v-ranga-rao-general-surgeon%3Fsubscription_id%3D0', 'sa=U', 'ved=2ahUKEwjG3Iznw_r5AhWDqZUCHXzTB6cQFnoECAQQAg', 'usg=AOvVaw0SUROIzgN5AGM3JVUNpT60']\n",
      "Link searched for:  https://www.practo.com/hyderabad/doctor/dr-m-v-ranga-rao-general-surgeon%3Fsubscription_id%3D0\n",
      "**************************************************\n"
     ]
    },
    {
     "name": "stderr",
     "output_type": "stream",
     "text": [
      "\r",
      "  6%|██▎                                    | 99/1715 [05:27<1:43:26,  3.84s/it]"
     ]
    },
    {
     "name": "stdout",
     "output_type": "stream",
     "text": [
      "Name:  Dr. M V Ranga Rao\n",
      "Speciality:  General Surgeon\n",
      "Rating not available.\n",
      "Votes are not available.\n",
      "https://google.com/search?q=dr+mithun+d+ashmita+ortho+spine+care+hyderabad\n",
      "https://www.practo.com/hyderabad/doctor/dr-mithun-jakkan-spine-surgeon&sa=U&ved=2ahUKEwis-pvpw_r5AhXFuZUCHVNIC_QQFnoECAQQAg&usg=AOvVaw3G8SEa_weHp-zMOSoukhhi\n",
      "['https://www.practo.com/hyderabad/doctor/dr-mithun-jakkan-spine-surgeon', 'sa=U', 'ved=2ahUKEwis-pvpw_r5AhXFuZUCHVNIC_QQFnoECAQQAg', 'usg=AOvVaw3G8SEa_weHp-zMOSoukhhi']\n",
      "Link searched for:  https://www.practo.com/hyderabad/doctor/dr-mithun-jakkan-spine-surgeon\n",
      "**************************************************\n"
     ]
    },
    {
     "name": "stderr",
     "output_type": "stream",
     "text": [
      "\r",
      "  6%|██▏                                   | 100/1715 [05:30<1:33:15,  3.46s/it]"
     ]
    },
    {
     "name": "stdout",
     "output_type": "stream",
     "text": [
      "Name:  Dr. Mithun Jakkan\n",
      "Speciality:  Spine Surgeon (Ortho)\n",
      "Rating:  4.5\n",
      "Votes are not available.\n",
      "Address:  Sy Number- 360, Number- 5/4 - 12-16,  Beside Vijetha Super Market, Chanda Nagar,, Hyderabad\n",
      "https://google.com/search?q=dr+varun+bogadi+nithya+gastro+and+liver+clinic++hyderabad\n"
     ]
    },
    {
     "name": "stderr",
     "output_type": "stream",
     "text": [
      "\r",
      "  6%|██▏                                   | 101/1715 [05:31<1:18:31,  2.92s/it]"
     ]
    },
    {
     "name": "stdout",
     "output_type": "stream",
     "text": [
      "Couldn't find any practo links.\n",
      "https://google.com/search?q=dr+shobha++p+maruthu+hospital+hyderabad\n",
      "https://www.practo.com/hyderabad/doctor/g-shobha-gynecologist-obstetrician-1&sa=U&ved=2ahUKEwjO-Z3rw_r5AhVtqpUCHYjLAPYQFnoECAUQAg&usg=AOvVaw3snT7dwKn7p9LJG-JJfDA_\n",
      "['https://www.practo.com/hyderabad/doctor/g-shobha-gynecologist-obstetrician-1', 'sa=U', 'ved=2ahUKEwjO-Z3rw_r5AhVtqpUCHYjLAPYQFnoECAUQAg', 'usg=AOvVaw3snT7dwKn7p9LJG-JJfDA_']\n",
      "Link searched for:  https://www.practo.com/hyderabad/doctor/g-shobha-gynecologist-obstetrician-1\n",
      "**************************************************\n"
     ]
    },
    {
     "name": "stderr",
     "output_type": "stream",
     "text": [
      "\r",
      "  6%|██▎                                   | 102/1715 [05:37<1:37:12,  3.62s/it]"
     ]
    },
    {
     "name": "stdout",
     "output_type": "stream",
     "text": [
      "Name:  Dr. G Shobha\n",
      "Speciality:  Gynecologist\n",
      "Rating:  3.5\n",
      "Votes are not available.\n",
      "Address:  Jet Colony, Sanath Nagar, Landmark: Opposite Erragadda Rithu Bazar, Hyderabad\n",
      "https://google.com/search?q=dr+ajay++paruchuri+ajay+orthopaedic+clinic+hyderabad\n",
      "https://www.practo.com/hyderabad/doctor/ajay-kumar-paruchuri-orthopedist&sa=U&ved=2ahUKEwiX2d3tw_r5AhXFrZUCHVnFCZYQFnoECAgQAg&usg=AOvVaw2TXFwY_fT4VmxcbXltoXHi\n",
      "['https://www.practo.com/hyderabad/doctor/ajay-kumar-paruchuri-orthopedist', 'sa=U', 'ved=2ahUKEwiX2d3tw_r5AhXFrZUCHVnFCZYQFnoECAgQAg', 'usg=AOvVaw2TXFwY_fT4VmxcbXltoXHi']\n",
      "Link searched for:  https://www.practo.com/hyderabad/doctor/ajay-kumar-paruchuri-orthopedist\n",
      "**************************************************\n"
     ]
    },
    {
     "name": "stderr",
     "output_type": "stream",
     "text": [
      "\r",
      "  6%|██▎                                   | 103/1715 [05:39<1:29:59,  3.35s/it]"
     ]
    },
    {
     "name": "stdout",
     "output_type": "stream",
     "text": [
      "Name:  Dr. Ajay Kumar Paruchuri\n",
      "Speciality:  Spine Surgeon (Ortho)\n",
      "Rating:  96% \n",
      "Name:  (437 votes)\n",
      "Address:  MIG 252, Road Number 4, KPHB Colony, 1st Floor, Likhitha's Diagnostics & Speciality Lab, Landmark: Opposite JK hospital, Hyderabad\n",
      "https://google.com/search?q=dr+k+venkatachalam+sri+gayatri+skin+care+visakhapatnam\n",
      "https://www.practo.com/visakhapatnam/doctor/k-venkata-chalam-dermatologist-cosmetologist-1&sa=U&ved=2ahUKEwizwoTvw_r5AhXMpZUCHbDiDKEQFnoECAgQAg&usg=AOvVaw31O6AdZJZsbpJI9uwxcHLo\n",
      "['https://www.practo.com/visakhapatnam/doctor/k-venkata-chalam-dermatologist-cosmetologist-1', 'sa=U', 'ved=2ahUKEwizwoTvw_r5AhXMpZUCHbDiDKEQFnoECAgQAg', 'usg=AOvVaw31O6AdZJZsbpJI9uwxcHLo']\n",
      "Link searched for:  https://www.practo.com/visakhapatnam/doctor/k-venkata-chalam-dermatologist-cosmetologist-1\n",
      "**************************************************\n"
     ]
    },
    {
     "name": "stderr",
     "output_type": "stream",
     "text": [
      "\r",
      "  6%|██▎                                   | 104/1715 [05:42<1:24:13,  3.14s/it]"
     ]
    },
    {
     "name": "stdout",
     "output_type": "stream",
     "text": [
      "Name:  Dr. K.Venkata Chalam\n",
      "Speciality:  Dermatologist\n",
      "Rating:  98% \n",
      "Name:  (866 votes)\n",
      "Address:  42-9-24, 1st Floor, Satya Sridevi Enclave, 3rd Lane., Landmark: Opposite To Anupama Nursing Home., Visakhapatnam\n",
      "https://google.com/search?q=dr+chandra+v+tanishka+clinic+hyderabad\n",
      "https://www.practo.com/hyderabad/clinic/tanishka-clinics-kphb&sa=U&ved=2ahUKEwjJ3qXww_r5AhWDpJUCHYbkABYQFnoECAgQAg&usg=AOvVaw17Wiggf6b-36eARZ9qZ6bb\n",
      "['https://www.practo.com/hyderabad/clinic/tanishka-clinics-kphb', 'sa=U', 'ved=2ahUKEwjJ3qXww_r5AhWDpJUCHYbkABYQFnoECAgQAg', 'usg=AOvVaw17Wiggf6b-36eARZ9qZ6bb']\n",
      "Link searched for:  https://www.practo.com/hyderabad/clinic/tanishka-clinics-kphb\n",
      "**************************************************\n"
     ]
    },
    {
     "name": "stderr",
     "output_type": "stream",
     "text": [
      "\r",
      "  6%|██▎                                   | 105/1715 [05:45<1:21:12,  3.03s/it]"
     ]
    },
    {
     "name": "stdout",
     "output_type": "stream",
     "text": [
      "Name:  Tanishka Clinics\n",
      "Speciality:  Multi-speciality Clinic\n",
      "Rating:  4.5\n",
      "Name:  (35 patient stories)\n",
      "Address:  Plot No 76/C, 3rd road, H P Gas Agency line , Addagutta Society, KPBH Colony Landmark: Opp Jntu, Hyderabad\n",
      "https://google.com/search?q=dr+kavitha+khola+sai+arogya+pharmacy+hyderabad\n",
      "https://www.practo.com/hyderabad/doctor/dr-kavitha-57-general-physician-2&sa=U&ved=2ahUKEwjajs_xw_r5AhVqr5UCHcd-BdAQFnoECAEQAg&usg=AOvVaw0A2_tyAbzZwlSrLmCIRe8_\n",
      "['https://www.practo.com/hyderabad/doctor/dr-kavitha-57-general-physician-2', 'sa=U', 'ved=2ahUKEwjajs_xw_r5AhVqr5UCHcd-BdAQFnoECAEQAg', 'usg=AOvVaw0A2_tyAbzZwlSrLmCIRe8_']\n",
      "Link searched for:  https://www.practo.com/hyderabad/doctor/dr-kavitha-57-general-physician-2\n",
      "**************************************************\n"
     ]
    },
    {
     "name": "stderr",
     "output_type": "stream",
     "text": [
      "\r",
      "  6%|██▎                                   | 106/1715 [05:48<1:25:29,  3.19s/it]"
     ]
    },
    {
     "name": "stdout",
     "output_type": "stream",
     "text": [
      "Name:  Dr. Kavitha\n",
      "Speciality:  General Physician\n",
      "Rating not available.\n",
      "Votes are not available.\n",
      "Address:  1-29, Nandamuri Nagar, Hyder Nagar, Kukatpally, Hyderabad, Telangana, Hyderabad\n",
      "https://google.com/search?q=dr+prabhat+kiran+reddy+k+prabhath+medical+center+hyderabad\n",
      "https://www.practo.com/hyderabad/doctor/dr-k-prabhath-kiran-reddy-general-medicine&sa=U&ved=2ahUKEwjBh6nzw_r5AhWMgpUCHZIlA08QFnoECAIQAg&usg=AOvVaw3cG0yFQmvJ8PMwCwVLq8Pl\n",
      "['https://www.practo.com/hyderabad/doctor/dr-k-prabhath-kiran-reddy-general-medicine', 'sa=U', 'ved=2ahUKEwjBh6nzw_r5AhWMgpUCHZIlA08QFnoECAIQAg', 'usg=AOvVaw3cG0yFQmvJ8PMwCwVLq8Pl']\n",
      "Link searched for:  https://www.practo.com/hyderabad/doctor/dr-k-prabhath-kiran-reddy-general-medicine\n",
      "**************************************************\n"
     ]
    },
    {
     "name": "stderr",
     "output_type": "stream",
     "text": [
      "\r",
      "  6%|██▎                                   | 107/1715 [05:52<1:30:55,  3.39s/it]"
     ]
    },
    {
     "name": "stdout",
     "output_type": "stream",
     "text": [
      "Name:  Dr. K Prabhath Kiran Reddy\n",
      "Speciality:  General Physician\n",
      "Rating not available.\n",
      "Votes are not available.\n",
      "Address:  Plot Number  342, High Tension Line Road, Raja Rajeshwari Nagar, Landmark: After La Convention  Centre, Hyderabad\n",
      "https://google.com/search?q=dr+swathi+c+ramdev+rao+hospital,house++hyderabad\n"
     ]
    },
    {
     "name": "stderr",
     "output_type": "stream",
     "text": [
      "\r",
      "  6%|██▍                                   | 108/1715 [05:55<1:23:38,  3.12s/it]"
     ]
    },
    {
     "name": "stdout",
     "output_type": "stream",
     "text": [
      "Couldn't find any practo links.\n",
      "https://google.com/search?q=dr+arun+nadimpalli++magnum+orthopadic+clinic+hyderabad\n",
      "https://www.practo.com/hyderabad/doctor/arun-kumar-nadimpalli-orthopedist&sa=U&ved=2ahUKEwiv_6z2w_r5AhUfppUCHfBJCPgQFnoECAgQAg&usg=AOvVaw072GDB4CcgUOX58i7Uuao4\n",
      "['https://www.practo.com/hyderabad/doctor/arun-kumar-nadimpalli-orthopedist', 'sa=U', 'ved=2ahUKEwiv_6z2w_r5AhUfppUCHfBJCPgQFnoECAgQAg', 'usg=AOvVaw072GDB4CcgUOX58i7Uuao4']\n",
      "Link searched for:  https://www.practo.com/hyderabad/doctor/arun-kumar-nadimpalli-orthopedist\n",
      "**************************************************\n"
     ]
    },
    {
     "name": "stderr",
     "output_type": "stream",
     "text": [
      "\r",
      "  6%|██▍                                   | 109/1715 [05:58<1:27:13,  3.26s/it]"
     ]
    },
    {
     "name": "stdout",
     "output_type": "stream",
     "text": [
      "Name:  Dr. Arun Kumar Nadimpalli\n",
      "Speciality:  Orthopedist\n",
      "Rating:  94% \n",
      "Name:  (17 votes)\n",
      "Address:  Below State Bank of Mysore, Opp. JNTU 2nd Gate, Beside Manjeera Shopping mall, KPHB, Kukatpally, Hyderabad- 500072, Landmark: Beside Manjeera Mall, Hyderabad\n",
      "https://google.com/search?q=dr+sreekanth+appasani+shine+gastro+centre+sangareddy\n",
      "https://www.practo.com/hyderabad/doctor/dr-sreekanth-appasani-gastroenterologist&sa=U&ved=2ahUKEwigoYf4w_r5AhVhqpUCHcJGDakQFnoECAkQAg&usg=AOvVaw1bk3Q-1NMk1Cdi3-REmLDk\n",
      "['https://www.practo.com/hyderabad/doctor/dr-sreekanth-appasani-gastroenterologist', 'sa=U', 'ved=2ahUKEwigoYf4w_r5AhVhqpUCHcJGDakQFnoECAkQAg', 'usg=AOvVaw1bk3Q-1NMk1Cdi3-REmLDk']\n",
      "Link searched for:  https://www.practo.com/hyderabad/doctor/dr-sreekanth-appasani-gastroenterologist\n",
      "**************************************************\n"
     ]
    },
    {
     "name": "stderr",
     "output_type": "stream",
     "text": [
      "\r",
      "  6%|██▍                                   | 110/1715 [06:01<1:23:22,  3.12s/it]"
     ]
    },
    {
     "name": "stdout",
     "output_type": "stream",
     "text": [
      "Name:  Dr. Sreekanth Appasani\n",
      "Speciality:  Gastroenterologist\n",
      "Rating:  95% \n",
      "Name:  (2012 votes)\n",
      "Address:  MIG-1-167, 3rd Floor, Road Number 1, Insight Diagnostics, Landmark: Near Prime Hospital, Hyderabad\n",
      "https://google.com/search?q=dr+madhavi+b+prathima+hospital+hyderabad\n"
     ]
    },
    {
     "name": "stderr",
     "output_type": "stream",
     "text": [
      "\r",
      "  6%|██▍                                   | 111/1715 [06:03<1:16:09,  2.85s/it]"
     ]
    },
    {
     "name": "stdout",
     "output_type": "stream",
     "text": [
      "Couldn't find any practo links.\n",
      "https://google.com/search?q=dr+aparna++m+prerana+hospital+hyderabad\n",
      "https://www.practo.com/hyderabad/doctor/dr-k-aparna&sa=U&ved=2ahUKEwjL3rj6w_r5AhWHrpUCHaPVBeEQFnoECAEQAg&usg=AOvVaw1ZlJ0l66vm36nAv83XxU2V\n",
      "['https://www.practo.com/hyderabad/doctor/dr-k-aparna', 'sa=U', 'ved=2ahUKEwjL3rj6w_r5AhWHrpUCHaPVBeEQFnoECAEQAg', 'usg=AOvVaw1ZlJ0l66vm36nAv83XxU2V']\n",
      "Link searched for:  https://www.practo.com/hyderabad/doctor/dr-k-aparna\n",
      "**************************************************\n"
     ]
    },
    {
     "name": "stderr",
     "output_type": "stream",
     "text": [
      "\r",
      "  7%|██▍                                   | 112/1715 [06:08<1:35:30,  3.57s/it]"
     ]
    },
    {
     "name": "stdout",
     "output_type": "stream",
     "text": [
      "Name:  Dr. Aparna Duddu\n",
      "Speciality:  Gynecologist\n",
      "Rating:  3.5\n",
      "Votes are not available.\n",
      "Address:  Jet Colony, Sanath Nagar, Landmark: Opposite Erragadda Rithu Bazar, Hyderabad\n",
      "https://google.com/search?q=dr+moningi+kedar+jyoti+ortho+care+visakhapatnam\n"
     ]
    },
    {
     "name": "stderr",
     "output_type": "stream",
     "text": [
      "\r",
      "  7%|██▌                                   | 113/1715 [06:11<1:27:18,  3.27s/it]"
     ]
    },
    {
     "name": "stdout",
     "output_type": "stream",
     "text": [
      "Couldn't find any practo links.\n",
      "https://google.com/search?q=dr+nithya+chandra+nitya's+clinic+hyderabad\n"
     ]
    },
    {
     "name": "stderr",
     "output_type": "stream",
     "text": [
      "\r",
      "  7%|██▌                                   | 114/1715 [06:14<1:25:41,  3.21s/it]"
     ]
    },
    {
     "name": "stdout",
     "output_type": "stream",
     "text": [
      "Couldn't find any practo links.\n",
      "https://google.com/search?q=dr+manasa+tupkar++ananya+skin+hair+laser+&+multispecialty+clinic+hyderabad\n"
     ]
    },
    {
     "name": "stderr",
     "output_type": "stream",
     "text": [
      "\r",
      "  7%|██▌                                   | 115/1715 [06:16<1:19:06,  2.97s/it]"
     ]
    },
    {
     "name": "stdout",
     "output_type": "stream",
     "text": [
      "Couldn't find any practo links.\n",
      "https://google.com/search?q=dr+gopi+tupkar+ananya+skin+hair+laser+&+multispecialty+clinic+hyderabad\n"
     ]
    },
    {
     "name": "stderr",
     "output_type": "stream",
     "text": [
      "\r",
      "  7%|██▌                                   | 116/1715 [06:18<1:10:21,  2.64s/it]"
     ]
    },
    {
     "name": "stdout",
     "output_type": "stream",
     "text": [
      "Couldn't find any practo links.\n",
      "https://google.com/search?q=dr+ganesh+mathan+mathans+medical+centre+hyderabad\n",
      "https://www.practo.com/hyderabad/doctor/dr-ganesh-mathan-cardiologist&sa=U&ved=2ahUKEwidoNaBxPr5AhVgvJUCHc3gAqkQFnoECAgQAg&usg=AOvVaw35yrzgbMOQxSRDtsOmuVk0\n",
      "['https://www.practo.com/hyderabad/doctor/dr-ganesh-mathan-cardiologist', 'sa=U', 'ved=2ahUKEwidoNaBxPr5AhVgvJUCHc3gAqkQFnoECAgQAg', 'usg=AOvVaw35yrzgbMOQxSRDtsOmuVk0']\n",
      "Link searched for:  https://www.practo.com/hyderabad/doctor/dr-ganesh-mathan-cardiologist\n",
      "**************************************************\n"
     ]
    },
    {
     "name": "stderr",
     "output_type": "stream",
     "text": [
      "\r",
      "  7%|██▌                                   | 117/1715 [06:22<1:15:29,  2.83s/it]"
     ]
    },
    {
     "name": "stdout",
     "output_type": "stream",
     "text": [
      "Name:  Dr. Ganesh Mathan\n",
      "Speciality:  Cardiologist\n",
      "Rating:  95% \n",
      "Name:  (711 votes)\n",
      "Address:  Gulmohar Park Colony above Manikanta Super Market, Landmark: Manikanta Super Market, Hyderabad\n",
      "https://google.com/search?q=dr+nikita+deshmukh+nikitas+ent+hyderabad\n",
      "https://www.practo.com/hyderabad/doctor/dr-nikhitha-desmukh-ear-nose-throat-ent-specialist&sa=U&ved=2ahUKEwjQnaCDxPr5AhX9ppUCHZ7mD8kQFnoECAkQAg&usg=AOvVaw2xl7mMexTPGoUjjKJ4RM_9\n",
      "['https://www.practo.com/hyderabad/doctor/dr-nikhitha-desmukh-ear-nose-throat-ent-specialist', 'sa=U', 'ved=2ahUKEwjQnaCDxPr5AhX9ppUCHZ7mD8kQFnoECAkQAg', 'usg=AOvVaw2xl7mMexTPGoUjjKJ4RM_9']\n",
      "Link searched for:  https://www.practo.com/hyderabad/doctor/dr-nikhitha-desmukh-ear-nose-throat-ent-specialist\n",
      "**************************************************\n"
     ]
    },
    {
     "name": "stderr",
     "output_type": "stream",
     "text": [
      "\r",
      "  7%|██▌                                   | 118/1715 [06:25<1:23:23,  3.13s/it]"
     ]
    },
    {
     "name": "stdout",
     "output_type": "stream",
     "text": [
      "Name:  Dr. Nikhita Deshmukh\n",
      "Speciality:  ENT/ Otorhinolaryngologist\n",
      "Rating:  75% \n",
      "Name:  (56 votes)\n",
      "Address:  1-112/86, Survey Number 55/EE, Kondapur Village, Serilingampally Mandal, Landmark: Near RTO Office & Next to Andhra Bank, Hyderabad\n",
      "https://google.com/search?q=dr+raju+ch+dr+rajus+chest+and+eye+clinic+hyderabad\n",
      "https://www.practo.com/hyderabad/doctor/raju-c-h-pulmonologist&sa=U&ved=2ahUKEwiUuYmFxPr5AhXRqZUCHSPrC40QFnoECAoQAg&usg=AOvVaw3Gfv8W6m0I5SbmEMORmQnY\n",
      "['https://www.practo.com/hyderabad/doctor/raju-c-h-pulmonologist', 'sa=U', 'ved=2ahUKEwiUuYmFxPr5AhXRqZUCHSPrC40QFnoECAoQAg', 'usg=AOvVaw3Gfv8W6m0I5SbmEMORmQnY']\n",
      "Link searched for:  https://www.practo.com/hyderabad/doctor/raju-c-h-pulmonologist\n",
      "**************************************************\n"
     ]
    },
    {
     "name": "stderr",
     "output_type": "stream",
     "text": [
      "\r",
      "  7%|██▋                                   | 119/1715 [06:28<1:18:50,  2.96s/it]"
     ]
    },
    {
     "name": "stdout",
     "output_type": "stream",
     "text": [
      "Name:  Dr. Raju C H\n",
      "Speciality:  Pulmonologist\n",
      "Rating:  97% \n",
      "Name:  (779 votes)\n",
      "Address:  House Number 4-98, Chanda Nagar Main Road, Landmark: Behind Anu Furniture, Lane in-between two Anu Furniture Building, Hyderabad\n",
      "https://google.com/search?q=dr+ans+varaprasad+vijaya+krishna+clinic+visakhapatnam\n",
      "https://www.practo.com/visakhapatnam/doctor/dr-varaprasad-ans-internal-medicine&sa=U&ved=2ahUKEwjI1OCGxPr5AhXbq5UCHfE1BWAQFnoECAgQAg&usg=AOvVaw3jvHEvMKVX6KoJ8VdOhaoU\n",
      "['https://www.practo.com/visakhapatnam/doctor/dr-varaprasad-ans-internal-medicine', 'sa=U', 'ved=2ahUKEwjI1OCGxPr5AhXbq5UCHfE1BWAQFnoECAgQAg', 'usg=AOvVaw3jvHEvMKVX6KoJ8VdOhaoU']\n",
      "Link searched for:  https://www.practo.com/visakhapatnam/doctor/dr-varaprasad-ans-internal-medicine\n",
      "**************************************************\n"
     ]
    },
    {
     "name": "stderr",
     "output_type": "stream",
     "text": [
      "\r",
      "  7%|██▋                                   | 120/1715 [06:32<1:26:01,  3.24s/it]"
     ]
    },
    {
     "name": "stdout",
     "output_type": "stream",
     "text": [
      "Name:  Dr. Varaprasad ANS\n",
      "Speciality:  Internal Medicine\n",
      "Rating:  97% \n",
      "Name:  (1063 votes)\n",
      "Address:  #14/39/27, Zilla Parithan Junction., Landmark: Back Side Of Collector Office & Besides Krishna Temple, Visakhapatnam\n",
      "https://google.com/search?q=dr+venkatesh+lagudu+dr.+venkatesh+clinic+visakhapatnam\n"
     ]
    },
    {
     "name": "stderr",
     "output_type": "stream",
     "text": [
      "\r",
      "  7%|██▋                                   | 121/1715 [06:35<1:25:07,  3.20s/it]"
     ]
    },
    {
     "name": "stdout",
     "output_type": "stream",
     "text": [
      "Couldn't find any practo links.\n",
      "https://google.com/search?q=dr+anirudh+b+medcare+clinic+hyderabad\n",
      "https://www.practo.com/hyderabad/doctor/anirudh-kumar-b-pulmonologist&sa=U&ved=2ahUKEwjd4PiJxPr5AhWvupUCHWiDCjsQFnoECAgQAg&usg=AOvVaw1pGtfYtacGhXav_HFvgpGw\n",
      "['https://www.practo.com/hyderabad/doctor/anirudh-kumar-b-pulmonologist', 'sa=U', 'ved=2ahUKEwjd4PiJxPr5AhWvupUCHWiDCjsQFnoECAgQAg', 'usg=AOvVaw1pGtfYtacGhXav_HFvgpGw']\n",
      "Link searched for:  https://www.practo.com/hyderabad/doctor/anirudh-kumar-b-pulmonologist\n",
      "**************************************************\n"
     ]
    },
    {
     "name": "stderr",
     "output_type": "stream",
     "text": [
      "\r",
      "  7%|██▋                                   | 122/1715 [06:39<1:34:35,  3.56s/it]"
     ]
    },
    {
     "name": "stdout",
     "output_type": "stream",
     "text": [
      "Name:  Dr. Anirudh Kumar B\n",
      "Speciality:  Pulmonologist\n",
      "Rating not available.\n",
      "Votes are not available.\n",
      "https://google.com/search?q=dr+rv++venkata+rao+best+super+speciality+clinics+hyderabad\n",
      "https://www.practo.com/hyderabad/doctor/r-v-venkata-rao-cardiologist&sa=U&ved=2ahUKEwiA7d2LxPr5AhWmqJUCHQaoBnUQFnoECAYQAg&usg=AOvVaw0I3xa7YFOwRX2htSA5Tylu\n",
      "['https://www.practo.com/hyderabad/doctor/r-v-venkata-rao-cardiologist', 'sa=U', 'ved=2ahUKEwiA7d2LxPr5AhWmqJUCHQaoBnUQFnoECAYQAg', 'usg=AOvVaw0I3xa7YFOwRX2htSA5Tylu']\n",
      "Link searched for:  https://www.practo.com/hyderabad/doctor/r-v-venkata-rao-cardiologist\n",
      "**************************************************\n"
     ]
    },
    {
     "name": "stderr",
     "output_type": "stream",
     "text": [
      "\r",
      "  7%|██▋                                   | 123/1715 [06:44<1:43:13,  3.89s/it]"
     ]
    },
    {
     "name": "stdout",
     "output_type": "stream",
     "text": [
      "Name:  Dr. R V Venkata Rao\n",
      "Speciality:  Cardiologist\n",
      "Rating:  92% \n",
      "Name:  (38 votes)\n",
      "Address:  House Number: 1-238/12&13, Nandini Nagar, Madhava Nagar Colony, Ambedkar Nagar, Landmark: Near Sai Ranga Theatre, Hyderabad\n",
      "https://google.com/search?q=dr+ravi+daksh+daksh+clinics+hyderabad\n",
      "https://www.practo.com/hyderabad/doctor/dr-ravi-daksh-general-surgeon&sa=U&ved=2ahUKEwixkPqNxPr5AhXuqZUCHXaXDAIQFnoECAgQAg&usg=AOvVaw3cY9rxiDNlwmJbOeoMX4Mi\n",
      "['https://www.practo.com/hyderabad/doctor/dr-ravi-daksh-general-surgeon', 'sa=U', 'ved=2ahUKEwixkPqNxPr5AhXuqZUCHXaXDAIQFnoECAgQAg', 'usg=AOvVaw3cY9rxiDNlwmJbOeoMX4Mi']\n",
      "Link searched for:  https://www.practo.com/hyderabad/doctor/dr-ravi-daksh-general-surgeon\n",
      "**************************************************\n"
     ]
    },
    {
     "name": "stderr",
     "output_type": "stream",
     "text": [
      "\r",
      "  7%|██▋                                   | 124/1715 [06:47<1:37:08,  3.66s/it]"
     ]
    },
    {
     "name": "stdout",
     "output_type": "stream",
     "text": [
      "Name:  Dr. Ravi Daksh\n",
      "Speciality:  GastroIntestinal Surgeon\n",
      "Rating:  3.5\n",
      "Votes are not available.\n",
      "Address:  Sri Sangeetha Residency, Sreeram Nagar, Block-C, Serlingampally, Landmark: SBI Bank Lane, Hyderabad\n",
      "https://google.com/search?q=dr+neelima++madireddy++best+super+speciality+clinics+hyderabad\n",
      "https://www.practo.com/hyderabad/doctor/dr-neelima-pakanati-pediatrician&sa=U&ved=2ahUKEwjqsLmPxPr5AhULrJUCHaUDBN4QFnoECAgQAg&usg=AOvVaw17JWyWshHJl7x9Kwl4cKpF\n",
      "['https://www.practo.com/hyderabad/doctor/dr-neelima-pakanati-pediatrician', 'sa=U', 'ved=2ahUKEwjqsLmPxPr5AhULrJUCHaUDBN4QFnoECAgQAg', 'usg=AOvVaw17JWyWshHJl7x9Kwl4cKpF']\n",
      "Link searched for:  https://www.practo.com/hyderabad/doctor/dr-neelima-pakanati-pediatrician\n",
      "**************************************************\n"
     ]
    },
    {
     "name": "stderr",
     "output_type": "stream",
     "text": [
      "\r",
      "  7%|██▊                                   | 125/1715 [06:50<1:33:17,  3.52s/it]"
     ]
    },
    {
     "name": "stdout",
     "output_type": "stream",
     "text": [
      "Name:  Dr. Neelima Pakanati\n",
      "Speciality:  Pediatrician\n",
      "Rating:  100% \n",
      "Name:  (40 votes)\n",
      "Address:  Flat Number 101, 1st Floor,  Kadhiri's Apurupa Urban, Botonical Garden Road, Landmark: Beside Chirec International School, Hyderabad\n",
      "https://google.com/search?q=dr+satyanarayana+batari+mediclinic+multispeciality+clinilc+hyderabad\n",
      "https://www.practo.com/hyderabad/clinic/medi-clinic-miyapur&sa=U&ved=2ahUKEwjdibmRxPr5AhUCuJUCHc_UArsQFnoECAoQAg&usg=AOvVaw1HJFv5TpoKiMP6ZKb7fMl6\n",
      "['https://www.practo.com/hyderabad/clinic/medi-clinic-miyapur', 'sa=U', 'ved=2ahUKEwjdibmRxPr5AhUCuJUCHc_UArsQFnoECAoQAg', 'usg=AOvVaw1HJFv5TpoKiMP6ZKb7fMl6']\n",
      "Link searched for:  https://www.practo.com/hyderabad/clinic/medi-clinic-miyapur\n",
      "**************************************************\n"
     ]
    },
    {
     "name": "stderr",
     "output_type": "stream",
     "text": [
      "\r",
      "  7%|██▊                                   | 126/1715 [06:54<1:33:30,  3.53s/it]"
     ]
    },
    {
     "name": "stdout",
     "output_type": "stream",
     "text": [
      "Name:  Mediclinic\n",
      "Speciality:  Multi-speciality Clinic\n",
      "Rating:  3.0\n",
      "Name:  (48 patient stories)\n",
      "Address:  NVS Residency Shop Number-6,HUDA Colony, Landmark: Opposite Apollo Pharmacy, Hyderabad\n",
      "https://google.com/search?q=dr+pvijaya+lakshmi+vijayas+maternity+and+general+hosptials+hyderabad\n",
      "https://www.practo.com/hyderabad/clinic/vijaya-s-matermity-general-hospital-kondapur&sa=U&ved=2ahUKEwj56dSSxPr5AhXGrJUCHVU8ClYQFnoECAcQAg&usg=AOvVaw2KUMgOJjNwTuqMGT2nz48H\n",
      "['https://www.practo.com/hyderabad/clinic/vijaya-s-matermity-general-hospital-kondapur', 'sa=U', 'ved=2ahUKEwj56dSSxPr5AhXGrJUCHVU8ClYQFnoECAcQAg', 'usg=AOvVaw2KUMgOJjNwTuqMGT2nz48H']\n",
      "Link searched for:  https://www.practo.com/hyderabad/clinic/vijaya-s-matermity-general-hospital-kondapur\n",
      "**************************************************\n"
     ]
    },
    {
     "name": "stderr",
     "output_type": "stream",
     "text": [
      "\r",
      "  7%|██▊                                   | 127/1715 [06:58<1:40:40,  3.80s/it]"
     ]
    },
    {
     "name": "stdout",
     "output_type": "stream",
     "text": [
      "Name:  Vijaya's Maternity & General Hospital\n",
      "Speciality:  Gynecology/Obstetrics Clinic\n",
      "Rating:  4.5\n",
      "Name:  (31 patient stories)\n",
      "Address:  Hameed patel's building, 1st floor, Plot Number 245/P, Above Jockey Showroom, Main Road,, Landmark: Adjacent to Andhra Bank, Hyderabad\n",
      "https://google.com/search?q=dr+puja+lavania+life+care+gynecology+hospital+hyderabad\n",
      "https://www.practo.com/hyderabad/doctor/puja-lavania-gynecologist-obstetrician&sa=U&ved=2ahUKEwi2h-WUxPr5AhWTrpUCHfRSDL8QFnoECAkQAg&usg=AOvVaw21cgSZzgGHjB63oqzTZLsD\n",
      "['https://www.practo.com/hyderabad/doctor/puja-lavania-gynecologist-obstetrician', 'sa=U', 'ved=2ahUKEwi2h-WUxPr5AhWTrpUCHfRSDL8QFnoECAkQAg', 'usg=AOvVaw21cgSZzgGHjB63oqzTZLsD']\n",
      "Link searched for:  https://www.practo.com/hyderabad/doctor/puja-lavania-gynecologist-obstetrician\n",
      "**************************************************\n"
     ]
    },
    {
     "name": "stderr",
     "output_type": "stream",
     "text": [
      "\r",
      "  7%|██▊                                   | 128/1715 [07:03<1:44:19,  3.94s/it]"
     ]
    },
    {
     "name": "stdout",
     "output_type": "stream",
     "text": [
      "Name:  Dr. Puja Lavania\n",
      "Speciality:  Gynecologist\n",
      "Rating:  94% \n",
      "Name:  (229 votes)\n",
      "Address:  Number-402&403, Suguna Arcade ,Madhavapuri Hills ,PJR Enclave, Landmark: Near Luxor Heights &  Besides Heritage Fresh Super Market, Hyderabad\n",
      "https://google.com/search?q=dr+guru+a+relief+clinic+hyderabad\n",
      "https://www.practo.com/hyderabad/clinic/dr-guru-advanced-skin-and-hair-institue-madhapur&sa=U&ved=2ahUKEwjY3-eWxPr5AhVDvJUCHTiKD70QFnoECAkQAg&usg=AOvVaw3gB9CXP_WCmLsuehycc3Ox\n",
      "['https://www.practo.com/hyderabad/clinic/dr-guru-advanced-skin-and-hair-institue-madhapur', 'sa=U', 'ved=2ahUKEwjY3-eWxPr5AhVDvJUCHTiKD70QFnoECAkQAg', 'usg=AOvVaw3gB9CXP_WCmLsuehycc3Ox']\n",
      "Link searched for:  https://www.practo.com/hyderabad/clinic/dr-guru-advanced-skin-and-hair-institue-madhapur\n",
      "**************************************************\n"
     ]
    },
    {
     "name": "stderr",
     "output_type": "stream",
     "text": [
      "\r",
      "  8%|██▊                                   | 129/1715 [07:07<1:45:10,  3.98s/it]"
     ]
    },
    {
     "name": "stdout",
     "output_type": "stream",
     "text": [
      "Name:  Dr. Guru Advanced Skin & Hair Clinic\n",
      "Speciality:  Multi-speciality Clinic\n",
      "Rating:  4.5\n",
      "Name:  (112 patient stories)\n",
      "Address:  1st Floor, Remedy Hospital Lane, Road Number 4, Landmark: Above UCO Bank, Hyderabad\n",
      "https://google.com/search?q=dr+sunil+ch+relief+hospital+and+clinic+hyderabad\n",
      "https://www.practo.com/hyderabad/clinic/relief-hospital-1-bachupally&sa=U&ved=2ahUKEwiq-N-YxPr5AhX8qJUCHS21BwAQFnoECAkQAg&usg=AOvVaw0_JBL8KSWAPvKSYBTvNZEJ\n",
      "['https://www.practo.com/hyderabad/clinic/relief-hospital-1-bachupally', 'sa=U', 'ved=2ahUKEwiq-N-YxPr5AhX8qJUCHS21BwAQFnoECAkQAg', 'usg=AOvVaw0_JBL8KSWAPvKSYBTvNZEJ']\n",
      "Link searched for:  https://www.practo.com/hyderabad/clinic/relief-hospital-1-bachupally\n",
      "**************************************************\n"
     ]
    },
    {
     "name": "stderr",
     "output_type": "stream",
     "text": [
      "\r",
      "  8%|██▉                                   | 130/1715 [07:10<1:35:45,  3.63s/it]"
     ]
    },
    {
     "name": "stdout",
     "output_type": "stream",
     "text": [
      "Name:  Relief Hospital\n",
      "Speciality:  Pediatrics/Paediatrics Clinic\n",
      "Rating:  4.5\n",
      "Name:  (21 patient stories)\n",
      "Address:  6-3-82,, Hyderabad\n",
      "https://google.com/search?q=dr+ashok+kumar+singh+singh+ent+clinic+hyderabad\n",
      "https://www.practo.com/hyderabad/doctor/dr-ashok-kumar-singh-ear-nose-throat-ent-specialist&sa=U&ved=2ahUKEwjb94qaxPr5AhWoppUCHQlKAGMQFnoECAgQAg&usg=AOvVaw2koJ00kYoOKY1RAPUKeuDR\n",
      "['https://www.practo.com/hyderabad/doctor/dr-ashok-kumar-singh-ear-nose-throat-ent-specialist', 'sa=U', 'ved=2ahUKEwjb94qaxPr5AhWoppUCHQlKAGMQFnoECAgQAg', 'usg=AOvVaw2koJ00kYoOKY1RAPUKeuDR']\n",
      "Link searched for:  https://www.practo.com/hyderabad/doctor/dr-ashok-kumar-singh-ear-nose-throat-ent-specialist\n",
      "**************************************************\n"
     ]
    },
    {
     "name": "stderr",
     "output_type": "stream",
     "text": [
      "\r",
      "  8%|██▉                                   | 131/1715 [07:13<1:33:58,  3.56s/it]"
     ]
    },
    {
     "name": "stdout",
     "output_type": "stream",
     "text": [
      "Name:  Dr. Ashok Kumar Singh\n",
      "Speciality:  ENT/ Otorhinolaryngologist\n",
      "Rating:  93% \n",
      "Name:  (370 votes)\n",
      "Address:  8-1-284/OU/305 OU  COLONY.Shaikpet, Landmark: Near  Bheema Hotel Lane, Hyderabad\n",
      "https://google.com/search?q=dr+bala+murali+krishna+kondala+atharv+gastro+&liver+clinic+hyderabad\n",
      "https://www.practo.com/hyderabad/doctor/k-bala-murali-krishna-gastroenterologist&sa=U&ved=2ahUKEwiw9NqbxPr5AhWmRLgEHZTED0oQFnoECAoQAg&usg=AOvVaw2JrZ5OzMLcYF4LvoKEIAH7\n",
      "['https://www.practo.com/hyderabad/doctor/k-bala-murali-krishna-gastroenterologist', 'sa=U', 'ved=2ahUKEwiw9NqbxPr5AhWmRLgEHZTED0oQFnoECAoQAg', 'usg=AOvVaw2JrZ5OzMLcYF4LvoKEIAH7']\n",
      "Link searched for:  https://www.practo.com/hyderabad/doctor/k-bala-murali-krishna-gastroenterologist\n",
      "**************************************************\n"
     ]
    },
    {
     "name": "stderr",
     "output_type": "stream",
     "text": [
      "\r",
      "  8%|██▉                                   | 132/1715 [07:16<1:30:14,  3.42s/it]"
     ]
    },
    {
     "name": "stdout",
     "output_type": "stream",
     "text": [
      "Name:  Dr. K. Bala Murali Krishna\n",
      "Speciality:  Gastroenterologist\n",
      "Rating:  98% \n",
      "Name:  (979 votes)\n",
      "Address:  Flat Number 101, SMS pride,Lane Adjacent to MAX,, Landmark: Opposite Sri Chaitanya Junior College, Hyderabad\n",
      "https://google.com/search?q=dr+b+nithin+kumar+medihub+clinics+hyderabad\n",
      "https://www.practo.com/hyderabad/doctor/nithin-kumar-1-orthopedist&sa=U&ved=2ahUKEwjkpZidxPr5AhWLqJUCHWJ1BLAQFnoECAEQAg&usg=AOvVaw2UlZQLDTxtr2qpTdVudX3x\n",
      "['https://www.practo.com/hyderabad/doctor/nithin-kumar-1-orthopedist', 'sa=U', 'ved=2ahUKEwjkpZidxPr5AhWLqJUCHWJ1BLAQFnoECAEQAg', 'usg=AOvVaw2UlZQLDTxtr2qpTdVudX3x']\n",
      "Link searched for:  https://www.practo.com/hyderabad/doctor/nithin-kumar-1-orthopedist\n",
      "**************************************************\n"
     ]
    },
    {
     "name": "stderr",
     "output_type": "stream",
     "text": [
      "\r",
      "  8%|██▉                                   | 133/1715 [07:20<1:30:43,  3.44s/it]"
     ]
    },
    {
     "name": "stdout",
     "output_type": "stream",
     "text": [
      "Name:  Dr. Nithin Kumar\n",
      "Speciality:  Orthopedist\n",
      "Rating:  87% \n",
      "Name:  (30 votes)\n",
      "Address:  Road no. 36 extension, Jubilee Hills, Hyderabad\n",
      "https://google.com/search?q=dr+sai+katepally++gastro+care+hyderabad\n",
      "https://www.practo.com/hyderabad/doctor/saikrishna-katepally-gastroenterologist&sa=U&ved=2ahUKEwjD9OyexPr5AhU6pZUCHSijAZAQFnoECAMQAg&usg=AOvVaw2cnIxTqS8xDBAod9XxGLtI\n",
      "['https://www.practo.com/hyderabad/doctor/saikrishna-katepally-gastroenterologist', 'sa=U', 'ved=2ahUKEwjD9OyexPr5AhU6pZUCHSijAZAQFnoECAMQAg', 'usg=AOvVaw2cnIxTqS8xDBAod9XxGLtI']\n",
      "Link searched for:  https://www.practo.com/hyderabad/doctor/saikrishna-katepally-gastroenterologist\n",
      "**************************************************\n"
     ]
    },
    {
     "name": "stderr",
     "output_type": "stream",
     "text": [
      "\r",
      "  8%|██▉                                   | 134/1715 [07:23<1:28:18,  3.35s/it]"
     ]
    },
    {
     "name": "stdout",
     "output_type": "stream",
     "text": [
      "Name:  Dr. Sai Krishna Katepally\n",
      "Speciality:  Gastroenterologist\n",
      "Rating:  100% \n",
      "Name:  (28 votes)\n",
      "Address:  Street Number 8, Landmark: Opposite Medplus Pharmacy, Hyderabad\n",
      "https://google.com/search?q=dr+udaykiran+b+sai+polyclinic+hyderabad\n",
      "https://www.practo.com/hyderabad/therapist/dr-uday-kiran-dermatologist-cosmetologist&sa=U&ved=2ahUKEwiHma2gxPr5AhWEpZUCHY-eDV4QFnoECAEQAg&usg=AOvVaw1AZ4jvr_AH7T3FhEQf0jDm\n",
      "['https://www.practo.com/hyderabad/therapist/dr-uday-kiran-dermatologist-cosmetologist', 'sa=U', 'ved=2ahUKEwiHma2gxPr5AhWEpZUCHY-eDV4QFnoECAEQAg', 'usg=AOvVaw1AZ4jvr_AH7T3FhEQf0jDm']\n",
      "Link searched for:  https://www.practo.com/hyderabad/therapist/dr-uday-kiran-dermatologist-cosmetologist\n",
      "**************************************************\n"
     ]
    },
    {
     "name": "stderr",
     "output_type": "stream",
     "text": [
      "\r",
      "  8%|██▉                                   | 135/1715 [07:25<1:21:12,  3.08s/it]"
     ]
    },
    {
     "name": "stdout",
     "output_type": "stream",
     "text": [
      "Name:  Dr. Uday Kiran\n",
      "Speciality:  Cosmetologist\n",
      "Rating:  87% \n",
      "Name:  (70 votes)\n",
      "Address:  Flyover Pillar # 19, Chandana Brothers Building, Landmark: Beside Javid haveed and beside ICICI Bank, Hyderabad\n",
      "https://google.com/search?q=dr+nilofer+dr+dr.+nilofer+skin+clinic+hyderabad\n",
      "https://www.practo.com/hyderabad/clinic/dr-nilofer-skin-clinic-kondapur&sa=U&ved=2ahUKEwj1pMOhxPr5AhWnrJUCHUzdCioQFnoECAQQAg&usg=AOvVaw1aT7iryDHbU1X6jEORKuZz\n",
      "['https://www.practo.com/hyderabad/clinic/dr-nilofer-skin-clinic-kondapur', 'sa=U', 'ved=2ahUKEwj1pMOhxPr5AhWnrJUCHUzdCioQFnoECAQQAg', 'usg=AOvVaw1aT7iryDHbU1X6jEORKuZz']\n",
      "Link searched for:  https://www.practo.com/hyderabad/clinic/dr-nilofer-skin-clinic-kondapur\n",
      "**************************************************\n"
     ]
    },
    {
     "name": "stderr",
     "output_type": "stream",
     "text": [
      "\r",
      "  8%|███                                   | 136/1715 [07:30<1:34:29,  3.59s/it]"
     ]
    },
    {
     "name": "stdout",
     "output_type": "stream",
     "text": [
      "Name:  Dr Nilofer Skin Clinic\n",
      "Speciality:  Dermatology Clinic\n",
      "Rating:  5.0\n",
      "Name:  (34 patient stories)\n",
      "Address:  Plot Number 56, Sridevi Residency, Tanasha Nagar, Landmark: Beside Axis Bank, Hyderabad\n",
      "https://google.com/search?q=dr+meghanadh+k+r+maa+ent+hospital+hyderabad\n",
      "https://www.practo.com/hyderabad/hospital/maa-ent-hospital-jubilee-hills&sa=U&ved=2ahUKEwjCyOajxPr5AhWJrJUCHe08B1UQFnoECAUQAg&usg=AOvVaw2nhzgqRkxHQhBVvs8eIrnt\n",
      "['https://www.practo.com/hyderabad/hospital/maa-ent-hospital-jubilee-hills', 'sa=U', 'ved=2ahUKEwjCyOajxPr5AhWJrJUCHe08B1UQFnoECAUQAg', 'usg=AOvVaw2nhzgqRkxHQhBVvs8eIrnt']\n",
      "Link searched for:  https://www.practo.com/hyderabad/hospital/maa-ent-hospital-jubilee-hills\n",
      "**************************************************\n"
     ]
    },
    {
     "name": "stderr",
     "output_type": "stream",
     "text": [
      "\r",
      "  8%|███                                   | 137/1715 [07:34<1:35:27,  3.63s/it]"
     ]
    },
    {
     "name": "stdout",
     "output_type": "stream",
     "text": [
      "Name:  Maa ENT Hospital\n",
      "Speciality is not available.\n",
      "Rating:  3.5\n",
      "Name:  (21 patient stories)\n",
      "https://google.com/search?q=dr+nataraj+perumalla+my+skin+hair+and+cosmetology+clinic+hyderabad\n",
      "https://www.practo.com/hyderabad/doctor/dr-nataraj-perumalla-cosmetic-plastic-surgeon&sa=U&ved=2ahUKEwjkscmlxPr5AhVaqZUCHUrCBvkQFnoECAgQAg&usg=AOvVaw2pMMRy-9XeTtcMzX2uSEHg\n",
      "['https://www.practo.com/hyderabad/doctor/dr-nataraj-perumalla-cosmetic-plastic-surgeon', 'sa=U', 'ved=2ahUKEwjkscmlxPr5AhVaqZUCHUrCBvkQFnoECAgQAg', 'usg=AOvVaw2pMMRy-9XeTtcMzX2uSEHg']\n",
      "Link searched for:  https://www.practo.com/hyderabad/doctor/dr-nataraj-perumalla-cosmetic-plastic-surgeon\n",
      "**************************************************\n"
     ]
    },
    {
     "name": "stderr",
     "output_type": "stream",
     "text": [
      "\r",
      "  8%|███                                   | 138/1715 [07:36<1:26:26,  3.29s/it]"
     ]
    },
    {
     "name": "stdout",
     "output_type": "stream",
     "text": [
      "Name:  Dr. Nataraj Perumalla\n",
      "Speciality:  Dermatologist\n",
      "Rating:  96% \n",
      "Name:  (47 votes)\n",
      "Address:  Golnaka, Secunderabad, Landmark: Near Temple Alwal & Next To Mother and Child Hospital, Hyderabad\n",
      "https://google.com/search?q=dr+dwarakanatha+reddy+swati+ployclinic+hyderabad\n",
      "https://www.practo.com/hyderabad/doctor/dr-swathi-reddy-gynecologist-obstetrician&sa=U&ved=2ahUKEwjU3uGmxPr5AhWKrJUCHdtwAoMQFnoECAMQAg&usg=AOvVaw0hjxjFOlHwnnvEj42EjgCY\n",
      "['https://www.practo.com/hyderabad/doctor/dr-swathi-reddy-gynecologist-obstetrician', 'sa=U', 'ved=2ahUKEwjU3uGmxPr5AhWKrJUCHdtwAoMQFnoECAMQAg', 'usg=AOvVaw0hjxjFOlHwnnvEj42EjgCY']\n",
      "Link searched for:  https://www.practo.com/hyderabad/doctor/dr-swathi-reddy-gynecologist-obstetrician\n",
      "**************************************************\n"
     ]
    },
    {
     "name": "stderr",
     "output_type": "stream",
     "text": [
      "\r",
      "  8%|███                                   | 139/1715 [07:41<1:38:58,  3.77s/it]"
     ]
    },
    {
     "name": "stdout",
     "output_type": "stream",
     "text": [
      "Name:  Dr. Swathi Reddy\n",
      "Speciality:  Gynecologist\n",
      "Rating:  88% \n",
      "Name:  (57 votes)\n",
      "Address:  Plot Number 4,5,23,24, Gachibowli Stadium Main Road, Landmark: Opposite Green Bawarchi, Hyderabad\n",
      "https://google.com/search?q=dr+madan+mohan+rao+p+hope+children's+hospital+hyderabad\n",
      "https://www.practo.com/hyderabad/doctor/dr-p-madan-mohan-rao-pediatrician&sa=U&ved=2ahUKEwiT8oupxPr5AhXMppUCHVxaDc0QFnoECAgQAg&usg=AOvVaw270v62BHvYyfyTNASkJXGd\n",
      "['https://www.practo.com/hyderabad/doctor/dr-p-madan-mohan-rao-pediatrician', 'sa=U', 'ved=2ahUKEwiT8oupxPr5AhXMppUCHVxaDc0QFnoECAgQAg', 'usg=AOvVaw270v62BHvYyfyTNASkJXGd']\n",
      "Link searched for:  https://www.practo.com/hyderabad/doctor/dr-p-madan-mohan-rao-pediatrician\n",
      "**************************************************\n"
     ]
    },
    {
     "name": "stderr",
     "output_type": "stream",
     "text": [
      "\r",
      "  8%|███                                   | 140/1715 [07:45<1:38:19,  3.75s/it]"
     ]
    },
    {
     "name": "stdout",
     "output_type": "stream",
     "text": [
      "Name:  Dr. P. Madan Mohan Rao\n",
      "Speciality:  Pediatrician\n",
      "Rating:  89% \n",
      "Name:  (35 votes)\n",
      "Address:  5-9-24/81, Lake Hill Road, Hyderabad\n",
      "https://google.com/search?q=dr+g+k+rao+chandra+clinic+hyderabad\n",
      "https://www.practo.com/hyderabad/doctor/k-chandra-bhushan-rao-ayurvedic-general-medicine&sa=U&ved=2ahUKEwj-le2qxPr5AhVVqJUCHR5YCdIQFnoECAIQAg&usg=AOvVaw1z04tO4iQ6Ge0IMMM8hVZb\n",
      "['https://www.practo.com/hyderabad/doctor/k-chandra-bhushan-rao-ayurvedic-general-medicine', 'sa=U', 'ved=2ahUKEwj-le2qxPr5AhVVqJUCHR5YCdIQFnoECAIQAg', 'usg=AOvVaw1z04tO4iQ6Ge0IMMM8hVZb']\n",
      "Link searched for:  https://www.practo.com/hyderabad/doctor/k-chandra-bhushan-rao-ayurvedic-general-medicine\n",
      "**************************************************\n"
     ]
    },
    {
     "name": "stderr",
     "output_type": "stream",
     "text": [
      "\r",
      "  8%|███                                   | 141/1715 [07:48<1:38:29,  3.75s/it]"
     ]
    },
    {
     "name": "stdout",
     "output_type": "stream",
     "text": [
      "Name:  Dr. K Chandra Bhushan Rao\n",
      "Speciality:  Unani\n",
      "Rating not available.\n",
      "Votes are not available.\n",
      "Address:  Number-54, Madhava Nagar Colony, Hyderabad\n",
      "https://google.com/search?q=dr+pandu+ranga+rao+kondadasula+gastro+vision+hyderabad\n",
      "https://www.practo.com/hyderabad/doctor/dr-k-pandu-ranga-rao-gastroenterologist&sa=U&ved=2ahUKEwj86dOsxPr5AhUfqZUCHUdPAqsQFnoECAgQAg&usg=AOvVaw04FXjQkL2ADbhnAO2RYmsl\n",
      "['https://www.practo.com/hyderabad/doctor/dr-k-pandu-ranga-rao-gastroenterologist', 'sa=U', 'ved=2ahUKEwj86dOsxPr5AhUfqZUCHUdPAqsQFnoECAgQAg', 'usg=AOvVaw04FXjQkL2ADbhnAO2RYmsl']\n",
      "Link searched for:  https://www.practo.com/hyderabad/doctor/dr-k-pandu-ranga-rao-gastroenterologist\n",
      "**************************************************\n"
     ]
    },
    {
     "name": "stderr",
     "output_type": "stream",
     "text": [
      "\r",
      "  8%|███▏                                  | 142/1715 [07:51<1:31:28,  3.49s/it]"
     ]
    },
    {
     "name": "stdout",
     "output_type": "stream",
     "text": [
      "Name:  Dr. K Pandu Ranga Rao\n",
      "Speciality:  Gastroenterologist\n",
      "Rating:  84% \n",
      "Name:  (56 votes)\n",
      "Address:  Plot No - 344- A, MLA Colony , Road No 12 , Landmark: Near CNC - Omega Hospitals , Hyderabad\n",
      "https://google.com/search?q=dr+ganesh+namani+sree+ganesh+endocrine+centre+hyderabad\n",
      "https://www.practo.com/india-doctor-clinic-profile-b-4-1-sitemap.xml.gz&sa=U&ved=2ahUKEwjmuYquxPr5AhUCrZUCHXPJDmYQFnoECAAQAg&usg=AOvVaw2voxTC2rqJbnWyoqTmwSSs\n",
      "['https://www.practo.com/india-doctor-clinic-profile-b-4-1-sitemap.xml.gz', 'sa=U', 'ved=2ahUKEwjmuYquxPr5AhUCrZUCHXPJDmYQFnoECAAQAg', 'usg=AOvVaw2voxTC2rqJbnWyoqTmwSSs']\n",
      "Link searched for:  https://www.practo.com/india-doctor-clinic-profile-b-4-1-sitemap.xml.gz\n",
      "**************************************************\n"
     ]
    },
    {
     "name": "stderr",
     "output_type": "stream",
     "text": [
      "\r",
      "  8%|███▏                                  | 143/1715 [07:54<1:21:44,  3.12s/it]"
     ]
    },
    {
     "name": "stdout",
     "output_type": "stream",
     "text": [
      "Error was:  'utf-8' codec can't decode byte 0x8b in position 1: invalid start byte\n",
      "https://google.com/search?q=dr+kusuma+++sandhya+sandhya+children's+clinic+visakhapatnam\n",
      "https://www.practo.com/visakhapatnam/clinic/dr-santhi-children-s-clinic-kancharapalem&sa=U&ved=2ahUKEwiEiY2vxPr5AhUtrpUCHV57DGYQFnoECAgQAg&usg=AOvVaw3qjZYn8rWGw3KdcaQURPxP\n",
      "['https://www.practo.com/visakhapatnam/clinic/dr-santhi-children-s-clinic-kancharapalem', 'sa=U', 'ved=2ahUKEwiEiY2vxPr5AhUtrpUCHV57DGYQFnoECAgQAg', 'usg=AOvVaw3qjZYn8rWGw3KdcaQURPxP']\n",
      "Link searched for:  https://www.practo.com/visakhapatnam/clinic/dr-santhi-children-s-clinic-kancharapalem\n",
      "**************************************************\n"
     ]
    },
    {
     "name": "stderr",
     "output_type": "stream",
     "text": [
      "\r",
      "  8%|███▏                                  | 144/1715 [07:57<1:22:55,  3.17s/it]"
     ]
    },
    {
     "name": "stdout",
     "output_type": "stream",
     "text": [
      "Name:  Dr Santhi Children's Clinic\n",
      "Speciality:  Pediatrics/Paediatrics Clinic\n",
      "Rating:  5.0\n",
      "Name:  (13 patient stories)\n",
      "Address:  Urvashi jn, Annapurna Complex, 36-46-5/1, first floor shop number 2, Landmark: Near Urvashi Theatre, Visakhapatnam\n",
      "https://google.com/search?q=dr+muzaffar+sharif+the+ent+care+hyderabad\n",
      "https://www.practo.com/hyderabad/doctor/dr-mohammed-muzaffar-sharif-ear-nose-throat-ent-specialist&sa=U&ved=2ahUKEwjE9tSwxPr5AhWCjZUCHUyhBksQFnoECAgQAg&usg=AOvVaw1ip-MHuvr9lgfe8uzLcJjd\n",
      "['https://www.practo.com/hyderabad/doctor/dr-mohammed-muzaffar-sharif-ear-nose-throat-ent-specialist', 'sa=U', 'ved=2ahUKEwjE9tSwxPr5AhWCjZUCHUyhBksQFnoECAgQAg', 'usg=AOvVaw1ip-MHuvr9lgfe8uzLcJjd']\n",
      "Link searched for:  https://www.practo.com/hyderabad/doctor/dr-mohammed-muzaffar-sharif-ear-nose-throat-ent-specialist\n",
      "**************************************************\n"
     ]
    },
    {
     "name": "stderr",
     "output_type": "stream",
     "text": [
      "\r",
      "  8%|███▏                                  | 145/1715 [08:01<1:30:04,  3.44s/it]"
     ]
    },
    {
     "name": "stdout",
     "output_type": "stream",
     "text": [
      "Name:  Dr. Mohammed Muzaffar Sharif\n",
      "Speciality:  ENT/ Otorhinolaryngologist\n",
      "Rating not available.\n",
      "Votes are not available.\n",
      "Address:  2-3-504/6, Irani Hotel Bus Stop, Landmark: Beside Medicure Pharmacy, Hyderabad\n",
      "https://google.com/search?q=dr+kiran++reddy+bvs+dr+kiran's+ent+hyderabad\n",
      "https://www.practo.com/hyderabad/doctor/dr-kiran-kumar-11-ear-nose-throat-ent-specialist&sa=U&ved=2ahUKEwiY4M2yxPr5AhW3r5UCHcHOAb4QFnoECAkQAg&usg=AOvVaw3rbOxUe6sd5f-R1uGJdAtA\n",
      "['https://www.practo.com/hyderabad/doctor/dr-kiran-kumar-11-ear-nose-throat-ent-specialist', 'sa=U', 'ved=2ahUKEwiY4M2yxPr5AhW3r5UCHcHOAb4QFnoECAkQAg', 'usg=AOvVaw3rbOxUe6sd5f-R1uGJdAtA']\n",
      "Link searched for:  https://www.practo.com/hyderabad/doctor/dr-kiran-kumar-11-ear-nose-throat-ent-specialist\n",
      "**************************************************\n"
     ]
    },
    {
     "name": "stderr",
     "output_type": "stream",
     "text": [
      "\r",
      "  9%|███▏                                  | 146/1715 [08:05<1:34:56,  3.63s/it]"
     ]
    },
    {
     "name": "stdout",
     "output_type": "stream",
     "text": [
      "Name:  Dr. Kiran Kumar\n",
      "Speciality:  ENT/ Otorhinolaryngologist\n",
      "Rating:  100% \n",
      "Name:  (17 votes)\n",
      "Address:  Plot number 343, Radhika Residency,1st floor ,Raja Rajeswari Colony, Kondapur, Landmark: Above Ghanshyam super Market, Hyderabad\n",
      "https://google.com/search?q=dr+sandeep+reddy+karri+apple+clinic+hyderabad\n",
      "https://www.practo.com/hyderabad/doctor/dr-sandeep-reddy-1-internal-medicine&sa=U&ved=2ahUKEwjwlMa0xPr5AhUxqJUCHergC5QQFnoECAQQAg&usg=AOvVaw0OGMt-8lLMrAIo_G_AhZ3B\n",
      "['https://www.practo.com/hyderabad/doctor/dr-sandeep-reddy-1-internal-medicine', 'sa=U', 'ved=2ahUKEwjwlMa0xPr5AhUxqJUCHergC5QQFnoECAQQAg', 'usg=AOvVaw0OGMt-8lLMrAIo_G_AhZ3B']\n",
      "Link searched for:  https://www.practo.com/hyderabad/doctor/dr-sandeep-reddy-1-internal-medicine\n",
      "**************************************************\n"
     ]
    },
    {
     "name": "stderr",
     "output_type": "stream",
     "text": [
      "\r",
      "  9%|███▎                                  | 147/1715 [08:10<1:43:15,  3.95s/it]"
     ]
    },
    {
     "name": "stdout",
     "output_type": "stream",
     "text": [
      "Name:  Dr. C Sandeep Reddy\n",
      "Speciality:  Internal Medicine\n",
      "Rating:  4.5\n",
      "Votes are not available.\n",
      "Address:  Plot Number 1,2,3,& 4 Survey Number 40, Petbasheerabad, Suchitra X Roads, Landmark: Behind Ramalayam, Hyderabad\n",
      "https://google.com/search?q=dr+snitha+reddy++apple+clinic+hyderabad\n",
      "https://www.practo.com/hyderabad/doctor/snitha-reddy-r-pediatrician&sa=U&ved=2ahUKEwiupeW2xPr5AhXeq5UCHWHVCu0QFnoECAUQAg&usg=AOvVaw22VDGaa5uTXpZuvLH-GndR\n",
      "['https://www.practo.com/hyderabad/doctor/snitha-reddy-r-pediatrician', 'sa=U', 'ved=2ahUKEwiupeW2xPr5AhXeq5UCHWHVCu0QFnoECAUQAg', 'usg=AOvVaw22VDGaa5uTXpZuvLH-GndR']\n",
      "Link searched for:  https://www.practo.com/hyderabad/doctor/snitha-reddy-r-pediatrician\n",
      "**************************************************\n"
     ]
    },
    {
     "name": "stderr",
     "output_type": "stream",
     "text": [
      "\r",
      "  9%|███▎                                  | 148/1715 [08:14<1:48:46,  4.16s/it]"
     ]
    },
    {
     "name": "stdout",
     "output_type": "stream",
     "text": [
      "Name:  Dr. Snitha Reddy R\n",
      "Speciality:  Pediatrician\n",
      "Rating not available.\n",
      "Votes are not available.\n",
      "Address:  Road no1 Nanakramguda, Hyderabad\n",
      "https://google.com/search?q=dr+geetha+k+sri+krishna+hospital+hyderabad\n",
      "https://www.practo.com/hyderabad/doctor/dr-k-sri-krishna-dentist&sa=U&ved=2ahUKEwjiyIG5xPr5AhVtqZUCHZIYATkQFnoECAEQAg&usg=AOvVaw03wGb8zx6ZWQoCZbYUJEfY\n",
      "['https://www.practo.com/hyderabad/doctor/dr-k-sri-krishna-dentist', 'sa=U', 'ved=2ahUKEwjiyIG5xPr5AhVtqZUCHZIYATkQFnoECAEQAg', 'usg=AOvVaw03wGb8zx6ZWQoCZbYUJEfY']\n",
      "Link searched for:  https://www.practo.com/hyderabad/doctor/dr-k-sri-krishna-dentist\n",
      "**************************************************\n"
     ]
    },
    {
     "name": "stderr",
     "output_type": "stream",
     "text": [
      "\r",
      "  9%|███▎                                  | 149/1715 [08:19<1:50:23,  4.23s/it]"
     ]
    },
    {
     "name": "stdout",
     "output_type": "stream",
     "text": [
      "Name:  Dr. K Sri Krishna\n",
      "Speciality:  Dentist\n",
      "Rating not available.\n",
      "Votes are not available.\n",
      "Address:  1st Floor, MIG-214, Road No 1, KPHB Colony,  Landmark: Above ICICI ATM, Near Gandhi Statue - Kaman., Hyderabad\n",
      "https://google.com/search?q=dr+avinash+s+sri+krishna+hospital+hyderabad\n",
      "https://www.practo.com/hyderabad/doctor/s-avinash-general-surgeon&sa=U&ved=2ahUKEwjBkI27xPr5AhU3rpUCHaTIACkQFnoECAYQAg&usg=AOvVaw1TATyFpGCdKJ0sdE0m2Xbc\n",
      "['https://www.practo.com/hyderabad/doctor/s-avinash-general-surgeon', 'sa=U', 'ved=2ahUKEwjBkI27xPr5AhU3rpUCHaTIACkQFnoECAYQAg', 'usg=AOvVaw1TATyFpGCdKJ0sdE0m2Xbc']\n",
      "Link searched for:  https://www.practo.com/hyderabad/doctor/s-avinash-general-surgeon\n",
      "**************************************************\n"
     ]
    },
    {
     "name": "stderr",
     "output_type": "stream",
     "text": [
      "\r",
      "  9%|███▎                                  | 150/1715 [08:24<1:55:32,  4.43s/it]"
     ]
    },
    {
     "name": "stdout",
     "output_type": "stream",
     "text": [
      "Name:  Dr. S. Avinash\n",
      "Speciality:  General Surgeon\n",
      "Rating not available.\n",
      "Votes are not available.\n",
      "Address:  333/3/A, Malakpet, Landmark: Near Khagaz Karkana, Hyderabad\n",
      "https://google.com/search?q=dr+vasanth+suram+veda+clinic+hyderabad\n",
      "https://www.practo.com/hyderabad/clinic/veda-clinic-2-uppal&sa=U&ved=2ahUKEwi7i7i9xPr5AhVliJUCHaFJDLYQFnoECAkQAg&usg=AOvVaw1NJOj0CzCWk88YD6hasN_D\n",
      "['https://www.practo.com/hyderabad/clinic/veda-clinic-2-uppal', 'sa=U', 'ved=2ahUKEwi7i7i9xPr5AhVliJUCHaFJDLYQFnoECAkQAg', 'usg=AOvVaw1NJOj0CzCWk88YD6hasN_D']\n",
      "Link searched for:  https://www.practo.com/hyderabad/clinic/veda-clinic-2-uppal\n",
      "**************************************************\n"
     ]
    },
    {
     "name": "stderr",
     "output_type": "stream",
     "text": [
      "\r",
      "  9%|███▎                                  | 151/1715 [08:27<1:43:34,  3.97s/it]"
     ]
    },
    {
     "name": "stdout",
     "output_type": "stream",
     "text": [
      "Name:  Veda Clinic\n",
      "Speciality:  Internal Medicine Clinic\n",
      "Rating:  5.0\n",
      "Name:  (14 patient stories)\n",
      "Address:  H-Number 2-16-102, Prashanth Nagar, Survey of India, Landmark: Opposite SBI Bank & Beside Medplus Pharmacy, Hyderabad\n",
      "https://google.com/search?q=dr+ramesh+gajula+atharva+institute+of+spine+and+pain+hyderabad\n",
      "https://www.practo.com/hyderabad/doctor/ramesh-gajula-pain-management-specialist&sa=U&ved=2ahUKEwjK7em-xPr5AhUWpZUCHQkkCwoQFnoECAEQAg&usg=AOvVaw1XsjaKOdxU0S0Y3nqeTviu\n",
      "['https://www.practo.com/hyderabad/doctor/ramesh-gajula-pain-management-specialist', 'sa=U', 'ved=2ahUKEwjK7em-xPr5AhUWpZUCHQkkCwoQFnoECAEQAg', 'usg=AOvVaw1XsjaKOdxU0S0Y3nqeTviu']\n",
      "Link searched for:  https://www.practo.com/hyderabad/doctor/ramesh-gajula-pain-management-specialist\n",
      "**************************************************\n"
     ]
    },
    {
     "name": "stderr",
     "output_type": "stream",
     "text": [
      "\r",
      "  9%|███▎                                  | 152/1715 [08:30<1:40:22,  3.85s/it]"
     ]
    },
    {
     "name": "stdout",
     "output_type": "stream",
     "text": [
      "Name:  Dr. Ramesh Gajula\n",
      "Speciality:  Orthopedist\n",
      "Rating:  98% \n",
      "Name:  (87 votes)\n",
      "Address:  2-1-24/A, 1, Registration Office Lane, Surya Nagar Colony, Rajnagar Colony, Landmark: Behind METRO Supermarket, Hyderabad\n",
      "https://google.com/search?q=dr+kiran++reddy+chennuri+kindle+clinics+hyderabad\n",
      "https://www.practo.com/hyderabad/doctor/kiran-reddy-chennuri-orthopedist&sa=U&ved=2ahUKEwjj1MPAxPr5AhWbppUCHRc4BBAQFnoECAEQAg&usg=AOvVaw3Pp43j_bjCjUDpKucWFrl6\n",
      "['https://www.practo.com/hyderabad/doctor/kiran-reddy-chennuri-orthopedist', 'sa=U', 'ved=2ahUKEwjj1MPAxPr5AhWbppUCHRc4BBAQFnoECAEQAg', 'usg=AOvVaw3Pp43j_bjCjUDpKucWFrl6']\n",
      "Link searched for:  https://www.practo.com/hyderabad/doctor/kiran-reddy-chennuri-orthopedist\n",
      "**************************************************\n"
     ]
    },
    {
     "name": "stderr",
     "output_type": "stream",
     "text": [
      "\r",
      "  9%|███▍                                  | 153/1715 [08:34<1:37:56,  3.76s/it]"
     ]
    },
    {
     "name": "stdout",
     "output_type": "stream",
     "text": [
      "Name:  Dr. Kiran Reddy Chennuri\n",
      "Speciality:  Orthopedist\n",
      "Rating:  99% \n",
      "Name:  (424 votes)\n",
      "Address:  Plot Number 1 and 2, Old Mumbai Hwy, Indira Nagar, Landmark: Opposite KS Bakers, Hyderabad\n",
      "https://google.com/search?q=dr+sudheer+reddy+chandra++health+hub+clinics+pvt+ltd+hyderabad\n",
      "https://www.practo.com/hyderabad/doctor/sudheer-reddy-chandra-cardiologist&sa=U&ved=2ahUKEwjv_JvCxPr5AhVIrZUCHeuXATQQFnoECAIQAg&usg=AOvVaw1aVU0gho8d6fRQF_rHz7Hd\n",
      "['https://www.practo.com/hyderabad/doctor/sudheer-reddy-chandra-cardiologist', 'sa=U', 'ved=2ahUKEwjv_JvCxPr5AhVIrZUCHeuXATQQFnoECAIQAg', 'usg=AOvVaw1aVU0gho8d6fRQF_rHz7Hd']\n",
      "Link searched for:  https://www.practo.com/hyderabad/doctor/sudheer-reddy-chandra-cardiologist\n",
      "**************************************************\n"
     ]
    },
    {
     "name": "stderr",
     "output_type": "stream",
     "text": [
      "\r",
      "  9%|███▍                                  | 154/1715 [08:38<1:40:30,  3.86s/it]"
     ]
    },
    {
     "name": "stdout",
     "output_type": "stream",
     "text": [
      "Name:  Dr. Sudheer Reddy Chandra\n",
      "Speciality:  Cardiologist\n",
      "Rating not available.\n",
      "Votes are not available.\n",
      "https://google.com/search?q=dr+komal+meettupalli+health+hub+clinics+pvt+ltd++hyderabad\n",
      "https://www.practo.com/hyderabad/doctor/dr-m-komal-gynecologist-obstetrician&sa=U&ved=2ahUKEwi_t5bExPr5AhXlqJUCHYPKCfgQFnoECAYQAg&usg=AOvVaw2M2r15pPLVwnQhAIY9-7Bp\n",
      "['https://www.practo.com/hyderabad/doctor/dr-m-komal-gynecologist-obstetrician', 'sa=U', 'ved=2ahUKEwi_t5bExPr5AhXlqJUCHYPKCfgQFnoECAYQAg', 'usg=AOvVaw2M2r15pPLVwnQhAIY9-7Bp']\n",
      "Link searched for:  https://www.practo.com/hyderabad/doctor/dr-m-komal-gynecologist-obstetrician\n",
      "**************************************************\n"
     ]
    },
    {
     "name": "stderr",
     "output_type": "stream",
     "text": [
      "\r",
      "  9%|███▍                                  | 155/1715 [08:42<1:42:25,  3.94s/it]"
     ]
    },
    {
     "name": "stdout",
     "output_type": "stream",
     "text": [
      "Name:  Dr. Komal Mettupalli\n",
      "Speciality:  Gynecologist\n",
      "Rating not available.\n",
      "Votes are not available.\n",
      "https://google.com/search?q=dr+muneeb++mirza+fatima+hospital+hyderabad\n",
      "https://www.practo.com/hyderabad/doctor/muneeb-mirza-orthopedist&sa=U&ved=2ahUKEwiK0ZHGxPr5AhV2rZUCHQEsCnsQFnoECAMQAg&usg=AOvVaw1vGV5fcgFgusRmhGuN__nn\n",
      "['https://www.practo.com/hyderabad/doctor/muneeb-mirza-orthopedist', 'sa=U', 'ved=2ahUKEwiK0ZHGxPr5AhV2rZUCHQEsCnsQFnoECAMQAg', 'usg=AOvVaw1vGV5fcgFgusRmhGuN__nn']\n",
      "Link searched for:  https://www.practo.com/hyderabad/doctor/muneeb-mirza-orthopedist\n",
      "**************************************************\n"
     ]
    },
    {
     "name": "stderr",
     "output_type": "stream",
     "text": [
      "\r",
      "  9%|███▍                                  | 156/1715 [08:47<1:53:04,  4.35s/it]"
     ]
    },
    {
     "name": "stdout",
     "output_type": "stream",
     "text": [
      "Name:  Dr. Muneeb Mirza\n",
      "Speciality:  Orthopedist\n",
      "Rating not available.\n",
      "Votes are not available.\n",
      "Address:  19-2-24/20/7/6, New Idgah Road, Jahannuma Nawab Saheb Kunta, Hyderabad\n",
      "https://google.com/search?q=dr+vaseem+fatima+mohammedi+memorial+hospital+hyderabad\n",
      "https://www.practo.com/hyderabad/hospital/mohammedi-memorial-hospital-kishanbagh/doctors&sa=U&ved=2ahUKEwj58NXIxPr5AhU5pJUCHTKJCwMQFnoECAUQAg&usg=AOvVaw2VFrDE_Ylf7SrVJlFVyh5r\n",
      "['https://www.practo.com/hyderabad/hospital/mohammedi-memorial-hospital-kishanbagh/doctors', 'sa=U', 'ved=2ahUKEwj58NXIxPr5AhU5pJUCHTKJCwMQFnoECAUQAg', 'usg=AOvVaw2VFrDE_Ylf7SrVJlFVyh5r']\n",
      "Link searched for:  https://www.practo.com/hyderabad/hospital/mohammedi-memorial-hospital-kishanbagh/doctors\n",
      "**************************************************\n"
     ]
    },
    {
     "name": "stderr",
     "output_type": "stream",
     "text": [
      "\r",
      "  9%|███▍                                  | 157/1715 [08:50<1:41:46,  3.92s/it]"
     ]
    },
    {
     "name": "stdout",
     "output_type": "stream",
     "text": [
      "Name:  Mohammedi Memorial Hospital\n",
      "Speciality is not available.\n",
      "Rating not available.\n",
      "Votes are not available.\n",
      "https://google.com/search?q=dr+ranjitha+k+raghavendra+ent+&+dental+clinic+hyderabad\n",
      "https://www.practo.com/bangalore/doctor/dr-ranjitha-k-dentist/247369/call&sa=U&ved=2ahUKEwi9pYfKxPr5AhXhrJUCHSGWD48QFnoECAEQAg&usg=AOvVaw1haZ4OTd7PO9YCG70T961N\n",
      "['https://www.practo.com/bangalore/doctor/dr-ranjitha-k-dentist/247369/call', 'sa=U', 'ved=2ahUKEwi9pYfKxPr5AhXhrJUCHSGWD48QFnoECAEQAg', 'usg=AOvVaw1haZ4OTd7PO9YCG70T961N']\n",
      "Link searched for:  https://www.practo.com/bangalore/doctor/dr-ranjitha-k-dentist/call\n",
      "**************************************************\n"
     ]
    },
    {
     "name": "stderr",
     "output_type": "stream",
     "text": [
      "\r",
      "  9%|███▌                                  | 158/1715 [08:54<1:39:58,  3.85s/it]"
     ]
    },
    {
     "name": "stdout",
     "output_type": "stream",
     "text": [
      "Name:  Dr. Ranjitha K\n",
      "Speciality:  Dental Surgeon\n",
      "Rating not available.\n",
      "Votes are not available.\n",
      "Address:  Shop no 2, Vedere Complex,  Landmark : Below Shilpi Hotel ., Hyderabad\n",
      "https://google.com/search?q=dr+md+ashfaq+max+care+hospital+hyderabad\n"
     ]
    },
    {
     "name": "stderr",
     "output_type": "stream",
     "text": [
      "\r",
      "  9%|███▌                                  | 159/1715 [08:56<1:27:21,  3.37s/it]"
     ]
    },
    {
     "name": "stdout",
     "output_type": "stream",
     "text": [
      "Couldn't find any practo links.\n",
      "https://google.com/search?q=dr+dilip+m+babu+renin+polyclinic+diabetic+and+kidney+center++hyderabad\n",
      "https://www.practo.com/hyderabad/doctor/dr-dilip-m-babu-nephrologist-1&sa=U&ved=2ahUKEwiYyvHMxPr5AhU6rJUCHWiADggQFnoECAEQAg&usg=AOvVaw1NgiRahrQTHwYkCLcOZeGX\n",
      "['https://www.practo.com/hyderabad/doctor/dr-dilip-m-babu-nephrologist-1', 'sa=U', 'ved=2ahUKEwiYyvHMxPr5AhU6rJUCHWiADggQFnoECAEQAg', 'usg=AOvVaw1NgiRahrQTHwYkCLcOZeGX']\n",
      "Link searched for:  https://www.practo.com/hyderabad/doctor/dr-dilip-m-babu-nephrologist-1\n",
      "**************************************************\n"
     ]
    },
    {
     "name": "stderr",
     "output_type": "stream",
     "text": [
      "\r",
      "  9%|███▌                                  | 160/1715 [09:00<1:28:09,  3.40s/it]"
     ]
    },
    {
     "name": "stdout",
     "output_type": "stream",
     "text": [
      "Name:  Dr. Dilip M Babu\n",
      "Speciality:  Nephrologist/Renal Specialist\n",
      "Rating not available.\n",
      "Votes are not available.\n",
      "Address:  Shop Number UGF-3A, First Floor, Osmania University Road, Landmark: Opposite Andhra Mahila Sabha-Durgabai Deshmukh Hospital, Above ICICI Bank,Vidyanagar,Hyderabad, Hyderabad\n",
      "https://google.com/search?q=dr+dipika+aawar+renin+polyclinic+diabetes+&+kidney+care++hyderabad\n",
      "https://www.practo.com/hyderabad/doctor/dr-dipika-narayan-aawar-diabetologist&sa=U&ved=2ahUKEwiNqsbOxPr5AhWSpJUCHVDKAwQQFnoECAEQAg&usg=AOvVaw0X7F3AEVxi_bLMTMDcaScg\n",
      "['https://www.practo.com/hyderabad/doctor/dr-dipika-narayan-aawar-diabetologist', 'sa=U', 'ved=2ahUKEwiNqsbOxPr5AhWSpJUCHVDKAwQQFnoECAEQAg', 'usg=AOvVaw0X7F3AEVxi_bLMTMDcaScg']\n",
      "Link searched for:  https://www.practo.com/hyderabad/doctor/dr-dipika-narayan-aawar-diabetologist\n",
      "**************************************************\n"
     ]
    },
    {
     "name": "stderr",
     "output_type": "stream",
     "text": [
      "\r",
      "  9%|███▌                                  | 161/1715 [09:04<1:32:19,  3.56s/it]"
     ]
    },
    {
     "name": "stdout",
     "output_type": "stream",
     "text": [
      "Name:  Dr. Dipika Narayan Aawar\n",
      "Speciality:  General Physician\n",
      "Rating not available.\n",
      "Votes are not available.\n",
      "Address:  Shop Number UGF-3A, First Floor, Osmania University Road, Landmark: Opposite Andhra Mahila Sabha-Durgabai Deshmukh Hospital, Above ICICI Bank,Vidyanagar,Hyderabad, Hyderabad\n",
      "https://google.com/search?q=dr+nalini++tellakula+amrutha+clinic+hyderabad\n"
     ]
    },
    {
     "name": "stderr",
     "output_type": "stream",
     "text": [
      "\r",
      "  9%|███▌                                  | 162/1715 [09:06<1:21:38,  3.15s/it]"
     ]
    },
    {
     "name": "stdout",
     "output_type": "stream",
     "text": [
      "Couldn't find any practo links.\n",
      "https://google.com/search?q=dr+b+ravi++shankar++ravi+gastroenterology+&+liver+clinic+&+diagnostics+hyderabad\n"
     ]
    },
    {
     "name": "stderr",
     "output_type": "stream",
     "text": [
      "\r",
      " 10%|███▌                                  | 163/1715 [09:08<1:12:20,  2.80s/it]"
     ]
    },
    {
     "name": "stdout",
     "output_type": "stream",
     "text": [
      "Couldn't find any practo links.\n",
      "https://google.com/search?q=dr+n+ravisankar+reddy+hardhik's+gastro+liver+clinic+and+scan+center+hyderabad\n",
      "https://www.practo.com/hyderabad/doctor/dr-ravisankar-reddy-n-gastroenterologist&sa=U&ved=2ahUKEwjPvrTSxPr5AhX8rJUCHT6tCQwQFnoECAIQAg&usg=AOvVaw3-joMmK8iCx3gxQMyTE3OA\n",
      "['https://www.practo.com/hyderabad/doctor/dr-ravisankar-reddy-n-gastroenterologist', 'sa=U', 'ved=2ahUKEwjPvrTSxPr5AhX8rJUCHT6tCQwQFnoECAIQAg', 'usg=AOvVaw3-joMmK8iCx3gxQMyTE3OA']\n",
      "Link searched for:  https://www.practo.com/hyderabad/doctor/dr-ravisankar-reddy-n-gastroenterologist\n",
      "**************************************************\n"
     ]
    },
    {
     "name": "stderr",
     "output_type": "stream",
     "text": [
      "\r",
      " 10%|███▋                                  | 164/1715 [09:12<1:26:37,  3.35s/it]"
     ]
    },
    {
     "name": "stdout",
     "output_type": "stream",
     "text": [
      "Name:  Dr. Ravisankar Reddy N\n",
      "Speciality:  Gastroenterologist\n",
      "Rating:  97% \n",
      "Name:  (136 votes)\n",
      "Address:  #5-9-22, C/o MaxCure Hospitals, 3rd Floor, Sarovar Complex, Secretariat Road., Landmark: MaxCure Hospitals, Hyderabad\n",
      "https://google.com/search?q=dr+naveen+kumar+k+raghavendra+ent+&+dental+clinic+hyderabad\n",
      "https://www.practo.com/hyderabad/clinic/raghavendra-ent-clinic-lb-nagar/reviews&sa=U&ved=2ahUKEwjglNDUxPr5AhVliJUCHaFJDLYQFnoECAQQAg&usg=AOvVaw3amg3jLjuWgfXbqUwj2rqh\n",
      "['https://www.practo.com/hyderabad/clinic/raghavendra-ent-clinic-lb-nagar/reviews', 'sa=U', 'ved=2ahUKEwjglNDUxPr5AhVliJUCHaFJDLYQFnoECAQQAg', 'usg=AOvVaw3amg3jLjuWgfXbqUwj2rqh']\n",
      "Link searched for:  https://www.practo.com/hyderabad/clinic/raghavendra-ent-clinic-lb-nagar/reviews\n",
      "**************************************************\n"
     ]
    },
    {
     "name": "stderr",
     "output_type": "stream",
     "text": [
      "\r",
      " 10%|███▋                                  | 165/1715 [09:15<1:19:36,  3.08s/it]"
     ]
    },
    {
     "name": "stdout",
     "output_type": "stream",
     "text": [
      "Name:  Raghavendra ENT & DENTAL Clinic\n",
      "Speciality:   Clinic\n",
      "Rating not available.\n",
      "Votes are not available.\n",
      "Address:  Shop no 2, Vedere Complex,  Landmark : Below Shilpi Hotel ., Hyderabad\n",
      "https://google.com/search?q=dr+sitara+ganisetti+dr.sitara+skin+and+hair+clinic+hyderabad\n"
     ]
    },
    {
     "name": "stderr",
     "output_type": "stream",
     "text": [
      "\r",
      " 10%|███▋                                  | 166/1715 [09:17<1:12:49,  2.82s/it]"
     ]
    },
    {
     "name": "stdout",
     "output_type": "stream",
     "text": [
      "Couldn't find any practo links.\n",
      "https://google.com/search?q=dr+nishant+jain+kalp+skin+hair+&+wellness+hyderabad\n",
      "https://www.practo.com/hyderabad/doctor/nishant-jain-1-dermatology&sa=U&ved=2ahUKEwjn9cLXxPr5AhUFrpUCHeogC-EQFnoECAkQAg&usg=AOvVaw2ZzAmLnsmIwVkfE6FLMnWd\n",
      "['https://www.practo.com/hyderabad/doctor/nishant-jain-1-dermatology', 'sa=U', 'ved=2ahUKEwjn9cLXxPr5AhUFrpUCHeogC-EQFnoECAkQAg', 'usg=AOvVaw2ZzAmLnsmIwVkfE6FLMnWd']\n",
      "Link searched for:  https://www.practo.com/hyderabad/doctor/nishant-jain-1-dermatology\n",
      "**************************************************\n"
     ]
    },
    {
     "name": "stderr",
     "output_type": "stream",
     "text": [
      "\r",
      " 10%|███▋                                  | 167/1715 [09:22<1:33:33,  3.63s/it]"
     ]
    },
    {
     "name": "stdout",
     "output_type": "stream",
     "text": [
      "Name:  Dr. Nishant Jain\n",
      "Speciality:  Dermatologist\n",
      "Rating not available.\n",
      "Votes are not available.\n",
      "Address:  3rd Floor, Paramount building , D.K Road, Landmark: Above HDFC Bank ATM & Opposite MCH Swimming pool, Hyderabad\n",
      "https://google.com/search?q=dr+usha+p+samanvi+skin+clinic+hyderabad\n",
      "https://www.practo.com/hyderabad/doctor/dr-p-usha-dermatologist-cosmetologist&sa=U&ved=2ahUKEwj918vZxPr5AhVyqZUCHRqeDMwQFnoECAYQAg&usg=AOvVaw1LzeaBA-qCG61-3LpKigH9\n",
      "['https://www.practo.com/hyderabad/doctor/dr-p-usha-dermatologist-cosmetologist', 'sa=U', 'ved=2ahUKEwj918vZxPr5AhVyqZUCHRqeDMwQFnoECAYQAg', 'usg=AOvVaw1LzeaBA-qCG61-3LpKigH9']\n",
      "Link searched for:  https://www.practo.com/hyderabad/doctor/dr-p-usha-dermatologist-cosmetologist\n",
      "**************************************************\n"
     ]
    },
    {
     "name": "stderr",
     "output_type": "stream",
     "text": [
      "\r",
      " 10%|███▋                                  | 168/1715 [09:27<1:36:52,  3.76s/it]"
     ]
    },
    {
     "name": "stdout",
     "output_type": "stream",
     "text": [
      "Name:  Dr. P. Usha\n",
      "Speciality:  Dermatologist\n",
      "Rating:  95% \n",
      "Name:  (19 votes)\n",
      "Address:  10-3-540, Plot No. 55/3RT, Landmark: Opposite Bus Stop & Opposite SBI ATM, Hyderabad\n",
      "https://google.com/search?q=dr+gnaneswarao+c+dr+gnaneshwar+c+skin+&+std+clinc+hyderabad\n",
      "https://www.practo.com/hyderabad/doctor/dr-gnaneshwar-c-dermatologist-cosmetologist&sa=U&ved=2ahUKEwil77bbxPr5AhUQpZUCHRJCCrUQFnoECAgQAg&usg=AOvVaw11OnjZ5gmXMQpbEVPBxe5q\n",
      "['https://www.practo.com/hyderabad/doctor/dr-gnaneshwar-c-dermatologist-cosmetologist', 'sa=U', 'ved=2ahUKEwil77bbxPr5AhUQpZUCHRJCCrUQFnoECAgQAg', 'usg=AOvVaw11OnjZ5gmXMQpbEVPBxe5q']\n",
      "Link searched for:  https://www.practo.com/hyderabad/doctor/dr-gnaneshwar-c-dermatologist-cosmetologist\n",
      "**************************************************\n"
     ]
    },
    {
     "name": "stderr",
     "output_type": "stream",
     "text": [
      "\r",
      " 10%|███▋                                  | 169/1715 [09:30<1:35:08,  3.69s/it]"
     ]
    },
    {
     "name": "stdout",
     "output_type": "stream",
     "text": [
      "Name:  Dr. Gnaneshwar C\n",
      "Speciality:  Dermatologist\n",
      "Rating not available.\n",
      "Votes are not available.\n",
      "Address:  Chaitanyapuri Cross Road, Badam Apartments, Dilsukh Nagar. Landmark: Near 5 medicals/Badam Apartments, Hyderabad\n",
      "https://google.com/search?q=dr+syeda+nikhat+dr+syeda+nikhat+skin+care+center+hyderabad\n",
      "https://www.practo.com/hyderabad/doctor/dr-syeda-n8khat-dermatologist-cosmetologist&sa=U&ved=2ahUKEwjEjo3dxPr5AhXrpJUCHTm8CLwQFnoECAkQAg&usg=AOvVaw0j1K-1l25VTcV1lQxMfIId\n",
      "['https://www.practo.com/hyderabad/doctor/dr-syeda-n8khat-dermatologist-cosmetologist', 'sa=U', 'ved=2ahUKEwjEjo3dxPr5AhXrpJUCHTm8CLwQFnoECAkQAg', 'usg=AOvVaw0j1K-1l25VTcV1lQxMfIId']\n",
      "Link searched for:  https://www.practo.com/hyderabad/doctor/dr-syeda-n8khat-dermatologist-cosmetologist\n",
      "**************************************************\n"
     ]
    },
    {
     "name": "stderr",
     "output_type": "stream",
     "text": [
      "\r",
      " 10%|███▊                                  | 170/1715 [09:34<1:39:16,  3.86s/it]"
     ]
    },
    {
     "name": "stdout",
     "output_type": "stream",
     "text": [
      "Name:  Dr. Syeda Nikhat\n",
      "Speciality:  Dermatologist\n",
      "Rating:  97% \n",
      "Name:  (77 votes)\n",
      "Address:  Road No 2, Beside Birth Place Hospital,  L V Prasad Eye Hospital Road, Landmark: Opposite harley davidson showroom, Hyderabad\n",
      "https://google.com/search?q=dr+sanjoy+paul+dr.+sanjoy+paul+-+best+diabetologist++hyderabad\n",
      "https://www.practo.com/hyderabad/doctor/dr-prashanth-kumar-g-general-physician&sa=U&ved=2ahUKEwjB1I_fxPr5AhW2u5UCHaYTB-QQFnoECAIQAg&usg=AOvVaw3a1EAqytWrr2zoaVitcbfy\n",
      "['https://www.practo.com/hyderabad/doctor/dr-prashanth-kumar-g-general-physician', 'sa=U', 'ved=2ahUKEwjB1I_fxPr5AhW2u5UCHaYTB-QQFnoECAIQAg', 'usg=AOvVaw3a1EAqytWrr2zoaVitcbfy']\n",
      "Link searched for:  https://www.practo.com/hyderabad/doctor/dr-prashanth-kumar-g-general-physician\n",
      "**************************************************\n"
     ]
    },
    {
     "name": "stderr",
     "output_type": "stream",
     "text": [
      "\r",
      " 10%|███▊                                  | 171/1715 [09:40<1:53:08,  4.40s/it]"
     ]
    },
    {
     "name": "stdout",
     "output_type": "stream",
     "text": [
      "Name:  Dr. Sanjoy Paul\n",
      "Speciality:  General Physician\n",
      "Rating:  98% \n",
      "Name:  (556 votes)\n",
      "Address:  Haripriya Villa apartment Flat No- 402, Plot No-3,, Hyderabad\n",
      "https://google.com/search?q=dr+yasalapu+anitha+s+r+medical+care+visakhapatnam\n",
      "https://www.practo.com/visakhapatnam/doctor/dr-anitha-kolukula-general-physician-1&sa=U&ved=2ahUKEwjuj-nhxPr5AhUTr5UCHbsSDK4QFnoECAgQAg&usg=AOvVaw2Cz-oJ2pKhToTSGhCLuRWo\n",
      "['https://www.practo.com/visakhapatnam/doctor/dr-anitha-kolukula-general-physician-1', 'sa=U', 'ved=2ahUKEwjuj-nhxPr5AhUTr5UCHbsSDK4QFnoECAgQAg', 'usg=AOvVaw2Cz-oJ2pKhToTSGhCLuRWo']\n",
      "Link searched for:  https://www.practo.com/visakhapatnam/doctor/dr-anitha-kolukula-general-physician-1\n",
      "**************************************************\n"
     ]
    },
    {
     "name": "stderr",
     "output_type": "stream",
     "text": [
      "\r",
      " 10%|███▊                                  | 172/1715 [09:43<1:44:43,  4.07s/it]"
     ]
    },
    {
     "name": "stdout",
     "output_type": "stream",
     "text": [
      "Name:  Dr. Anitha Kolukula\n",
      "Speciality:  General Physician\n",
      "Rating:  4.5\n",
      "Votes are not available.\n",
      "Address:  Door Number-18-516/2/1, Plot Number 1, Health City, Chinnagadili, Landmark: Behind L V Prasad Eye Hospital & VIMS Hospital, Visakhapatnam\n",
      "https://google.com/search?q=dr+mohanreddy+m+nova+ent+head+and+neck+super+speciality+hospital+hyderabad\n",
      "https://www.practo.com/hyderabad/doctor/dr-mohan-reddy-ear-nose-throat-ent-specialist-1&sa=U&ved=2ahUKEwiPiLTjxPr5AhWnp5UCHRyXDo0QFnoECAcQAg&usg=AOvVaw3q2YEBsMDcVy13tU6_TwCJ\n",
      "['https://www.practo.com/hyderabad/doctor/dr-mohan-reddy-ear-nose-throat-ent-specialist-1', 'sa=U', 'ved=2ahUKEwiPiLTjxPr5AhWnp5UCHRyXDo0QFnoECAcQAg', 'usg=AOvVaw3q2YEBsMDcVy13tU6_TwCJ']\n",
      "Link searched for:  https://www.practo.com/hyderabad/doctor/dr-mohan-reddy-ear-nose-throat-ent-specialist-1\n",
      "**************************************************\n"
     ]
    },
    {
     "name": "stderr",
     "output_type": "stream",
     "text": [
      "\r",
      " 10%|███▊                                  | 173/1715 [09:47<1:41:58,  3.97s/it]"
     ]
    },
    {
     "name": "stdout",
     "output_type": "stream",
     "text": [
      "Name:  Dr. M Mohan Reddy\n",
      "Speciality:  ENT/ Otorhinolaryngologist\n",
      "Rating:  72% \n",
      "Name:  (36 votes)\n",
      "https://google.com/search?q=dr+srilatha+s+dr.+srilatha+neuro+clinic+hyderabad\n",
      "https://www.practo.com/hyderabad/neurologist/as-rao-nagar&sa=U&ved=2ahUKEwjmiJflxPr5AhUyrJUCHXGUClIQFnoECAAQAg&usg=AOvVaw33FiWHYHbq_NMCHwFlVDgY\n",
      "['https://www.practo.com/hyderabad/neurologist/as-rao-nagar', 'sa=U', 'ved=2ahUKEwjmiJflxPr5AhUyrJUCHXGUClIQFnoECAAQAg', 'usg=AOvVaw33FiWHYHbq_NMCHwFlVDgY']\n",
      "Link searched for:  https://www.practo.com/hyderabad/neurologist/as-rao-nagar\n",
      "**************************************************\n"
     ]
    },
    {
     "name": "stderr",
     "output_type": "stream",
     "text": [
      "\r",
      " 10%|███▊                                  | 174/1715 [09:51<1:44:57,  4.09s/it]"
     ]
    },
    {
     "name": "stdout",
     "output_type": "stream",
     "text": [
      "Name:  8 doctors available in As rao nagar\n",
      "Speciality is not available.\n",
      "Rating not available.\n",
      "Votes are not available.\n",
      "https://google.com/search?q=dr+bhupin+singh++bakshi++astra+orthopedic+clinic+hyderabad\n",
      "https://www.practo.com/hyderabad/doctor/dr-bhupin-singh-bakshi-orthopedist-2&sa=U&ved=2ahUKEwjKz6DnxPr5AhVPLLkGHXI9C88QFnoECAkQAg&usg=AOvVaw3BqPj205hEjF4Rx3mJOsXQ\n",
      "['https://www.practo.com/hyderabad/doctor/dr-bhupin-singh-bakshi-orthopedist-2', 'sa=U', 'ved=2ahUKEwjKz6DnxPr5AhVPLLkGHXI9C88QFnoECAkQAg', 'usg=AOvVaw3BqPj205hEjF4Rx3mJOsXQ']\n",
      "Link searched for:  https://www.practo.com/hyderabad/doctor/dr-bhupin-singh-bakshi-orthopedist-2\n",
      "**************************************************\n"
     ]
    },
    {
     "name": "stderr",
     "output_type": "stream",
     "text": [
      "\r",
      " 10%|███▉                                  | 175/1715 [09:54<1:36:07,  3.74s/it]"
     ]
    },
    {
     "name": "stdout",
     "output_type": "stream",
     "text": [
      "Name:  Dr. Bhupin Singh Bakshi\n",
      "Speciality:  Orthopedist\n",
      "Rating:  98% \n",
      "Name:  (1281 votes)\n",
      "Address:  Diamond Point, Secunderabad, Landmark: Opposite To Raja Rajeshwari Garden, Hyderabad\n",
      "https://google.com/search?q=dr+vikram+c+vicinity+multi-speciality+clinics+hyderabad\n",
      "https://www.practo.com/hyderabad/clinic/vicinity-multi-speciality-clinics-manikonda&sa=U&ved=2ahUKEwiH4NToxPr5AhXKKLkGHQKpBkYQFnoECAcQAg&usg=AOvVaw0Zo2Vtii5Ike9h5Y8qe65Z\n",
      "['https://www.practo.com/hyderabad/clinic/vicinity-multi-speciality-clinics-manikonda', 'sa=U', 'ved=2ahUKEwiH4NToxPr5AhXKKLkGHQKpBkYQFnoECAcQAg', 'usg=AOvVaw0Zo2Vtii5Ike9h5Y8qe65Z']\n",
      "Link searched for:  https://www.practo.com/hyderabad/clinic/vicinity-multi-speciality-clinics-manikonda\n",
      "**************************************************\n"
     ]
    },
    {
     "name": "stderr",
     "output_type": "stream",
     "text": [
      "\r",
      " 10%|███▉                                  | 176/1715 [09:57<1:30:44,  3.54s/it]"
     ]
    },
    {
     "name": "stdout",
     "output_type": "stream",
     "text": [
      "Name:  Vicinity Multi-Speciality Clinics\n",
      "Speciality:  Multi-speciality Clinic\n",
      "Rating:  5.0\n",
      "Name:  (287 patient stories)\n",
      "Address:  201, 2nd Floor , Vaishnavi Pemia, Sri Lakshmi Nagar Colony, Lanco Hills Road, Landmark: Near Marrichettu Junction, Hyderabad\n",
      "https://google.com/search?q=dr+kodanda++ramu+ulala+chodimella+complex+visakhapatnam\n"
     ]
    },
    {
     "name": "stderr",
     "output_type": "stream",
     "text": [
      "\r",
      " 10%|███▉                                  | 177/1715 [09:59<1:13:51,  2.88s/it]"
     ]
    },
    {
     "name": "stdout",
     "output_type": "stream",
     "text": [
      "Couldn't find any practo links.\n",
      "https://google.com/search?q=dr+varudu++chiranjeevi+dr.+cure+speciality+clinics+visakhapatnam\n"
     ]
    },
    {
     "name": "stderr",
     "output_type": "stream",
     "text": [
      "\r",
      " 10%|███▉                                  | 178/1715 [10:01<1:09:27,  2.71s/it]"
     ]
    },
    {
     "name": "stdout",
     "output_type": "stream",
     "text": [
      "Couldn't find any practo links.\n",
      "https://google.com/search?q=dr+krishna++kishore+vdr+doctors+plaza+visakhapatnam\n"
     ]
    },
    {
     "name": "stderr",
     "output_type": "stream",
     "text": [
      "\r",
      " 10%|███▉                                  | 179/1715 [10:03<1:06:07,  2.58s/it]"
     ]
    },
    {
     "name": "stdout",
     "output_type": "stream",
     "text": [
      "Couldn't find any practo links.\n",
      "https://google.com/search?q=dr+krishnaveni+kandru+krishnaveni+womens+wellness+clinic+hyderabad\n",
      "https://www.practo.com/hyderabad/doctor/krishna-veni-kandru-gynecologist-obstetrician&sa=U&ved=2ahUKEwjO__nsxPr5AhVWCbkGHZjbBPUQFnoECAgQAg&usg=AOvVaw0tmkGKBzOeEhblZgXQ9joU\n",
      "['https://www.practo.com/hyderabad/doctor/krishna-veni-kandru-gynecologist-obstetrician', 'sa=U', 'ved=2ahUKEwjO__nsxPr5AhVWCbkGHZjbBPUQFnoECAgQAg', 'usg=AOvVaw0tmkGKBzOeEhblZgXQ9joU']\n",
      "Link searched for:  https://www.practo.com/hyderabad/doctor/krishna-veni-kandru-gynecologist-obstetrician\n",
      "**************************************************\n"
     ]
    },
    {
     "name": "stderr",
     "output_type": "stream",
     "text": [
      "\r",
      " 10%|███▉                                  | 180/1715 [10:08<1:21:33,  3.19s/it]"
     ]
    },
    {
     "name": "stdout",
     "output_type": "stream",
     "text": [
      "Name:  Dr. Krishna Veni Kandru\n",
      "Speciality:  Gynecologist\n",
      "Rating not available.\n",
      "Votes are not available.\n",
      "https://google.com/search?q=dr+b+v+k+prasad+bvk+prasad+clinic+visakhapatnam\n",
      "https://www.practo.com/visakhapatnam/clinic/prasad-clinic-13-akkayyapalem&sa=U&ved=2ahUKEwiahZPvxPr5AhUXA7kGHUSuDC0QFnoECAMQAg&usg=AOvVaw1xTzPiG81MT-ck13ky-6fN\n",
      "['https://www.practo.com/visakhapatnam/clinic/prasad-clinic-13-akkayyapalem', 'sa=U', 'ved=2ahUKEwiahZPvxPr5AhUXA7kGHUSuDC0QFnoECAMQAg', 'usg=AOvVaw1xTzPiG81MT-ck13ky-6fN']\n",
      "Link searched for:  https://www.practo.com/visakhapatnam/clinic/prasad-clinic-13-akkayyapalem\n",
      "**************************************************\n"
     ]
    },
    {
     "name": "stderr",
     "output_type": "stream",
     "text": [
      "\r",
      " 11%|████                                  | 181/1715 [10:11<1:19:25,  3.11s/it]"
     ]
    },
    {
     "name": "stdout",
     "output_type": "stream",
     "text": [
      "Name:  Prasad Clinic\n",
      "Speciality:  Multi-speciality Clinic\n",
      "Rating not available.\n",
      "Votes are not available.\n",
      "Address:  44-24-6, Railway New Colony, Landmark: Near Rajmanthri Silks, Visakhapatnam\n",
      "https://google.com/search?q=dr+ramakrishna+reddy+m+mana+hospital+hyderabad\n",
      "https://www.practo.com/hyderabad/doctor/dr-m-ramakrishna-reddy-pulmonologist&sa=U&ved=2ahUKEwjLi8XwxPr5AhXpHLkGHc69D08QFnoECAgQAg&usg=AOvVaw13P9JR22vj7otORG_mGHTd\n",
      "['https://www.practo.com/hyderabad/doctor/dr-m-ramakrishna-reddy-pulmonologist', 'sa=U', 'ved=2ahUKEwjLi8XwxPr5AhXpHLkGHc69D08QFnoECAgQAg', 'usg=AOvVaw13P9JR22vj7otORG_mGHTd']\n",
      "Link searched for:  https://www.practo.com/hyderabad/doctor/dr-m-ramakrishna-reddy-pulmonologist\n",
      "**************************************************\n"
     ]
    },
    {
     "name": "stderr",
     "output_type": "stream",
     "text": [
      "\r",
      " 11%|████                                  | 182/1715 [10:15<1:25:35,  3.35s/it]"
     ]
    },
    {
     "name": "stdout",
     "output_type": "stream",
     "text": [
      "Name:  Dr. M Ramakrishna Reddy\n",
      "Speciality:  Pulmonologist\n",
      "Rating:  91% \n",
      "Name:  (87 votes)\n",
      "Address:  498, Rd Number 2, Chaitanya Nagar, Vivekananda Nagar, Kukatpally, Hyderabad, Telangana 500072, Landmark: Opposite Reliance Fresh, Hyderabad\n",
      "https://google.com/search?q=dr+uma++g+mana+hospital+hyderabad\n",
      "https://www.practo.com/hyderabad/doctor/dr-d-uma-sreedevi-general-physician-general-physician&sa=U&ved=2ahUKEwiU7bPyxPr5AhWdGbkGHb06B3UQFnoECAIQAg&usg=AOvVaw3ORSSss0_nnYi5Mq2BCsAC\n",
      "['https://www.practo.com/hyderabad/doctor/dr-d-uma-sreedevi-general-physician-general-physician', 'sa=U', 'ved=2ahUKEwiU7bPyxPr5AhWdGbkGHb06B3UQFnoECAIQAg', 'usg=AOvVaw3ORSSss0_nnYi5Mq2BCsAC']\n",
      "Link searched for:  https://www.practo.com/hyderabad/doctor/dr-d-uma-sreedevi-general-physician-general-physician\n",
      "**************************************************\n"
     ]
    },
    {
     "name": "stderr",
     "output_type": "stream",
     "text": [
      "\r",
      " 11%|████                                  | 183/1715 [10:18<1:21:55,  3.21s/it]"
     ]
    },
    {
     "name": "stdout",
     "output_type": "stream",
     "text": [
      "Name:  Dr. D.Uma Sreedevi\n",
      "Speciality:  General Physician\n",
      "Rating:  4.0\n",
      "Votes are not available.\n",
      "Address:  Plot Number 4, Satyam Theatre Road, Srinivasa Nagar, Landmark: Behind Mythrivanam Building & Beside Blue Fox Hotel & Beside Metro Station, Hyderabad\n",
      "https://google.com/search?q=dr+ramakrishna++p+nova+ent+clinic+hyderabad\n",
      "https://www.practo.com/hyderabad/doctor/p-ramakrishna-ear-nose-throat-ent-specialist&sa=U&ved=2ahUKEwiprOPzxPr5AhVmCrkGHWWdD9UQFnoECAgQAg&usg=AOvVaw1enm-8V9M5FaxpoU2mWIDF\n",
      "['https://www.practo.com/hyderabad/doctor/p-ramakrishna-ear-nose-throat-ent-specialist', 'sa=U', 'ved=2ahUKEwiprOPzxPr5AhVmCrkGHWWdD9UQFnoECAgQAg', 'usg=AOvVaw1enm-8V9M5FaxpoU2mWIDF']\n",
      "Link searched for:  https://www.practo.com/hyderabad/doctor/p-ramakrishna-ear-nose-throat-ent-specialist\n",
      "**************************************************\n"
     ]
    },
    {
     "name": "stderr",
     "output_type": "stream",
     "text": [
      "\r",
      " 11%|████                                  | 184/1715 [10:21<1:24:30,  3.31s/it]"
     ]
    },
    {
     "name": "stdout",
     "output_type": "stream",
     "text": [
      "Name:  Dr. P.Ramakrishnaiah\n",
      "Speciality:  ENT/ Otorhinolaryngologist\n",
      "Rating:  95% \n",
      "Name:  (56 votes)\n",
      "Address:  Satti Reddy  Complex, hyderguda X Road,, Landmark: Above Medicure Diagnostic Centre, Pillar number 143, Hyderabad\n",
      "https://google.com/search?q=dr+divya+siddavaram+tatva+skin+clinic+hyderabad\n",
      "https://www.practo.com/hyderabad/doctor/dr-s-divya-dermatologist-dermatologist&sa=U&ved=2ahUKEwi247z1xPr5AhXxJrkGHaAfC_gQFnoECAEQAg&usg=AOvVaw2IIdEko-GUpjTni_vjlORe\n",
      "['https://www.practo.com/hyderabad/doctor/dr-s-divya-dermatologist-dermatologist', 'sa=U', 'ved=2ahUKEwi247z1xPr5AhXxJrkGHaAfC_gQFnoECAEQAg', 'usg=AOvVaw2IIdEko-GUpjTni_vjlORe']\n",
      "Link searched for:  https://www.practo.com/hyderabad/doctor/dr-s-divya-dermatologist-dermatologist\n",
      "**************************************************\n"
     ]
    },
    {
     "name": "stderr",
     "output_type": "stream",
     "text": [
      "\r",
      " 11%|████                                  | 185/1715 [10:25<1:29:09,  3.50s/it]"
     ]
    },
    {
     "name": "stdout",
     "output_type": "stream",
     "text": [
      "Name:  Dr. S Divya\n",
      "Speciality:  Dermatologist\n",
      "Rating:  98% \n",
      "Name:  (101 votes)\n",
      "Address:  Sri Nagar Colony Road, Panjagutta, Hyderabad\n",
      "https://google.com/search?q=dr+sirisha+varala+tatva+skin+clinic+hyderabad\n"
     ]
    },
    {
     "name": "stderr",
     "output_type": "stream",
     "text": [
      "\r",
      " 11%|████                                  | 186/1715 [10:27<1:15:34,  2.97s/it]"
     ]
    },
    {
     "name": "stdout",
     "output_type": "stream",
     "text": [
      "Couldn't find any practo links.\n",
      "https://google.com/search?q=dr+cma+mustaq+ahamed+a.n+beach+hospital+visakhapatnam\n",
      "https://www.practo.com/visakhapatnam/doctor/mushtaq-ahmed-paediatric-intensivist&sa=U&ved=2ahUKEwim0pX4xPr5AhWSIbkGHZYMDMwQFnoECAAQAg&usg=AOvVaw0mW2vmV2MKpfTkXOUGl3Jc\n",
      "['https://www.practo.com/visakhapatnam/doctor/mushtaq-ahmed-paediatric-intensivist', 'sa=U', 'ved=2ahUKEwim0pX4xPr5AhWSIbkGHZYMDMwQFnoECAAQAg', 'usg=AOvVaw0mW2vmV2MKpfTkXOUGl3Jc']\n",
      "Link searched for:  https://www.practo.com/visakhapatnam/doctor/mushtaq-ahmed-paediatric-intensivist\n",
      "**************************************************\n"
     ]
    },
    {
     "name": "stderr",
     "output_type": "stream",
     "text": [
      "\r",
      " 11%|████▏                                 | 187/1715 [10:30<1:17:08,  3.03s/it]"
     ]
    },
    {
     "name": "stdout",
     "output_type": "stream",
     "text": [
      "Name:  Dr. Mustaq Ahamed\n",
      "Speciality:  Pediatrician\n",
      "Rating not available.\n",
      "Votes are not available.\n",
      "Address:  Door. No. 15-9, 13/24, Beach Rd, Pandurangapuram, Krishna Nagar, Maharani Peta, Visakhapatnam, Andhra Pradesh, Visakhapatnam\n",
      "https://google.com/search?q=dr+chava+anjaneyulu+asian+ent+care+centre+hyderabad\n",
      "https://www.practo.com/hyderabad/doctor/anjaneyulu-ear-nose-throat-ent-specialist&sa=U&ved=2ahUKEwiRkML6xPr5AhVTrZUCHZ4pDjkQFnoECAkQAg&usg=AOvVaw2vkLGE7u8wDbcvM0B73jI-\n",
      "['https://www.practo.com/hyderabad/doctor/anjaneyulu-ear-nose-throat-ent-specialist', 'sa=U', 'ved=2ahUKEwiRkML6xPr5AhVTrZUCHZ4pDjkQFnoECAkQAg', 'usg=AOvVaw2vkLGE7u8wDbcvM0B73jI-']\n",
      "Link searched for:  https://www.practo.com/hyderabad/doctor/anjaneyulu-ear-nose-throat-ent-specialist\n",
      "**************************************************\n"
     ]
    },
    {
     "name": "stderr",
     "output_type": "stream",
     "text": [
      "\r",
      " 11%|████▏                                 | 188/1715 [10:36<1:36:17,  3.78s/it]"
     ]
    },
    {
     "name": "stdout",
     "output_type": "stream",
     "text": [
      "Name:  Dr. Anjaneyulu CH\n",
      "Speciality:  ENT/ Otorhinolaryngologist\n",
      "Rating:  79% \n",
      "Name:  (131 votes)\n",
      "Address:  6-3-662, Zore Complex, Panjagutta Main Road, Landmark: Above Redrose Restarent & Near Nims, Hyderabad\n",
      "https://google.com/search?q=dr+nambada+muralidhar+center+for+liver+&+digestive+surgery+visakhapatnam\n",
      "https://www.practo.com/visakhapatnam/doctor/muralikrishna-practo-gmail-com-gastrointestinal-surgery-1&sa=U&ved=2ahUKEwiv7pv9xPr5AhXypZUCHVMPDKUQFnoECAEQAg&usg=AOvVaw3MWYlKO0E1yezzBDy6Jniw\n",
      "['https://www.practo.com/visakhapatnam/doctor/muralikrishna-practo-gmail-com-gastrointestinal-surgery-1', 'sa=U', 'ved=2ahUKEwiv7pv9xPr5AhXypZUCHVMPDKUQFnoECAEQAg', 'usg=AOvVaw3MWYlKO0E1yezzBDy6Jniw']\n",
      "Link searched for:  https://www.practo.com/visakhapatnam/doctor/muralikrishna-practo-gmail-com-gastrointestinal-surgery-1\n",
      "**************************************************\n"
     ]
    },
    {
     "name": "stderr",
     "output_type": "stream",
     "text": [
      "\r",
      " 11%|████▏                                 | 189/1715 [10:40<1:44:11,  4.10s/it]"
     ]
    },
    {
     "name": "stdout",
     "output_type": "stream",
     "text": [
      "Name:  Dr. Muralidhar N\n",
      "Speciality:  GastroIntestinal Surgeon\n",
      "Rating not available.\n",
      "Votes are not available.\n",
      "https://google.com/search?q=dr+subbarao+mv+dr.+mv.+subba+rao+ent+clinic+hyderabad\n"
     ]
    },
    {
     "name": "stderr",
     "output_type": "stream",
     "text": [
      "\r",
      " 11%|████▏                                 | 190/1715 [10:43<1:30:05,  3.54s/it]"
     ]
    },
    {
     "name": "stdout",
     "output_type": "stream",
     "text": [
      "Couldn't find any practo links.\n",
      "https://google.com/search?q=dr+subhash+kumar+skin+clinic+hyderabad\n",
      "https://www.practo.com/hyderabad/doctor/dr-s-subhash-kumar-cosmetic-plastic-surgeon&sa=U&ved=2ahUKEwi_rMWAxfr5AhUTrpUCHeg3DPcQFnoECAkQAg&usg=AOvVaw0KXTIDbvWcDOvGWioLCb9c\n",
      "['https://www.practo.com/hyderabad/doctor/dr-s-subhash-kumar-cosmetic-plastic-surgeon', 'sa=U', 'ved=2ahUKEwi_rMWAxfr5AhUTrpUCHeg3DPcQFnoECAkQAg', 'usg=AOvVaw0KXTIDbvWcDOvGWioLCb9c']\n",
      "Link searched for:  https://www.practo.com/hyderabad/doctor/dr-s-subhash-kumar-cosmetic-plastic-surgeon\n",
      "**************************************************\n"
     ]
    },
    {
     "name": "stderr",
     "output_type": "stream",
     "text": [
      "\r",
      " 11%|████▏                                 | 191/1715 [10:49<1:53:36,  4.47s/it]"
     ]
    },
    {
     "name": "stdout",
     "output_type": "stream",
     "text": [
      "Name:  Dr. S. Subhash Kumar\n",
      "Speciality is not available.\n",
      "Rating not available.\n",
      "Votes are not available.\n",
      "Address:  C/o, Indian Bank Flats, Golconda X Road, Landmark: Near Hebron Chruch., Hyderabad\n",
      "https://google.com/search?q=dr+vijay+kumar+rhema's+ent+&+dental+care+hyderabad\n",
      "https://www.practo.com/panchkula/doctor/dr-vijay-kumar-sharma-ear-nose-throat-ent-specialist&sa=U&ved=2ahUKEwjp1e-Cxfr5AhViK7kGHSMrBN0QFnoECAIQAg&usg=AOvVaw3iLOu9ELcrERUxXxNZ5Rle\n",
      "['https://www.practo.com/panchkula/doctor/dr-vijay-kumar-sharma-ear-nose-throat-ent-specialist', 'sa=U', 'ved=2ahUKEwjp1e-Cxfr5AhViK7kGHSMrBN0QFnoECAIQAg', 'usg=AOvVaw3iLOu9ELcrERUxXxNZ5Rle']\n",
      "Link searched for:  https://www.practo.com/panchkula/doctor/dr-vijay-kumar-sharma-ear-nose-throat-ent-specialist\n",
      "**************************************************\n"
     ]
    },
    {
     "name": "stderr",
     "output_type": "stream",
     "text": [
      "\r",
      " 11%|████▎                                 | 192/1715 [10:53<1:46:17,  4.19s/it]"
     ]
    },
    {
     "name": "stdout",
     "output_type": "stream",
     "text": [
      "Name:  Dr. Vijay Kumar Sharma\n",
      "Speciality:  ENT/ Otorhinolaryngologist\n",
      "Rating not available.\n",
      "Votes are not available.\n",
      "Address:  1059   Sector 12-A, Landmark: Near Saarthak School, Panchkula\n",
      "https://google.com/search?q=dr+ranjitha+nadendla+helthfirst+clinic+hyderabad\n"
     ]
    },
    {
     "name": "stderr",
     "output_type": "stream",
     "text": [
      "\r",
      " 11%|████▎                                 | 193/1715 [10:55<1:30:57,  3.59s/it]"
     ]
    },
    {
     "name": "stdout",
     "output_type": "stream",
     "text": [
      "Couldn't find any practo links.\n",
      "https://google.com/search?q=dr+bhanu+pratap+chander+chintha+sanjeevini+healthacre+polyclinic+hyderabad\n"
     ]
    },
    {
     "name": "stderr",
     "output_type": "stream",
     "text": [
      "\r",
      " 11%|████▎                                 | 194/1715 [10:57<1:15:29,  2.98s/it]"
     ]
    },
    {
     "name": "stdout",
     "output_type": "stream",
     "text": [
      "Couldn't find any practo links.\n",
      "https://google.com/search?q=dr+nikhil+boda+nikhil+skin+clinic+hyderabad\n"
     ]
    },
    {
     "name": "stderr",
     "output_type": "stream",
     "text": [
      "\r",
      " 11%|████▎                                 | 195/1715 [11:00<1:21:04,  3.20s/it]"
     ]
    },
    {
     "name": "stdout",
     "output_type": "stream",
     "text": [
      "Couldn't find any practo links.\n",
      "https://google.com/search?q=dr+vasudev+rao+shambhu++saptagiri+hospital++hyderabad\n",
      "https://www.practo.com/hyderabad/doctor/dr-vasudeva-rao-orthopedist-1&sa=U&ved=2ahUKEwi_2faIxfr5AhWcs5UCHazqDHQQFnoECAgQAg&usg=AOvVaw2EOdGR09rw5yr0soWNKt08\n",
      "['https://www.practo.com/hyderabad/doctor/dr-vasudeva-rao-orthopedist-1', 'sa=U', 'ved=2ahUKEwi_2faIxfr5AhWcs5UCHazqDHQQFnoECAgQAg', 'usg=AOvVaw2EOdGR09rw5yr0soWNKt08']\n",
      "Link searched for:  https://www.practo.com/hyderabad/doctor/dr-vasudeva-rao-orthopedist-1\n",
      "**************************************************\n"
     ]
    },
    {
     "name": "stderr",
     "output_type": "stream",
     "text": [
      "\r",
      " 11%|████▎                                 | 196/1715 [11:06<1:36:38,  3.82s/it]"
     ]
    },
    {
     "name": "stdout",
     "output_type": "stream",
     "text": [
      "Name:  Dr. Vasudeva Rao\n",
      "Speciality:  Orthopedist\n",
      "Rating:  3.5\n",
      "Votes are not available.\n",
      "Address:  3-112, Pochamma Temple Lane, Chaitanyapuri X Road, Dilsukh Nagar, Landmark: Opposite to Kalaniketan Mall, Hyderabad\n",
      "https://google.com/search?q=dr+shiva+prasad+g+prime+heart+care+hyderabad\n",
      "https://www.practo.com/hyderabad/doctor/shiva-prasad-koyalakonda-cardiologist&sa=U&ved=2ahUKEwjdw-SKxfr5AhV0ALkGHWZxAegQFnoECAkQAg&usg=AOvVaw3QWAoSLpxJBDQ71trqNntE\n",
      "['https://www.practo.com/hyderabad/doctor/shiva-prasad-koyalakonda-cardiologist', 'sa=U', 'ved=2ahUKEwjdw-SKxfr5AhV0ALkGHWZxAegQFnoECAkQAg', 'usg=AOvVaw3QWAoSLpxJBDQ71trqNntE']\n",
      "Link searched for:  https://www.practo.com/hyderabad/doctor/shiva-prasad-koyalakonda-cardiologist\n",
      "**************************************************\n"
     ]
    },
    {
     "name": "stderr",
     "output_type": "stream",
     "text": [
      "\r",
      " 11%|████▎                                 | 197/1715 [11:09<1:36:02,  3.80s/it]"
     ]
    },
    {
     "name": "stdout",
     "output_type": "stream",
     "text": [
      "Name:  Dr. Shiva Prasad Koyalakonda\n",
      "Speciality:  Interventional Cardiologist\n",
      "Rating:  4.5\n",
      "Votes are not available.\n",
      "Address:  Sy Number- 360, Number- 5/4 - 12-16,  Beside Vijetha Super Market, Chanda Nagar,, Hyderabad\n",
      "https://google.com/search?q=dr+sri+ranga++prakash+gupta+sri+ranga+prakash+gupta+clinic+visakhapatnam\n"
     ]
    },
    {
     "name": "stderr",
     "output_type": "stream",
     "text": [
      "\r",
      " 12%|████▍                                 | 198/1715 [11:12<1:26:07,  3.41s/it]"
     ]
    },
    {
     "name": "stdout",
     "output_type": "stream",
     "text": [
      "Couldn't find any practo links.\n",
      "https://google.com/search?q=dr+utham+kumar+b+ishaa+skin+and+hair+clinic+hyderabad\n",
      "https://www.practo.com/hyderabad/doctor/dr-b-utham-kumar-dermatologist&sa=U&ved=2ahUKEwjPwcuNxfr5AhU-D7kGHaXFDBsQFnoECAgQAg&usg=AOvVaw3nCMOxZH6aasNTEbXau2PE\n",
      "['https://www.practo.com/hyderabad/doctor/dr-b-utham-kumar-dermatologist', 'sa=U', 'ved=2ahUKEwjPwcuNxfr5AhU-D7kGHaXFDBsQFnoECAgQAg', 'usg=AOvVaw3nCMOxZH6aasNTEbXau2PE']\n",
      "Link searched for:  https://www.practo.com/hyderabad/doctor/dr-b-utham-kumar-dermatologist\n",
      "**************************************************\n"
     ]
    },
    {
     "name": "stderr",
     "output_type": "stream",
     "text": [
      "\r",
      " 12%|████▍                                 | 199/1715 [11:15<1:26:55,  3.44s/it]"
     ]
    },
    {
     "name": "stdout",
     "output_type": "stream",
     "text": [
      "Name:  Dr. B Utham Kumar\n",
      "Speciality:  Dermatologist\n",
      "Rating:  99% \n",
      "Name:  (118 votes)\n",
      "Address:  House.Number - 4-92/2/9/265, Landmark: Beside Kadmi Hospital Manjeera Road,  Opposite Walnut Bakery,  Near GHMC Building, Hyderabad\n",
      "https://google.com/search?q=dr+ram+singh+keluth+sv+pooja+hospital+hyderabad\n"
     ]
    },
    {
     "name": "stderr",
     "output_type": "stream",
     "text": [
      "\r",
      " 12%|████▍                                 | 200/1715 [11:18<1:19:17,  3.14s/it]"
     ]
    },
    {
     "name": "stdout",
     "output_type": "stream",
     "text": [
      "Couldn't find any practo links.\n",
      "https://google.com/search?q=dr+b+++sri+harsha+tirumala+vijaya+hospital+visakhapatnam\n",
      "https://www.practo.com/visakhapatnam/doctor/dr-sriharsha-badana-pediatrician&sa=U&ved=2ahUKEwjPqbeQxfr5AhVtFLkGHUyxC9AQFnoECAgQAg&usg=AOvVaw0sXkZF3u3i3ABuNYGymgSO\n",
      "['https://www.practo.com/visakhapatnam/doctor/dr-sriharsha-badana-pediatrician', 'sa=U', 'ved=2ahUKEwjPqbeQxfr5AhVtFLkGHUyxC9AQFnoECAgQAg', 'usg=AOvVaw0sXkZF3u3i3ABuNYGymgSO']\n",
      "Link searched for:  https://www.practo.com/visakhapatnam/doctor/dr-sriharsha-badana-pediatrician\n",
      "**************************************************\n"
     ]
    },
    {
     "name": "stderr",
     "output_type": "stream",
     "text": [
      "\r",
      " 12%|████▍                                 | 201/1715 [11:21<1:17:22,  3.07s/it]"
     ]
    },
    {
     "name": "stdout",
     "output_type": "stream",
     "text": [
      "Name:  Dr. Sriharsha Badana\n",
      "Speciality:  Pediatrician\n",
      "Rating:  100% \n",
      "Name:  (36 votes)\n",
      "Address:  Door Number 1-68-21, MVP Main Road, Sector-2, Landmark: Opposite to Mahatma Gandhi Cancer Hospital, Visakhapatnam\n",
      "https://google.com/search?q=dr+k+++vijay+krishna+kvk+child+clinic+visakhapatnam\n"
     ]
    },
    {
     "name": "stderr",
     "output_type": "stream",
     "text": [
      "\r",
      " 12%|████▍                                 | 202/1715 [11:23<1:08:56,  2.73s/it]"
     ]
    },
    {
     "name": "stdout",
     "output_type": "stream",
     "text": [
      "Couldn't find any practo links.\n",
      "https://google.com/search?q=dr+naveenkumar+cheruku+vishruth+super+speciality+clinic+hyderabad\n",
      "https://www.practo.com/hyderabad/doctor/dr-naveen-kumar-10-cardiologist&sa=U&ved=2ahUKEwj82N-Sxfr5AhUcILkGHdJpArMQFnoECAgQAg&usg=AOvVaw2MDMSAn5qwqYvPYvMb1Q5j\n",
      "['https://www.practo.com/hyderabad/doctor/dr-naveen-kumar-10-cardiologist', 'sa=U', 'ved=2ahUKEwj82N-Sxfr5AhUcILkGHdJpArMQFnoECAgQAg', 'usg=AOvVaw2MDMSAn5qwqYvPYvMb1Q5j']\n",
      "Link searched for:  https://www.practo.com/hyderabad/doctor/dr-naveen-kumar-10-cardiologist\n",
      "**************************************************\n"
     ]
    },
    {
     "name": "stderr",
     "output_type": "stream",
     "text": [
      "\r",
      " 12%|████▍                                 | 203/1715 [11:27<1:19:11,  3.14s/it]"
     ]
    },
    {
     "name": "stdout",
     "output_type": "stream",
     "text": [
      "Name:  Dr. Naveen Kumar Cheruku\n",
      "Speciality:  Interventional Cardiologist\n",
      "Rating not available.\n",
      "Votes are not available.\n",
      "Address:  A-85/1/G-2 Sai Nagar ,Uppal Bus Depot, Landmark: Inbetween Anutex And Domino's, Hyderabad\n",
      "https://google.com/search?q=dr+ravindra+nallagonda+ravindra+hospital+hyderabad\n"
     ]
    },
    {
     "name": "stderr",
     "output_type": "stream",
     "text": [
      "\r",
      " 12%|████▌                                 | 204/1715 [11:30<1:19:53,  3.17s/it]"
     ]
    },
    {
     "name": "stdout",
     "output_type": "stream",
     "text": [
      "Couldn't find any practo links.\n",
      "https://google.com/search?q=dr+venkatsh+butti+venkatesh+cardio+clinic+hyderabad\n",
      "https://www.practo.com/hyderabad/doctor/b-venkatesh-cardiologist&sa=U&ved=2ahUKEwjy5Z-Wxfr5AhXDFLkGHayCDVUQFnoECAMQAg&usg=AOvVaw1X5AxsepBSYzT-3lMIcRWs\n",
      "['https://www.practo.com/hyderabad/doctor/b-venkatesh-cardiologist', 'sa=U', 'ved=2ahUKEwjy5Z-Wxfr5AhXDFLkGHayCDVUQFnoECAMQAg', 'usg=AOvVaw1X5AxsepBSYzT-3lMIcRWs']\n",
      "Link searched for:  https://www.practo.com/hyderabad/doctor/b-venkatesh-cardiologist\n",
      "**************************************************\n"
     ]
    },
    {
     "name": "stderr",
     "output_type": "stream",
     "text": [
      "\r",
      " 12%|████▌                                 | 205/1715 [11:35<1:36:10,  3.82s/it]"
     ]
    },
    {
     "name": "stdout",
     "output_type": "stream",
     "text": [
      "Name:  Dr. B Venkatesh\n",
      "Speciality:  Cardiologist\n",
      "Rating:  4.5\n",
      "Votes are not available.\n",
      "Address:  6-1-1040/1 to 4, Landmark: Beside Ranga Reddy District & Opposite Dwaraka Hotel, Hyderabad\n",
      "https://google.com/search?q=dr+abhilash+mudumala+gastro+care+clinic+hyderabad\n",
      "https://www.practo.com/hyderabad/doctor/dr-mudumala-issac-abhilash-gastroenterologist-1&sa=U&ved=2ahUKEwjT--SYxfr5AhUdO7kGHbABDVAQFnoECAkQAg&usg=AOvVaw29GiA6uH7GlFALO0T8nCW5\n",
      "['https://www.practo.com/hyderabad/doctor/dr-mudumala-issac-abhilash-gastroenterologist-1', 'sa=U', 'ved=2ahUKEwjT--SYxfr5AhUdO7kGHbABDVAQFnoECAkQAg', 'usg=AOvVaw29GiA6uH7GlFALO0T8nCW5']\n",
      "Link searched for:  https://www.practo.com/hyderabad/doctor/dr-mudumala-issac-abhilash-gastroenterologist-1\n",
      "**************************************************\n"
     ]
    },
    {
     "name": "stderr",
     "output_type": "stream",
     "text": [
      "\r",
      " 12%|████▌                                 | 206/1715 [11:40<1:40:32,  4.00s/it]"
     ]
    },
    {
     "name": "stdout",
     "output_type": "stream",
     "text": [
      "Name:  Dr. Mudumala Issac Abhilash\n",
      "Speciality:  Gastroenterologist\n",
      "Rating:  98% \n",
      "Name:  (106 votes)\n",
      "Address:  2nd floor HIG 19,Above karur Vysya Bank  Sainathapuram Road Dr.A.S Rao nagar, Landmark: Above karur vysya bank, Hyderabad\n",
      "https://google.com/search?q=dr+hidayatullah+g+kidney+care+clinic+hyderabad\n",
      "https://www.practo.com/hyderabad/doctor/dr-hidayathullah-g-urologist&sa=U&ved=2ahUKEwj9qvKaxfr5AhUzBbkGHQ_aBoYQFnoECAgQAg&usg=AOvVaw2edlHfa8u3Q5h_Off01jO0\n",
      "['https://www.practo.com/hyderabad/doctor/dr-hidayathullah-g-urologist', 'sa=U', 'ved=2ahUKEwj9qvKaxfr5AhUzBbkGHQ_aBoYQFnoECAgQAg', 'usg=AOvVaw2edlHfa8u3Q5h_Off01jO0']\n",
      "Link searched for:  https://www.practo.com/hyderabad/doctor/dr-hidayathullah-g-urologist\n",
      "**************************************************\n"
     ]
    },
    {
     "name": "stderr",
     "output_type": "stream",
     "text": [
      "\r",
      " 12%|████▌                                 | 207/1715 [11:44<1:45:50,  4.21s/it]"
     ]
    },
    {
     "name": "stdout",
     "output_type": "stream",
     "text": [
      "Name:  Dr. Hidayatullah. G\n",
      "Speciality:  Urologist\n",
      "Rating:  79% \n",
      "Name:  (38 votes)\n",
      "Address:  Road No 1 Virinchi Circle, Landmark: Near Pension Office, Hyderabad\n",
      "https://google.com/search?q=dr+santhosh+bukya++jeevan+hospital+hyderabad\n"
     ]
    },
    {
     "name": "stderr",
     "output_type": "stream",
     "text": [
      "\r",
      " 12%|████▌                                 | 208/1715 [11:47<1:31:37,  3.65s/it]"
     ]
    },
    {
     "name": "stdout",
     "output_type": "stream",
     "text": [
      "Couldn't find any practo links.\n",
      "https://google.com/search?q=dr+ella+reddy++chinthala++hyderabad+diabetes,+thyroid,+endocrine+clinic+hyderabad\n",
      "https://www.practo.com/hyderabad/doctor/ellareddy-chinthala-general-physician&sa=U&ved=2ahUKEwjbgaCexfr5AhX_FLkGHcWaC8wQFnoECAQQAg&usg=AOvVaw2o1S5HjALLwY_xAyTyKn5l\n",
      "['https://www.practo.com/hyderabad/doctor/ellareddy-chinthala-general-physician', 'sa=U', 'ved=2ahUKEwjbgaCexfr5AhX_FLkGHcWaC8wQFnoECAQQAg', 'usg=AOvVaw2o1S5HjALLwY_xAyTyKn5l']\n",
      "Link searched for:  https://www.practo.com/hyderabad/doctor/ellareddy-chinthala-general-physician\n",
      "**************************************************\n"
     ]
    },
    {
     "name": "stderr",
     "output_type": "stream",
     "text": [
      "\r",
      " 12%|████▋                                 | 209/1715 [11:50<1:30:34,  3.61s/it]"
     ]
    },
    {
     "name": "stdout",
     "output_type": "stream",
     "text": [
      "Name:  Dr. Ellareddy Chinthala\n",
      "Speciality:  Endocrinologist\n",
      "Rating:  4.0\n",
      "Votes are not available.\n",
      "Address:  8-16-1, Nagarjuna Sagar Road, Laxmi Enclave, Bairamalguda, Landmark: Beside Aware College Of Nursing & Engineering, Hyderabad\n",
      "https://google.com/search?q=dr+v+v+satyanarayana+eethakota+satya's+orthopaedic+clinic+hyderabad\n",
      "https://www.practo.com/hyderabad/doctor/dr-satyanarayana-eethakota-orthopedist&sa=U&ved=2ahUKEwiJwPafxfr5AhX9I7kGHVrqC_4QFnoECAkQAg&usg=AOvVaw3LDqGd9rAm8uUZpc4Te7nT\n",
      "['https://www.practo.com/hyderabad/doctor/dr-satyanarayana-eethakota-orthopedist', 'sa=U', 'ved=2ahUKEwiJwPafxfr5AhX9I7kGHVrqC_4QFnoECAkQAg', 'usg=AOvVaw3LDqGd9rAm8uUZpc4Te7nT']\n",
      "Link searched for:  https://www.practo.com/hyderabad/doctor/dr-satyanarayana-eethakota-orthopedist\n",
      "**************************************************\n"
     ]
    },
    {
     "name": "stderr",
     "output_type": "stream",
     "text": [
      "\r",
      " 12%|████▋                                 | 210/1715 [11:56<1:46:10,  4.23s/it]"
     ]
    },
    {
     "name": "stdout",
     "output_type": "stream",
     "text": [
      "Name:  Dr. Satyanarayana Eethakota\n",
      "Speciality:  Joint Replacement Surgeon\n",
      "Rating:  4.5\n",
      "Votes are not available.\n",
      "Address:  Plot No. 79, Nagole X Road, Landmark: Near by Uppal, Hyderabad\n",
      "https://google.com/search?q=dr+priya+b+anand+clinic+hyderabad\n",
      "https://www.practo.com/hyderabad/doctor/b-anand-reddy-dermatologist&sa=U&ved=2ahUKEwjcj9Kixfr5AhU7HrkGHVJICRkQFnoECAgQAg&usg=AOvVaw1wdgjYTA557A7XyJ5_x2p3\n",
      "['https://www.practo.com/hyderabad/doctor/b-anand-reddy-dermatologist', 'sa=U', 'ved=2ahUKEwjcj9Kixfr5AhU7HrkGHVJICRkQFnoECAgQAg', 'usg=AOvVaw1wdgjYTA557A7XyJ5_x2p3']\n",
      "Link searched for:  https://www.practo.com/hyderabad/doctor/b-anand-reddy-dermatologist\n",
      "**************************************************\n"
     ]
    },
    {
     "name": "stderr",
     "output_type": "stream",
     "text": [
      "\r",
      " 12%|████▋                                 | 211/1715 [12:00<1:47:27,  4.29s/it]"
     ]
    },
    {
     "name": "stdout",
     "output_type": "stream",
     "text": [
      "Name:  Dr. B Anand\n",
      "Speciality:  Dermatologist\n",
      "Rating:  97% \n",
      "Name:  (257 votes)\n",
      "Address:  Plot Number 177, 3rd Floor, Ritesh Premier Towers, above santosh dhaba, Landmark: Opposite Karkhana Police Station and Above Santosh Dhabha, Hyderabad\n",
      "https://google.com/search?q=dr+venkat+nagender+reddy+k+karthika+ent+&+orthopaedic+clinics+hyderabad\n",
      "https://www.practo.com/hyderabad/doctor/venkat-nagender-reddy-k-ear-nose-throat-ent-specialist&sa=U&ved=2ahUKEwjgvvOkxfr5AhU9CrkGHasWB8AQFnoECAIQAg&usg=AOvVaw294qVuceiSax65XdmHIlau\n",
      "['https://www.practo.com/hyderabad/doctor/venkat-nagender-reddy-k-ear-nose-throat-ent-specialist', 'sa=U', 'ved=2ahUKEwjgvvOkxfr5AhU9CrkGHasWB8AQFnoECAIQAg', 'usg=AOvVaw294qVuceiSax65XdmHIlau']\n",
      "Link searched for:  https://www.practo.com/hyderabad/doctor/venkat-nagender-reddy-k-ear-nose-throat-ent-specialist\n",
      "**************************************************\n"
     ]
    },
    {
     "name": "stderr",
     "output_type": "stream",
     "text": [
      "\r",
      " 12%|████▋                                 | 212/1715 [12:05<1:49:09,  4.36s/it]"
     ]
    },
    {
     "name": "stdout",
     "output_type": "stream",
     "text": [
      "Name:  Dr. Venkat Nagender Reddy K\n",
      "Speciality:  ENT/ Otorhinolaryngologist\n",
      "Rating:  86% \n",
      "Name:  (22 votes)\n",
      "Address:  #7,Sri Sai Residency,Beside More super market,Boduppal, Hyderabad\n",
      "https://google.com/search?q=dr+amit+goel+virinchi+clinic+hyderabad\n",
      "https://www.practo.com/hyderabad/doctor/amit-goel-4-endocrinologist&sa=U&ved=2ahUKEwi-kYqnxfr5AhUdH7kGHcvpDO8QFnoECAoQAg&usg=AOvVaw1HlczOjapaYsz9tdnYng8f\n",
      "['https://www.practo.com/hyderabad/doctor/amit-goel-4-endocrinologist', 'sa=U', 'ved=2ahUKEwi-kYqnxfr5AhUdH7kGHcvpDO8QFnoECAoQAg', 'usg=AOvVaw1HlczOjapaYsz9tdnYng8f']\n",
      "Link searched for:  https://www.practo.com/hyderabad/doctor/amit-goel-4-endocrinologist\n",
      "**************************************************\n"
     ]
    },
    {
     "name": "stderr",
     "output_type": "stream",
     "text": [
      "\r",
      " 12%|████▋                                 | 213/1715 [12:09<1:47:54,  4.31s/it]"
     ]
    },
    {
     "name": "stdout",
     "output_type": "stream",
     "text": [
      "Name:  Dr. Amit Goel\n",
      "Speciality:  Endocrinologist\n",
      "Rating:  100% \n",
      "Name:  (23 votes)\n",
      "Address:  Plot Number 9, Block B , Vasavinagar , Vikrampuri Colony ,, Landmark: BESIDE RAINBOW CHILDREN HOSPITAL, Hyderabad\n",
      "https://google.com/search?q=dr+sita+rama+raju+k+senses+e.n.t+speciality+hospital+hyderabad\n",
      "https://www.practo.com/hyderabad/hospital/basavatarakam-indo-american-cancer-hospital-research-institute-banjara-hills-1&sa=U&ved=2ahUKEwj01_Ooxfr5AhVZLrkGHawADYUQFnoECAUQAg&usg=AOvVaw3QZEWS0vL9lBr0QfqNr1f5\n",
      "['https://www.practo.com/hyderabad/hospital/basavatarakam-indo-american-cancer-hospital-research-institute-banjara-hills-1', 'sa=U', 'ved=2ahUKEwj01_Ooxfr5AhVZLrkGHawADYUQFnoECAUQAg', 'usg=AOvVaw3QZEWS0vL9lBr0QfqNr1f5']\n",
      "Link searched for:  https://www.practo.com/hyderabad/hospital/basavatarakam-indo-american-cancer-hospital-research-institute-banjara-hills-1\n",
      "**************************************************\n"
     ]
    },
    {
     "name": "stderr",
     "output_type": "stream",
     "text": [
      "\r",
      " 12%|████▋                                 | 214/1715 [12:13<1:44:18,  4.17s/it]"
     ]
    },
    {
     "name": "stdout",
     "output_type": "stream",
     "text": [
      "Name:  Basavatarakam Indo American Cancer Hospital & Research Institute\n",
      "Speciality is not available.\n",
      "Rating:  3.5\n",
      "Name:  (166 patient stories)\n",
      "https://google.com/search?q=dr+deepak+goel+srishti+neuro+clinic+hyderabad\n"
     ]
    },
    {
     "name": "stderr",
     "output_type": "stream",
     "text": [
      "\r",
      " 13%|████▊                                 | 215/1715 [12:15<1:27:05,  3.48s/it]"
     ]
    },
    {
     "name": "stdout",
     "output_type": "stream",
     "text": [
      "Couldn't find any practo links.\n",
      "https://google.com/search?q=dr+kondal++g+padmavati+medical+center+hyderabad\n",
      "https://www.practo.com/hyderabad/doctor/dr-kondal-rao-cardiologist-2&sa=U&ved=2ahUKEwjV5uarxfr5AhWuGbkGHVGmA2kQFnoECAAQAg&usg=AOvVaw0FdnEWm4H2PNAIlsHm-Acl\n",
      "['https://www.practo.com/hyderabad/doctor/dr-kondal-rao-cardiologist-2', 'sa=U', 'ved=2ahUKEwjV5uarxfr5AhWuGbkGHVGmA2kQFnoECAAQAg', 'usg=AOvVaw0FdnEWm4H2PNAIlsHm-Acl']\n",
      "Link searched for:  https://www.practo.com/hyderabad/doctor/dr-kondal-rao-cardiologist-2\n",
      "**************************************************\n"
     ]
    },
    {
     "name": "stderr",
     "output_type": "stream",
     "text": [
      "\r",
      " 13%|████▊                                 | 216/1715 [12:19<1:35:09,  3.81s/it]"
     ]
    },
    {
     "name": "stdout",
     "output_type": "stream",
     "text": [
      "Name:  Dr. Kondal Rao\n",
      "Speciality:  Cardiologist\n",
      "Rating:  4.5\n",
      "Votes are not available.\n",
      "Address:  6-1-1040/1 to 4, Landmark: Beside Ranga Reddy District & Opposite Dwaraka Hotel, Hyderabad\n",
      "https://google.com/search?q=dr+ridhima+gandrath+rs+skin,+hair,+laser+clinic+and+pain+management+clinic+hyderabad\n",
      "https://www.practo.com/hyderabad/doctor/ridhima-sohail-dermatologist&sa=U&ved=2ahUKEwialuitxfr5AhVJBbkGHfyRBigQFnoECAUQAg&usg=AOvVaw3HZRTpYbnJs82LvdDEROPV\n",
      "['https://www.practo.com/hyderabad/doctor/ridhima-sohail-dermatologist', 'sa=U', 'ved=2ahUKEwialuitxfr5AhVJBbkGHfyRBigQFnoECAUQAg', 'usg=AOvVaw3HZRTpYbnJs82LvdDEROPV']\n",
      "Link searched for:  https://www.practo.com/hyderabad/doctor/ridhima-sohail-dermatologist\n",
      "**************************************************\n"
     ]
    },
    {
     "name": "stderr",
     "output_type": "stream",
     "text": [
      "\r",
      " 13%|████▊                                 | 217/1715 [12:23<1:33:17,  3.74s/it]"
     ]
    },
    {
     "name": "stdout",
     "output_type": "stream",
     "text": [
      "Name:  Dr. Ridhima Sohail\n",
      "Speciality:  Dermatologist\n",
      "Rating not available.\n",
      "Votes are not available.\n",
      "Address:  Gurudwara Road, Hill Colony, Landmark: Beside LUCID Diagnostic, Hyderabad\n",
      "https://google.com/search?q=dr+deepa+srikonda+deepas+skin+clinic+hyderabad\n"
     ]
    },
    {
     "name": "stderr",
     "output_type": "stream",
     "text": [
      "\r",
      " 13%|████▊                                 | 218/1715 [12:25<1:22:12,  3.30s/it]"
     ]
    },
    {
     "name": "stdout",
     "output_type": "stream",
     "text": [
      "Couldn't find any practo links.\n",
      "https://google.com/search?q=dr+gandi++vikram+sri+surya+gastro+&+liver+centre+visakhapatnam\n"
     ]
    },
    {
     "name": "stderr",
     "output_type": "stream",
     "text": [
      "\r",
      " 13%|████▊                                 | 219/1715 [12:28<1:16:09,  3.05s/it]"
     ]
    },
    {
     "name": "stdout",
     "output_type": "stream",
     "text": [
      "Couldn't find any practo links.\n",
      "https://google.com/search?q=dr+g+j+madhuri+sri+sai+hospitals+visakhapatnam\n",
      "https://www.practo.com/visakhapatnam/doctor/dr-madhuri-14-cardiologist&sa=U&ved=2ahUKEwi_7uSxxfr5AhUeE7kGHVDhAkYQFnoECAUQAg&usg=AOvVaw11uH_1jRgb310h8hEhHvSR\n",
      "['https://www.practo.com/visakhapatnam/doctor/dr-madhuri-14-cardiologist', 'sa=U', 'ved=2ahUKEwi_7uSxxfr5AhUeE7kGHVDhAkYQFnoECAUQAg', 'usg=AOvVaw11uH_1jRgb310h8hEhHvSR']\n",
      "Link searched for:  https://www.practo.com/visakhapatnam/doctor/dr-madhuri-14-cardiologist\n",
      "**************************************************\n"
     ]
    },
    {
     "name": "stderr",
     "output_type": "stream",
     "text": [
      "\r",
      " 13%|████▊                                 | 220/1715 [12:32<1:22:47,  3.32s/it]"
     ]
    },
    {
     "name": "stdout",
     "output_type": "stream",
     "text": [
      "Name:  Dr. Madhuri\n",
      "Speciality:  Cardiologist\n",
      "Rating:  3.5\n",
      "Votes are not available.\n",
      "Address:  #50, Plot 5, Sheethammapeta, Landmark: Beside BVK college, Visakhapatnam\n",
      "https://google.com/search?q=dr+jagadeeswara+rao+child+clinic+visakhapatnam\n"
     ]
    },
    {
     "name": "stderr",
     "output_type": "stream",
     "text": [
      "\r",
      " 13%|████▉                                 | 221/1715 [12:34<1:15:55,  3.05s/it]"
     ]
    },
    {
     "name": "stdout",
     "output_type": "stream",
     "text": [
      "Couldn't find any practo links.\n",
      "https://google.com/search?q=dr+a+surya+lakshmi+sri+satya+sai+poly+clinic+visakhapatnam\n",
      "https://www.practo.com/visakhapatnam/doctors-for-herpes-infection-treatment/konkasingi%3Fpage%3D9&sa=U&ved=2ahUKEwji3Oe0xfr5AhVvIrkGHR1ACn4QFnoECAEQAg&usg=AOvVaw2kmjs5mHiZQavEQGSLSleY\n",
      "['https://www.practo.com/visakhapatnam/doctors-for-herpes-infection-treatment/konkasingi%3Fpage%3D9', 'sa=U', 'ved=2ahUKEwji3Oe0xfr5AhVvIrkGHR1ACn4QFnoECAEQAg', 'usg=AOvVaw2kmjs5mHiZQavEQGSLSleY']\n",
      "Link searched for:  https://www.practo.com/visakhapatnam/doctors-for-herpes-infection-treatment/konkasingi%3Fpage%3D9\n",
      "**************************************************\n"
     ]
    },
    {
     "name": "stderr",
     "output_type": "stream",
     "text": [
      "\r",
      " 13%|████▉                                 | 222/1715 [12:38<1:20:51,  3.25s/it]"
     ]
    },
    {
     "name": "stdout",
     "output_type": "stream",
     "text": [
      "Heading is not availble\n",
      "Speciality is not available.\n",
      "Rating not available.\n",
      "Votes are not available.\n",
      "https://google.com/search?q=dr+shanti+devi+shanthi+devi+hyderabad\n",
      "https://www.practo.com/hyderabad/doctor/dr-shanthi-reddy-gynecologist-obstetrician&sa=U&ved=2ahUKEwja3862xfr5AhUGEbkGHXTcDxgQFnoECAYQAg&usg=AOvVaw0fM0YJkXGSyZtEzdQ0fT7u\n",
      "['https://www.practo.com/hyderabad/doctor/dr-shanthi-reddy-gynecologist-obstetrician', 'sa=U', 'ved=2ahUKEwja3862xfr5AhUGEbkGHXTcDxgQFnoECAYQAg', 'usg=AOvVaw0fM0YJkXGSyZtEzdQ0fT7u']\n",
      "Link searched for:  https://www.practo.com/hyderabad/doctor/dr-shanthi-reddy-gynecologist-obstetrician\n",
      "**************************************************\n"
     ]
    },
    {
     "name": "stderr",
     "output_type": "stream",
     "text": [
      "\r",
      " 13%|████▉                                 | 223/1715 [12:42<1:27:51,  3.53s/it]"
     ]
    },
    {
     "name": "stdout",
     "output_type": "stream",
     "text": [
      "Name:  Dr. Shanthi Reddy V\n",
      "Speciality:  Gynecologist\n",
      "Rating:  4.0\n",
      "Votes are not available.\n",
      "Address:  Road Number 72, Landmark: Opposite to Bharatiya Vidya Bhavan School Lane & Near Film Nagar, Hyderabad\n",
      "https://google.com/search?q=dr+t++leela+prasad+sai+nikhila+clinic+visakhapatnam\n",
      "https://www.practo.com/visakhapatnam/doctor/dr-t-v-leela-prasad-ear-nose-throat-ent-specialist&sa=U&ved=2ahUKEwiuo8-4xfr5AhVaGbkGHZBTBycQFnoECAEQAg&usg=AOvVaw2x2XpCXtsqz8bv6TYcEggs\n",
      "['https://www.practo.com/visakhapatnam/doctor/dr-t-v-leela-prasad-ear-nose-throat-ent-specialist', 'sa=U', 'ved=2ahUKEwiuo8-4xfr5AhVaGbkGHZBTBycQFnoECAEQAg', 'usg=AOvVaw2x2XpCXtsqz8bv6TYcEggs']\n",
      "Link searched for:  https://www.practo.com/visakhapatnam/doctor/dr-t-v-leela-prasad-ear-nose-throat-ent-specialist\n",
      "**************************************************\n"
     ]
    },
    {
     "name": "stderr",
     "output_type": "stream",
     "text": [
      "\r",
      " 13%|████▉                                 | 224/1715 [12:45<1:24:48,  3.41s/it]"
     ]
    },
    {
     "name": "stdout",
     "output_type": "stream",
     "text": [
      "Name:  Dr. T.V. Leela Prasad\n",
      "Speciality:  Head and Neck Surgeon\n",
      "Rating not available.\n",
      "Votes are not available.\n",
      "Address:  #43-29-26, LandMark : Opp: Varun Bajaj Show Room, Dondaparthy Junction, Visakhapatnam\n",
      "https://google.com/search?q=dr+ch+v+n+g+r+ramanujam+medi+links+polyclinic+visakhapatnam\n"
     ]
    },
    {
     "name": "stderr",
     "output_type": "stream",
     "text": [
      "\r",
      " 13%|████▉                                 | 225/1715 [12:47<1:15:24,  3.04s/it]"
     ]
    },
    {
     "name": "stdout",
     "output_type": "stream",
     "text": [
      "Couldn't find any practo links.\n",
      "https://google.com/search?q=dr+v+s+r+murthy+total+thyro+diabetic+diagnostic+center+hyderabad\n",
      "https://www.practo.com/hyderabad/doctor/dr-murthy-jmk-neurologist&sa=U&ved=2ahUKEwjx6o67xfr5AhVwCrkGHbsmAykQFnoECAUQAg&usg=AOvVaw316Mbw-LDe_K2JuOGC5Ztc\n",
      "['https://www.practo.com/hyderabad/doctor/dr-murthy-jmk-neurologist', 'sa=U', 'ved=2ahUKEwjx6o67xfr5AhVwCrkGHbsmAykQFnoECAUQAg', 'usg=AOvVaw316Mbw-LDe_K2JuOGC5Ztc']\n",
      "Link searched for:  https://www.practo.com/hyderabad/doctor/dr-murthy-jmk-neurologist\n",
      "**************************************************\n"
     ]
    },
    {
     "name": "stderr",
     "output_type": "stream",
     "text": [
      "\r",
      " 13%|█████                                 | 226/1715 [12:51<1:18:09,  3.15s/it]"
     ]
    },
    {
     "name": "stdout",
     "output_type": "stream",
     "text": [
      "Name:  Dr. Murthy JMK\n",
      "Speciality:  Neurologist\n",
      "Rating:  72% \n",
      "Name:  (65 votes)\n",
      "Address:  8-2-620/A/E, Road Number 10, Landmark: Opposite Karvy Building & Near Babu Khan Chamber, Hyderabad\n",
      "https://google.com/search?q=dr+raghu++ram+reddy+radiance+skin,+hair+cosmetic+&+laser+center+hyderabad\n",
      "https://www.practo.com/hyderabad/clinic/dr-raghu-ram-reddy-vanasthalipuram&sa=U&ved=2ahUKEwia_t68xfr5AhVgHrkGHSrSCSwQFnoECAYQAg&usg=AOvVaw0maouIetbM8bsuQRGttNDB\n",
      "['https://www.practo.com/hyderabad/clinic/dr-raghu-ram-reddy-vanasthalipuram', 'sa=U', 'ved=2ahUKEwia_t68xfr5AhVgHrkGHSrSCSwQFnoECAYQAg', 'usg=AOvVaw0maouIetbM8bsuQRGttNDB']\n",
      "Link searched for:  https://www.practo.com/hyderabad/clinic/dr-raghu-ram-reddy-vanasthalipuram\n",
      "**************************************************\n"
     ]
    },
    {
     "name": "stderr",
     "output_type": "stream",
     "text": [
      "\r",
      " 13%|█████                                 | 227/1715 [12:54<1:17:42,  3.13s/it]"
     ]
    },
    {
     "name": "stdout",
     "output_type": "stream",
     "text": [
      "Name:  Radiance Skin Hair Cosmetic  Center\n",
      "Speciality:  Multi-speciality Clinic\n",
      "Rating:  5.0\n",
      "Name:  (506 patient stories)\n",
      "Address:  5-5-303/P25/A, Prashant Nagar, Landmark: Opposite ICICI Bank, Hyderabad\n",
      "https://google.com/search?q=dr+saritha+bandaru+ajay+children's+clinic+&+diabetic+center+hyderabad\n"
     ]
    },
    {
     "name": "stderr",
     "output_type": "stream",
     "text": [
      "\r",
      " 13%|█████                                 | 228/1715 [12:56<1:10:46,  2.86s/it]"
     ]
    },
    {
     "name": "stdout",
     "output_type": "stream",
     "text": [
      "Couldn't find any practo links.\n",
      "https://google.com/search?q=dr+prashanth+chandra+ny+med+express+hyderabad\n",
      "https://www.practo.com/hyderabad/doctor/dr-prashanth-chandra-ny-general-physician&sa=U&ved=2ahUKEwj0j6K_xfr5AhWAI7kGHaTaBAYQFnoECAkQAg&usg=AOvVaw0xlvvZNPDRGQ0AFhFduuPX\n",
      "['https://www.practo.com/hyderabad/doctor/dr-prashanth-chandra-ny-general-physician', 'sa=U', 'ved=2ahUKEwj0j6K_xfr5AhWAI7kGHaTaBAYQFnoECAkQAg', 'usg=AOvVaw0xlvvZNPDRGQ0AFhFduuPX']\n",
      "Link searched for:  https://www.practo.com/hyderabad/doctor/dr-prashanth-chandra-ny-general-physician\n",
      "**************************************************\n"
     ]
    },
    {
     "name": "stderr",
     "output_type": "stream",
     "text": [
      "\r",
      " 13%|█████                                 | 229/1715 [13:00<1:18:01,  3.15s/it]"
     ]
    },
    {
     "name": "stdout",
     "output_type": "stream",
     "text": [
      "Name:  Dr. Prashanth Chandra NY\n",
      "Speciality:  General Physician\n",
      "Rating:  85% \n",
      "Name:  (52 votes)\n",
      "Address:  1st Floor, Yella Reddy Guda, Srikrishna Devaraya Colony, Landmark: Above United Bank of India, Hyderabad\n",
      "https://google.com/search?q=dr+raghu+kishore+galla+cygnet+super+speciality+clinics+hyderabad\n"
     ]
    },
    {
     "name": "stderr",
     "output_type": "stream",
     "text": [
      "\r",
      " 13%|█████                                 | 230/1715 [13:02<1:11:39,  2.90s/it]"
     ]
    },
    {
     "name": "stdout",
     "output_type": "stream",
     "text": [
      "Couldn't find any practo links.\n",
      "https://google.com/search?q=dr+raghuramulu+pemira+raghuramulu+pemira+hyderabad\n",
      "https://www.practo.com/hyderabad/doctor/raghuram-vaddepally-neurologist&sa=U&ved=2ahUKEwjn5pjCxfr5AhWmOrkGHXZ2B34QFnoECAUQAg&usg=AOvVaw0H8QfX2S6rOhugZKESl4Nm\n",
      "['https://www.practo.com/hyderabad/doctor/raghuram-vaddepally-neurologist', 'sa=U', 'ved=2ahUKEwjn5pjCxfr5AhWmOrkGHXZ2B34QFnoECAUQAg', 'usg=AOvVaw0H8QfX2S6rOhugZKESl4Nm']\n",
      "Link searched for:  https://www.practo.com/hyderabad/doctor/raghuram-vaddepally-neurologist\n",
      "**************************************************\n"
     ]
    },
    {
     "name": "stderr",
     "output_type": "stream",
     "text": [
      "\r",
      " 13%|█████                                 | 231/1715 [13:07<1:23:44,  3.39s/it]"
     ]
    },
    {
     "name": "stdout",
     "output_type": "stream",
     "text": [
      "Name:  Dr. Raghu Ramulu Vaddepally\n",
      "Speciality:  Neurologist\n",
      "Rating:  81% \n",
      "Name:  (36 votes)\n",
      "Address:  H.Number - 1-5-1/15, Main Road, Aditya & Dhanvantri Medical Shop Building, 2Nd Floor, Landmark: above Aditya & Dhanvantri Medical Shop , Hyderabad\n",
      "https://google.com/search?q=dr+triveni+reddy+doctors+chambers+visakhapatnam\n"
     ]
    },
    {
     "name": "stderr",
     "output_type": "stream",
     "text": [
      "\r",
      " 14%|█████▏                                | 232/1715 [13:11<1:31:37,  3.71s/it]"
     ]
    },
    {
     "name": "stdout",
     "output_type": "stream",
     "text": [
      "Couldn't find any practo links.\n",
      "https://google.com/search?q=dr+murali+c+dr.c.murali+mohan.+children's+clinic+hyderabad\n",
      "https://www.practo.com/bangalore/doctor/murali-mohan-pediatrician&sa=U&ved=2ahUKEwiV473Gxfr5AhUpA7kGHbrKBWoQFnoECAEQAg&usg=AOvVaw25_V_CpmLqGRvT1xwywZp1\n",
      "['https://www.practo.com/bangalore/doctor/murali-mohan-pediatrician', 'sa=U', 'ved=2ahUKEwiV473Gxfr5AhUpA7kGHbrKBWoQFnoECAEQAg', 'usg=AOvVaw25_V_CpmLqGRvT1xwywZp1']\n",
      "Link searched for:  https://www.practo.com/bangalore/doctor/murali-mohan-pediatrician\n",
      "**************************************************\n"
     ]
    },
    {
     "name": "stderr",
     "output_type": "stream",
     "text": [
      "\r",
      " 14%|█████▏                                | 233/1715 [13:15<1:30:24,  3.66s/it]"
     ]
    },
    {
     "name": "stdout",
     "output_type": "stream",
     "text": [
      "Name:  Dr. Murali Mohan\n",
      "Speciality:  Pediatrician\n",
      "Rating not available.\n",
      "Votes are not available.\n",
      "Address:  1st Cross Road, Hosahalli Main Road, Hunasamaranahalli, Bangalore\n",
      "https://google.com/search?q=dr+ch++mounika+anitha+dr.+mounika's+diabetes+&+endocrine+centre+visakhapatnam\n"
     ]
    },
    {
     "name": "stderr",
     "output_type": "stream",
     "text": [
      "\r",
      " 14%|█████▏                                | 234/1715 [13:17<1:20:18,  3.25s/it]"
     ]
    },
    {
     "name": "stdout",
     "output_type": "stream",
     "text": [
      "Couldn't find any practo links.\n",
      "https://google.com/search?q=dr+kirthi+bommakanti+chaitra's+neurology+clinic+hyderabad\n",
      "https://www.practo.com/hyderabad/doctor/keerthi-talari-bommakanti-rheumatologist&sa=U&ved=2ahUKEwig_6LJxfr5AhWZIbkGHSJHAGUQFnoECAUQAg&usg=AOvVaw2ooKAH1mxIRJxx8uQMY4M0\n",
      "['https://www.practo.com/hyderabad/doctor/keerthi-talari-bommakanti-rheumatologist', 'sa=U', 'ved=2ahUKEwig_6LJxfr5AhWZIbkGHSJHAGUQFnoECAUQAg', 'usg=AOvVaw2ooKAH1mxIRJxx8uQMY4M0']\n",
      "Link searched for:  https://www.practo.com/hyderabad/doctor/keerthi-talari-bommakanti-rheumatologist\n",
      "**************************************************\n"
     ]
    },
    {
     "name": "stderr",
     "output_type": "stream",
     "text": [
      "\r",
      " 14%|█████▏                                | 235/1715 [13:21<1:23:35,  3.39s/it]"
     ]
    },
    {
     "name": "stdout",
     "output_type": "stream",
     "text": [
      "Name:  Dr. Keerthi Talari Bommakanti\n",
      "Speciality:  Rheumatologist\n",
      "Rating:  92% \n",
      "Name:  (13 votes)\n",
      "Address:  18, SP Road, Alexander Road, Landmark: Beside Hari Hara Kala Bhavan, Hyderabad\n",
      "https://google.com/search?q=dr+p+raju+naidu+pothula+ayush+poly+clinic+visakhapatnam\n",
      "https://www.practo.com/visakhapatnam/doctor/rajunaidu-pothula-orthopedist&sa=U&ved=2ahUKEwi_gqbLxfr5AhUfO7kGHbAbBicQFnoECAAQAg&usg=AOvVaw2qu3A0akmokANT2CHoO4zM\n",
      "['https://www.practo.com/visakhapatnam/doctor/rajunaidu-pothula-orthopedist', 'sa=U', 'ved=2ahUKEwi_gqbLxfr5AhUfO7kGHbAbBicQFnoECAAQAg', 'usg=AOvVaw2qu3A0akmokANT2CHoO4zM']\n",
      "Link searched for:  https://www.practo.com/visakhapatnam/doctor/rajunaidu-pothula-orthopedist\n",
      "**************************************************\n"
     ]
    },
    {
     "name": "stderr",
     "output_type": "stream",
     "text": [
      "\r",
      " 14%|█████▏                                | 236/1715 [13:24<1:23:43,  3.40s/it]"
     ]
    },
    {
     "name": "stdout",
     "output_type": "stream",
     "text": [
      "Name:  Dr. P Rajunaidu Pothula\n",
      "Speciality:  Joint Replacement Surgeon\n",
      "Rating not available.\n",
      "Votes are not available.\n",
      "https://google.com/search?q=dr+syed+mustafa+ashraf+panacea+speciality+clinic+hyderabad\n",
      "https://www.practo.com/hyderabad/doctor/dr-syed-mustafa-ashraf-general-physician&sa=U&ved=2ahUKEwjXitXMxfr5AhXHBrkGHcnICzwQFnoECAAQAg&usg=AOvVaw2p07YH7NI-EMc9shQxgtV7\n",
      "['https://www.practo.com/hyderabad/doctor/dr-syed-mustafa-ashraf-general-physician', 'sa=U', 'ved=2ahUKEwjXitXMxfr5AhXHBrkGHcnICzwQFnoECAAQAg', 'usg=AOvVaw2p07YH7NI-EMc9shQxgtV7']\n",
      "Link searched for:  https://www.practo.com/hyderabad/doctor/dr-syed-mustafa-ashraf-general-physician\n",
      "**************************************************\n"
     ]
    },
    {
     "name": "stderr",
     "output_type": "stream",
     "text": [
      "\r",
      " 14%|█████▎                                | 237/1715 [13:29<1:32:05,  3.74s/it]"
     ]
    },
    {
     "name": "stdout",
     "output_type": "stream",
     "text": [
      "Name:  Dr. Syed Mustafa Ashraf\n",
      "Speciality:  Internal Medicine\n",
      "Rating not available.\n",
      "Votes are not available.\n",
      "https://google.com/search?q=dr+priyanka+d+hanika's+general+and+dental+hospital+hyderabad\n",
      "https://www.practo.com/hyderabad/clinic/online-clinic-karmanghat&sa=U&ved=2ahUKEwjOt-rOxfr5AhXlA9QKHXaxAecQFnoECAIQAg&usg=AOvVaw1CH1OxevtEnVWoholHfCei\n",
      "['https://www.practo.com/hyderabad/clinic/online-clinic-karmanghat', 'sa=U', 'ved=2ahUKEwjOt-rOxfr5AhXlA9QKHXaxAecQFnoECAIQAg', 'usg=AOvVaw1CH1OxevtEnVWoholHfCei']\n",
      "Link searched for:  https://www.practo.com/hyderabad/clinic/online-clinic-karmanghat\n",
      "**************************************************\n"
     ]
    },
    {
     "name": "stderr",
     "output_type": "stream",
     "text": [
      "\r",
      " 14%|█████▎                                | 238/1715 [13:32<1:26:14,  3.50s/it]"
     ]
    },
    {
     "name": "stdout",
     "output_type": "stream",
     "text": [
      "Name:  Hanika Clinic\n",
      "Speciality:  Multi-speciality Clinic\n",
      "Rating not available.\n",
      "Votes are not available.\n",
      "Address:  Number 3/91,  Sai Ram Colony , Puppalguda., Hyderabad\n",
      "https://google.com/search?q=dr+alekhya+s+seven+hills+hospital+bn+reddy+nagar+near+vishal+mart+hyderabad\n",
      "https://www.practo.com/hyderabad/doctor/dr-alekhya-reddy-1-gynecologist-obstetrician&sa=U&ved=2ahUKEwib-Z3Qxfr5AhXbAbkGHRV-AToQFnoECAYQAg&usg=AOvVaw0rJmRmTqSTok5_LE_Q_A71\n",
      "['https://www.practo.com/hyderabad/doctor/dr-alekhya-reddy-1-gynecologist-obstetrician', 'sa=U', 'ved=2ahUKEwib-Z3Qxfr5AhXbAbkGHRV-AToQFnoECAYQAg', 'usg=AOvVaw0rJmRmTqSTok5_LE_Q_A71']\n",
      "Link searched for:  https://www.practo.com/hyderabad/doctor/dr-alekhya-reddy-1-gynecologist-obstetrician\n",
      "**************************************************\n"
     ]
    },
    {
     "name": "stderr",
     "output_type": "stream",
     "text": [
      "\r",
      " 14%|█████▎                                | 239/1715 [13:35<1:29:17,  3.63s/it]"
     ]
    },
    {
     "name": "stdout",
     "output_type": "stream",
     "text": [
      "Name:  Dr. Alekhya Reddy\n",
      "Speciality:  Gynecologist\n",
      "Rating not available.\n",
      "Votes are not available.\n",
      "https://google.com/search?q=dr+venkata+sai+shanthi+vision+tree+eye+hospital+and+lasik+centre+visakhapatnam\n"
     ]
    },
    {
     "name": "stderr",
     "output_type": "stream",
     "text": [
      "\r",
      " 14%|█████▎                                | 240/1715 [13:38<1:20:50,  3.29s/it]"
     ]
    },
    {
     "name": "stdout",
     "output_type": "stream",
     "text": [
      "Couldn't find any practo links.\n",
      "https://google.com/search?q=dr+harsha+vikaram+kattam+kadimi+nursing+home+hyderabad\n"
     ]
    },
    {
     "name": "stderr",
     "output_type": "stream",
     "text": [
      "\r",
      " 14%|█████▎                                | 241/1715 [13:40<1:12:33,  2.95s/it]"
     ]
    },
    {
     "name": "stdout",
     "output_type": "stream",
     "text": [
      "Couldn't find any practo links.\n",
      "https://google.com/search?q=dr+gopinath+kadimi+kadimi+nursing+home+hyderabad\n",
      "https://www.practo.com/hyderabad/clinic/kadimi-nursing-home-chanda-nagar-2/doctors&sa=U&ved=2ahUKEwinx6rUxfr5AhXQHrkGHRfyDsUQFnoECAkQAg&usg=AOvVaw2I49j9zfWa_HO6oDZjxET-\n",
      "['https://www.practo.com/hyderabad/clinic/kadimi-nursing-home-chanda-nagar-2/doctors', 'sa=U', 'ved=2ahUKEwinx6rUxfr5AhXQHrkGHRfyDsUQFnoECAkQAg', 'usg=AOvVaw2I49j9zfWa_HO6oDZjxET-']\n",
      "Link searched for:  https://www.practo.com/hyderabad/clinic/kadimi-nursing-home-chanda-nagar-2/doctors\n",
      "**************************************************\n"
     ]
    },
    {
     "name": "stderr",
     "output_type": "stream",
     "text": [
      "\r",
      " 14%|█████▎                                | 242/1715 [13:43<1:10:19,  2.86s/it]"
     ]
    },
    {
     "name": "stdout",
     "output_type": "stream",
     "text": [
      "Name:  Kadimi Nursing Home\n",
      "Speciality:  Multi-speciality Clinic\n",
      "Rating:  4.0\n",
      "Name:  (623 patient stories)\n",
      "Address:  6-94/6/C, Manjeera Road, Landmark: Opposite Hotel Swagath Residency, Hyderabad\n",
      "https://google.com/search?q=dr+amrutha+kadimi+kadimi+nursing+home+hyderabad\n",
      "https://www.practo.com/hyderabad/doctor/dr-amrutha-2-gynecologist-obstetrician&sa=U&ved=2ahUKEwiW-MzVxfr5AhXvBrkGHduzDzgQFnoECAgQAg&usg=AOvVaw1-OB8E7W11_jbsODA2pWce\n",
      "['https://www.practo.com/hyderabad/doctor/dr-amrutha-2-gynecologist-obstetrician', 'sa=U', 'ved=2ahUKEwiW-MzVxfr5AhXvBrkGHduzDzgQFnoECAgQAg', 'usg=AOvVaw1-OB8E7W11_jbsODA2pWce']\n",
      "Link searched for:  https://www.practo.com/hyderabad/doctor/dr-amrutha-2-gynecologist-obstetrician\n",
      "**************************************************\n"
     ]
    },
    {
     "name": "stderr",
     "output_type": "stream",
     "text": [
      "\r",
      " 14%|█████▍                                | 243/1715 [13:47<1:18:57,  3.22s/it]"
     ]
    },
    {
     "name": "stdout",
     "output_type": "stream",
     "text": [
      "Name:  Dr. K. Amrutha\n",
      "Speciality:  Gynecologist\n",
      "Rating:  93% \n",
      "Name:  (45 votes)\n",
      "Address:  6-94/6/C, Manjeera Road, Landmark: Opposite Hotel Swagath Residency, Hyderabad\n",
      "https://google.com/search?q=dr+harati+kadimi+kadimi+nursing+home+hyderabad\n",
      "https://www.practo.com/hyderabad/doctor/kadiminursinghome-gmail-com-gynecologist-obstetrician-1&sa=U&ved=2ahUKEwjc-sPXxfr5AhXxJrkGHaAfC_gQFnoECAgQAg&usg=AOvVaw0LlnBHp507KdeIrUpJvr3_\n",
      "['https://www.practo.com/hyderabad/doctor/kadiminursinghome-gmail-com-gynecologist-obstetrician-1', 'sa=U', 'ved=2ahUKEwjc-sPXxfr5AhXxJrkGHaAfC_gQFnoECAgQAg', 'usg=AOvVaw0LlnBHp507KdeIrUpJvr3_']\n",
      "Link searched for:  https://www.practo.com/hyderabad/doctor/kadiminursinghome-gmail-com-gynecologist-obstetrician-1\n",
      "**************************************************\n"
     ]
    },
    {
     "name": "stderr",
     "output_type": "stream",
     "text": [
      "\r",
      " 14%|█████▍                                | 244/1715 [13:51<1:25:47,  3.50s/it]"
     ]
    },
    {
     "name": "stdout",
     "output_type": "stream",
     "text": [
      "Name:  Dr. Harathi\n",
      "Speciality:  Gynecologist\n",
      "Rating:  82% \n",
      "Name:  (295 votes)\n",
      "Address:  6-94/6/C, Manjeera Road, Landmark: Opposite Hotel Swagath Residency, Hyderabad\n",
      "https://google.com/search?q=dr+lasya++mandadi+celestial+essence+skin,+hair+&+cosmetology+clinic+visakhapatnam\n",
      "https://www.practo.com/visakhapatnam/doctor/dr-lasya-m-dermatologist&sa=U&ved=2ahUKEwi088LZxfr5AhVJKLkGHQyhAssQFnoECAcQAg&usg=AOvVaw2JenM5QMbsEJqRBYNaCR7D\n",
      "['https://www.practo.com/visakhapatnam/doctor/dr-lasya-m-dermatologist', 'sa=U', 'ved=2ahUKEwi088LZxfr5AhVJKLkGHQyhAssQFnoECAcQAg', 'usg=AOvVaw2JenM5QMbsEJqRBYNaCR7D']\n",
      "Link searched for:  https://www.practo.com/visakhapatnam/doctor/dr-lasya-m-dermatologist\n",
      "**************************************************\n"
     ]
    },
    {
     "name": "stderr",
     "output_type": "stream",
     "text": [
      "\r",
      " 14%|█████▍                                | 245/1715 [13:54<1:20:27,  3.28s/it]"
     ]
    },
    {
     "name": "stdout",
     "output_type": "stream",
     "text": [
      "Name:  Dr. Lasya Mandadi\n",
      "Speciality:  Dermatologist\n",
      "Rating not available.\n",
      "Votes are not available.\n",
      "Address:  10-50-24/A, Surya Manor, Ground Floor, Siripuram Junction, Landmark: Opposite HSBC Call Centre, Visakhapatnam\n",
      "https://google.com/search?q=dr+shobha+k+sv+poly+clinic+hyderabad\n",
      "https://www.practo.com/hyderabad/doctor/dr-shoba-srinivasulu-kuruva-general-physician&sa=U&ved=2ahUKEwj-1Ovaxfr5AhVJLLkGHcQaDFoQFnoECAgQAg&usg=AOvVaw1-GNxA4PIBhyIcI7kaY0NU\n",
      "['https://www.practo.com/hyderabad/doctor/dr-shoba-srinivasulu-kuruva-general-physician', 'sa=U', 'ved=2ahUKEwj-1Ovaxfr5AhVJLLkGHcQaDFoQFnoECAgQAg', 'usg=AOvVaw1-GNxA4PIBhyIcI7kaY0NU']\n",
      "Link searched for:  https://www.practo.com/hyderabad/doctor/dr-shoba-srinivasulu-kuruva-general-physician\n",
      "**************************************************\n"
     ]
    },
    {
     "name": "stderr",
     "output_type": "stream",
     "text": [
      "\r",
      " 14%|█████▍                                | 246/1715 [13:58<1:26:56,  3.55s/it]"
     ]
    },
    {
     "name": "stdout",
     "output_type": "stream",
     "text": [
      "Name:  Dr. Shoba Srinivasulu Kuruva\n",
      "Speciality:  General Physician\n",
      "Rating:  97% \n",
      "Name:  (370 votes)\n",
      "Address:  Shop Number 1, Mahalakshmi Arcade, Madinaguda, Landmark: Opposite Indian Oil Petrol Shop & Opposite My Home Jewel Apartments, Hyderabad\n",
      "https://google.com/search?q=dr+krishna++prasad+dharani+hospital+hyderabad\n",
      "https://www.practo.com/hyderabad/doctor/dr-a-krishna-prasad-general-physician&sa=U&ved=2ahUKEwjUvOrcxfr5AhXQJrkGHSbfDtsQFnoECAAQAg&usg=AOvVaw12LsKfQKof_9RIXmvybaT2\n",
      "['https://www.practo.com/hyderabad/doctor/dr-a-krishna-prasad-general-physician', 'sa=U', 'ved=2ahUKEwjUvOrcxfr5AhXQJrkGHSbfDtsQFnoECAAQAg', 'usg=AOvVaw12LsKfQKof_9RIXmvybaT2']\n",
      "Link searched for:  https://www.practo.com/hyderabad/doctor/dr-a-krishna-prasad-general-physician\n",
      "**************************************************\n"
     ]
    },
    {
     "name": "stderr",
     "output_type": "stream",
     "text": [
      "\r",
      " 14%|█████▍                                | 247/1715 [14:02<1:31:19,  3.73s/it]"
     ]
    },
    {
     "name": "stdout",
     "output_type": "stream",
     "text": [
      "Name:  Dr. A. Krishna Prasad\n",
      "Speciality:  General Physician\n",
      "Rating:  4.0\n",
      "Votes are not available.\n",
      "Address:  Panjagutta, Landmark: Near GVK Mall, Hyderabad\n",
      "https://google.com/search?q=dr+marathala+pradeep++reddy++hyderabad+multispecialty+hospital+hyderabad\n",
      "https://www.practo.com/hyderabad/doctor/m-pradeep-reddy-orthopedist&sa=U&ved=2ahUKEwj7-efexfr5AhWxLLkGHRE8B1IQFnoECAUQAg&usg=AOvVaw3l1rrfdOwOe0Qx1iPzq1o0\n",
      "['https://www.practo.com/hyderabad/doctor/m-pradeep-reddy-orthopedist', 'sa=U', 'ved=2ahUKEwj7-efexfr5AhWxLLkGHRE8B1IQFnoECAUQAg', 'usg=AOvVaw3l1rrfdOwOe0Qx1iPzq1o0']\n",
      "Link searched for:  https://www.practo.com/hyderabad/doctor/m-pradeep-reddy-orthopedist\n",
      "**************************************************\n"
     ]
    },
    {
     "name": "stderr",
     "output_type": "stream",
     "text": [
      "\r",
      " 14%|█████▍                                | 248/1715 [14:05<1:25:10,  3.48s/it]"
     ]
    },
    {
     "name": "stdout",
     "output_type": "stream",
     "text": [
      "Name:  Dr. M. Pradeep Reddy\n",
      "Speciality:  Joint Replacement Surgeon\n",
      "Rating:  99% \n",
      "Name:  (780 votes)\n",
      "Address:  16-2-674/11, Judges Colony, Landmark: Near Hyderabad Kidney Center, Hyderabad\n",
      "https://google.com/search?q=dr+shasheendra++d+sai+ram+poly+clinic+hyderabad\n",
      "https://www.practo.com/hyderabad/clinic/sai-ram-poly-clinic-lb-nagar&sa=U&ved=2ahUKEwji3Jjgxfr5AhVZCLkGHRq3BzUQFnoECAgQAg&usg=AOvVaw34-UBt70XXL1zpuZm3bz_w\n",
      "['https://www.practo.com/hyderabad/clinic/sai-ram-poly-clinic-lb-nagar', 'sa=U', 'ved=2ahUKEwji3Jjgxfr5AhVZCLkGHRq3BzUQFnoECAgQAg', 'usg=AOvVaw34-UBt70XXL1zpuZm3bz_w']\n",
      "Link searched for:  https://www.practo.com/hyderabad/clinic/sai-ram-poly-clinic-lb-nagar\n",
      "**************************************************\n"
     ]
    },
    {
     "name": "stderr",
     "output_type": "stream",
     "text": [
      "\r",
      " 15%|█████▌                                | 249/1715 [14:08<1:20:36,  3.30s/it]"
     ]
    },
    {
     "name": "stdout",
     "output_type": "stream",
     "text": [
      "Name:  Sai Ram Poly Clinic\n",
      "Speciality:  Consultant Physician Clinic\n",
      "Rating not available.\n",
      "Votes are not available.\n",
      "Address:  #3-8-407/1, Ground Floor, Suryodaya Colony, Road No 4, Land Mark: Near Sri Krishna Dental Hospital, Hyderabad\n",
      "https://google.com/search?q=dr+srushanth+mukka+euderm+skin+and+hair+clinic+hyderabad\n",
      "https://www.practo.com/hyderabad/doctor/srushanth-mukka-dermatologist&sa=U&ved=2ahUKEwiPn8jhxfr5AhVfJrkGHU46CzkQFnoECAYQAg&usg=AOvVaw3bOpn8mX_5Dra37tkSSI85\n",
      "['https://www.practo.com/hyderabad/doctor/srushanth-mukka-dermatologist', 'sa=U', 'ved=2ahUKEwiPn8jhxfr5AhVfJrkGHU46CzkQFnoECAYQAg', 'usg=AOvVaw3bOpn8mX_5Dra37tkSSI85']\n",
      "Link searched for:  https://www.practo.com/hyderabad/doctor/srushanth-mukka-dermatologist\n",
      "**************************************************\n"
     ]
    },
    {
     "name": "stderr",
     "output_type": "stream",
     "text": [
      "\r",
      " 15%|█████▌                                | 250/1715 [14:12<1:23:32,  3.42s/it]"
     ]
    },
    {
     "name": "stdout",
     "output_type": "stream",
     "text": [
      "Name:  Dr. Srushanth Mukka\n",
      "Speciality:  Dermatologist\n",
      "Rating not available.\n",
      "Votes are not available.\n",
      "Address:  Essen Presidential, Golden Mile Road, Power Welfare Society, Landmark: Opp. Rajapusha Atria, Hyderabad\n",
      "https://google.com/search?q=dr+sudhir++prasad++prasad's+clinic+hyderabad\n",
      "https://www.practo.com/hyderabad/doctor/dr-sudhir-prasad-pulmonologist&sa=U&ved=2ahUKEwiG96njxfr5AhX1G7kGHTPRCvsQFnoECAEQAg&usg=AOvVaw2GEhG_ONJvIpqihB3uW-1P\n",
      "['https://www.practo.com/hyderabad/doctor/dr-sudhir-prasad-pulmonologist', 'sa=U', 'ved=2ahUKEwiG96njxfr5AhX1G7kGHTPRCvsQFnoECAEQAg', 'usg=AOvVaw2GEhG_ONJvIpqihB3uW-1P']\n",
      "Link searched for:  https://www.practo.com/hyderabad/doctor/dr-sudhir-prasad-pulmonologist\n",
      "**************************************************\n"
     ]
    },
    {
     "name": "stderr",
     "output_type": "stream",
     "text": [
      "\r",
      " 15%|█████▌                                | 251/1715 [14:17<1:39:28,  4.08s/it]"
     ]
    },
    {
     "name": "stdout",
     "output_type": "stream",
     "text": [
      "Name:  Dr. Sudhir Prasad\n",
      "Speciality:  Pulmonologist\n",
      "Rating:  100% \n",
      "Name:  (16 votes)\n",
      "Address:  8-16-1, Nagarjuna Sagar Road, Laxmi Enclave, Bairamalguda, Landmark: Beside Aware College Of Nursing & Engineering, Hyderabad\n",
      "https://google.com/search?q=dr+hiran++reddy+dr+hiran's+diabetic+thyroid+&+general+clinic+hyderabad\n",
      "https://www.practo.com/hyderabad/doctor/dr-hiran-s-reddy-endocrinologist&sa=U&ved=2ahUKEwiqsYDmxfr5AhW2GrkGHQDxA5MQFnoECAEQAg&usg=AOvVaw2RRVwKtGhflJjA0NLTSaZ4\n",
      "['https://www.practo.com/hyderabad/doctor/dr-hiran-s-reddy-endocrinologist', 'sa=U', 'ved=2ahUKEwiqsYDmxfr5AhW2GrkGHQDxA5MQFnoECAEQAg', 'usg=AOvVaw2RRVwKtGhflJjA0NLTSaZ4']\n",
      "Link searched for:  https://www.practo.com/hyderabad/doctor/dr-hiran-s-reddy-endocrinologist\n",
      "**************************************************\n"
     ]
    },
    {
     "name": "stderr",
     "output_type": "stream",
     "text": [
      "\r",
      " 15%|█████▌                                | 252/1715 [14:21<1:38:47,  4.05s/it]"
     ]
    },
    {
     "name": "stdout",
     "output_type": "stream",
     "text": [
      "Name:  Dr. Hiran S.Reddy\n",
      "Speciality:  Internal Medicine\n",
      "Rating:  3.0\n",
      "Votes are not available.\n",
      "Address:  3-4-136/A, Street Number 6, Landmark: Opposite ICICI Bank & Near State Bank Of India., Hyderabad\n",
      "https://google.com/search?q=dr+md+mubasheer++ali+true+care+clinics+hyderabad\n",
      "https://www.practo.com/hyderabad/clinic/dr-ali-s-true-care-clinics-manikonda&sa=U&ved=2ahUKEwjemfTnxfr5AhWcGLkGHZa_C_QQFnoECAkQAg&usg=AOvVaw0Zfp4iCtnwtZDET4n9cctg\n",
      "['https://www.practo.com/hyderabad/clinic/dr-ali-s-true-care-clinics-manikonda', 'sa=U', 'ved=2ahUKEwjemfTnxfr5AhWcGLkGHZa_C_QQFnoECAkQAg', 'usg=AOvVaw0Zfp4iCtnwtZDET4n9cctg']\n",
      "Link searched for:  https://www.practo.com/hyderabad/clinic/dr-ali-s-true-care-clinics-manikonda\n",
      "**************************************************\n"
     ]
    },
    {
     "name": "stderr",
     "output_type": "stream",
     "text": [
      "\r",
      " 15%|█████▌                                | 253/1715 [14:24<1:30:14,  3.70s/it]"
     ]
    },
    {
     "name": "stdout",
     "output_type": "stream",
     "text": [
      "Name:  DR ALI'S TRUE CARE CLINICS\n",
      "Speciality:  Multi-speciality Clinic\n",
      "Rating:  5.0\n",
      "Name:  (81 patient stories)\n",
      "Address:  anusha enclave,secretariat colony,puppalaguda, Landmark: near golden temple,beside shobha hospital, Hyderabad\n",
      "https://google.com/search?q=dr+harish++nerella++heal+up+clinic+hyderabad\n",
      "https://www.practo.com/hyderabad/doctor/harish-nerella-general-physician&sa=U&ved=2ahUKEwil5aTpxfr5AhVCA7kGHWkPCDMQFnoECAgQAg&usg=AOvVaw1y5zbXa10gvrWM8b48F99u\n",
      "['https://www.practo.com/hyderabad/doctor/harish-nerella-general-physician', 'sa=U', 'ved=2ahUKEwil5aTpxfr5AhVCA7kGHWkPCDMQFnoECAgQAg', 'usg=AOvVaw1y5zbXa10gvrWM8b48F99u']\n",
      "Link searched for:  https://www.practo.com/hyderabad/doctor/harish-nerella-general-physician\n",
      "**************************************************\n"
     ]
    },
    {
     "name": "stderr",
     "output_type": "stream",
     "text": [
      "\r",
      " 15%|█████▋                                | 254/1715 [14:28<1:32:48,  3.81s/it]"
     ]
    },
    {
     "name": "stdout",
     "output_type": "stream",
     "text": [
      "Name:  Dr. Harish Nerella\n",
      "Speciality:  General Physician\n",
      "Rating:  94% \n",
      "Name:  (16 votes)\n",
      "Address:  Plot Number 296, Vijaya Tara  Arcade Complex, Golden Temple Lane, Secretariat Colony, Puppalaguda, Landmark: Near Heritage Supermarket, Hyderabad\n",
      "https://google.com/search?q=dr+naveen+kumar++noothi+advanced+medcare+clinics+hyderabad\n",
      "https://www.practo.com/hyderabad/doctor/naveen-kumar-8-gastroenterologist&sa=U&ved=2ahUKEwjPnZzrxfr5AhWvIbkGHeKjDrIQFnoECAkQAg&usg=AOvVaw0JG2t382ODxdAr94UFkdl0\n",
      "['https://www.practo.com/hyderabad/doctor/naveen-kumar-8-gastroenterologist', 'sa=U', 'ved=2ahUKEwjPnZzrxfr5AhWvIbkGHeKjDrIQFnoECAkQAg', 'usg=AOvVaw0JG2t382ODxdAr94UFkdl0']\n",
      "Link searched for:  https://www.practo.com/hyderabad/doctor/naveen-kumar-8-gastroenterologist\n",
      "**************************************************\n"
     ]
    },
    {
     "name": "stderr",
     "output_type": "stream",
     "text": [
      "\r",
      " 15%|█████▋                                | 255/1715 [14:32<1:35:35,  3.93s/it]"
     ]
    },
    {
     "name": "stdout",
     "output_type": "stream",
     "text": [
      "Name:  Dr. NAVEEN KUMAR\n",
      "Speciality:  Hepatologist\n",
      "Rating not available.\n",
      "Votes are not available.\n",
      "https://google.com/search?q=dr+sushma+k+advanced+medcare+clinics+hyderabad\n",
      "https://www.practo.com/hyderabad/doctor/dr-sushma-gynecologist-obstetrician-11&sa=U&ved=2ahUKEwj0gp3txfr5AhVwBbkGHaQzBNcQFnoECAIQAg&usg=AOvVaw3h-BTjI0rta4eX_fsNbpOZ\n",
      "['https://www.practo.com/hyderabad/doctor/dr-sushma-gynecologist-obstetrician-11', 'sa=U', 'ved=2ahUKEwj0gp3txfr5AhVwBbkGHaQzBNcQFnoECAIQAg', 'usg=AOvVaw3h-BTjI0rta4eX_fsNbpOZ']\n",
      "Link searched for:  https://www.practo.com/hyderabad/doctor/dr-sushma-gynecologist-obstetrician-11\n",
      "**************************************************\n"
     ]
    },
    {
     "name": "stderr",
     "output_type": "stream",
     "text": [
      "\r",
      " 15%|█████▋                                | 256/1715 [14:38<1:49:23,  4.50s/it]"
     ]
    },
    {
     "name": "stdout",
     "output_type": "stream",
     "text": [
      "Name:  Dr. Sushma\n",
      "Speciality:  Gynecologist\n",
      "Rating:  94% \n",
      "Name:  (801 votes)\n",
      "Address:  6-50, Adarsh Nagar, Lingampally, Landmark: Opposite Andhra Bank, Hyderabad\n",
      "https://google.com/search?q=dr+anish+kolly+jaya+bhushan+hospital+hyderabad\n",
      "https://www.practo.com/hyderabad/doctor/anish-kolly-endocrinologist&sa=U&ved=2ahUKEwjI-4Dwxfr5AhX1BbkGHSNmARIQFnoECAgQAg&usg=AOvVaw2y_jRxs4kRALF8pbRTgTiL\n",
      "['https://www.practo.com/hyderabad/doctor/anish-kolly-endocrinologist', 'sa=U', 'ved=2ahUKEwjI-4Dwxfr5AhX1BbkGHSNmARIQFnoECAgQAg', 'usg=AOvVaw2y_jRxs4kRALF8pbRTgTiL']\n",
      "Link searched for:  https://www.practo.com/hyderabad/doctor/anish-kolly-endocrinologist\n",
      "**************************************************\n"
     ]
    },
    {
     "name": "stderr",
     "output_type": "stream",
     "text": [
      "\r",
      " 15%|█████▋                                | 257/1715 [14:42<1:43:21,  4.25s/it]"
     ]
    },
    {
     "name": "stdout",
     "output_type": "stream",
     "text": [
      "Name:  Dr. Anish Kolly\n",
      "Speciality:  Endocrinologist\n",
      "Rating:  91% \n",
      "Name:  (32 votes)\n",
      "Address:  12-2-823/A/10, Santosh Nagar Colony, Main Road, Landmark: Near Medhipatnam Bus Stop & ICICI Bank., Hyderabad\n",
      "https://google.com/search?q=dr+vanaja+d+gayathri+diabetic+care+hyderabad\n",
      "https://www.practo.com/hyderabad/doctor/dr-d-vanaja-diabetologist&sa=U&ved=2ahUKEwjcueHxxfr5AhWKALkGHQVED1QQFnoECAAQAg&usg=AOvVaw1gTbs6nldjYNnJiR2brTxT\n",
      "['https://www.practo.com/hyderabad/doctor/dr-d-vanaja-diabetologist', 'sa=U', 'ved=2ahUKEwjcueHxxfr5AhWKALkGHQVED1QQFnoECAAQAg', 'usg=AOvVaw1gTbs6nldjYNnJiR2brTxT']\n",
      "Link searched for:  https://www.practo.com/hyderabad/doctor/dr-d-vanaja-diabetologist\n",
      "**************************************************\n"
     ]
    },
    {
     "name": "stderr",
     "output_type": "stream",
     "text": [
      "\r",
      " 15%|█████▋                                | 258/1715 [14:46<1:42:35,  4.22s/it]"
     ]
    },
    {
     "name": "stdout",
     "output_type": "stream",
     "text": [
      "Name:  Dr. D. Vanaja\n",
      "Speciality is not available.\n",
      "Rating not available.\n",
      "Votes are not available.\n",
      "Address:  #8-1-284/OU/314, OU Colony, Shaikpet, Landmark: Above Bhimas Hotel, Hyderabad\n",
      "https://google.com/search?q=dr+mukhesh+rao+sree+syamala+heart+clinic+hyderabad\n"
     ]
    },
    {
     "name": "stderr",
     "output_type": "stream",
     "text": [
      "\r",
      " 15%|█████▋                                | 259/1715 [14:48<1:26:04,  3.55s/it]"
     ]
    },
    {
     "name": "stdout",
     "output_type": "stream",
     "text": [
      "Couldn't find any practo links.\n",
      "https://google.com/search?q=dr+sandeep+ch+sainath+diagnostics+clinic+hyderabad\n",
      "https://www.practo.com/hyderabad/clinic/sainath-diagnostics-1-gandhinagar&sa=U&ved=2ahUKEwjQ65T1xfr5AhXFKrkGHa-YDl4QFnoECAkQAg&usg=AOvVaw3quvPsJNf8EYArQVoh-7bJ\n",
      "['https://www.practo.com/hyderabad/clinic/sainath-diagnostics-1-gandhinagar', 'sa=U', 'ved=2ahUKEwjQ65T1xfr5AhXFKrkGHa-YDl4QFnoECAkQAg', 'usg=AOvVaw3quvPsJNf8EYArQVoh-7bJ']\n",
      "Link searched for:  https://www.practo.com/hyderabad/clinic/sainath-diagnostics-1-gandhinagar\n",
      "**************************************************\n"
     ]
    },
    {
     "name": "stderr",
     "output_type": "stream",
     "text": [
      "\r",
      " 15%|█████▊                                | 260/1715 [14:52<1:29:51,  3.71s/it]"
     ]
    },
    {
     "name": "stdout",
     "output_type": "stream",
     "text": [
      "Name:  Sainath Diagnostics\n",
      "Speciality:  Internal Medicine Clinic\n",
      "Rating not available.\n",
      "Votes are not available.\n",
      "Address:  1-1-516/A, Landmark: Opposite Damodar Krupa Apartment, Hyderabad\n",
      "https://google.com/search?q=dr+m+vasantha+vijaya+clinic+visakhapatnam\n",
      "https://www.practo.com/visakhapatnam/clinic/mahatma-gandhi-cancer-hospital-3-mvp-colony/doctors&sa=U&ved=2ahUKEwiTz8_2xfr5AhV5A7kGHRPwDpYQFnoECAEQAg&usg=AOvVaw2xEPUeabz1nmSQGVC6SzKM\n",
      "['https://www.practo.com/visakhapatnam/clinic/mahatma-gandhi-cancer-hospital-3-mvp-colony/doctors', 'sa=U', 'ved=2ahUKEwiTz8_2xfr5AhV5A7kGHRPwDpYQFnoECAEQAg', 'usg=AOvVaw2xEPUeabz1nmSQGVC6SzKM']\n",
      "Link searched for:  https://www.practo.com/visakhapatnam/clinic/mahatma-gandhi-cancer-hospital-3-mvp-colony/doctors\n",
      "**************************************************\n"
     ]
    },
    {
     "name": "stderr",
     "output_type": "stream",
     "text": [
      "\r",
      " 15%|█████▊                                | 261/1715 [14:55<1:23:47,  3.46s/it]"
     ]
    },
    {
     "name": "stdout",
     "output_type": "stream",
     "text": [
      "Name:  Vijaya Clinics and Diagnostic Centre\n",
      "Speciality:  Pulmonology Clinic\n",
      "Rating not available.\n",
      "Votes are not available.\n",
      "Address:  Sector 3, MVP Colony, Landmark: Beside Javed Habib & opposite Sivarama Sweets, Visakhapatnam\n",
      "https://google.com/search?q=dr+sunil+dr+sunil+clinic+hyderabad\n",
      "https://www.practo.com/hyderabad/clinic/sunil-clinic-1-pragathi-nagar&sa=U&ved=2ahUKEwjh1P_3xfr5AhVbLrkGHZvUBIoQFnoECAkQAg&usg=AOvVaw33DV26GFsaG2SX5hxYK-8T\n",
      "['https://www.practo.com/hyderabad/clinic/sunil-clinic-1-pragathi-nagar', 'sa=U', 'ved=2ahUKEwjh1P_3xfr5AhVbLrkGHZvUBIoQFnoECAkQAg', 'usg=AOvVaw33DV26GFsaG2SX5hxYK-8T']\n",
      "Link searched for:  https://www.practo.com/hyderabad/clinic/sunil-clinic-1-pragathi-nagar\n",
      "**************************************************\n"
     ]
    },
    {
     "name": "stderr",
     "output_type": "stream",
     "text": [
      "\r",
      " 15%|█████▊                                | 262/1715 [14:58<1:19:53,  3.30s/it]"
     ]
    },
    {
     "name": "stdout",
     "output_type": "stream",
     "text": [
      "Name:  Sunil Clinic\n",
      "Speciality:  Multi-speciality Clinic\n",
      "Rating not available.\n",
      "Votes are not available.\n",
      "Address:  6-171/A, Anandh Vihar, Shutter Number 2, Kakatiya Hills, Pragati Nagar, Landmark: Near Vijetha Super Market, Beside Z.P High Scool, Hyderabad\n",
      "https://google.com/search?q=dr+a+sai+kiran++maatru+sree+childern's+hospital++hyderabad\n",
      "https://www.practo.com/hyderabad/doctor/sai-kiran-general-physician&sa=U&ved=2ahUKEwiWhbL5xfr5AhUmH7kGHUMbBgUQFnoECAEQAg&usg=AOvVaw0GX7C__1Q72YEG1D54DVaA\n",
      "['https://www.practo.com/hyderabad/doctor/sai-kiran-general-physician', 'sa=U', 'ved=2ahUKEwiWhbL5xfr5AhUmH7kGHUMbBgUQFnoECAEQAg', 'usg=AOvVaw0GX7C__1Q72YEG1D54DVaA']\n",
      "Link searched for:  https://www.practo.com/hyderabad/doctor/sai-kiran-general-physician\n",
      "**************************************************\n"
     ]
    },
    {
     "name": "stderr",
     "output_type": "stream",
     "text": [
      "\r",
      " 15%|█████▊                                | 263/1715 [15:02<1:27:08,  3.60s/it]"
     ]
    },
    {
     "name": "stdout",
     "output_type": "stream",
     "text": [
      "Name:  Dr. Sai Kiran\n",
      "Speciality:  General Physician\n",
      "Rating not available.\n",
      "Votes are not available.\n",
      "Address:  Survey Number 60 & 70, Plot Number 149 & 150, Hanuman Nagar, Raghavendra Colony, Hyderabad\n",
      "https://google.com/search?q=dr+shankar++k+skin+glow+skin,+hair+&+cosmetic+clinics+hyderabad\n",
      "https://www.practo.com/hyderabad/doctor/dr-shankar-61-dermatologist-2&sa=U&ved=2ahUKEwi6hbn7xfr5AhWbH7kGHXa8DIAQFnoECAEQAg&usg=AOvVaw0m-EFdl0PHgpJt27tdOeB6\n",
      "['https://www.practo.com/hyderabad/doctor/dr-shankar-61-dermatologist-2', 'sa=U', 'ved=2ahUKEwi6hbn7xfr5AhWbH7kGHXa8DIAQFnoECAEQAg', 'usg=AOvVaw0m-EFdl0PHgpJt27tdOeB6']\n",
      "Link searched for:  https://www.practo.com/hyderabad/doctor/dr-shankar-61-dermatologist-2\n",
      "**************************************************\n"
     ]
    },
    {
     "name": "stderr",
     "output_type": "stream",
     "text": [
      "\r",
      " 15%|█████▊                                | 264/1715 [15:07<1:34:01,  3.89s/it]"
     ]
    },
    {
     "name": "stdout",
     "output_type": "stream",
     "text": [
      "Name:  Dr. Shankar\n",
      "Speciality:  Dermatologist\n",
      "Rating not available.\n",
      "Votes are not available.\n",
      "Address:  L.R complex, 1 st Floor, Near priyadarshini restaurant, Suchitra X raod, Jeedimetla, Hyderabad\n",
      "https://google.com/search?q=dr+dishita+reddy+dishita+children's+clinic+hyderabad\n",
      "https://www.practo.com/hyderabad/doctor/dr-p-sreedhar-reddy-pediatrician&sa=U&ved=2ahUKEwiFms_9xfr5AhXRD7kGHZCEBcgQFnoECAIQAg&usg=AOvVaw0NDI5B0E3TG0FpNrtGG4qH\n",
      "['https://www.practo.com/hyderabad/doctor/dr-p-sreedhar-reddy-pediatrician', 'sa=U', 'ved=2ahUKEwiFms_9xfr5AhXRD7kGHZCEBcgQFnoECAIQAg', 'usg=AOvVaw0NDI5B0E3TG0FpNrtGG4qH']\n",
      "Link searched for:  https://www.practo.com/hyderabad/doctor/dr-p-sreedhar-reddy-pediatrician\n",
      "**************************************************\n"
     ]
    },
    {
     "name": "stderr",
     "output_type": "stream",
     "text": [
      "\r",
      " 15%|█████▊                                | 265/1715 [15:11<1:39:41,  4.13s/it]"
     ]
    },
    {
     "name": "stdout",
     "output_type": "stream",
     "text": [
      "Name:  Dr. P. Sreedhar Reddy\n",
      "Speciality:  Pediatrician\n",
      "Rating not available.\n",
      "Votes are not available.\n",
      "Address:  House Number 1-54/1/25, R.K Nager, Landmark: Beside Bharat Petrol Pump, Hyderabad\n",
      "https://google.com/search?q=dr+sitaram+m+tenet+diagnostics+hyderabad\n"
     ]
    },
    {
     "name": "stderr",
     "output_type": "stream",
     "text": [
      "\r",
      " 16%|█████▉                                | 266/1715 [15:13<1:24:09,  3.49s/it]"
     ]
    },
    {
     "name": "stdout",
     "output_type": "stream",
     "text": [
      "Couldn't find any practo links.\n",
      "https://google.com/search?q=dr+charitha+reddy+sri+krishna+skin+and+heart+care+centre+hyderabad\n"
     ]
    },
    {
     "name": "stderr",
     "output_type": "stream",
     "text": [
      "\r",
      " 16%|█████▉                                | 267/1715 [15:16<1:16:13,  3.16s/it]"
     ]
    },
    {
     "name": "stdout",
     "output_type": "stream",
     "text": [
      "Couldn't find any practo links.\n",
      "https://google.com/search?q=dr+anand++c+palwai+ent+clinic+hyderabad\n",
      "https://www.practo.com/hyderabad/clinic/dr-c-anand-kumar-nallakunta&sa=U&ved=2ahUKEwips_iBxvr5AhUjCrkGHcB6DYEQFnoECAkQAg&usg=AOvVaw1B4dj8ZSOxC8gChtR81mgL\n",
      "['https://www.practo.com/hyderabad/clinic/dr-c-anand-kumar-nallakunta', 'sa=U', 'ved=2ahUKEwips_iBxvr5AhUjCrkGHcB6DYEQFnoECAkQAg', 'usg=AOvVaw1B4dj8ZSOxC8gChtR81mgL']\n",
      "Link searched for:  https://www.practo.com/hyderabad/clinic/dr-c-anand-kumar-nallakunta\n",
      "**************************************************\n"
     ]
    },
    {
     "name": "stderr",
     "output_type": "stream",
     "text": [
      "\r",
      " 16%|█████▉                                | 268/1715 [15:19<1:12:56,  3.02s/it]"
     ]
    },
    {
     "name": "stdout",
     "output_type": "stream",
     "text": [
      "Name:  Palwai Ent Clinic\n",
      "Speciality:  Otorhinolaringology Clinic\n",
      "Rating not available.\n",
      "Votes are not available.\n",
      "Address:  Nallakunta Veg Market, Landmark: Near Balaji Famaliy Dhaba & Opposite To Axis Bank, Hyderabad\n",
      "https://google.com/search?q=dr+satyanath+rv+patnaik's+skin+clinic+and+laser+centre+hyderabad\n",
      "https://www.practo.com/hyderabad/clinic/patnaiks-skin-clinic-and-laser-center-erragadda&sa=U&ved=2ahUKEwiMjZ6Dxvr5AhUDK7kGHQH6CNoQFnoECAkQAg&usg=AOvVaw2A5NiM636AyK-zsH8Vdgt_\n",
      "['https://www.practo.com/hyderabad/clinic/patnaiks-skin-clinic-and-laser-center-erragadda', 'sa=U', 'ved=2ahUKEwiMjZ6Dxvr5AhUDK7kGHQH6CNoQFnoECAkQAg', 'usg=AOvVaw2A5NiM636AyK-zsH8Vdgt_']\n",
      "Link searched for:  https://www.practo.com/hyderabad/clinic/patnaiks-skin-clinic-and-laser-center-erragadda\n",
      "**************************************************\n"
     ]
    },
    {
     "name": "stderr",
     "output_type": "stream",
     "text": [
      "\r",
      " 16%|█████▉                                | 269/1715 [15:22<1:14:59,  3.11s/it]"
     ]
    },
    {
     "name": "stdout",
     "output_type": "stream",
     "text": [
      "Name:  Patnaik's Skin Clinic And Laser Center\n",
      "Speciality:  Dermatology Clinic\n",
      "Rating:  4.0\n",
      "Name:  (1321 patient stories)\n",
      "Address:  12 & 13 G,Ground Floor, Bhanu Enclave, S.R. Nagar, Landmark: Beside Bajaj Showroom, Hyderabad\n",
      "https://google.com/search?q=dr+som+nanu+swikriti+childrens+clinic+hyderabad\n",
      "https://www.practo.com/hyderabad/doctor/nanu-som-pediatrician&sa=U&ved=2ahUKEwiUvuiExvr5AhWhBtQKHb0sBtkQFnoECAgQAg&usg=AOvVaw0gRXNXGLY5zSy4NsYpn9E0\n",
      "['https://www.practo.com/hyderabad/doctor/nanu-som-pediatrician', 'sa=U', 'ved=2ahUKEwiUvuiExvr5AhWhBtQKHb0sBtkQFnoECAgQAg', 'usg=AOvVaw0gRXNXGLY5zSy4NsYpn9E0']\n",
      "Link searched for:  https://www.practo.com/hyderabad/doctor/nanu-som-pediatrician\n",
      "**************************************************\n"
     ]
    },
    {
     "name": "stderr",
     "output_type": "stream",
     "text": [
      "\r",
      " 16%|█████▉                                | 270/1715 [15:26<1:20:26,  3.34s/it]"
     ]
    },
    {
     "name": "stdout",
     "output_type": "stream",
     "text": [
      "Name:  Dr. Nanu Som\n",
      "Speciality:  Pediatrician\n",
      "Rating:  100% \n",
      "Name:  (13 votes)\n",
      "Address:  Meenakshi Estates Colony, Jeedimetla, Landmark: Lane Beside Old Deewan Dhaba & Near Bajaj Electonics., Hyderabad\n",
      "https://google.com/search?q=dr+kiran+adabala+aaditya+hospital+hyderabad\n",
      "https://www.practo.com/hyderabad/doctor/dr-kiran-adabala-neurologist-1&sa=U&ved=2ahUKEwixwNSGxvr5AhXkO7kGHYm8BfsQFnoECAQQAg&usg=AOvVaw06lbwxrmftfmVbp3I03bJg\n",
      "['https://www.practo.com/hyderabad/doctor/dr-kiran-adabala-neurologist-1', 'sa=U', 'ved=2ahUKEwixwNSGxvr5AhXkO7kGHYm8BfsQFnoECAQQAg', 'usg=AOvVaw06lbwxrmftfmVbp3I03bJg']\n",
      "Link searched for:  https://www.practo.com/hyderabad/doctor/dr-kiran-adabala-neurologist-1\n",
      "**************************************************\n"
     ]
    },
    {
     "name": "stderr",
     "output_type": "stream",
     "text": [
      "\r",
      " 16%|██████                                | 271/1715 [15:30<1:26:33,  3.60s/it]"
     ]
    },
    {
     "name": "stdout",
     "output_type": "stream",
     "text": [
      "Name:  Dr. Kiran Adabala\n",
      "Speciality is not available.\n",
      "Rating not available.\n",
      "Votes are not available.\n",
      "Address:  G 7,Vaishnavi Arcade, Saraswathi Nagar Colony, Lothkunta, Behind Narthaki Tiffins,Secunderabad, Hyderabad\n",
      "https://google.com/search?q=dr+kiran+kumar+a+hair+and+skin+clinic+hyderabad\n",
      "https://www.practo.com/hyderabad/doctor/kiran-kumar-dermatologist-cosmetologist&sa=U&ved=2ahUKEwi99tSIxvr5AhVJHrkGHbV8B3YQFnoECAkQAg&usg=AOvVaw0426eLZZES2j_MLh5xKP5x\n",
      "['https://www.practo.com/hyderabad/doctor/kiran-kumar-dermatologist-cosmetologist', 'sa=U', 'ved=2ahUKEwi99tSIxvr5AhVJHrkGHbV8B3YQFnoECAkQAg', 'usg=AOvVaw0426eLZZES2j_MLh5xKP5x']\n",
      "Link searched for:  https://www.practo.com/hyderabad/doctor/kiran-kumar-dermatologist-cosmetologist\n",
      "**************************************************\n"
     ]
    },
    {
     "name": "stderr",
     "output_type": "stream",
     "text": [
      "\r",
      " 16%|██████                                | 272/1715 [15:35<1:36:51,  4.03s/it]"
     ]
    },
    {
     "name": "stdout",
     "output_type": "stream",
     "text": [
      "Name:  Dr. A.Kiran Kumar\n",
      "Speciality:  Dermatologist\n",
      "Rating:  96% \n",
      "Name:  (25 votes)\n",
      "https://google.com/search?q=dr+bharathkanth++reddy+srujana+hospital+hyderabad\n",
      "https://www.practo.com/hyderabad/doctor/dr-bharath-kanth-reddy-general-physician&sa=U&ved=2ahUKEwjFyoeLxvr5AhXlDdQKHQ5pAlkQFnoECAkQAg&usg=AOvVaw0AZAAirPMHK_iJxnLfY6OM\n",
      "['https://www.practo.com/hyderabad/doctor/dr-bharath-kanth-reddy-general-physician', 'sa=U', 'ved=2ahUKEwjFyoeLxvr5AhXlDdQKHQ5pAlkQFnoECAkQAg', 'usg=AOvVaw0AZAAirPMHK_iJxnLfY6OM']\n",
      "Link searched for:  https://www.practo.com/hyderabad/doctor/dr-bharath-kanth-reddy-general-physician\n",
      "**************************************************\n"
     ]
    },
    {
     "name": "stderr",
     "output_type": "stream",
     "text": [
      "\r",
      " 16%|██████                                | 273/1715 [15:39<1:37:25,  4.05s/it]"
     ]
    },
    {
     "name": "stdout",
     "output_type": "stream",
     "text": [
      "Name:  Dr. Bharath Kanth Reddy\n",
      "Speciality:  General Physician\n",
      "Rating:  87% \n",
      "Name:  (15 votes)\n",
      "Address:  Plot No 8, Nidhin Plaza, Jayaram Nagar, Landmark: Opposite Chermas Jeans Industry and Beside HP Petrol Pump, Hyderabad\n",
      "https://google.com/search?q=dr+naresh+gundapaneni+renova+hospitals+hyderabad\n"
     ]
    },
    {
     "name": "stderr",
     "output_type": "stream",
     "text": [
      "\r",
      " 16%|██████                                | 274/1715 [15:41<1:24:02,  3.50s/it]"
     ]
    },
    {
     "name": "stdout",
     "output_type": "stream",
     "text": [
      "Couldn't find any practo links.\n",
      "https://google.com/search?q=dr+firdaus+fatima+ab+rheumatology+center+hyderabad\n",
      "https://www.practo.com/hyderabad/doctor/dr-firdaus-fatima&sa=U&ved=2ahUKEwjF0YmOxvr5AhXjBbkGHRgWCbUQFnoECAgQAg&usg=AOvVaw3Ekw6-HmLLotvTCDebAaRD\n",
      "['https://www.practo.com/hyderabad/doctor/dr-firdaus-fatima', 'sa=U', 'ved=2ahUKEwjF0YmOxvr5AhXjBbkGHRgWCbUQFnoECAgQAg', 'usg=AOvVaw3Ekw6-HmLLotvTCDebAaRD']\n",
      "Link searched for:  https://www.practo.com/hyderabad/doctor/dr-firdaus-fatima\n",
      "**************************************************\n"
     ]
    },
    {
     "name": "stderr",
     "output_type": "stream",
     "text": [
      "\r",
      " 16%|██████                                | 275/1715 [15:44<1:21:43,  3.41s/it]"
     ]
    },
    {
     "name": "stdout",
     "output_type": "stream",
     "text": [
      "Name:  Dr. Firdaus Fatima\n",
      "Speciality is not available.\n",
      "Rating:  86% \n",
      "Name:  (44 votes)\n",
      "Address:  5-9-1032/2, Baig Manzil, Hyderguda, Landmark: Near Hyderguda Masjid Lane, Hyderabad\n",
      "https://google.com/search?q=dr+sambasivarao+cheruvu+ss+heartcare+clinic+hyderabad\n"
     ]
    },
    {
     "name": "stderr",
     "output_type": "stream",
     "text": [
      "\r",
      " 16%|██████                                | 276/1715 [15:46<1:11:38,  2.99s/it]"
     ]
    },
    {
     "name": "stdout",
     "output_type": "stream",
     "text": [
      "Couldn't find any practo links.\n",
      "https://google.com/search?q=dr+rajesh+vukkala+rajeshvukkula+hyderabad\n",
      "https://www.practo.com/hyderabad/doctor/dr-rajesh-vukkala-general-physician&sa=U&ved=2ahUKEwich8eQxvr5AhVoLbkGHQH8DUwQFnoECAMQAg&usg=AOvVaw0bd0zW63OypSf6WS608TT1\n",
      "['https://www.practo.com/hyderabad/doctor/dr-rajesh-vukkala-general-physician', 'sa=U', 'ved=2ahUKEwich8eQxvr5AhVoLbkGHQH8DUwQFnoECAMQAg', 'usg=AOvVaw0bd0zW63OypSf6WS608TT1']\n",
      "Link searched for:  https://www.practo.com/hyderabad/doctor/dr-rajesh-vukkala-general-physician\n",
      "**************************************************\n"
     ]
    },
    {
     "name": "stderr",
     "output_type": "stream",
     "text": [
      "\r",
      " 16%|██████▏                               | 277/1715 [15:50<1:14:39,  3.11s/it]"
     ]
    },
    {
     "name": "stdout",
     "output_type": "stream",
     "text": [
      "Name:  Dr. Rajesh Vukkala\n",
      "Speciality:  General Physician\n",
      "Rating:  98% \n",
      "Name:  (100 votes)\n",
      "Address:  1-10-87, Lane 5, Street # 3, Mayuri Marg, Begumpet,, Hyderabad, Hyderabad\n",
      "https://google.com/search?q=dr+payal+bhargava+praanadah+hospital+hyderabad\n",
      "https://www.practo.com/hyderabad/doctor/dr-payal-bhargava-gynecologist-obstetrician-1&sa=U&ved=2ahUKEwiupJeSxvr5AhWkB7kGHZy-CZIQFnoECAIQAg&usg=AOvVaw0gMKjs2NnyCOjwXyjTDm6U\n",
      "['https://www.practo.com/hyderabad/doctor/dr-payal-bhargava-gynecologist-obstetrician-1', 'sa=U', 'ved=2ahUKEwiupJeSxvr5AhWkB7kGHZy-CZIQFnoECAIQAg', 'usg=AOvVaw0gMKjs2NnyCOjwXyjTDm6U']\n",
      "Link searched for:  https://www.practo.com/hyderabad/doctor/dr-payal-bhargava-gynecologist-obstetrician-1\n",
      "**************************************************\n"
     ]
    },
    {
     "name": "stderr",
     "output_type": "stream",
     "text": [
      "\r",
      " 16%|██████▏                               | 278/1715 [15:53<1:17:57,  3.25s/it]"
     ]
    },
    {
     "name": "stdout",
     "output_type": "stream",
     "text": [
      "Name:  Dr. Payal Bhargava\n",
      "Speciality:  Obstetrician\n",
      "Rating not available.\n",
      "Votes are not available.\n",
      "https://google.com/search?q=dr+hari+kiran++p+v+s+c+kiran+heart+care,+kompally+hyderabad\n"
     ]
    },
    {
     "name": "stderr",
     "output_type": "stream",
     "text": [
      "\r",
      " 16%|██████▏                               | 279/1715 [15:56<1:11:41,  3.00s/it]"
     ]
    },
    {
     "name": "stdout",
     "output_type": "stream",
     "text": [
      "Couldn't find any practo links.\n",
      "https://google.com/search?q=dr+anand+reddy+b+smilenglow+skin+and+dental+hospital+hyderabad\n",
      "https://www.practo.com/hyderabad/doctor/b-anand-reddy-dermatologist&sa=U&ved=2ahUKEwiT1YOVxvr5AhWPFLkGHanSCdsQFnoECAgQAg&usg=AOvVaw2uKvxDXzeg3iuc1k0N8ViK\n",
      "['https://www.practo.com/hyderabad/doctor/b-anand-reddy-dermatologist', 'sa=U', 'ved=2ahUKEwiT1YOVxvr5AhWPFLkGHanSCdsQFnoECAgQAg', 'usg=AOvVaw2uKvxDXzeg3iuc1k0N8ViK']\n",
      "Link searched for:  https://www.practo.com/hyderabad/doctor/b-anand-reddy-dermatologist\n",
      "**************************************************\n"
     ]
    },
    {
     "name": "stderr",
     "output_type": "stream",
     "text": [
      "\r",
      " 16%|██████▏                               | 280/1715 [16:00<1:16:48,  3.21s/it]"
     ]
    },
    {
     "name": "stdout",
     "output_type": "stream",
     "text": [
      "Name:  Dr. B Anand\n",
      "Speciality:  Dermatologist\n",
      "Rating:  97% \n",
      "Name:  (257 votes)\n",
      "Address:  Plot Number 177, 3rd Floor, Ritesh Premier Towers, above santosh dhaba, Landmark: Opposite Karkhana Police Station and Above Santosh Dhabha, Hyderabad\n",
      "https://google.com/search?q=dr+roshan+kosuri+dr.jeevan's+maruthi+clinic+visakhapatnam\n"
     ]
    },
    {
     "name": "stderr",
     "output_type": "stream",
     "text": [
      "\r",
      " 16%|██████▏                               | 281/1715 [16:01<1:05:00,  2.72s/it]"
     ]
    },
    {
     "name": "stdout",
     "output_type": "stream",
     "text": [
      "Couldn't find any practo links.\n",
      "https://google.com/search?q=dr+v++srinivasa+rao+satya+srinivas+gastro+&+gynaec+care+visakhapatnam\n"
     ]
    },
    {
     "name": "stderr",
     "output_type": "stream",
     "text": [
      "\r",
      " 16%|██████▏                               | 282/1715 [16:04<1:04:52,  2.72s/it]"
     ]
    },
    {
     "name": "stdout",
     "output_type": "stream",
     "text": [
      "Couldn't find any practo links.\n",
      "https://google.com/search?q=dr+kaushik+reddy+m+dr+kaushik+reddy+|+orthopedic+surgeon+|+bone+&+joint+clinic+hyderabad\n",
      "https://www.practo.com/hyderabad/doctor/dr-m-kaushik-reddy-orthopedist-1&sa=U&ved=2ahUKEwjNz-uYxvr5AhUwK7kGHaBSBW0QFnoECAYQAg&usg=AOvVaw1x6P2DMJG-9M7m1kj5EnKj\n",
      "['https://www.practo.com/hyderabad/doctor/dr-m-kaushik-reddy-orthopedist-1', 'sa=U', 'ved=2ahUKEwjNz-uYxvr5AhUwK7kGHaBSBW0QFnoECAYQAg', 'usg=AOvVaw1x6P2DMJG-9M7m1kj5EnKj']\n",
      "Link searched for:  https://www.practo.com/hyderabad/doctor/dr-m-kaushik-reddy-orthopedist-1\n",
      "**************************************************\n"
     ]
    },
    {
     "name": "stderr",
     "output_type": "stream",
     "text": [
      "\r",
      " 17%|██████▎                               | 283/1715 [16:08<1:17:43,  3.26s/it]"
     ]
    },
    {
     "name": "stdout",
     "output_type": "stream",
     "text": [
      "Name:  Dr. M.Kaushik Reddy\n",
      "Speciality:  Orthopedist\n",
      "Rating:  95% \n",
      "Name:  (100 votes)\n",
      "Address:  1-7-314, Chaitanyapuri, Landmark: Swapna Hospital, Opp State Bank of Hyderabad & Lane Beside Khazana Jewellers, Hyderabad\n",
      "https://google.com/search?q=dr+k+v+rao+dr.+k.+v.+rao's+clinic+hyderabad\n",
      "https://www.practo.com/hyderabad/clinic/dr-k-v-rao-s-clinic-somajiguda&sa=U&ved=2ahUKEwi8zf-axvr5AhWYD7kGHWQpBFAQFnoECAkQAg&usg=AOvVaw2wvSJ-VrJBLbEoL5TCMXiU\n",
      "['https://www.practo.com/hyderabad/clinic/dr-k-v-rao-s-clinic-somajiguda', 'sa=U', 'ved=2ahUKEwi8zf-axvr5AhWYD7kGHWQpBFAQFnoECAkQAg', 'usg=AOvVaw2wvSJ-VrJBLbEoL5TCMXiU']\n",
      "Link searched for:  https://www.practo.com/hyderabad/clinic/dr-k-v-rao-s-clinic-somajiguda\n",
      "**************************************************\n"
     ]
    },
    {
     "name": "stderr",
     "output_type": "stream",
     "text": [
      "\r",
      " 17%|██████▎                               | 284/1715 [16:12<1:19:10,  3.32s/it]"
     ]
    },
    {
     "name": "stdout",
     "output_type": "stream",
     "text": [
      "Name:  Dr. K. V. Rao's Clinic\n",
      "Speciality:  General Health Clinic\n",
      "Rating not available.\n",
      "Votes are not available.\n",
      "Address:  #Panjagutta Lane, LAndmark: Opposite Model House., Hyderabad\n",
      "https://google.com/search?q=dr+vvg+mohan+visakha+children+hospital+visakhapatnam\n"
     ]
    },
    {
     "name": "stderr",
     "output_type": "stream",
     "text": [
      "\r",
      " 17%|██████▎                               | 285/1715 [16:14<1:09:42,  2.92s/it]"
     ]
    },
    {
     "name": "stdout",
     "output_type": "stream",
     "text": [
      "Couldn't find any practo links.\n",
      "https://google.com/search?q=dr+krishna+prasad++anne+pranam+hospital+hyderabad\n",
      "https://www.practo.com/hyderabad/doctor/dr-krishna-prasad-anne-diabetologist&sa=U&ved=2ahUKEwj-ts2dxvr5AhXaGLkGHVnJDGUQFnoECAoQAg&usg=AOvVaw3wtZ-2waGJJ5Hh0QQQyD0T\n",
      "['https://www.practo.com/hyderabad/doctor/dr-krishna-prasad-anne-diabetologist', 'sa=U', 'ved=2ahUKEwj-ts2dxvr5AhXaGLkGHVnJDGUQFnoECAoQAg', 'usg=AOvVaw3wtZ-2waGJJ5Hh0QQQyD0T']\n",
      "Link searched for:  https://www.practo.com/hyderabad/doctor/dr-krishna-prasad-anne-diabetologist\n",
      "**************************************************\n"
     ]
    },
    {
     "name": "stderr",
     "output_type": "stream",
     "text": [
      "\r",
      " 17%|██████▎                               | 286/1715 [16:18<1:15:59,  3.19s/it]"
     ]
    },
    {
     "name": "stdout",
     "output_type": "stream",
     "text": [
      "Name:  Dr. Krishna Prasad Anne\n",
      "Speciality:  General Physician\n",
      "Rating:  4.5\n",
      "Votes are not available.\n",
      "Address:  House Number 1-120/3, Plot Number 3, Survey Number 64, Landmark: Behind Karachi Bakery, Hyderabad\n",
      "https://google.com/search?q=dr+sudhir+reddy+++++++++++++++++++++++++++++k+landmark+hospitals+hyderabad\n",
      "https://www.practo.com/hyderabad/doctor/dr-k-sudhir-reddy-orthopedist&sa=U&ved=2ahUKEwioiLafxvr5AhUrGbkGHXBgAhgQFnoECAgQAg&usg=AOvVaw2p7cPgMaXbaBExSAoU2Ov1\n",
      "['https://www.practo.com/hyderabad/doctor/dr-k-sudhir-reddy-orthopedist', 'sa=U', 'ved=2ahUKEwioiLafxvr5AhUrGbkGHXBgAhgQFnoECAgQAg', 'usg=AOvVaw2p7cPgMaXbaBExSAoU2Ov1']\n",
      "Link searched for:  https://www.practo.com/hyderabad/doctor/dr-k-sudhir-reddy-orthopedist\n",
      "**************************************************\n"
     ]
    },
    {
     "name": "stderr",
     "output_type": "stream",
     "text": [
      "\r",
      " 17%|██████▎                               | 287/1715 [16:22<1:23:58,  3.53s/it]"
     ]
    },
    {
     "name": "stdout",
     "output_type": "stream",
     "text": [
      "Name:  Dr. K Sudhir Reddy\n",
      "Speciality:  Orthopedist\n",
      "Rating:  95% \n",
      "Name:  (1426 votes)\n",
      "Address:  2, Hyder Nagar Main Road, Nizampet Crossroad, Landmark: Near Metro Railway Station & Opposite Vasanth Nagar Arch, Hyderabad\n",
      "https://google.com/search?q=dr+g+umamaheswara+rao+sri+sai+durga+nursing+home+visakhapatnam\n"
     ]
    },
    {
     "name": "stderr",
     "output_type": "stream",
     "text": [
      "\r",
      " 17%|██████▍                               | 288/1715 [16:26<1:28:10,  3.71s/it]"
     ]
    },
    {
     "name": "stdout",
     "output_type": "stream",
     "text": [
      "Couldn't find any practo links.\n",
      "https://google.com/search?q=dr+naga+murali+k+dr+murali+heart+care+hyderabad\n",
      "https://www.practo.com/hyderabad/doctor/dr-k-naga-murali-cardiologist&sa=U&ved=2ahUKEwidw7mjxvr5AhVnBrkGHaFFAPwQFnoECAkQAg&usg=AOvVaw3Xz6ytxqkxaiJ7bd71CYg_\n",
      "['https://www.practo.com/hyderabad/doctor/dr-k-naga-murali-cardiologist', 'sa=U', 'ved=2ahUKEwidw7mjxvr5AhVnBrkGHaFFAPwQFnoECAkQAg', 'usg=AOvVaw3Xz6ytxqkxaiJ7bd71CYg_']\n",
      "Link searched for:  https://www.practo.com/hyderabad/doctor/dr-k-naga-murali-cardiologist\n",
      "**************************************************\n"
     ]
    },
    {
     "name": "stderr",
     "output_type": "stream",
     "text": [
      "\r",
      " 17%|██████▍                               | 289/1715 [16:34<1:55:45,  4.87s/it]"
     ]
    },
    {
     "name": "stdout",
     "output_type": "stream",
     "text": [
      "Name:  Dr. K.Naga Murali\n",
      "Speciality:  Cardiologist\n",
      "Rating:  93% \n",
      "Name:  (56 votes)\n",
      "Address:  222, Mythri Nagar, Phase II, Madinaguda, Landmark: Near Reliance Fresh, Hyderabad\n",
      "https://google.com/search?q=dr+b+jaipal++reddy+jagannath+clinic+hyderabad\n",
      "https://www.practo.com/hyderabad/doctor/dr-jaipal-reddy-b-general-physician&sa=U&ved=2ahUKEwiB5oinxvr5AhUWLrkGHQapCTgQFnoECAAQAg&usg=AOvVaw1y7IIjjO0Z6s8OYS85Bs2h\n",
      "['https://www.practo.com/hyderabad/doctor/dr-jaipal-reddy-b-general-physician', 'sa=U', 'ved=2ahUKEwiB5oinxvr5AhUWLrkGHQapCTgQFnoECAAQAg', 'usg=AOvVaw1y7IIjjO0Z6s8OYS85Bs2h']\n",
      "Link searched for:  https://www.practo.com/hyderabad/doctor/dr-jaipal-reddy-b-general-physician\n",
      "**************************************************\n"
     ]
    },
    {
     "name": "stderr",
     "output_type": "stream",
     "text": [
      "\r",
      " 17%|██████▍                               | 290/1715 [16:38<1:49:34,  4.61s/it]"
     ]
    },
    {
     "name": "stdout",
     "output_type": "stream",
     "text": [
      "Name:  Dr. Jaipal Reddy B\n",
      "Speciality:  General Physician\n",
      "Rating:  3.5\n",
      "Votes are not available.\n",
      "Address:  11-9-46, Kothapet X Road, Dilsukh Nagar, Landmark: Opposite P V T Market, Hyderabad\n",
      "https://google.com/search?q=dr+sushma+j+jagannath+clinic+hyderabad\n"
     ]
    },
    {
     "name": "stderr",
     "output_type": "stream",
     "text": [
      "\r",
      " 17%|██████▍                               | 291/1715 [16:40<1:31:08,  3.84s/it]"
     ]
    },
    {
     "name": "stdout",
     "output_type": "stream",
     "text": [
      "Couldn't find any practo links.\n",
      "https://google.com/search?q=dr+r+l+praveen+sai+vihaan+gastro+and+liver+care+centre+visakhapatnam\n",
      "https://www.practo.com/visakhapatnam/clinic/polyclinic-above-amruth-vilas-hotel-old-gajuwaka-gajuwaka&sa=U&ved=2ahUKEwjU4vmpxvr5AhWAI7kGHaTaBAYQFnoECAMQAg&usg=AOvVaw284EL2NTYs-mNuESCpK4gI\n",
      "['https://www.practo.com/visakhapatnam/clinic/polyclinic-above-amruth-vilas-hotel-old-gajuwaka-gajuwaka', 'sa=U', 'ved=2ahUKEwjU4vmpxvr5AhWAI7kGHaTaBAYQFnoECAMQAg', 'usg=AOvVaw284EL2NTYs-mNuESCpK4gI']\n",
      "Link searched for:  https://www.practo.com/visakhapatnam/clinic/polyclinic-above-amruth-vilas-hotel-old-gajuwaka-gajuwaka\n",
      "**************************************************\n"
     ]
    },
    {
     "name": "stderr",
     "output_type": "stream",
     "text": [
      "\r",
      " 17%|██████▍                               | 292/1715 [16:44<1:32:47,  3.91s/it]"
     ]
    },
    {
     "name": "stdout",
     "output_type": "stream",
     "text": [
      "Name:  Sai Vihaan Gastro and Liver Care Centre\n",
      "Speciality:  Multi-speciality Clinic\n",
      "Rating not available.\n",
      "Votes are not available.\n",
      "Address:  410/A, Sector 5, Visakhapatnam\n",
      "https://google.com/search?q=dr+nikhil+immadi+anupama+hospital+hyderabad\n",
      "https://www.practo.com/hyderabad/doctor/immadi-nikhil-general-physician&sa=U&ved=2ahUKEwj7z_Orxvr5AhVFCNQKHaUBAskQFnoECAYQAg&usg=AOvVaw18gd4Ftic5r_FFmVQWBsZC\n",
      "['https://www.practo.com/hyderabad/doctor/immadi-nikhil-general-physician', 'sa=U', 'ved=2ahUKEwj7z_Orxvr5AhVFCNQKHaUBAskQFnoECAYQAg', 'usg=AOvVaw18gd4Ftic5r_FFmVQWBsZC']\n",
      "Link searched for:  https://www.practo.com/hyderabad/doctor/immadi-nikhil-general-physician\n",
      "**************************************************\n"
     ]
    },
    {
     "name": "stderr",
     "output_type": "stream",
     "text": [
      "\r",
      " 17%|██████▍                               | 293/1715 [16:49<1:40:51,  4.26s/it]"
     ]
    },
    {
     "name": "stdout",
     "output_type": "stream",
     "text": [
      "Name:  Dr. Immadi Nikhil\n",
      "Speciality:  General Physician\n",
      "Rating:  4.5\n",
      "Votes are not available.\n",
      "Address:  16-31/494 & 495, Phase 6, KPHB Colony,  JNTUC Road, Kukatpally, Landmark: Near To JNT University & Adjacent  To Malaysia Township, Hyderabad\n",
      "https://google.com/search?q=dr+teki+satya+sri+uday+skin+clinic+hyderabad\n",
      "https://www.practo.com/hyderabad/doctor/teki-satya-sri-dermatologist-cosmetologist&sa=U&ved=2ahUKEwjPr6iuxvr5AhWHF7kGHbe_C0YQFnoECAgQAg&usg=AOvVaw3saPIFqp8DtT0pLPjWfrV0\n",
      "['https://www.practo.com/hyderabad/doctor/teki-satya-sri-dermatologist-cosmetologist', 'sa=U', 'ved=2ahUKEwjPr6iuxvr5AhWHF7kGHbe_C0YQFnoECAgQAg', 'usg=AOvVaw3saPIFqp8DtT0pLPjWfrV0']\n",
      "Link searched for:  https://www.practo.com/hyderabad/doctor/teki-satya-sri-dermatologist-cosmetologist\n",
      "**************************************************\n"
     ]
    },
    {
     "name": "stderr",
     "output_type": "stream",
     "text": [
      "\r",
      " 17%|██████▌                               | 294/1715 [16:53<1:39:11,  4.19s/it]"
     ]
    },
    {
     "name": "stdout",
     "output_type": "stream",
     "text": [
      "Name:  Dr. Teki Satya Sri\n",
      "Speciality:  Dermatologist\n",
      "Rating:  90% \n",
      "Name:  (20 votes)\n",
      "Address:  SR Nagar, Landmark: Opposite To Sowmya Children Hospital  and Behind Axis Bank., Hyderabad\n",
      "https://google.com/search?q=dr+t+vinay+kumar+sri+satya+aashrita+skin,+v.d.,+hair+&+cosmetology+clinic+visakhapatnam\n",
      "https://www.practo.com/visakhapatnam/doctor/theeda-vinay-kumar-dermatologist&sa=U&ved=2ahUKEwifvp6wxvr5AhVGLbkGHdTNB38QFnoECAQQAg&usg=AOvVaw1Ws9W6ORgCNkM4GErK_Kmt\n",
      "['https://www.practo.com/visakhapatnam/doctor/theeda-vinay-kumar-dermatologist', 'sa=U', 'ved=2ahUKEwifvp6wxvr5AhVGLbkGHdTNB38QFnoECAQQAg', 'usg=AOvVaw1Ws9W6ORgCNkM4GErK_Kmt']\n",
      "Link searched for:  https://www.practo.com/visakhapatnam/doctor/theeda-vinay-kumar-dermatologist\n",
      "**************************************************\n"
     ]
    },
    {
     "name": "stderr",
     "output_type": "stream",
     "text": [
      "\r",
      " 17%|██████▌                               | 295/1715 [16:56<1:35:09,  4.02s/it]"
     ]
    },
    {
     "name": "stdout",
     "output_type": "stream",
     "text": [
      "Name:  Dr. Theeda Vinay Kumar\n",
      "Speciality:  Dermatologist\n",
      "Rating not available.\n",
      "Votes are not available.\n",
      "Address:  8-12-34,1st Floor, Sudhakar Dental Clinic Building, Old Gajuwaka, Landmark: Opposite MVR Mall, Visakhapatnam\n",
      "https://google.com/search?q=dr+kavitha+gone+bright+kidney+centre+hyderabad\n",
      "https://www.practo.com/hyderabad/doctor/dr-kavitha-gone-nephrologist&sa=U&ved=2ahUKEwiX3fuxxvr5AhXhCLkGHWHcDRkQFnoECAgQAg&usg=AOvVaw1znFevBVHwB440zTuv5Xzj\n",
      "['https://www.practo.com/hyderabad/doctor/dr-kavitha-gone-nephrologist', 'sa=U', 'ved=2ahUKEwiX3fuxxvr5AhXhCLkGHWHcDRkQFnoECAgQAg', 'usg=AOvVaw1znFevBVHwB440zTuv5Xzj']\n",
      "Link searched for:  https://www.practo.com/hyderabad/doctor/dr-kavitha-gone-nephrologist\n",
      "**************************************************\n"
     ]
    },
    {
     "name": "stderr",
     "output_type": "stream",
     "text": [
      "\r",
      " 17%|██████▌                               | 296/1715 [17:00<1:29:49,  3.80s/it]"
     ]
    },
    {
     "name": "stdout",
     "output_type": "stream",
     "text": [
      "Name:  Dr. Kavitha Gone\n",
      "Speciality:  Nephrologist/Renal Specialist\n",
      "Rating:  89% \n",
      "Name:  (28 votes)\n",
      "Address:  Unit-401, Essen Presidential, Golden Mile Road, Landmark: Opposite to Rajapushpa Atria, Hyderabad\n",
      "https://google.com/search?q=dr+r++satyavathi+satya+srinivas+gastro+&+gynaec+care+visakhapatnam\n",
      "https://www.practo.com/hyderabad/clinic/srinivas-gastro-and-liver-clinic-kukatpally&sa=U&ved=2ahUKEwiJvMOzxvr5AhXDB9QKHf6FBkYQFnoECAYQAg&usg=AOvVaw3WHom-clsqyN4rARkK9zXF\n",
      "['https://www.practo.com/hyderabad/clinic/srinivas-gastro-and-liver-clinic-kukatpally', 'sa=U', 'ved=2ahUKEwiJvMOzxvr5AhXDB9QKHf6FBkYQFnoECAYQAg', 'usg=AOvVaw3WHom-clsqyN4rARkK9zXF']\n",
      "Link searched for:  https://www.practo.com/hyderabad/clinic/srinivas-gastro-and-liver-clinic-kukatpally\n",
      "**************************************************\n"
     ]
    },
    {
     "name": "stderr",
     "output_type": "stream",
     "text": [
      "\r",
      " 17%|██████▌                               | 297/1715 [17:03<1:27:01,  3.68s/it]"
     ]
    },
    {
     "name": "stdout",
     "output_type": "stream",
     "text": [
      "Name:  Srinivas Gastro and Liver clinic\n",
      "Speciality:  Gastroenterology and Gastroenterology-Hepatology Clinic\n",
      "Rating not available.\n",
      "Votes are not available.\n",
      "Address:  MIG - 303, Surya Towers, Road Number- 4, Hyderabad\n",
      "https://google.com/search?q=dr+g+r+murthy+model+family+clinic+hyderabad\n",
      "https://www.practo.com/hyderabad/doctor/dr-g-r-murthy-general-physician&sa=U&ved=2ahUKEwj0xpS1xvr5AhWCD7kGHfuzAisQFnoECAMQAg&usg=AOvVaw3OxssjN8vUgd6sKa9urtJk\n",
      "['https://www.practo.com/hyderabad/doctor/dr-g-r-murthy-general-physician', 'sa=U', 'ved=2ahUKEwj0xpS1xvr5AhWCD7kGHfuzAisQFnoECAMQAg', 'usg=AOvVaw3OxssjN8vUgd6sKa9urtJk']\n",
      "Link searched for:  https://www.practo.com/hyderabad/doctor/dr-g-r-murthy-general-physician\n",
      "**************************************************\n"
     ]
    },
    {
     "name": "stderr",
     "output_type": "stream",
     "text": [
      "\r",
      " 17%|██████▌                               | 298/1715 [17:09<1:40:06,  4.24s/it]"
     ]
    },
    {
     "name": "stdout",
     "output_type": "stream",
     "text": [
      "Name:  Dr. G.R.Murthy\n",
      "Speciality:  General Physician\n",
      "Rating not available.\n",
      "Votes are not available.\n",
      "Address:  #Punjagutta Lane, Landmark: Opp.Model House., Hyderabad\n",
      "https://google.com/search?q=dr+kishore+kumar+reddy+kk+reddy++hospital+hyderabad\n",
      "https://www.practo.com/hyderabad/doctor/dr-kishore-kumar-5-general-physician&sa=U&ved=2ahUKEwiS5-a3xvr5AhUZG7kGHWk1C1gQFnoECAIQAg&usg=AOvVaw1cL8toNuVcUThdqxQXDOFx\n",
      "['https://www.practo.com/hyderabad/doctor/dr-kishore-kumar-5-general-physician', 'sa=U', 'ved=2ahUKEwiS5-a3xvr5AhUZG7kGHWk1C1gQFnoECAIQAg', 'usg=AOvVaw1cL8toNuVcUThdqxQXDOFx']\n",
      "Link searched for:  https://www.practo.com/hyderabad/doctor/dr-kishore-kumar-5-general-physician\n",
      "**************************************************\n"
     ]
    },
    {
     "name": "stderr",
     "output_type": "stream",
     "text": [
      "\r",
      " 17%|██████▋                               | 299/1715 [17:13<1:40:54,  4.28s/it]"
     ]
    },
    {
     "name": "stdout",
     "output_type": "stream",
     "text": [
      "Name:  Dr. Kishore Kumar\n",
      "Speciality:  General Physician\n",
      "Rating not available.\n",
      "Votes are not available.\n",
      "https://google.com/search?q=dr+k+sadandam+sadanand+nursing+home+hyderabad\n"
     ]
    },
    {
     "name": "stderr",
     "output_type": "stream",
     "text": [
      "\r",
      " 17%|██████▋                               | 300/1715 [17:15<1:22:34,  3.50s/it]"
     ]
    },
    {
     "name": "stdout",
     "output_type": "stream",
     "text": [
      "Couldn't find any practo links.\n",
      "https://google.com/search?q=dr+archana+daftardar+dr+archana's+kidney+clinic+hyderabad\n"
     ]
    },
    {
     "name": "stderr",
     "output_type": "stream",
     "text": [
      "\r",
      " 18%|██████▋                               | 301/1715 [17:19<1:24:46,  3.60s/it]"
     ]
    },
    {
     "name": "stdout",
     "output_type": "stream",
     "text": [
      "Couldn't find any practo links.\n",
      "https://google.com/search?q=dr+praveen++++k+dr+praveen+breath+easy+lung+care+center+hyderabad\n",
      "https://www.practo.com/hyderabad/clinic/dr-praveen-s-breath-easy-clinic-kphb&sa=U&ved=2ahUKEwi5g8G8xvr5AhXSFbkGHUpXBSMQFnoECAkQAg&usg=AOvVaw1DJOSrL12UYwaLBkEYBIhz\n",
      "['https://www.practo.com/hyderabad/clinic/dr-praveen-s-breath-easy-clinic-kphb', 'sa=U', 'ved=2ahUKEwi5g8G8xvr5AhXSFbkGHUpXBSMQFnoECAkQAg', 'usg=AOvVaw1DJOSrL12UYwaLBkEYBIhz']\n",
      "Link searched for:  https://www.practo.com/hyderabad/clinic/dr-praveen-s-breath-easy-clinic-kphb\n",
      "**************************************************\n"
     ]
    },
    {
     "name": "stderr",
     "output_type": "stream",
     "text": [
      "\r",
      " 18%|██████▋                               | 302/1715 [17:22<1:21:14,  3.45s/it]"
     ]
    },
    {
     "name": "stdout",
     "output_type": "stream",
     "text": [
      "Name:  Breath Easy Lung Care Center\n",
      "Speciality:  Pulmonology Clinic\n",
      "Rating:  4.5\n",
      "Name:  (56 patient stories)\n",
      "Address:  Road Number 4, Mahaveer Towers, Kukatpally., Landmark: Opposite Eshwar Eye Hospital, Hyderabad\n",
      "https://google.com/search?q=dr+veerendra+mudnoor+vihaortho+care++hyderabad\n",
      "https://www.practo.com/hyderabad/doctor/dr-veerendra-1-orthopedist&sa=U&ved=2ahUKEwitpv-9xvr5AhW4J7kGHfcDCBYQFnoECAgQAg&usg=AOvVaw3mNCqTUu-9QdXZ8bbsw6pW\n",
      "['https://www.practo.com/hyderabad/doctor/dr-veerendra-1-orthopedist', 'sa=U', 'ved=2ahUKEwitpv-9xvr5AhW4J7kGHfcDCBYQFnoECAgQAg', 'usg=AOvVaw3mNCqTUu-9QdXZ8bbsw6pW']\n",
      "Link searched for:  https://www.practo.com/hyderabad/doctor/dr-veerendra-1-orthopedist\n",
      "**************************************************\n"
     ]
    },
    {
     "name": "stderr",
     "output_type": "stream",
     "text": [
      "\r",
      " 18%|██████▋                               | 303/1715 [17:25<1:21:59,  3.48s/it]"
     ]
    },
    {
     "name": "stdout",
     "output_type": "stream",
     "text": [
      "Name:  Dr. Veerendra Mudnoor\n",
      "Speciality:  Orthopedist\n",
      "Rating:  91% \n",
      "Name:  (171 votes)\n",
      "Address:  Apollo Medical centre, Kothaguda X Roads, Landmark: Beside Swagth De-Royal Restaurants, Hyderabad\n",
      "https://google.com/search?q=dr+faraz+farishta+f+s+endocrinology+&+diabetic+center+hyderabad\n",
      "https://www.practo.com/hyderabad/doctor/dr-faraz-farishta-2-endocrinologist&sa=U&ved=2ahUKEwjd79i_xvr5AhVqFLkGHW6HCYkQFnoECAgQAg&usg=AOvVaw2CcvB29gz4fz5Wonl90JBD\n",
      "['https://www.practo.com/hyderabad/doctor/dr-faraz-farishta-2-endocrinologist', 'sa=U', 'ved=2ahUKEwjd79i_xvr5AhVqFLkGHW6HCYkQFnoECAgQAg', 'usg=AOvVaw2CcvB29gz4fz5Wonl90JBD']\n",
      "Link searched for:  https://www.practo.com/hyderabad/doctor/dr-faraz-farishta-2-endocrinologist\n",
      "**************************************************\n"
     ]
    },
    {
     "name": "stderr",
     "output_type": "stream",
     "text": [
      "\r",
      " 18%|██████▋                               | 304/1715 [17:29<1:24:09,  3.58s/it]"
     ]
    },
    {
     "name": "stdout",
     "output_type": "stream",
     "text": [
      "Name:  Dr. Faraz Farishta\n",
      "Speciality:  Endocrinologist\n",
      "Rating:  94% \n",
      "Name:  (33 votes)\n",
      "Address:  , Landmark: indo english high school, Santosh Nagar, Hyderabad\n",
      "https://google.com/search?q=dr+ashok+b+happy+health+clinic+hyderabad\n",
      "https://www.practo.com/hyderabad/doctor/dr-b-ashok-reddy-general-physician&sa=U&ved=2ahUKEwjYm8DBxvr5AhXdLrkGHYwfCh4QFnoECAUQAg&usg=AOvVaw0-HyBwSTE0CU8oKw-bRbts\n",
      "['https://www.practo.com/hyderabad/doctor/dr-b-ashok-reddy-general-physician', 'sa=U', 'ved=2ahUKEwjYm8DBxvr5AhXdLrkGHYwfCh4QFnoECAUQAg', 'usg=AOvVaw0-HyBwSTE0CU8oKw-bRbts']\n",
      "Link searched for:  https://www.practo.com/hyderabad/doctor/dr-b-ashok-reddy-general-physician\n",
      "**************************************************\n"
     ]
    },
    {
     "name": "stderr",
     "output_type": "stream",
     "text": [
      "\r",
      " 18%|██████▊                               | 305/1715 [17:33<1:26:46,  3.69s/it]"
     ]
    },
    {
     "name": "stdout",
     "output_type": "stream",
     "text": [
      "Name:  Dr. B Ashok Reddy\n",
      "Speciality:  General Physician\n",
      "Rating not available.\n",
      "Votes are not available.\n",
      "Address:  RTC  Supervisors Colony, Vanasthalipuram, Hayathnagar, Landmark: Near Sunrise Hospitals., Hyderabad\n",
      "https://google.com/search?q=dr+seetha++ram++b+venkat+kripa+diabetic+centre+hyderabad\n"
     ]
    },
    {
     "name": "stderr",
     "output_type": "stream",
     "text": [
      "\r",
      " 18%|██████▊                               | 306/1715 [17:35<1:14:45,  3.18s/it]"
     ]
    },
    {
     "name": "stdout",
     "output_type": "stream",
     "text": [
      "Couldn't find any practo links.\n",
      "https://google.com/search?q=dr+sudhakar+barla+sudhakar+multispeciality+clinic+hyderabad\n",
      "https://www.practo.com/hyderabad/doctor/b-sudhakar&sa=U&ved=2ahUKEwivoqvExvr5AhUCLLkGHb4CCyQQFnoECAgQAg&usg=AOvVaw0Al1RWcwAjwp0GRO_D4C8Q\n",
      "['https://www.practo.com/hyderabad/doctor/b-sudhakar', 'sa=U', 'ved=2ahUKEwivoqvExvr5AhUCLLkGHb4CCyQQFnoECAgQAg', 'usg=AOvVaw0Al1RWcwAjwp0GRO_D4C8Q']\n",
      "Link searched for:  https://www.practo.com/hyderabad/doctor/b-sudhakar\n",
      "**************************************************\n"
     ]
    },
    {
     "name": "stderr",
     "output_type": "stream",
     "text": [
      "\r",
      " 18%|██████▊                               | 307/1715 [17:40<1:30:07,  3.84s/it]"
     ]
    },
    {
     "name": "stdout",
     "output_type": "stream",
     "text": [
      "Name:  Dr. Sudhaker Barla\n",
      "Speciality:  General Physician\n",
      "Rating:  94% \n",
      "Name:  (138 votes)\n",
      "Address:  Plot Number 59, 1st Floor, OmarNaseem Square, 100 Feet Road, Road Number 25 Circle, Alkapur Township, Landmark: Road no 25 Circle, Hyderabad\n",
      "https://google.com/search?q=dr+akurathi+padma+dr.padmas+skin+clinic+hyderabad\n",
      "https://www.practo.com/hyderabad/doctor/a-padma-dermatologist&sa=U&ved=2ahUKEwif7fPGxvr5AhWOF7kGHcK8CSUQFnoECAkQAg&usg=AOvVaw12RbVRiaZjyC6_0y4CY6aG\n",
      "['https://www.practo.com/hyderabad/doctor/a-padma-dermatologist', 'sa=U', 'ved=2ahUKEwif7fPGxvr5AhWOF7kGHcK8CSUQFnoECAkQAg', 'usg=AOvVaw12RbVRiaZjyC6_0y4CY6aG']\n",
      "Link searched for:  https://www.practo.com/hyderabad/doctor/a-padma-dermatologist\n",
      "**************************************************\n"
     ]
    },
    {
     "name": "stderr",
     "output_type": "stream",
     "text": [
      "\r",
      " 18%|██████▊                               | 308/1715 [17:45<1:37:54,  4.18s/it]"
     ]
    },
    {
     "name": "stdout",
     "output_type": "stream",
     "text": [
      "Name:  Dr. A. Padma\n",
      "Speciality:  Dermatologist\n",
      "Rating:  95% \n",
      "Name:  (38 votes)\n",
      "Address:  G-10, 12-5-35/4/9, Ballad Estate, Landmark: Below Margadarsi & Opposite David Memorial College, Hyderabad\n",
      "https://google.com/search?q=dr+shiva+prasad+i+v+dr+i.+v.+siva+prasad+prasad's+clinic+hyderabad\n",
      "https://www.practo.com/hyderabad/doctor/i-v-siva-prasad-general-physician&sa=U&ved=2ahUKEwi3uaLJxvr5AhXYNrkGHdO0AZMQFnoECAEQAg&usg=AOvVaw3BqvKds5CHj4dUGjgYj4Q5\n",
      "['https://www.practo.com/hyderabad/doctor/i-v-siva-prasad-general-physician', 'sa=U', 'ved=2ahUKEwi3uaLJxvr5AhXYNrkGHdO0AZMQFnoECAEQAg', 'usg=AOvVaw3BqvKds5CHj4dUGjgYj4Q5']\n",
      "Link searched for:  https://www.practo.com/hyderabad/doctor/i-v-siva-prasad-general-physician\n",
      "**************************************************\n"
     ]
    },
    {
     "name": "stderr",
     "output_type": "stream",
     "text": [
      "\r",
      " 18%|██████▊                               | 309/1715 [17:50<1:41:49,  4.35s/it]"
     ]
    },
    {
     "name": "stdout",
     "output_type": "stream",
     "text": [
      "Name:  Dr. I V Siva Prasad\n",
      "Speciality:  General Physician\n",
      "Rating:  98% \n",
      "Name:  (49 votes)\n",
      "Address:  Shop Number-5 (Backside Of Karachi Bakery Ground Floor), Suram Heights, Landmark: Near Hanuman Temple, Backside of Patel Hotel, Hyderabad\n",
      "https://google.com/search?q=dr+meghanath+yenni+mvp+hospital+visakhapatnam\n",
      "https://www.practo.com/visakhapatnam/doctor/meghanath-yenni-general-physician&sa=U&ved=2ahUKEwiQtZDMxvr5AhU1HLkGHaHMDS8QFnoECAcQAg&usg=AOvVaw24WgydBrhcILVxsEk9A0Pc\n",
      "['https://www.practo.com/visakhapatnam/doctor/meghanath-yenni-general-physician', 'sa=U', 'ved=2ahUKEwiQtZDMxvr5AhU1HLkGHaHMDS8QFnoECAcQAg', 'usg=AOvVaw24WgydBrhcILVxsEk9A0Pc']\n",
      "Link searched for:  https://www.practo.com/visakhapatnam/doctor/meghanath-yenni-general-physician\n",
      "**************************************************\n"
     ]
    },
    {
     "name": "stderr",
     "output_type": "stream",
     "text": [
      "\r",
      " 18%|██████▊                               | 310/1715 [17:54<1:41:20,  4.33s/it]"
     ]
    },
    {
     "name": "stdout",
     "output_type": "stream",
     "text": [
      "Name:  Dr. Meghanatham Yenni\n",
      "Speciality:  Internal Medicine\n",
      "Rating not available.\n",
      "Votes are not available.\n",
      "Address:  43-9-201, SLV Arcade, Railway New Colony MVP Colony, Visakhapatnam\n",
      "https://google.com/search?q=dr+abhinandana+c+sai+triyas+clinic+and+diagnostic+centre+hyderabad\n",
      "https://www.practo.com/hyderabad/doctor/dr-abhinandana-diabetologist&sa=U&ved=2ahUKEwjhzsnNxvr5AhVlL7kGHcNECUYQFnoECAAQAg&usg=AOvVaw2k8YhlOppTgRRzF1-iN6Ut\n",
      "['https://www.practo.com/hyderabad/doctor/dr-abhinandana-diabetologist', 'sa=U', 'ved=2ahUKEwjhzsnNxvr5AhVlL7kGHcNECUYQFnoECAAQAg', 'usg=AOvVaw2k8YhlOppTgRRzF1-iN6Ut']\n",
      "Link searched for:  https://www.practo.com/hyderabad/doctor/dr-abhinandana-diabetologist\n",
      "**************************************************\n"
     ]
    },
    {
     "name": "stderr",
     "output_type": "stream",
     "text": [
      "\r",
      " 18%|██████▉                               | 311/1715 [17:59<1:41:46,  4.35s/it]"
     ]
    },
    {
     "name": "stdout",
     "output_type": "stream",
     "text": [
      "Name:  Dr. Abhinandana\n",
      "Speciality:  General Physician\n",
      "Rating not available.\n",
      "Votes are not available.\n",
      "Address:  Survey Number 60 & 70, Plot Number 149 & 150, Hanuman Nagar, Raghavendra Colony, Hyderabad\n",
      "https://google.com/search?q=dr+j+v+srujan+united+home+health+care+visakhapatnam\n",
      "https://www.practo.com/visakhapatnam/doctor/j-v-srujan-general-physician&sa=U&ved=2ahUKEwioi9bPxvr5AhXSBtQKHUdLCN0QFnoECAkQAg&usg=AOvVaw0FbYtAhOW7DjfrLS5how5y\n",
      "['https://www.practo.com/visakhapatnam/doctor/j-v-srujan-general-physician', 'sa=U', 'ved=2ahUKEwioi9bPxvr5AhXSBtQKHUdLCN0QFnoECAkQAg', 'usg=AOvVaw0FbYtAhOW7DjfrLS5how5y']\n",
      "Link searched for:  https://www.practo.com/visakhapatnam/doctor/j-v-srujan-general-physician\n",
      "**************************************************\n"
     ]
    },
    {
     "name": "stderr",
     "output_type": "stream",
     "text": [
      "\r",
      " 18%|██████▉                               | 312/1715 [18:03<1:38:12,  4.20s/it]"
     ]
    },
    {
     "name": "stdout",
     "output_type": "stream",
     "text": [
      "Name:  Dr. J. V. Srujan\n",
      "Speciality:  General Physician\n",
      "Rating not available.\n",
      "Votes are not available.\n",
      "Address:  United Medicals, near Rama Lakshmi Apartment, Adarsh Nagar Rd, Lawsons Bay Colony, Pedda Waltair, Visakhapatnam, Andhra Pradesh 530017, Visakhapatnam\n",
      "https://google.com/search?q=dr+kalyan+varma++++++++++++++++++++++++++k+pragathi+clinic+hyderabad\n",
      "https://www.practo.com/hyderabad/doctor/kalyan-kumar-varma-kalidindi-orthopedist&sa=U&ved=2ahUKEwjriMHRxvr5AhWnBbkGHYh-BgsQFnoECAEQAg&usg=AOvVaw1DmO-H2ox7WVG-06WE4Jel\n",
      "['https://www.practo.com/hyderabad/doctor/kalyan-kumar-varma-kalidindi-orthopedist', 'sa=U', 'ved=2ahUKEwjriMHRxvr5AhWnBbkGHYh-BgsQFnoECAEQAg', 'usg=AOvVaw1DmO-H2ox7WVG-06WE4Jel']\n",
      "Link searched for:  https://www.practo.com/hyderabad/doctor/kalyan-kumar-varma-kalidindi-orthopedist\n",
      "**************************************************\n"
     ]
    },
    {
     "name": "stderr",
     "output_type": "stream",
     "text": [
      "\r",
      " 18%|██████▉                               | 313/1715 [18:07<1:36:10,  4.12s/it]"
     ]
    },
    {
     "name": "stdout",
     "output_type": "stream",
     "text": [
      "Name:  Dr. Kalyan Kumar Varma Kalidindi\n",
      "Speciality:  Orthopedist\n",
      "Rating not available.\n",
      "Votes are not available.\n",
      "Address:  Road Number 4, KPHB Phase 1, Landmark: Remedy Hospital Lane, Hyderabad\n",
      "https://google.com/search?q=dr+rama+prathyusha+pragathi+clinic+hyderabad\n"
     ]
    },
    {
     "name": "stderr",
     "output_type": "stream",
     "text": [
      "\r",
      " 18%|██████▉                               | 314/1715 [18:09<1:27:48,  3.76s/it]"
     ]
    },
    {
     "name": "stdout",
     "output_type": "stream",
     "text": [
      "Couldn't find any practo links.\n",
      "https://google.com/search?q=dr+vineeta+samanthula+jayakrishna+ent+clinic+hyderabad\n"
     ]
    },
    {
     "name": "stderr",
     "output_type": "stream",
     "text": [
      "\r",
      " 18%|██████▉                               | 315/1715 [18:11<1:14:51,  3.21s/it]"
     ]
    },
    {
     "name": "stdout",
     "output_type": "stream",
     "text": [
      "Couldn't find any practo links.\n",
      "https://google.com/search?q=dr+vamsi+krishna+p+dr.+vamsi's+urology+clinic+hyderabad\n",
      "https://www.practo.com/hyderabad/clinic/dr-vamsi-s-urology-clinic-basheerbagh&sa=U&ved=2ahUKEwjJmdjVxvr5AhXnILkGHbNuDNEQFnoECAoQAg&usg=AOvVaw1LbXAxyL-ANhDKIfP7J3Vh\n",
      "['https://www.practo.com/hyderabad/clinic/dr-vamsi-s-urology-clinic-basheerbagh', 'sa=U', 'ved=2ahUKEwjJmdjVxvr5AhXnILkGHbNuDNEQFnoECAoQAg', 'usg=AOvVaw1LbXAxyL-ANhDKIfP7J3Vh']\n",
      "Link searched for:  https://www.practo.com/hyderabad/clinic/dr-vamsi-s-urology-clinic-basheerbagh\n",
      "**************************************************\n"
     ]
    },
    {
     "name": "stderr",
     "output_type": "stream",
     "text": [
      "\r",
      " 18%|███████                               | 316/1715 [18:15<1:15:41,  3.25s/it]"
     ]
    },
    {
     "name": "stdout",
     "output_type": "stream",
     "text": [
      "Name:  Dr. Vamsi's Urology Clinic\n",
      "Speciality:  Multi-speciality Clinic\n",
      "Rating:  5.0\n",
      "Name:  (49 patient stories)\n",
      "Address:  1st Floor, Shiva Shakthi Towers, 8-2-700/A, Rd Number 12, Banjara Hills, Hyderabad, Telangana 500063, Landmark: Above MOR Medical Shop, Hyderabad\n",
      "https://google.com/search?q=dr+ravi+av+sn+specality+wellness+clinic+hyderabad\n",
      "https://www.practo.com/hyderabad/doctor/dr-a-v-ravi-kumar-urologist-1&sa=U&ved=2ahUKEwjK7KPXxvr5AhVtJrkGHeNdBLMQFnoECAAQAg&usg=AOvVaw0W-p2a0yfRKSZPLIiEV-2i\n",
      "['https://www.practo.com/hyderabad/doctor/dr-a-v-ravi-kumar-urologist-1', 'sa=U', 'ved=2ahUKEwjK7KPXxvr5AhVtJrkGHeNdBLMQFnoECAAQAg', 'usg=AOvVaw0W-p2a0yfRKSZPLIiEV-2i']\n",
      "Link searched for:  https://www.practo.com/hyderabad/doctor/dr-a-v-ravi-kumar-urologist-1\n",
      "**************************************************\n"
     ]
    },
    {
     "name": "stderr",
     "output_type": "stream",
     "text": [
      "\r",
      " 18%|███████                               | 317/1715 [18:20<1:28:18,  3.79s/it]"
     ]
    },
    {
     "name": "stdout",
     "output_type": "stream",
     "text": [
      "Name:  Dr. A V Ravi Kumar\n",
      "Speciality:  Urologist\n",
      "Rating:  95% \n",
      "Name:  (137 votes)\n",
      "Address:  Opposite to Cyber Gateway, IBIS Hotel Lane , Hi-tech city, Hyderabad, Telanagana, Landmark: IBIS Hotel lane, Hyderabad\n",
      "https://google.com/search?q=dr+zipah+sheikh+romanas+hyderabad\n",
      "https://www.practo.com/hyderabad/doctor/afshaan-shaik-gynecologist-obstetrician&sa=U&ved=2ahUKEwipruvZxvr5AhVLHbkGHXPMAVgQFnoECAkQAg&usg=AOvVaw0rVxEAdGzJa3GMALIGdbIm\n",
      "['https://www.practo.com/hyderabad/doctor/afshaan-shaik-gynecologist-obstetrician', 'sa=U', 'ved=2ahUKEwipruvZxvr5AhVLHbkGHXPMAVgQFnoECAkQAg', 'usg=AOvVaw0rVxEAdGzJa3GMALIGdbIm']\n",
      "Link searched for:  https://www.practo.com/hyderabad/doctor/afshaan-shaik-gynecologist-obstetrician\n",
      "**************************************************\n"
     ]
    },
    {
     "name": "stderr",
     "output_type": "stream",
     "text": [
      "\r",
      " 19%|███████                               | 318/1715 [18:24<1:29:28,  3.84s/it]"
     ]
    },
    {
     "name": "stdout",
     "output_type": "stream",
     "text": [
      "Name:  Dr. Afshaan Shaik\n",
      "Speciality:  Gynecologist\n",
      "Rating not available.\n",
      "Votes are not available.\n",
      "https://google.com/search?q=dr+nagendra+babu+dr+romanas+dental+clinic+hyderabad\n"
     ]
    },
    {
     "name": "stderr",
     "output_type": "stream",
     "text": [
      "\r",
      " 19%|███████                               | 319/1715 [18:26<1:17:42,  3.34s/it]"
     ]
    },
    {
     "name": "stdout",
     "output_type": "stream",
     "text": [
      "Couldn't find any practo links.\n",
      "https://google.com/search?q=dr+binod+sharma+dr+mohan+rao+health+care+clinic+hyderabad\n"
     ]
    },
    {
     "name": "stderr",
     "output_type": "stream",
     "text": [
      "\r",
      " 19%|███████                               | 320/1715 [18:28<1:09:13,  2.98s/it]"
     ]
    },
    {
     "name": "stdout",
     "output_type": "stream",
     "text": [
      "Couldn't find any practo links.\n",
      "https://google.com/search?q=dr+neeraja++kapavarapu+tirumala+clinics+visakhapatnam\n"
     ]
    },
    {
     "name": "stderr",
     "output_type": "stream",
     "text": [
      "\r",
      " 19%|███████                               | 321/1715 [18:30<1:02:50,  2.71s/it]"
     ]
    },
    {
     "name": "stdout",
     "output_type": "stream",
     "text": [
      "Couldn't find any practo links.\n",
      "https://google.com/search?q=dr+b+sivananda++reddy+dr+siva's+gastrocare+&+dental+care++hyderabad\n",
      "https://www.practo.com/hyderabad/doctor/sivananda-reddy-gastroenterologist&sa=U&ved=2ahUKEwi11s_exvr5AhUNGbkGHQdSAkQQFnoECAkQAg&usg=AOvVaw1U2C27EFCSoIMRviKuMkiu\n",
      "['https://www.practo.com/hyderabad/doctor/sivananda-reddy-gastroenterologist', 'sa=U', 'ved=2ahUKEwi11s_exvr5AhUNGbkGHQdSAkQQFnoECAkQAg', 'usg=AOvVaw1U2C27EFCSoIMRviKuMkiu']\n",
      "Link searched for:  https://www.practo.com/hyderabad/doctor/sivananda-reddy-gastroenterologist\n",
      "**************************************************\n"
     ]
    },
    {
     "name": "stderr",
     "output_type": "stream",
     "text": [
      "\r",
      " 19%|███████▏                              | 322/1715 [18:33<1:06:35,  2.87s/it]"
     ]
    },
    {
     "name": "stdout",
     "output_type": "stream",
     "text": [
      "Name:  Dr. Sivananda Reddy\n",
      "Speciality:  Gastroenterologist\n",
      "Rating:  4.0\n",
      "Votes are not available.\n",
      "Address:  8-16-1, Nagarjuna Sagar Road, Laxmi Enclave, Bairamalguda, Landmark: Beside Aware College Of Nursing & Engineering, Hyderabad\n",
      "https://google.com/search?q=dr+sreehari+t+vaamans+sugar+clinic+hyderabad\n",
      "https://www.practo.com/hyderabad/doctor/dr-sreeharit-t-diabetologist&sa=U&ved=2ahUKEwjd4pTgxvr5AhVaALkGHcz6AKwQFnoECAcQAg&usg=AOvVaw3pV9XOMmGFHxBYV2Ii_YKd\n",
      "['https://www.practo.com/hyderabad/doctor/dr-sreeharit-t-diabetologist', 'sa=U', 'ved=2ahUKEwjd4pTgxvr5AhVaALkGHcz6AKwQFnoECAcQAg', 'usg=AOvVaw3pV9XOMmGFHxBYV2Ii_YKd']\n",
      "Link searched for:  https://www.practo.com/hyderabad/doctor/dr-sreeharit-t-diabetologist\n",
      "**************************************************\n"
     ]
    },
    {
     "name": "stderr",
     "output_type": "stream",
     "text": [
      "\r",
      " 19%|███████▏                              | 323/1715 [18:37<1:13:10,  3.15s/it]"
     ]
    },
    {
     "name": "stdout",
     "output_type": "stream",
     "text": [
      "Name:  Dr. Sreehari T\n",
      "Speciality:  General Physician\n",
      "Rating not available.\n",
      "Votes are not available.\n",
      "Address:  1-57/1 Mallas Arcade, Mallikarjuna Nagar, Peerzadiguda Municipality, Uppal Depot, Landmark: Near More Super market, Hyderabad\n",
      "https://google.com/search?q=dr+kalyan++chakravarthy++bsr+ent+&+eye+hospital+hyderabad\n",
      "https://www.practo.com/hyderabad/doctor/dr-kalyan-chakravarthy-ear-nose-throat-ent-specialist-ear-nose-throat-ent-specialist&sa=U&ved=2ahUKEwipn__hxvr5AhVlFLkGHUDMB4sQFnoECAcQAg&usg=AOvVaw0IftLH8n9jbfbouFrglk0e\n",
      "['https://www.practo.com/hyderabad/doctor/dr-kalyan-chakravarthy-ear-nose-throat-ent-specialist-ear-nose-throat-ent-specialist', 'sa=U', 'ved=2ahUKEwipn__hxvr5AhVlFLkGHUDMB4sQFnoECAcQAg', 'usg=AOvVaw0IftLH8n9jbfbouFrglk0e']\n",
      "Link searched for:  https://www.practo.com/hyderabad/doctor/dr-kalyan-chakravarthy-ear-nose-throat-ent-specialist-ear-nose-throat-ent-specialist\n",
      "**************************************************\n"
     ]
    },
    {
     "name": "stderr",
     "output_type": "stream",
     "text": [
      "\r",
      " 19%|███████▏                              | 324/1715 [18:42<1:26:24,  3.73s/it]"
     ]
    },
    {
     "name": "stdout",
     "output_type": "stream",
     "text": [
      "Name:  Dr. Kalyan Chakravarthy\n",
      "Speciality:  ENT/ Otorhinolaryngologist\n",
      "Rating:  94% \n",
      "Name:  (109 votes)\n",
      "Address:  Plot Number 111, Karan Centre, S. D. Road, Landmark: Near Grand Solitaire Annex Hotel & Near Minerva Complex, Hyderabad\n",
      "https://google.com/search?q=dr+u+victor++emmanuel+prajwala+clinics+hyderabad\n",
      "https://www.practo.com/hyderabad/doctor/dr-victor-emmanuel-general-physician&sa=U&ved=2ahUKEwjfiLTkxvr5AhUbI7kGHWdeBTwQFnoECAYQAg&usg=AOvVaw1lk3KBxagBJ6faXlZOU8od\n",
      "['https://www.practo.com/hyderabad/doctor/dr-victor-emmanuel-general-physician', 'sa=U', 'ved=2ahUKEwjfiLTkxvr5AhUbI7kGHWdeBTwQFnoECAYQAg', 'usg=AOvVaw1lk3KBxagBJ6faXlZOU8od']\n",
      "Link searched for:  https://www.practo.com/hyderabad/doctor/dr-victor-emmanuel-general-physician\n",
      "**************************************************\n"
     ]
    },
    {
     "name": "stderr",
     "output_type": "stream",
     "text": [
      "\r",
      " 19%|███████▏                              | 325/1715 [18:46<1:27:22,  3.77s/it]"
     ]
    },
    {
     "name": "stdout",
     "output_type": "stream",
     "text": [
      "Name:  Dr. Victor Emmanuel\n",
      "Speciality:  General Physician\n",
      "Rating not available.\n",
      "Votes are not available.\n",
      "https://google.com/search?q=dr+ravi+kumar++magnas+ent+super+speciality+hospitals+hyderabad\n",
      "https://www.practo.com/hyderabad/doctor/dr-s-ravi-kumar-ear-nose-throat-ent-specialist&sa=U&ved=2ahUKEwj1-qDmxvr5AhUULLkGHWc-C4IQFnoECAYQAg&usg=AOvVaw3q-o3TweOl3E2pY6YsjRoe\n",
      "['https://www.practo.com/hyderabad/doctor/dr-s-ravi-kumar-ear-nose-throat-ent-specialist', 'sa=U', 'ved=2ahUKEwj1-qDmxvr5AhUULLkGHWc-C4IQFnoECAYQAg', 'usg=AOvVaw3q-o3TweOl3E2pY6YsjRoe']\n",
      "Link searched for:  https://www.practo.com/hyderabad/doctor/dr-s-ravi-kumar-ear-nose-throat-ent-specialist\n",
      "**************************************************\n"
     ]
    },
    {
     "name": "stderr",
     "output_type": "stream",
     "text": [
      "\r",
      " 19%|███████▏                              | 326/1715 [18:50<1:30:36,  3.91s/it]"
     ]
    },
    {
     "name": "stdout",
     "output_type": "stream",
     "text": [
      "Name:  Dr. S Ravi Kumar\n",
      "Speciality:  ENT/ Otorhinolaryngologist\n",
      "Rating:  92% \n",
      "Name:  (545 votes)\n",
      "Address:  Chaitanyapuri Cross Road, Dilsukh Nagar, Landmark: Near Kalaniketan, Hyderabad\n",
      "https://google.com/search?q=dr+rama+devi+gali+soumya+hospital+hyderabad\n"
     ]
    },
    {
     "name": "stderr",
     "output_type": "stream",
     "text": [
      "\r",
      " 19%|███████▏                              | 327/1715 [18:53<1:19:01,  3.42s/it]"
     ]
    },
    {
     "name": "stdout",
     "output_type": "stream",
     "text": [
      "Couldn't find any practo links.\n",
      "https://google.com/search?q=dr+gautham+krishna+reddy+g+dr+g.sudarshan+reddy+skin+clinic+hyderabad\n"
     ]
    },
    {
     "name": "stderr",
     "output_type": "stream",
     "text": [
      "\r",
      " 19%|███████▎                              | 328/1715 [18:55<1:10:10,  3.04s/it]"
     ]
    },
    {
     "name": "stdout",
     "output_type": "stream",
     "text": [
      "Couldn't find any practo links.\n",
      "https://google.com/search?q=dr+anitha+kotha+brain+and+spine+neuro+clinic+hyderabad\n",
      "https://www.practo.com/hyderabad/doctor/dr-anitha-kotha-neurologist&sa=U&ved=2ahUKEwidhbDqxvr5AhUyCdQKHcA9DC8QFnoECAgQAg&usg=AOvVaw102y1a3Aybp3AM0vXeUCxH\n",
      "['https://www.practo.com/hyderabad/doctor/dr-anitha-kotha-neurologist', 'sa=U', 'ved=2ahUKEwidhbDqxvr5AhUyCdQKHcA9DC8QFnoECAgQAg', 'usg=AOvVaw102y1a3Aybp3AM0vXeUCxH']\n",
      "Link searched for:  https://www.practo.com/hyderabad/doctor/dr-anitha-kotha-neurologist\n",
      "**************************************************\n"
     ]
    },
    {
     "name": "stderr",
     "output_type": "stream",
     "text": [
      "\r",
      " 19%|███████▎                              | 329/1715 [18:59<1:18:06,  3.38s/it]"
     ]
    },
    {
     "name": "stdout",
     "output_type": "stream",
     "text": [
      "Name:  Dr. Anitha Kotha\n",
      "Speciality:  Neurologist\n",
      "Rating:  94% \n",
      "Name:  (35 votes)\n",
      "Address:  7-56/19, Dargah Road, LIG Chitrapuri Colony, Radhe Nagar, Rai Durg, Landmark: Near Vaishnoi Honda, Hyderabad\n",
      "https://google.com/search?q=dr+md+naseeruddin+mujahid+dr+naseer+ent+clinic++hyderabad\n"
     ]
    },
    {
     "name": "stderr",
     "output_type": "stream",
     "text": [
      "\r",
      " 19%|███████▎                              | 330/1715 [19:01<1:10:16,  3.04s/it]"
     ]
    },
    {
     "name": "stdout",
     "output_type": "stream",
     "text": [
      "Couldn't find any practo links.\n",
      "https://google.com/search?q=dr+kotamarthi+ravi+teja+sri+vishnu+clinc+visakhapatnam\n",
      "https://www.practo.com/hyderabad/doctor/kotamarthi-ravi-teja-general-physician&sa=U&ved=2ahUKEwiCn7ntxvr5AhUxA7kGHbQyDcgQFnoECAUQAg&usg=AOvVaw35PizxfoONg3nIty0XYSzf\n",
      "['https://www.practo.com/hyderabad/doctor/kotamarthi-ravi-teja-general-physician', 'sa=U', 'ved=2ahUKEwiCn7ntxvr5AhUxA7kGHbQyDcgQFnoECAUQAg', 'usg=AOvVaw35PizxfoONg3nIty0XYSzf']\n",
      "Link searched for:  https://www.practo.com/hyderabad/doctor/kotamarthi-ravi-teja-general-physician\n",
      "**************************************************\n"
     ]
    },
    {
     "name": "stderr",
     "output_type": "stream",
     "text": [
      "\r",
      " 19%|███████▎                              | 331/1715 [19:04<1:07:28,  2.93s/it]"
     ]
    },
    {
     "name": "stdout",
     "output_type": "stream",
     "text": [
      "Name:  Dr. Kotamarthi Ravi Teja\n",
      "Speciality:  General Physician\n",
      "Rating:  5.0\n",
      "Votes are not available.\n",
      "Address:  2nd Floor, Soucha Marvel, Khajaguda - Nanakramguda Rd, opp. Oakridge School, above Ratnadeep, Hyderabad, Telangana, 500008, Landmark: Opp Oakridge School, above Rathnadeep Super market, Hyderabad\n",
      "https://google.com/search?q=dr+sandhya+gurubasappa+nanomedix+eye+&+diabetic+center+hyderabad\n"
     ]
    },
    {
     "name": "stderr",
     "output_type": "stream",
     "text": [
      "\r",
      " 19%|███████▎                              | 332/1715 [19:06<1:02:16,  2.70s/it]"
     ]
    },
    {
     "name": "stdout",
     "output_type": "stream",
     "text": [
      "Couldn't find any practo links.\n",
      "https://google.com/search?q=dr+siva+kumar+yanamadala+nanomedix+eye+and+diabetes+care+hyderabad\n",
      "https://www.practo.com/hyderabad/doctor/dr-siva-kumar-ophthalmologist-1&sa=U&ved=2ahUKEwiVzODvxvr5AhXtGLkGHfYRDgAQFnoECAMQAg&usg=AOvVaw0ga5VjhNTFyPpcymtCEZ0D\n",
      "['https://www.practo.com/hyderabad/doctor/dr-siva-kumar-ophthalmologist-1', 'sa=U', 'ved=2ahUKEwiVzODvxvr5AhXtGLkGHfYRDgAQFnoECAMQAg', 'usg=AOvVaw0ga5VjhNTFyPpcymtCEZ0D']\n",
      "Link searched for:  https://www.practo.com/hyderabad/doctor/dr-siva-kumar-ophthalmologist-1\n",
      "**************************************************\n"
     ]
    },
    {
     "name": "stderr",
     "output_type": "stream",
     "text": [
      "\r",
      " 19%|███████▍                              | 333/1715 [19:10<1:09:41,  3.03s/it]"
     ]
    },
    {
     "name": "stdout",
     "output_type": "stream",
     "text": [
      "Name:  Dr. Y Siva Kumar\n",
      "Speciality:  Ophthalmologist/ Eye Surgeon\n",
      "Rating:  5.0\n",
      "Votes are not available.\n",
      "Address:  New Nagole- Kothapet Road, Near More Super Market, Landmark: Next to Genius Grammar School., Hyderabad\n",
      "https://google.com/search?q=dr+t+sateesh+kumar+satya+hasini+neuro+clinic+visakhapatnam\n"
     ]
    },
    {
     "name": "stderr",
     "output_type": "stream",
     "text": [
      "\r",
      " 19%|███████▍                              | 334/1715 [19:12<1:03:52,  2.78s/it]"
     ]
    },
    {
     "name": "stdout",
     "output_type": "stream",
     "text": [
      "Couldn't find any practo links.\n",
      "https://google.com/search?q=dr+ajay+kumar+seva+skin+and+child+care+clinic+visakhapatnam\n",
      "https://www.practo.com/visakhapatnam/doctor/dr-g-ajay-kumar-dermatologist-cosmetologist&sa=U&ved=2ahUKEwj8sMzyxvr5AhUmALkGHQdDAPUQFnoECAQQAg&usg=AOvVaw3UW3ndwHC7QgN0bwgOgQR8\n",
      "['https://www.practo.com/visakhapatnam/doctor/dr-g-ajay-kumar-dermatologist-cosmetologist', 'sa=U', 'ved=2ahUKEwj8sMzyxvr5AhUmALkGHQdDAPUQFnoECAQQAg', 'usg=AOvVaw3UW3ndwHC7QgN0bwgOgQR8']\n",
      "Link searched for:  https://www.practo.com/visakhapatnam/doctor/dr-g-ajay-kumar-dermatologist-cosmetologist\n",
      "**************************************************\n"
     ]
    },
    {
     "name": "stderr",
     "output_type": "stream",
     "text": [
      "\r",
      " 20%|███████▍                              | 335/1715 [19:15<1:07:24,  2.93s/it]"
     ]
    },
    {
     "name": "stdout",
     "output_type": "stream",
     "text": [
      "Name:  Dr. G. Ajay Kumar\n",
      "Speciality:  Dermatologist\n",
      "Rating not available.\n",
      "Votes are not available.\n",
      "Address:  #18-1-29, Chamber No F 5&6, 1St Floor, Krshna MUrthy Chambers. Landmark: Opp KGH O P Gate., Visakhapatnam\n",
      "https://google.com/search?q=dr+butchi+raju+garuda+doctor's+enclave+visakhapatnam\n"
     ]
    },
    {
     "name": "stderr",
     "output_type": "stream",
     "text": [
      "\r",
      " 20%|███████▍                              | 336/1715 [19:18<1:02:42,  2.73s/it]"
     ]
    },
    {
     "name": "stdout",
     "output_type": "stream",
     "text": [
      "Couldn't find any practo links.\n",
      "https://google.com/search?q=dr+sumanth+yadav+s+derma+glow+advanced+skin+hair+&+laser+clinic++hyderabad\n"
     ]
    },
    {
     "name": "stderr",
     "output_type": "stream",
     "text": [
      "\r",
      " 20%|███████▊                                | 337/1715 [19:20<58:20,  2.54s/it]"
     ]
    },
    {
     "name": "stdout",
     "output_type": "stream",
     "text": [
      "Couldn't find any practo links.\n",
      "https://google.com/search?q=dr+lakshmi+sameeri+swasthya+clinic+hyderabad\n",
      "https://www.practo.com/hyderabad/clinic/dr-lakshmi-a-siraj-s-clinic-masab-tank&sa=U&ved=2ahUKEwibhbb2xvr5AhWeDbkGHeg-Bk4QFnoECAEQAg&usg=AOvVaw3QxPuhWmykhMLKeRG0OfcG\n",
      "['https://www.practo.com/hyderabad/clinic/dr-lakshmi-a-siraj-s-clinic-masab-tank', 'sa=U', 'ved=2ahUKEwibhbb2xvr5AhWeDbkGHeg-Bk4QFnoECAEQAg', 'usg=AOvVaw3QxPuhWmykhMLKeRG0OfcG']\n",
      "Link searched for:  https://www.practo.com/hyderabad/clinic/dr-lakshmi-a-siraj-s-clinic-masab-tank\n",
      "**************************************************\n"
     ]
    },
    {
     "name": "stderr",
     "output_type": "stream",
     "text": [
      "\r",
      " 20%|███████▍                              | 338/1715 [19:24<1:11:16,  3.11s/it]"
     ]
    },
    {
     "name": "stdout",
     "output_type": "stream",
     "text": [
      "Name:  Dr.Lakshmi A Siraj's Clinic\n",
      "Speciality:  Gynecology/Obstetrics Clinic\n",
      "Rating not available.\n",
      "Votes are not available.\n",
      "Address:  A-101,1st Floor, Satya Apartments, Beside Hotel Golconda,  Masab Tank , Hyderabad\n",
      "https://google.com/search?q=dr+ramesh+muthyapu+sai+sanjeevini+children's+clinic++hyderabad\n"
     ]
    },
    {
     "name": "stderr",
     "output_type": "stream",
     "text": [
      "\r",
      " 20%|███████▌                              | 339/1715 [19:26<1:02:33,  2.73s/it]"
     ]
    },
    {
     "name": "stdout",
     "output_type": "stream",
     "text": [
      "Couldn't find any practo links.\n",
      "https://google.com/search?q=dr+babu+mrm+dr+mrm+babu+heart+clinic+hyderabad\n"
     ]
    },
    {
     "name": "stderr",
     "output_type": "stream",
     "text": [
      "\r",
      " 20%|███████▌                              | 340/1715 [19:29<1:06:39,  2.91s/it]"
     ]
    },
    {
     "name": "stdout",
     "output_type": "stream",
     "text": [
      "Couldn't find any practo links.\n",
      "https://google.com/search?q=dr+ravinder+mehetrey++mehetrey+orthopedic+clinic+hyderabad\n",
      "https://www.practo.com/hyderabad/doctor/dr-dr-ravinder-mehetrey-orthopaedics&sa=U&ved=2ahUKEwjJ5uj6xvr5AhWZLrkGHYPiBRQQFnoECAkQAg&usg=AOvVaw0Xhi18WW5w-t1X4v2ZbYTC\n",
      "['https://www.practo.com/hyderabad/doctor/dr-dr-ravinder-mehetrey-orthopaedics', 'sa=U', 'ved=2ahUKEwjJ5uj6xvr5AhWZLrkGHYPiBRQQFnoECAkQAg', 'usg=AOvVaw0Xhi18WW5w-t1X4v2ZbYTC']\n",
      "Link searched for:  https://www.practo.com/hyderabad/doctor/dr-dr-ravinder-mehetrey-orthopaedics\n",
      "**************************************************\n"
     ]
    },
    {
     "name": "stderr",
     "output_type": "stream",
     "text": [
      "\r",
      " 20%|███████▌                              | 341/1715 [19:33<1:11:34,  3.13s/it]"
     ]
    },
    {
     "name": "stdout",
     "output_type": "stream",
     "text": [
      "Name:  Dr. Ravinder Mehetrey\n",
      "Speciality:  Orthopedist\n",
      "Rating not available.\n",
      "Votes are not available.\n",
      "Address:  Mysaiah Complex, Opposite To Cooperative Bank, Colony Nagole Bandlaguda Road, Landmark: Near Vivekananda Statue, Hyderabad\n",
      "https://google.com/search?q=dr+nazia+siddiqua+skin&+hair+clinic+hyderabad\n",
      "https://www.practo.com/hyderabad/doctor/dr-nazia-nousheen-siddiqua-dermatologist-cosmetologist&sa=U&ved=2ahUKEwjC1sb8xvr5AhVSDrkGHYSqB6AQFnoECAUQAg&usg=AOvVaw0VPvBPSXiNKbch8t2IpaM3\n",
      "['https://www.practo.com/hyderabad/doctor/dr-nazia-nousheen-siddiqua-dermatologist-cosmetologist', 'sa=U', 'ved=2ahUKEwjC1sb8xvr5AhVSDrkGHYSqB6AQFnoECAUQAg', 'usg=AOvVaw0VPvBPSXiNKbch8t2IpaM3']\n",
      "Link searched for:  https://www.practo.com/hyderabad/doctor/dr-nazia-nousheen-siddiqua-dermatologist-cosmetologist\n",
      "**************************************************\n"
     ]
    },
    {
     "name": "stderr",
     "output_type": "stream",
     "text": [
      "\r",
      " 20%|███████▌                              | 342/1715 [19:37<1:16:38,  3.35s/it]"
     ]
    },
    {
     "name": "stdout",
     "output_type": "stream",
     "text": [
      "Name:  Dr. Nazia Nousheen Siddiqua\n",
      "Speciality:  Dermatologist\n",
      "Rating:  85% \n",
      "Name:  (34 votes)\n",
      "Address:  Shop No:16-2-705/9/6/12,  Malakpet, Landmark:Near Supermarket., Hyderabad\n",
      "https://google.com/search?q=dr+y+rami+reddy+y+rami+reddy's+gastro+&+liver+center+hyderabad\n",
      "https://www.practo.com/hyderabad/doctor/dr-rami-reddy-y-gastroenterologist-gastroenterologist&sa=U&ved=2ahUKEwiK_7L-xvr5AhUWCLkGHcukB4EQFnoECAgQAg&usg=AOvVaw2ipYY3hXrhlouIIvE7tgVp\n",
      "['https://www.practo.com/hyderabad/doctor/dr-rami-reddy-y-gastroenterologist-gastroenterologist', 'sa=U', 'ved=2ahUKEwiK_7L-xvr5AhUWCLkGHcukB4EQFnoECAgQAg', 'usg=AOvVaw2ipYY3hXrhlouIIvE7tgVp']\n",
      "Link searched for:  https://www.practo.com/hyderabad/doctor/dr-rami-reddy-y-gastroenterologist-gastroenterologist\n",
      "**************************************************\n"
     ]
    },
    {
     "name": "stderr",
     "output_type": "stream",
     "text": [
      "\r",
      " 20%|███████▌                              | 343/1715 [19:40<1:12:54,  3.19s/it]"
     ]
    },
    {
     "name": "stdout",
     "output_type": "stream",
     "text": [
      "Name:  Dr. Y. Rami Reddy\n",
      "Speciality:  Gastroenterologist\n",
      "Rating:  97% \n",
      "Name:  (135 votes)\n",
      "Address:  6-1-1040/1 to 4, Landmark: Beside Ranga Reddy District & Opposite Dwaraka Hotel, Hyderabad\n",
      "https://google.com/search?q=dr+sudheer+d+akshara+poly+clinic+hyderabad\n",
      "https://www.practo.com/hyderabad/clinic/dr-neeraja-valli-kphb&sa=U&ved=2ahUKEwjFwd__xvr5AhXWBbkGHfaRCL8QFnoECAUQAg&usg=AOvVaw184V1wfdAzsAZlgbvVWYUU\n",
      "['https://www.practo.com/hyderabad/clinic/dr-neeraja-valli-kphb', 'sa=U', 'ved=2ahUKEwjFwd__xvr5AhXWBbkGHfaRCL8QFnoECAUQAg', 'usg=AOvVaw184V1wfdAzsAZlgbvVWYUU']\n",
      "Link searched for:  https://www.practo.com/hyderabad/clinic/dr-neeraja-valli-kphb\n",
      "**************************************************\n"
     ]
    },
    {
     "name": "stderr",
     "output_type": "stream",
     "text": [
      "\r",
      " 20%|███████▌                              | 344/1715 [19:42<1:09:57,  3.06s/it]"
     ]
    },
    {
     "name": "stdout",
     "output_type": "stream",
     "text": [
      "Name:  Akshara Poly Clinic\n",
      "Speciality:  Multi-speciality Clinic\n",
      "Rating:  5.0\n",
      "Name:  (77 patient stories)\n",
      "Address:  Hig Plot Number - 163 To 165, Shop Number - G3, Ayyappa Towers, Sixth Phase, Landmark: Beside Allahabad Bank, Near Ninth Phase Auto Stand, Hyderabad\n",
      "https://google.com/search?q=dr+himabindu++kona+pratima+hospital+hyderabad\n",
      "https://www.practo.com/hyderabad/doctor/kona-himabindu-pulmonologist&sa=U&ved=2ahUKEwiy4oeBx_r5AhWxDLkGHb4bAAMQFnoECAUQAg&usg=AOvVaw3_QuxYj6wAZwpBTN6JP8Yq\n",
      "['https://www.practo.com/hyderabad/doctor/kona-himabindu-pulmonologist', 'sa=U', 'ved=2ahUKEwiy4oeBx_r5AhWxDLkGHb4bAAMQFnoECAUQAg', 'usg=AOvVaw3_QuxYj6wAZwpBTN6JP8Yq']\n",
      "Link searched for:  https://www.practo.com/hyderabad/doctor/kona-himabindu-pulmonologist\n",
      "**************************************************\n"
     ]
    },
    {
     "name": "stderr",
     "output_type": "stream",
     "text": [
      "\r",
      " 20%|███████▋                              | 345/1715 [19:46<1:16:26,  3.35s/it]"
     ]
    },
    {
     "name": "stdout",
     "output_type": "stream",
     "text": [
      "Name:  Dr. Himabindu Reddy\n",
      "Speciality:  Pulmonologist\n",
      "Rating:  3.5\n",
      "Votes are not available.\n",
      "Address:  #27, Phase 2, KPHB Colony, Kukatpally, Landmark: Opposite  Shiva Parvathi & Arjun Theatre., Hyderabad\n",
      "https://google.com/search?q=dr+rakesh+jaiswal+dr+jaiswal's+pain+management+centre+hyderabad\n"
     ]
    },
    {
     "name": "stderr",
     "output_type": "stream",
     "text": [
      "\r",
      " 20%|███████▋                              | 346/1715 [19:48<1:06:50,  2.93s/it]"
     ]
    },
    {
     "name": "stdout",
     "output_type": "stream",
     "text": [
      "Couldn't find any practo links.\n",
      "https://google.com/search?q=dr+eluru+stephen+dr+stephens+clinic+cardio+diabetes+clinic+hyderabad\n",
      "https://www.practo.com/hyderabad/clinic/chandra-cardio-diabetes-clinic-lb-nagar&sa=U&ved=2ahUKEwiw3N6Ex_r5AhUQq5UCHSq2APgQFnoECAgQAg&usg=AOvVaw38XjJbK2nAGDoXL-tmldD3\n",
      "['https://www.practo.com/hyderabad/clinic/chandra-cardio-diabetes-clinic-lb-nagar', 'sa=U', 'ved=2ahUKEwiw3N6Ex_r5AhUQq5UCHSq2APgQFnoECAgQAg', 'usg=AOvVaw38XjJbK2nAGDoXL-tmldD3']\n",
      "Link searched for:  https://www.practo.com/hyderabad/clinic/chandra-cardio-diabetes-clinic-lb-nagar\n",
      "**************************************************\n"
     ]
    },
    {
     "name": "stderr",
     "output_type": "stream",
     "text": [
      "\r",
      " 20%|███████▋                              | 347/1715 [19:54<1:28:14,  3.87s/it]"
     ]
    },
    {
     "name": "stdout",
     "output_type": "stream",
     "text": [
      "Name:  Dr.Stephen's Clinic\n",
      "Speciality:  Diabetology and Cardiology Clinic\n",
      "Rating:  5.0\n",
      "Name:  (28 patient stories)\n",
      "Address:  Plot Number 29, Mansoorabad Road,Telangana, Landmark: Beside Oil Mill, Hyderabad\n",
      "https://google.com/search?q=dr+rajeshwari+v+sai+durga+clinic+hyderabad\n",
      "https://www.practo.com/hyderabad/doctor/dr-rajeshwari-j-dermatologist-cosmetologist&sa=U&ved=2ahUKEwjNp9CHx_r5AhXcppUCHfPVC0oQFnoECAYQAg&usg=AOvVaw2PXc1ZBqluthmhQcWwQTH6\n",
      "['https://www.practo.com/hyderabad/doctor/dr-rajeshwari-j-dermatologist-cosmetologist', 'sa=U', 'ved=2ahUKEwjNp9CHx_r5AhXcppUCHfPVC0oQFnoECAYQAg', 'usg=AOvVaw2PXc1ZBqluthmhQcWwQTH6']\n",
      "Link searched for:  https://www.practo.com/hyderabad/doctor/dr-rajeshwari-j-dermatologist-cosmetologist\n",
      "**************************************************\n"
     ]
    },
    {
     "name": "stderr",
     "output_type": "stream",
     "text": [
      "\r",
      " 20%|███████▋                              | 348/1715 [20:01<1:44:36,  4.59s/it]"
     ]
    },
    {
     "name": "stdout",
     "output_type": "stream",
     "text": [
      "Name:  Dr. Rajeshwari\n",
      "Speciality:  Hair Transplant Surgeon\n",
      "Rating:  83% \n",
      "Name:  (943 votes)\n",
      "Address:  Road Number 36, Landmark: Beside Peddamma Temple, Hyderabad\n",
      "https://google.com/search?q=dr+ushakiran+k+meghana+women+infertility+clinic+hyderabad\n",
      "https://www.practo.com/hyderabad/clinic/meghana-women-infertility-clinic-kukatpally&sa=U&ved=2ahUKEwjk8OWJx_r5AhUZnpUCHdt2CjwQFnoECAkQAg&usg=AOvVaw0uy-IMg8ja5q2dZx43zVxm\n",
      "['https://www.practo.com/hyderabad/clinic/meghana-women-infertility-clinic-kukatpally', 'sa=U', 'ved=2ahUKEwjk8OWJx_r5AhUZnpUCHdt2CjwQFnoECAkQAg', 'usg=AOvVaw0uy-IMg8ja5q2dZx43zVxm']\n",
      "Link searched for:  https://www.practo.com/hyderabad/clinic/meghana-women-infertility-clinic-kukatpally\n",
      "**************************************************\n"
     ]
    },
    {
     "name": "stderr",
     "output_type": "stream",
     "text": [
      "\r",
      " 20%|███████▋                              | 349/1715 [20:04<1:33:43,  4.12s/it]"
     ]
    },
    {
     "name": "stdout",
     "output_type": "stream",
     "text": [
      "Name:  Meghana Women & Infertility Clinic\n",
      "Speciality:  Gynecology/Obstetrics Clinic\n",
      "Rating:  4.0\n",
      "Name:  (17 patient stories)\n",
      "Address:  #1-102, Ramalayam Road, Kukatpally, Landmark: Opp To Pragathi Eye Clinic., Hyderabad\n",
      "https://google.com/search?q=dr+nuzhat++jahan+maxsuper+specialty+medical+center+hyderabad\n"
     ]
    },
    {
     "name": "stderr",
     "output_type": "stream",
     "text": [
      "\r",
      " 20%|███████▊                              | 350/1715 [20:08<1:33:17,  4.10s/it]"
     ]
    },
    {
     "name": "stdout",
     "output_type": "stream",
     "text": [
      "https://www.practo.com/india-doctor-clinic-profile-b-4-1-sitemap.xml.gz&sa=U&ved=2ahUKEwid-oWMx_r5AhWGqpUCHWoaA5cQFnoECAEQAg&usg=AOvVaw1aEwZnFphX0ji5Zu3hpuyv\n",
      "['https://www.practo.com/india-doctor-clinic-profile-b-4-1-sitemap.xml.gz', 'sa=U', 'ved=2ahUKEwid-oWMx_r5AhWGqpUCHWoaA5cQFnoECAEQAg', 'usg=AOvVaw1aEwZnFphX0ji5Zu3hpuyv']\n",
      "Link searched for:  https://www.practo.com/india-doctor-clinic-profile-b-4-1-sitemap.xml.gz\n",
      "**************************************************\n",
      "Error was:  'utf-8' codec can't decode byte 0x8b in position 1: invalid start byte\n",
      "https://google.com/search?q=dr+kashinatham+d+habsiguda+speciality+clinic++hyderabad\n",
      "https://www.practo.com/hyderabad/doctor/dr-kashinatham-d-1-urologist&sa=U&ved=2ahUKEwj96P-Nx_r5AhWVupUCHQraBsMQFnoECAoQAg&usg=AOvVaw3N3tOCxbUIZC0SxPQ5JJua\n",
      "['https://www.practo.com/hyderabad/doctor/dr-kashinatham-d-1-urologist', 'sa=U', 'ved=2ahUKEwj96P-Nx_r5AhWVupUCHQraBsMQFnoECAoQAg', 'usg=AOvVaw3N3tOCxbUIZC0SxPQ5JJua']\n",
      "Link searched for:  https://www.practo.com/hyderabad/doctor/dr-kashinatham-d-1-urologist\n",
      "**************************************************\n"
     ]
    },
    {
     "name": "stderr",
     "output_type": "stream",
     "text": [
      "\r",
      " 20%|███████▊                              | 351/1715 [20:14<1:46:53,  4.70s/it]"
     ]
    },
    {
     "name": "stdout",
     "output_type": "stream",
     "text": [
      "Name:  Dr. Kashinatham D\n",
      "Speciality:  Urologist\n",
      "Rating:  4.0\n",
      "Votes are not available.\n",
      "Address:  16-10-29, Nalgonda X Roads, Landmark: Near Nalgonda Cross Bus Stop, Hyderabad\n",
      "https://google.com/search?q=dr+mallikarjuna+reddy+v+shree+krishna+clinic+for+women+and+children+hyderabad\n",
      "https://www.practo.com/hyderabad/doctor/dr-mallikarjun-reddy-1-pediatrician&sa=U&ved=2ahUKEwjjo4qQx_r5AhW_qZUCHdhPDKsQFnoECAgQAg&usg=AOvVaw2jlJhR4_QhvVel9SCxBLh_\n",
      "['https://www.practo.com/hyderabad/doctor/dr-mallikarjun-reddy-1-pediatrician', 'sa=U', 'ved=2ahUKEwjjo4qQx_r5AhW_qZUCHdhPDKsQFnoECAgQAg', 'usg=AOvVaw2jlJhR4_QhvVel9SCxBLh_']\n",
      "Link searched for:  https://www.practo.com/hyderabad/doctor/dr-mallikarjun-reddy-1-pediatrician\n",
      "**************************************************\n"
     ]
    },
    {
     "name": "stderr",
     "output_type": "stream",
     "text": [
      "\r",
      " 21%|███████▊                              | 352/1715 [20:17<1:37:36,  4.30s/it]"
     ]
    },
    {
     "name": "stdout",
     "output_type": "stream",
     "text": [
      "Name:  Dr. Mallikarjun Reddy\n",
      "Speciality:  Pediatrician\n",
      "Rating:  3.5\n",
      "Votes are not available.\n",
      "Address:  1-2-49/13B, Nizampet Road, Kukatpally, Landmark: Near Nagarjuna Homes, Hyderabad\n",
      "https://google.com/search?q=dr+pavitra+reddy+v+shree+krishna+clinic+for+women+and+children+hyderabad\n",
      "https://www.practo.com/hyderabad/doctor/dr-pavitra-reddy-gynecologist-obstetrician&sa=U&ved=2ahUKEwikp-yRx_r5AhUhG7kGHXtGCg8QFnoECAMQAg&usg=AOvVaw3kwxYKdIjeXyz_48eRWL3i\n",
      "['https://www.practo.com/hyderabad/doctor/dr-pavitra-reddy-gynecologist-obstetrician', 'sa=U', 'ved=2ahUKEwikp-yRx_r5AhUhG7kGHXtGCg8QFnoECAMQAg', 'usg=AOvVaw3kwxYKdIjeXyz_48eRWL3i']\n",
      "Link searched for:  https://www.practo.com/hyderabad/doctor/dr-pavitra-reddy-gynecologist-obstetrician\n",
      "**************************************************\n"
     ]
    },
    {
     "name": "stderr",
     "output_type": "stream",
     "text": [
      "\r",
      " 21%|███████▊                              | 353/1715 [20:22<1:38:18,  4.33s/it]"
     ]
    },
    {
     "name": "stdout",
     "output_type": "stream",
     "text": [
      "Name:  Dr. Pavitra Reddy\n",
      "Speciality:  Gynecologist\n",
      "Rating:  4.0\n",
      "Votes are not available.\n",
      "Address:  #687 & 688, Sumana Hospital Lane, Vivekananda Nagar Colony, Landmark: Near medplus pharmacy, Hyderabad\n",
      "https://google.com/search?q=dr+lokesh+b+heallth+care+clinics+hyderabad\n",
      "https://www.practo.com/hyderabad/doctor/dr-lokesh-venkat-bheemisetty-orthopedist&sa=U&ved=2ahUKEwjwlfmTx_r5AhWrNrkGHWpbDgUQFnoECAQQAg&usg=AOvVaw3oVapDelikHA1ZbAGRW3aa\n",
      "['https://www.practo.com/hyderabad/doctor/dr-lokesh-venkat-bheemisetty-orthopedist', 'sa=U', 'ved=2ahUKEwjwlfmTx_r5AhWrNrkGHWpbDgUQFnoECAQQAg', 'usg=AOvVaw3oVapDelikHA1ZbAGRW3aa']\n",
      "Link searched for:  https://www.practo.com/hyderabad/doctor/dr-lokesh-venkat-bheemisetty-orthopedist\n",
      "**************************************************\n"
     ]
    },
    {
     "name": "stderr",
     "output_type": "stream",
     "text": [
      "\r",
      " 21%|███████▊                              | 354/1715 [20:27<1:47:42,  4.75s/it]"
     ]
    },
    {
     "name": "stdout",
     "output_type": "stream",
     "text": [
      "Name:  Dr. Lokesh Venkat Bheemisetty\n",
      "Speciality:  Joint Replacement Surgeon\n",
      "Rating:  5.0\n",
      "Votes are not available.\n",
      "Address:  8-2-269/4/B, Road No.2, Banjara Hills, Hyderabad, Telangana, Landmark: Beside New Rainbow Children Hospital, Hyderabad\n",
      "https://google.com/search?q=dr+manish++gour+++pranaam+hospital+hyderabad\n",
      "https://www.practo.com/hyderabad/doctor/manishgour2000-gmail-com-pediatrician&sa=U&ved=2ahUKEwiZx6uXx_r5AhX8K7kGHUahA3gQFnoECAgQAg&usg=AOvVaw3V9OqZpN6jiBfg5f2jX3ny\n",
      "['https://www.practo.com/hyderabad/doctor/manishgour2000-gmail-com-pediatrician', 'sa=U', 'ved=2ahUKEwiZx6uXx_r5AhX8K7kGHUahA3gQFnoECAgQAg', 'usg=AOvVaw3V9OqZpN6jiBfg5f2jX3ny']\n",
      "Link searched for:  https://www.practo.com/hyderabad/doctor/manishgour2000-gmail-com-pediatrician\n",
      "**************************************************\n"
     ]
    },
    {
     "name": "stderr",
     "output_type": "stream",
     "text": [
      "\r",
      " 21%|███████▊                              | 355/1715 [20:33<1:55:03,  5.08s/it]"
     ]
    },
    {
     "name": "stdout",
     "output_type": "stream",
     "text": [
      "Name:  Dr. Manish Gour\n",
      "Speciality:  Pediatrician\n",
      "Rating:  89% \n",
      "Name:  (133 votes)\n",
      "Address:  1-56/6/40 & 41, Mythri Nagar, Miyapur, Landmark: Near Pai Store & Sujana Super Market, Hyderabad\n",
      "https://google.com/search?q=dr+hari+babu+++++++++++++++++++++++++++++++k+anitha+nursing+home+hyderabad\n",
      "https://www.practo.com/hyderabad/doctor/dr-k-hari-babu-general-physician&sa=U&ved=2ahUKEwj6j4-ax_r5AhXdBrkGHcxAB1AQFnoECAQQAg&usg=AOvVaw2W8G7qOhXb_2-7WwDVCcf1\n",
      "['https://www.practo.com/hyderabad/doctor/dr-k-hari-babu-general-physician', 'sa=U', 'ved=2ahUKEwj6j4-ax_r5AhXdBrkGHcxAB1AQFnoECAQQAg', 'usg=AOvVaw2W8G7qOhXb_2-7WwDVCcf1']\n",
      "Link searched for:  https://www.practo.com/hyderabad/doctor/dr-k-hari-babu-general-physician\n",
      "**************************************************\n"
     ]
    },
    {
     "name": "stderr",
     "output_type": "stream",
     "text": [
      "\r",
      " 21%|███████▉                              | 356/1715 [20:40<2:05:54,  5.56s/it]"
     ]
    },
    {
     "name": "stdout",
     "output_type": "stream",
     "text": [
      "Name:  Dr. K.Hari Babu\n",
      "Speciality:  General Physician\n",
      "Rating:  69% \n",
      "Name:  (16 votes)\n",
      "https://google.com/search?q=dr+deepa+rani++++++++++++++++++++++++++++++bv+sai+deepa+hospital+hyderabad\n",
      "https://www.practo.com/hyderabad/clinic/sai-deepa-neuro-chest-center-chanda-nagar&sa=U&ved=2ahUKEwj2i6edx_r5AhXgA7kGHYMtDfkQFnoECAkQAg&usg=AOvVaw1MLLWwyvx8F7appF9SX0Lc\n",
      "['https://www.practo.com/hyderabad/clinic/sai-deepa-neuro-chest-center-chanda-nagar', 'sa=U', 'ved=2ahUKEwj2i6edx_r5AhXgA7kGHYMtDfkQFnoECAkQAg', 'usg=AOvVaw1MLLWwyvx8F7appF9SX0Lc']\n",
      "Link searched for:  https://www.practo.com/hyderabad/clinic/sai-deepa-neuro-chest-center-chanda-nagar\n",
      "**************************************************\n"
     ]
    },
    {
     "name": "stderr",
     "output_type": "stream",
     "text": [
      "\r",
      " 21%|███████▉                              | 357/1715 [20:45<2:00:05,  5.31s/it]"
     ]
    },
    {
     "name": "stdout",
     "output_type": "stream",
     "text": [
      "Name:  Sai Deepa Hospital -Neuro & Multispecialty\n",
      "Speciality:  Multi-speciality Clinic\n",
      "Rating:  5.0\n",
      "Name:  (73 patient stories)\n",
      "Address:  Plot Number 307, Church Road, Huda Colony, Landmark: Beside Canara bank, Hyderabad\n",
      "https://google.com/search?q=dr+ganapathy+reddy++++++++++++++++++++++++++++b+sai+deepa+hospital+hyderabad\n",
      "https://www.practo.com/hyderabad/doctor/b-ganapathi-reddy-pulmonologist&sa=U&ved=2ahUKEwjcjMefx_r5AhUzD9QKHSnODq4QFnoECAgQAg&usg=AOvVaw2LOP-xxiadfwKBzXMCuOmd\n",
      "['https://www.practo.com/hyderabad/doctor/b-ganapathi-reddy-pulmonologist', 'sa=U', 'ved=2ahUKEwjcjMefx_r5AhUzD9QKHSnODq4QFnoECAgQAg', 'usg=AOvVaw2LOP-xxiadfwKBzXMCuOmd']\n",
      "Link searched for:  https://www.practo.com/hyderabad/doctor/b-ganapathi-reddy-pulmonologist\n",
      "**************************************************\n"
     ]
    },
    {
     "name": "stderr",
     "output_type": "stream",
     "text": [
      "\r",
      " 21%|███████▉                              | 358/1715 [20:50<2:02:22,  5.41s/it]"
     ]
    },
    {
     "name": "stdout",
     "output_type": "stream",
     "text": [
      "Name:  Dr. B Ganapathi Reddy\n",
      "Speciality:  Pulmonologist\n",
      "Rating:  5.0\n",
      "Votes are not available.\n",
      "Address:  Plot Number 307, Church Road, Huda Colony, Landmark: Beside Canara bank, Hyderabad\n",
      "https://google.com/search?q=dr+kranthi+kumar+pasupulati+swecha+gastro+&+liver+care+clinic+hyderabad\n",
      "https://www.practo.com/hyderabad/doctor/dr-kranthi-kumar-p-gastroenterologist&sa=U&ved=2ahUKEwjlls2hx_r5AhUBL7kGHR08DSUQFnoECAEQAg&usg=AOvVaw0Mbj44bM8HefuFw6TGEUjc\n",
      "['https://www.practo.com/hyderabad/doctor/dr-kranthi-kumar-p-gastroenterologist', 'sa=U', 'ved=2ahUKEwjlls2hx_r5AhUBL7kGHR08DSUQFnoECAEQAg', 'usg=AOvVaw0Mbj44bM8HefuFw6TGEUjc']\n",
      "Link searched for:  https://www.practo.com/hyderabad/doctor/dr-kranthi-kumar-p-gastroenterologist\n",
      "**************************************************\n"
     ]
    },
    {
     "name": "stderr",
     "output_type": "stream",
     "text": [
      "\r",
      " 21%|███████▉                              | 359/1715 [20:54<1:52:25,  4.97s/it]"
     ]
    },
    {
     "name": "stdout",
     "output_type": "stream",
     "text": [
      "Name:  Dr. Kranthi Kumar P\n",
      "Speciality:  Gastroenterologist\n",
      "Rating not available.\n",
      "Votes are not available.\n",
      "Address:  Flat number 205, Jayabharathi Meadows, Suchitra Road, Landmark: Beside Bommarillu Restaurant, Above Ujwala Bakers, Hyderabad\n",
      "https://google.com/search?q=dr+a+vidyullatha+vidyullatha+clinic+visakhapatnam\n"
     ]
    },
    {
     "name": "stderr",
     "output_type": "stream",
     "text": [
      "\r",
      " 21%|███████▉                              | 360/1715 [20:57<1:34:16,  4.17s/it]"
     ]
    },
    {
     "name": "stdout",
     "output_type": "stream",
     "text": [
      "Couldn't find any practo links.\n",
      "https://google.com/search?q=dr+deepthi+kondagari+endorheumacare++hyderabad\n",
      "https://www.practo.com/hyderabad/doctor/deepthi-kondagari-endocrinologist-endocrinologist&sa=U&ved=2ahUKEwjY5Z6lx_r5AhX-ILkGHbnrAFYQFnoECAIQAg&usg=AOvVaw0tTPqMHiyxH0lzOdRHnl49\n",
      "['https://www.practo.com/hyderabad/doctor/deepthi-kondagari-endocrinologist-endocrinologist', 'sa=U', 'ved=2ahUKEwjY5Z6lx_r5AhX-ILkGHbnrAFYQFnoECAIQAg', 'usg=AOvVaw0tTPqMHiyxH0lzOdRHnl49']\n",
      "Link searched for:  https://www.practo.com/hyderabad/doctor/deepthi-kondagari-endocrinologist-endocrinologist\n",
      "**************************************************\n"
     ]
    },
    {
     "name": "stderr",
     "output_type": "stream",
     "text": [
      "\r",
      " 21%|███████▉                              | 361/1715 [21:03<1:51:54,  4.96s/it]"
     ]
    },
    {
     "name": "stdout",
     "output_type": "stream",
     "text": [
      "Name:  Dr. Deepthi Kondagari\n",
      "Speciality:  Endocrinologist\n",
      "Rating:  93% \n",
      "Name:  (15 votes)\n",
      "Address:  5th floor chikoti green building, Landmark: Above Dr. agarwal eye hospital, Hyderabad\n",
      "https://google.com/search?q=dr+nishant++sunkaraineni+nikhil+hospital+hyderabad\n"
     ]
    },
    {
     "name": "stderr",
     "output_type": "stream",
     "text": [
      "\r",
      " 21%|████████                              | 362/1715 [21:07<1:44:06,  4.62s/it]"
     ]
    },
    {
     "name": "stdout",
     "output_type": "stream",
     "text": [
      "Couldn't find any practo links.\n",
      "https://google.com/search?q=dr+venkateswara++rao++sujatha+eye+care+&+poly+care++hyderabad\n",
      "https://www.practo.com/hyderabad/doctor/dr-venkateswara-rao-ophthalmologist&sa=U&ved=2ahUKEwi0-bypx_r5AhV4O7kGHeXND3sQFnoECAUQAg&usg=AOvVaw1h-8OSkc5Y1be4CP-UvbAf\n",
      "['https://www.practo.com/hyderabad/doctor/dr-venkateswara-rao-ophthalmologist', 'sa=U', 'ved=2ahUKEwi0-bypx_r5AhV4O7kGHeXND3sQFnoECAUQAg', 'usg=AOvVaw1h-8OSkc5Y1be4CP-UvbAf']\n",
      "Link searched for:  https://www.practo.com/hyderabad/doctor/dr-venkateswara-rao-ophthalmologist\n",
      "**************************************************\n"
     ]
    },
    {
     "name": "stderr",
     "output_type": "stream",
     "text": [
      "\r",
      " 21%|████████                              | 363/1715 [21:11<1:40:29,  4.46s/it]"
     ]
    },
    {
     "name": "stdout",
     "output_type": "stream",
     "text": [
      "Name:  Dr. B. Venkateshwar Rao\n",
      "Speciality:  Ophthalmologist/ Eye Surgeon\n",
      "Rating:  99% \n",
      "Name:  (717 votes)\n",
      "Address:  G-8, 6-3-1187, Srinivasa Towers, Greenlands, Landmark: Before ITC Hotel Grand Kakatiya, Hyderabad\n",
      "https://google.com/search?q=dr+hanumantha++rao+t+rama+krishna+hospital+hyderabad\n",
      "https://www.practo.com/hyderabad/doctor/dr-hanumanth-rao-t-general-physician&sa=U&ved=2ahUKEwi_h7erx_r5AhUhFbkGHbg_CBsQFnoECAgQAg&usg=AOvVaw0O3XvoUPnd8ojE08-ouX-Q\n",
      "['https://www.practo.com/hyderabad/doctor/dr-hanumanth-rao-t-general-physician', 'sa=U', 'ved=2ahUKEwi_h7erx_r5AhUhFbkGHbg_CBsQFnoECAgQAg', 'usg=AOvVaw0O3XvoUPnd8ojE08-ouX-Q']\n",
      "Link searched for:  https://www.practo.com/hyderabad/doctor/dr-hanumanth-rao-t-general-physician\n",
      "**************************************************\n"
     ]
    },
    {
     "name": "stderr",
     "output_type": "stream",
     "text": [
      "\r",
      " 21%|████████                              | 364/1715 [21:15<1:38:06,  4.36s/it]"
     ]
    },
    {
     "name": "stdout",
     "output_type": "stream",
     "text": [
      "Name:  Dr. Hanumanth Rao. T\n",
      "Speciality:  General Physician\n",
      "Rating not available.\n",
      "Votes are not available.\n",
      "Address:  # 3-2-28/5, Kachiguda Station Road, Kachiguda, Hyderabad, Andhra Pradesh, Hyderabad\n",
      "https://google.com/search?q=dr+prashanth+kumar++roma+speciality+clinic+hyderabad\n",
      "https://www.practo.com/hyderabad/doctor/dr-dr-prashanth-kumar-n-respiratory-medicine&sa=U&ved=2ahUKEwjdiLKtx_r5AhX4GLkGHcDTCzcQFnoECAkQAg&usg=AOvVaw0e5LTi5aCAL_4frSz_CXuY\n",
      "['https://www.practo.com/hyderabad/doctor/dr-dr-prashanth-kumar-n-respiratory-medicine', 'sa=U', 'ved=2ahUKEwjdiLKtx_r5AhX4GLkGHcDTCzcQFnoECAkQAg', 'usg=AOvVaw0e5LTi5aCAL_4frSz_CXuY']\n",
      "Link searched for:  https://www.practo.com/hyderabad/doctor/dr-dr-prashanth-kumar-n-respiratory-medicine\n",
      "**************************************************\n"
     ]
    },
    {
     "name": "stderr",
     "output_type": "stream",
     "text": [
      "\r",
      " 21%|████████                              | 365/1715 [21:19<1:34:00,  4.18s/it]"
     ]
    },
    {
     "name": "stdout",
     "output_type": "stream",
     "text": [
      "Name:  Dr. Prashanth Kumar N\n",
      "Speciality:  Pulmonologist\n",
      "Rating:  4.5\n",
      "Votes are not available.\n",
      "Address:  6 & 7, Pet Basheerabad, NH 7, Landmark: Near Cine Planet, Hyderabad\n",
      "https://google.com/search?q=dr+rama+krishna+t+dr.+t.+ramakrishna+orthopaedic+&+fracture+clinic+hyderabad\n",
      "https://www.practo.com/hyderabad/doctor/dr-t-ramakrishna-orthopedist-1&sa=U&ved=2ahUKEwiy64Gwx_r5AhXxCLkGHd6RCXYQFnoECAgQAg&usg=AOvVaw2dSBROSfo5-MoXIFy1sBKf\n",
      "['https://www.practo.com/hyderabad/doctor/dr-t-ramakrishna-orthopedist-1', 'sa=U', 'ved=2ahUKEwiy64Gwx_r5AhXxCLkGHd6RCXYQFnoECAgQAg', 'usg=AOvVaw2dSBROSfo5-MoXIFy1sBKf']\n",
      "Link searched for:  https://www.practo.com/hyderabad/doctor/dr-t-ramakrishna-orthopedist-1\n",
      "**************************************************\n"
     ]
    },
    {
     "name": "stderr",
     "output_type": "stream",
     "text": [
      "\r",
      " 21%|████████                              | 366/1715 [21:24<1:35:37,  4.25s/it]"
     ]
    },
    {
     "name": "stdout",
     "output_type": "stream",
     "text": [
      "Name:  Dr. T Ramakrishna\n",
      "Speciality:  Orthopedist\n",
      "Rating:  93% \n",
      "Name:  (30 votes)\n",
      "Address:  #1-1-238/15/2, Vivek Nagar., Landmark: Beside Nandini Veg Hotel., Hyderabad\n",
      "https://google.com/search?q=dr+sruthi+m+sai+nursing+home++hyderabad\n",
      "https://www.practo.com/hyderabad/doctors/paradise%3Fpage%3D5&sa=U&ved=2ahUKEwiJy6mxx_r5AhUiILkGHSqlAvwQFnoECAAQAg&usg=AOvVaw12435nUAf5QcAT_IP2c4hL\n",
      "['https://www.practo.com/hyderabad/doctors/paradise%3Fpage%3D5', 'sa=U', 'ved=2ahUKEwiJy6mxx_r5AhUiILkGHSqlAvwQFnoECAAQAg', 'usg=AOvVaw12435nUAf5QcAT_IP2c4hL']\n",
      "Link searched for:  https://www.practo.com/hyderabad/doctors/paradise%3Fpage%3D5\n",
      "**************************************************\n"
     ]
    },
    {
     "name": "stderr",
     "output_type": "stream",
     "text": [
      "\r",
      " 21%|████████▏                             | 367/1715 [21:28<1:36:28,  4.29s/it]"
     ]
    },
    {
     "name": "stdout",
     "output_type": "stream",
     "text": [
      "Heading is not availble\n",
      "Speciality is not available.\n",
      "Rating not available.\n",
      "Votes are not available.\n",
      "https://google.com/search?q=dr+shankar++anand++sai+nursing+home++hyderabad\n"
     ]
    },
    {
     "name": "stderr",
     "output_type": "stream",
     "text": [
      "\r",
      " 21%|████████▏                             | 368/1715 [21:30<1:23:58,  3.74s/it]"
     ]
    },
    {
     "name": "stdout",
     "output_type": "stream",
     "text": [
      "Couldn't find any practo links.\n",
      "https://google.com/search?q=dr+krishna+mohan+rao+a+avinash+orthopaedic+clinics+hyderabad\n",
      "https://www.practo.com/hyderabad/doctor/dr-a-krishna-mohan-rao-orthopedist-1&sa=U&ved=2ahUKEwjw78a0x_r5AhX2DbkGHTLIB-YQFnoECAgQAg&usg=AOvVaw1isgEi1jodzVcYiuvGk3mB\n",
      "['https://www.practo.com/hyderabad/doctor/dr-a-krishna-mohan-rao-orthopedist-1', 'sa=U', 'ved=2ahUKEwjw78a0x_r5AhX2DbkGHTLIB-YQFnoECAgQAg', 'usg=AOvVaw1isgEi1jodzVcYiuvGk3mB']\n",
      "Link searched for:  https://www.practo.com/hyderabad/doctor/dr-a-krishna-mohan-rao-orthopedist-1\n",
      "**************************************************\n"
     ]
    },
    {
     "name": "stderr",
     "output_type": "stream",
     "text": [
      "\r",
      " 22%|████████▏                             | 369/1715 [21:35<1:28:30,  3.95s/it]"
     ]
    },
    {
     "name": "stdout",
     "output_type": "stream",
     "text": [
      "Name:  Dr. A.Krishna Mohan Rao\n",
      "Speciality:  Orthopedist\n",
      "Rating:  86% \n",
      "Name:  (14 votes)\n",
      "Address:  #9-108/5, Street No 3, Nacharam, Landmark: Near Duroflex Showroom., Hyderabad\n",
      "https://google.com/search?q=dr+prem++sagar++padmavati+medical+center+hyderabad\n",
      "https://www.practo.com/hyderabad/doctor/dr-prem-sagar-general-physician-2&sa=U&ved=2ahUKEwiQhtW2x_r5AhXeJrkGHb4UALsQFnoECAYQAg&usg=AOvVaw0av5Picijr7K1_SOrXDAqF\n",
      "['https://www.practo.com/hyderabad/doctor/dr-prem-sagar-general-physician-2', 'sa=U', 'ved=2ahUKEwiQhtW2x_r5AhXeJrkGHb4UALsQFnoECAYQAg', 'usg=AOvVaw0av5Picijr7K1_SOrXDAqF']\n",
      "Link searched for:  https://www.practo.com/hyderabad/doctor/dr-prem-sagar-general-physician-2\n",
      "**************************************************\n"
     ]
    },
    {
     "name": "stderr",
     "output_type": "stream",
     "text": [
      "\r",
      " 22%|████████▏                             | 370/1715 [21:40<1:36:34,  4.31s/it]"
     ]
    },
    {
     "name": "stdout",
     "output_type": "stream",
     "text": [
      "Name:  Dr. Prem Sagar\n",
      "Speciality:  General Physician\n",
      "Rating not available.\n",
      "Votes are not available.\n",
      "Address:  Tarnaka, Landmark: Opp Spencer's Super market & Beside Srinivasa Medical Hall., Hyderabad\n",
      "https://google.com/search?q=dr+rakesh+adi+sandozi+health+-+the+gastro,+liver+&+pancreas+centre+hyderabad\n",
      "https://www.practo.com/hyderabad/doctor/dr-rakesh-kumar-adi-gastroenterologist&sa=U&ved=2ahUKEwjKm4-5x_r5AhXYArkGHblrBu8QFnoECAMQAg&usg=AOvVaw2gRs9XHNEX5rz-TZrzmhBi\n",
      "['https://www.practo.com/hyderabad/doctor/dr-rakesh-kumar-adi-gastroenterologist', 'sa=U', 'ved=2ahUKEwjKm4-5x_r5AhXYArkGHblrBu8QFnoECAMQAg', 'usg=AOvVaw2gRs9XHNEX5rz-TZrzmhBi']\n",
      "Link searched for:  https://www.practo.com/hyderabad/doctor/dr-rakesh-kumar-adi-gastroenterologist\n",
      "**************************************************\n"
     ]
    },
    {
     "name": "stderr",
     "output_type": "stream",
     "text": [
      "\r",
      " 22%|████████▏                             | 371/1715 [21:45<1:40:44,  4.50s/it]"
     ]
    },
    {
     "name": "stdout",
     "output_type": "stream",
     "text": [
      "Name:  Dr. Rakesh Kumar Adi\n",
      "Speciality:  Gastroenterologist\n",
      "Rating:  83% \n",
      "Name:  (30 votes)\n",
      "Address:  3-6-369/A/25, 3rd Floor, Sandozi Building, Street Number 1, Landmark: Near Tanishq Showroom, Hyderabad\n",
      "https://google.com/search?q=dr+kapardhi+p+l+n+dr.jp+kotlas+medical+centre.diabetes+thyroid+obesity+infertility+hyderabad\n",
      "https://www.practo.com/hyderabad/clinic/dr-j-p-kotla-s-medical-centre-narayanguda&sa=U&ved=2ahUKEwj817y7x_r5AhV2BLkGHX1PBA8QFnoECAMQAg&usg=AOvVaw0ohLzvqW-JFBIB66HgI0s_\n",
      "['https://www.practo.com/hyderabad/clinic/dr-j-p-kotla-s-medical-centre-narayanguda', 'sa=U', 'ved=2ahUKEwj817y7x_r5AhV2BLkGHX1PBA8QFnoECAMQAg', 'usg=AOvVaw0ohLzvqW-JFBIB66HgI0s_']\n",
      "Link searched for:  https://www.practo.com/hyderabad/clinic/dr-j-p-kotla-s-medical-centre-narayanguda\n",
      "**************************************************\n"
     ]
    },
    {
     "name": "stderr",
     "output_type": "stream",
     "text": [
      "\r",
      " 22%|████████▏                             | 372/1715 [21:49<1:37:25,  4.35s/it]"
     ]
    },
    {
     "name": "stdout",
     "output_type": "stream",
     "text": [
      "Name:  Dr J.P Kotla'S Medical Centre\n",
      "Speciality:   Clinic\n",
      "Rating not available.\n",
      "Votes are not available.\n",
      "Address:  3-6-784/12 & 13, 405/405/A Legend Venkatesha Complex, Landmark: Beside Narayanguda Flyover, Next To Taj Mahal Hotel, Hyderabad\n",
      "https://google.com/search?q=dr+akbar++hussain+mohammedi+memorial+hospital+hyderabad\n",
      "https://www.practo.com/hyderabad/doctor/dr-akbar-hussain-general-surgeon&sa=U&ved=2ahUKEwirkrK9x_r5AhUhG7kGHXtGCg8QFnoECAgQAg&usg=AOvVaw3npJ-WSKKdJAfYsJsnYBQF\n",
      "['https://www.practo.com/hyderabad/doctor/dr-akbar-hussain-general-surgeon', 'sa=U', 'ved=2ahUKEwirkrK9x_r5AhUhG7kGHXtGCg8QFnoECAgQAg', 'usg=AOvVaw3npJ-WSKKdJAfYsJsnYBQF']\n",
      "Link searched for:  https://www.practo.com/hyderabad/doctor/dr-akbar-hussain-general-surgeon\n",
      "**************************************************\n"
     ]
    },
    {
     "name": "stderr",
     "output_type": "stream",
     "text": [
      "\r",
      " 22%|████████▎                             | 373/1715 [21:53<1:34:02,  4.20s/it]"
     ]
    },
    {
     "name": "stdout",
     "output_type": "stream",
     "text": [
      "Name:  Dr. Akbar Hussain\n",
      "Speciality:  General Surgeon\n",
      "Rating not available.\n",
      "Votes are not available.\n",
      "Address:  Bahadurpura, Kishan Bagh Road, Attapur, Hyderabad ., Hyderabad\n",
      "https://google.com/search?q=dr+vijaya+iyer++sri+balaji+nursing+home+hyderabad\n",
      "https://www.practo.com/hyderabad/doctor/dr-vijaya-s-iyer-gynecologist-obstetrician&sa=U&ved=2ahUKEwiDpJ2_x_r5AhX1BbkGHSNmARIQgU96BAgKEAQ&usg=AOvVaw3TokZuHKpmwGVt2jDUlX3p\n",
      "['https://www.practo.com/hyderabad/doctor/dr-vijaya-s-iyer-gynecologist-obstetrician', 'sa=U', 'ved=2ahUKEwiDpJ2_x_r5AhX1BbkGHSNmARIQgU96BAgKEAQ', 'usg=AOvVaw3TokZuHKpmwGVt2jDUlX3p']\n",
      "Link searched for:  https://www.practo.com/hyderabad/doctor/dr-vijaya-s-iyer-gynecologist-obstetrician\n",
      "**************************************************\n"
     ]
    },
    {
     "name": "stderr",
     "output_type": "stream",
     "text": [
      "\r",
      " 22%|████████▎                             | 374/1715 [21:57<1:33:18,  4.17s/it]"
     ]
    },
    {
     "name": "stdout",
     "output_type": "stream",
     "text": [
      "Name:  Dr. Vijaya S Iyer\n",
      "Speciality:  Gynecologist\n",
      "Rating:  96% \n",
      "Name:  (23 votes)\n",
      "Address:  Number 3-34/1, Vijay Puri Colony, Uppal Main Road, Landmark: Behind HDFC Bank, Hyderabad\n",
      "https://google.com/search?q=dr+vasanth+periketi+kamala+kidney+centre+hyderabad\n",
      "https://www.practo.com/hyderabad/doctor/vasanth-rao-periketi-urologist&sa=U&ved=2ahUKEwinha7Bx_r5AhV0ALkGHWZxAegQFnoECAgQAg&usg=AOvVaw1kkUOkT0o0FE0q_Y6g9FX3\n",
      "['https://www.practo.com/hyderabad/doctor/vasanth-rao-periketi-urologist', 'sa=U', 'ved=2ahUKEwinha7Bx_r5AhV0ALkGHWZxAegQFnoECAgQAg', 'usg=AOvVaw1kkUOkT0o0FE0q_Y6g9FX3']\n",
      "Link searched for:  https://www.practo.com/hyderabad/doctor/vasanth-rao-periketi-urologist\n",
      "**************************************************\n"
     ]
    },
    {
     "name": "stderr",
     "output_type": "stream",
     "text": [
      "\r",
      " 22%|████████▎                             | 375/1715 [22:01<1:32:08,  4.13s/it]"
     ]
    },
    {
     "name": "stdout",
     "output_type": "stream",
     "text": [
      "Name:  Dr. Vasanth Rao Periketi\n",
      "Speciality:  Urologist\n",
      "Rating:  96% \n",
      "Name:  (27 votes)\n",
      "Address:  new maruti nagar next to viswas hospitals, Landmark: Beside Megha Function Hall, Above Jeevan Hospital & Opposite N Village Hospital, Hyderabad\n",
      "https://google.com/search?q=dr+vamshidhar++reddy+v+sandozi+health+-+the+gastro,+liver+&+pancreas+centre+hyderabad\n",
      "https://www.practo.com/hyderabad/doctor/dr-vamshidar-reddy-gastroenterologist-1&sa=U&ved=2ahUKEwi4rozDx_r5AhXfGLkGHaxFAlUQFnoECAkQAg&usg=AOvVaw2j2r0mZDPiIWmn57kf9PPG\n",
      "['https://www.practo.com/hyderabad/doctor/dr-vamshidar-reddy-gastroenterologist-1', 'sa=U', 'ved=2ahUKEwi4rozDx_r5AhXfGLkGHaxFAlUQFnoECAkQAg', 'usg=AOvVaw2j2r0mZDPiIWmn57kf9PPG']\n",
      "Link searched for:  https://www.practo.com/hyderabad/doctor/dr-vamshidar-reddy-gastroenterologist-1\n",
      "**************************************************\n"
     ]
    },
    {
     "name": "stderr",
     "output_type": "stream",
     "text": [
      "\r",
      " 22%|████████▎                             | 376/1715 [22:04<1:27:53,  3.94s/it]"
     ]
    },
    {
     "name": "stdout",
     "output_type": "stream",
     "text": [
      "Name:  Dr. Vamshidhar Reddy. T\n",
      "Speciality:  Gastroenterologist\n",
      "Rating:  89% \n",
      "Name:  (37 votes)\n",
      "Address:  Opposite LB Nagar Police Station (opposite Lakshmi Hyundai Showroom), Landmark: Opposite Lakshmi Hyundai, LB Nagar, Hyderabad\n",
      "https://google.com/search?q=dr+harish+rachuri+avigna+childern's+clinic+hyderabad\n",
      "https://www.practo.com/hyderabad/doctor/dr-harish-rachuri&sa=U&ved=2ahUKEwis8-LEx_r5AhVMLLkGHc2_DZ8QFnoECAkQAg&usg=AOvVaw15sEc-qvR8Swhm8d-LJdBp\n",
      "['https://www.practo.com/hyderabad/doctor/dr-harish-rachuri', 'sa=U', 'ved=2ahUKEwis8-LEx_r5AhVMLLkGHc2_DZ8QFnoECAkQAg', 'usg=AOvVaw15sEc-qvR8Swhm8d-LJdBp']\n",
      "Link searched for:  https://www.practo.com/hyderabad/doctor/dr-harish-rachuri\n",
      "**************************************************\n"
     ]
    },
    {
     "name": "stderr",
     "output_type": "stream",
     "text": [
      "\r",
      " 22%|████████▎                             | 377/1715 [22:08<1:28:43,  3.98s/it]"
     ]
    },
    {
     "name": "stdout",
     "output_type": "stream",
     "text": [
      "Name:  Dr. Harish Rachuri\n",
      "Speciality:  Pediatrician\n",
      "Rating not available.\n",
      "Votes are not available.\n",
      "Address:  Plot Number 14, Sahara Road, Landmark: Near Nagarjuna School, Hyderabad\n",
      "https://google.com/search?q=dr+pranathi+b+bsr+ent+&+eye+hospital+hyderabad\n",
      "https://www.practo.com/hyderabad/doctor/dr-pranathi-ophthalmologist-1&sa=U&ved=2ahUKEwjhxcXHx_r5AhW4pZUCHbkdCagQFnoECAgQAg&usg=AOvVaw3Jku_XhV4mWvIAiyaKiauo\n",
      "['https://www.practo.com/hyderabad/doctor/dr-pranathi-ophthalmologist-1', 'sa=U', 'ved=2ahUKEwjhxcXHx_r5AhW4pZUCHbkdCagQFnoECAgQAg', 'usg=AOvVaw3Jku_XhV4mWvIAiyaKiauo']\n",
      "Link searched for:  https://www.practo.com/hyderabad/doctor/dr-pranathi-ophthalmologist-1\n",
      "**************************************************\n"
     ]
    },
    {
     "name": "stderr",
     "output_type": "stream",
     "text": [
      "\r",
      " 22%|████████▍                             | 378/1715 [22:14<1:40:57,  4.53s/it]"
     ]
    },
    {
     "name": "stdout",
     "output_type": "stream",
     "text": [
      "Name:  Dr. B. Pranathi\n",
      "Speciality:  Ophthalmologist/ Eye Surgeon\n",
      "Rating:  4.5\n",
      "Votes are not available.\n",
      "Address:  Plot Number 111, Karan Centre, S. D. Road, Landmark: Near Grand Solitaire Annex Hotel & Near Minerva Complex, Hyderabad\n",
      "https://google.com/search?q=dr+sungunakar+reddy+b+sunita+childern's+hospital+hyderabad\n",
      "https://www.practo.com/hyderabad/doctor/dr-b-sugunakar-reddy-pediatrician&sa=U&ved=2ahUKEwib_PfJx_r5AhXyrpUCHeKrDFwQFnoECAkQAg&usg=AOvVaw16EM13AnEORVleVHZu9x15\n",
      "['https://www.practo.com/hyderabad/doctor/dr-b-sugunakar-reddy-pediatrician', 'sa=U', 'ved=2ahUKEwib_PfJx_r5AhXyrpUCHeKrDFwQFnoECAkQAg', 'usg=AOvVaw16EM13AnEORVleVHZu9x15']\n",
      "Link searched for:  https://www.practo.com/hyderabad/doctor/dr-b-sugunakar-reddy-pediatrician\n",
      "**************************************************\n"
     ]
    },
    {
     "name": "stderr",
     "output_type": "stream",
     "text": [
      "\r",
      " 22%|████████▍                             | 379/1715 [22:19<1:43:07,  4.63s/it]"
     ]
    },
    {
     "name": "stdout",
     "output_type": "stream",
     "text": [
      "Name:  Dr. B Sugunakar Reddy\n",
      "Speciality:  Pediatrician\n",
      "Rating not available.\n",
      "Votes are not available.\n",
      "Address:  #82, Santosh Nagar, Champapet, Sagar Road, Landmark: Opp. Rose Gardens., Hyderabad\n",
      "https://google.com/search?q=dr+kiran+kumar+mukku++universal+clinics+hyderabad\n",
      "https://www.practo.com/hyderabad/doctor/kiran-kuman-mukku-nephrologist&sa=U&ved=2ahUKEwiaoufLx_r5AhXFArkGHYa3BqcQFnoECAgQAg&usg=AOvVaw3fPuiaV2rM0lDlEvMKHquT\n",
      "['https://www.practo.com/hyderabad/doctor/kiran-kuman-mukku-nephrologist', 'sa=U', 'ved=2ahUKEwiaoufLx_r5AhXFArkGHYa3BqcQFnoECAgQAg', 'usg=AOvVaw3fPuiaV2rM0lDlEvMKHquT']\n",
      "Link searched for:  https://www.practo.com/hyderabad/doctor/kiran-kuman-mukku-nephrologist\n",
      "**************************************************\n"
     ]
    },
    {
     "name": "stderr",
     "output_type": "stream",
     "text": [
      "\r",
      " 22%|████████▍                             | 380/1715 [22:22<1:33:05,  4.18s/it]"
     ]
    },
    {
     "name": "stdout",
     "output_type": "stream",
     "text": [
      "Name:  Dr. Kiran Kumar Mukku\n",
      "Speciality:  Nephrologist/Renal Specialist\n",
      "Rating:  97% \n",
      "Name:  (70 votes)\n",
      "Address:  universal clinics , 15-24-164, road # 1 , KPHB, Hyderabad , Landmark: Opposite Prime Hospital , Hyderabad\n",
      "https://google.com/search?q=dr+vanaja+reddy+l+sree+teja+clinic+hyderabad\n"
     ]
    },
    {
     "name": "stderr",
     "output_type": "stream",
     "text": [
      "\r",
      " 22%|████████▍                             | 381/1715 [22:26<1:32:41,  4.17s/it]"
     ]
    },
    {
     "name": "stdout",
     "output_type": "stream",
     "text": [
      "Couldn't find any practo links.\n",
      "https://google.com/search?q=dr+svp+reddy+cugnus+institute+of+gastroentrology+hyderabad\n",
      "https://www.practo.com/hyderabad/doctor/dr-s-v-p-reddy-internal-medicine&sa=U&ved=2ahUKEwiWkbnPx_r5AhUcI7kGHUFTBAQQFnoECAgQAg&usg=AOvVaw29Zd-bCvJ5jahvXOFgVqKI\n",
      "['https://www.practo.com/hyderabad/doctor/dr-s-v-p-reddy-internal-medicine', 'sa=U', 'ved=2ahUKEwiWkbnPx_r5AhUcI7kGHUFTBAQQFnoECAgQAg', 'usg=AOvVaw29Zd-bCvJ5jahvXOFgVqKI']\n",
      "Link searched for:  https://www.practo.com/hyderabad/doctor/dr-s-v-p-reddy-internal-medicine\n",
      "**************************************************\n"
     ]
    },
    {
     "name": "stderr",
     "output_type": "stream",
     "text": [
      "\r",
      " 22%|████████▍                             | 382/1715 [22:30<1:28:24,  3.98s/it]"
     ]
    },
    {
     "name": "stdout",
     "output_type": "stream",
     "text": [
      "Name:  Dr. S.V Reddy\n",
      "Speciality:  General Physician\n",
      "Rating:  95% \n",
      "Name:  (76 votes)\n",
      "Address:  34 & 35, Sardar Patel Nagar, Nizampet X Road, Landmark: Opposite More Supermarket, Hyderabad\n",
      "https://google.com/search?q=dr+niranjan+nomula+++kadimi+nursing+home+hyderabad\n",
      "https://www.practo.com/hyderabad/clinic/kadimi-nursing-home-chanda-nagar-2/doctors&sa=U&ved=2ahUKEwisgpfRx_r5AhUOHLkGHSZZBkUQFnoECAAQAg&usg=AOvVaw2OLzOXtW8w8yfy4ftuOjsd\n",
      "['https://www.practo.com/hyderabad/clinic/kadimi-nursing-home-chanda-nagar-2/doctors', 'sa=U', 'ved=2ahUKEwisgpfRx_r5AhUOHLkGHSZZBkUQFnoECAAQAg', 'usg=AOvVaw2OLzOXtW8w8yfy4ftuOjsd']\n",
      "Link searched for:  https://www.practo.com/hyderabad/clinic/kadimi-nursing-home-chanda-nagar-2/doctors\n",
      "**************************************************\n"
     ]
    },
    {
     "name": "stderr",
     "output_type": "stream",
     "text": [
      "\r",
      " 22%|████████▍                             | 383/1715 [22:33<1:23:06,  3.74s/it]"
     ]
    },
    {
     "name": "stdout",
     "output_type": "stream",
     "text": [
      "Name:  Kadimi Nursing Home\n",
      "Speciality:  Multi-speciality Clinic\n",
      "Rating:  4.0\n",
      "Name:  (623 patient stories)\n",
      "Address:  6-94/6/C, Manjeera Road, Landmark: Opposite Hotel Swagath Residency, Hyderabad\n",
      "https://google.com/search?q=dr+srikar+krishna+++++++++++++++++++++++++++++pullela++apollo+clinic+and+sugar+center+hyderabad\n"
     ]
    },
    {
     "name": "stderr",
     "output_type": "stream",
     "text": [
      "\r",
      " 22%|████████▌                             | 384/1715 [22:35<1:13:21,  3.31s/it]"
     ]
    },
    {
     "name": "stdout",
     "output_type": "stream",
     "text": [
      "Couldn't find any practo links.\n",
      "https://google.com/search?q=dr+johnaiah++watts+trichos+hair+transplant+institute+hyderabad\n",
      "https://www.practo.com/hyderabad/doctor/dr-john-hair-transplant-surgeon&sa=U&ved=2ahUKEwj3g7TUx_r5AhVBA9QKHS8CB3kQFnoECAkQAg&usg=AOvVaw0anqHWK2s5OnO7TGeHHhNY\n",
      "['https://www.practo.com/hyderabad/doctor/dr-john-hair-transplant-surgeon', 'sa=U', 'ved=2ahUKEwj3g7TUx_r5AhVBA9QKHS8CB3kQFnoECAkQAg', 'usg=AOvVaw0anqHWK2s5OnO7TGeHHhNY']\n",
      "Link searched for:  https://www.practo.com/hyderabad/doctor/dr-john-hair-transplant-surgeon\n",
      "**************************************************\n"
     ]
    },
    {
     "name": "stderr",
     "output_type": "stream",
     "text": [
      "\r",
      " 22%|████████▌                             | 385/1715 [22:42<1:36:07,  4.34s/it]"
     ]
    },
    {
     "name": "stdout",
     "output_type": "stream",
     "text": [
      "Name:  Dr. John\n",
      "Speciality:  Hair Transplant Surgeon\n",
      "Rating:  95% \n",
      "Name:  (1103 votes)\n",
      "Address:  Plot Noumber-72, 1st Floor, Landmark: Beside Lakme & Opposite Bajaj Electronics, Hyderabad\n",
      "https://google.com/search?q=dr+lily+rodrigues++surakshaka+hospital+hyderabad\n",
      "https://www.practo.com/hyderabad/doctor/dr-lily-rodrigues-general-physician&sa=U&ved=2ahUKEwiVyeTWx_r5AhXILLkGHbtZCU8QFnoECAgQAg&usg=AOvVaw0MMHihLFwuWAXfNeun3iYC\n",
      "['https://www.practo.com/hyderabad/doctor/dr-lily-rodrigues-general-physician', 'sa=U', 'ved=2ahUKEwiVyeTWx_r5AhXILLkGHbtZCU8QFnoECAgQAg', 'usg=AOvVaw0MMHihLFwuWAXfNeun3iYC']\n",
      "Link searched for:  https://www.practo.com/hyderabad/doctor/dr-lily-rodrigues-general-physician\n",
      "**************************************************\n"
     ]
    },
    {
     "name": "stderr",
     "output_type": "stream",
     "text": [
      "\r",
      " 23%|████████▌                             | 386/1715 [22:46<1:34:19,  4.26s/it]"
     ]
    },
    {
     "name": "stdout",
     "output_type": "stream",
     "text": [
      "Name:  Dr. Lily Rodrigues\n",
      "Speciality:  General Physician\n",
      "Rating:  94% \n",
      "Name:  (1040 votes)\n",
      "Address:  M.I.G 218, KPHB Colony Main Road, Landmark: Opposite KPHB Colony Metro Station, Hyderabad\n",
      "https://google.com/search?q=dr+prathyusha++thanuku+dr.+prathyusha's+skin+and+hair+clinic+hyderabad\n",
      "https://www.practo.com/hyderabad/doctor/prathyusha-thanuku-dermatologist&sa=U&ved=2ahUKEwislN7Yx_r5AhXhCLkGHWHcDRkQFnoECAcQAg&usg=AOvVaw2UdqtpLWh2lrU_xB-DBFf1\n",
      "['https://www.practo.com/hyderabad/doctor/prathyusha-thanuku-dermatologist', 'sa=U', 'ved=2ahUKEwislN7Yx_r5AhXhCLkGHWHcDRkQFnoECAcQAg', 'usg=AOvVaw2UdqtpLWh2lrU_xB-DBFf1']\n",
      "Link searched for:  https://www.practo.com/hyderabad/doctor/prathyusha-thanuku-dermatologist\n",
      "**************************************************\n"
     ]
    },
    {
     "name": "stderr",
     "output_type": "stream",
     "text": [
      "\r",
      " 23%|████████▌                             | 387/1715 [22:50<1:33:12,  4.21s/it]"
     ]
    },
    {
     "name": "stdout",
     "output_type": "stream",
     "text": [
      "Name:  Dr. Prathyusha Thanuku\n",
      "Speciality:  Dermatologist\n",
      "Rating not available.\n",
      "Votes are not available.\n",
      "Address:  Ground Floor, SMR Heights, Road Number 1, Kukatpally, Landmark: Beside Tata Docomo Store, Hyderabad\n",
      "https://google.com/search?q=dr+venkata+sudheer+muraharishetti++suraksha+children+clinic+hyderabad\n",
      "https://www.practo.com/hyderabad/doctor/sudheer-kumar-1-pediatrician&sa=U&ved=2ahUKEwjY6dfax_r5AhW2BbkGHRfFBocQFnoECAMQAg&usg=AOvVaw38mGPXWM3u291PqeCfzWFt\n",
      "['https://www.practo.com/hyderabad/doctor/sudheer-kumar-1-pediatrician', 'sa=U', 'ved=2ahUKEwjY6dfax_r5AhW2BbkGHRfFBocQFnoECAMQAg', 'usg=AOvVaw38mGPXWM3u291PqeCfzWFt']\n",
      "Link searched for:  https://www.practo.com/hyderabad/doctor/sudheer-kumar-1-pediatrician\n",
      "**************************************************\n"
     ]
    },
    {
     "name": "stderr",
     "output_type": "stream",
     "text": [
      "\r",
      " 23%|████████▌                             | 388/1715 [22:54<1:31:22,  4.13s/it]"
     ]
    },
    {
     "name": "stdout",
     "output_type": "stream",
     "text": [
      "Name:  Dr. Sudheer Kumar\n",
      "Speciality:  Pediatrician\n",
      "Rating not available.\n",
      "Votes are not available.\n",
      "https://google.com/search?q=dr+ch+vijay+vijay+sai+neuro+care+visakhapatnam\n"
     ]
    },
    {
     "name": "stderr",
     "output_type": "stream",
     "text": [
      "\r",
      " 23%|████████▌                             | 389/1715 [22:58<1:26:00,  3.89s/it]"
     ]
    },
    {
     "name": "stdout",
     "output_type": "stream",
     "text": [
      "Couldn't find any practo links.\n",
      "https://google.com/search?q=dr+janaki+shirisha+m+suraksha+children+clinic+hyderabad\n",
      "https://www.practo.com/hyderabad/doctor/dr-janaki-shirisha-pediatrician&sa=U&ved=2ahUKEwiGsJTex_r5AhXaFbkGHSFtCC4QFnoECAgQAg&usg=AOvVaw2xg2K2lGLmfOYyCBcBLr0w\n",
      "['https://www.practo.com/hyderabad/doctor/dr-janaki-shirisha-pediatrician', 'sa=U', 'ved=2ahUKEwiGsJTex_r5AhXaFbkGHSFtCC4QFnoECAgQAg', 'usg=AOvVaw2xg2K2lGLmfOYyCBcBLr0w']\n",
      "Link searched for:  https://www.practo.com/hyderabad/doctor/dr-janaki-shirisha-pediatrician\n",
      "**************************************************\n"
     ]
    },
    {
     "name": "stderr",
     "output_type": "stream",
     "text": [
      "\r",
      " 23%|████████▋                             | 390/1715 [23:02<1:27:04,  3.94s/it]"
     ]
    },
    {
     "name": "stdout",
     "output_type": "stream",
     "text": [
      "Name:  Dr. M. Janaki Shirisha\n",
      "Speciality:  Pediatrician\n",
      "Rating not available.\n",
      "Votes are not available.\n",
      "https://google.com/search?q=dr+sudhakar++g+srinivasa+clinic+hyderabad\n",
      "https://www.practo.com/hyderabad/doctor/dr-b-sudhakar-nephrologist/stories&sa=U&ved=2ahUKEwjgmqLgx_r5AhWlDtQKHWrfAKAQFnoECAYQAg&usg=AOvVaw2i9FbX-xCP_D5j1UvKj_LB\n",
      "['https://www.practo.com/hyderabad/doctor/dr-b-sudhakar-nephrologist/stories', 'sa=U', 'ved=2ahUKEwjgmqLgx_r5AhWlDtQKHWrfAKAQFnoECAYQAg', 'usg=AOvVaw2i9FbX-xCP_D5j1UvKj_LB']\n",
      "Link searched for:  https://www.practo.com/hyderabad/doctor/dr-b-sudhakar-nephrologist/stories\n",
      "**************************************************\n"
     ]
    },
    {
     "name": "stderr",
     "output_type": "stream",
     "text": [
      "\r",
      " 23%|████████▋                             | 391/1715 [23:05<1:24:33,  3.83s/it]"
     ]
    },
    {
     "name": "stdout",
     "output_type": "stream",
     "text": [
      "Name:  Dr. B. Sudhakar\n",
      "Speciality:  Nephrologist/Renal Specialist\n",
      "Rating:  100% \n",
      "Name:  (14 votes)\n",
      "Address:  Plot Number 4, Satyam Theatre Road, Srinivasa Nagar, Landmark: Behind Mythrivanam Building & Beside Blue Fox Hotel & Beside Metro Station, Hyderabad\n",
      "https://google.com/search?q=dr+venkata+madhavi+ravinuthala+suraksha+children+clinic+hyderabad\n"
     ]
    },
    {
     "name": "stderr",
     "output_type": "stream",
     "text": [
      "\r",
      " 23%|████████▋                             | 392/1715 [23:07<1:08:34,  3.11s/it]"
     ]
    },
    {
     "name": "stdout",
     "output_type": "stream",
     "text": [
      "Couldn't find any practo links.\n",
      "https://google.com/search?q=dr+archana+b+srinivasa+clinic+hyderabad\n",
      "https://www.practo.com/hyderabad/dermatologist/tilak-nagar-near-srinivasa-towers%3Fpage%3D8&sa=U&ved=2ahUKEwj0nr3ix_r5AhVsO7kGHbp4AE4QFnoECAkQAg&usg=AOvVaw1MguZZqCxGr2gnoroBdhma\n",
      "['https://www.practo.com/hyderabad/dermatologist/tilak-nagar-near-srinivasa-towers%3Fpage%3D8', 'sa=U', 'ved=2ahUKEwj0nr3ix_r5AhVsO7kGHbp4AE4QFnoECAkQAg', 'usg=AOvVaw1MguZZqCxGr2gnoroBdhma']\n",
      "Link searched for:  https://www.practo.com/hyderabad/dermatologist/tilak-nagar-near-srinivasa-towers%3Fpage%3D8\n",
      "**************************************************\n"
     ]
    },
    {
     "name": "stderr",
     "output_type": "stream",
     "text": [
      "\r",
      " 23%|████████▋                             | 393/1715 [23:11<1:13:43,  3.35s/it]"
     ]
    },
    {
     "name": "stdout",
     "output_type": "stream",
     "text": [
      "Heading is not availble\n",
      "Speciality is not available.\n",
      "Rating not available.\n",
      "Votes are not available.\n",
      "https://google.com/search?q=dr+thrivikram+chander+care+plus+poly+clinic+and+diagnostics++hyderabad\n"
     ]
    },
    {
     "name": "stderr",
     "output_type": "stream",
     "text": [
      "\r",
      " 23%|████████▋                             | 394/1715 [23:13<1:04:24,  2.93s/it]"
     ]
    },
    {
     "name": "stdout",
     "output_type": "stream",
     "text": [
      "Couldn't find any practo links.\n",
      "https://google.com/search?q=dr+vamshidhar++reddy+t+pioneer+gastro+&+liver+clinic+hyderabad\n",
      "https://www.practo.com/hyderabad/doctor/dr-vamshidar-reddy-gastroenterologist-1&sa=U&ved=2ahUKEwjlnaHlx_r5AhXLDrkGHa3CBUcQFnoECAgQAg&usg=AOvVaw3gFTcwAi1MBhLZBoH446V1\n",
      "['https://www.practo.com/hyderabad/doctor/dr-vamshidar-reddy-gastroenterologist-1', 'sa=U', 'ved=2ahUKEwjlnaHlx_r5AhXLDrkGHa3CBUcQFnoECAgQAg', 'usg=AOvVaw3gFTcwAi1MBhLZBoH446V1']\n",
      "Link searched for:  https://www.practo.com/hyderabad/doctor/dr-vamshidar-reddy-gastroenterologist-1\n",
      "**************************************************\n"
     ]
    },
    {
     "name": "stderr",
     "output_type": "stream",
     "text": [
      "\r",
      " 23%|████████▊                             | 395/1715 [23:15<1:03:02,  2.87s/it]"
     ]
    },
    {
     "name": "stdout",
     "output_type": "stream",
     "text": [
      "Name:  Dr. Vamshidhar Reddy. T\n",
      "Speciality:  Gastroenterologist\n",
      "Rating:  89% \n",
      "Name:  (37 votes)\n",
      "Address:  Opposite LB Nagar Police Station (opposite Lakshmi Hyundai Showroom), Landmark: Opposite Lakshmi Hyundai, LB Nagar, Hyderabad\n",
      "https://google.com/search?q=dr+sreekanth++burri+sreekanth's+kidney+centre+hyderabad\n",
      "https://www.practo.com/hyderabad/doctor/dr-sreekanth-burri-1-nephrologist&sa=U&ved=2ahUKEwjfg8jmx_r5AhWCCrkGHQbCCgcQFnoECAgQAg&usg=AOvVaw1pdiRsh_Wy4Mmj-rqEMS-E\n",
      "['https://www.practo.com/hyderabad/doctor/dr-sreekanth-burri-1-nephrologist', 'sa=U', 'ved=2ahUKEwjfg8jmx_r5AhWCCrkGHQbCCgcQFnoECAgQAg', 'usg=AOvVaw1pdiRsh_Wy4Mmj-rqEMS-E']\n",
      "Link searched for:  https://www.practo.com/hyderabad/doctor/dr-sreekanth-burri-1-nephrologist\n",
      "**************************************************\n"
     ]
    },
    {
     "name": "stderr",
     "output_type": "stream",
     "text": [
      "\r",
      " 23%|████████▊                             | 396/1715 [23:19<1:10:37,  3.21s/it]"
     ]
    },
    {
     "name": "stdout",
     "output_type": "stream",
     "text": [
      "Name:  Dr. Sreekanth Burri\n",
      "Speciality:  Nephrologist/Renal Specialist\n",
      "Rating:  4.5\n",
      "Votes are not available.\n",
      "Address:  Kamineni Hospital - King Koti Hyderabad - 500 001, Landmark: King Kot, Hyderabad\n",
      "https://google.com/search?q=dr+prashanthi+s+alekhya+ent+care+hyderabad\n",
      "https://www.practo.com/hyderabad/doctor/dr-s-prasanthi-ear-nose-throat-ent-specialist&sa=U&ved=2ahUKEwi2kL7ox_r5AhWEC9QKHXHADccQFnoECAgQAg&usg=AOvVaw1AjlVKt48XvfXScfUtOO6W\n",
      "['https://www.practo.com/hyderabad/doctor/dr-s-prasanthi-ear-nose-throat-ent-specialist', 'sa=U', 'ved=2ahUKEwi2kL7ox_r5AhWEC9QKHXHADccQFnoECAgQAg', 'usg=AOvVaw1AjlVKt48XvfXScfUtOO6W']\n",
      "Link searched for:  https://www.practo.com/hyderabad/doctor/dr-s-prasanthi-ear-nose-throat-ent-specialist\n",
      "**************************************************\n"
     ]
    },
    {
     "name": "stderr",
     "output_type": "stream",
     "text": [
      "\r",
      " 23%|████████▊                             | 397/1715 [23:22<1:09:11,  3.15s/it]"
     ]
    },
    {
     "name": "stdout",
     "output_type": "stream",
     "text": [
      "Name:  Dr. S Prasanti\n",
      "Speciality:  ENT/ Otorhinolaryngologist\n",
      "Rating:  98% \n",
      "Name:  (390 votes)\n",
      "Address:  G K Prashanthi Nilayam, Neredmet .RKpuram fly over.sainikpuri, Landmark: Near RK Puram Flyover, Opposite Aroma Bakery,, Hyderabad\n",
      "https://google.com/search?q=dr+vikrant+vijay+sanjeevani+orthopedic+and+paediatric+centre+hyderabad\n",
      "https://www.practo.com/hyderabad/doctor/dr-vikrant-vijay-orthopedist-2&sa=U&ved=2ahUKEwjwvfTpx_r5AhU7HrkGHVJICRkQFnoECAkQAg&usg=AOvVaw0dKr83GZcVMaPkHhHT8FjB\n",
      "['https://www.practo.com/hyderabad/doctor/dr-vikrant-vijay-orthopedist-2', 'sa=U', 'ved=2ahUKEwjwvfTpx_r5AhU7HrkGHVJICRkQFnoECAkQAg', 'usg=AOvVaw0dKr83GZcVMaPkHhHT8FjB']\n",
      "Link searched for:  https://www.practo.com/hyderabad/doctor/dr-vikrant-vijay-orthopedist-2\n",
      "**************************************************\n"
     ]
    },
    {
     "name": "stderr",
     "output_type": "stream",
     "text": [
      "\r",
      " 23%|████████▊                             | 398/1715 [23:26<1:14:26,  3.39s/it]"
     ]
    },
    {
     "name": "stdout",
     "output_type": "stream",
     "text": [
      "Name:  Dr. Vikrant Vijay\n",
      "Speciality:  Orthopedist\n",
      "Rating:  88% \n",
      "Name:  (16 votes)\n",
      "Address:  Door Number 1-19-72/1/A, Plot Number 1A, Thyagaraya Nagar Colony, Landmark: Behind Anutex, Hyderabad\n",
      "https://google.com/search?q=dr+pratima+s+amrutha+diabetic+centre+hyderabad\n",
      "https://www.practo.com/hyderabad/doctor/ajitha-gotimukul-general-physician/stories&sa=U&ved=2ahUKEwixyc_sx_r5AhV8r5UCHQDTApkQFnoECAEQAg&usg=AOvVaw2Gpoi2J5Uhh3X8NfIY-QYu\n",
      "['https://www.practo.com/hyderabad/doctor/ajitha-gotimukul-general-physician/stories', 'sa=U', 'ved=2ahUKEwixyc_sx_r5AhV8r5UCHQDTApkQFnoECAEQAg', 'usg=AOvVaw2Gpoi2J5Uhh3X8NfIY-QYu']\n",
      "Link searched for:  https://www.practo.com/hyderabad/doctor/ajitha-gotimukul-general-physician/stories\n",
      "**************************************************\n"
     ]
    },
    {
     "name": "stderr",
     "output_type": "stream",
     "text": [
      "\r",
      " 23%|████████▊                             | 399/1715 [23:31<1:26:07,  3.93s/it]"
     ]
    },
    {
     "name": "stdout",
     "output_type": "stream",
     "text": [
      "Name:  Dr. Ajitha Gotimukul\n",
      "Speciality:  Consultant Physician\n",
      "Rating:  100% \n",
      "Name:  (28 votes)\n",
      "Address:  Flat Number 216, Amrutha Estates, Landmark: Above paradise biryani, Hyderabad\n",
      "https://google.com/search?q=dr+ashok+rao+t+pavithra+nursing+home+hyderabad\n"
     ]
    },
    {
     "name": "stderr",
     "output_type": "stream",
     "text": [
      "\r",
      " 23%|████████▊                             | 400/1715 [23:35<1:26:19,  3.94s/it]"
     ]
    },
    {
     "name": "stdout",
     "output_type": "stream",
     "text": [
      "Couldn't find any practo links.\n",
      "https://google.com/search?q=dr+anand++paritosh+ica+clinic+hyderabad\n",
      "https://www.practo.com/hyderabad/clinic/ica-clinic-lingampally&sa=U&ved=2ahUKEwiykpTwx_r5AhUwqJUCHXg4BZMQFnoECAkQAg&usg=AOvVaw1T-IO9x6iR9373pm6zb61B\n",
      "['https://www.practo.com/hyderabad/clinic/ica-clinic-lingampally', 'sa=U', 'ved=2ahUKEwiykpTwx_r5AhUwqJUCHXg4BZMQFnoECAkQAg', 'usg=AOvVaw1T-IO9x6iR9373pm6zb61B']\n",
      "Link searched for:  https://www.practo.com/hyderabad/clinic/ica-clinic-lingampally\n",
      "**************************************************\n"
     ]
    },
    {
     "name": "stderr",
     "output_type": "stream",
     "text": [
      "\r",
      " 23%|████████▉                             | 401/1715 [23:38<1:19:12,  3.62s/it]"
     ]
    },
    {
     "name": "stdout",
     "output_type": "stream",
     "text": [
      "Name:  ICA Clinic\n",
      "Speciality:  Pediatrician Clinic\n",
      "Rating:  5.0\n",
      "Name:  (12 patient stories)\n",
      "Address:  House Number 7-1/301/P/151/2 And 150-P, 1 St Floor, Huda Residential Complex, Serilingampally, Landmark: Near American Oncology Clinic and Opposite Pranam Hospital, Hyderabad\n",
      "https://google.com/search?q=dr+krishna+prasad+v+prabhath+medical+center+childrens+clinic+hyderabad\n",
      "https://www.practo.com/hyderabad/doctor/v-krishna-prasad-pediatrician&sa=U&ved=2ahUKEwjg8djxx_r5AhWCLLkGHdfDAcgQFnoECAgQAg&usg=AOvVaw2zaUovvUkxt2qA2j45YCNJ\n",
      "['https://www.practo.com/hyderabad/doctor/v-krishna-prasad-pediatrician', 'sa=U', 'ved=2ahUKEwjg8djxx_r5AhWCLLkGHdfDAcgQFnoECAgQAg', 'usg=AOvVaw2zaUovvUkxt2qA2j45YCNJ']\n",
      "Link searched for:  https://www.practo.com/hyderabad/doctor/v-krishna-prasad-pediatrician\n",
      "**************************************************\n"
     ]
    },
    {
     "name": "stderr",
     "output_type": "stream",
     "text": [
      "\r",
      " 23%|████████▉                             | 402/1715 [23:42<1:23:00,  3.79s/it]"
     ]
    },
    {
     "name": "stdout",
     "output_type": "stream",
     "text": [
      "Name:  Dr. V Krishna Prasad\n",
      "Speciality:  Pediatrician\n",
      "Rating not available.\n",
      "Votes are not available.\n",
      "Address:  Plot Number  342, High Tension Line Road, Raja Rajeshwari Nagar, Landmark: After La Convention  Centre, Hyderabad\n",
      "https://google.com/search?q=dr+geethika++nutakki+med9+health+care+hyderabad\n",
      "https://www.practo.com/hyderabad/doctor/geethika-nutakki-general-physician&sa=U&ved=2ahUKEwix7q30x_r5AhVMA7kGHdGiD6AQFnoECAMQAg&usg=AOvVaw2jxH34DQA5tjVzcp_5wkDt\n",
      "['https://www.practo.com/hyderabad/doctor/geethika-nutakki-general-physician', 'sa=U', 'ved=2ahUKEwix7q30x_r5AhVMA7kGHdGiD6AQFnoECAMQAg', 'usg=AOvVaw2jxH34DQA5tjVzcp_5wkDt']\n",
      "Link searched for:  https://www.practo.com/hyderabad/doctor/geethika-nutakki-general-physician\n",
      "**************************************************\n"
     ]
    },
    {
     "name": "stderr",
     "output_type": "stream",
     "text": [
      "\r",
      " 23%|████████▉                             | 403/1715 [23:48<1:35:34,  4.37s/it]"
     ]
    },
    {
     "name": "stdout",
     "output_type": "stream",
     "text": [
      "Name:  Dr. Geethika Nutakki\n",
      "Speciality:  General Physician\n",
      "Rating:  100% \n",
      "Name:  (19 votes)\n",
      "Address:  5-3-229/D/58&60,Hylam Colony , Road Number 10B, Landmark: Opposite Medplus Pharmacy, Hyderabad\n",
      "https://google.com/search?q=dr+rakesh+kodati++med9+health+care+hyderabad\n",
      "https://www.practo.com/hyderabad/doctor/kodati-rakesh-pulmonologist&sa=U&ved=2ahUKEwjsqYn3x_r5AhWXJrkGHYjiAZgQFnoECAcQAg&usg=AOvVaw2mSiv5CqVGjRJccMf2feum\n",
      "['https://www.practo.com/hyderabad/doctor/kodati-rakesh-pulmonologist', 'sa=U', 'ved=2ahUKEwjsqYn3x_r5AhWXJrkGHYjiAZgQFnoECAcQAg', 'usg=AOvVaw2mSiv5CqVGjRJccMf2feum']\n",
      "Link searched for:  https://www.practo.com/hyderabad/doctor/kodati-rakesh-pulmonologist\n",
      "**************************************************\n"
     ]
    },
    {
     "name": "stderr",
     "output_type": "stream",
     "text": [
      "\r",
      " 24%|████████▉                             | 404/1715 [23:54<1:45:58,  4.85s/it]"
     ]
    },
    {
     "name": "stdout",
     "output_type": "stream",
     "text": [
      "Name:  Dr. Kodati Rakesh\n",
      "Speciality:  Pulmonologist\n",
      "Rating:  4.0\n",
      "Votes are not available.\n",
      "Address:  8-2-596/5, Road Number 10, Landmark: Opposite To Rainbow Hospitals., Hyderabad\n",
      "https://google.com/search?q=dr+taher+khan+md+sagar+hospital+hyderabad\n"
     ]
    },
    {
     "name": "stderr",
     "output_type": "stream",
     "text": [
      "\r",
      " 24%|████████▉                             | 405/1715 [23:56<1:28:56,  4.07s/it]"
     ]
    },
    {
     "name": "stdout",
     "output_type": "stream",
     "text": [
      "Couldn't find any practo links.\n",
      "https://google.com/search?q=dr+srinivas++boga+sriram+clinics+orthopaedics+and+paediatrics+hyderabad\n",
      "https://www.practo.com/hyderabad/doctor/dr-srinivas-boga-orthopedist&sa=U&ved=2ahUKEwiOrZf6x_r5AhVbCbkGHSpqAyAQFnoECAoQAg&usg=AOvVaw0RZLB1cEd-WWZaXdjkFv2e\n",
      "['https://www.practo.com/hyderabad/doctor/dr-srinivas-boga-orthopedist', 'sa=U', 'ved=2ahUKEwiOrZf6x_r5AhVbCbkGHSpqAyAQFnoECAoQAg', 'usg=AOvVaw0RZLB1cEd-WWZaXdjkFv2e']\n",
      "Link searched for:  https://www.practo.com/hyderabad/doctor/dr-srinivas-boga-orthopedist\n",
      "**************************************************\n"
     ]
    },
    {
     "name": "stderr",
     "output_type": "stream",
     "text": [
      "\r",
      " 24%|████████▉                             | 406/1715 [24:00<1:26:50,  3.98s/it]"
     ]
    },
    {
     "name": "stdout",
     "output_type": "stream",
     "text": [
      "Name:  Dr. Srinivas Boga\n",
      "Speciality:  Orthopedist\n",
      "Rating:  4.5\n",
      "Votes are not available.\n",
      "Address:  1st Floor Pipeline Road Puppalaguda, Landmark: Above Apollo Pharmacy, Hyderabad\n",
      "https://google.com/search?q=dr+sivanagaraja+bsv++adithya+children's+clinic+hyderabad\n",
      "https://www.practo.com/hyderabad/doctor/sivanagaraja-pediatrician&sa=U&ved=2ahUKEwilwfz7x_r5AhULLLkGHYXEBmcQFnoECAYQAg&usg=AOvVaw2quHtkgJK8CCCBniaeWL91\n",
      "['https://www.practo.com/hyderabad/doctor/sivanagaraja-pediatrician', 'sa=U', 'ved=2ahUKEwilwfz7x_r5AhULLLkGHYXEBmcQFnoECAYQAg', 'usg=AOvVaw2quHtkgJK8CCCBniaeWL91']\n",
      "Link searched for:  https://www.practo.com/hyderabad/doctor/sivanagaraja-pediatrician\n",
      "**************************************************\n"
     ]
    },
    {
     "name": "stderr",
     "output_type": "stream",
     "text": [
      "\r",
      " 24%|█████████                             | 407/1715 [24:05<1:34:10,  4.32s/it]"
     ]
    },
    {
     "name": "stdout",
     "output_type": "stream",
     "text": [
      "Name:  Dr. Siva NagaRaju\n",
      "Speciality:  Pediatrician\n",
      "Rating:  76% \n",
      "Name:  (17 votes)\n",
      "Address:  Plot No:4 & 5, Pavan Palace, Beside SBI Bank, Quthbullapur Mandal, Landmark: Opposite To Heritage Mart, Hyderabad\n",
      "https://google.com/search?q=dr+vamshi+krishna+sirpa+madhus+mother+&+child+clinic+hyderabad\n",
      "https://www.practo.com/hyderabad/doctor/dr-vamshikrishna-sirpa-pediatrician&sa=U&ved=2ahUKEwjQlLX-x_r5AhURALkGHfMCAigQFnoECAAQAg&usg=AOvVaw1nc1mJQ-2SbPhFUTRdxNtD\n",
      "['https://www.practo.com/hyderabad/doctor/dr-vamshikrishna-sirpa-pediatrician', 'sa=U', 'ved=2ahUKEwjQlLX-x_r5AhURALkGHfMCAigQFnoECAAQAg', 'usg=AOvVaw1nc1mJQ-2SbPhFUTRdxNtD']\n",
      "Link searched for:  https://www.practo.com/hyderabad/doctor/dr-vamshikrishna-sirpa-pediatrician\n",
      "**************************************************\n"
     ]
    },
    {
     "name": "stderr",
     "output_type": "stream",
     "text": [
      "\r",
      " 24%|█████████                             | 408/1715 [24:09<1:32:55,  4.27s/it]"
     ]
    },
    {
     "name": "stdout",
     "output_type": "stream",
     "text": [
      "Name:  Dr. Vamshikrishna Sirpa\n",
      "Speciality:  Pediatrician\n",
      "Rating:  98% \n",
      "Name:  (165 votes)\n",
      "Address:  Ground Floor, Nizampet Main Road, Landmark: Opposite Sri Sri Holistic Hospital, Hyderabad\n",
      "https://google.com/search?q=dr+md+ghouse+mohiuddin+bliss+hospital+hyderabad\n",
      "https://www.practo.com/hyderabad/doctor/dr-md-ghoush-mohiuddin-pediatrician-1&sa=U&ved=2ahUKEwiPz8aAyPr5AhUDr5UCHXgzD-MQFnoECAgQAg&usg=AOvVaw0RDZ4sr4OCO2JID6jN_86Z\n",
      "['https://www.practo.com/hyderabad/doctor/dr-md-ghoush-mohiuddin-pediatrician-1', 'sa=U', 'ved=2ahUKEwiPz8aAyPr5AhUDr5UCHXgzD-MQFnoECAgQAg', 'usg=AOvVaw0RDZ4sr4OCO2JID6jN_86Z']\n",
      "Link searched for:  https://www.practo.com/hyderabad/doctor/dr-md-ghoush-mohiuddin-pediatrician-1\n",
      "**************************************************\n"
     ]
    },
    {
     "name": "stderr",
     "output_type": "stream",
     "text": [
      "\r",
      " 24%|█████████                             | 409/1715 [24:17<1:56:19,  5.34s/it]"
     ]
    },
    {
     "name": "stdout",
     "output_type": "stream",
     "text": [
      "Name:  Dr. Mohd Ghouse Mohiuddin\n",
      "Speciality:  General Physician\n",
      "Rating not available.\n",
      "Votes are not available.\n",
      "Address:  12,2,831/1, Opposite Peace Plaza, Hill Colony, Mehdipatnam,, Landmark: Near Amba theater, Hyderabad\n",
      "https://google.com/search?q=dr+kaviraj+kumar++++++++++++++++++++++++++++++++++kancherla+gokul+clinics+hyderabad\n"
     ]
    },
    {
     "name": "stderr",
     "output_type": "stream",
     "text": [
      "\r",
      " 24%|█████████                             | 410/1715 [24:19<1:34:37,  4.35s/it]"
     ]
    },
    {
     "name": "stdout",
     "output_type": "stream",
     "text": [
      "Couldn't find any practo links.\n",
      "https://google.com/search?q=dr+shrikant++ega+spinesure+clinic+hyderabad\n",
      "https://www.practo.com/hyderabad/doctor/dr-ega-shrikanth-umamaheshwar-orthopedist&sa=U&ved=2ahUKEwj_3YyFyPr5AhVgFbkGHcoqCi8QFnoECAQQAg&usg=AOvVaw1U82vNu7kKqSuAbhjro9Ah\n",
      "['https://www.practo.com/hyderabad/doctor/dr-ega-shrikanth-umamaheshwar-orthopedist', 'sa=U', 'ved=2ahUKEwj_3YyFyPr5AhVgFbkGHcoqCi8QFnoECAQQAg', 'usg=AOvVaw1U82vNu7kKqSuAbhjro9Ah']\n",
      "Link searched for:  https://www.practo.com/hyderabad/doctor/dr-ega-shrikanth-umamaheshwar-orthopedist\n",
      "**************************************************\n"
     ]
    },
    {
     "name": "stderr",
     "output_type": "stream",
     "text": [
      "\r",
      " 24%|█████████                             | 411/1715 [24:23<1:33:01,  4.28s/it]"
     ]
    },
    {
     "name": "stdout",
     "output_type": "stream",
     "text": [
      "Name:  Dr. Shrikant Ega\n",
      "Speciality:  Spine Surgeon (Ortho)\n",
      "Rating:  100% \n",
      "Name:  (11 votes)\n",
      "Address:  Plot Number 1, Mumbai Highway, Y Junction., Landmark: Near Balanagar Metro Station., Hyderabad\n",
      "https://google.com/search?q=dr+rakesh+boppana+dr.rakesh's+endocrine+and+diabetes+centre+hyderabad\n",
      "https://www.practo.com/hyderabad/doctor/rakesh-boppana-endocrinologist&sa=U&ved=2ahUKEwjU0bKHyPr5AhUABLkGHSZpDZUQFnoECAgQAg&usg=AOvVaw2v4jpwqWck061qkJO8sTAQ\n",
      "['https://www.practo.com/hyderabad/doctor/rakesh-boppana-endocrinologist', 'sa=U', 'ved=2ahUKEwjU0bKHyPr5AhUABLkGHSZpDZUQFnoECAgQAg', 'usg=AOvVaw2v4jpwqWck061qkJO8sTAQ']\n",
      "Link searched for:  https://www.practo.com/hyderabad/doctor/rakesh-boppana-endocrinologist\n",
      "**************************************************\n"
     ]
    },
    {
     "name": "stderr",
     "output_type": "stream",
     "text": [
      "\r",
      " 24%|█████████▏                            | 412/1715 [24:27<1:31:01,  4.19s/it]"
     ]
    },
    {
     "name": "stdout",
     "output_type": "stream",
     "text": [
      "Name:  Dr. Rakesh Boppana\n",
      "Speciality:  Endocrinologist\n",
      "Rating:  88% \n",
      "Name:  (49 votes)\n",
      "Address:  Apollo Medical centre, Kothaguda X Roads, Landmark: Beside Swagth De-Royal Restaurants, Hyderabad\n",
      "https://google.com/search?q=dr+ramesh++maturi+parijatham+woman's+health+redifined+hyderabad\n",
      "https://www.practo.com/hyderabad/clinic/maturi-health-banjara-hills&sa=U&ved=2ahUKEwjIkZGJyPr5AhUdO7kGHcnMDF0QFnoECAgQAg&usg=AOvVaw3DdyGoleL7RfFFPPSR9TkS\n",
      "['https://www.practo.com/hyderabad/clinic/maturi-health-banjara-hills', 'sa=U', 'ved=2ahUKEwjIkZGJyPr5AhUdO7kGHcnMDF0QFnoECAgQAg', 'usg=AOvVaw3DdyGoleL7RfFFPPSR9TkS']\n",
      "Link searched for:  https://www.practo.com/hyderabad/clinic/maturi-health-banjara-hills\n",
      "**************************************************\n"
     ]
    },
    {
     "name": "stderr",
     "output_type": "stream",
     "text": [
      "\r",
      " 24%|█████████▏                            | 413/1715 [24:31<1:27:08,  4.02s/it]"
     ]
    },
    {
     "name": "stdout",
     "output_type": "stream",
     "text": [
      "Name:  Parijatham Woman's Health Redifined\n",
      "Speciality:  Multi-speciality Clinic\n",
      "Rating not available.\n",
      "Votes are not available.\n",
      "Address:  8-1-301/302/303, Shaikpet, Landmark: Above Karachi Bakery, Hyderabad\n",
      "https://google.com/search?q=dr+sreekanth+vemula++magna+neurology+hyderabad\n",
      "https://www.practo.com/hyderabad/doctor/dr-vemula-sreekanth-neurologist-1&sa=U&ved=2ahUKEwiK5deKyPr5AhUkJbkGHU4vBesQFnoECAkQAg&usg=AOvVaw0eQmU5ZXdLRntWJwo_TKYv\n",
      "['https://www.practo.com/hyderabad/doctor/dr-vemula-sreekanth-neurologist-1', 'sa=U', 'ved=2ahUKEwiK5deKyPr5AhUkJbkGHU4vBesQFnoECAkQAg', 'usg=AOvVaw0eQmU5ZXdLRntWJwo_TKYv']\n",
      "Link searched for:  https://www.practo.com/hyderabad/doctor/dr-vemula-sreekanth-neurologist-1\n",
      "**************************************************\n"
     ]
    },
    {
     "name": "stderr",
     "output_type": "stream",
     "text": [
      "\r",
      " 24%|█████████▏                            | 414/1715 [24:34<1:22:18,  3.80s/it]"
     ]
    },
    {
     "name": "stdout",
     "output_type": "stream",
     "text": [
      "Name:  Dr. Vemula Sreekanth\n",
      "Speciality:  Neurologist\n",
      "Rating:  88% \n",
      "Name:  (186 votes)\n",
      "Address:  Road Number 72, Landmark: Opposite to Bharatiya Vidya Bhavan School Lane & Near Film Nagar, Hyderabad\n",
      "https://google.com/search?q=dr+pradnya+kamble+nirmata+health+care+hyderabad\n"
     ]
    },
    {
     "name": "stderr",
     "output_type": "stream",
     "text": [
      "\r",
      " 24%|█████████▏                            | 415/1715 [24:36<1:10:24,  3.25s/it]"
     ]
    },
    {
     "name": "stdout",
     "output_type": "stream",
     "text": [
      "Couldn't find any practo links.\n",
      "https://google.com/search?q=dr+suchitra+p+children's+clinic+hyderabad\n",
      "https://www.practo.com/hyderabad/doctor/dr-p-suchitra-pediatrician&sa=U&ved=2ahUKEwiBvNGNyPr5AhVtK7kGHcAuDGQQFnoECAkQAg&usg=AOvVaw1jTlkLdnk9EeGDNM5dTyFO\n",
      "['https://www.practo.com/hyderabad/doctor/dr-p-suchitra-pediatrician', 'sa=U', 'ved=2ahUKEwiBvNGNyPr5AhVtK7kGHcAuDGQQFnoECAkQAg', 'usg=AOvVaw1jTlkLdnk9EeGDNM5dTyFO']\n",
      "Link searched for:  https://www.practo.com/hyderabad/doctor/dr-p-suchitra-pediatrician\n",
      "**************************************************\n"
     ]
    },
    {
     "name": "stderr",
     "output_type": "stream",
     "text": [
      "\r",
      " 24%|█████████▏                            | 416/1715 [24:42<1:25:33,  3.95s/it]"
     ]
    },
    {
     "name": "stdout",
     "output_type": "stream",
     "text": [
      "Name:  Dr. P Suchitra\n",
      "Speciality:  Pediatrician\n",
      "Rating not available.\n",
      "Votes are not available.\n",
      "Address:  C-47, Road Number 10, Filmnagar, Jubilee Hills, Landmark: Near Sai Baba Temple, Hyderabad\n",
      "https://google.com/search?q=dr+rahul+chirag++medics+healthcare+hyderabad\n",
      "https://www.practo.com/hyderabad/doctor/dr-dr-rahul-chirag-internal-medicine&sa=U&ved=2ahUKEwjmsu6PyPr5AhVILbkGHZpXCkcQFnoECAgQAg&usg=AOvVaw0hy7ISozrpeCt-a_EO9bBR\n",
      "['https://www.practo.com/hyderabad/doctor/dr-dr-rahul-chirag-internal-medicine', 'sa=U', 'ved=2ahUKEwjmsu6PyPr5AhVILbkGHZpXCkcQFnoECAgQAg', 'usg=AOvVaw0hy7ISozrpeCt-a_EO9bBR']\n",
      "Link searched for:  https://www.practo.com/hyderabad/doctor/dr-dr-rahul-chirag-internal-medicine\n",
      "**************************************************\n"
     ]
    },
    {
     "name": "stderr",
     "output_type": "stream",
     "text": [
      "\r",
      " 24%|█████████▏                            | 417/1715 [24:46<1:26:55,  4.02s/it]"
     ]
    },
    {
     "name": "stdout",
     "output_type": "stream",
     "text": [
      "Name:  Dr. Rahul Chirag\n",
      "Speciality:  General Physician\n",
      "Rating:  98% \n",
      "Name:  (54 votes)\n",
      "Address:  2-29/55/E, Nanakramguda, Landmark: Near Golf View Apartments, Hyderabad\n",
      "https://google.com/search?q=dr+prasanna+b+sanjeevini+diabetes,+thyroid+&+endocrine+clinic++hyderabad\n"
     ]
    },
    {
     "name": "stderr",
     "output_type": "stream",
     "text": [
      "\r",
      " 24%|█████████▎                            | 418/1715 [24:50<1:25:02,  3.93s/it]"
     ]
    },
    {
     "name": "stdout",
     "output_type": "stream",
     "text": [
      "Couldn't find any practo links.\n",
      "https://google.com/search?q=dr+t+rajashekhar+visakha+multi+speciality+clinic+visakhapatnam\n",
      "https://www.practo.com/visakhapatnam/clinic/visakha-pharmacy-prahladapuram&sa=U&ved=2ahUKEwiaydCTyPr5AhXpBbkGHS-tCjkQFnoECAAQAg&usg=AOvVaw2b_N9iaoOSAW3bznLcC34Q\n",
      "['https://www.practo.com/visakhapatnam/clinic/visakha-pharmacy-prahladapuram', 'sa=U', 'ved=2ahUKEwiaydCTyPr5AhXpBbkGHS-tCjkQFnoECAAQAg', 'usg=AOvVaw2b_N9iaoOSAW3bznLcC34Q']\n",
      "Link searched for:  https://www.practo.com/visakhapatnam/clinic/visakha-pharmacy-prahladapuram\n",
      "**************************************************\n"
     ]
    },
    {
     "name": "stderr",
     "output_type": "stream",
     "text": [
      "\r",
      " 24%|█████████▎                            | 419/1715 [24:54<1:27:42,  4.06s/it]"
     ]
    },
    {
     "name": "stdout",
     "output_type": "stream",
     "text": [
      "Name:  Visakha Pharmacy\n",
      "Speciality:  Multi-speciality Clinic\n",
      "Rating:  5.0\n",
      "Name:  (23 patient stories)\n",
      "Address:  Simhachalam Road, Prahaladapuram, Landmark: Near Hari Sankar Departmental Stores, Visakhapatnam\n",
      "https://google.com/search?q=dr+vijay+kumar+kolkunda++medione+family+clinics+hyderabad\n",
      "https://www.practo.com/hyderabad/doctor/dr-kolkunda-vijay-kumar-general-physician&sa=U&ved=2ahUKEwi-xtqVyPr5AhWVBdQKHcgKBd8QFnoECAkQAg&usg=AOvVaw2Ve-wuKQIu5C1e-gS5P8Fp\n",
      "['https://www.practo.com/hyderabad/doctor/dr-kolkunda-vijay-kumar-general-physician', 'sa=U', 'ved=2ahUKEwi-xtqVyPr5AhWVBdQKHcgKBd8QFnoECAkQAg', 'usg=AOvVaw2Ve-wuKQIu5C1e-gS5P8Fp']\n",
      "Link searched for:  https://www.practo.com/hyderabad/doctor/dr-kolkunda-vijay-kumar-general-physician\n",
      "**************************************************\n"
     ]
    },
    {
     "name": "stderr",
     "output_type": "stream",
     "text": [
      "\r",
      " 24%|█████████▎                            | 420/1715 [24:58<1:26:42,  4.02s/it]"
     ]
    },
    {
     "name": "stdout",
     "output_type": "stream",
     "text": [
      "Name:  Dr. Kolkunda Vijay Kumar\n",
      "Speciality:  General Physician\n",
      "Rating:  99% \n",
      "Name:  (208 votes)\n",
      "Address:  Ground Floor, Akshita Spaces, Ameenpur Road, Landmark: Sridevi Theater Lane, Ameenpur Road, Near Peddama Temple, Hyderabad\n",
      "https://google.com/search?q=dr+jayasree++mecharla+jayasree+clinic+hyderabad\n",
      "https://www.practo.com/hyderabad/clinic/jayasree-clinic-kukatpally&sa=U&ved=2ahUKEwibw8mXyPr5AhUpBLkGHcU4CksQFnoECAgQAg&usg=AOvVaw0G2shmVWHdw5EKQi58X-Zw\n",
      "['https://www.practo.com/hyderabad/clinic/jayasree-clinic-kukatpally', 'sa=U', 'ved=2ahUKEwibw8mXyPr5AhUpBLkGHcU4CksQFnoECAgQAg', 'usg=AOvVaw0G2shmVWHdw5EKQi58X-Zw']\n",
      "Link searched for:  https://www.practo.com/hyderabad/clinic/jayasree-clinic-kukatpally\n",
      "**************************************************\n"
     ]
    },
    {
     "name": "stderr",
     "output_type": "stream",
     "text": [
      "\r",
      " 25%|█████████▎                            | 421/1715 [25:01<1:17:01,  3.57s/it]"
     ]
    },
    {
     "name": "stdout",
     "output_type": "stream",
     "text": [
      "Name:  Jayasree Clinic\n",
      "Speciality:   Clinic\n",
      "Rating not available.\n",
      "Votes are not available.\n",
      "Address:  Plot no 565, Pragathi Nagar, Landmark: Grama Panchathi Ofiice-Pragathi Nagar, Hyderabad\n",
      "https://google.com/search?q=dr+gumperla++badrinath+vikhyathi+hospital+visakhapatnam\n",
      "https://www.practo.com/visakhapatnam/orthopedist&sa=U&ved=2ahUKEwi5muSYyPr5AhXiA7kGHaTJDN0QFnoECAMQAg&usg=AOvVaw3f5dQh_zGB-t19QXX8q0By\n",
      "['https://www.practo.com/visakhapatnam/orthopedist', 'sa=U', 'ved=2ahUKEwi5muSYyPr5AhXiA7kGHaTJDN0QFnoECAMQAg', 'usg=AOvVaw3f5dQh_zGB-t19QXX8q0By']\n",
      "Link searched for:  https://www.practo.com/visakhapatnam/orthopedist\n",
      "**************************************************\n"
     ]
    },
    {
     "name": "stderr",
     "output_type": "stream",
     "text": [
      "\r",
      " 25%|█████████▎                            | 422/1715 [25:05<1:25:22,  3.96s/it]"
     ]
    },
    {
     "name": "stdout",
     "output_type": "stream",
     "text": [
      "Name:  11 doctors available in Visakhapatnam\n",
      "Speciality is not available.\n",
      "Rating not available.\n",
      "Votes are not available.\n",
      "https://google.com/search?q=dr+pavan+kumar+u+olive+medical+centre+-+multi+speciality+clinic+hyderabad\n",
      "https://www.practo.com/hyderabad/doctor/dr-u-pavan-kumar-endocrinologist&sa=U&ved=2ahUKEwjJoI2byPr5AhV0BdQKHVG7DQ8QFnoECAUQAg&usg=AOvVaw36wLBGANOMmayb5RW-HX2A\n",
      "['https://www.practo.com/hyderabad/doctor/dr-u-pavan-kumar-endocrinologist', 'sa=U', 'ved=2ahUKEwjJoI2byPr5AhV0BdQKHVG7DQ8QFnoECAUQAg', 'usg=AOvVaw36wLBGANOMmayb5RW-HX2A']\n",
      "Link searched for:  https://www.practo.com/hyderabad/doctor/dr-u-pavan-kumar-endocrinologist\n",
      "**************************************************\n"
     ]
    },
    {
     "name": "stderr",
     "output_type": "stream",
     "text": [
      "\r",
      " 25%|█████████▎                            | 423/1715 [25:11<1:34:02,  4.37s/it]"
     ]
    },
    {
     "name": "stdout",
     "output_type": "stream",
     "text": [
      "Name:  Dr. U. Pavan Kumar\n",
      "Speciality:  Endocrinologist\n",
      "Rating:  5.0\n",
      "Votes are not available.\n",
      "Address:  SLG Circle, Nizampet Road, Bachupally, Landmark: SLG Circle, Hyderabad\n",
      "https://google.com/search?q=dr+rambabu+k+apollo+health+city+hyderabad\n"
     ]
    },
    {
     "name": "stderr",
     "output_type": "stream",
     "text": [
      "\r",
      " 25%|█████████▍                            | 424/1715 [25:13<1:19:00,  3.67s/it]"
     ]
    },
    {
     "name": "stdout",
     "output_type": "stream",
     "text": [
      "Couldn't find any practo links.\n",
      "https://google.com/search?q=dr+bhanu+kiran+reddy+maddi+olive+medical+centre+-+multi+speciality+clinic+hyderabad\n",
      "https://www.practo.com/hyderabad/doctor/dr-maddi-bhanu-kiran-reddy-general-physician&sa=U&ved=2ahUKEwiTuc6eyPr5AhUED7kGHZvUD8EQFnoECAkQAg&usg=AOvVaw0jv9E4jve7W1YHz7i20Zs2\n",
      "['https://www.practo.com/hyderabad/doctor/dr-maddi-bhanu-kiran-reddy-general-physician', 'sa=U', 'ved=2ahUKEwiTuc6eyPr5AhUED7kGHZvUD8EQFnoECAkQAg', 'usg=AOvVaw0jv9E4jve7W1YHz7i20Zs2']\n",
      "Link searched for:  https://www.practo.com/hyderabad/doctor/dr-maddi-bhanu-kiran-reddy-general-physician\n",
      "**************************************************\n"
     ]
    },
    {
     "name": "stderr",
     "output_type": "stream",
     "text": [
      "\r",
      " 25%|█████████▍                            | 425/1715 [25:17<1:24:03,  3.91s/it]"
     ]
    },
    {
     "name": "stdout",
     "output_type": "stream",
     "text": [
      "Name:  Dr. Maddi Bhanu Kiran Reddy\n",
      "Speciality:  Cardiologist\n",
      "Rating:  5.0\n",
      "Votes are not available.\n",
      "Address:  SLG Circle, Nizampet Road, Bachupally, Landmark: SLG Circle, Hyderabad\n",
      "https://google.com/search?q=dr+chithamadaka+sairam+swarna+sai+hospital+hyderabad\n"
     ]
    },
    {
     "name": "stderr",
     "output_type": "stream",
     "text": [
      "\r",
      " 25%|█████████▍                            | 426/1715 [25:21<1:23:00,  3.86s/it]"
     ]
    },
    {
     "name": "stdout",
     "output_type": "stream",
     "text": [
      "Couldn't find any practo links.\n",
      "https://google.com/search?q=dr+p++padmalatha+dr.+padmalatha+clinic+sanjeevi+poly+clinic+visakhapatnam\n",
      "https://www.practo.com/visakhapatnam/clinic/sanjeevi-poly-clinic-maharanipeta&sa=U&ved=2ahUKEwiF7cSiyPr5AhUfGbkGHWZQATsQFnoECAMQAg&usg=AOvVaw0_tRPvbphM9IFEl_4z8qDG\n",
      "['https://www.practo.com/visakhapatnam/clinic/sanjeevi-poly-clinic-maharanipeta', 'sa=U', 'ved=2ahUKEwiF7cSiyPr5AhUfGbkGHWZQATsQFnoECAMQAg', 'usg=AOvVaw0_tRPvbphM9IFEl_4z8qDG']\n",
      "Link searched for:  https://www.practo.com/visakhapatnam/clinic/sanjeevi-poly-clinic-maharanipeta\n",
      "**************************************************\n"
     ]
    },
    {
     "name": "stderr",
     "output_type": "stream",
     "text": [
      "\r",
      " 25%|█████████▍                            | 427/1715 [25:25<1:22:04,  3.82s/it]"
     ]
    },
    {
     "name": "stdout",
     "output_type": "stream",
     "text": [
      "Name:  Sanjeevi Poly Clinic\n",
      "Speciality:  Urology Clinic\n",
      "Rating:  4.5\n",
      "Name:  (11 patient stories)\n",
      "Address:  Opp. Vijaya Medical Centre, Landmark: Near Z.P Junction., Visakhapatnam\n",
      "https://google.com/search?q=dr+gauthami+n+av+clinic+hyderabad\n",
      "https://www.practo.com/hyderabad/doctor/gouthami-padugundla-paediatrics&sa=U&ved=2ahUKEwiJn6ikyPr5AhV8K7kGHRHhAAwQFnoECAYQAg&usg=AOvVaw1RuTXTinYniHP-0Kuvr9Mj\n",
      "['https://www.practo.com/hyderabad/doctor/gouthami-padugundla-paediatrics', 'sa=U', 'ved=2ahUKEwiJn6ikyPr5AhV8K7kGHRHhAAwQFnoECAYQAg', 'usg=AOvVaw1RuTXTinYniHP-0Kuvr9Mj']\n",
      "Link searched for:  https://www.practo.com/hyderabad/doctor/gouthami-padugundla-paediatrics\n",
      "**************************************************\n"
     ]
    },
    {
     "name": "stderr",
     "output_type": "stream",
     "text": [
      "\r",
      " 25%|█████████▍                            | 428/1715 [25:29<1:22:12,  3.83s/it]"
     ]
    },
    {
     "name": "stdout",
     "output_type": "stream",
     "text": [
      "Name:  Dr. Gouthami Padugundla\n",
      "Speciality:  Pediatrician\n",
      "Rating not available.\n",
      "Votes are not available.\n",
      "Address:  Jai Jawan Colony ,, Landmark: Saket Towers, Hyderabad\n",
      "https://google.com/search?q=dr+neehar++potluri+neehar+neuro+center+hyderabad\n",
      "https://www.practo.com/hyderabad/doctor/dr-neehar-potluri-neurologist&sa=U&ved=2ahUKEwipnuSmyPr5AhWzGLkGHQjmCu4QFnoECAkQAg&usg=AOvVaw0Qv63n5lWrRH0oTnGQfL8Z\n",
      "['https://www.practo.com/hyderabad/doctor/dr-neehar-potluri-neurologist', 'sa=U', 'ved=2ahUKEwipnuSmyPr5AhWzGLkGHQjmCu4QFnoECAkQAg', 'usg=AOvVaw0Qv63n5lWrRH0oTnGQfL8Z']\n",
      "Link searched for:  https://www.practo.com/hyderabad/doctor/dr-neehar-potluri-neurologist\n",
      "**************************************************\n"
     ]
    },
    {
     "name": "stderr",
     "output_type": "stream",
     "text": [
      "\r",
      " 25%|█████████▌                            | 429/1715 [25:35<1:35:50,  4.47s/it]"
     ]
    },
    {
     "name": "stdout",
     "output_type": "stream",
     "text": [
      "Name:  Dr. Neehar Potluri\n",
      "Speciality:  Neurologist\n",
      "Rating:  98% \n",
      "Name:  (3331 votes)\n",
      "Address:  206, 1st Floor, Ayyappa Towers, KPHB Colony, 6th Phase, Landmark: Near Malaysian Township Circle & Beside HDFC Bank ATM, Hyderabad\n",
      "https://google.com/search?q=dr+shripad+kumar+shripad+hospital+hyderabad\n",
      "https://www.practo.com/hyderabad/doctor/dr-shripad-kumar-sutrawe&sa=U&ved=2ahUKEwibwP-oyPr5AhWdGbkGHb06B3UQFnoECAgQAg&usg=AOvVaw1n8xJpJcLufLmPROXO3GNG\n",
      "['https://www.practo.com/hyderabad/doctor/dr-shripad-kumar-sutrawe', 'sa=U', 'ved=2ahUKEwibwP-oyPr5AhWdGbkGHb06B3UQFnoECAgQAg', 'usg=AOvVaw1n8xJpJcLufLmPROXO3GNG']\n",
      "Link searched for:  https://www.practo.com/hyderabad/doctor/dr-shripad-kumar-sutrawe\n",
      "**************************************************\n"
     ]
    },
    {
     "name": "stderr",
     "output_type": "stream",
     "text": [
      "\r",
      " 25%|█████████▌                            | 430/1715 [25:40<1:40:00,  4.67s/it]"
     ]
    },
    {
     "name": "stdout",
     "output_type": "stream",
     "text": [
      "Name:  Dr. Shripad Kumar Sutrawe\n",
      "Speciality:  Pediatrician\n",
      "Rating:  97% \n",
      "Name:  (68 votes)\n",
      "Address:  Shop no 7,sri Sai Lakshmi Residency,Chandanagar,Hyderabad, Landmark: Opp My Home Jewel, Hyderabad\n",
      "https://google.com/search?q=dr+sita+ch+raveena+neuro+care+hyderabad\n",
      "https://www.practo.com/hyderabad/doctor/dr-ch-sita-neurologist&sa=U&ved=2ahUKEwicqbiryPr5AhUOI7kGHeQdB0gQFnoECAgQAg&usg=AOvVaw0XKJV4l-JafRVLIeHuEbbY\n",
      "['https://www.practo.com/hyderabad/doctor/dr-ch-sita-neurologist', 'sa=U', 'ved=2ahUKEwicqbiryPr5AhUOI7kGHeQdB0gQFnoECAgQAg', 'usg=AOvVaw0XKJV4l-JafRVLIeHuEbbY']\n",
      "Link searched for:  https://www.practo.com/hyderabad/doctor/dr-ch-sita-neurologist\n",
      "**************************************************\n"
     ]
    },
    {
     "name": "stderr",
     "output_type": "stream",
     "text": [
      "\r",
      " 25%|█████████▌                            | 431/1715 [25:43<1:34:17,  4.41s/it]"
     ]
    },
    {
     "name": "stdout",
     "output_type": "stream",
     "text": [
      "Name:  Dr. Ch.Sita\n",
      "Speciality:  Neurologist\n",
      "Rating:  82% \n",
      "Name:  (117 votes)\n",
      "Address:  MIG-283, Road.No.4, KPHB Colony, Kukatpally., Landmark: Near Eswar Eye Hospital, Hyderabad\n",
      "https://google.com/search?q=dr+swaroopa+k+ritu's+skin+care++hyderabad\n",
      "https://www.practo.com/hyderabad/doctor/dr-k-swaroopa-dermatologist-cosmetologist&sa=U&ved=2ahUKEwibzZ-tyPr5AhW9HbkGHXozAdEQFnoECAgQAg&usg=AOvVaw1KUTHAfGt5KwK28L5f65Yg\n",
      "['https://www.practo.com/hyderabad/doctor/dr-k-swaroopa-dermatologist-cosmetologist', 'sa=U', 'ved=2ahUKEwibzZ-tyPr5AhW9HbkGHXozAdEQFnoECAgQAg', 'usg=AOvVaw1KUTHAfGt5KwK28L5f65Yg']\n",
      "Link searched for:  https://www.practo.com/hyderabad/doctor/dr-k-swaroopa-dermatologist-cosmetologist\n",
      "**************************************************\n"
     ]
    },
    {
     "name": "stderr",
     "output_type": "stream",
     "text": [
      "\r",
      " 25%|█████████▌                            | 432/1715 [25:48<1:32:06,  4.31s/it]"
     ]
    },
    {
     "name": "stdout",
     "output_type": "stream",
     "text": [
      "Name:  Dr. K Swaroopa\n",
      "Speciality:  Dermatologist\n",
      "Rating:  86% \n",
      "Name:  (400 votes)\n",
      "Address:  Plot. Number 49, Prashanth Hills Near Raidurgam, X Roads, behind Sunshine Hospitals, Gachibowli,, Landmark: Near Indian stone Crafts, Hyderabad\n",
      "https://google.com/search?q=dr+ravi+teja++reddy+prabhath+medical+center+hyderabad\n",
      "https://www.practo.com/hyderabad/doctor/dr-ravi-teja-reddy-b-pediatrician&sa=U&ved=2ahUKEwi71JivyPr5AhWYGrkGHXZMDZYQFnoECAEQAg&usg=AOvVaw37FsHMUFitmJ3tudN8hkXK\n",
      "['https://www.practo.com/hyderabad/doctor/dr-ravi-teja-reddy-b-pediatrician', 'sa=U', 'ved=2ahUKEwi71JivyPr5AhWYGrkGHXZMDZYQFnoECAEQAg', 'usg=AOvVaw37FsHMUFitmJ3tudN8hkXK']\n",
      "Link searched for:  https://www.practo.com/hyderabad/doctor/dr-ravi-teja-reddy-b-pediatrician\n",
      "**************************************************\n"
     ]
    },
    {
     "name": "stderr",
     "output_type": "stream",
     "text": [
      "\r",
      " 25%|█████████▌                            | 433/1715 [25:51<1:24:02,  3.93s/it]"
     ]
    },
    {
     "name": "stdout",
     "output_type": "stream",
     "text": [
      "Name:  Dr. Ravi Teja Reddy.B\n",
      "Speciality:  Pediatrician\n",
      "Rating:  4.0\n",
      "Votes are not available.\n",
      "Address:  Sainikpuri, Landmark: Beside ICICI Bank, Hyderabad\n",
      "https://google.com/search?q=dr+srinivas++gutta+med9+health+care+hyderabad\n",
      "https://www.practo.com/hyderabad/doctor/dr-gutta-srinivas-1-urologist&sa=U&ved=2ahUKEwiNo9OwyPr5AhXVJrkGHXOxCO8QFnoECAUQAg&usg=AOvVaw3ZqGK625KjpLxoBAZAfxSv\n",
      "['https://www.practo.com/hyderabad/doctor/dr-gutta-srinivas-1-urologist', 'sa=U', 'ved=2ahUKEwiNo9OwyPr5AhXVJrkGHXOxCO8QFnoECAUQAg', 'usg=AOvVaw3ZqGK625KjpLxoBAZAfxSv']\n",
      "Link searched for:  https://www.practo.com/hyderabad/doctor/dr-gutta-srinivas-1-urologist\n",
      "**************************************************\n"
     ]
    },
    {
     "name": "stderr",
     "output_type": "stream",
     "text": [
      "\r",
      " 25%|█████████▌                            | 434/1715 [25:54<1:20:27,  3.77s/it]"
     ]
    },
    {
     "name": "stdout",
     "output_type": "stream",
     "text": [
      "Name:  Dr. Gutta Srinivas\n",
      "Speciality:  Urologist\n",
      "Rating not available.\n",
      "Votes are not available.\n",
      "https://google.com/search?q=dr+g+ravi+kumar+ravikumar+clinic+visakhapatnam\n",
      "https://www.practo.com/visakhapatnam/doctor/dr-ravi-kumar-gurugubeili-vc-cardiologist&sa=U&ved=2ahUKEwi7rKKyyPr5AhUyHLkGHVyFDBkQFnoECAAQAg&usg=AOvVaw0Wd3voahk7gmP2jfma3WA3\n",
      "['https://www.practo.com/visakhapatnam/doctor/dr-ravi-kumar-gurugubeili-vc-cardiologist', 'sa=U', 'ved=2ahUKEwi7rKKyyPr5AhUyHLkGHVyFDBkQFnoECAAQAg', 'usg=AOvVaw0Wd3voahk7gmP2jfma3WA3']\n",
      "Link searched for:  https://www.practo.com/visakhapatnam/doctor/dr-ravi-kumar-gurugubeili-vc-cardiologist\n",
      "**************************************************\n"
     ]
    },
    {
     "name": "stderr",
     "output_type": "stream",
     "text": [
      "\r",
      " 25%|█████████▋                            | 435/1715 [25:57<1:16:02,  3.56s/it]"
     ]
    },
    {
     "name": "stdout",
     "output_type": "stream",
     "text": [
      "Name:  Dr. Ravi Kumar GurugubeIli\n",
      "Speciality:  Cardiologist\n",
      "Rating:  4.5\n",
      "Votes are not available.\n",
      "Address:  15-2-9, Gokhale Road, MaharaniPeta, Landmark: Opposite NBM Law College & Near Century Club, Visakhapatnam\n",
      "https://google.com/search?q=dr+sundar++rao+k+kgh+family+hospital+hyderabad\n",
      "https://www.practo.com/hyderabad/hospital/kgh-the-family-hospital-malakpet-1&sa=U&ved=2ahUKEwizkN-zyPr5AhXCDrkGHdfXDVAQFnoECAgQAg&usg=AOvVaw34Bgk6eOOVmZURFRVRGIe9\n",
      "['https://www.practo.com/hyderabad/hospital/kgh-the-family-hospital-malakpet-1', 'sa=U', 'ved=2ahUKEwizkN-zyPr5AhXCDrkGHdfXDVAQFnoECAgQAg', 'usg=AOvVaw34Bgk6eOOVmZURFRVRGIe9']\n",
      "Link searched for:  https://www.practo.com/hyderabad/hospital/kgh-the-family-hospital-malakpet-1\n",
      "**************************************************\n"
     ]
    },
    {
     "name": "stderr",
     "output_type": "stream",
     "text": [
      "\r",
      " 25%|█████████▋                            | 436/1715 [26:02<1:25:28,  4.01s/it]"
     ]
    },
    {
     "name": "stdout",
     "output_type": "stream",
     "text": [
      "Name:  KGH The Family Hospital\n",
      "Speciality is not available.\n",
      "Rating:  3.5\n",
      "Name:  (12 patient stories)\n",
      "https://google.com/search?q=dr+duvvada++vijaya+babu+sai+prasanna+clinic+visakhapatnam\n"
     ]
    },
    {
     "name": "stderr",
     "output_type": "stream",
     "text": [
      "\r",
      " 25%|█████████▋                            | 437/1715 [26:04<1:12:05,  3.38s/it]"
     ]
    },
    {
     "name": "stdout",
     "output_type": "stream",
     "text": [
      "Couldn't find any practo links.\n",
      "https://google.com/search?q=dr+d+manoj+kumar+skml+nursing+home+visakhapatnam\n"
     ]
    },
    {
     "name": "stderr",
     "output_type": "stream",
     "text": [
      "\r",
      " 26%|█████████▋                            | 438/1715 [26:08<1:15:13,  3.53s/it]"
     ]
    },
    {
     "name": "stdout",
     "output_type": "stream",
     "text": [
      "Couldn't find any practo links.\n",
      "https://google.com/search?q=dr+sitha+laxmi+++++++++++++++++++++++++++sanagavarapu++balaji+clinic+hyderabad\n"
     ]
    },
    {
     "name": "stderr",
     "output_type": "stream",
     "text": [
      "\r",
      " 26%|█████████▋                            | 439/1715 [26:10<1:05:00,  3.06s/it]"
     ]
    },
    {
     "name": "stdout",
     "output_type": "stream",
     "text": [
      "Couldn't find any practo links.\n",
      "https://google.com/search?q=dr+sridhar++d+health+care+clinics++hyderabad\n",
      "https://www.practo.com/hyderabad/doctor/dr-d-sridhar-general-physician&sa=U&ved=2ahUKEwjw2eu5yPr5AhWlA9QKHdYmCzkQFnoECAAQAg&usg=AOvVaw3f8uJoVuaNLlxw21ry9uAD\n",
      "['https://www.practo.com/hyderabad/doctor/dr-d-sridhar-general-physician', 'sa=U', 'ved=2ahUKEwjw2eu5yPr5AhWlA9QKHdYmCzkQFnoECAAQAg', 'usg=AOvVaw3f8uJoVuaNLlxw21ry9uAD']\n",
      "Link searched for:  https://www.practo.com/hyderabad/doctor/dr-d-sridhar-general-physician\n",
      "**************************************************\n"
     ]
    },
    {
     "name": "stderr",
     "output_type": "stream",
     "text": [
      "\r",
      " 26%|█████████▋                            | 440/1715 [26:14<1:11:45,  3.38s/it]"
     ]
    },
    {
     "name": "stdout",
     "output_type": "stream",
     "text": [
      "Name:  Dr. D. Sridhar\n",
      "Speciality:  General Physician\n",
      "Rating not available.\n",
      "Votes are not available.\n",
      "Address:  L.B. Nagar, Main Road, Landmark: Near Narayana College., Hyderabad\n",
      "https://google.com/search?q=dr+suhasini+k+health+care+clinics++hyderabad\n",
      "https://www.practo.com/hyderabad/dermatologist/saroor-nagar&sa=U&ved=2ahUKEwiHzee7yPr5AhXhO7kGHYvSA20QFnoECAIQAg&usg=AOvVaw0ce48a6wsANr4ugTH3wtwI\n",
      "['https://www.practo.com/hyderabad/dermatologist/saroor-nagar', 'sa=U', 'ved=2ahUKEwiHzee7yPr5AhXhO7kGHYvSA20QFnoECAIQAg', 'usg=AOvVaw0ce48a6wsANr4ugTH3wtwI']\n",
      "Link searched for:  https://www.practo.com/hyderabad/dermatologist/saroor-nagar\n",
      "**************************************************\n"
     ]
    },
    {
     "name": "stderr",
     "output_type": "stream",
     "text": [
      "\r",
      " 26%|█████████▊                            | 441/1715 [26:20<1:25:38,  4.03s/it]"
     ]
    },
    {
     "name": "stdout",
     "output_type": "stream",
     "text": [
      "Name:  6 doctors available in Saroor nagar\n",
      "Speciality is not available.\n",
      "Rating not available.\n",
      "Votes are not available.\n",
      "https://google.com/search?q=dr+m+naga+vani+dr+satyavani+diabetes,+thyroid+&+endocrine+center+hyderabad\n",
      "https://www.practo.com/hyderabad/doctor/dr-nagasatyavani&sa=U&ved=2ahUKEwjaqru-yPr5AhXrFbkGHXwADikQFnoECAkQAg&usg=AOvVaw3z2hZDKL0Lkv6DEDFOvaP9\n",
      "['https://www.practo.com/hyderabad/doctor/dr-nagasatyavani', 'sa=U', 'ved=2ahUKEwjaqru-yPr5AhXrFbkGHXwADikQFnoECAkQAg', 'usg=AOvVaw3z2hZDKL0Lkv6DEDFOvaP9']\n",
      "Link searched for:  https://www.practo.com/hyderabad/doctor/dr-nagasatyavani\n",
      "**************************************************\n"
     ]
    },
    {
     "name": "stderr",
     "output_type": "stream",
     "text": [
      "\r",
      " 26%|█████████▊                            | 442/1715 [26:23<1:20:36,  3.80s/it]"
     ]
    },
    {
     "name": "stdout",
     "output_type": "stream",
     "text": [
      "Name:  Dr. M Naga Satya Vani\n",
      "Speciality:  Endocrinologist\n",
      "Rating:  4.5\n",
      "Votes are not available.\n",
      "Address:  6-1-1040/1 to 4, Landmark: Beside Ranga Reddy District & Opposite Dwaraka Hotel, Hyderabad\n",
      "https://google.com/search?q=dr+sreedevi+sunkara+dr.+sreedevi's+gastro+liver+&+endoscopy+clinic+visakhapatnam\n"
     ]
    },
    {
     "name": "stderr",
     "output_type": "stream",
     "text": [
      "\r",
      " 26%|█████████▊                            | 443/1715 [26:25<1:11:09,  3.36s/it]"
     ]
    },
    {
     "name": "stdout",
     "output_type": "stream",
     "text": [
      "Couldn't find any practo links.\n",
      "https://google.com/search?q=dr+sudheer++reddy+k+anvik+ortho+&+childern's+clinic++hyderabad\n",
      "https://www.practo.com/hyderabad/clinic/anvik-ortho-childrens-clinic-lb-nagar&sa=U&ved=2ahUKEwjOqpDByPr5AhUHK7kGHdKyBUAQFnoECAgQAg&usg=AOvVaw3vyFoT0SBK2FKxBCM8UB0E\n",
      "['https://www.practo.com/hyderabad/clinic/anvik-ortho-childrens-clinic-lb-nagar', 'sa=U', 'ved=2ahUKEwjOqpDByPr5AhUHK7kGHdKyBUAQFnoECAgQAg', 'usg=AOvVaw3vyFoT0SBK2FKxBCM8UB0E']\n",
      "Link searched for:  https://www.practo.com/hyderabad/clinic/anvik-ortho-childrens-clinic-lb-nagar\n",
      "**************************************************\n"
     ]
    },
    {
     "name": "stderr",
     "output_type": "stream",
     "text": [
      "\r",
      " 26%|█████████▊                            | 444/1715 [26:29<1:12:03,  3.40s/it]"
     ]
    },
    {
     "name": "stdout",
     "output_type": "stream",
     "text": [
      "Name:  Anvik Ortho & Children's Clinic\n",
      "Speciality:  Orthopedics and Pediatrician Clinic\n",
      "Rating not available.\n",
      "Votes are not available.\n",
      "Address:  5-5-820, Road Number 1, Jahangir Nagar Colony, Chintal Kunta Check Post, Landmark: Opposite SBI ATM, Hyderabad\n",
      "https://google.com/search?q=dr+prapulla++reddy+k+anvik+ortho+&+childerns+clinic+hyderabad\n",
      "https://www.practo.com/hyderabad/clinic/anvik-ortho-childrens-clinic-lb-nagar&sa=U&ved=2ahUKEwjyjubCyPr5AhUDD9QKHdgODKMQFnoECAgQAg&usg=AOvVaw0_gvFPqVoGgc4sLexyHf-K\n",
      "['https://www.practo.com/hyderabad/clinic/anvik-ortho-childrens-clinic-lb-nagar', 'sa=U', 'ved=2ahUKEwjyjubCyPr5AhUDD9QKHdgODKMQFnoECAgQAg', 'usg=AOvVaw0_gvFPqVoGgc4sLexyHf-K']\n",
      "Link searched for:  https://www.practo.com/hyderabad/clinic/anvik-ortho-childrens-clinic-lb-nagar\n",
      "**************************************************\n"
     ]
    },
    {
     "name": "stderr",
     "output_type": "stream",
     "text": [
      "\r",
      " 26%|█████████▊                            | 445/1715 [26:32<1:11:57,  3.40s/it]"
     ]
    },
    {
     "name": "stdout",
     "output_type": "stream",
     "text": [
      "Name:  Anvik Ortho & Children's Clinic\n",
      "Speciality:  Orthopedics and Pediatrician Clinic\n",
      "Rating not available.\n",
      "Votes are not available.\n",
      "Address:  5-5-820, Road Number 1, Jahangir Nagar Colony, Chintal Kunta Check Post, Landmark: Opposite SBI ATM, Hyderabad\n",
      "https://google.com/search?q=dr+manoj+kumar+katragadda+visakha+neuro+care+visakhapatnam\n",
      "https://www.practo.com/visakhapatnam/neurologist&sa=U&ved=2ahUKEwiMlbXEyPr5AhUzBbkGHQ_aBoYQFnoECAcQAg&usg=AOvVaw2SvbHO41BMxigu53NPjcCB\n",
      "['https://www.practo.com/visakhapatnam/neurologist', 'sa=U', 'ved=2ahUKEwiMlbXEyPr5AhUzBbkGHQ_aBoYQFnoECAcQAg', 'usg=AOvVaw2SvbHO41BMxigu53NPjcCB']\n",
      "Link searched for:  https://www.practo.com/visakhapatnam/neurologist\n",
      "**************************************************\n"
     ]
    },
    {
     "name": "stderr",
     "output_type": "stream",
     "text": [
      "\r",
      " 26%|█████████▉                            | 446/1715 [26:35<1:11:11,  3.37s/it]"
     ]
    },
    {
     "name": "stdout",
     "output_type": "stream",
     "text": [
      "Name:  9 doctors available in Visakhapatnam\n",
      "Speciality is not available.\n",
      "Rating not available.\n",
      "Votes are not available.\n",
      "https://google.com/search?q=dr+vijaya++deepika+dermiq+clinic+hyderabad\n",
      "https://www.practo.com/hyderabad/doctor/dr-deepika-23-dermatologist&sa=U&ved=2ahUKEwjG67bGyPr5AhVDHbkGHR_cC_sQFnoECAgQAg&usg=AOvVaw2-oZyLxBTepDGmZ8ePYRCC\n",
      "['https://www.practo.com/hyderabad/doctor/dr-deepika-23-dermatologist', 'sa=U', 'ved=2ahUKEwjG67bGyPr5AhVDHbkGHR_cC_sQFnoECAgQAg', 'usg=AOvVaw2-oZyLxBTepDGmZ8ePYRCC']\n",
      "Link searched for:  https://www.practo.com/hyderabad/doctor/dr-deepika-23-dermatologist\n",
      "**************************************************\n"
     ]
    },
    {
     "name": "stderr",
     "output_type": "stream",
     "text": [
      "\r",
      " 26%|█████████▉                            | 447/1715 [26:41<1:27:12,  4.13s/it]"
     ]
    },
    {
     "name": "stdout",
     "output_type": "stream",
     "text": [
      "Name:  Dr. Vijaya Deepika\n",
      "Speciality:  Dermatologist\n",
      "Rating:  96% \n",
      "Name:  (75 votes)\n",
      "Address:  Plot Number-72, S  Number 12, 3rd Floor, Journalist Colony,, Landmark: Near Chirec School, Hyderabad\n",
      "https://google.com/search?q=dr+sirisha+p+anish+speciality+clinic+hyderabad\n",
      "https://www.practo.com/hyderabad/clinic/anish-speciality-clinic-hyder-nagar&sa=U&ved=2ahUKEwjrp_rIyPr5AhUvHLkGHTWwB_oQFnoECAEQAg&usg=AOvVaw2DbeRiVAZcPlH-OxGp-Ude\n",
      "['https://www.practo.com/hyderabad/clinic/anish-speciality-clinic-hyder-nagar', 'sa=U', 'ved=2ahUKEwjrp_rIyPr5AhUvHLkGHTWwB_oQFnoECAEQAg', 'usg=AOvVaw2DbeRiVAZcPlH-OxGp-Ude']\n",
      "Link searched for:  https://www.practo.com/hyderabad/clinic/anish-speciality-clinic-hyder-nagar\n",
      "**************************************************\n"
     ]
    },
    {
     "name": "stderr",
     "output_type": "stream",
     "text": [
      "\r",
      " 26%|█████████▉                            | 448/1715 [26:45<1:27:08,  4.13s/it]"
     ]
    },
    {
     "name": "stdout",
     "output_type": "stream",
     "text": [
      "Name:  Anish Speciality Clinic\n",
      "Speciality:  Internal Medicine and Consultant Physician Clinic\n",
      "Rating:  5.0\n",
      "Name:  (16 patient stories)\n",
      "Address:  Shop Numer 3, Nizampet Road, Landmark: Beside SBI ATM. Opposite Vertex Sadguru Apartments, Hyderabad\n",
      "https://google.com/search?q=dr+veeresh+h++prabhath+medical+center+hyderabad\n",
      "https://www.practo.com/hyderabad/clinic/prabhath-medical-center-kondapur&sa=U&ved=2ahUKEwjImeLKyPr5AhX4ELkGHSi4D6wQFnoECAQQAg&usg=AOvVaw2azh-e4b5gI2DylhD7kH1a\n",
      "['https://www.practo.com/hyderabad/clinic/prabhath-medical-center-kondapur', 'sa=U', 'ved=2ahUKEwjImeLKyPr5AhX4ELkGHSi4D6wQFnoECAQQAg', 'usg=AOvVaw2azh-e4b5gI2DylhD7kH1a']\n",
      "Link searched for:  https://www.practo.com/hyderabad/clinic/prabhath-medical-center-kondapur\n",
      "**************************************************\n"
     ]
    },
    {
     "name": "stderr",
     "output_type": "stream",
     "text": [
      "\r",
      " 26%|█████████▉                            | 449/1715 [26:49<1:23:26,  3.95s/it]"
     ]
    },
    {
     "name": "stdout",
     "output_type": "stream",
     "text": [
      "Name:  Prabhath Medical Center\n",
      "Speciality:  Multi-speciality Clinic\n",
      "Rating not available.\n",
      "Votes are not available.\n",
      "Address:  Plot Number  342, High Tension Line Road, Raja Rajeshwari Nagar, Landmark: After La Convention  Centre, Hyderabad\n",
      "https://google.com/search?q=dr+rajasekhar+reddy++++++++++++++++++++++++++++++++++++kandi+kandi+clinic+hyderabad\n",
      "https://www.practo.com/hyderabad/doctor/dr-rajsshekar-orthopedist&sa=U&ved=2ahUKEwjK6rnMyPr5AhUYHLkGHcK0AhgQFnoECAIQAg&usg=AOvVaw2LJmsOZr5oVbuPRplE8yqr\n",
      "['https://www.practo.com/hyderabad/doctor/dr-rajsshekar-orthopedist', 'sa=U', 'ved=2ahUKEwjK6rnMyPr5AhUYHLkGHcK0AhgQFnoECAIQAg', 'usg=AOvVaw2LJmsOZr5oVbuPRplE8yqr']\n",
      "Link searched for:  https://www.practo.com/hyderabad/doctor/dr-rajsshekar-orthopedist\n",
      "**************************************************\n"
     ]
    },
    {
     "name": "stderr",
     "output_type": "stream",
     "text": [
      "\r",
      " 26%|█████████▉                            | 450/1715 [26:53<1:26:17,  4.09s/it]"
     ]
    },
    {
     "name": "stdout",
     "output_type": "stream",
     "text": [
      "Name:  Dr. Rajasekhar Reddy Kandi\n",
      "Speciality:  Orthopedist\n",
      "Rating:  98% \n",
      "Name:  (57 votes)\n",
      "Address:  Shop Number-6 , Shravani Arcade , Manjeera Pipe Line Road, Landmark: Beside Andhra Bank, Hyderabad\n",
      "https://google.com/search?q=dr+vani++v+cleo+skin+clinic+-+skin+and+hair+clinic+in+kphb+hyderabad\n",
      "https://www.practo.com/hyderabad/doctor/vaani-v&sa=U&ved=2ahUKEwjf7MrOyPr5AhVXI7kGHTslBB8QFnoECAgQAg&usg=AOvVaw3iLs_pXVDcfKM9Sl9z25eH\n",
      "['https://www.practo.com/hyderabad/doctor/vaani-v', 'sa=U', 'ved=2ahUKEwjf7MrOyPr5AhVXI7kGHTslBB8QFnoECAgQAg', 'usg=AOvVaw3iLs_pXVDcfKM9Sl9z25eH']\n",
      "Link searched for:  https://www.practo.com/hyderabad/doctor/vaani-v\n",
      "**************************************************\n"
     ]
    },
    {
     "name": "stderr",
     "output_type": "stream",
     "text": [
      "\r",
      " 26%|█████████▉                            | 451/1715 [26:57<1:21:48,  3.88s/it]"
     ]
    },
    {
     "name": "stdout",
     "output_type": "stream",
     "text": [
      "Name:  Dr. Vaani. V\n",
      "Speciality:  Dermatologist\n",
      "Rating:  98% \n",
      "Name:  (58 votes)\n",
      "https://google.com/search?q=dr+nagaraju+d+shweta+dental,+skin+&+hair+clinic+hyderabad\n",
      "https://www.practo.com/hyderabad/doctor/nagaraju-d-dermatologist&sa=U&ved=2ahUKEwjjvpbQyPr5AhUDK7kGHY4CCd4QFnoECAgQAg&usg=AOvVaw0TC4dlYgv2F_xy4fsZMQiY\n",
      "['https://www.practo.com/hyderabad/doctor/nagaraju-d-dermatologist', 'sa=U', 'ved=2ahUKEwjjvpbQyPr5AhUDK7kGHY4CCd4QFnoECAgQAg', 'usg=AOvVaw0TC4dlYgv2F_xy4fsZMQiY']\n",
      "Link searched for:  https://www.practo.com/hyderabad/doctor/nagaraju-d-dermatologist\n",
      "**************************************************\n"
     ]
    },
    {
     "name": "stderr",
     "output_type": "stream",
     "text": [
      "\r",
      " 26%|██████████                            | 452/1715 [27:02<1:32:23,  4.39s/it]"
     ]
    },
    {
     "name": "stdout",
     "output_type": "stream",
     "text": [
      "Name:  Dr. Nagaraju D\n",
      "Speciality:  Hair Transplant Surgeon\n",
      "Rating:  96% \n",
      "Name:  (28 votes)\n",
      "Address:  Above Siddique Kabab center beside chroma digital store kukatpally, Landmark: Opposite Mettro Pillar 821, Hyderabad\n",
      "https://google.com/search?q=dr+siva+kumar+reddy+++++++++++++++++++++++++++++++++++s+sri+vaishnavi+heart+clinic+hyderabad\n",
      "https://www.practo.com/hyderabad/doctor/dr-siva-kumar-reddy-cardiologist&sa=U&ved=2ahUKEwirtOvSyPr5AhX5JrkGHbj7AyUQFnoECAgQAg&usg=AOvVaw2ke88L6_yCpI5yEivNfd68\n",
      "['https://www.practo.com/hyderabad/doctor/dr-siva-kumar-reddy-cardiologist', 'sa=U', 'ved=2ahUKEwirtOvSyPr5AhX5JrkGHbj7AyUQFnoECAgQAg', 'usg=AOvVaw2ke88L6_yCpI5yEivNfd68']\n",
      "Link searched for:  https://www.practo.com/hyderabad/doctor/dr-siva-kumar-reddy-cardiologist\n",
      "**************************************************\n"
     ]
    },
    {
     "name": "stderr",
     "output_type": "stream",
     "text": [
      "\r",
      " 26%|██████████                            | 453/1715 [27:06<1:30:35,  4.31s/it]"
     ]
    },
    {
     "name": "stdout",
     "output_type": "stream",
     "text": [
      "Name:  Dr. Siva Kumar Reddy\n",
      "Speciality:  Cardiologist\n",
      "Rating:  96% \n",
      "Name:  (49 votes)\n",
      "Address:  Road Number 4, KPHB Colony, B Colony, Remedy Hospital Lane, Hyderabad\n",
      "https://google.com/search?q=dr+boddepalli+satheesh+babu+sanjeevani+health+park+visakhapatnam\n",
      "https://www.practo.com/visakhapatnam/doctor/dr-boddepalli-sateesh-babu-gastrointestinal-surgeon&sa=U&ved=2ahUKEwjWxebUyPr5AhUqLbkGHaVUDEQQFnoECAIQAg&usg=AOvVaw3YI5a7k7n67WLGNUIMecH5\n",
      "['https://www.practo.com/visakhapatnam/doctor/dr-boddepalli-sateesh-babu-gastrointestinal-surgeon', 'sa=U', 'ved=2ahUKEwjWxebUyPr5AhUqLbkGHaVUDEQQFnoECAIQAg', 'usg=AOvVaw3YI5a7k7n67WLGNUIMecH5']\n",
      "Link searched for:  https://www.practo.com/visakhapatnam/doctor/dr-boddepalli-sateesh-babu-gastrointestinal-surgeon\n",
      "**************************************************\n"
     ]
    },
    {
     "name": "stderr",
     "output_type": "stream",
     "text": [
      "\r",
      " 26%|██████████                            | 454/1715 [27:10<1:25:23,  4.06s/it]"
     ]
    },
    {
     "name": "stdout",
     "output_type": "stream",
     "text": [
      "Name:  Dr. Boddepalli Sateesh Babu\n",
      "Speciality:  GastroIntestinal Surgeon\n",
      "Rating:  4.5\n",
      "Votes are not available.\n",
      "Address:  Door Number-18-516/2/1, Plot Number 1, Health City, Chinnagadili, Landmark: Behind L V Prasad Eye Hospital & VIMS Hospital, Visakhapatnam\n",
      "https://google.com/search?q=dr+md++shaezor+khan+family+medical+clinic+hyderabad\n",
      "https://www.practo.com/hyderabad/clinic/dr-khan-clinic-vijay-nagar-colony&sa=U&ved=2ahUKEwjd_rvWyPr5AhV2ILkGHZIJAUUQFnoECAMQAg&usg=AOvVaw3OMAcigztiGvxa_Nk534iV\n",
      "['https://www.practo.com/hyderabad/clinic/dr-khan-clinic-vijay-nagar-colony', 'sa=U', 'ved=2ahUKEwjd_rvWyPr5AhV2ILkGHZIJAUUQFnoECAMQAg', 'usg=AOvVaw3OMAcigztiGvxa_Nk534iV']\n",
      "Link searched for:  https://www.practo.com/hyderabad/clinic/dr-khan-clinic-vijay-nagar-colony\n",
      "**************************************************\n"
     ]
    },
    {
     "name": "stderr",
     "output_type": "stream",
     "text": [
      "\r",
      " 27%|██████████                            | 455/1715 [27:13<1:18:24,  3.73s/it]"
     ]
    },
    {
     "name": "stdout",
     "output_type": "stream",
     "text": [
      "Name:  Dr. Khan's Clinic\n",
      "Speciality:  Multi-speciality Clinic\n",
      "Rating not available.\n",
      "Votes are not available.\n",
      "Address:  Vijaynagar Colony Road, Landmark: Opposite SBI ATM, Beside Marjan Hotel, Hyderabad\n",
      "https://google.com/search?q=dr+anand++b+anand+clinic+hyderabad\n",
      "https://www.practo.com/hyderabad/doctor/b-anand-reddy-dermatologist&sa=U&ved=2ahUKEwiznPDXyPr5AhWAErkGHWFRC2EQFnoECAcQAg&usg=AOvVaw0oJeM8s1CiOKld6nxwEh9R\n",
      "['https://www.practo.com/hyderabad/doctor/b-anand-reddy-dermatologist', 'sa=U', 'ved=2ahUKEwiznPDXyPr5AhWAErkGHWFRC2EQFnoECAcQAg', 'usg=AOvVaw0oJeM8s1CiOKld6nxwEh9R']\n",
      "Link searched for:  https://www.practo.com/hyderabad/doctor/b-anand-reddy-dermatologist\n",
      "**************************************************\n"
     ]
    },
    {
     "name": "stderr",
     "output_type": "stream",
     "text": [
      "\r",
      " 27%|██████████                            | 456/1715 [27:18<1:27:07,  4.15s/it]"
     ]
    },
    {
     "name": "stdout",
     "output_type": "stream",
     "text": [
      "Name:  Dr. B Anand\n",
      "Speciality:  Dermatologist\n",
      "Rating:  97% \n",
      "Name:  (257 votes)\n",
      "Address:  Plot Number 177, 3rd Floor, Ritesh Premier Towers, above santosh dhaba, Landmark: Opposite Karkhana Police Station and Above Santosh Dhabha, Hyderabad\n",
      "https://google.com/search?q=dr+rakesh+gali+sri+venkateswara+ent+clinic+hyderabad\n",
      "https://www.practo.com/hyderabad/doctor/rakesh-kumar-7-dermatologist-ear-nose-throat-ent-specialist&sa=U&ved=2ahUKEwj-g6rayPr5AhWqBLkGHdEWCIgQFnoECAMQAg&usg=AOvVaw0bn0y4bHsiQTpvJKWy1-gz\n",
      "['https://www.practo.com/hyderabad/doctor/rakesh-kumar-7-dermatologist-ear-nose-throat-ent-specialist', 'sa=U', 'ved=2ahUKEwj-g6rayPr5AhWqBLkGHdEWCIgQFnoECAMQAg', 'usg=AOvVaw0bn0y4bHsiQTpvJKWy1-gz']\n",
      "Link searched for:  https://www.practo.com/hyderabad/doctor/rakesh-kumar-7-dermatologist-ear-nose-throat-ent-specialist\n",
      "**************************************************\n"
     ]
    },
    {
     "name": "stderr",
     "output_type": "stream",
     "text": [
      "\r",
      " 27%|██████████▏                           | 457/1715 [27:24<1:36:33,  4.61s/it]"
     ]
    },
    {
     "name": "stdout",
     "output_type": "stream",
     "text": [
      "Name:  Dr. Rakesh Gali\n",
      "Speciality:  ENT/ Otorhinolaryngologist\n",
      "Rating:  4.5\n",
      "Votes are not available.\n",
      "Address:  Plot No 3 and 4 # 239, Ground Floor,Nizampet Village, Landmark: Near Bhavyas Anandam Apartments, Hyderabad\n",
      "https://google.com/search?q=dr+a+jeevan++reddy++vanaja+hospital+hyderabad\n",
      "https://www.practo.com/hyderabad/doctor/dr-jeevan-reddy-general-physician-general-physician&sa=U&ved=2ahUKEwjNgYPdyPr5AhW8ALkGHUgUCZIQFnoECAgQAg&usg=AOvVaw1IfPPfJ3Ixi6F0I4zUzQwl\n",
      "['https://www.practo.com/hyderabad/doctor/dr-jeevan-reddy-general-physician-general-physician', 'sa=U', 'ved=2ahUKEwjNgYPdyPr5AhW8ALkGHUgUCZIQFnoECAgQAg', 'usg=AOvVaw1IfPPfJ3Ixi6F0I4zUzQwl']\n",
      "Link searched for:  https://www.practo.com/hyderabad/doctor/dr-jeevan-reddy-general-physician-general-physician\n",
      "**************************************************\n"
     ]
    },
    {
     "name": "stderr",
     "output_type": "stream",
     "text": [
      "\r",
      " 27%|██████████▏                           | 458/1715 [27:28<1:32:25,  4.41s/it]"
     ]
    },
    {
     "name": "stdout",
     "output_type": "stream",
     "text": [
      "Name:  Dr. Jeevan Reddy\n",
      "Speciality:  General Physician\n",
      "Rating:  70% \n",
      "Name:  (33 votes)\n",
      "Address:  Sai Baba Temple Road, Sainathapuram, Landmark: Beside Bhaskara Labs, Saibaba Temple Road., Hyderabad\n",
      "https://google.com/search?q=dr+meragani+kishore+good+hope+health+clinics+visakhapatnam\n",
      "https://www.practo.com/visakhapatnam/doctor/hari-kishore-orthopedist&sa=U&ved=2ahUKEwjLnfXeyPr5AhWHIbkGHTH_DEMQFnoECAQQAg&usg=AOvVaw15rtomYVX8JmGN23ikxSOw\n",
      "['https://www.practo.com/visakhapatnam/doctor/hari-kishore-orthopedist', 'sa=U', 'ved=2ahUKEwjLnfXeyPr5AhWHIbkGHTH_DEMQFnoECAQQAg', 'usg=AOvVaw15rtomYVX8JmGN23ikxSOw']\n",
      "Link searched for:  https://www.practo.com/visakhapatnam/doctor/hari-kishore-orthopedist\n",
      "**************************************************\n"
     ]
    },
    {
     "name": "stderr",
     "output_type": "stream",
     "text": [
      "\r",
      " 27%|██████████▏                           | 459/1715 [27:33<1:36:03,  4.59s/it]"
     ]
    },
    {
     "name": "stdout",
     "output_type": "stream",
     "text": [
      "Name:  Dr. Hari Kishore Potupureddy\n",
      "Speciality:  Spine And Pain Specialist\n",
      "Rating not available.\n",
      "Votes are not available.\n",
      "Address:  Visakhapatnam\n",
      "https://google.com/search?q=dr+ravi+kumar+dr+ram+prasad+memorial+clinic+hyderabad\n"
     ]
    },
    {
     "name": "stderr",
     "output_type": "stream",
     "text": [
      "\r",
      " 27%|██████████▏                           | 460/1715 [27:35<1:21:36,  3.90s/it]"
     ]
    },
    {
     "name": "stdout",
     "output_type": "stream",
     "text": [
      "Couldn't find any practo links.\n",
      "https://google.com/search?q=dr+pav+ram+sai+good+hope+health+clinics+visakhapatnam\n",
      "https://www.practo.com/visakhapatnam/clinic/good-hope-clinic-dabagardens&sa=U&ved=2ahUKEwiDi7LiyPr5AhWVILkGHRkuCJsQFnoECAMQAg&usg=AOvVaw0RVU2_jgOwg5AlQOZUj62S\n",
      "['https://www.practo.com/visakhapatnam/clinic/good-hope-clinic-dabagardens', 'sa=U', 'ved=2ahUKEwiDi7LiyPr5AhWVILkGHRkuCJsQFnoECAMQAg', 'usg=AOvVaw0RVU2_jgOwg5AlQOZUj62S']\n",
      "Link searched for:  https://www.practo.com/visakhapatnam/clinic/good-hope-clinic-dabagardens\n",
      "**************************************************\n"
     ]
    },
    {
     "name": "stderr",
     "output_type": "stream",
     "text": [
      "\r",
      " 27%|██████████▏                           | 461/1715 [27:38<1:17:50,  3.72s/it]"
     ]
    },
    {
     "name": "stdout",
     "output_type": "stream",
     "text": [
      "Name:  Good Hope Clinic\n",
      "Speciality:  Orthopaedic Surgery Clinic\n",
      "Rating not available.\n",
      "Votes are not available.\n",
      "Address:  D.No: 30-1-6/1, South Jail Road, opp. DBK, Railway Quarters, Visakhapatnam, Andhra Pradesh 530020, Visakhapatnam\n",
      "https://google.com/search?q=dr+yousuf+khan+dr.yousuf+health+care+hyderabad\n",
      "https://www.practo.com/hyderabad/doctor/dr-md-yousuf-khan-zeeshan-endocrinologist&sa=U&ved=2ahUKEwi5ov3jyPr5AhXbBrkGHWfGD7oQFnoECAQQAg&usg=AOvVaw0QwAxeYawJXqwbqxh60HQe\n",
      "['https://www.practo.com/hyderabad/doctor/dr-md-yousuf-khan-zeeshan-endocrinologist', 'sa=U', 'ved=2ahUKEwi5ov3jyPr5AhXbBrkGHWfGD7oQFnoECAQQAg', 'usg=AOvVaw0QwAxeYawJXqwbqxh60HQe']\n",
      "Link searched for:  https://www.practo.com/hyderabad/doctor/dr-md-yousuf-khan-zeeshan-endocrinologist\n",
      "**************************************************\n"
     ]
    },
    {
     "name": "stderr",
     "output_type": "stream",
     "text": [
      "\r",
      " 27%|██████████▏                           | 462/1715 [27:42<1:16:47,  3.68s/it]"
     ]
    },
    {
     "name": "stdout",
     "output_type": "stream",
     "text": [
      "Name:  Dr. Mohammed Yousuf Khan\n",
      "Speciality:  Endocrinologist\n",
      "Rating not available.\n",
      "Votes are not available.\n",
      "https://google.com/search?q=dr+r+prem+kumar++yashoda+women+&+childern's+clinic+hyderabad\n",
      "https://www.practo.com/hyderabad/doctor/dr-prem-kumar-pediatrician-1&sa=U&ved=2ahUKEwiJ2dXlyPr5AhVOIrkGHXF-BkoQFnoECAgQAg&usg=AOvVaw1CmqjP8gh9DXAvUWIOV1Hd\n",
      "['https://www.practo.com/hyderabad/doctor/dr-prem-kumar-pediatrician-1', 'sa=U', 'ved=2ahUKEwiJ2dXlyPr5AhVOIrkGHXF-BkoQFnoECAgQAg', 'usg=AOvVaw1CmqjP8gh9DXAvUWIOV1Hd']\n",
      "Link searched for:  https://www.practo.com/hyderabad/doctor/dr-prem-kumar-pediatrician-1\n",
      "**************************************************\n"
     ]
    },
    {
     "name": "stderr",
     "output_type": "stream",
     "text": [
      "\r",
      " 27%|██████████▎                           | 463/1715 [27:47<1:28:34,  4.24s/it]"
     ]
    },
    {
     "name": "stdout",
     "output_type": "stream",
     "text": [
      "Name:  Dr. Prem kumar\n",
      "Speciality:  Pediatrician\n",
      "Rating not available.\n",
      "Votes are not available.\n",
      "Address:  #2-2-1075/1/6, Yashoda Nilayam, Amberpet, Landmark: Opp To Maharana Pratap Bank & Near To 6th No. Bus Stop., Hyderabad\n",
      "https://google.com/search?q=dr+laxman+bellamkonda++hyderabad+urology+and+andrology+hospital+hyderabad\n",
      "https://www.practo.com/hyderabad/doctor/dr-b-laxman-urologist&sa=U&ved=2ahUKEwj7hKroyPr5AhUUALkGHcnlBv4QFnoECAgQAg&usg=AOvVaw2YfCxG4B8ChFPexijARMTK\n",
      "['https://www.practo.com/hyderabad/doctor/dr-b-laxman-urologist', 'sa=U', 'ved=2ahUKEwj7hKroyPr5AhUUALkGHcnlBv4QFnoECAgQAg', 'usg=AOvVaw2YfCxG4B8ChFPexijARMTK']\n",
      "Link searched for:  https://www.practo.com/hyderabad/doctor/dr-b-laxman-urologist\n",
      "**************************************************\n"
     ]
    },
    {
     "name": "stderr",
     "output_type": "stream",
     "text": [
      "\r",
      " 27%|██████████▎                           | 464/1715 [27:52<1:28:20,  4.24s/it]"
     ]
    },
    {
     "name": "stdout",
     "output_type": "stream",
     "text": [
      "Name:  Dr. Laxman Bellamkonda\n",
      "Speciality:  Urologist\n",
      "Rating:  86% \n",
      "Name:  (148 votes)\n",
      "Address:  Door Number 11-9-103/A,  Laxminagar Colony ,Road Number 1., Landmark: Behind Omni Hospital., Hyderabad\n",
      "https://google.com/search?q=dr+jayesh+shah+dr.+jayesh+shah+diabetes+clinic+hyderabad\n"
     ]
    },
    {
     "name": "stderr",
     "output_type": "stream",
     "text": [
      "\r",
      " 27%|██████████▎                           | 465/1715 [27:54<1:16:09,  3.66s/it]"
     ]
    },
    {
     "name": "stdout",
     "output_type": "stream",
     "text": [
      "Couldn't find any practo links.\n",
      "https://google.com/search?q=dr+srinivas+ravuri+kiran+swetha+children+clinic+hyderabad\n",
      "https://www.practo.com/hyderabad/clinic/kiran-swetha-children-hospital-chanda-nagar-2&sa=U&ved=2ahUKEwizqbfryPr5AhV0GbkGHRAaBcoQFnoECAkQAg&usg=AOvVaw1C72hysbvH030_vXFW6KFq\n",
      "['https://www.practo.com/hyderabad/clinic/kiran-swetha-children-hospital-chanda-nagar-2', 'sa=U', 'ved=2ahUKEwizqbfryPr5AhV0GbkGHRAaBcoQFnoECAkQAg', 'usg=AOvVaw1C72hysbvH030_vXFW6KFq']\n",
      "Link searched for:  https://www.practo.com/hyderabad/clinic/kiran-swetha-children-hospital-chanda-nagar-2\n",
      "**************************************************\n"
     ]
    },
    {
     "name": "stderr",
     "output_type": "stream",
     "text": [
      "\r",
      " 27%|██████████▎                           | 466/1715 [27:58<1:17:19,  3.71s/it]"
     ]
    },
    {
     "name": "stdout",
     "output_type": "stream",
     "text": [
      "Name:  Kiran Swetha Children Clinic\n",
      "Speciality:  Pediatrics/Paediatrics Clinic\n",
      "Rating:  3.5\n",
      "Name:  (47 patient stories)\n",
      "Address:  4-1307/A, Landmark: Near Chandanagar Bus Stop and Beside Gandhi Statue, Hyderabad\n",
      "https://google.com/search?q=dr+gopala+krishna+v+gastrocare+-liver,pancreas&endoscopy+clinic+hyderabad\n",
      "https://www.practo.com/hyderabad/treatment-for-chronic-pancreatitis/kukatpally&sa=U&ved=2ahUKEwjqiNTtyPr5AhW-K7kGHQk5CwsQFnoECAIQAg&usg=AOvVaw3Q2gKTUbe1FDSEk-RlBzkM\n",
      "['https://www.practo.com/hyderabad/treatment-for-chronic-pancreatitis/kukatpally', 'sa=U', 'ved=2ahUKEwjqiNTtyPr5AhW-K7kGHQk5CwsQFnoECAIQAg', 'usg=AOvVaw3Q2gKTUbe1FDSEk-RlBzkM']\n",
      "Link searched for:  https://www.practo.com/hyderabad/treatment-for-chronic-pancreatitis/kukatpally\n",
      "**************************************************\n"
     ]
    },
    {
     "name": "stderr",
     "output_type": "stream",
     "text": [
      "\r",
      " 27%|██████████▎                           | 467/1715 [28:03<1:28:36,  4.26s/it]"
     ]
    },
    {
     "name": "stdout",
     "output_type": "stream",
     "text": [
      "Name:  15 Best Doctors for Chronic Pancreatitis Treatment near Kukatpally, Hyderabad\n",
      "Speciality is not available.\n",
      "Rating not available.\n",
      "Votes are not available.\n",
      "https://google.com/search?q=dr+srivenu+itha+cygnus+institute+of+gastroenterology+hyderabad\n",
      "https://www.practo.com/hyderabad/doctor/dr-srivenu-gastroenterologist&sa=U&ved=2ahUKEwjXgfXvyPr5AhV2A7kGHXUrABIQFnoECAkQAg&usg=AOvVaw1Yk8YKNWRxul5Y9NDpDBkf\n",
      "['https://www.practo.com/hyderabad/doctor/dr-srivenu-gastroenterologist', 'sa=U', 'ved=2ahUKEwjXgfXvyPr5AhV2A7kGHXUrABIQFnoECAkQAg', 'usg=AOvVaw1Yk8YKNWRxul5Y9NDpDBkf']\n",
      "Link searched for:  https://www.practo.com/hyderabad/doctor/dr-srivenu-gastroenterologist\n",
      "**************************************************\n"
     ]
    },
    {
     "name": "stderr",
     "output_type": "stream",
     "text": [
      "\r",
      " 27%|██████████▎                           | 468/1715 [28:06<1:21:52,  3.94s/it]"
     ]
    },
    {
     "name": "stdout",
     "output_type": "stream",
     "text": [
      "Name:  Dr. Srivenu\n",
      "Speciality:  Gastroenterologist\n",
      "Rating:  77% \n",
      "Name:  (73 votes)\n",
      "Address:  Ground Floor, T.M Yadav Gokul Plaza, Gachibowli Street Number 1, Landmark: Opposite Venkataramana Tata Motors, Near Outer Ring Road & Gachibowli 'X' Road, Hyderabad\n",
      "https://google.com/search?q=dr+padma++potluri+++sri+sai+krishna+laser+ent+clinic+hyderabad\n"
     ]
    },
    {
     "name": "stderr",
     "output_type": "stream",
     "text": [
      "\r",
      " 27%|██████████▍                           | 469/1715 [28:09<1:10:06,  3.38s/it]"
     ]
    },
    {
     "name": "stdout",
     "output_type": "stream",
     "text": [
      "Couldn't find any practo links.\n",
      "https://google.com/search?q=dr+prasanna+kumar+p+rise+ent+speciality+hospital+hyderabad\n",
      "https://www.practo.com/hyderabad/doctor/dr-prasanna-kumar-4-ear-nose-throat-ent-specialist&sa=U&ved=2ahUKEwi9kLXyyPr5AhX4ELkGHSi4D6wQFnoECAkQAg&usg=AOvVaw24QzM3i81Ky-BixvLI9TTS\n",
      "['https://www.practo.com/hyderabad/doctor/dr-prasanna-kumar-4-ear-nose-throat-ent-specialist', 'sa=U', 'ved=2ahUKEwi9kLXyyPr5AhX4ELkGHSi4D6wQFnoECAkQAg', 'usg=AOvVaw24QzM3i81Ky-BixvLI9TTS']\n",
      "Link searched for:  https://www.practo.com/hyderabad/doctor/dr-prasanna-kumar-4-ear-nose-throat-ent-specialist\n",
      "**************************************************\n"
     ]
    },
    {
     "name": "stderr",
     "output_type": "stream",
     "text": [
      "\r",
      " 27%|██████████▍                           | 470/1715 [28:13<1:17:06,  3.72s/it]"
     ]
    },
    {
     "name": "stdout",
     "output_type": "stream",
     "text": [
      "Name:  Dr. Prasanna Kumar\n",
      "Speciality:  ENT/ Otorhinolaryngologist\n",
      "Rating:  3.5\n",
      "Votes are not available.\n",
      "Address:  DMRL X Road, Santosh Nagar, Landmark: Near Midhani Depot & Beside Owaisi Hospital, Hyderabad\n",
      "https://google.com/search?q=dr+madhavi+reddy+c+sri+nitya+hospital+hyderabad\n",
      "https://www.practo.com/hyderabad/hospital/sri-nitya-hospitals-vanasthalipuram&sa=U&ved=2ahUKEwjmmsj0yPr5AhW4I7kGHbvTDAsQFnoECAEQAg&usg=AOvVaw2i_OnLLG98PbW6jN7ilgLf\n",
      "['https://www.practo.com/hyderabad/hospital/sri-nitya-hospitals-vanasthalipuram', 'sa=U', 'ved=2ahUKEwjmmsj0yPr5AhW4I7kGHbvTDAsQFnoECAEQAg', 'usg=AOvVaw2i_OnLLG98PbW6jN7ilgLf']\n",
      "Link searched for:  https://www.practo.com/hyderabad/hospital/sri-nitya-hospitals-vanasthalipuram\n",
      "**************************************************\n"
     ]
    },
    {
     "name": "stderr",
     "output_type": "stream",
     "text": [
      "\r",
      " 27%|██████████▍                           | 471/1715 [28:16<1:14:42,  3.60s/it]"
     ]
    },
    {
     "name": "stdout",
     "output_type": "stream",
     "text": [
      "Name:  Sri Nitya Hospitals\n",
      "Speciality is not available.\n",
      "Rating not available.\n",
      "Votes are not available.\n",
      "https://google.com/search?q=dr+g+suryanarayana+satyam+skin+&+cosmetology+clinic+visakhapatnam\n"
     ]
    },
    {
     "name": "stderr",
     "output_type": "stream",
     "text": [
      "\r",
      " 28%|██████████▍                           | 472/1715 [28:18<1:04:48,  3.13s/it]"
     ]
    },
    {
     "name": "stdout",
     "output_type": "stream",
     "text": [
      "Couldn't find any practo links.\n",
      "https://google.com/search?q=dr+sowjanya+reddy+b+cure+hospitals+hyderabad\n",
      "https://www.practo.com/hyderabad/doctor/dr-sowjanya-reddy-internal-medicine&sa=U&ved=2ahUKEwiB7o_3yPr5AhVOH7kGHWBJDf8QFnoECAcQAg&usg=AOvVaw10Ai2b78wx4XiaTeurTEB6\n",
      "['https://www.practo.com/hyderabad/doctor/dr-sowjanya-reddy-internal-medicine', 'sa=U', 'ved=2ahUKEwiB7o_3yPr5AhVOH7kGHWBJDf8QFnoECAcQAg', 'usg=AOvVaw10Ai2b78wx4XiaTeurTEB6']\n",
      "Link searched for:  https://www.practo.com/hyderabad/doctor/dr-sowjanya-reddy-internal-medicine\n",
      "**************************************************\n"
     ]
    },
    {
     "name": "stderr",
     "output_type": "stream",
     "text": [
      "\r",
      " 28%|██████████▍                           | 473/1715 [28:23<1:11:02,  3.43s/it]"
     ]
    },
    {
     "name": "stdout",
     "output_type": "stream",
     "text": [
      "Name:  Dr. Sowjanya Reddy\n",
      "Speciality:  Internal Medicine\n",
      "Rating:  3.5\n",
      "Votes are not available.\n",
      "Address:  # 48/3, Beside Ramraj Cotton, Peerzadiguda Panchayat, Boduppal, Hyderabad\n",
      "https://google.com/search?q=dr+prashant++utage++utage+instite+of+child+neuro,epilepsy+&+rehabiliation+centre++hyderabad\n",
      "https://www.practo.com/hyderabad/doctor/dr-prashant-ramesh-utage-neurologist&sa=U&ved=2ahUKEwjdnNj5yPr5AhWNIrkGHWa3CyUQFnoECAgQAg&usg=AOvVaw2Q2lEBGuHO6VARSbyy3gq9\n",
      "['https://www.practo.com/hyderabad/doctor/dr-prashant-ramesh-utage-neurologist', 'sa=U', 'ved=2ahUKEwjdnNj5yPr5AhWNIrkGHWa3CyUQFnoECAgQAg', 'usg=AOvVaw2Q2lEBGuHO6VARSbyy3gq9']\n",
      "Link searched for:  https://www.practo.com/hyderabad/doctor/dr-prashant-ramesh-utage-neurologist\n",
      "**************************************************\n"
     ]
    },
    {
     "name": "stderr",
     "output_type": "stream",
     "text": [
      "\r",
      " 28%|██████████▌                           | 474/1715 [28:28<1:22:08,  3.97s/it]"
     ]
    },
    {
     "name": "stdout",
     "output_type": "stream",
     "text": [
      "Name:  Dr. Prashant R Utage\n",
      "Speciality:  Pediatrician\n",
      "Rating:  95% \n",
      "Name:  (714 votes)\n",
      "Address:  102, 1st Floor, Gurupartha Estate, Landmark: Near YMCA And Opposite To Indian Oil Petrol Pump, Hyderabad\n",
      "https://google.com/search?q=dr+k+siva+rama+raju+siva+rama+raju+clinic+visakhapatnam\n",
      "https://www.practo.com/visakhapatnam/doctor/dr-siva-rama-raju-orthopedist&sa=U&ved=2ahUKEwiXrMv7yPr5AhWVA7kGHddOAlsQFnoECAUQAg&usg=AOvVaw0r-PibvOMvyKz1XvoMSdZg\n",
      "['https://www.practo.com/visakhapatnam/doctor/dr-siva-rama-raju-orthopedist', 'sa=U', 'ved=2ahUKEwiXrMv7yPr5AhWVA7kGHddOAlsQFnoECAUQAg', 'usg=AOvVaw0r-PibvOMvyKz1XvoMSdZg']\n",
      "Link searched for:  https://www.practo.com/visakhapatnam/doctor/dr-siva-rama-raju-orthopedist\n",
      "**************************************************\n"
     ]
    },
    {
     "name": "stderr",
     "output_type": "stream",
     "text": [
      "\r",
      " 28%|██████████▌                           | 475/1715 [28:31<1:19:18,  3.84s/it]"
     ]
    },
    {
     "name": "stdout",
     "output_type": "stream",
     "text": [
      "Name:  Dr. Siva Rama Raju\n",
      "Speciality:  Joint Replacement Surgeon\n",
      "Rating not available.\n",
      "Votes are not available.\n",
      "Address:  14-37-11A9, Gokhale Road, Krishna Nagar Zilla Parishad Junction, Landmark: Beside OLivet School, Visakhapatnam\n",
      "https://google.com/search?q=dr+farzana++md++cutis+skin+&+hair+clinic+visakhapatnam\n",
      "https://www.practo.com/visakhapatnam/doctor/farzana-md-dermatologist-cosmetologist&sa=U&ved=2ahUKEwiKoaP9yPr5AhV6BbkGHZnACJEQFnoECAMQAg&usg=AOvVaw2Z28P6ZXF_iOpRRGkcIjEh\n",
      "['https://www.practo.com/visakhapatnam/doctor/farzana-md-dermatologist-cosmetologist', 'sa=U', 'ved=2ahUKEwiKoaP9yPr5AhV6BbkGHZnACJEQFnoECAMQAg', 'usg=AOvVaw2Z28P6ZXF_iOpRRGkcIjEh']\n",
      "Link searched for:  https://www.practo.com/visakhapatnam/doctor/farzana-md-dermatologist-cosmetologist\n",
      "**************************************************\n"
     ]
    },
    {
     "name": "stderr",
     "output_type": "stream",
     "text": [
      "\r",
      " 28%|██████████▌                           | 476/1715 [28:34<1:13:38,  3.57s/it]"
     ]
    },
    {
     "name": "stdout",
     "output_type": "stream",
     "text": [
      "Name:  Dr. Farzana MD\n",
      "Speciality:  Dermatologist\n",
      "Rating:  97% \n",
      "Name:  (35 votes)\n",
      "Address:  Z.P. Junction, Krishna Nagar., Landmark: Beside Krishna Mandir & Zilla Parisad., Visakhapatnam\n",
      "https://google.com/search?q=dr+prahalad+ajmara+healthcare+clinic+hyderabad\n",
      "https://www.practo.com/hyderabad/doctor/dr-prahalad-diabetologist&sa=U&ved=2ahUKEwiLut_-yPr5AhVMLLkGHc2_DZ8QFnoECAMQAg&usg=AOvVaw0bVBpqWslYprLtqgpmxudC\n",
      "['https://www.practo.com/hyderabad/doctor/dr-prahalad-diabetologist', 'sa=U', 'ved=2ahUKEwiLut_-yPr5AhVMLLkGHc2_DZ8QFnoECAMQAg', 'usg=AOvVaw0bVBpqWslYprLtqgpmxudC']\n",
      "Link searched for:  https://www.practo.com/hyderabad/doctor/dr-prahalad-diabetologist\n",
      "**************************************************\n"
     ]
    },
    {
     "name": "stderr",
     "output_type": "stream",
     "text": [
      "\r",
      " 28%|██████████▌                           | 477/1715 [28:39<1:19:59,  3.88s/it]"
     ]
    },
    {
     "name": "stdout",
     "output_type": "stream",
     "text": [
      "Name:  Dr. Prahalad\n",
      "Speciality:  General Physician\n",
      "Rating:  94% \n",
      "Name:  (32 votes)\n",
      "Address:  #12-10-23, Sitaphalmandi, Secunderabad, Hyderabad, Landmark: Near Railway Gate, Hyderabad\n",
      "https://google.com/search?q=dr+n+naidu+ch+krishna+urology+&+andrology+centre+visakhapatnam\n",
      "https://www.practo.com/visakhapatnam/doctor/dr-nookinaidu-chitikela-urologist&sa=U&ved=2ahUKEwiftu6Ayfr5AhXyANQKHcNoAGIQFnoECAUQAg&usg=AOvVaw1-pB7vm4GaDV7ohwIQE6gC\n",
      "['https://www.practo.com/visakhapatnam/doctor/dr-nookinaidu-chitikela-urologist', 'sa=U', 'ved=2ahUKEwiftu6Ayfr5AhXyANQKHcNoAGIQFnoECAUQAg', 'usg=AOvVaw1-pB7vm4GaDV7ohwIQE6gC']\n",
      "Link searched for:  https://www.practo.com/visakhapatnam/doctor/dr-nookinaidu-chitikela-urologist\n",
      "**************************************************\n"
     ]
    },
    {
     "name": "stderr",
     "output_type": "stream",
     "text": [
      "\r",
      " 28%|██████████▌                           | 478/1715 [28:42<1:13:58,  3.59s/it]"
     ]
    },
    {
     "name": "stdout",
     "output_type": "stream",
     "text": [
      "Name:  Dr. Nookinaidu Chitikela\n",
      "Speciality:  Urologist\n",
      "Rating:  4.5\n",
      "Votes are not available.\n",
      "Address:  Door Number-18-516/2/1, Plot Number 1, Health City, Chinnagadili, Landmark: Behind L V Prasad Eye Hospital & VIMS Hospital, Visakhapatnam\n",
      "https://google.com/search?q=dr+shiny++shulamite+b+capstone+clinic+hyderabad\n"
     ]
    },
    {
     "name": "stderr",
     "output_type": "stream",
     "text": [
      "\r",
      " 28%|██████████▌                           | 479/1715 [28:44<1:03:53,  3.10s/it]"
     ]
    },
    {
     "name": "stdout",
     "output_type": "stream",
     "text": [
      "Couldn't find any practo links.\n",
      "https://google.com/search?q=dr+raj+kumar+k+sai+surya+fracture+&+ortho+clinic++hyderabad\n",
      "https://www.practo.com/hyderabad/doctor/dr-raj-kumar-2-orthopedist&sa=U&ved=2ahUKEwii8puDyfr5AhU6A7kGHTzfDosQFnoECAcQAg&usg=AOvVaw0gCz3X-iJS9BgW_so6QGoc\n",
      "['https://www.practo.com/hyderabad/doctor/dr-raj-kumar-2-orthopedist', 'sa=U', 'ved=2ahUKEwii8puDyfr5AhU6A7kGHTzfDosQFnoECAcQAg', 'usg=AOvVaw0gCz3X-iJS9BgW_so6QGoc']\n",
      "Link searched for:  https://www.practo.com/hyderabad/doctor/dr-raj-kumar-2-orthopedist\n",
      "**************************************************\n"
     ]
    },
    {
     "name": "stderr",
     "output_type": "stream",
     "text": [
      "\r",
      " 28%|██████████▋                           | 480/1715 [28:47<1:06:45,  3.24s/it]"
     ]
    },
    {
     "name": "stdout",
     "output_type": "stream",
     "text": [
      "Name:  Dr. K Rajkumar\n",
      "Speciality:  Orthopedist\n",
      "Rating not available.\n",
      "Votes are not available.\n",
      "Address:  Street Number 3, Kallepally Bros Lane, Landmark: Opposite HDFC Atm & Beside IOB Bank, Hyderabad\n",
      "https://google.com/search?q=dr+m+n+shyam+sunder+m+n+shyam+sunder+diabetic+centre+hyderabad\n"
     ]
    },
    {
     "name": "stderr",
     "output_type": "stream",
     "text": [
      "\r",
      " 28%|██████████▋                           | 481/1715 [28:51<1:07:40,  3.29s/it]"
     ]
    },
    {
     "name": "stdout",
     "output_type": "stream",
     "text": [
      "Couldn't find any practo links.\n",
      "https://google.com/search?q=dr+sangeeta+k+sai+surya+diabetic+clinic++hyderabad\n",
      "https://www.practo.com/hyderabad/doctor/s-sangeetha-santosh-endocrinologist&sa=U&ved=2ahUKEwiKuMKGyfr5AhUmH7kGHUMbBgUQFnoECAQQAg&usg=AOvVaw2IXPW_-WycwfujosBEQjZK\n",
      "['https://www.practo.com/hyderabad/doctor/s-sangeetha-santosh-endocrinologist', 'sa=U', 'ved=2ahUKEwiKuMKGyfr5AhUmH7kGHUMbBgUQFnoECAQQAg', 'usg=AOvVaw2IXPW_-WycwfujosBEQjZK']\n",
      "Link searched for:  https://www.practo.com/hyderabad/doctor/s-sangeetha-santosh-endocrinologist\n",
      "**************************************************\n"
     ]
    },
    {
     "name": "stderr",
     "output_type": "stream",
     "text": [
      "\r",
      " 28%|██████████▋                           | 482/1715 [28:55<1:16:47,  3.74s/it]"
     ]
    },
    {
     "name": "stdout",
     "output_type": "stream",
     "text": [
      "Name:  Dr. S. Sangeetha Santosh\n",
      "Speciality:  Endocrinologist\n",
      "Rating:  98% \n",
      "Name:  (86 votes)\n",
      "Address:  Flat no .G-1, Neha residency, Samanthapuri Colony Rd, Kothapet, Hyderabad, Telangana 500035, Hyderabad\n",
      "https://google.com/search?q=dr+surendra++bathula+hyderabad+cancer+centre+hyderabad\n",
      "https://www.practo.com/hyderabad/doctor/dr-surendra-bathula-oncologist&sa=U&ved=2ahUKEwiV9uWIyfr5AhVVO7kGHTNnCSMQFnoECAUQAg&usg=AOvVaw00848UaHfYlju6OV_U-649\n",
      "['https://www.practo.com/hyderabad/doctor/dr-surendra-bathula-oncologist', 'sa=U', 'ved=2ahUKEwiV9uWIyfr5AhVVO7kGHTNnCSMQFnoECAUQAg', 'usg=AOvVaw00848UaHfYlju6OV_U-649']\n",
      "Link searched for:  https://www.practo.com/hyderabad/doctor/dr-surendra-bathula-oncologist\n",
      "**************************************************\n"
     ]
    },
    {
     "name": "stderr",
     "output_type": "stream",
     "text": [
      "\r",
      " 28%|██████████▋                           | 483/1715 [29:11<2:26:48,  7.15s/it]"
     ]
    },
    {
     "name": "stdout",
     "output_type": "stream",
     "text": [
      "Name:  Dr. Surendra Bathula\n",
      "Speciality:  Medical Oncologist\n",
      "Rating:  4.0\n",
      "Votes are not available.\n",
      "Address:  23, Kedar Cyber Towers, Huda Techno Enclave, Patrika Nagar, Landmark: Beside AVASA Hotel, Hyderabad\n",
      "https://google.com/search?q=dr+venkata+ramana+v+greenleaf+health+centre+hyderabad\n",
      "https://www.practo.com/hyderabad/doctor/dr-venkat-ramana-5-orthopedist-1&sa=U&ved=2ahUKEwjWy4CQyfr5AhWnI7kGHVZ6B0YQFnoECAQQAg&usg=AOvVaw2Bih-gbGUSBjlNtINB7Tlz\n",
      "['https://www.practo.com/hyderabad/doctor/dr-venkat-ramana-5-orthopedist-1', 'sa=U', 'ved=2ahUKEwjWy4CQyfr5AhWnI7kGHVZ6B0YQFnoECAQQAg', 'usg=AOvVaw2Bih-gbGUSBjlNtINB7Tlz']\n",
      "Link searched for:  https://www.practo.com/hyderabad/doctor/dr-venkat-ramana-5-orthopedist-1\n",
      "**************************************************\n"
     ]
    },
    {
     "name": "stderr",
     "output_type": "stream",
     "text": [
      "\r",
      " 28%|██████████▋                           | 484/1715 [29:15<2:08:22,  6.26s/it]"
     ]
    },
    {
     "name": "stdout",
     "output_type": "stream",
     "text": [
      "Name:  Dr. Venkat Ramana\n",
      "Speciality:  Orthopedist\n",
      "Rating:  4.0\n",
      "Votes are not available.\n",
      "Address:  MIG-120, Plot Number-692, Vivekanada Nagar, Landmark: Adjacent Lane of More Super Market, Hyderabad\n",
      "https://google.com/search?q=dr+vijaya+laxmi+sharadha+++++++++++++++++++++++++kondapalli+deeksha+hospital+hyderabad\n"
     ]
    },
    {
     "name": "stderr",
     "output_type": "stream",
     "text": [
      "\r",
      " 28%|██████████▋                           | 485/1715 [29:16<1:39:01,  4.83s/it]"
     ]
    },
    {
     "name": "stdout",
     "output_type": "stream",
     "text": [
      "Couldn't find any practo links.\n",
      "https://google.com/search?q=dr+rajashekar++kona+udbhava+hospital+for+women+and+children+hyderabad\n",
      "https://www.practo.com/hyderabad/doctor/kona-rajasekhar-pediatrician&sa=U&ved=2ahUKEwivhNuSyfr5AhWHIbkGHTH_DEMQFnoECAgQAg&usg=AOvVaw1gEr9CP8Rg3sUUJuC4M6lC\n",
      "['https://www.practo.com/hyderabad/doctor/kona-rajasekhar-pediatrician', 'sa=U', 'ved=2ahUKEwivhNuSyfr5AhWHIbkGHTH_DEMQFnoECAgQAg', 'usg=AOvVaw1gEr9CP8Rg3sUUJuC4M6lC']\n",
      "Link searched for:  https://www.practo.com/hyderabad/doctor/kona-rajasekhar-pediatrician\n",
      "**************************************************\n"
     ]
    },
    {
     "name": "stderr",
     "output_type": "stream",
     "text": [
      "\r",
      " 28%|██████████▊                           | 486/1715 [29:20<1:32:05,  4.50s/it]"
     ]
    },
    {
     "name": "stdout",
     "output_type": "stream",
     "text": [
      "Name:  Dr. Kona Rajsekhar\n",
      "Speciality:  Pediatrician\n",
      "Rating:  4.5\n",
      "Votes are not available.\n",
      "Address:  Main Road,, Landmark: Beside Miyapur Bus Stop, Hyderabad\n",
      "https://google.com/search?q=dr+k+vasanthi+anupama+surgical+&+children's+hospital+visakhapatnam\n"
     ]
    },
    {
     "name": "stderr",
     "output_type": "stream",
     "text": [
      "\r",
      " 28%|██████████▊                           | 487/1715 [29:22<1:14:21,  3.63s/it]"
     ]
    },
    {
     "name": "stdout",
     "output_type": "stream",
     "text": [
      "Couldn't find any practo links.\n",
      "https://google.com/search?q=dr+nirmala++purohit+dr.nirmalas+skin+and+heart+clinic+hyderabad\n",
      "https://www.practo.com/hyderabad/doctor/dr-nirmala-dermatologist-cosmetologist&sa=U&ved=2ahUKEwiw86uVyfr5AhX1G7kGHTPRCvsQFnoECAkQAg&usg=AOvVaw1pfJMenw83BBQjOURPDXUM\n",
      "['https://www.practo.com/hyderabad/doctor/dr-nirmala-dermatologist-cosmetologist', 'sa=U', 'ved=2ahUKEwiw86uVyfr5AhX1G7kGHTPRCvsQFnoECAkQAg', 'usg=AOvVaw1pfJMenw83BBQjOURPDXUM']\n",
      "Link searched for:  https://www.practo.com/hyderabad/doctor/dr-nirmala-dermatologist-cosmetologist\n",
      "**************************************************\n"
     ]
    },
    {
     "name": "stderr",
     "output_type": "stream",
     "text": [
      "\r",
      " 28%|██████████▊                           | 488/1715 [29:27<1:24:39,  4.14s/it]"
     ]
    },
    {
     "name": "stdout",
     "output_type": "stream",
     "text": [
      "Name:  Dr. Nirmala Purohit\n",
      "Speciality:  Dermatologist\n",
      "Rating:  98% \n",
      "Name:  (284 votes)\n",
      "Address:  303, 3rd Floor, Panchsheel Complex, Nizampet Village, Landmark: Above Bajaj Electronics, Hyderabad\n",
      "https://google.com/search?q=dr+ravi+sekhar+reddy+++++++++++++++++++++++++++++++++++d+dhanvi+speciality+clinic+hyderabad\n",
      "https://www.practo.com/hyderabad/doctor/dr-d-ravisekhar-reddy-diabetologist&sa=U&ved=2ahUKEwjHjOmXyfr5AhUMEbkGHcRdCHgQFnoECAkQAg&usg=AOvVaw1OGEpTXCc5Syl6xbjOByZS\n",
      "['https://www.practo.com/hyderabad/doctor/dr-d-ravisekhar-reddy-diabetologist', 'sa=U', 'ved=2ahUKEwjHjOmXyfr5AhUMEbkGHcRdCHgQFnoECAkQAg', 'usg=AOvVaw1OGEpTXCc5Syl6xbjOByZS']\n",
      "Link searched for:  https://www.practo.com/hyderabad/doctor/dr-d-ravisekhar-reddy-diabetologist\n",
      "**************************************************\n"
     ]
    },
    {
     "name": "stderr",
     "output_type": "stream",
     "text": [
      "\r",
      " 29%|██████████▊                           | 489/1715 [29:33<1:38:05,  4.80s/it]"
     ]
    },
    {
     "name": "stdout",
     "output_type": "stream",
     "text": [
      "Name:  Dr. D. Ravisekhar Reddy\n",
      "Speciality is not available.\n",
      "Rating not available.\n",
      "Votes are not available.\n",
      "https://google.com/search?q=dr+shalini+patlolla+dr.+shalini's+diabetes,+thyroid+&+endocrine+super+speciality+centre+hyderabad\n",
      "https://www.practo.com/hyderabad/doctor/dr-shalini-patlolla&sa=U&ved=2ahUKEwip0uiayfr5AhWJBrkGHXB7DZoQFnoECAIQAg&usg=AOvVaw0Z5YWpUlFzVs_zu1MbG6p0\n",
      "['https://www.practo.com/hyderabad/doctor/dr-shalini-patlolla', 'sa=U', 'ved=2ahUKEwip0uiayfr5AhWJBrkGHXB7DZoQFnoECAIQAg', 'usg=AOvVaw0Z5YWpUlFzVs_zu1MbG6p0']\n",
      "Link searched for:  https://www.practo.com/hyderabad/doctor/dr-shalini-patlolla\n",
      "**************************************************\n"
     ]
    },
    {
     "name": "stderr",
     "output_type": "stream",
     "text": [
      "\r",
      " 29%|██████████▊                           | 490/1715 [29:37<1:32:32,  4.53s/it]"
     ]
    },
    {
     "name": "stdout",
     "output_type": "stream",
     "text": [
      "Name:  Dr. Shalini Patlolla\n",
      "Speciality:  Diabetologist\n",
      "Rating:  92% \n",
      "Name:  (65 votes)\n",
      "Address:  MIG-286 Road, Number-4 Remedy Hospital Lane, Landmark: Near Global Edge School & Opposite To Preeti Urology Hospital, Hyderabad\n",
      "https://google.com/search?q=dr+bhumesh+perika+shiva+sai+children's+&+skin+clinic+hyderabad\n"
     ]
    },
    {
     "name": "stderr",
     "output_type": "stream",
     "text": [
      "\r",
      " 29%|██████████▉                           | 491/1715 [29:40<1:19:58,  3.92s/it]"
     ]
    },
    {
     "name": "stdout",
     "output_type": "stream",
     "text": [
      "Couldn't find any practo links.\n",
      "https://google.com/search?q=dr+farhan+hamid++the+birthzone+hospital+hyderabad\n",
      "https://www.practo.com/hyderabad/doctor/dr-mohammad-farhan-r-hamid-paediatrics&sa=U&ved=2ahUKEwi0l82eyfr5AhUVBbkGHenrBVcQFnoECAUQAg&usg=AOvVaw0x7KLM45Bqg-MpLRg08rfK\n",
      "['https://www.practo.com/hyderabad/doctor/dr-mohammad-farhan-r-hamid-paediatrics', 'sa=U', 'ved=2ahUKEwi0l82eyfr5AhUVBbkGHenrBVcQFnoECAUQAg', 'usg=AOvVaw0x7KLM45Bqg-MpLRg08rfK']\n",
      "Link searched for:  https://www.practo.com/hyderabad/doctor/dr-mohammad-farhan-r-hamid-paediatrics\n",
      "**************************************************\n"
     ]
    },
    {
     "name": "stderr",
     "output_type": "stream",
     "text": [
      "\r",
      " 29%|██████████▉                           | 492/1715 [29:45<1:30:50,  4.46s/it]"
     ]
    },
    {
     "name": "stdout",
     "output_type": "stream",
     "text": [
      "Name:  Dr. Mohammad Farhan Rashid Hamid\n",
      "Speciality:  Pediatrician\n",
      "Rating not available.\n",
      "Votes are not available.\n",
      "Address:  Mahmood, Moghuls Colony, Bandlaguda, Chandrayaangutta, Landmark: Near S K Palace Function Hall, Next To NRI Global School, Hyderabad\n",
      "https://google.com/search?q=dr+ghousia+nausheen+the+birthzone+hospital+hyderabad\n",
      "https://www.practo.com/hyderabad/hospital/the-birthzone-hospital-mother-child-care-centre-chandrayangutta&sa=U&ved=2ahUKEwiss8qgyfr5AhVeA7kGHVyLCOwQFnoECAIQAg&usg=AOvVaw1HGkw2CxpCz2IDnwnFu2Fg\n",
      "['https://www.practo.com/hyderabad/hospital/the-birthzone-hospital-mother-child-care-centre-chandrayangutta', 'sa=U', 'ved=2ahUKEwiss8qgyfr5AhVeA7kGHVyLCOwQFnoECAIQAg', 'usg=AOvVaw1HGkw2CxpCz2IDnwnFu2Fg']\n",
      "Link searched for:  https://www.practo.com/hyderabad/hospital/the-birthzone-hospital-mother-child-care-centre-chandrayangutta\n",
      "**************************************************\n"
     ]
    },
    {
     "name": "stderr",
     "output_type": "stream",
     "text": [
      "\r",
      " 29%|██████████▉                           | 493/1715 [29:50<1:33:25,  4.59s/it]"
     ]
    },
    {
     "name": "stdout",
     "output_type": "stream",
     "text": [
      "Name:  The Birthzone Hospital (Mother & Child Care Centre)\n",
      "Speciality is not available.\n",
      "Rating not available.\n",
      "Votes are not available.\n",
      "https://google.com/search?q=dr+suryanarayana+b+sruthi+clinic+hyderabad\n",
      "https://www.practo.com/hyderabad/clinic/sruthi-clinic-vanasthalipuram&sa=U&ved=2ahUKEwj-3Paiyfr5AhXKKLkGHQKpBkYQFnoECAkQAg&usg=AOvVaw1xYwY7vgF9hij30d0uGnr8\n",
      "['https://www.practo.com/hyderabad/clinic/sruthi-clinic-vanasthalipuram', 'sa=U', 'ved=2ahUKEwj-3Paiyfr5AhXKKLkGHQKpBkYQFnoECAkQAg', 'usg=AOvVaw1xYwY7vgF9hij30d0uGnr8']\n",
      "Link searched for:  https://www.practo.com/hyderabad/clinic/sruthi-clinic-vanasthalipuram\n",
      "**************************************************\n"
     ]
    },
    {
     "name": "stderr",
     "output_type": "stream",
     "text": [
      "\r",
      " 29%|██████████▉                           | 494/1715 [29:53<1:24:04,  4.13s/it]"
     ]
    },
    {
     "name": "stdout",
     "output_type": "stream",
     "text": [
      "Name:  Sruthi Clinic\n",
      "Speciality:  General Health Clinic\n",
      "Rating not available.\n",
      "Votes are not available.\n",
      "Address:  Vanasthalipuram Main Road, Landmark: Opp. Andhra Bank., Hyderabad\n",
      "https://google.com/search?q=dr+vamshi+krishna+mamidela+chandamama+hospital+hyderabad\n",
      "https://www.practo.com/hyderabad/doctor/dr-b-vamshi-krishna-1-ear-nose-throat-ent-specialist&sa=U&ved=2ahUKEwjgzrCkyfr5AhXjBbkGHRgWCbUQFnoECAUQAg&usg=AOvVaw38CVtWWNnT0VltMGRONdD2\n",
      "['https://www.practo.com/hyderabad/doctor/dr-b-vamshi-krishna-1-ear-nose-throat-ent-specialist', 'sa=U', 'ved=2ahUKEwjgzrCkyfr5AhXjBbkGHRgWCbUQFnoECAUQAg', 'usg=AOvVaw38CVtWWNnT0VltMGRONdD2']\n",
      "Link searched for:  https://www.practo.com/hyderabad/doctor/dr-b-vamshi-krishna-1-ear-nose-throat-ent-specialist\n",
      "**************************************************\n"
     ]
    },
    {
     "name": "stderr",
     "output_type": "stream",
     "text": [
      "\r",
      " 29%|██████████▉                           | 495/1715 [29:59<1:34:31,  4.65s/it]"
     ]
    },
    {
     "name": "stdout",
     "output_type": "stream",
     "text": [
      "Name:  Dr. B. Vamshi Krishna\n",
      "Speciality:  ENT/ Otorhinolaryngologist\n",
      "Rating:  96% \n",
      "Name:  (50 votes)\n",
      "Address:  Temple Alwal,, Hyderabad, Landmark: Beside Mother and Child Hospital Lan  Golnaka Rajeev Gandhi Circle, Hyderabad\n",
      "https://google.com/search?q=dr+sri+lalitha+savithri+batchu+chandamma+hospital+hyderabad\n"
     ]
    },
    {
     "name": "stderr",
     "output_type": "stream",
     "text": [
      "\r",
      " 29%|██████████▉                           | 496/1715 [30:01<1:15:06,  3.70s/it]"
     ]
    },
    {
     "name": "stdout",
     "output_type": "stream",
     "text": [
      "Couldn't find any practo links.\n",
      "https://google.com/search?q=dr+dilip+kumar+++++++++++++++++s++dr+dilip's+care+clinic+hyderabad\n",
      "https://www.practo.com/hyderabad/doctor/dr-dileep-kumar-dentist&sa=U&ved=2ahUKEwi-h_Onyfr5AhWXBbkGHVmSAOEQFnoECAEQAg&usg=AOvVaw28nGFEVF625lwEif4xuy0h\n",
      "['https://www.practo.com/hyderabad/doctor/dr-dileep-kumar-dentist', 'sa=U', 'ved=2ahUKEwi-h_Onyfr5AhWXBbkGHVmSAOEQFnoECAEQAg', 'usg=AOvVaw28nGFEVF625lwEif4xuy0h']\n",
      "Link searched for:  https://www.practo.com/hyderabad/doctor/dr-dileep-kumar-dentist\n",
      "**************************************************\n"
     ]
    },
    {
     "name": "stderr",
     "output_type": "stream",
     "text": [
      "\r",
      " 29%|███████████                           | 497/1715 [30:04<1:14:28,  3.67s/it]"
     ]
    },
    {
     "name": "stdout",
     "output_type": "stream",
     "text": [
      "Name:  Dr. Dilip Kumar\n",
      "Speciality:  Dentist\n",
      "Rating:  80% \n",
      "Name:  (123 votes)\n",
      "Address:  15/2RT,  Panjagutta Colony, Ameerpet, Landmark: Beside Agarwal Eye Hospital, Hyderabad\n",
      "https://google.com/search?q=dr+greeshma+++pulluri+++amrita+ent+head+and+neck+hospital+hyderabad\n"
     ]
    },
    {
     "name": "stderr",
     "output_type": "stream",
     "text": [
      "\r",
      " 29%|███████████                           | 498/1715 [30:06<1:04:19,  3.17s/it]"
     ]
    },
    {
     "name": "stdout",
     "output_type": "stream",
     "text": [
      "Couldn't find any practo links.\n",
      "https://google.com/search?q=dr+k++rajeswara+rao+anupama+surgical+&+children+hospital+visakhapatnam\n"
     ]
    },
    {
     "name": "stderr",
     "output_type": "stream",
     "text": [
      "\r",
      " 29%|███████████▋                            | 499/1715 [30:08<53:27,  2.64s/it]"
     ]
    },
    {
     "name": "stdout",
     "output_type": "stream",
     "text": [
      "Couldn't find any practo links.\n",
      "https://google.com/search?q=dr+srinivas+nistala+nistala+srinivas+clinic+visakhapatnam\n",
      "https://www.practo.com/visakhapatnam/doctor/dr-nistala-srinivas-gastroenterologist-gastroenterologist&sa=U&ved=2ahUKEwjK7puryfr5AhW-K7kGHQk5CwsQFnoECAQQAg&usg=AOvVaw3er_IT9FVOtoYu7ZswEeq9\n",
      "['https://www.practo.com/visakhapatnam/doctor/dr-nistala-srinivas-gastroenterologist-gastroenterologist', 'sa=U', 'ved=2ahUKEwjK7puryfr5AhW-K7kGHQk5CwsQFnoECAQQAg', 'usg=AOvVaw3er_IT9FVOtoYu7ZswEeq9']\n",
      "Link searched for:  https://www.practo.com/visakhapatnam/doctor/dr-nistala-srinivas-gastroenterologist-gastroenterologist\n",
      "**************************************************\n"
     ]
    },
    {
     "name": "stderr",
     "output_type": "stream",
     "text": [
      "\r",
      " 29%|███████████▋                            | 500/1715 [30:11<54:51,  2.71s/it]"
     ]
    },
    {
     "name": "stdout",
     "output_type": "stream",
     "text": [
      "Name:  Dr. Nistala Srinivas\n",
      "Speciality:  Gastroenterologist\n",
      "Rating:  5.0\n",
      "Votes are not available.\n",
      "Address:  10-50-80, Waltair Main Road, Landmark: Opposite Daspalla Executive Court, Visakhapatnam\n",
      "https://google.com/search?q=dr+mahesh+chandra+suvvari+sree+neelamani+durga+orthopaedic+centre+&+dental+clinic+visakhapatnam\n"
     ]
    },
    {
     "name": "stderr",
     "output_type": "stream",
     "text": [
      "\r",
      " 29%|███████████▋                            | 501/1715 [30:12<46:26,  2.29s/it]"
     ]
    },
    {
     "name": "stdout",
     "output_type": "stream",
     "text": [
      "Couldn't find any practo links.\n",
      "https://google.com/search?q=dr+g+venkateswara+reddy+doctors&+doctors+plaza+visakhapatnam\n"
     ]
    },
    {
     "name": "stderr",
     "output_type": "stream",
     "text": [
      "\r",
      " 29%|███████████▋                            | 502/1715 [30:14<42:46,  2.12s/it]"
     ]
    },
    {
     "name": "stdout",
     "output_type": "stream",
     "text": [
      "Couldn't find any practo links.\n",
      "https://google.com/search?q=dr+ramakoteswararao+badana+krishna+children's+hospital+visakhapatnam\n",
      "https://www.practo.com/visakhapatnam/hospital/krishna-maternity-and-nursing-home-visakhapatnam/doctors&sa=U&ved=2ahUKEwjN34Ouyfr5AhXMHrkGHZs9CesQFnoECAQQAg&usg=AOvVaw0BIGmaO8rq94I4a0-D7uS8\n",
      "['https://www.practo.com/visakhapatnam/hospital/krishna-maternity-and-nursing-home-visakhapatnam/doctors', 'sa=U', 'ved=2ahUKEwjN34Ouyfr5AhXMHrkGHZs9CesQFnoECAQQAg', 'usg=AOvVaw0BIGmaO8rq94I4a0-D7uS8']\n",
      "Link searched for:  https://www.practo.com/visakhapatnam/hospital/krishna-maternity-and-nursing-home-visakhapatnam/doctors\n",
      "**************************************************\n"
     ]
    },
    {
     "name": "stderr",
     "output_type": "stream",
     "text": [
      "\r",
      " 29%|███████████▋                            | 503/1715 [30:17<50:12,  2.49s/it]"
     ]
    },
    {
     "name": "stdout",
     "output_type": "stream",
     "text": [
      "Name:  Krishna Children's Hospital\n",
      "Speciality is not available.\n",
      "Rating:  5.0\n",
      "Name:  (96 patient stories)\n",
      "https://google.com/search?q=dr+ch+phani+krishna+krishna+children's+hospital+visakhapatnam\n",
      "https://www.practo.com/visakhapatnam/doctor/phani-krishna-pediatrician&sa=U&ved=2ahUKEwightGvyfr5AhXNGbkGHW-LAMQQFnoECAgQAg&usg=AOvVaw3RUI3ezHApZ6o8__PB51Uz\n",
      "['https://www.practo.com/visakhapatnam/doctor/phani-krishna-pediatrician', 'sa=U', 'ved=2ahUKEwightGvyfr5AhXNGbkGHW-LAMQQFnoECAgQAg', 'usg=AOvVaw3RUI3ezHApZ6o8__PB51Uz']\n",
      "Link searched for:  https://www.practo.com/visakhapatnam/doctor/phani-krishna-pediatrician\n",
      "**************************************************\n"
     ]
    },
    {
     "name": "stderr",
     "output_type": "stream",
     "text": [
      "\r",
      " 29%|███████████▊                            | 504/1715 [30:20<54:56,  2.72s/it]"
     ]
    },
    {
     "name": "stdout",
     "output_type": "stream",
     "text": [
      "Name:  Dr. Phani Krishna\n",
      "Speciality:  Pediatrician\n",
      "Rating:  99% \n",
      "Name:  (96 votes)\n",
      "Address:  43/5/53, Railway New Colony, Dwaraka Nagar, Landmark: Near Kamalamma Hospital, Visakhapatnam\n",
      "https://google.com/search?q=dr+krishnaveni+r+yashoda+women+and+childrens+clinic+hyderabad\n",
      "https://www.practo.com/hyderabad/clinic/yashoda-women-and-childrens-clinic-amberpet&sa=U&ved=2ahUKEwjG8tCxyfr5AhWyDNQKHQQsBgsQFnoECAIQAg&usg=AOvVaw3tyQb2xH-Ocw1cMj6c-1QG\n",
      "['https://www.practo.com/hyderabad/clinic/yashoda-women-and-childrens-clinic-amberpet', 'sa=U', 'ved=2ahUKEwjG8tCxyfr5AhWyDNQKHQQsBgsQFnoECAIQAg', 'usg=AOvVaw3tyQb2xH-Ocw1cMj6c-1QG']\n",
      "Link searched for:  https://www.practo.com/hyderabad/clinic/yashoda-women-and-childrens-clinic-amberpet\n",
      "**************************************************\n"
     ]
    },
    {
     "name": "stderr",
     "output_type": "stream",
     "text": [
      "\r",
      " 29%|███████████▏                          | 505/1715 [30:24<1:00:12,  2.99s/it]"
     ]
    },
    {
     "name": "stdout",
     "output_type": "stream",
     "text": [
      "Name:  Yashoda Women And Childrens Clinic\n",
      "Speciality:  Pediatrics/Paediatrics Clinic\n",
      "Rating not available.\n",
      "Votes are not available.\n",
      "Address:  #2-2-1075/1/6, Yashoda Nilayam, Amberpet, Landmark: Opp To Maharana Pratap Bank & Near To 6th No. Bus Stop., Hyderabad\n",
      "https://google.com/search?q=dr+pvs+kumararaja+sri+vanamali+comprehensive+ent+clinic+visakhapatnam\n",
      "https://www.practo.com/visakhapatnam/ear-nose-throat-ent-specialist&sa=U&ved=2ahUKEwiE2POyyfr5AhWsJbkGHYGhAKYQFnoECAYQAg&usg=AOvVaw1ltVN69Cqu-Jkokle8adti\n",
      "['https://www.practo.com/visakhapatnam/ear-nose-throat-ent-specialist', 'sa=U', 'ved=2ahUKEwiE2POyyfr5AhWsJbkGHYGhAKYQFnoECAYQAg', 'usg=AOvVaw1ltVN69Cqu-Jkokle8adti']\n",
      "Link searched for:  https://www.practo.com/visakhapatnam/ear-nose-throat-ent-specialist\n",
      "**************************************************\n"
     ]
    },
    {
     "name": "stderr",
     "output_type": "stream",
     "text": [
      "\r",
      " 30%|███████████▏                          | 506/1715 [30:28<1:07:10,  3.33s/it]"
     ]
    },
    {
     "name": "stdout",
     "output_type": "stream",
     "text": [
      "Name:  33 doctors available in Visakhapatnam\n",
      "Speciality is not available.\n",
      "Rating not available.\n",
      "Votes are not available.\n",
      "https://google.com/search?q=dr+ramcharan+reddy+narreddy++sai+charan+hospital+hyderabad\n",
      "https://www.practo.com/hyderabad/doctor/ramcharan-reddy-1-pediatrician&sa=U&ved=2ahUKEwisvPC0yfr5AhWbBrkGHeaEDooQFnoECAMQAg&usg=AOvVaw0d_iaR41KhIR2n0mbWfmA3\n",
      "['https://www.practo.com/hyderabad/doctor/ramcharan-reddy-1-pediatrician', 'sa=U', 'ved=2ahUKEwisvPC0yfr5AhWbBrkGHeaEDooQFnoECAMQAg', 'usg=AOvVaw0d_iaR41KhIR2n0mbWfmA3']\n",
      "Link searched for:  https://www.practo.com/hyderabad/doctor/ramcharan-reddy-1-pediatrician\n",
      "**************************************************\n"
     ]
    },
    {
     "name": "stderr",
     "output_type": "stream",
     "text": [
      "\r",
      " 30%|███████████▏                          | 507/1715 [30:32<1:14:15,  3.69s/it]"
     ]
    },
    {
     "name": "stdout",
     "output_type": "stream",
     "text": [
      "Name:  Dr. Ramcharan Reddy\n",
      "Speciality:  Pediatrician\n",
      "Rating:  100% \n",
      "Name:  (21 votes)\n",
      "Address:   Ganesh Nagar, Ramanthapur, Hyderabad., Landmark: Near TV Studio, Hyderabad\n",
      "https://google.com/search?q=dr+d+vamsi+yadav+shreyansh+liver&+gastro+clinic+visakhapatnam\n"
     ]
    },
    {
     "name": "stderr",
     "output_type": "stream",
     "text": [
      "\r",
      " 30%|███████████▎                          | 508/1715 [30:35<1:08:34,  3.41s/it]"
     ]
    },
    {
     "name": "stdout",
     "output_type": "stream",
     "text": [
      "Couldn't find any practo links.\n",
      "https://google.com/search?q=dr+ambarish+rajagiri++kidds+priority+childrens+clinic+hyderabad\n",
      "https://www.practo.com/hyderabad/clinic/priority-children-s-clinic-1-nacharam&sa=U&ved=2ahUKEwjxyKy4yfr5AhV6DrkGHSdxDxQQFnoECAgQAg&usg=AOvVaw1GWHKtoRZ_JT_kAyjK1PGG\n",
      "['https://www.practo.com/hyderabad/clinic/priority-children-s-clinic-1-nacharam', 'sa=U', 'ved=2ahUKEwjxyKy4yfr5AhV6DrkGHSdxDxQQFnoECAgQAg', 'usg=AOvVaw1GWHKtoRZ_JT_kAyjK1PGG']\n",
      "Link searched for:  https://www.practo.com/hyderabad/clinic/priority-children-s-clinic-1-nacharam\n",
      "**************************************************\n"
     ]
    },
    {
     "name": "stderr",
     "output_type": "stream",
     "text": [
      "\r",
      " 30%|███████████▎                          | 509/1715 [30:39<1:11:36,  3.56s/it]"
     ]
    },
    {
     "name": "stdout",
     "output_type": "stream",
     "text": [
      "Name:  Kidds Priority Children's Clinic\n",
      "Speciality:  Pediatrics/Paediatrics Clinic\n",
      "Rating not available.\n",
      "Votes are not available.\n",
      "Address:  Mallapur Main Road, Mallapur, Landmark: Beside MUTHOOT FINANCE, Hyderabad\n",
      "https://google.com/search?q=dr+naga+jyothi++++++chintalapati+j.k.+hospital+hyderabad\n"
     ]
    },
    {
     "name": "stderr",
     "output_type": "stream",
     "text": [
      "\r",
      " 30%|███████████▎                          | 510/1715 [30:41<1:00:26,  3.01s/it]"
     ]
    },
    {
     "name": "stdout",
     "output_type": "stream",
     "text": [
      "Couldn't find any practo links.\n",
      "https://google.com/search?q=dr+satish+kumar++sharma+akshara+polyclinic+hyderabad\n",
      "https://www.practo.com/hyderabad/doctor/dr-satish-kumar-sharma-cardiologist&sa=U&ved=2ahUKEwjIhIW7yfr5AhVAF7kGHVa6CZwQFnoECAcQAg&usg=AOvVaw2C0XpqE-4pflauTbCvohI9\n",
      "['https://www.practo.com/hyderabad/doctor/dr-satish-kumar-sharma-cardiologist', 'sa=U', 'ved=2ahUKEwjIhIW7yfr5AhVAF7kGHVa6CZwQFnoECAcQAg', 'usg=AOvVaw2C0XpqE-4pflauTbCvohI9']\n",
      "Link searched for:  https://www.practo.com/hyderabad/doctor/dr-satish-kumar-sharma-cardiologist\n",
      "**************************************************\n"
     ]
    },
    {
     "name": "stderr",
     "output_type": "stream",
     "text": [
      "\r",
      " 30%|███████████▎                          | 511/1715 [30:45<1:06:47,  3.33s/it]"
     ]
    },
    {
     "name": "stdout",
     "output_type": "stream",
     "text": [
      "Name:  Dr. Satish Kumar Sharma\n",
      "Speciality:  Cardiologist\n",
      "Rating:  93% \n",
      "Name:  (15 votes)\n",
      "Address:  G3, Ayyappa Towers, KPHB 6th phase Main Road., Landmark: Next to Allahabad Bank., Hyderabad\n",
      "https://google.com/search?q=dr+sandya+swaroopa+m+dr+sandhya+lung+care+centre(miyapur)+hyderabad\n",
      "https://www.practo.com/hyderabad/doctor/m-sandhya-swaroopa-pulmonologist&sa=U&ved=2ahUKEwjS6Py8yfr5AhUfO7kGHbAbBicQFnoECAQQAg&usg=AOvVaw24A8hZ7NKPDRYt6LXNWH-W\n",
      "['https://www.practo.com/hyderabad/doctor/m-sandhya-swaroopa-pulmonologist', 'sa=U', 'ved=2ahUKEwjS6Py8yfr5AhUfO7kGHbAbBicQFnoECAQQAg', 'usg=AOvVaw24A8hZ7NKPDRYt6LXNWH-W']\n",
      "Link searched for:  https://www.practo.com/hyderabad/doctor/m-sandhya-swaroopa-pulmonologist\n",
      "**************************************************\n"
     ]
    },
    {
     "name": "stderr",
     "output_type": "stream",
     "text": [
      "\r",
      " 30%|███████████▎                          | 512/1715 [30:49<1:11:04,  3.54s/it]"
     ]
    },
    {
     "name": "stdout",
     "output_type": "stream",
     "text": [
      "Name:  Dr. M Sandhya Swaroopa\n",
      "Speciality:  Pulmonologist\n",
      "Rating not available.\n",
      "Votes are not available.\n",
      "Address:  52, 2nd Floor, S V Asha Arcade, Old Mumbai Highway Road, Landmark: Opposite Ratnadeep Supermarket And Above Domino's Restaurant, Hyderabad, Landmark: above Dominos, Hyderabad\n",
      "https://google.com/search?q=dr+kiranmayi+pagadala+pagadala+medident+multispeciality+poly+clinic+hyderabad\n",
      "https://www.practo.com/hyderabad/clinic/medident-multispeciality-polyclinic-miyapur&sa=U&ved=2ahUKEwju4oq_yfr5AhX_K7kGHSQFDSMQFnoECAUQAg&usg=AOvVaw2kadCR8337TVTLqH6EVDQn\n",
      "['https://www.practo.com/hyderabad/clinic/medident-multispeciality-polyclinic-miyapur', 'sa=U', 'ved=2ahUKEwju4oq_yfr5AhX_K7kGHSQFDSMQFnoECAUQAg', 'usg=AOvVaw2kadCR8337TVTLqH6EVDQn']\n",
      "Link searched for:  https://www.practo.com/hyderabad/clinic/medident-multispeciality-polyclinic-miyapur\n",
      "**************************************************\n"
     ]
    },
    {
     "name": "stderr",
     "output_type": "stream",
     "text": [
      "\r",
      " 30%|███████████▎                          | 513/1715 [31:00<1:53:42,  5.68s/it]"
     ]
    },
    {
     "name": "stdout",
     "output_type": "stream",
     "text": [
      "Error was:  HTTP Error 404: Not Found\n",
      "https://google.com/search?q=dr+venkata+pavan+kumar+++++++++++++++++++++++++++++++ch+dr.radhika's+fertility+and+surgical+center+hyderabad\n",
      "https://www.practo.com/hyderabad/clinic/dr-radhika-s-fertility-and-surgical-center-kukatpally/doctors&sa=U&ved=2ahUKEwjQtf_Dyfr5AhWsLLkGHTwlBwYQFnoECAkQAg&usg=AOvVaw393LS74ghGIS3UlFfTFDLk\n",
      "['https://www.practo.com/hyderabad/clinic/dr-radhika-s-fertility-and-surgical-center-kukatpally/doctors', 'sa=U', 'ved=2ahUKEwjQtf_Dyfr5AhWsLLkGHTwlBwYQFnoECAkQAg', 'usg=AOvVaw393LS74ghGIS3UlFfTFDLk']\n",
      "Link searched for:  https://www.practo.com/hyderabad/clinic/dr-radhika-s-fertility-and-surgical-center-kukatpally/doctors\n",
      "**************************************************\n"
     ]
    },
    {
     "name": "stderr",
     "output_type": "stream",
     "text": [
      "\r",
      " 30%|███████████▍                          | 514/1715 [31:03<1:39:45,  4.98s/it]"
     ]
    },
    {
     "name": "stdout",
     "output_type": "stream",
     "text": [
      "Name:  Dr.Radhika's Fertility and Surgical Center\n",
      "Speciality:  Multi-speciality Clinic\n",
      "Rating not available.\n",
      "Votes are not available.\n",
      "Address:  Park view building, road no1, kphb, opp GHMC park, Landmark: Opp GHMC park, Hyderabad\n",
      "https://google.com/search?q=dr+swetha+vanamala+madhus+mother+&+child+clinic+hyderabad\n",
      "https://www.practo.com/hyderabad/doctor/dr-vanamala-swetha-gynecologist-obstetrician-gynecologist-obstetrician&sa=U&ved=2ahUKEwjh5czFyfr5AhUxILkGHRiwCRQQFnoECAgQAg&usg=AOvVaw3NxTm7Dp_DHj9JNEEBjy6f\n",
      "['https://www.practo.com/hyderabad/doctor/dr-vanamala-swetha-gynecologist-obstetrician-gynecologist-obstetrician', 'sa=U', 'ved=2ahUKEwjh5czFyfr5AhUxILkGHRiwCRQQFnoECAgQAg', 'usg=AOvVaw3NxTm7Dp_DHj9JNEEBjy6f']\n",
      "Link searched for:  https://www.practo.com/hyderabad/doctor/dr-vanamala-swetha-gynecologist-obstetrician-gynecologist-obstetrician\n",
      "**************************************************\n"
     ]
    },
    {
     "name": "stderr",
     "output_type": "stream",
     "text": [
      "\r",
      " 30%|███████████▍                          | 515/1715 [31:08<1:37:58,  4.90s/it]"
     ]
    },
    {
     "name": "stdout",
     "output_type": "stream",
     "text": [
      "Name:  Dr. Vanamala Swetha\n",
      "Speciality:  Obstetrician\n",
      "Rating:  98% \n",
      "Name:  (131 votes)\n",
      "Address:  Ground Floor, Nizampet Main Road, Landmark: Opposite Sri Sri Holistic Hospital, Hyderabad\n",
      "https://google.com/search?q=dr+vijay+bharath+reddy++cr+remedy+hospitals+hyderabad\n"
     ]
    },
    {
     "name": "stderr",
     "output_type": "stream",
     "text": [
      "\r",
      " 30%|███████████▍                          | 516/1715 [31:10<1:22:49,  4.14s/it]"
     ]
    },
    {
     "name": "stdout",
     "output_type": "stream",
     "text": [
      "Couldn't find any practo links.\n",
      "https://google.com/search?q=dr+jagdish++singh+sai+diabetic+clinic+hyderabad\n",
      "https://www.practo.com/hyderabad/doctor/dr-jagdish-singh-diabetologist&sa=U&ved=2ahUKEwj1jP7Iyfr5AhWXJrkGHYjiAZgQFnoECAoQAg&usg=AOvVaw3kPT08FP6m66aUtBvztmUu\n",
      "['https://www.practo.com/hyderabad/doctor/dr-jagdish-singh-diabetologist', 'sa=U', 'ved=2ahUKEwj1jP7Iyfr5AhWXJrkGHYjiAZgQFnoECAoQAg', 'usg=AOvVaw3kPT08FP6m66aUtBvztmUu']\n",
      "Link searched for:  https://www.practo.com/hyderabad/doctor/dr-jagdish-singh-diabetologist\n",
      "**************************************************\n"
     ]
    },
    {
     "name": "stderr",
     "output_type": "stream",
     "text": [
      "\r",
      " 30%|███████████▍                          | 517/1715 [31:15<1:26:04,  4.31s/it]"
     ]
    },
    {
     "name": "stdout",
     "output_type": "stream",
     "text": [
      "Name:  Dr. Jagdish Singh\n",
      "Speciality:  General Physician\n",
      "Rating not available.\n",
      "Votes are not available.\n",
      "Address:  #7-1-215, Balkampet, SR Nagar, Landmark: Main Road Balkampet., Hyderabad\n",
      "https://google.com/search?q=dr+kakumanu+ravi+kiran+yeswanth+hospital+visakhapatnam\n",
      "https://www.practo.com/visakhapatnam/doctor/dr-k-ravi-kiran-redyy-pediatrician&sa=U&ved=2ahUKEwjmspvLyfr5AhUWDrkGHYUKC_QQFnoECAgQAg&usg=AOvVaw3csXYaQLtVsp_EWH_80WJi\n",
      "['https://www.practo.com/visakhapatnam/doctor/dr-k-ravi-kiran-redyy-pediatrician', 'sa=U', 'ved=2ahUKEwjmspvLyfr5AhUWDrkGHYUKC_QQFnoECAgQAg', 'usg=AOvVaw3csXYaQLtVsp_EWH_80WJi']\n",
      "Link searched for:  https://www.practo.com/visakhapatnam/doctor/dr-k-ravi-kiran-redyy-pediatrician\n",
      "**************************************************\n"
     ]
    },
    {
     "name": "stderr",
     "output_type": "stream",
     "text": [
      "\r",
      " 30%|███████████▍                          | 518/1715 [31:18<1:17:43,  3.90s/it]"
     ]
    },
    {
     "name": "stdout",
     "output_type": "stream",
     "text": [
      "Name:  Dr. K Ravi Kiran Reddy\n",
      "Speciality:  Pediatrician\n",
      "Rating:  94% \n",
      "Name:  (17 votes)\n",
      "Address:  Plote Number 101, Rajeshwari Plaza, Akkayyapalem Highway Junction, Landmark: Behind National Highway 5 Signal Point & Opposite Akkayyapalem Sai Baba Temple, Visakhapatnam\n",
      "https://google.com/search?q=dr+sudheer++padashetty+++padshetty+ent+care+center+hyderabad\n",
      "https://www.practo.com/hyderabad/clinic/padshetty-ent-care-center-chanda-nagar&sa=U&ved=2ahUKEwi5287Myfr5AhVKA7kGHUKWCUkQFnoECAoQAg&usg=AOvVaw3-uiqvlp5CQ7CcR9S35vss\n",
      "['https://www.practo.com/hyderabad/clinic/padshetty-ent-care-center-chanda-nagar', 'sa=U', 'ved=2ahUKEwi5287Myfr5AhVKA7kGHUKWCUkQFnoECAoQAg', 'usg=AOvVaw3-uiqvlp5CQ7CcR9S35vss']\n",
      "Link searched for:  https://www.practo.com/hyderabad/clinic/padshetty-ent-care-center-chanda-nagar\n",
      "**************************************************\n"
     ]
    },
    {
     "name": "stderr",
     "output_type": "stream",
     "text": [
      "\r",
      " 30%|███████████▍                          | 519/1715 [31:23<1:26:55,  4.36s/it]"
     ]
    },
    {
     "name": "stdout",
     "output_type": "stream",
     "text": [
      "Name:  Padshetty ENT Care Center\n",
      "Speciality:  Ear-Nose-Throat (ENT) Clinic\n",
      "Rating:  2.5\n",
      "Name:  (27 patient stories)\n",
      "Address:  #5-139, Behind Vijetha Supermarket, Landmark: Manjeera Road, Hyderabad\n",
      "https://google.com/search?q=dr+gautham+gundabolu++hyderabad+neuro+centre+hyderabad\n",
      "https://www.practo.com/hyderabad/doctor/gautham-gundabolu-neurologist&sa=U&ved=2ahUKEwiF_NXPyfr5AhUABLkGHSZpDZUQFnoECAgQAg&usg=AOvVaw3KtUZEj1471ivaPIDvpedX\n",
      "['https://www.practo.com/hyderabad/doctor/gautham-gundabolu-neurologist', 'sa=U', 'ved=2ahUKEwiF_NXPyfr5AhUABLkGHSZpDZUQFnoECAgQAg', 'usg=AOvVaw3KtUZEj1471ivaPIDvpedX']\n",
      "Link searched for:  https://www.practo.com/hyderabad/doctor/gautham-gundabolu-neurologist\n",
      "**************************************************\n"
     ]
    },
    {
     "name": "stderr",
     "output_type": "stream",
     "text": [
      "\r",
      " 30%|███████████▌                          | 520/1715 [31:29<1:38:17,  4.94s/it]"
     ]
    },
    {
     "name": "stdout",
     "output_type": "stream",
     "text": [
      "Name:  Dr. Gautham Gundabolu\n",
      "Speciality:  Neurologist\n",
      "Rating:  100% \n",
      "Name:  (36 votes)\n",
      "Address:  MIG 253, 1st Floor, Road Number 4, Landmark: Opposite JK Hospital, Hyderabad\n",
      "https://google.com/search?q=dr+kranthi+p+kranthi+ent+&+allergy+clinic+hyderabad\n",
      "https://www.practo.com/hyderabad/doctor/dr-kranthi-paladugu-ear-nose-throat-ent-specialist&sa=U&ved=2ahUKEwjR1ZnSyfr5AhWYF7kGHWsGCqcQFnoECAkQAg&usg=AOvVaw0mFtjg-_FFakw7_-lmjLNs\n",
      "['https://www.practo.com/hyderabad/doctor/dr-kranthi-paladugu-ear-nose-throat-ent-specialist', 'sa=U', 'ved=2ahUKEwjR1ZnSyfr5AhWYF7kGHWsGCqcQFnoECAkQAg', 'usg=AOvVaw0mFtjg-_FFakw7_-lmjLNs']\n",
      "Link searched for:  https://www.practo.com/hyderabad/doctor/dr-kranthi-paladugu-ear-nose-throat-ent-specialist\n",
      "**************************************************\n"
     ]
    },
    {
     "name": "stderr",
     "output_type": "stream",
     "text": [
      "\r",
      " 30%|███████████▌                          | 521/1715 [31:33<1:31:43,  4.61s/it]"
     ]
    },
    {
     "name": "stdout",
     "output_type": "stream",
     "text": [
      "Name:  Dr. Kranthi Paladugu\n",
      "Speciality:  ENT/ Otorhinolaryngologist\n",
      "Rating:  85% \n",
      "Name:  (150 votes)\n",
      "Address:  Plot Number 5-109, 1st Floor, Vasathnagar, KPHB Main Road, Hyderabad\n",
      "https://google.com/search?q=dr+vasanth+kumar+madela+vaidya+clinic+hyderabad\n",
      "https://www.practo.com/hyderabad/clinic/vaidya-clinic-kukatpally&sa=U&ved=2ahUKEwiY34TUyfr5AhVmJrkGHV5uDhsQFnoECAIQAg&usg=AOvVaw1D7w6jbT9Z1DNHfqm1jOe2\n",
      "['https://www.practo.com/hyderabad/clinic/vaidya-clinic-kukatpally', 'sa=U', 'ved=2ahUKEwiY34TUyfr5AhVmJrkGHV5uDhsQFnoECAIQAg', 'usg=AOvVaw1D7w6jbT9Z1DNHfqm1jOe2']\n",
      "Link searched for:  https://www.practo.com/hyderabad/clinic/vaidya-clinic-kukatpally\n",
      "**************************************************\n"
     ]
    },
    {
     "name": "stderr",
     "output_type": "stream",
     "text": [
      "\r",
      " 30%|███████████▌                          | 522/1715 [31:37<1:23:45,  4.21s/it]"
     ]
    },
    {
     "name": "stdout",
     "output_type": "stream",
     "text": [
      "Name:  Vaidya Clinic\n",
      "Speciality:  General Health Clinic\n",
      "Rating not available.\n",
      "Votes are not available.\n",
      "Address:  #Shop No. 4, Plot No. 455 & 456, VI Phase, Padmaja Complex, KPHB Colony. Landmark: Near Bahar Cafe, Hyderabad\n",
      "https://google.com/search?q=dr+g+suman+kshemam+clinic+visakhapatnam\n",
      "https://www.practo.com/visakhapatnam/doctors/thanam%3Fpage%3D20&sa=U&ved=2ahUKEwjI9c3Vyfr5AhVPLLkGHXI9C88QFnoECAYQAg&usg=AOvVaw3UrHn2l3mbVBVKcdkSH6GF\n",
      "['https://www.practo.com/visakhapatnam/doctors/thanam%3Fpage%3D20', 'sa=U', 'ved=2ahUKEwjI9c3Vyfr5AhVPLLkGHXI9C88QFnoECAYQAg', 'usg=AOvVaw3UrHn2l3mbVBVKcdkSH6GF']\n",
      "Link searched for:  https://www.practo.com/visakhapatnam/doctors/thanam%3Fpage%3D20\n",
      "**************************************************\n"
     ]
    },
    {
     "name": "stderr",
     "output_type": "stream",
     "text": [
      "\r",
      " 30%|███████████▌                          | 523/1715 [31:40<1:20:12,  4.04s/it]"
     ]
    },
    {
     "name": "stdout",
     "output_type": "stream",
     "text": [
      "Heading is not availble\n",
      "Speciality is not available.\n",
      "Rating not available.\n",
      "Votes are not available.\n",
      "https://google.com/search?q=dr+sathish+kumar+s++korum+ent+superspeciality+centre+hyderabad\n",
      "https://www.practo.com/hyderabad/clinic/korum-ent-advanced-clinics-kukatpally&sa=U&ved=2ahUKEwjwhKvXyfr5AhWQALkGHY4ECZsQFnoECAoQAg&usg=AOvVaw1cELY5yEfAjQJb8-wkSlTP\n",
      "['https://www.practo.com/hyderabad/clinic/korum-ent-advanced-clinics-kukatpally', 'sa=U', 'ved=2ahUKEwjwhKvXyfr5AhWQALkGHY4ECZsQFnoECAoQAg', 'usg=AOvVaw1cELY5yEfAjQJb8-wkSlTP']\n",
      "Link searched for:  https://www.practo.com/hyderabad/clinic/korum-ent-advanced-clinics-kukatpally\n",
      "**************************************************\n"
     ]
    },
    {
     "name": "stderr",
     "output_type": "stream",
     "text": [
      "\r",
      " 31%|███████████▌                          | 524/1715 [31:45<1:22:31,  4.16s/it]"
     ]
    },
    {
     "name": "stdout",
     "output_type": "stream",
     "text": [
      "Name:  Korum ENT Superspeciality Centre\n",
      "Speciality:  Multi-speciality Clinic\n",
      "Rating:  4.5\n",
      "Name:  (461 patient stories)\n",
      "Address:  52, 2nd Floor, S V Asha Arcade, Mumbai Highway Road, NH-65, Landmark: Opposite Ratnadeep Supermarket And Above Domino's Restaurant, Hyderabad\n",
      "https://google.com/search?q=dr+anil+kumar++darivemula+vijaya+clinic+hyderabad\n",
      "https://www.practo.com/hyderabad/clinic/vijaya-advanced-orthopedic-clinic-vanasthalipuram&sa=U&ved=2ahUKEwjZtsfZyfr5AhV2BLkGHX1PBA8QFnoECAcQAg&usg=AOvVaw17-sQabcmAaURwx5M6Ar_A\n",
      "['https://www.practo.com/hyderabad/clinic/vijaya-advanced-orthopedic-clinic-vanasthalipuram', 'sa=U', 'ved=2ahUKEwjZtsfZyfr5AhV2BLkGHX1PBA8QFnoECAcQAg', 'usg=AOvVaw17-sQabcmAaURwx5M6Ar_A']\n",
      "Link searched for:  https://www.practo.com/hyderabad/clinic/vijaya-advanced-orthopedic-clinic-vanasthalipuram\n",
      "**************************************************\n"
     ]
    },
    {
     "name": "stderr",
     "output_type": "stream",
     "text": [
      "\r",
      " 31%|███████████▋                          | 525/1715 [31:48<1:16:51,  3.88s/it]"
     ]
    },
    {
     "name": "stdout",
     "output_type": "stream",
     "text": [
      "Name:  Vijaya Advanced Orthopedic Clinic\n",
      "Speciality:  Orthopaedic Surgery and Orthopedics Clinic\n",
      "Rating not available.\n",
      "Votes are not available.\n",
      "Address:  Plot Number B - 522, NGO's Colony, Landmark: Near Seven Steps Foot Wear, Hyderabad\n",
      "https://google.com/search?q=dr+kavya+meesala+kavya+nursing+home+hyderabad\n",
      "https://www.practo.com/hyderabad/doctor/dr-kavya-meesala-gynecologist&sa=U&ved=2ahUKEwic-v7ayfr5AhUyCdQKHfCqDBsQFnoECAAQAg&usg=AOvVaw0XHrinjwdN1AfrWob0QU1a\n",
      "['https://www.practo.com/hyderabad/doctor/dr-kavya-meesala-gynecologist', 'sa=U', 'ved=2ahUKEwic-v7ayfr5AhUyCdQKHfCqDBsQFnoECAAQAg', 'usg=AOvVaw0XHrinjwdN1AfrWob0QU1a']\n",
      "Link searched for:  https://www.practo.com/hyderabad/doctor/dr-kavya-meesala-gynecologist\n",
      "**************************************************\n"
     ]
    },
    {
     "name": "stderr",
     "output_type": "stream",
     "text": [
      "\r",
      " 31%|███████████▋                          | 526/1715 [31:51<1:15:04,  3.79s/it]"
     ]
    },
    {
     "name": "stdout",
     "output_type": "stream",
     "text": [
      "Name:  Dr. Kavya Meesala\n",
      "Speciality:  Laparoscopic Surgeon (Obs & Gyn)\n",
      "Rating:  5.0\n",
      "Votes are not available.\n",
      "Address:  House Number 22-254, Street Number3, A.S Raju Nagar, Landmark: Near South India Shopping Mall and SBI Bank, Hyderabad\n",
      "https://google.com/search?q=dr+shilpa++kandipalli++sv+cancer+care+visakhapatnam\n"
     ]
    },
    {
     "name": "stderr",
     "output_type": "stream",
     "text": [
      "\r",
      " 31%|███████████▋                          | 527/1715 [31:54<1:06:01,  3.33s/it]"
     ]
    },
    {
     "name": "stdout",
     "output_type": "stream",
     "text": [
      "Couldn't find any practo links.\n",
      "https://google.com/search?q=dr+chaitanya++kotla++dr+j+p+kotla's+medical+center+hyderabad\n",
      "https://www.practo.com/hyderabad/clinic/dr-j-p-kotla-s-medical-centre-narayanguda&sa=U&ved=2ahUKEwjGuuLdyfr5AhUoILkGHSPRAv0QFnoECAgQAg&usg=AOvVaw1ekMGTtw5b-hP2EL10iCB0\n",
      "['https://www.practo.com/hyderabad/clinic/dr-j-p-kotla-s-medical-centre-narayanguda', 'sa=U', 'ved=2ahUKEwjGuuLdyfr5AhUoILkGHSPRAv0QFnoECAgQAg', 'usg=AOvVaw1ekMGTtw5b-hP2EL10iCB0']\n",
      "Link searched for:  https://www.practo.com/hyderabad/clinic/dr-j-p-kotla-s-medical-centre-narayanguda\n",
      "**************************************************\n"
     ]
    },
    {
     "name": "stderr",
     "output_type": "stream",
     "text": [
      "\r",
      " 31%|███████████▋                          | 528/1715 [31:59<1:16:13,  3.85s/it]"
     ]
    },
    {
     "name": "stdout",
     "output_type": "stream",
     "text": [
      "Name:  Dr J.P Kotla'S Medical Centre\n",
      "Speciality:   Clinic\n",
      "Rating not available.\n",
      "Votes are not available.\n",
      "Address:  3-6-784/12 & 13, 405/405/A Legend Venkatesha Complex, Landmark: Beside Narayanguda Flyover, Next To Taj Mahal Hotel, Hyderabad\n",
      "https://google.com/search?q=dr+k+v+ram+kumar+lakshmi+gayatri+clinic+visakhapatnam\n"
     ]
    },
    {
     "name": "stderr",
     "output_type": "stream",
     "text": [
      "\r",
      " 31%|███████████▋                          | 529/1715 [32:03<1:16:22,  3.86s/it]"
     ]
    },
    {
     "name": "stdout",
     "output_type": "stream",
     "text": [
      "Couldn't find any practo links.\n",
      "https://google.com/search?q=dr+swathi+kotla+dr.jp+kotla+medical+centre.diabetes+thyroid+obesity+infertility+hyderabad\n",
      "https://www.practo.com/hyderabad/clinic/dr-j-p-kotla-s-medical-centre-narayanguda&sa=U&ved=2ahUKEwjprYziyfr5AhVJHrkGHbV8B3YQFnoECAAQAg&usg=AOvVaw0asM07Q2tNsifR8hmXGyou\n",
      "['https://www.practo.com/hyderabad/clinic/dr-j-p-kotla-s-medical-centre-narayanguda', 'sa=U', 'ved=2ahUKEwjprYziyfr5AhVJHrkGHbV8B3YQFnoECAAQAg', 'usg=AOvVaw0asM07Q2tNsifR8hmXGyou']\n",
      "Link searched for:  https://www.practo.com/hyderabad/clinic/dr-j-p-kotla-s-medical-centre-narayanguda\n",
      "**************************************************\n"
     ]
    },
    {
     "name": "stderr",
     "output_type": "stream",
     "text": [
      "\r",
      " 31%|███████████▋                          | 530/1715 [32:06<1:11:58,  3.64s/it]"
     ]
    },
    {
     "name": "stdout",
     "output_type": "stream",
     "text": [
      "Name:  Dr J.P Kotla'S Medical Centre\n",
      "Speciality:   Clinic\n",
      "Rating not available.\n",
      "Votes are not available.\n",
      "Address:  3-6-784/12 & 13, 405/405/A Legend Venkatesha Complex, Landmark: Beside Narayanguda Flyover, Next To Taj Mahal Hotel, Hyderabad\n",
      "https://google.com/search?q=dr+kamal+jamnani+abhiridh+specialty+clinic+hyderabad\n",
      "https://www.practo.com/hyderabad/doctor/dr-kamal-k-jhamnani&sa=U&ved=2ahUKEwiC6Mvjyfr5AhWsLLkGHTwlBwYQFnoECAYQAg&usg=AOvVaw3Zz5QVy4xZjJW1AmRXEHlT\n",
      "['https://www.practo.com/hyderabad/doctor/dr-kamal-k-jhamnani', 'sa=U', 'ved=2ahUKEwiC6Mvjyfr5AhWsLLkGHTwlBwYQFnoECAYQAg', 'usg=AOvVaw3Zz5QVy4xZjJW1AmRXEHlT']\n",
      "Link searched for:  https://www.practo.com/hyderabad/doctor/dr-kamal-k-jhamnani\n",
      "**************************************************\n"
     ]
    },
    {
     "name": "stderr",
     "output_type": "stream",
     "text": [
      "\r",
      " 31%|███████████▊                          | 531/1715 [32:09<1:09:29,  3.52s/it]"
     ]
    },
    {
     "name": "stdout",
     "output_type": "stream",
     "text": [
      "Name:  Dr. Kamal K Jhamnani\n",
      "Speciality:  Dermatologist\n",
      "Rating not available.\n",
      "Votes are not available.\n",
      "Address:  Plot Number 774/B, Road Number - 39,Jubilee Hills, CBI Colony Jubilee Hills, Landmark: Opposite The Kids Center, Hyderabad\n",
      "https://google.com/search?q=dr+sudhir++m+m+sudhir+clinic++hyderabad\n",
      "https://www.practo.com/hyderabad/doctor/dr-m-sudhir-gastroenterologist-1&sa=U&ved=2ahUKEwi-6JLlyfr5AhXKDrkGHXYmBZMQFnoECAIQAg&usg=AOvVaw2kXBCOS8_5AzDSfzv1Ur3P\n",
      "['https://www.practo.com/hyderabad/doctor/dr-m-sudhir-gastroenterologist-1', 'sa=U', 'ved=2ahUKEwi-6JLlyfr5AhXKDrkGHXYmBZMQFnoECAIQAg', 'usg=AOvVaw2kXBCOS8_5AzDSfzv1Ur3P']\n",
      "Link searched for:  https://www.practo.com/hyderabad/doctor/dr-m-sudhir-gastroenterologist-1\n",
      "**************************************************\n"
     ]
    },
    {
     "name": "stderr",
     "output_type": "stream",
     "text": [
      "\r",
      " 31%|███████████▊                          | 532/1715 [32:14<1:20:54,  4.10s/it]"
     ]
    },
    {
     "name": "stdout",
     "output_type": "stream",
     "text": [
      "Name:  Dr. M Sudhir\n",
      "Speciality:  Internal Medicine\n",
      "Rating:  96% \n",
      "Name:  (98 votes)\n",
      "Address:  #3-2-240, Road between Manju Theatre And Taj Hotel, Patny, Secunderabad, Hyderabad\n",
      "https://google.com/search?q=dr+n+narasimha+murthy+sri+satya+health+care+centre+visakhapatnam\n",
      "https://www.practo.com/visakhapatnam/doctor/dr-n-narasimhamurthy-general-physician&sa=U&ved=2ahUKEwjV9d7nyfr5AhWdGbkGHb06B3UQFnoECAgQAg&usg=AOvVaw3Clfe2rTwRWuWu78Zg42rn\n",
      "['https://www.practo.com/visakhapatnam/doctor/dr-n-narasimhamurthy-general-physician', 'sa=U', 'ved=2ahUKEwjV9d7nyfr5AhWdGbkGHb06B3UQFnoECAgQAg', 'usg=AOvVaw3Clfe2rTwRWuWu78Zg42rn']\n",
      "Link searched for:  https://www.practo.com/visakhapatnam/doctor/dr-n-narasimhamurthy-general-physician\n",
      "**************************************************\n"
     ]
    },
    {
     "name": "stderr",
     "output_type": "stream",
     "text": [
      "\r",
      " 31%|███████████▊                          | 533/1715 [32:17<1:11:38,  3.64s/it]"
     ]
    },
    {
     "name": "stdout",
     "output_type": "stream",
     "text": [
      "Name:  Dr. N. Narasimhamurthy\n",
      "Speciality:  General Physician\n",
      "Rating not available.\n",
      "Votes are not available.\n",
      "Address:  NH5, Ashok Nagar,Kanchrapalem, Landmark: Vinayaka Temple., Visakhapatnam\n",
      "https://google.com/search?q=dr+m+ramesh+kumar+mvr+diabetes+&+foot+care+hospital+visakhapatnam\n",
      "https://www.practo.com/visakhapatnam/doctor/manchala-ramesh-kumar-diabetologist-2&sa=U&ved=2ahUKEwjN1_noyfr5AhXbAbkGHRV-AToQFnoECAgQAg&usg=AOvVaw0WkL3of1w15VKJuk2ji_wM\n",
      "['https://www.practo.com/visakhapatnam/doctor/manchala-ramesh-kumar-diabetologist-2', 'sa=U', 'ved=2ahUKEwjN1_noyfr5AhXbAbkGHRV-AToQFnoECAgQAg', 'usg=AOvVaw0WkL3of1w15VKJuk2ji_wM']\n",
      "Link searched for:  https://www.practo.com/visakhapatnam/doctor/manchala-ramesh-kumar-diabetologist-2\n",
      "**************************************************\n"
     ]
    },
    {
     "name": "stderr",
     "output_type": "stream",
     "text": [
      "\r",
      " 31%|███████████▊                          | 534/1715 [32:19<1:03:20,  3.22s/it]"
     ]
    },
    {
     "name": "stdout",
     "output_type": "stream",
     "text": [
      "Name:  Dr. Manchala Ramesh Kumar\n",
      "Speciality:  General Physician\n",
      "Rating:  5.0\n",
      "Votes are not available.\n",
      "Address:  100 Feet Road, Gajuwaka, Landmark: Opposite to GVMC office, Visakhapatnam\n",
      "https://google.com/search?q=dr+r+vasudev+kundan+clinic+visakhapatnam\n",
      "https://www.practo.com/visakhapatnam/doctor/vasudev-general-physician&sa=U&ved=2ahUKEwiVzYPqyfr5AhUWDrkGHYUKC_QQFnoECAgQAg&usg=AOvVaw12jNlZWobeCehljWBosQb8\n",
      "['https://www.practo.com/visakhapatnam/doctor/vasudev-general-physician', 'sa=U', 'ved=2ahUKEwiVzYPqyfr5AhUWDrkGHYUKC_QQFnoECAgQAg', 'usg=AOvVaw12jNlZWobeCehljWBosQb8']\n",
      "Link searched for:  https://www.practo.com/visakhapatnam/doctor/vasudev-general-physician\n",
      "**************************************************\n"
     ]
    },
    {
     "name": "stderr",
     "output_type": "stream",
     "text": [
      "\r",
      " 31%|████████████▍                           | 535/1715 [32:22<58:45,  2.99s/it]"
     ]
    },
    {
     "name": "stdout",
     "output_type": "stream",
     "text": [
      "Name:  Dr. Vasudev\n",
      "Speciality:  General Physician\n",
      "Rating not available.\n",
      "Votes are not available.\n",
      "Address:  KGH Down Road, Landmark: Beside Andhra Bank., Visakhapatnam\n",
      "https://google.com/search?q=dr+bvrn+varma+dr.+varma's+joint+replace+clinic+visakhapatnam\n",
      "https://www.practo.com/visakhapatnam/doctor/dr-b-v-r-n-varma-1-orthopedist&sa=U&ved=2ahUKEwiJvpjryfr5AhU1AtQKHSnWAPYQFnoECAIQAg&usg=AOvVaw3SqvKdmzQ1xK3Z0k3RXeu-\n",
      "['https://www.practo.com/visakhapatnam/doctor/dr-b-v-r-n-varma-1-orthopedist', 'sa=U', 'ved=2ahUKEwiJvpjryfr5AhU1AtQKHSnWAPYQFnoECAIQAg', 'usg=AOvVaw3SqvKdmzQ1xK3Z0k3RXeu-']\n",
      "Link searched for:  https://www.practo.com/visakhapatnam/doctor/dr-b-v-r-n-varma-1-orthopedist\n",
      "**************************************************\n"
     ]
    },
    {
     "name": "stderr",
     "output_type": "stream",
     "text": [
      "\r",
      " 31%|███████████▉                          | 536/1715 [32:26<1:06:33,  3.39s/it]"
     ]
    },
    {
     "name": "stdout",
     "output_type": "stream",
     "text": [
      "Name:  Dr. B V R N Varma\n",
      "Speciality:  Orthopedist\n",
      "Rating not available.\n",
      "Votes are not available.\n",
      "Address:  48-3-65, B.V.K College, Srinagar, Ram talkies, Landmark: Opposite Gouthami Complex, Visakhapatnam\n",
      "https://google.com/search?q=dr+m+hema+sundar+krithi+children+clinic+visakhapatnam\n"
     ]
    },
    {
     "name": "stderr",
     "output_type": "stream",
     "text": [
      "\r",
      " 31%|███████████▉                          | 537/1715 [32:29<1:06:59,  3.41s/it]"
     ]
    },
    {
     "name": "stdout",
     "output_type": "stream",
     "text": [
      "Couldn't find any practo links.\n",
      "https://google.com/search?q=dr+k+v+t+gopal+skin+care+clinic+visakhapatnam\n",
      "https://www.practo.com/visakhapatnam/doctor/k-v-t-gopal-dermatologist-cosmetologist&sa=U&ved=2ahUKEwiz__Puyfr5AhWyBLkGHUdpBLkQFnoECAgQAg&usg=AOvVaw17fKpmw9Pqstg5zhAtdkEJ\n",
      "['https://www.practo.com/visakhapatnam/doctor/k-v-t-gopal-dermatologist-cosmetologist', 'sa=U', 'ved=2ahUKEwiz__Puyfr5AhWyBLkGHUdpBLkQFnoECAgQAg', 'usg=AOvVaw17fKpmw9Pqstg5zhAtdkEJ']\n",
      "Link searched for:  https://www.practo.com/visakhapatnam/doctor/k-v-t-gopal-dermatologist-cosmetologist\n",
      "**************************************************\n"
     ]
    },
    {
     "name": "stderr",
     "output_type": "stream",
     "text": [
      "\r",
      " 31%|███████████▉                          | 538/1715 [32:33<1:05:47,  3.35s/it]"
     ]
    },
    {
     "name": "stdout",
     "output_type": "stream",
     "text": [
      "Name:  Dr. K.V.T.Gopal\n",
      "Speciality:  Dermatologist\n",
      "Rating:  100% \n",
      "Name:  (14 votes)\n",
      "Address:  Sector 5, MVP Double Road, Landmark: Beside TTD Kalyana Mantapam, Visakhapatnam\n",
      "https://google.com/search?q=dr+girish++narayan+girish+narayan+hyderabad\n",
      "https://www.practo.com/hyderabad/doctor/dr-girish-narayan-nephrologist&sa=U&ved=2ahUKEwiMt7jwyfr5AhVGAbkGHQ6BCMcQFnoECAoQAg&usg=AOvVaw0oN4UZzWdiLMbGBYUFeBWL\n",
      "['https://www.practo.com/hyderabad/doctor/dr-girish-narayan-nephrologist', 'sa=U', 'ved=2ahUKEwiMt7jwyfr5AhVGAbkGHQ6BCMcQFnoECAoQAg', 'usg=AOvVaw0oN4UZzWdiLMbGBYUFeBWL']\n",
      "Link searched for:  https://www.practo.com/hyderabad/doctor/dr-girish-narayan-nephrologist\n",
      "**************************************************\n"
     ]
    },
    {
     "name": "stderr",
     "output_type": "stream",
     "text": [
      "\r",
      " 31%|███████████▉                          | 539/1715 [32:37<1:08:31,  3.50s/it]"
     ]
    },
    {
     "name": "stdout",
     "output_type": "stream",
     "text": [
      "Name:  Dr. Girish Narayan\n",
      "Speciality:  Nephrologist/Renal Specialist\n",
      "Rating:  96% \n",
      "Name:  (49 votes)\n",
      "Address:  5-9-94, Nampally, Landmark: Behind Haj House, Opposite Public Garden Gate 2, Near Fateh Maidan, Hyderabad\n",
      "https://google.com/search?q=dr+dheeraj+kondagari+endorheumacare+hyderabad\n",
      "https://www.practo.com/hyderabad/doctor/dheeraj-10-rheumatologist&sa=U&ved=2ahUKEwjwsKLyyfr5AhUXHbkGHeRrBxsQFnoECAAQAg&usg=AOvVaw0ky2cO2LDO8w236MxZpPm9\n",
      "['https://www.practo.com/hyderabad/doctor/dheeraj-10-rheumatologist', 'sa=U', 'ved=2ahUKEwjwsKLyyfr5AhUXHbkGHeRrBxsQFnoECAAQAg', 'usg=AOvVaw0ky2cO2LDO8w236MxZpPm9']\n",
      "Link searched for:  https://www.practo.com/hyderabad/doctor/dheeraj-10-rheumatologist\n",
      "**************************************************\n"
     ]
    },
    {
     "name": "stderr",
     "output_type": "stream",
     "text": [
      "\r",
      " 31%|███████████▉                          | 540/1715 [32:42<1:19:40,  4.07s/it]"
     ]
    },
    {
     "name": "stdout",
     "output_type": "stream",
     "text": [
      "Name:  Dr. Dheeraj Kondagari\n",
      "Speciality:  Rheumatologist\n",
      "Rating:  96% \n",
      "Name:  (50 votes)\n",
      "Address:  5th floor chikoti green building, Landmark: Above Dr. agarwal eye hospital, Hyderabad\n",
      "https://google.com/search?q=dr+s+arun+n-care+health+clinics+hyderabad\n",
      "https://www.practo.com/hyderabad/doctor/dr-s-arun-1-general-surgeon&sa=U&ved=2ahUKEwjxuOz0yfr5AhUyD7kGHcQ9BgUQFnoECAkQAg&usg=AOvVaw1A6Rvd9g5yaioE_FVZUmvK\n",
      "['https://www.practo.com/hyderabad/doctor/dr-s-arun-1-general-surgeon', 'sa=U', 'ved=2ahUKEwjxuOz0yfr5AhUyD7kGHcQ9BgUQFnoECAkQAg', 'usg=AOvVaw1A6Rvd9g5yaioE_FVZUmvK']\n",
      "Link searched for:  https://www.practo.com/hyderabad/doctor/dr-s-arun-1-general-surgeon\n",
      "**************************************************\n"
     ]
    },
    {
     "name": "stderr",
     "output_type": "stream",
     "text": [
      "\r",
      " 32%|███████████▉                          | 541/1715 [32:46<1:22:18,  4.21s/it]"
     ]
    },
    {
     "name": "stdout",
     "output_type": "stream",
     "text": [
      "Name:  Dr. S Arun\n",
      "Speciality:  Urologist\n",
      "Rating:  5.0\n",
      "Votes are not available.\n",
      "Address:  Plot Number 14&15, Sy.Number 66/7, Door Number 3-1276/3, B.S Tower, 1st Floor, Landmark: Beside TABLA Restaurant, Hyderabad\n",
      "https://google.com/search?q=dr+n+jyothsna+n+care+health+clinics+hyderabad\n",
      "https://www.practo.com/hyderabad/doctor/dr-jyothsna-dermatologist-cosmetologist&sa=U&ved=2ahUKEwjsi4D3yfr5AhV8K7kGHRHhAAwQFnoECAgQAg&usg=AOvVaw3_3y8HX0_ilxipjKUrInBJ\n",
      "['https://www.practo.com/hyderabad/doctor/dr-jyothsna-dermatologist-cosmetologist', 'sa=U', 'ved=2ahUKEwjsi4D3yfr5AhV8K7kGHRHhAAwQFnoECAgQAg', 'usg=AOvVaw3_3y8HX0_ilxipjKUrInBJ']\n",
      "Link searched for:  https://www.practo.com/hyderabad/doctor/dr-jyothsna-dermatologist-cosmetologist\n",
      "**************************************************\n"
     ]
    },
    {
     "name": "stderr",
     "output_type": "stream",
     "text": [
      "\r",
      " 32%|████████████                          | 542/1715 [32:50<1:19:52,  4.09s/it]"
     ]
    },
    {
     "name": "stdout",
     "output_type": "stream",
     "text": [
      "Name:  Dr. Jyotsna\n",
      "Speciality:  Dermatologist\n",
      "Rating:  92% \n",
      "Name:  (259 votes)\n",
      "Address:  West Marredpally Main Road, Landmark: Opposite Gokul Restaurant, Hyderabad\n",
      "https://google.com/search?q=dr+mvv+gandhi+samudra+hospital+visakhapatnam\n",
      "https://www.practo.com/visakhapatnam/hospital/samudra-hospital-visakhapatnam&sa=U&ved=2ahUKEwiE0uj4yfr5AhX0B7kGHQrdCxcQFnoECAgQAg&usg=AOvVaw3X9u80Mi5M-ZA3HhFq89ni\n",
      "['https://www.practo.com/visakhapatnam/hospital/samudra-hospital-visakhapatnam', 'sa=U', 'ved=2ahUKEwiE0uj4yfr5AhX0B7kGHQrdCxcQFnoECAgQAg', 'usg=AOvVaw3X9u80Mi5M-ZA3HhFq89ni']\n",
      "Link searched for:  https://www.practo.com/visakhapatnam/hospital/samudra-hospital-visakhapatnam\n",
      "**************************************************\n"
     ]
    },
    {
     "name": "stderr",
     "output_type": "stream",
     "text": [
      "\r",
      " 32%|████████████                          | 543/1715 [32:54<1:17:00,  3.94s/it]"
     ]
    },
    {
     "name": "stdout",
     "output_type": "stream",
     "text": [
      "Name:  Samudra Hospital\n",
      "Speciality is not available.\n",
      "Rating:  5.0\n",
      "Name:  (26 patient stories)\n",
      "https://google.com/search?q=dr+ranganath+j+al+mallika+kidney+care+center+hyderabad\n",
      "https://www.practo.com/hyderabad/clinic/mallika-kidney-care-center-mkcc-kphb&sa=U&ved=2ahUKEwjt6sT6yfr5AhUwBbkGHfQ0Ch0QFnoECAYQAg&usg=AOvVaw1u9jpesTpG_uy-Qvm49H4d\n",
      "['https://www.practo.com/hyderabad/clinic/mallika-kidney-care-center-mkcc-kphb', 'sa=U', 'ved=2ahUKEwjt6sT6yfr5AhUwBbkGHfQ0Ch0QFnoECAYQAg', 'usg=AOvVaw1u9jpesTpG_uy-Qvm49H4d']\n",
      "Link searched for:  https://www.practo.com/hyderabad/clinic/mallika-kidney-care-center-mkcc-kphb\n",
      "**************************************************\n"
     ]
    },
    {
     "name": "stderr",
     "output_type": "stream",
     "text": [
      "\r",
      " 32%|████████████                          | 544/1715 [32:57<1:11:19,  3.65s/it]"
     ]
    },
    {
     "name": "stdout",
     "output_type": "stream",
     "text": [
      "Name:  Mallika Kidney Care Center\n",
      "Speciality:  Nephrology Clinic\n",
      "Rating:  4.5\n",
      "Name:  (215 patient stories)\n",
      "Address:  # MIG-284, Ground Floor, opp Preeti Hospital, Remedy Hospital Lane, Road Number 4, Landmark: Opposite Syndicate Bank, Hyderabad\n",
      "https://google.com/search?q=dr+abdul++fatah+kam+hospital+hyderabad\n",
      "https://www.practo.com/hyderabad/doctor/dr-abdul-fatah-urologist-3&sa=U&ved=2ahUKEwjtqoH8yfr5AhUTALkGHU-eATkQFnoECAkQAg&usg=AOvVaw1Zq8uz_424TLMMTeMW0hV3\n",
      "['https://www.practo.com/hyderabad/doctor/dr-abdul-fatah-urologist-3', 'sa=U', 'ved=2ahUKEwjtqoH8yfr5AhUTALkGHU-eATkQFnoECAkQAg', 'usg=AOvVaw1Zq8uz_424TLMMTeMW0hV3']\n",
      "Link searched for:  https://www.practo.com/hyderabad/doctor/dr-abdul-fatah-urologist-3\n",
      "**************************************************\n"
     ]
    },
    {
     "name": "stderr",
     "output_type": "stream",
     "text": [
      "\r",
      " 32%|████████████                          | 545/1715 [33:03<1:26:55,  4.46s/it]"
     ]
    },
    {
     "name": "stdout",
     "output_type": "stream",
     "text": [
      "Name:  Dr. Abdul Fatah\n",
      "Speciality:  Urologist\n",
      "Rating:  90% \n",
      "Name:  (194 votes)\n",
      "Address:  #5-4-199, Exhibition Grounds Road, Nampally. Landmark: Opposite Gandhi Bhavan., Landmark: Gandhi Bhavan, Hyderabad\n",
      "https://google.com/search?q=dr+b+rama+vani+bharathi+hospital+visakhapatnam\n"
     ]
    },
    {
     "name": "stderr",
     "output_type": "stream",
     "text": [
      "\r",
      " 32%|████████████                          | 546/1715 [33:05<1:13:02,  3.75s/it]"
     ]
    },
    {
     "name": "stdout",
     "output_type": "stream",
     "text": [
      "Couldn't find any practo links.\n",
      "https://google.com/search?q=dr+jayanthi++reddy+l+j+j+hospital+hyderabad\n",
      "https://www.practo.com/hyderabad/doctor/dr-l-jayanthi-reddy-gynecologist-obstetrician-gynecologist-obstetrician&sa=U&ved=2ahUKEwiFrf3_yfr5AhXIGbkGHRsZB2UQFnoECAIQAg&usg=AOvVaw3RQHkh-m_4enMLuSHy18qo\n",
      "['https://www.practo.com/hyderabad/doctor/dr-l-jayanthi-reddy-gynecologist-obstetrician-gynecologist-obstetrician', 'sa=U', 'ved=2ahUKEwiFrf3_yfr5AhXIGbkGHRsZB2UQFnoECAIQAg', 'usg=AOvVaw3RQHkh-m_4enMLuSHy18qo']\n",
      "Link searched for:  https://www.practo.com/hyderabad/doctor/dr-l-jayanthi-reddy-gynecologist-obstetrician-gynecologist-obstetrician\n",
      "**************************************************\n"
     ]
    },
    {
     "name": "stderr",
     "output_type": "stream",
     "text": [
      "\r",
      " 32%|████████████                          | 547/1715 [33:09<1:13:51,  3.79s/it]"
     ]
    },
    {
     "name": "stdout",
     "output_type": "stream",
     "text": [
      "Name:  Dr. L Jayanthi Reddy\n",
      "Speciality:  Gynecologist\n",
      "Rating:  86% \n",
      "Name:  (88 votes)\n",
      "https://google.com/search?q=dr+jaya+ram+reddy+s+hyderabad+kidney+&+laparoscopic+centre+hyderabad\n",
      "https://www.practo.com/hyderabad/doctor/dr-jayaram-reddy-urologist-urologist&sa=U&ved=2ahUKEwj7zeuByvr5AhV6J7kGHcWoC2EQFnoECAgQAg&usg=AOvVaw1zRL5lbzI83MfikGTRDIoe\n",
      "['https://www.practo.com/hyderabad/doctor/dr-jayaram-reddy-urologist-urologist', 'sa=U', 'ved=2ahUKEwj7zeuByvr5AhV6J7kGHcWoC2EQFnoECAgQAg', 'usg=AOvVaw1zRL5lbzI83MfikGTRDIoe']\n",
      "Link searched for:  https://www.practo.com/hyderabad/doctor/dr-jayaram-reddy-urologist-urologist\n",
      "**************************************************\n"
     ]
    },
    {
     "name": "stderr",
     "output_type": "stream",
     "text": [
      "\r",
      " 32%|████████████▏                         | 548/1715 [33:14<1:17:44,  4.00s/it]"
     ]
    },
    {
     "name": "stdout",
     "output_type": "stream",
     "text": [
      "Name:  Dr. S. Jayaram Reddy\n",
      "Speciality:  Urologist\n",
      "Rating:  90% \n",
      "Name:  (21 votes)\n",
      "Address:  Plot Number 57, Phase 1,SR Nagar,Kalyan Nagar, Landmark: Opposite Road To Uma Chandra Statue & Near TB Hospital, Hyderabad\n",
      "https://google.com/search?q=dr+harika+surapaneni++++ent+care+hospital+hyderabad\n",
      "https://www.practo.com/hyderabad/doctor/dr-harika-surapaneni-ear-nose-throat-ent-specialist-1&sa=U&ved=2ahUKEwjFuPyDyvr5AhV6LLkGHVi1D0kQFnoECAgQAg&usg=AOvVaw3Y4f6o9-V9mPbi2x1XyPkq\n",
      "['https://www.practo.com/hyderabad/doctor/dr-harika-surapaneni-ear-nose-throat-ent-specialist-1', 'sa=U', 'ved=2ahUKEwjFuPyDyvr5AhV6LLkGHVi1D0kQFnoECAgQAg', 'usg=AOvVaw3Y4f6o9-V9mPbi2x1XyPkq']\n",
      "Link searched for:  https://www.practo.com/hyderabad/doctor/dr-harika-surapaneni-ear-nose-throat-ent-specialist-1\n",
      "**************************************************\n"
     ]
    },
    {
     "name": "stderr",
     "output_type": "stream",
     "text": [
      "\r",
      " 32%|████████████▏                         | 549/1715 [33:18<1:20:57,  4.17s/it]"
     ]
    },
    {
     "name": "stdout",
     "output_type": "stream",
     "text": [
      "Name:  Dr. Harika Surapaneni\n",
      "Speciality:  ENT/ Otorhinolaryngologist\n",
      "Rating:  80% \n",
      "Name:  (82 votes)\n",
      "Address:  Plot 336 , Landmark: Near Calvary Temple, Hyderabad\n",
      "https://google.com/search?q=dr+santosh+kumar++chennamaneni++evya+hospitals+and+diabetes+research+center+hyderabad\n",
      "https://www.practo.com/hyderabad/doctor/dr-santosh-kumar-9-cardiologist&sa=U&ved=2ahUKEwif8JKGyvr5AhXCArkGHdl7AOIQFnoECAkQAg&usg=AOvVaw3BKw8MNzsqn-1oOO1pDGWq\n",
      "['https://www.practo.com/hyderabad/doctor/dr-santosh-kumar-9-cardiologist', 'sa=U', 'ved=2ahUKEwif8JKGyvr5AhXCArkGHdl7AOIQFnoECAkQAg', 'usg=AOvVaw3BKw8MNzsqn-1oOO1pDGWq']\n",
      "Link searched for:  https://www.practo.com/hyderabad/doctor/dr-santosh-kumar-9-cardiologist\n",
      "**************************************************\n"
     ]
    },
    {
     "name": "stderr",
     "output_type": "stream",
     "text": [
      "\r",
      " 32%|████████████▏                         | 550/1715 [33:24<1:29:00,  4.58s/it]"
     ]
    },
    {
     "name": "stdout",
     "output_type": "stream",
     "text": [
      "Name:  Dr. Santosh Kumar C\n",
      "Speciality:  Cardiologist\n",
      "Rating:  4.0\n",
      "Votes are not available.\n",
      "Address:  16-10-29, Nalgonda X Roads, Landmark: Near Nalgonda Cross Bus Stop, Hyderabad\n",
      "https://google.com/search?q=dr+harika+r+rajagiri+hospital+hyderabad\n",
      "https://www.practo.com/hyderabad/hospital/rajagiri-hospital-uppal&sa=U&ved=2ahUKEwj95uWIyvr5AhXXHbkGHVbTAx0QFnoECAkQAg&usg=AOvVaw2uAfy4vA18Z__bYczN4Eu1\n",
      "['https://www.practo.com/hyderabad/hospital/rajagiri-hospital-uppal', 'sa=U', 'ved=2ahUKEwj95uWIyvr5AhXXHbkGHVbTAx0QFnoECAkQAg', 'usg=AOvVaw2uAfy4vA18Z__bYczN4Eu1']\n",
      "Link searched for:  https://www.practo.com/hyderabad/hospital/rajagiri-hospital-uppal\n",
      "**************************************************\n"
     ]
    },
    {
     "name": "stderr",
     "output_type": "stream",
     "text": [
      "\r",
      " 32%|████████████▏                         | 551/1715 [33:26<1:16:58,  3.97s/it]"
     ]
    },
    {
     "name": "stdout",
     "output_type": "stream",
     "text": [
      "Name:  Veeraiah's Rajagiri Children Hospital\n",
      "Speciality is not available.\n",
      "Rating not available.\n",
      "Votes are not available.\n",
      "https://google.com/search?q=dr+sudheer++reddy+t++3+senses+ent+specialty+clinic+hyderabad\n",
      "https://www.practo.com/hyderabad/clinic/3-senses-ent-specialty-clinic-habsiguda&sa=U&ved=2ahUKEwj5yYWKyvr5AhW1H7kGHZ6KB6sQFnoECAkQAg&usg=AOvVaw2yb6AQKgl7IijT-6HRitvF\n",
      "['https://www.practo.com/hyderabad/clinic/3-senses-ent-specialty-clinic-habsiguda', 'sa=U', 'ved=2ahUKEwj5yYWKyvr5AhW1H7kGHZ6KB6sQFnoECAkQAg', 'usg=AOvVaw2yb6AQKgl7IijT-6HRitvF']\n",
      "Link searched for:  https://www.practo.com/hyderabad/clinic/3-senses-ent-specialty-clinic-habsiguda\n",
      "**************************************************\n"
     ]
    },
    {
     "name": "stderr",
     "output_type": "stream",
     "text": [
      "\r",
      " 32%|████████████▏                         | 552/1715 [33:29<1:11:14,  3.68s/it]"
     ]
    },
    {
     "name": "stdout",
     "output_type": "stream",
     "text": [
      "Name:  3 Senses ENT Specialty Clinic\n",
      "Speciality:  Ear-Nose-Throat (ENT) and Otorhinolaringology Clinic\n",
      "Rating:  5.0\n",
      "Name:  (12 patient stories)\n",
      "Address:  4-44/3, Street Number 8, Landmark: Behind Bajaj Electronics, Hyderabad\n",
      "https://google.com/search?q=dr+devi+j+vito+speciality+clinics+hyderabad\n",
      "https://www.practo.com/hyderabad/clinic/vito-specialty-clinics-pharmacy-kondapur/doctors&sa=U&ved=2ahUKEwivsLeLyvr5AhWEC9QKHXHADccQFnoECAgQAg&usg=AOvVaw1ycqsF6vON6lYXXVfv8BGb\n",
      "['https://www.practo.com/hyderabad/clinic/vito-specialty-clinics-pharmacy-kondapur/doctors', 'sa=U', 'ved=2ahUKEwivsLeLyvr5AhWEC9QKHXHADccQFnoECAgQAg', 'usg=AOvVaw1ycqsF6vON6lYXXVfv8BGb']\n",
      "Link searched for:  https://www.practo.com/hyderabad/clinic/vito-specialty-clinics-pharmacy-kondapur/doctors\n",
      "**************************************************\n"
     ]
    },
    {
     "name": "stderr",
     "output_type": "stream",
     "text": [
      "\r",
      " 32%|████████████▎                         | 553/1715 [33:33<1:08:47,  3.55s/it]"
     ]
    },
    {
     "name": "stdout",
     "output_type": "stream",
     "text": [
      "Name:  Apollo Sugar Clinics\n",
      "Speciality:  Multi-speciality Clinic\n",
      "Rating:  5.0\n",
      "Name:  (58 patient stories)\n",
      "Address:  2F, Plot # 1492, Seshadri Marg, Raghavendra Colony,, Landmark: Opposite Bike Affair,Above Global Diagnostics, Hyderabad\n",
      "https://google.com/search?q=dr+a+sashi+kiran+habsiguda+speciality+clinics+hyderabad\n",
      "https://www.practo.com/hyderabad/doctor/dr-sashi-kiran-kayetha-pathologist&sa=U&ved=2ahUKEwjZ74yNyvr5AhXQJrkGHSbfDtsQFnoECAQQAg&usg=AOvVaw28AhbPEk2xZtxz4GIotGPe\n",
      "['https://www.practo.com/hyderabad/doctor/dr-sashi-kiran-kayetha-pathologist', 'sa=U', 'ved=2ahUKEwjZ74yNyvr5AhXQJrkGHSbfDtsQFnoECAQQAg', 'usg=AOvVaw28AhbPEk2xZtxz4GIotGPe']\n",
      "Link searched for:  https://www.practo.com/hyderabad/doctor/dr-sashi-kiran-kayetha-pathologist\n",
      "**************************************************\n"
     ]
    },
    {
     "name": "stderr",
     "output_type": "stream",
     "text": [
      "\r",
      " 32%|████████████▎                         | 554/1715 [33:37<1:16:04,  3.93s/it]"
     ]
    },
    {
     "name": "stdout",
     "output_type": "stream",
     "text": [
      "Name:  Dr. Sashi Kiran Kayetha\n",
      "Speciality:  Pathologist\n",
      "Rating:  3.5\n",
      "Votes are not available.\n",
      "Address:  Road Number 12, MLA Colony, Main Road, Landmark: Near TRS Bhavan, Hyderabad\n",
      "https://google.com/search?q=dr+rohan++reddy++gastro+care+clinic+hyderabad\n",
      "https://www.practo.com/hyderabad/doctor/dr-rohan-p-reddy-gastroenterologist-1&sa=U&ved=2ahUKEwjcy6SPyvr5AhW4I7kGHbvTDAsQFnoECAkQAg&usg=AOvVaw2FLfUFtIc1kuuKlNcEAQbi\n",
      "['https://www.practo.com/hyderabad/doctor/dr-rohan-p-reddy-gastroenterologist-1', 'sa=U', 'ved=2ahUKEwjcy6SPyvr5AhW4I7kGHbvTDAsQFnoECAkQAg', 'usg=AOvVaw2FLfUFtIc1kuuKlNcEAQbi']\n",
      "Link searched for:  https://www.practo.com/hyderabad/doctor/dr-rohan-p-reddy-gastroenterologist-1\n",
      "**************************************************\n"
     ]
    },
    {
     "name": "stderr",
     "output_type": "stream",
     "text": [
      "\r",
      " 32%|████████████▎                         | 555/1715 [33:41<1:15:13,  3.89s/it]"
     ]
    },
    {
     "name": "stdout",
     "output_type": "stream",
     "text": [
      "Name:  Dr. Rohan P Reddy\n",
      "Speciality:  Gastroenterologist\n",
      "Rating:  100% \n",
      "Name:  (16 votes)\n",
      "Address:  6-68/1, Pillar Number 139, Landmark: Below Vijaya Diagnostics, Hyderabad\n",
      "https://google.com/search?q=dr+srinidhi+t+blooming+buds+childrens+clinic+hyderabad\n",
      "https://www.practo.com/hyderabad/doctor/dr-t-srinidhi-pediatrician-1&sa=U&ved=2ahUKEwjNgYyRyvr5AhWCALkGHYxxCpMQFnoECAEQAg&usg=AOvVaw0admM94kvKUv8Ec9JwmFB3\n",
      "['https://www.practo.com/hyderabad/doctor/dr-t-srinidhi-pediatrician-1', 'sa=U', 'ved=2ahUKEwjNgYyRyvr5AhWCALkGHYxxCpMQFnoECAEQAg', 'usg=AOvVaw0admM94kvKUv8Ec9JwmFB3']\n",
      "Link searched for:  https://www.practo.com/hyderabad/doctor/dr-t-srinidhi-pediatrician-1\n",
      "**************************************************\n"
     ]
    },
    {
     "name": "stderr",
     "output_type": "stream",
     "text": [
      "\r",
      " 32%|████████████▎                         | 556/1715 [33:45<1:14:25,  3.85s/it]"
     ]
    },
    {
     "name": "stdout",
     "output_type": "stream",
     "text": [
      "Name:  Dr. T. Srinidhi\n",
      "Speciality:  Pediatrician\n",
      "Rating not available.\n",
      "Votes are not available.\n",
      "https://google.com/search?q=dr+p+eswar+rao+sree+chaitra+hospital+visakhapatnam\n",
      "https://www.practo.com/visakhapatnam/doctor/dr-p-eswara-rao-diabetologist&sa=U&ved=2ahUKEwimg_KSyvr5AhUtGLkGHa99BZUQFnoECAQQAg&usg=AOvVaw1MP_ILjsOk8blSt6BsOgch\n",
      "['https://www.practo.com/visakhapatnam/doctor/dr-p-eswara-rao-diabetologist', 'sa=U', 'ved=2ahUKEwimg_KSyvr5AhUtGLkGHa99BZUQFnoECAQQAg', 'usg=AOvVaw1MP_ILjsOk8blSt6BsOgch']\n",
      "Link searched for:  https://www.practo.com/visakhapatnam/doctor/dr-p-eswara-rao-diabetologist\n",
      "**************************************************\n"
     ]
    },
    {
     "name": "stderr",
     "output_type": "stream",
     "text": [
      "\r",
      " 32%|████████████▎                         | 557/1715 [33:49<1:12:55,  3.78s/it]"
     ]
    },
    {
     "name": "stdout",
     "output_type": "stream",
     "text": [
      "Name:  Dr. P.Eswara rao\n",
      "Speciality is not available.\n",
      "Rating not available.\n",
      "Votes are not available.\n",
      "Address:  Kanithi Road,Gajuwaka,Visakhapatnam-26,Landmark-Beside Vodafone Store., Visakhapatnam\n",
      "https://google.com/search?q=dr+radhika+r+national+skin+clinic+hyderabad\n",
      "https://www.practo.com/hyderabad/doctor/dr-radhika-dermatologist-cosmetologist-3&sa=U&ved=2ahUKEwj_jc6Uyvr5AhVuNrkGHeteDO0QFnoECAkQAg&usg=AOvVaw2hfM3Z9_PY9C-GaAIQ8xrS\n",
      "['https://www.practo.com/hyderabad/doctor/dr-radhika-dermatologist-cosmetologist-3', 'sa=U', 'ved=2ahUKEwj_jc6Uyvr5AhVuNrkGHeteDO0QFnoECAkQAg', 'usg=AOvVaw2hfM3Z9_PY9C-GaAIQ8xrS']\n",
      "Link searched for:  https://www.practo.com/hyderabad/doctor/dr-radhika-dermatologist-cosmetologist-3\n",
      "**************************************************\n"
     ]
    },
    {
     "name": "stderr",
     "output_type": "stream",
     "text": [
      "\r",
      " 33%|████████████▎                         | 558/1715 [33:52<1:12:38,  3.77s/it]"
     ]
    },
    {
     "name": "stdout",
     "output_type": "stream",
     "text": [
      "Name:  Dr. Radhika\n",
      "Speciality:  Dermatologist\n",
      "Rating:  86% \n",
      "Name:  (44 votes)\n",
      "https://google.com/search?q=dr+k+rama+krishna+sri+meenakshi+speciality+clinics+hyderabad\n",
      "https://www.practo.com/hyderabad/doctor/dr-k-rama-krishna-1-dermatologist-1&sa=U&ved=2ahUKEwj1_rGWyvr5AhU3CLkGHb72AUYQFnoECAoQAg&usg=AOvVaw3YQpj3yX2IhQAau6YSEBSH\n",
      "['https://www.practo.com/hyderabad/doctor/dr-k-rama-krishna-1-dermatologist-1', 'sa=U', 'ved=2ahUKEwj1_rGWyvr5AhU3CLkGHb72AUYQFnoECAoQAg', 'usg=AOvVaw3YQpj3yX2IhQAau6YSEBSH']\n",
      "Link searched for:  https://www.practo.com/hyderabad/doctor/dr-k-rama-krishna-1-dermatologist-1\n",
      "**************************************************\n"
     ]
    },
    {
     "name": "stderr",
     "output_type": "stream",
     "text": [
      "\r",
      " 33%|████████████▍                         | 559/1715 [33:58<1:23:12,  4.32s/it]"
     ]
    },
    {
     "name": "stdout",
     "output_type": "stream",
     "text": [
      "Name:  Dr. K Rama krishna\n",
      "Speciality:  Dermatologist\n",
      "Rating:  90% \n",
      "Name:  (20 votes)\n",
      "Address:  3-11-296/1, Shiva Ganga Colony, Landmark: Beside Karnataka Bank & Opposite Big Bazaa, Hyderabad\n",
      "https://google.com/search?q=dr+radha+penumatsa+veda+skin+&+hair+clinic++hyderabad\n",
      "https://www.practo.com/hyderabad/therapist/radha-raju-dermatologist&sa=U&ved=2ahUKEwiSioiZyvr5AhX5HbkGHSEZByMQFnoECAMQAg&usg=AOvVaw0oiP1zNhVvz7hidC2YcVzx\n",
      "['https://www.practo.com/hyderabad/therapist/radha-raju-dermatologist', 'sa=U', 'ved=2ahUKEwiSioiZyvr5AhX5HbkGHSEZByMQFnoECAMQAg', 'usg=AOvVaw0oiP1zNhVvz7hidC2YcVzx']\n",
      "Link searched for:  https://www.practo.com/hyderabad/therapist/radha-raju-dermatologist\n",
      "**************************************************\n"
     ]
    },
    {
     "name": "stderr",
     "output_type": "stream",
     "text": [
      "\r",
      " 33%|████████████▍                         | 560/1715 [34:01<1:16:21,  3.97s/it]"
     ]
    },
    {
     "name": "stdout",
     "output_type": "stream",
     "text": [
      "Name:  Dr. Radha Penumatsa\n",
      "Speciality:  Cosmetologist\n",
      "Rating:  100% \n",
      "Name:  (55 votes)\n",
      "Address:  3-10/3, 2nd Floor, Panchavati, Landmark: Above Adidas, Beside Cine Planet, Hyderabad\n",
      "https://google.com/search?q=dr+neeraja+valli+g++dr+neeraja's+fertility+and+gynaec+center+hyderabad\n",
      "https://www.practo.com/hyderabad/doctor/dr-neeraja-6-gynecologist-obstetrician&sa=U&ved=2ahUKEwjTvsiayvr5AhVzA7kGHRubBvIQFnoECAUQAg&usg=AOvVaw3aqmaB5XVBuUISu5LoJeEa\n",
      "['https://www.practo.com/hyderabad/doctor/dr-neeraja-6-gynecologist-obstetrician', 'sa=U', 'ved=2ahUKEwjTvsiayvr5AhVzA7kGHRubBvIQFnoECAUQAg', 'usg=AOvVaw3aqmaB5XVBuUISu5LoJeEa']\n",
      "Link searched for:  https://www.practo.com/hyderabad/doctor/dr-neeraja-6-gynecologist-obstetrician\n",
      "**************************************************\n"
     ]
    },
    {
     "name": "stderr",
     "output_type": "stream",
     "text": [
      "\r",
      " 33%|████████████▍                         | 561/1715 [34:06<1:22:25,  4.29s/it]"
     ]
    },
    {
     "name": "stdout",
     "output_type": "stream",
     "text": [
      "Name:  Dr. Neeraja Valli G\n",
      "Speciality:  Gynecologist\n",
      "Rating:  100% \n",
      "Name:  (85 votes)\n",
      "Address:  Hig Plot Number - 163 To 165, Shop Number - G3, Ayyappa Towers, Sixth Phase, Landmark: Beside Allahabad Bank, Near Ninth Phase Auto Stand, Hyderabad\n",
      "https://google.com/search?q=dr+neil+trivedi+vijaya+health+care+hyderabad\n",
      "https://www.practo.com/hyderabad/doctor/dr-neil-n-trivedi-urologist-3&sa=U&ved=2ahUKEwjIwPucyvr5AhVHCbkGHV5_B48QFnoECAgQAg&usg=AOvVaw3g5akbLtkGcrOO11G_fxIU\n",
      "['https://www.practo.com/hyderabad/doctor/dr-neil-n-trivedi-urologist-3', 'sa=U', 'ved=2ahUKEwjIwPucyvr5AhVHCbkGHV5_B48QFnoECAgQAg', 'usg=AOvVaw3g5akbLtkGcrOO11G_fxIU']\n",
      "Link searched for:  https://www.practo.com/hyderabad/doctor/dr-neil-n-trivedi-urologist-3\n",
      "**************************************************\n"
     ]
    },
    {
     "name": "stderr",
     "output_type": "stream",
     "text": [
      "\r",
      " 33%|████████████▍                         | 562/1715 [34:10<1:22:24,  4.29s/it]"
     ]
    },
    {
     "name": "stdout",
     "output_type": "stream",
     "text": [
      "Name:  Dr. Neil N Trivedi\n",
      "Speciality:  Urologist\n",
      "Rating:  89% \n",
      "Name:  (36 votes)\n",
      "Address:  8-2-186, Clock Tower, Landmark: Opposite Passport Office Kummariguda, Hyderabad\n",
      "https://google.com/search?q=dr+himakanth++rao+l+medihub+medical+clinic++hyderabad\n",
      "https://www.practo.com/hyderabad/clinic/medihib-clinics-kokapet/doctors&sa=U&ved=2ahUKEwizt9-fyvr5AhU0BtQKHVtWC5gQFnoECAMQAg&usg=AOvVaw1U3YEV50Vr_bV-jdk6qDSt\n",
      "['https://www.practo.com/hyderabad/clinic/medihib-clinics-kokapet/doctors', 'sa=U', 'ved=2ahUKEwizt9-fyvr5AhU0BtQKHVtWC5gQFnoECAMQAg', 'usg=AOvVaw1U3YEV50Vr_bV-jdk6qDSt']\n",
      "Link searched for:  https://www.practo.com/hyderabad/clinic/medihib-clinics-kokapet/doctors\n",
      "**************************************************\n"
     ]
    },
    {
     "name": "stderr",
     "output_type": "stream",
     "text": [
      "\r",
      " 33%|████████████▍                         | 563/1715 [34:16<1:28:48,  4.63s/it]"
     ]
    },
    {
     "name": "stdout",
     "output_type": "stream",
     "text": [
      "Name:  Medi Hub Medical Clinics\n",
      "Speciality:  Multi-speciality Clinic\n",
      "Rating:  5.0\n",
      "Name:  (14 patient stories)\n",
      "Address:  Unit-401, Essen Presidential, Golden Mile Road, Landmark: Opposite to Rajapushpa Atria, Hyderabad\n",
      "https://google.com/search?q=dr+kushal+donkada++medihub+medical+clinic++hyderabad\n",
      "https://www.practo.com/hyderabad/doctor/kushal-donkada-ear-nose-throat-ent-specialist&sa=U&ved=2ahUKEwjM4Muhyvr5AhUVBbkGHTUdBpEQFnoECAIQAg&usg=AOvVaw1X657Nx-51C1AyzPezppbb\n",
      "['https://www.practo.com/hyderabad/doctor/kushal-donkada-ear-nose-throat-ent-specialist', 'sa=U', 'ved=2ahUKEwjM4Muhyvr5AhUVBbkGHTUdBpEQFnoECAIQAg', 'usg=AOvVaw1X657Nx-51C1AyzPezppbb']\n",
      "Link searched for:  https://www.practo.com/hyderabad/doctor/kushal-donkada-ear-nose-throat-ent-specialist\n",
      "**************************************************\n"
     ]
    },
    {
     "name": "stderr",
     "output_type": "stream",
     "text": [
      "\r",
      " 33%|████████████▍                         | 564/1715 [34:21<1:32:03,  4.80s/it]"
     ]
    },
    {
     "name": "stdout",
     "output_type": "stream",
     "text": [
      "Name:  Dr. Kushal Donkada\n",
      "Speciality:  ENT/ Otorhinolaryngologist\n",
      "Rating:  5.0\n",
      "Votes are not available.\n",
      "Address:  Unit-401, Essen Presidential, Golden Mile Road, Landmark: Opposite to Rajapushpa Atria, Hyderabad\n",
      "https://google.com/search?q=dr+sita+reddy+m+kindle+clinics++hyderabad\n",
      "https://www.practo.com/hyderabad/doctor/sita-reddy-m-gynecologist-obstetrician&sa=U&ved=2ahUKEwjpwYmkyvr5AhWYD7kGHWQpBFAQFnoECAEQAg&usg=AOvVaw1yGwClOkF-oRshuF6-g88t\n",
      "['https://www.practo.com/hyderabad/doctor/sita-reddy-m-gynecologist-obstetrician', 'sa=U', 'ved=2ahUKEwjpwYmkyvr5AhWYD7kGHWQpBFAQFnoECAEQAg', 'usg=AOvVaw1yGwClOkF-oRshuF6-g88t']\n",
      "Link searched for:  https://www.practo.com/hyderabad/doctor/sita-reddy-m-gynecologist-obstetrician\n",
      "**************************************************\n"
     ]
    },
    {
     "name": "stderr",
     "output_type": "stream",
     "text": [
      "\r",
      " 33%|████████████▌                         | 565/1715 [34:25<1:26:58,  4.54s/it]"
     ]
    },
    {
     "name": "stdout",
     "output_type": "stream",
     "text": [
      "Name:  Dr. Sita Reddy M\n",
      "Speciality:  Obstetrician\n",
      "Rating:  5.0\n",
      "Votes are not available.\n",
      "Address:  Plot Number 1 and 2, Old Mumbai Hwy, Indira Nagar, Landmark: Opposite KS Bakers, Hyderabad\n",
      "https://google.com/search?q=dr+capt+a+alam+kindle+clinics++hyderabad\n",
      "https://www.practo.com/hyderabad/doctor/a-alam-general-physician&sa=U&ved=2ahUKEwitivmlyvr5AhX_ILkGHW87DB4QFnoECAMQAg&usg=AOvVaw3hJ9W5f3_ppZHtfr75MrBi\n",
      "['https://www.practo.com/hyderabad/doctor/a-alam-general-physician', 'sa=U', 'ved=2ahUKEwitivmlyvr5AhX_ILkGHW87DB4QFnoECAMQAg', 'usg=AOvVaw3hJ9W5f3_ppZHtfr75MrBi']\n",
      "Link searched for:  https://www.practo.com/hyderabad/doctor/a-alam-general-physician\n",
      "**************************************************\n"
     ]
    },
    {
     "name": "stderr",
     "output_type": "stream",
     "text": [
      "\r",
      " 33%|████████████▌                         | 566/1715 [34:29<1:24:31,  4.41s/it]"
     ]
    },
    {
     "name": "stdout",
     "output_type": "stream",
     "text": [
      "Name:  Dr. Capt A Alam\n",
      "Speciality:  General Physician\n",
      "Rating not available.\n",
      "Votes are not available.\n",
      "https://google.com/search?q=dr+jagan+mohan+reddy+velpula+slg+hospital+hyderabad\n",
      "https://www.practo.com/hyderabad/doctor/jagan-mohana-reddy-velpula-orthopedist&sa=U&ved=2ahUKEwiXwfWnyvr5AhXfGLkGHaxFAlUQFnoECAMQAg&usg=AOvVaw0K8dkJ7yiYQ5gspUVFVEnH\n",
      "['https://www.practo.com/hyderabad/doctor/jagan-mohana-reddy-velpula-orthopedist', 'sa=U', 'ved=2ahUKEwiXwfWnyvr5AhXfGLkGHaxFAlUQFnoECAMQAg', 'usg=AOvVaw0K8dkJ7yiYQ5gspUVFVEnH']\n",
      "Link searched for:  https://www.practo.com/hyderabad/doctor/jagan-mohana-reddy-velpula-orthopedist\n",
      "**************************************************\n"
     ]
    },
    {
     "name": "stderr",
     "output_type": "stream",
     "text": [
      "\r",
      " 33%|████████████▌                         | 567/1715 [34:33<1:23:01,  4.34s/it]"
     ]
    },
    {
     "name": "stdout",
     "output_type": "stream",
     "text": [
      "Name:  Dr. Jagan Mohana Reddy Velpula\n",
      "Speciality:  Orthopedist\n",
      "Rating:  98% \n",
      "Name:  (97 votes)\n",
      "Address:  1,307-MIG, Road Number 4, KPHB Phase-1, Landmark: Near Adhiswar Electroincs, Hyderabad\n",
      "https://google.com/search?q=dr+gaddam+gopi+krishna+reddy+slg+hospital+hyderabad\n",
      "https://www.practo.com/hyderabad/doctor/gopikrishna-reddy-g-orthopedist&sa=U&ved=2ahUKEwj3ivOpyvr5AhWcHbkGHZjnBlcQFnoECAgQAg&usg=AOvVaw3h-Ajwu8K1PO7WIBDpzeAv\n",
      "['https://www.practo.com/hyderabad/doctor/gopikrishna-reddy-g-orthopedist', 'sa=U', 'ved=2ahUKEwj3ivOpyvr5AhWcHbkGHZjnBlcQFnoECAgQAg', 'usg=AOvVaw3h-Ajwu8K1PO7WIBDpzeAv']\n",
      "Link searched for:  https://www.practo.com/hyderabad/doctor/gopikrishna-reddy-g-orthopedist\n",
      "**************************************************\n"
     ]
    },
    {
     "name": "stderr",
     "output_type": "stream",
     "text": [
      "\r",
      " 33%|████████████▌                         | 568/1715 [34:37<1:22:08,  4.30s/it]"
     ]
    },
    {
     "name": "stdout",
     "output_type": "stream",
     "text": [
      "Name:  Dr. Gopikrishna Reddy G\n",
      "Speciality:  Orthopedist\n",
      "Rating not available.\n",
      "Votes are not available.\n",
      "https://google.com/search?q=dr+krishna+chaitanya++slg+hospital+hyderabad\n",
      "https://www.practo.com/hyderabad/doctor/dr-krishna-chaitanya-3-general-surgeon&sa=U&ved=2ahUKEwj7qfOryvr5AhW6LbkGHXhzADwQFnoECAcQAg&usg=AOvVaw1FdFQcVPgtwu37jEpV3xCT\n",
      "['https://www.practo.com/hyderabad/doctor/dr-krishna-chaitanya-3-general-surgeon', 'sa=U', 'ved=2ahUKEwj7qfOryvr5AhW6LbkGHXhzADwQFnoECAcQAg', 'usg=AOvVaw1FdFQcVPgtwu37jEpV3xCT']\n",
      "Link searched for:  https://www.practo.com/hyderabad/doctor/dr-krishna-chaitanya-3-general-surgeon\n",
      "**************************************************\n"
     ]
    },
    {
     "name": "stderr",
     "output_type": "stream",
     "text": [
      "\r",
      " 33%|████████████▌                         | 569/1715 [34:43<1:29:50,  4.70s/it]"
     ]
    },
    {
     "name": "stdout",
     "output_type": "stream",
     "text": [
      "Name:  Dr. Krishna Chaitanya\n",
      "Speciality:  Laparoscopic Surgeon\n",
      "Rating:  3.5\n",
      "Votes are not available.\n",
      "Address:  16-6-104 to 109, Chaderghat, Landmark: Opposite Old Kamal Theater Complex & Niagara Hotel, Hyderabad\n",
      "https://google.com/search?q=dr+keerthan+kalva+kindle+clinic+hyderabad\n",
      "https://www.practo.com/hyderabad/doctor/dr-keerthana-3-dermatologist&sa=U&ved=2ahUKEwj_xM2uyvr5AhXdIrkGHfMUCDEQFnoECAoQAg&usg=AOvVaw12C2M3wl-BbhcPkFuHE5HD\n",
      "['https://www.practo.com/hyderabad/doctor/dr-keerthana-3-dermatologist', 'sa=U', 'ved=2ahUKEwj_xM2uyvr5AhXdIrkGHfMUCDEQFnoECAoQAg', 'usg=AOvVaw12C2M3wl-BbhcPkFuHE5HD']\n",
      "Link searched for:  https://www.practo.com/hyderabad/doctor/dr-keerthana-3-dermatologist\n",
      "**************************************************\n"
     ]
    },
    {
     "name": "stderr",
     "output_type": "stream",
     "text": [
      "\r",
      " 33%|████████████▋                         | 570/1715 [34:47<1:23:54,  4.40s/it]"
     ]
    },
    {
     "name": "stdout",
     "output_type": "stream",
     "text": [
      "Name:  Dr. Keerthana Kalva\n",
      "Speciality:  Dermatologist\n",
      "Rating:  95% \n",
      "Name:  (206 votes)\n",
      "Address:  3rd Floor, Park View Building, Road Number 1, Landmark: Adjacent To CVR Health, Hyderabad\n",
      "https://google.com/search?q=dr+bhanu+kiran+reddy+slg+hospitals+hyderabad\n",
      "https://www.practo.com/hyderabad/doctor/dr-maddi-bhanu-kiran-reddy-general-physician&sa=U&ved=2ahUKEwj_5aywyvr5AhUfGbkGHWZQATsQFnoECAEQAg&usg=AOvVaw3mMqGEFiq-YZVmvbL1taXz\n",
      "['https://www.practo.com/hyderabad/doctor/dr-maddi-bhanu-kiran-reddy-general-physician', 'sa=U', 'ved=2ahUKEwj_5aywyvr5AhUfGbkGHWZQATsQFnoECAEQAg', 'usg=AOvVaw3mMqGEFiq-YZVmvbL1taXz']\n",
      "Link searched for:  https://www.practo.com/hyderabad/doctor/dr-maddi-bhanu-kiran-reddy-general-physician\n",
      "**************************************************\n"
     ]
    },
    {
     "name": "stderr",
     "output_type": "stream",
     "text": [
      "\r",
      " 33%|████████████▋                         | 571/1715 [34:50<1:18:25,  4.11s/it]"
     ]
    },
    {
     "name": "stdout",
     "output_type": "stream",
     "text": [
      "Name:  Dr. Maddi Bhanu Kiran Reddy\n",
      "Speciality:  Cardiologist\n",
      "Rating:  5.0\n",
      "Votes are not available.\n",
      "Address:  SLG Circle, Nizampet Road, Bachupally, Landmark: SLG Circle, Hyderabad\n",
      "https://google.com/search?q=dr+vikas+kumar+shukla+slg+hospitals+hyderabad\n",
      "https://www.practo.com/hyderabad/hospital/slg-hospitals-nizampet/doctors&sa=U&ved=2ahUKEwjAmf-xyvr5AhWVA7kGHZheAoEQFnoECAMQAg&usg=AOvVaw0p4QzaCJFZk4yNDoemWhc1\n",
      "['https://www.practo.com/hyderabad/hospital/slg-hospitals-nizampet/doctors', 'sa=U', 'ved=2ahUKEwjAmf-xyvr5AhWVA7kGHZheAoEQFnoECAMQAg', 'usg=AOvVaw0p4QzaCJFZk4yNDoemWhc1']\n",
      "Link searched for:  https://www.practo.com/hyderabad/hospital/slg-hospitals-nizampet/doctors\n",
      "**************************************************\n"
     ]
    },
    {
     "name": "stderr",
     "output_type": "stream",
     "text": [
      "\r",
      " 33%|████████████▋                         | 572/1715 [34:54<1:18:07,  4.10s/it]"
     ]
    },
    {
     "name": "stdout",
     "output_type": "stream",
     "text": [
      "Name:  SLG Hospitals\n",
      "Speciality is not available.\n",
      "Rating:  5.0\n",
      "Name:  (523 patient stories)\n",
      "https://google.com/search?q=dr+bhasker+tripathi+slg+hospitals+hyderabad\n"
     ]
    },
    {
     "name": "stderr",
     "output_type": "stream",
     "text": [
      "\r",
      " 33%|████████████▋                         | 573/1715 [34:57<1:08:06,  3.58s/it]"
     ]
    },
    {
     "name": "stdout",
     "output_type": "stream",
     "text": [
      "Couldn't find any practo links.\n",
      "https://google.com/search?q=dr+kiran+reddy+c+kindle+clinic+hyderabad\n",
      "https://www.practo.com/hyderabad/clinic/kindle-clinics-gachibowli-1&sa=U&ved=2ahUKEwie4oe1yvr5AhXJFLkGHZRbAukQFnoECAgQAg&usg=AOvVaw2DyQZLihWC_eZZbrzhCH6R\n",
      "['https://www.practo.com/hyderabad/clinic/kindle-clinics-gachibowli-1', 'sa=U', 'ved=2ahUKEwie4oe1yvr5AhXJFLkGHZRbAukQFnoECAgQAg', 'usg=AOvVaw2DyQZLihWC_eZZbrzhCH6R']\n",
      "Link searched for:  https://www.practo.com/hyderabad/clinic/kindle-clinics-gachibowli-1\n",
      "**************************************************\n"
     ]
    },
    {
     "name": "stderr",
     "output_type": "stream",
     "text": [
      "\r",
      " 33%|████████████▋                         | 574/1715 [35:00<1:04:30,  3.39s/it]"
     ]
    },
    {
     "name": "stdout",
     "output_type": "stream",
     "text": [
      "Name:  Kindle Clinics\n",
      "Speciality:  Multi-speciality Clinic\n",
      "Rating:  5.0\n",
      "Name:  (207 patient stories)\n",
      "Address:  Plot Number 1 and 2, Old Mumbai Hwy, Indira Nagar, Landmark: Opposite KS Bakers, Hyderabad\n",
      "https://google.com/search?q=dr+vallabhu+venu+slg+hospitals+hyderabad\n",
      "https://www.practo.com/hyderabad/doctor/dr-vallabhu-venu-general-physician&sa=U&ved=2ahUKEwi6s7y2yvr5AhWcGLkGHZa_C_QQFnoECAoQAg&usg=AOvVaw0YoOvucUN6Y2DQdf47TEUm\n",
      "['https://www.practo.com/hyderabad/doctor/dr-vallabhu-venu-general-physician', 'sa=U', 'ved=2ahUKEwi6s7y2yvr5AhWcGLkGHZa_C_QQFnoECAoQAg', 'usg=AOvVaw0YoOvucUN6Y2DQdf47TEUm']\n",
      "Link searched for:  https://www.practo.com/hyderabad/doctor/dr-vallabhu-venu-general-physician\n",
      "**************************************************\n"
     ]
    },
    {
     "name": "stderr",
     "output_type": "stream",
     "text": [
      "\r",
      " 34%|████████████▋                         | 575/1715 [35:03<1:07:20,  3.54s/it]"
     ]
    },
    {
     "name": "stdout",
     "output_type": "stream",
     "text": [
      "Name:  Dr. Vallabhu Venu\n",
      "Speciality:  General Physician\n",
      "Rating not available.\n",
      "Votes are not available.\n",
      "https://google.com/search?q=dr+kavitha+a+manjula++slg+hospital+hyderabad\n",
      "https://www.practo.com/hyderabad/doctor/dr-k-manjula-gynecologist-obstetrician&sa=U&ved=2ahUKEwjioqq4yvr5AhWkB9QKHVaABWoQFnoECAkQAg&usg=AOvVaw3En8fEVp12CoMnGtL1cp2R\n",
      "['https://www.practo.com/hyderabad/doctor/dr-k-manjula-gynecologist-obstetrician', 'sa=U', 'ved=2ahUKEwjioqq4yvr5AhWkB9QKHVaABWoQFnoECAkQAg', 'usg=AOvVaw3En8fEVp12CoMnGtL1cp2R']\n",
      "Link searched for:  https://www.practo.com/hyderabad/doctor/dr-k-manjula-gynecologist-obstetrician\n",
      "**************************************************\n"
     ]
    },
    {
     "name": "stderr",
     "output_type": "stream",
     "text": [
      "\r",
      " 34%|████████████▊                         | 576/1715 [35:08<1:13:11,  3.86s/it]"
     ]
    },
    {
     "name": "stdout",
     "output_type": "stream",
     "text": [
      "Name:  Dr. K.Manjula\n",
      "Speciality:  Gynecologist\n",
      "Rating not available.\n",
      "Votes are not available.\n",
      "Address:  #8-7-131/1,Ghori Nagar, Mazid Lane, Old Bowenpally, Landmark: New Gramer High School., Hyderabad\n",
      "https://google.com/search?q=dr+vivek+babu+bojjawar+slg+hospital+hyderabad\n",
      "https://www.practo.com/hyderabad/doctor/dr-vivek-babu-b-cardiac-surgeon&sa=U&ved=2ahUKEwi5hcK6yvr5AhW6LbkGHXhzADwQFnoECAYQAg&usg=AOvVaw2FszM4g5I_8Llvkmo9LmLT\n",
      "['https://www.practo.com/hyderabad/doctor/dr-vivek-babu-b-cardiac-surgeon', 'sa=U', 'ved=2ahUKEwi5hcK6yvr5AhW6LbkGHXhzADwQFnoECAYQAg', 'usg=AOvVaw2FszM4g5I_8Llvkmo9LmLT']\n",
      "Link searched for:  https://www.practo.com/hyderabad/doctor/dr-vivek-babu-b-cardiac-surgeon\n",
      "**************************************************\n"
     ]
    },
    {
     "name": "stderr",
     "output_type": "stream",
     "text": [
      "\r",
      " 34%|████████████▊                         | 577/1715 [35:12<1:15:21,  3.97s/it]"
     ]
    },
    {
     "name": "stdout",
     "output_type": "stream",
     "text": [
      "Name:  Dr. Vivek Babu Bojjawar\n",
      "Speciality:  Cardiothoracic and Vascular Surgeon\n",
      "Rating:  5.0\n",
      "Votes are not available.\n",
      "Address:  SLG Circle, Nizampet Road, Bachupally, Landmark: SLG Circle, Hyderabad\n",
      "https://google.com/search?q=dr+adithya+dr++slg+hospitals+hyderabad\n",
      "https://www.practo.com/hyderabad/doctor/dr-r-aditya-vandan-pulmonologist&sa=U&ved=2ahUKEwi4_Mq8yvr5AhU7D7kGHbfjBO0QFnoECAgQAg&usg=AOvVaw2A8x01qGAEv5-ashB40PvE\n",
      "['https://www.practo.com/hyderabad/doctor/dr-r-aditya-vandan-pulmonologist', 'sa=U', 'ved=2ahUKEwi4_Mq8yvr5AhU7D7kGHbfjBO0QFnoECAgQAg', 'usg=AOvVaw2A8x01qGAEv5-ashB40PvE']\n",
      "Link searched for:  https://www.practo.com/hyderabad/doctor/dr-r-aditya-vandan-pulmonologist\n",
      "**************************************************\n"
     ]
    },
    {
     "name": "stderr",
     "output_type": "stream",
     "text": [
      "\r",
      " 34%|████████████▊                         | 578/1715 [35:17<1:19:30,  4.20s/it]"
     ]
    },
    {
     "name": "stdout",
     "output_type": "stream",
     "text": [
      "Name:  Dr. R Aditya Vandan\n",
      "Speciality:  Pulmonologist\n",
      "Rating:  5.0\n",
      "Votes are not available.\n",
      "Address:  SLG Circle, Nizampet Road, Bachupally, Landmark: SLG Circle, Hyderabad\n",
      "https://google.com/search?q=dr+suma+k+slg+hospitals+hyderabad\n",
      "https://www.practo.com/hyderabad/doctor/dr-kandukuri-suma&sa=U&ved=2ahUKEwjBxeS-yvr5AhWJJrkGHWfkBsQQFnoECAYQAg&usg=AOvVaw0KM5r-dRpKXuQoMMJiSWzW\n",
      "['https://www.practo.com/hyderabad/doctor/dr-kandukuri-suma', 'sa=U', 'ved=2ahUKEwjBxeS-yvr5AhWJJrkGHWfkBsQQFnoECAYQAg', 'usg=AOvVaw0KM5r-dRpKXuQoMMJiSWzW']\n",
      "Link searched for:  https://www.practo.com/hyderabad/doctor/dr-kandukuri-suma\n",
      "**************************************************\n"
     ]
    },
    {
     "name": "stderr",
     "output_type": "stream",
     "text": [
      "\r",
      " 34%|████████████▊                         | 579/1715 [35:21<1:17:11,  4.08s/it]"
     ]
    },
    {
     "name": "stdout",
     "output_type": "stream",
     "text": [
      "Name:  Dr. Suma K.\n",
      "Speciality:  Neurologist\n",
      "Rating:  92% \n",
      "Name:  (50 votes)\n",
      "Address:  SLG Circle, Nizampet Road, Bachupally, Landmark: SLG Circle, Hyderabad\n",
      "https://google.com/search?q=dr+abhinay+h+slg+hospital+hyderabad\n",
      "https://www.practo.com/hyderabad/doctor/dr-abhinay-makarand-general-physician&sa=U&ved=2ahUKEwiJ38zAyvr5AhUVGLkGHRpUCEUQFnoECAgQAg&usg=AOvVaw0vvKCf7yYa59Jr1X5YEnho\n",
      "['https://www.practo.com/hyderabad/doctor/dr-abhinay-makarand-general-physician', 'sa=U', 'ved=2ahUKEwiJ38zAyvr5AhUVGLkGHRpUCEUQFnoECAgQAg', 'usg=AOvVaw0vvKCf7yYa59Jr1X5YEnho']\n",
      "Link searched for:  https://www.practo.com/hyderabad/doctor/dr-abhinay-makarand-general-physician\n",
      "**************************************************\n"
     ]
    },
    {
     "name": "stderr",
     "output_type": "stream",
     "text": [
      "\r",
      " 34%|████████████▊                         | 580/1715 [35:24<1:11:56,  3.80s/it]"
     ]
    },
    {
     "name": "stdout",
     "output_type": "stream",
     "text": [
      "Name:  Dr. Abhinay M Huchche\n",
      "Speciality:  Neurologist\n",
      "Rating:  100% \n",
      "Name:  (14 votes)\n",
      "Address:  SLG Circle, Nizampet Road, Bachupally, Landmark: SLG Circle, Hyderabad\n",
      "https://google.com/search?q=dr+raghavena+b+slg+hospitals+hyderabad\n",
      "https://www.practo.com/hyderabad/doctor/dr-raghavendra-h-neurosurgeon&sa=U&ved=2ahUKEwiIxY3Cyvr5AhUYBrkGHSKMAwsQFnoECAgQAg&usg=AOvVaw2uFlXGUJuW9LMleYaGSRTC\n",
      "['https://www.practo.com/hyderabad/doctor/dr-raghavendra-h-neurosurgeon', 'sa=U', 'ved=2ahUKEwiIxY3Cyvr5AhUYBrkGHSKMAwsQFnoECAgQAg', 'usg=AOvVaw2uFlXGUJuW9LMleYaGSRTC']\n",
      "Link searched for:  https://www.practo.com/hyderabad/doctor/dr-raghavendra-h-neurosurgeon\n",
      "**************************************************\n"
     ]
    },
    {
     "name": "stderr",
     "output_type": "stream",
     "text": [
      "\r",
      " 34%|████████████▊                         | 581/1715 [35:29<1:18:17,  4.14s/it]"
     ]
    },
    {
     "name": "stdout",
     "output_type": "stream",
     "text": [
      "Name:  Dr. Raghavendra H\n",
      "Speciality:  Neurosurgeon\n",
      "Rating:  100% \n",
      "Name:  (172 votes)\n",
      "Address:  SLG Circle, Nizampet Road, Bachupally, Landmark: SLG Circle, Hyderabad\n",
      "https://google.com/search?q=dr+anitha+p+slg+hospitals+hyderabad\n",
      "https://www.practo.com/hyderabad/hospital/slg-hospitals-nizampet/doctors&sa=U&ved=2ahUKEwjzxbvEyvr5AhWSGbkGHRQSD3sQFnoECAkQAg&usg=AOvVaw02jBDzhDYq1aPUQF5pzdz6\n",
      "['https://www.practo.com/hyderabad/hospital/slg-hospitals-nizampet/doctors', 'sa=U', 'ved=2ahUKEwjzxbvEyvr5AhWSGbkGHRQSD3sQFnoECAkQAg', 'usg=AOvVaw02jBDzhDYq1aPUQF5pzdz6']\n",
      "Link searched for:  https://www.practo.com/hyderabad/hospital/slg-hospitals-nizampet/doctors\n",
      "**************************************************\n"
     ]
    },
    {
     "name": "stderr",
     "output_type": "stream",
     "text": [
      "\r",
      " 34%|████████████▉                         | 582/1715 [35:33<1:17:28,  4.10s/it]"
     ]
    },
    {
     "name": "stdout",
     "output_type": "stream",
     "text": [
      "Name:  SLG Hospitals\n",
      "Speciality is not available.\n",
      "Rating:  5.0\n",
      "Name:  (523 patient stories)\n",
      "https://google.com/search?q=dr+prashanth++kulkarni+kindle+clinic++hyderabad\n",
      "https://www.practo.com/hyderabad/doctor/dr-prashanth-kulkarni-cardiologist&sa=U&ved=2ahUKEwjhpK_Gyvr5AhXoBbkGHRtkBCEQFnoECAMQAg&usg=AOvVaw3mcuuPBHNciesUtvjuG6mT\n",
      "['https://www.practo.com/hyderabad/doctor/dr-prashanth-kulkarni-cardiologist', 'sa=U', 'ved=2ahUKEwjhpK_Gyvr5AhXoBbkGHRtkBCEQFnoECAMQAg', 'usg=AOvVaw3mcuuPBHNciesUtvjuG6mT']\n",
      "Link searched for:  https://www.practo.com/hyderabad/doctor/dr-prashanth-kulkarni-cardiologist\n",
      "**************************************************\n"
     ]
    },
    {
     "name": "stderr",
     "output_type": "stream",
     "text": [
      "\r",
      " 34%|████████████▉                         | 583/1715 [35:36<1:12:14,  3.83s/it]"
     ]
    },
    {
     "name": "stdout",
     "output_type": "stream",
     "text": [
      "Name:  Dr. Prashanth Kulkarni\n",
      "Speciality:  Interventional Cardiologist\n",
      "Rating:  4.0\n",
      "Votes are not available.\n",
      "Address:  Plot Number 48 to 51, Old Mumbai Hwy, Jayabheri Pine Valley, Landmark: Near Hyberabad Police Commissionerate, Hyderabad\n",
      "https://google.com/search?q=dr+pradeep+kumar+panigrahi+slg+hospital+hyderabad\n"
     ]
    },
    {
     "name": "stderr",
     "output_type": "stream",
     "text": [
      "\r",
      " 34%|████████████▉                         | 584/1715 [35:39<1:07:55,  3.60s/it]"
     ]
    },
    {
     "name": "stdout",
     "output_type": "stream",
     "text": [
      "Couldn't find any practo links.\n",
      "https://google.com/search?q=dr+reena+dr+slg+hospital+hyderabad\n",
      "https://www.practo.com/hyderabad/doctor/dr-reena-lankala-pediatrician&sa=U&ved=2ahUKEwj7tq7Jyvr5AhV1FLkGHU8GD08QFnoECAAQAg&usg=AOvVaw2gDGb7wOnvsBW9C_BrnB3R\n",
      "['https://www.practo.com/hyderabad/doctor/dr-reena-lankala-pediatrician', 'sa=U', 'ved=2ahUKEwj7tq7Jyvr5AhV1FLkGHU8GD08QFnoECAAQAg', 'usg=AOvVaw2gDGb7wOnvsBW9C_BrnB3R']\n",
      "Link searched for:  https://www.practo.com/hyderabad/doctor/dr-reena-lankala-pediatrician\n",
      "**************************************************\n"
     ]
    },
    {
     "name": "stderr",
     "output_type": "stream",
     "text": [
      "\r",
      " 34%|████████████▉                         | 585/1715 [35:42<1:04:34,  3.43s/it]"
     ]
    },
    {
     "name": "stdout",
     "output_type": "stream",
     "text": [
      "Name:  Dr. Reena Lankala\n",
      "Speciality:  Pediatrician\n",
      "Rating not available.\n",
      "Votes are not available.\n",
      "https://google.com/search?q=dr+sk+naveed+hussain+slg+hospitals+hyderabad\n",
      "https://www.practo.com/hyderabad/doctor/dr-shaik-naveed-hussain-general-surgeon&sa=U&ved=2ahUKEwiZ5ebKyvr5AhWJBrkGHXB7DZoQFnoECAgQAg&usg=AOvVaw3rlDLjBmzdXcAZfB4Ap-u8\n",
      "['https://www.practo.com/hyderabad/doctor/dr-shaik-naveed-hussain-general-surgeon', 'sa=U', 'ved=2ahUKEwiZ5ebKyvr5AhWJBrkGHXB7DZoQFnoECAgQAg', 'usg=AOvVaw3rlDLjBmzdXcAZfB4Ap-u8']\n",
      "Link searched for:  https://www.practo.com/hyderabad/doctor/dr-shaik-naveed-hussain-general-surgeon\n",
      "**************************************************\n"
     ]
    },
    {
     "name": "stderr",
     "output_type": "stream",
     "text": [
      "\r",
      " 34%|████████████▉                         | 586/1715 [35:47<1:09:25,  3.69s/it]"
     ]
    },
    {
     "name": "stdout",
     "output_type": "stream",
     "text": [
      "Name:  Dr. Shaik Naveed Hussain\n",
      "Speciality:  General Surgeon\n",
      "Rating:  5.0\n",
      "Votes are not available.\n",
      "Address:  SLG Circle, Nizampet Road, Bachupally, Landmark: SLG Circle, Hyderabad\n",
      "https://google.com/search?q=dr+kishore+kumar+slg+hospitals+hyderabad\n",
      "https://www.practo.com/hyderabad/doctor/kishore-kumar-savaram-ear-nose-throat-ent-specialist&sa=U&ved=2ahUKEwja4-zMyvr5AhUdBbkGHZwXC4sQFnoECAgQAg&usg=AOvVaw0uHn_rxtI1ph5Hfqtvu2uU\n",
      "['https://www.practo.com/hyderabad/doctor/kishore-kumar-savaram-ear-nose-throat-ent-specialist', 'sa=U', 'ved=2ahUKEwja4-zMyvr5AhUdBbkGHZwXC4sQFnoECAgQAg', 'usg=AOvVaw0uHn_rxtI1ph5Hfqtvu2uU']\n",
      "Link searched for:  https://www.practo.com/hyderabad/doctor/kishore-kumar-savaram-ear-nose-throat-ent-specialist\n",
      "**************************************************\n"
     ]
    },
    {
     "name": "stderr",
     "output_type": "stream",
     "text": [
      "\r",
      " 34%|█████████████                         | 587/1715 [35:51<1:11:00,  3.78s/it]"
     ]
    },
    {
     "name": "stdout",
     "output_type": "stream",
     "text": [
      "Name:  Dr. Kishore Kumar Savaram\n",
      "Speciality:  ENT/ Otorhinolaryngologist\n",
      "Rating:  5.0\n",
      "Votes are not available.\n",
      "Address:  SLG Circle, Nizampet Road, Bachupally, Landmark: SLG Circle, Hyderabad\n",
      "https://google.com/search?q=dr+sirisha+b+slg+hospitals+hyderabad\n",
      "https://www.practo.com/hyderabad/doctor/sirisha-mudapaka-gynecologist-obstetrician&sa=U&ved=2ahUKEwjVxODOyvr5AhVGOrkGHfmwDGIQFnoECAgQAg&usg=AOvVaw2PYmR7WtlrkbsP1ecmuvqB\n",
      "['https://www.practo.com/hyderabad/doctor/sirisha-mudapaka-gynecologist-obstetrician', 'sa=U', 'ved=2ahUKEwjVxODOyvr5AhVGOrkGHfmwDGIQFnoECAgQAg', 'usg=AOvVaw2PYmR7WtlrkbsP1ecmuvqB']\n",
      "Link searched for:  https://www.practo.com/hyderabad/doctor/sirisha-mudapaka-gynecologist-obstetrician\n",
      "**************************************************\n"
     ]
    },
    {
     "name": "stderr",
     "output_type": "stream",
     "text": [
      "\r",
      " 34%|█████████████                         | 588/1715 [35:55<1:14:41,  3.98s/it]"
     ]
    },
    {
     "name": "stdout",
     "output_type": "stream",
     "text": [
      "Name:  Dr. Sirisha Mullamuri\n",
      "Speciality:  Gynecologist\n",
      "Rating:  5.0\n",
      "Votes are not available.\n",
      "Address:  SLG Circle, Nizampet Road, Bachupally, Landmark: SLG Circle, Hyderabad\n",
      "https://google.com/search?q=dr+suvarna+rai+slg+hospitals+hyderabad\n",
      "https://www.practo.com/hyderabad/doctor/dr-suvarna-rai-gynecologist-obstetrician-1&sa=U&ved=2ahUKEwi5h-_Qyvr5AhXBILkGHVffCV0QFnoECAgQAg&usg=AOvVaw1ybl16FyxfUkBdebzEx69F\n",
      "['https://www.practo.com/hyderabad/doctor/dr-suvarna-rai-gynecologist-obstetrician-1', 'sa=U', 'ved=2ahUKEwi5h-_Qyvr5AhXBILkGHVffCV0QFnoECAgQAg', 'usg=AOvVaw1ybl16FyxfUkBdebzEx69F']\n",
      "Link searched for:  https://www.practo.com/hyderabad/doctor/dr-suvarna-rai-gynecologist-obstetrician-1\n",
      "**************************************************\n"
     ]
    },
    {
     "name": "stderr",
     "output_type": "stream",
     "text": [
      "\r",
      " 34%|█████████████                         | 589/1715 [35:58<1:07:17,  3.59s/it]"
     ]
    },
    {
     "name": "stdout",
     "output_type": "stream",
     "text": [
      "Name:  Dr. Suvarna Rai\n",
      "Speciality:  Gynecologist\n",
      "Rating:  100% \n",
      "Name:  (16 votes)\n",
      "Address:  SLG Circle, Nizampet Road, Bachupally, Landmark: SLG Circle, Hyderabad\n",
      "https://google.com/search?q=dr+shilpa+gatta+slg+hospital+hyderabad\n",
      "https://www.practo.com/hyderabad/doctor/dr-shilpa-gatta-obstetrics-gynecology&sa=U&ved=2ahUKEwjW4JLSyvr5AhUOHLkGHcKeBrUQFnoECAoQAg&usg=AOvVaw3K3tGSPz00MgFUvmTQg1Oo\n",
      "['https://www.practo.com/hyderabad/doctor/dr-shilpa-gatta-obstetrics-gynecology', 'sa=U', 'ved=2ahUKEwjW4JLSyvr5AhUOHLkGHcKeBrUQFnoECAoQAg', 'usg=AOvVaw3K3tGSPz00MgFUvmTQg1Oo']\n",
      "Link searched for:  https://www.practo.com/hyderabad/doctor/dr-shilpa-gatta-obstetrics-gynecology\n",
      "**************************************************\n"
     ]
    },
    {
     "name": "stderr",
     "output_type": "stream",
     "text": [
      "\r",
      " 34%|█████████████                         | 590/1715 [36:03<1:19:55,  4.26s/it]"
     ]
    },
    {
     "name": "stdout",
     "output_type": "stream",
     "text": [
      "Name:  Dr. Shilpa Gatta\n",
      "Speciality:  Gynecologist\n",
      "Rating:  5.0\n",
      "Votes are not available.\n",
      "Address:  SLG Circle, Nizampet Road, Bachupally, Landmark: SLG Circle, Hyderabad\n",
      "https://google.com/search?q=dr+j+v+subba+reddy+slg+hospitals+hyderabad\n",
      "https://www.practo.com/hyderabad/doctor/dr-j-v-subba-reddy-dermatologist&sa=U&ved=2ahUKEwj9hffUyvr5AhWhLLkGHb8PAvcQFnoECAQQAg&usg=AOvVaw1yT7U6MFDeoWrWeT9gK95o\n",
      "['https://www.practo.com/hyderabad/doctor/dr-j-v-subba-reddy-dermatologist', 'sa=U', 'ved=2ahUKEwj9hffUyvr5AhWhLLkGHb8PAvcQFnoECAQQAg', 'usg=AOvVaw1yT7U6MFDeoWrWeT9gK95o']\n",
      "Link searched for:  https://www.practo.com/hyderabad/doctor/dr-j-v-subba-reddy-dermatologist\n",
      "**************************************************\n"
     ]
    },
    {
     "name": "stderr",
     "output_type": "stream",
     "text": [
      "\r",
      " 34%|█████████████                         | 591/1715 [36:07<1:15:05,  4.01s/it]"
     ]
    },
    {
     "name": "stdout",
     "output_type": "stream",
     "text": [
      "Name:  Dr. J.V Subba Reddy\n",
      "Speciality:  Dermatologist\n",
      "Rating:  95% \n",
      "Name:  (22 votes)\n",
      "Address:  SLG Circle, Nizampet Road, Bachupally, Landmark: SLG Circle, Hyderabad\n",
      "https://google.com/search?q=dr+p+vijay+varma+slg+hospitals+hyderabad\n",
      "https://www.practo.com/hyderabad/doctor/dr-vijay-varma-nephrologist&sa=U&ved=2ahUKEwjWyMfWyvr5AhW_ILkGHbeDBUwQFnoECAEQAg&usg=AOvVaw0JWMRxsM4SZVz9ZuPrdRQ5\n",
      "['https://www.practo.com/hyderabad/doctor/dr-vijay-varma-nephrologist', 'sa=U', 'ved=2ahUKEwjWyMfWyvr5AhW_ILkGHbeDBUwQFnoECAEQAg', 'usg=AOvVaw0JWMRxsM4SZVz9ZuPrdRQ5']\n",
      "Link searched for:  https://www.practo.com/hyderabad/doctor/dr-vijay-varma-nephrologist\n",
      "**************************************************\n"
     ]
    },
    {
     "name": "stderr",
     "output_type": "stream",
     "text": [
      "\r",
      " 35%|█████████████                         | 592/1715 [36:11<1:14:05,  3.96s/it]"
     ]
    },
    {
     "name": "stdout",
     "output_type": "stream",
     "text": [
      "Name:  Dr. Vijay Varma\n",
      "Speciality:  Nephrologist/Renal Specialist\n",
      "Rating:  99% \n",
      "Name:  (230 votes)\n",
      "Address:  Road Number 4, Landmark: Opposite Sunshine Endoviz Hospital, Hyderabad\n",
      "https://google.com/search?q=dr+kalyan+chakravarthy++gurazada+idea+clinics++hyderabad\n",
      "https://www.practo.com/hyderabad/doctor/dr-kalyan-chakravarthy-1-endocrinologist&sa=U&ved=2ahUKEwj_5bHYyvr5AhVJLLkGHcQaDFoQFnoECAkQAg&usg=AOvVaw1M8gzP2JCy2DH6N8AQmNOK\n",
      "['https://www.practo.com/hyderabad/doctor/dr-kalyan-chakravarthy-1-endocrinologist', 'sa=U', 'ved=2ahUKEwj_5bHYyvr5AhVJLLkGHcQaDFoQFnoECAkQAg', 'usg=AOvVaw1M8gzP2JCy2DH6N8AQmNOK']\n",
      "Link searched for:  https://www.practo.com/hyderabad/doctor/dr-kalyan-chakravarthy-1-endocrinologist\n",
      "**************************************************\n"
     ]
    },
    {
     "name": "stderr",
     "output_type": "stream",
     "text": [
      "\r",
      " 35%|█████████████▏                        | 593/1715 [36:15<1:14:57,  4.01s/it]"
     ]
    },
    {
     "name": "stdout",
     "output_type": "stream",
     "text": [
      "Name:  Dr. G. Kalyan Chakravarthy\n",
      "Speciality:  Endocrinologist\n",
      "Rating:  99% \n",
      "Name:  (498 votes)\n",
      "Address:  Triveni Towers, Road Number 1, KPHB Colony, Landmark: Opposite Prime Hospitals, Hyderabad\n",
      "https://google.com/search?q=dr+bhargaw+ilapakurty+slg+hospitals+hyderabad\n",
      "https://www.practo.com/hyderabad/doctor/dr-bhargaw-ear-nose-throat-ent-specialist&sa=U&ved=2ahUKEwigrq3ayvr5AhX0AtQKHdTCAUUQFnoECAYQAg&usg=AOvVaw0S0hOkB2lnGGDox5T_CP8D\n",
      "['https://www.practo.com/hyderabad/doctor/dr-bhargaw-ear-nose-throat-ent-specialist', 'sa=U', 'ved=2ahUKEwigrq3ayvr5AhX0AtQKHdTCAUUQFnoECAYQAg', 'usg=AOvVaw0S0hOkB2lnGGDox5T_CP8D']\n",
      "Link searched for:  https://www.practo.com/hyderabad/doctor/dr-bhargaw-ear-nose-throat-ent-specialist\n",
      "**************************************************\n"
     ]
    },
    {
     "name": "stderr",
     "output_type": "stream",
     "text": [
      "\r",
      " 35%|█████████████▏                        | 594/1715 [36:19<1:15:01,  4.02s/it]"
     ]
    },
    {
     "name": "stdout",
     "output_type": "stream",
     "text": [
      "Name:  Dr. Bhargaw\n",
      "Speciality:  ENT/ Otorhinolaryngologist\n",
      "Rating:  5.0\n",
      "Votes are not available.\n",
      "Address:  SLG Circle, Nizampet Road, Bachupally, Landmark: SLG Circle, Hyderabad\n",
      "https://google.com/search?q=dr+ch+swarna+kumari+slg+hospital+hyderabad\n",
      "https://www.practo.com/hyderabad/doctor/ch-swarna-kumari-oncologist&sa=U&ved=2ahUKEwiF3KPcyvr5AhWOD7kGHZ0LCtkQFnoECAgQAg&usg=AOvVaw3gNuQUUdJQm_ruLqQCBFmD\n",
      "['https://www.practo.com/hyderabad/doctor/ch-swarna-kumari-oncologist', 'sa=U', 'ved=2ahUKEwiF3KPcyvr5AhWOD7kGHZ0LCtkQFnoECAgQAg', 'usg=AOvVaw3gNuQUUdJQm_ruLqQCBFmD']\n",
      "Link searched for:  https://www.practo.com/hyderabad/doctor/ch-swarna-kumari-oncologist\n",
      "**************************************************\n"
     ]
    },
    {
     "name": "stderr",
     "output_type": "stream",
     "text": [
      "\r",
      " 35%|█████████████▏                        | 595/1715 [36:23<1:18:16,  4.19s/it]"
     ]
    },
    {
     "name": "stdout",
     "output_type": "stream",
     "text": [
      "Name:  Dr. C H Swarna Kumari\n",
      "Speciality:  Radiation Oncologist\n",
      "Rating not available.\n",
      "Votes are not available.\n",
      "Address:  Number-3646, Jeedimetla, Hyderabad\n",
      "https://google.com/search?q=dr+arvind+kumar+m+slg+hospital+hyderabad\n",
      "https://www.practo.com/hyderabad/doctor/dr-arvind-kumar-7-pediatrician&sa=U&ved=2ahUKEwiD-9Heyvr5AhUPK7kGHYt3CkMQFnoECAUQAg&usg=AOvVaw19cqUvK31VqwBxN6T-fr6T\n",
      "['https://www.practo.com/hyderabad/doctor/dr-arvind-kumar-7-pediatrician', 'sa=U', 'ved=2ahUKEwiD-9Heyvr5AhUPK7kGHYt3CkMQFnoECAUQAg', 'usg=AOvVaw19cqUvK31VqwBxN6T-fr6T']\n",
      "Link searched for:  https://www.practo.com/hyderabad/doctor/dr-arvind-kumar-7-pediatrician\n",
      "**************************************************\n"
     ]
    },
    {
     "name": "stderr",
     "output_type": "stream",
     "text": [
      "\r",
      " 35%|█████████████▏                        | 596/1715 [36:28<1:20:37,  4.32s/it]"
     ]
    },
    {
     "name": "stdout",
     "output_type": "stream",
     "text": [
      "Name:  Dr. Arvind Kumar\n",
      "Speciality:  Pediatrician\n",
      "Rating:  5.0\n",
      "Votes are not available.\n",
      "Address:  SLG Circle, Nizampet Road, Bachupally, Landmark: SLG Circle, Hyderabad\n",
      "https://google.com/search?q=dr+jyothshna+a+slg+hospitals+hyderabad\n",
      "https://www.practo.com/hyderabad/doctor/dr-jyotsna-3-pediatrician&sa=U&ved=2ahUKEwjI-Nfgyvr5AhVOIrkGHXF-BkoQFnoECAIQAg&usg=AOvVaw0cuNCDZqPqLtS5DbO7zukH\n",
      "['https://www.practo.com/hyderabad/doctor/dr-jyotsna-3-pediatrician', 'sa=U', 'ved=2ahUKEwjI-Nfgyvr5AhVOIrkGHXF-BkoQFnoECAIQAg', 'usg=AOvVaw0cuNCDZqPqLtS5DbO7zukH']\n",
      "Link searched for:  https://www.practo.com/hyderabad/doctor/dr-jyotsna-3-pediatrician\n",
      "**************************************************\n"
     ]
    },
    {
     "name": "stderr",
     "output_type": "stream",
     "text": [
      "\r",
      " 35%|█████████████▏                        | 597/1715 [36:32<1:19:48,  4.28s/it]"
     ]
    },
    {
     "name": "stdout",
     "output_type": "stream",
     "text": [
      "Name:  Dr. Jyotsna\n",
      "Speciality:  Pediatrician\n",
      "Rating:  5.0\n",
      "Votes are not available.\n",
      "Address:  SLG Circle, Nizampet Road, Bachupally, Landmark: SLG Circle, Hyderabad\n",
      "https://google.com/search?q=dr+aarathi+bellary++slg+hospitals+hyderabad\n",
      "https://www.practo.com/hyderabad/doctor/dr-aarathi-bellary-internal-medicine&sa=U&ved=2ahUKEwihhdjiyvr5AhXQHrkGHehCD0UQFnoECAMQAg&usg=AOvVaw0hOitB-GClSX8xfgERmryp\n",
      "['https://www.practo.com/hyderabad/doctor/dr-aarathi-bellary-internal-medicine', 'sa=U', 'ved=2ahUKEwihhdjiyvr5AhXQHrkGHehCD0UQFnoECAMQAg', 'usg=AOvVaw0hOitB-GClSX8xfgERmryp']\n",
      "Link searched for:  https://www.practo.com/hyderabad/doctor/dr-aarathi-bellary-internal-medicine\n",
      "**************************************************\n"
     ]
    },
    {
     "name": "stderr",
     "output_type": "stream",
     "text": [
      "\r",
      " 35%|█████████████▎                        | 598/1715 [36:37<1:22:11,  4.41s/it]"
     ]
    },
    {
     "name": "stdout",
     "output_type": "stream",
     "text": [
      "Name:  Dr. Aarathi Bellary\n",
      "Speciality:  Internal Medicine\n",
      "Rating:  3.5\n",
      "Votes are not available.\n",
      "Address:  Jet Colony, Sanath Nagar, Landmark: Opposite Erragadda Rithu Bazar, Hyderabad\n",
      "https://google.com/search?q=dr+p+sree+nandita+slg+hospitals+hyderabad\n",
      "https://www.practo.com/hyderabad/doctor/dr-sree-nandita-internal-medicine&sa=U&ved=2ahUKEwip2Pfkyvr5AhUYIrkGHaVkA4wQFnoECAkQAg&usg=AOvVaw3_9WMMIR8w5CxQ4f3dkTqQ\n",
      "['https://www.practo.com/hyderabad/doctor/dr-sree-nandita-internal-medicine', 'sa=U', 'ved=2ahUKEwip2Pfkyvr5AhUYIrkGHaVkA4wQFnoECAkQAg', 'usg=AOvVaw3_9WMMIR8w5CxQ4f3dkTqQ']\n",
      "Link searched for:  https://www.practo.com/hyderabad/doctor/dr-sree-nandita-internal-medicine\n",
      "**************************************************\n"
     ]
    },
    {
     "name": "stderr",
     "output_type": "stream",
     "text": [
      "\r",
      " 35%|█████████████▎                        | 599/1715 [36:42<1:22:56,  4.46s/it]"
     ]
    },
    {
     "name": "stdout",
     "output_type": "stream",
     "text": [
      "Name:  Dr. Sree Nandita\n",
      "Speciality:  Internal Medicine\n",
      "Rating:  5.0\n",
      "Votes are not available.\n",
      "Address:  SLG Circle, Nizampet Road, Bachupally, Landmark: SLG Circle, Hyderabad\n",
      "https://google.com/search?q=dr+shyam+sunder++k+idea+clinic++hyderabad\n",
      "https://www.practo.com/hyderabad/doctor/dr-shyam-sunder-pediatrician-2&sa=U&ved=2ahUKEwjUnI7nyvr5AhUSBrkGHRKQBjAQFnoECAAQAg&usg=AOvVaw2wVBYjYLHEm1qHZ34cDZKs\n",
      "['https://www.practo.com/hyderabad/doctor/dr-shyam-sunder-pediatrician-2', 'sa=U', 'ved=2ahUKEwjUnI7nyvr5AhUSBrkGHRKQBjAQFnoECAAQAg', 'usg=AOvVaw2wVBYjYLHEm1qHZ34cDZKs']\n",
      "Link searched for:  https://www.practo.com/hyderabad/doctor/dr-shyam-sunder-pediatrician-2\n",
      "**************************************************\n"
     ]
    },
    {
     "name": "stderr",
     "output_type": "stream",
     "text": [
      "\r",
      " 35%|█████████████▎                        | 600/1715 [36:45<1:14:47,  4.02s/it]"
     ]
    },
    {
     "name": "stdout",
     "output_type": "stream",
     "text": [
      "Name:  Dr. Shyam Sunder\n",
      "Speciality is not available.\n",
      "Rating not available.\n",
      "Votes are not available.\n",
      "Address:  MIG-185,Road no.2, KPHB, Landmark: Dhanlakshmi centre., Hyderabad\n",
      "https://google.com/search?q=dr+ravina+b+slg+hospitals+hyderabad\n"
     ]
    },
    {
     "name": "stderr",
     "output_type": "stream",
     "text": [
      "\r",
      " 35%|█████████████▎                        | 601/1715 [36:46<1:02:45,  3.38s/it]"
     ]
    },
    {
     "name": "stdout",
     "output_type": "stream",
     "text": [
      "Couldn't find any practo links.\n",
      "https://google.com/search?q=dr+m++vamsi+krishna+slg+hospitals+hyderabad\n",
      "https://www.practo.com/hyderabad/doctor/dr-vamsi-krishna-7-general-physician&sa=U&ved=2ahUKEwj3k7jpyvr5AhVLGLkGHXQHDwYQFnoECAUQAg&usg=AOvVaw0c09LBGrFIcM4f7ofYPyg9\n",
      "['https://www.practo.com/hyderabad/doctor/dr-vamsi-krishna-7-general-physician', 'sa=U', 'ved=2ahUKEwj3k7jpyvr5AhVLGLkGHXQHDwYQFnoECAUQAg', 'usg=AOvVaw0c09LBGrFIcM4f7ofYPyg9']\n",
      "Link searched for:  https://www.practo.com/hyderabad/doctor/dr-vamsi-krishna-7-general-physician\n",
      "**************************************************\n"
     ]
    },
    {
     "name": "stderr",
     "output_type": "stream",
     "text": [
      "\r",
      " 35%|█████████████▎                        | 602/1715 [36:51<1:09:46,  3.76s/it]"
     ]
    },
    {
     "name": "stdout",
     "output_type": "stream",
     "text": [
      "Name:  Dr. Vamsi Krishna\n",
      "Speciality:  General Physician\n",
      "Rating:  5.0\n",
      "Votes are not available.\n",
      "Address:  SLG Circle, Nizampet Road, Bachupally, Landmark: SLG Circle, Hyderabad\n",
      "https://google.com/search?q=dr+t+appi+reddy+slg+hospitals+hyderabad\n",
      "https://www.practo.com/hyderabad/doctor/dr-t-appi-reddy-emergency-critical-care&sa=U&ved=2ahUKEwjnrNXryvr5AhVVO7kGHTNnCSMQFnoECAUQAg&usg=AOvVaw3eyFXMWacdWdtZkUFXlJO4\n",
      "['https://www.practo.com/hyderabad/doctor/dr-t-appi-reddy-emergency-critical-care', 'sa=U', 'ved=2ahUKEwjnrNXryvr5AhVVO7kGHTNnCSMQFnoECAUQAg', 'usg=AOvVaw3eyFXMWacdWdtZkUFXlJO4']\n",
      "Link searched for:  https://www.practo.com/hyderabad/doctor/dr-t-appi-reddy-emergency-critical-care\n",
      "**************************************************\n"
     ]
    },
    {
     "name": "stderr",
     "output_type": "stream",
     "text": [
      "\r",
      " 35%|█████████████▎                        | 603/1715 [36:56<1:15:36,  4.08s/it]"
     ]
    },
    {
     "name": "stdout",
     "output_type": "stream",
     "text": [
      "Name:  Dr. T Appi Reddy\n",
      "Speciality:  Emergency Medicine\n",
      "Rating:  5.0\n",
      "Votes are not available.\n",
      "Address:  SLG Circle, Nizampet Road, Bachupally, Landmark: SLG Circle, Hyderabad\n",
      "https://google.com/search?q=dr+niharika+chadalapaka+slg+hospitals+hyderabad\n"
     ]
    },
    {
     "name": "stderr",
     "output_type": "stream",
     "text": [
      "\r",
      " 35%|█████████████▍                        | 604/1715 [36:58<1:02:11,  3.36s/it]"
     ]
    },
    {
     "name": "stdout",
     "output_type": "stream",
     "text": [
      "Couldn't find any practo links.\n",
      "https://google.com/search?q=dr+anand+paul+gautam+slg+hospitals+hyderabad\n"
     ]
    },
    {
     "name": "stderr",
     "output_type": "stream",
     "text": [
      "\r",
      " 35%|██████████████                          | 605/1715 [37:00<54:04,  2.92s/it]"
     ]
    },
    {
     "name": "stdout",
     "output_type": "stream",
     "text": [
      "Couldn't find any practo links.\n",
      "https://google.com/search?q=dr+sudheesh+chalasani+slg+hospital+hyderabad\n"
     ]
    },
    {
     "name": "stderr",
     "output_type": "stream",
     "text": [
      "\r",
      " 35%|██████████████▏                         | 606/1715 [37:02<50:19,  2.72s/it]"
     ]
    },
    {
     "name": "stdout",
     "output_type": "stream",
     "text": [
      "Couldn't find any practo links.\n",
      "https://google.com/search?q=dr+durga+bhavani+kalavalapalli++idea+clinic+hyderabad\n",
      "https://www.practo.com/hyderabad/doctor/dr-bhavani-kalavalapalli-pediatrician&sa=U&ved=2ahUKEwi6pN7wyvr5AhUMH7kGHdNzAbAQFnoECAkQAg&usg=AOvVaw2aOIXTLVBYXX6bJaOJNIyo\n",
      "['https://www.practo.com/hyderabad/doctor/dr-bhavani-kalavalapalli-pediatrician', 'sa=U', 'ved=2ahUKEwi6pN7wyvr5AhUMH7kGHdNzAbAQFnoECAkQAg', 'usg=AOvVaw2aOIXTLVBYXX6bJaOJNIyo']\n",
      "Link searched for:  https://www.practo.com/hyderabad/doctor/dr-bhavani-kalavalapalli-pediatrician\n",
      "**************************************************\n"
     ]
    },
    {
     "name": "stderr",
     "output_type": "stream",
     "text": [
      "\r",
      " 35%|█████████████▍                        | 607/1715 [37:07<1:02:26,  3.38s/it]"
     ]
    },
    {
     "name": "stdout",
     "output_type": "stream",
     "text": [
      "Name:  Dr. Bhavani Kalavalapalli\n",
      "Speciality:  Pediatrician\n",
      "Rating:  4.5\n",
      "Votes are not available.\n",
      "Address:  450/475, KK Plaza, Ayyapa Society, 100 Feet Road, Landmark: Near Meridian School, Hyderabad\n",
      "https://google.com/search?q=dr+srinivas+varkala+slg+hospital+hyderabad\n",
      "https://www.practo.com/hyderabad/doctor/dr-srinivas-varkala-radiologist-radiologist&sa=U&ved=2ahUKEwjS5Irzyvr5AhVFALkGHZSJCvEQFnoECAkQAg&usg=AOvVaw3-8Qv3qGfVJD_dNOWvQtSD\n",
      "['https://www.practo.com/hyderabad/doctor/dr-srinivas-varkala-radiologist-radiologist', 'sa=U', 'ved=2ahUKEwjS5Irzyvr5AhVFALkGHZSJCvEQFnoECAkQAg', 'usg=AOvVaw3-8Qv3qGfVJD_dNOWvQtSD']\n",
      "Link searched for:  https://www.practo.com/hyderabad/doctor/dr-srinivas-varkala-radiologist-radiologist\n",
      "**************************************************\n"
     ]
    },
    {
     "name": "stderr",
     "output_type": "stream",
     "text": [
      "\r",
      " 35%|█████████████▍                        | 608/1715 [37:12<1:13:09,  3.97s/it]"
     ]
    },
    {
     "name": "stdout",
     "output_type": "stream",
     "text": [
      "Name:  Dr. Srinivas Varkala\n",
      "Speciality:  Radiologist\n",
      "Rating:  5.0\n",
      "Votes are not available.\n",
      "Address:  SLG Circle, Nizampet Road, Bachupally, Landmark: SLG Circle, Hyderabad\n",
      "https://google.com/search?q=dr+uma++chaktavadhanulu+idea+cinic++hyderabad\n",
      "https://www.practo.com/hyderabad/doctor/dr-uma-chakravadhanula-dermatologist&sa=U&ved=2ahUKEwjpntD1yvr5AhVfBbkGHfBWDwEQFnoECAcQAg&usg=AOvVaw272GsEl-S9kuiXvE6-wFE_\n",
      "['https://www.practo.com/hyderabad/doctor/dr-uma-chakravadhanula-dermatologist', 'sa=U', 'ved=2ahUKEwjpntD1yvr5AhVfBbkGHfBWDwEQFnoECAcQAg', 'usg=AOvVaw272GsEl-S9kuiXvE6-wFE_']\n",
      "Link searched for:  https://www.practo.com/hyderabad/doctor/dr-uma-chakravadhanula-dermatologist\n",
      "**************************************************\n"
     ]
    },
    {
     "name": "stderr",
     "output_type": "stream",
     "text": [
      "\r",
      " 36%|█████████████▍                        | 609/1715 [37:15<1:09:21,  3.76s/it]"
     ]
    },
    {
     "name": "stdout",
     "output_type": "stream",
     "text": [
      "Name:  Dr. Uma Chakravadhanula\n",
      "Speciality:  Dermatologist\n",
      "Rating:  98% \n",
      "Name:  (82 votes)\n",
      "Address:  450/475, KK Plaza, Ayyapa Society, 100 Feet Road, Landmark: Near Meridian School, Hyderabad\n",
      "https://google.com/search?q=dr+perlin++v+s++idea+clinics++hyderabad\n",
      "https://www.practo.com/hyderabad/hospital/idea-clinics-madhapur-2/doctors&sa=U&ved=2ahUKEwjhkpn3yvr5AhVYErkGHQ0gAEMQFnoECAYQAg&usg=AOvVaw2YLmd1zn7F2-cuxJOIR6lU\n",
      "['https://www.practo.com/hyderabad/hospital/idea-clinics-madhapur-2/doctors', 'sa=U', 'ved=2ahUKEwjhkpn3yvr5AhVYErkGHQ0gAEMQFnoECAYQAg', 'usg=AOvVaw2YLmd1zn7F2-cuxJOIR6lU']\n",
      "Link searched for:  https://www.practo.com/hyderabad/hospital/idea-clinics-madhapur-2/doctors\n",
      "**************************************************\n"
     ]
    },
    {
     "name": "stderr",
     "output_type": "stream",
     "text": [
      "\r",
      " 36%|█████████████▌                        | 610/1715 [37:19<1:07:18,  3.66s/it]"
     ]
    },
    {
     "name": "stdout",
     "output_type": "stream",
     "text": [
      "Name:  Idea Clinics\n",
      "Speciality is not available.\n",
      "Rating:  4.5\n",
      "Name:  (253 patient stories)\n",
      "https://google.com/search?q=dr+jyothsna+dr++idea+clinic+hyderabad\n",
      "https://www.practo.com/hyderabad/doctor/jyothsna-6-ear-nose-throat-ent-specialist-1&sa=U&ved=2ahUKEwiH7ej4yvr5AhVwBbkGHaQzBNcQFnoECAgQAg&usg=AOvVaw1KUWU5pYXx2if3Z-jpVSo0\n",
      "['https://www.practo.com/hyderabad/doctor/jyothsna-6-ear-nose-throat-ent-specialist-1', 'sa=U', 'ved=2ahUKEwiH7ej4yvr5AhVwBbkGHaQzBNcQFnoECAgQAg', 'usg=AOvVaw1KUWU5pYXx2if3Z-jpVSo0']\n",
      "Link searched for:  https://www.practo.com/hyderabad/doctor/jyothsna-6-ear-nose-throat-ent-specialist-1\n",
      "**************************************************\n"
     ]
    },
    {
     "name": "stderr",
     "output_type": "stream",
     "text": [
      "\r",
      " 36%|█████████████▌                        | 611/1715 [37:23<1:09:22,  3.77s/it]"
     ]
    },
    {
     "name": "stdout",
     "output_type": "stream",
     "text": [
      "Name:  Dr. Jyotsana\n",
      "Speciality:  ENT/ Otorhinolaryngologist\n",
      "Rating:  4.5\n",
      "Votes are not available.\n",
      "Address:  450/475, KK Plaza, Ayyapa Society, 100 Feet Road, Landmark: Near Meridian School, Hyderabad\n",
      "https://google.com/search?q=dr+siddharth+dr++idea+clinics+hyderabad\n",
      "https://www.practo.com/hyderabad/hospital/idea-clinics-madhapur-2&sa=U&ved=2ahUKEwid0d76yvr5AhVHO7kGHcxqA4IQFnoECAEQAg&usg=AOvVaw31dPp2fbcaj5bilZiPanJM\n",
      "['https://www.practo.com/hyderabad/hospital/idea-clinics-madhapur-2', 'sa=U', 'ved=2ahUKEwid0d76yvr5AhVHO7kGHcxqA4IQFnoECAEQAg', 'usg=AOvVaw31dPp2fbcaj5bilZiPanJM']\n",
      "Link searched for:  https://www.practo.com/hyderabad/hospital/idea-clinics-madhapur-2\n",
      "**************************************************\n"
     ]
    },
    {
     "name": "stderr",
     "output_type": "stream",
     "text": [
      "\r",
      " 36%|█████████████▌                        | 612/1715 [37:26<1:04:25,  3.50s/it]"
     ]
    },
    {
     "name": "stdout",
     "output_type": "stream",
     "text": [
      "Name:  Idea Clinics\n",
      "Speciality is not available.\n",
      "Rating:  4.5\n",
      "Name:  (253 patient stories)\n",
      "https://google.com/search?q=dr+siddaratha+chakravarthy+idea+clinics+hyderabad\n",
      "https://www.practo.com/hyderabad/doctor/dr-siddhartha-chakravarthy-endocrine-surgeon&sa=U&ved=2ahUKEwis0478yvr5AhVzLLkGHZu0AaIQFnoECAkQAg&usg=AOvVaw3DOnwSwzI8sb66Gs7TPX6j\n",
      "['https://www.practo.com/hyderabad/doctor/dr-siddhartha-chakravarthy-endocrine-surgeon', 'sa=U', 'ved=2ahUKEwis0478yvr5AhVzLLkGHZu0AaIQFnoECAkQAg', 'usg=AOvVaw3DOnwSwzI8sb66Gs7TPX6j']\n",
      "Link searched for:  https://www.practo.com/hyderabad/doctor/dr-siddhartha-chakravarthy-endocrine-surgeon\n",
      "**************************************************\n"
     ]
    },
    {
     "name": "stderr",
     "output_type": "stream",
     "text": [
      "\r",
      " 36%|█████████████▌                        | 613/1715 [37:29<1:05:05,  3.54s/it]"
     ]
    },
    {
     "name": "stdout",
     "output_type": "stream",
     "text": [
      "Name:  Dr. Siddhartha Chakravarthy\n",
      "Speciality:  Endocrine Surgeon\n",
      "Rating:  5.0\n",
      "Votes are not available.\n",
      "Address:  Triveni Towers, Road Number 1, KPHB Colony, Landmark: Opposite Prime Hospitals, Hyderabad\n",
      "https://google.com/search?q=dr+arun++g+idea+clinics+hyderabad\n",
      "https://www.practo.com/hyderabad/doctor/dr-g-arun-endocrinologist&sa=U&ved=2ahUKEwjWtvH9yvr5AhWHEbkGHVdhAYUQFnoECAkQAg&usg=AOvVaw19cQ1EEFKfNsQ7oqaOYzfc\n",
      "['https://www.practo.com/hyderabad/doctor/dr-g-arun-endocrinologist', 'sa=U', 'ved=2ahUKEwjWtvH9yvr5AhWHEbkGHVdhAYUQFnoECAkQAg', 'usg=AOvVaw19cQ1EEFKfNsQ7oqaOYzfc']\n",
      "Link searched for:  https://www.practo.com/hyderabad/doctor/dr-g-arun-endocrinologist\n",
      "**************************************************\n"
     ]
    },
    {
     "name": "stderr",
     "output_type": "stream",
     "text": [
      "\r",
      " 36%|█████████████▌                        | 614/1715 [37:33<1:05:58,  3.60s/it]"
     ]
    },
    {
     "name": "stdout",
     "output_type": "stream",
     "text": [
      "Name:  Dr. G Arun\n",
      "Speciality:  Endocrinologist\n",
      "Rating:  97% \n",
      "Name:  (33 votes)\n",
      "Address:  450/475, KK Plaza, Ayyapa Society, 100 Feet Road, Landmark: Near Meridian School, Hyderabad\n",
      "https://google.com/search?q=dr+vrinda++agarwal+idea+clinic+hyderabad\n",
      "https://www.practo.com/hyderabad/doctor/vrinda-agrawal-endocrinologist&sa=U&ved=2ahUKEwiO_c__yvr5AhWYF7kGHWsGCqcQFnoECAAQAg&usg=AOvVaw1ezuf1DuL0n6E9p9SGyqtB\n",
      "['https://www.practo.com/hyderabad/doctor/vrinda-agrawal-endocrinologist', 'sa=U', 'ved=2ahUKEwiO_c__yvr5AhWYF7kGHWsGCqcQFnoECAAQAg', 'usg=AOvVaw1ezuf1DuL0n6E9p9SGyqtB']\n",
      "Link searched for:  https://www.practo.com/hyderabad/doctor/vrinda-agrawal-endocrinologist\n",
      "**************************************************\n"
     ]
    },
    {
     "name": "stderr",
     "output_type": "stream",
     "text": [
      "\r",
      " 36%|█████████████▋                        | 615/1715 [37:37<1:08:26,  3.73s/it]"
     ]
    },
    {
     "name": "stdout",
     "output_type": "stream",
     "text": [
      "Name:  Dr. Vrinda Agrawal\n",
      "Speciality:  Endocrinologist\n",
      "Rating not available.\n",
      "Votes are not available.\n",
      "https://google.com/search?q=dr+anil++reddy++idea+clinics++hyderabad\n",
      "https://www.practo.com/hyderabad/doctor/anil-kotamreddy-diabetologist&sa=U&ved=2ahUKEwi_zN-By_r5AhX8BrkGHeo1DZoQFnoECAIQAg&usg=AOvVaw2LIlB9H90zfs4u2fczyNfL\n",
      "['https://www.practo.com/hyderabad/doctor/anil-kotamreddy-diabetologist', 'sa=U', 'ved=2ahUKEwi_zN-By_r5AhX8BrkGHeo1DZoQFnoECAIQAg', 'usg=AOvVaw2LIlB9H90zfs4u2fczyNfL']\n",
      "Link searched for:  https://www.practo.com/hyderabad/doctor/anil-kotamreddy-diabetologist\n",
      "**************************************************\n"
     ]
    },
    {
     "name": "stderr",
     "output_type": "stream",
     "text": [
      "\r",
      " 36%|█████████████▋                        | 616/1715 [37:41<1:11:43,  3.92s/it]"
     ]
    },
    {
     "name": "stdout",
     "output_type": "stream",
     "text": [
      "Name:  Dr. Anil Kotamreddy\n",
      "Speciality:  General Physician\n",
      "Rating:  5.0\n",
      "Votes are not available.\n",
      "Address:  61B, Sri Ram Nagar Colony, Botanical Garden Road, Landmark: Beside Lane of Burfighar Sweet Shop &  State Bank of India Lane, Hyderabad\n",
      "https://google.com/search?q=dr+sudha++madhuri+idea+clinics++hyderabad\n",
      "https://www.practo.com/hyderabad/doctor/dr-sudha-madhuri-gynecologist-obstetrician-1-gynecologist-obstetrician&sa=U&ved=2ahUKEwjAws-Dy_r5AhVsIrkGHakpAV8QFnoECAkQAg&usg=AOvVaw1msWL-bokUlQaTon-K42Rn\n",
      "['https://www.practo.com/hyderabad/doctor/dr-sudha-madhuri-gynecologist-obstetrician-1-gynecologist-obstetrician', 'sa=U', 'ved=2ahUKEwjAws-Dy_r5AhVsIrkGHakpAV8QFnoECAkQAg', 'usg=AOvVaw1msWL-bokUlQaTon-K42Rn']\n",
      "Link searched for:  https://www.practo.com/hyderabad/doctor/dr-sudha-madhuri-gynecologist-obstetrician-1-gynecologist-obstetrician\n",
      "**************************************************\n"
     ]
    },
    {
     "name": "stderr",
     "output_type": "stream",
     "text": [
      "\r",
      " 36%|█████████████▋                        | 617/1715 [37:48<1:23:51,  4.58s/it]"
     ]
    },
    {
     "name": "stdout",
     "output_type": "stream",
     "text": [
      "Name:  Dr. Kamini Sudha Madhuri\n",
      "Speciality:  Gynecologist\n",
      "Rating:  100% \n",
      "Name:  (119 votes)\n",
      "Address:  Plot Number 1 & 6, Kothaguda X Roads, RR District, Landmark: Near Harsh Toyota Showroom, Hyderabad\n",
      "https://google.com/search?q=dr+srinivas++rao+idea+clinic+hyderabad\n",
      "https://www.practo.com/hyderabad/doctor/dr-p-srinivasa-rao-endocrinologist&sa=U&ved=2ahUKEwjnp8uGy_r5AhVlL7kGHcNECUYQFnoECAgQAg&usg=AOvVaw1Vqo1TCgj51LIk7-Ut8ye3\n",
      "['https://www.practo.com/hyderabad/doctor/dr-p-srinivasa-rao-endocrinologist', 'sa=U', 'ved=2ahUKEwjnp8uGy_r5AhVlL7kGHcNECUYQFnoECAgQAg', 'usg=AOvVaw1Vqo1TCgj51LIk7-Ut8ye3']\n",
      "Link searched for:  https://www.practo.com/hyderabad/doctor/dr-p-srinivasa-rao-endocrinologist\n",
      "**************************************************\n"
     ]
    },
    {
     "name": "stderr",
     "output_type": "stream",
     "text": [
      "\r",
      " 36%|█████████████▋                        | 618/1715 [37:53<1:27:57,  4.81s/it]"
     ]
    },
    {
     "name": "stdout",
     "output_type": "stream",
     "text": [
      "Name:  Dr. P Srinivasa Rao\n",
      "Speciality:  Endocrinologist\n",
      "Rating not available.\n",
      "Votes are not available.\n",
      "Address:  7-1-27/2 & 7-1-27/C/1 , Leelanagar, Landmark: Near Lal Banglow, Hyderabad\n",
      "https://google.com/search?q=dr+sudhakar+rao+idea+clinics++hyderabad\n",
      "https://www.practo.com/hyderabad/doctor/dr-sudhakar-8-endocrinologist&sa=U&ved=2ahUKEwiwtY2Jy_r5AhWZF7kGHSP4D_EQFnoECAQQAg&usg=AOvVaw0EmAdU9mbEROUMY8f7ovwL\n",
      "['https://www.practo.com/hyderabad/doctor/dr-sudhakar-8-endocrinologist', 'sa=U', 'ved=2ahUKEwiwtY2Jy_r5AhWZF7kGHSP4D_EQFnoECAQQAg', 'usg=AOvVaw0EmAdU9mbEROUMY8f7ovwL']\n",
      "Link searched for:  https://www.practo.com/hyderabad/doctor/dr-sudhakar-8-endocrinologist\n",
      "**************************************************\n"
     ]
    },
    {
     "name": "stderr",
     "output_type": "stream",
     "text": [
      "\r",
      " 36%|█████████████▋                        | 619/1715 [37:57<1:22:54,  4.54s/it]"
     ]
    },
    {
     "name": "stdout",
     "output_type": "stream",
     "text": [
      "Name:  Dr. N Sudhakar Rao\n",
      "Speciality:  Endocrinologist\n",
      "Rating:  85% \n",
      "Name:  (13 votes)\n",
      "Address:  391/1, Street Number 7, Landmark: Lane Opposite Minerva Coffee Shop, Hyderabad\n",
      "https://google.com/search?q=dr+kavitha++reddy++idea+clinics++hyderabad\n",
      "https://www.practo.com/hyderabad/therapist/kavitha-reddy-dietitian-nutritionist&sa=U&ved=2ahUKEwjs0PuKy_r5AhXCBLkGHRFKBSwQFnoECAUQAg&usg=AOvVaw0eMUtZn6OaodPeysAu-4Zp\n",
      "['https://www.practo.com/hyderabad/therapist/kavitha-reddy-dietitian-nutritionist', 'sa=U', 'ved=2ahUKEwjs0PuKy_r5AhXCBLkGHRFKBSwQFnoECAUQAg', 'usg=AOvVaw0eMUtZn6OaodPeysAu-4Zp']\n",
      "Link searched for:  https://www.practo.com/hyderabad/therapist/kavitha-reddy-dietitian-nutritionist\n",
      "**************************************************\n"
     ]
    },
    {
     "name": "stderr",
     "output_type": "stream",
     "text": [
      "\r",
      " 36%|█████████████▋                        | 620/1715 [38:00<1:13:13,  4.01s/it]"
     ]
    },
    {
     "name": "stdout",
     "output_type": "stream",
     "text": [
      "Name:  Ms. Kavitha Reddy\n",
      "Speciality:  Dietitian/Nutritionist\n",
      "Rating:  4.5\n",
      "Votes are not available.\n",
      "Address:  Flora Apartments, Road Number: 3, Landmark: Opposite To SBH Mufakkam Jah College And Near Almond House, Hyderabad\n",
      "https://google.com/search?q=dr+sravani+dr++idea+clinics++hyderabad\n",
      "https://www.practo.com/hyderabad/doctor/dr-shravani-karumuru-general-physician&sa=U&ved=2ahUKEwjlwqWMy_r5AhXnLbkGHU91B3wQFnoECAYQAg&usg=AOvVaw06g_doaFxHPtc2hogke2tX\n",
      "['https://www.practo.com/hyderabad/doctor/dr-shravani-karumuru-general-physician', 'sa=U', 'ved=2ahUKEwjlwqWMy_r5AhXnLbkGHU91B3wQFnoECAYQAg', 'usg=AOvVaw06g_doaFxHPtc2hogke2tX']\n",
      "Link searched for:  https://www.practo.com/hyderabad/doctor/dr-shravani-karumuru-general-physician\n",
      "**************************************************\n"
     ]
    },
    {
     "name": "stderr",
     "output_type": "stream",
     "text": [
      "\r",
      " 36%|█████████████▊                        | 621/1715 [38:05<1:23:37,  4.59s/it]"
     ]
    },
    {
     "name": "stdout",
     "output_type": "stream",
     "text": [
      "Name:  Dr. Shravani Karumuru\n",
      "Speciality:  General Physician\n",
      "Rating:  4.5\n",
      "Votes are not available.\n",
      "Address:  450/475, KK Plaza, Ayyapa Society, 100 Feet Road, Landmark: Near Meridian School, Hyderabad\n",
      "https://google.com/search?q=dr+rakesh+sahay++idea+clinics++hyderabad\n",
      "https://www.practo.com/hyderabad/doctor/dr-rakesh-sahay-198950-endocrinologist&sa=U&ved=2ahUKEwipw46Py_r5AhXLL7kGHVeaAY4QFnoECAgQAg&usg=AOvVaw1Tf89MOAA0w2Fe3V9nBjb7\n",
      "['https://www.practo.com/hyderabad/doctor/dr-rakesh-sahay-198950-endocrinologist', 'sa=U', 'ved=2ahUKEwipw46Py_r5AhXLL7kGHVeaAY4QFnoECAgQAg', 'usg=AOvVaw1Tf89MOAA0w2Fe3V9nBjb7']\n",
      "Link searched for:  https://www.practo.com/hyderabad/doctor/dr-rakesh-sahay-198950-endocrinologist\n",
      "**************************************************\n"
     ]
    },
    {
     "name": "stderr",
     "output_type": "stream",
     "text": [
      "\r",
      " 36%|█████████████▊                        | 622/1715 [38:10<1:24:44,  4.65s/it]"
     ]
    },
    {
     "name": "stdout",
     "output_type": "stream",
     "text": [
      "Name:  Dr. Rakesh Sahay\n",
      "Speciality:  Endocrinologist\n",
      "Rating:  78% \n",
      "Name:  (58 votes)\n",
      "Address:  Plot Number 4, Satyam Theatre Road, Srinivasa Nagar, Landmark: Behind Mythrivanam Building & Beside Blue Fox Hotel & Beside Metro Station, Hyderabad\n",
      "https://google.com/search?q=dr+rama+krishna++idea+clinics++hyderabad\n",
      "https://www.practo.com/hyderabad/doctor/dr-ramakrishna-janapati-cardiology&sa=U&ved=2ahUKEwjtkbSRy_r5AhUuHbkGHZXBCm8QFnoECAgQAg&usg=AOvVaw1C62XUpElcBMh4H3XRA-Ro\n",
      "['https://www.practo.com/hyderabad/doctor/dr-ramakrishna-janapati-cardiology', 'sa=U', 'ved=2ahUKEwjtkbSRy_r5AhUuHbkGHZXBCm8QFnoECAgQAg', 'usg=AOvVaw1C62XUpElcBMh4H3XRA-Ro']\n",
      "Link searched for:  https://www.practo.com/hyderabad/doctor/dr-ramakrishna-janapati-cardiology\n",
      "**************************************************\n"
     ]
    },
    {
     "name": "stderr",
     "output_type": "stream",
     "text": [
      "\r",
      " 36%|█████████████▊                        | 623/1715 [38:14<1:19:12,  4.35s/it]"
     ]
    },
    {
     "name": "stdout",
     "output_type": "stream",
     "text": [
      "Name:  Dr. Ramakrishna Janapati\n",
      "Speciality:  Cardiologist\n",
      "Rating:  5.0\n",
      "Votes are not available.\n",
      "Address:  Triveni Towers, Road Number 1, KPHB Colony, Landmark: Opposite Prime Hospitals, Hyderabad\n",
      "https://google.com/search?q=dr+sudhakar++reddy+idea+clinics+hyderabad\n",
      "https://www.practo.com/hyderabad/clinic/ideaclinics-kondapur-kondapur/doctors&sa=U&ved=2ahUKEwiBrJOTy_r5AhVQHLkGHTXZA10QFnoECAkQAg&usg=AOvVaw20CTXViqV9Ho_7N8eY2nVY\n",
      "['https://www.practo.com/hyderabad/clinic/ideaclinics-kondapur-kondapur/doctors', 'sa=U', 'ved=2ahUKEwiBrJOTy_r5AhVQHLkGHTXZA10QFnoECAkQAg', 'usg=AOvVaw20CTXViqV9Ho_7N8eY2nVY']\n",
      "Link searched for:  https://www.practo.com/hyderabad/clinic/ideaclinics-kondapur-kondapur/doctors\n",
      "**************************************************\n"
     ]
    },
    {
     "name": "stderr",
     "output_type": "stream",
     "text": [
      "\r",
      " 36%|█████████████▊                        | 624/1715 [38:19<1:24:12,  4.63s/it]"
     ]
    },
    {
     "name": "stdout",
     "output_type": "stream",
     "text": [
      "Name:  Idea Clinics\n",
      "Speciality:  Multi-speciality Clinic\n",
      "Rating:  5.0\n",
      "Name:  (191 patient stories)\n",
      "Address:  61B, Sri Ram Nagar Colony, Botanical Garden Road, Landmark: Beside Lane of Burfighar Sweet Shop &  State Bank of India Lane, Hyderabad\n",
      "https://google.com/search?q=dr+jaisimha+reddy+idea+clinic+hyderabad\n",
      "https://www.practo.com/hyderabad/doctor/jai-simha-reddy-endocrine-surgeon-general-physician&sa=U&ved=2ahUKEwiZt9WVy_r5AhWVA7kGHZheAoEQFnoECAgQAg&usg=AOvVaw1j7zcq1PRzoEuKF09cMMLA\n",
      "['https://www.practo.com/hyderabad/doctor/jai-simha-reddy-endocrine-surgeon-general-physician', 'sa=U', 'ved=2ahUKEwiZt9WVy_r5AhWVA7kGHZheAoEQFnoECAgQAg', 'usg=AOvVaw1j7zcq1PRzoEuKF09cMMLA']\n",
      "Link searched for:  https://www.practo.com/hyderabad/doctor/jai-simha-reddy-endocrine-surgeon-general-physician\n",
      "**************************************************\n"
     ]
    },
    {
     "name": "stderr",
     "output_type": "stream",
     "text": [
      "\r",
      " 36%|█████████████▊                        | 625/1715 [38:23<1:20:39,  4.44s/it]"
     ]
    },
    {
     "name": "stdout",
     "output_type": "stream",
     "text": [
      "Name:  Dr. Jai Simha Reddy\n",
      "Speciality:  General Physician\n",
      "Rating:  97% \n",
      "Name:  (31 votes)\n",
      "Address:  Triveni Towers, Road Number 1, KPHB Colony, Landmark: Opposite Prime Hospitals, Hyderabad\n",
      "https://google.com/search?q=dr+guru+prasad++prolife+hospital+hyderabad\n",
      "https://www.practo.com/hyderabad/hospital/profile-hospital-manikonda/doctors&sa=U&ved=2ahUKEwjvn8mXy_r5AhVBJrkGHR1fAHMQFnoECAEQAg&usg=AOvVaw0GMsiisKTk2RcaEoEL391_\n",
      "['https://www.practo.com/hyderabad/hospital/profile-hospital-manikonda/doctors', 'sa=U', 'ved=2ahUKEwjvn8mXy_r5AhVBJrkGHR1fAHMQFnoECAEQAg', 'usg=AOvVaw0GMsiisKTk2RcaEoEL391_']\n",
      "Link searched for:  https://www.practo.com/hyderabad/hospital/profile-hospital-manikonda/doctors\n",
      "**************************************************\n"
     ]
    },
    {
     "name": "stderr",
     "output_type": "stream",
     "text": [
      "\r",
      " 37%|█████████████▊                        | 626/1715 [38:26<1:09:44,  3.84s/it]"
     ]
    },
    {
     "name": "stdout",
     "output_type": "stream",
     "text": [
      "Name:  Prolife Hospital\n",
      "Speciality is not available.\n",
      "Rating not available.\n",
      "Votes are not available.\n",
      "https://google.com/search?q=dr+arun++kumar++prolife+hospital+hyderabad\n",
      "https://www.practo.com/hyderabad/hospital/profile-hospital-manikonda&sa=U&ved=2ahUKEwifyd6Yy_r5AhVzIrkGHSm8C0EQFnoECAwQAg&usg=AOvVaw1hdKkNc6bEgaebM6zNcdNy\n",
      "['https://www.practo.com/hyderabad/hospital/profile-hospital-manikonda', 'sa=U', 'ved=2ahUKEwifyd6Yy_r5AhVzIrkGHSm8C0EQFnoECAwQAg', 'usg=AOvVaw1hdKkNc6bEgaebM6zNcdNy']\n",
      "Link searched for:  https://www.practo.com/hyderabad/hospital/profile-hospital-manikonda\n",
      "**************************************************\n"
     ]
    },
    {
     "name": "stderr",
     "output_type": "stream",
     "text": [
      "\r",
      " 37%|█████████████▉                        | 627/1715 [38:29<1:05:08,  3.59s/it]"
     ]
    },
    {
     "name": "stdout",
     "output_type": "stream",
     "text": [
      "Name:  Prolife Hospital\n",
      "Speciality is not available.\n",
      "Rating not available.\n",
      "Votes are not available.\n",
      "https://google.com/search?q=dr+srinidhi++reddy++prolife+hospital+hyderabad\n"
     ]
    },
    {
     "name": "stderr",
     "output_type": "stream",
     "text": [
      "\r",
      " 37%|██████████████▋                         | 628/1715 [38:31<58:31,  3.23s/it]"
     ]
    },
    {
     "name": "stdout",
     "output_type": "stream",
     "text": [
      "Couldn't find any practo links.\n",
      "https://google.com/search?q=dr+sajjd+dr++prolife+hospital+hyderabad\n",
      "https://www.practo.com/hyderabad/hospital/profile-hospital-manikonda/doctors&sa=U&ved=2ahUKEwiamqiby_r5AhXkO7kGHQLYBV4QFnoECAMQAg&usg=AOvVaw0MozUjDmdAahpbX58dB9a3\n",
      "['https://www.practo.com/hyderabad/hospital/profile-hospital-manikonda/doctors', 'sa=U', 'ved=2ahUKEwiamqiby_r5AhXkO7kGHQLYBV4QFnoECAMQAg', 'usg=AOvVaw0MozUjDmdAahpbX58dB9a3']\n",
      "Link searched for:  https://www.practo.com/hyderabad/hospital/profile-hospital-manikonda/doctors\n",
      "**************************************************\n"
     ]
    },
    {
     "name": "stderr",
     "output_type": "stream",
     "text": [
      "\r",
      " 37%|██████████████▋                         | 629/1715 [38:34<58:06,  3.21s/it]"
     ]
    },
    {
     "name": "stdout",
     "output_type": "stream",
     "text": [
      "Name:  Prolife Hospital\n",
      "Speciality is not available.\n",
      "Rating not available.\n",
      "Votes are not available.\n",
      "https://google.com/search?q=dr+sharmila++dr++prolife+hospital+hyderabad\n",
      "https://www.practo.com/hyderabad/doctor/dr-sharmila-k-pediatrician&sa=U&ved=2ahUKEwiP8u6cy_r5AhWZIbkGHSJHAGUQFnoECAUQAg&usg=AOvVaw27RCnIWQrNYB5Mw7e96N4n\n",
      "['https://www.practo.com/hyderabad/doctor/dr-sharmila-k-pediatrician', 'sa=U', 'ved=2ahUKEwiP8u6cy_r5AhWZIbkGHSJHAGUQFnoECAUQAg', 'usg=AOvVaw27RCnIWQrNYB5Mw7e96N4n']\n",
      "Link searched for:  https://www.practo.com/hyderabad/doctor/dr-sharmila-k-pediatrician\n",
      "**************************************************\n"
     ]
    },
    {
     "name": "stderr",
     "output_type": "stream",
     "text": [
      "\r",
      " 37%|█████████████▉                        | 630/1715 [38:39<1:07:58,  3.76s/it]"
     ]
    },
    {
     "name": "stdout",
     "output_type": "stream",
     "text": [
      "Name:  Dr. Sharmila K\n",
      "Speciality:  Pediatrician\n",
      "Rating:  4.0\n",
      "Votes are not available.\n",
      "Address:  Road Number 72, Landmark: Opposite to Bharatiya Vidya Bhavan School Lane & Near Film Nagar, Hyderabad\n",
      "https://google.com/search?q=dr+vinod+w+chahara+prolife+hospital+hyderabad\n",
      "https://www.practo.com/hyderabad/doctor/dr-vinod-w-chahare-gastroenterologist&sa=U&ved=2ahUKEwiDz5yfy_r5AhVsO7kGHbp4AE4QFnoECAIQAg&usg=AOvVaw0Wja29_PXyx_9uesC184-J\n",
      "['https://www.practo.com/hyderabad/doctor/dr-vinod-w-chahare-gastroenterologist', 'sa=U', 'ved=2ahUKEwiDz5yfy_r5AhVsO7kGHbp4AE4QFnoECAIQAg', 'usg=AOvVaw0Wja29_PXyx_9uesC184-J']\n",
      "Link searched for:  https://www.practo.com/hyderabad/doctor/dr-vinod-w-chahare-gastroenterologist\n",
      "**************************************************\n"
     ]
    },
    {
     "name": "stderr",
     "output_type": "stream",
     "text": [
      "\r",
      " 37%|█████████████▉                        | 631/1715 [38:44<1:11:20,  3.95s/it]"
     ]
    },
    {
     "name": "stdout",
     "output_type": "stream",
     "text": [
      "Name:  Dr. Vinod W Chahare\n",
      "Speciality:  Gastroenterologist\n",
      "Rating:  4.5\n",
      "Votes are not available.\n",
      "Address:  12-2-718/3, 4, 5, Nanalnagar X Road, Landmark: Opposite To Corporation Bank, Hyderabad\n",
      "https://google.com/search?q=dr+kazi+jawad+hussain+prolife+hospital+hyderabad\n"
     ]
    },
    {
     "name": "stderr",
     "output_type": "stream",
     "text": [
      "\r",
      " 37%|██████████████                        | 632/1715 [38:46<1:02:27,  3.46s/it]"
     ]
    },
    {
     "name": "stdout",
     "output_type": "stream",
     "text": [
      "Couldn't find any practo links.\n",
      "https://google.com/search?q=dr+balaji+babu+prolife+hospital+hyderabad\n",
      "https://www.practo.com/hyderabad/doctor/dr-b-balaji-babu-dentist&sa=U&ved=2ahUKEwidjraiy_r5AhW-DLkGHcgeARYQFnoECAkQAg&usg=AOvVaw0GNtLKb2wENuQZESv1Gqbd\n",
      "['https://www.practo.com/hyderabad/doctor/dr-b-balaji-babu-dentist', 'sa=U', 'ved=2ahUKEwidjraiy_r5AhW-DLkGHcgeARYQFnoECAkQAg', 'usg=AOvVaw0GNtLKb2wENuQZESv1Gqbd']\n",
      "Link searched for:  https://www.practo.com/hyderabad/doctor/dr-b-balaji-babu-dentist\n",
      "**************************************************\n"
     ]
    },
    {
     "name": "stderr",
     "output_type": "stream",
     "text": [
      "\r",
      " 37%|██████████████                        | 633/1715 [38:51<1:08:46,  3.81s/it]"
     ]
    },
    {
     "name": "stdout",
     "output_type": "stream",
     "text": [
      "Name:  Dr. B. Balaji Babu\n",
      "Speciality:  Dentist\n",
      "Rating not available.\n",
      "Votes are not available.\n",
      "Address:  # 2-4-985, Road No-5,Sairam Arcade, Sanathapuri Colony, Landmark: Opp New Nagole Bus Stop, Hyderabad\n",
      "https://google.com/search?q=dr+manikante++vijaya+vani+mvr+diabetes+&+foot+care+hospital+visakhapatnam\n",
      "https://www.practo.com/visakhapatnam/doctor/manikante-vijaya-vani-general-physician&sa=U&ved=2ahUKEwjw69Gky_r5AhW5O7kGHYN_DIYQFnoECAgQAg&usg=AOvVaw0cs3J6hkpl2nJYaxyTXtNY\n",
      "['https://www.practo.com/visakhapatnam/doctor/manikante-vijaya-vani-general-physician', 'sa=U', 'ved=2ahUKEwjw69Gky_r5AhW5O7kGHYN_DIYQFnoECAgQAg', 'usg=AOvVaw0cs3J6hkpl2nJYaxyTXtNY']\n",
      "Link searched for:  https://www.practo.com/visakhapatnam/doctor/manikante-vijaya-vani-general-physician\n",
      "**************************************************\n"
     ]
    },
    {
     "name": "stderr",
     "output_type": "stream",
     "text": [
      "\r",
      " 37%|██████████████▊                         | 634/1715 [38:53<59:45,  3.32s/it]"
     ]
    },
    {
     "name": "stdout",
     "output_type": "stream",
     "text": [
      "Name:  Dr. Manikante Vijaya Vani\n",
      "Speciality:  General Practitioner\n",
      "Rating:  100% \n",
      "Name:  (36 votes)\n",
      "Address:  100 Feet Road, Gajuwaka, Landmark: Opposite to GVMC office, Visakhapatnam\n",
      "https://google.com/search?q=dr+kvs+mahesh+dr.+k+v+s+mahesh+diabetic+centre+bangalore\n",
      "https://www.practo.com/bangalore/doctor/kvs-mahesh-diabetologist&sa=U&ved=2ahUKEwjIl9Wly_r5AhUGDrkGHfeQBjYQFnoECAYQAg&usg=AOvVaw2tMxnYnotwKRd05kHiD3VL\n",
      "['https://www.practo.com/bangalore/doctor/kvs-mahesh-diabetologist', 'sa=U', 'ved=2ahUKEwjIl9Wly_r5AhUGDrkGHfeQBjYQFnoECAYQAg', 'usg=AOvVaw2tMxnYnotwKRd05kHiD3VL']\n",
      "Link searched for:  https://www.practo.com/bangalore/doctor/kvs-mahesh-diabetologist\n",
      "**************************************************\n"
     ]
    },
    {
     "name": "stderr",
     "output_type": "stream",
     "text": [
      "\r",
      " 37%|██████████████                        | 635/1715 [38:57<1:02:12,  3.46s/it]"
     ]
    },
    {
     "name": "stdout",
     "output_type": "stream",
     "text": [
      "Name:  Dr. KVS Mahesh\n",
      "Speciality:  General Physician\n",
      "Rating:  86% \n",
      "Name:  (14 votes)\n",
      "Address:  266/C, 80 Feet Road., Landmark: Below Life Care Hospital., Bangalore\n",
      "https://google.com/search?q=dr+hareesha+k+dryhareeshaybabu'sykidney+&+hypertension+carey+bangalore\n"
     ]
    },
    {
     "name": "stderr",
     "output_type": "stream",
     "text": [
      "\r",
      " 37%|██████████████▊                         | 636/1715 [38:58<50:55,  2.83s/it]"
     ]
    },
    {
     "name": "stdout",
     "output_type": "stream",
     "text": [
      "Couldn't find any practo links.\n",
      "https://google.com/search?q=dr+kiran+shashi+iskin+clinic-advanced+skin+and+hair+clinic+bangalore\n",
      "https://www.practo.com/bangalore/clinic/iskin-clinic-btm-4th-stage-bilekahalli-bilekahalli&sa=U&ved=2ahUKEwjDj4-oy_r5AhXIJrkGHeLIB1EQFnoECAMQAg&usg=AOvVaw35GsElH9aF0qIbf9RsL41Q\n",
      "['https://www.practo.com/bangalore/clinic/iskin-clinic-btm-4th-stage-bilekahalli-bilekahalli', 'sa=U', 'ved=2ahUKEwjDj4-oy_r5AhXIJrkGHeLIB1EQFnoECAMQAg', 'usg=AOvVaw35GsElH9aF0qIbf9RsL41Q']\n",
      "Link searched for:  https://www.practo.com/bangalore/clinic/iskin-clinic-btm-4th-stage-bilekahalli-bilekahalli\n",
      "**************************************************\n"
     ]
    },
    {
     "name": "stderr",
     "output_type": "stream",
     "text": [
      "\r",
      " 37%|██████████████▊                         | 637/1715 [39:01<51:39,  2.88s/it]"
     ]
    },
    {
     "name": "stdout",
     "output_type": "stream",
     "text": [
      "Name:  Iskin Clinic\n",
      "Speciality:  Multi-speciality Clinic\n",
      "Rating not available.\n",
      "Votes are not available.\n",
      "Address:  Number 57, BTM 4th Stage , 2nd Block, Landmark: Near RTO Circle, Bangalore\n",
      "https://google.com/search?q=dr+raja+selvarajan+kaveri+healthcare+bangalore\n",
      "https://www.practo.com/bangalore/doctor/dr-raja-selvarajan-diabetologist&sa=U&ved=2ahUKEwjSzMWpy_r5AhWeDbkGHeg-Bk4QFnoECAgQAg&usg=AOvVaw2E-CjNqaPBV96CO1Bsxs7Y\n",
      "['https://www.practo.com/bangalore/doctor/dr-raja-selvarajan-diabetologist', 'sa=U', 'ved=2ahUKEwjSzMWpy_r5AhWeDbkGHeg-Bk4QFnoECAgQAg', 'usg=AOvVaw2E-CjNqaPBV96CO1Bsxs7Y']\n",
      "Link searched for:  https://www.practo.com/bangalore/doctor/dr-raja-selvarajan-diabetologist\n",
      "**************************************************\n"
     ]
    },
    {
     "name": "stderr",
     "output_type": "stream",
     "text": [
      "\r",
      " 37%|██████████████▉                         | 638/1715 [39:04<55:25,  3.09s/it]"
     ]
    },
    {
     "name": "stdout",
     "output_type": "stream",
     "text": [
      "Name:  Dr. Raja Selvarajan\n",
      "Speciality:  General Physician\n",
      "Rating:  96% \n",
      "Name:  (539 votes)\n",
      "Address:  #261, SM towers, 2nd phase, Stage 2, Domlur, Bengaluru, Landmark: Opposite to Vittal Diagnostics, Bangalore\n",
      "https://google.com/search?q=dr+anantharaman+r+magna+centres+for+obesity+diabetes+and+endocrinology+bangalore\n",
      "https://www.practo.com/bangalore/clinic/magna-clinic-for-obesity-diabetes-and-endocrinology-btm-layout-2nd-stage&sa=U&ved=2ahUKEwjtqKCry_r5AhVMH7kGHY8QA7MQFnoECAMQAg&usg=AOvVaw3b9QxJTXZKWtZJ1HPqEZEH\n",
      "['https://www.practo.com/bangalore/clinic/magna-clinic-for-obesity-diabetes-and-endocrinology-btm-layout-2nd-stage', 'sa=U', 'ved=2ahUKEwjtqKCry_r5AhVMH7kGHY8QA7MQFnoECAMQAg', 'usg=AOvVaw3b9QxJTXZKWtZJ1HPqEZEH']\n",
      "Link searched for:  https://www.practo.com/bangalore/clinic/magna-clinic-for-obesity-diabetes-and-endocrinology-btm-layout-2nd-stage\n",
      "**************************************************\n"
     ]
    },
    {
     "name": "stderr",
     "output_type": "stream",
     "text": [
      "\r",
      " 37%|██████████████▉                         | 639/1715 [39:07<53:50,  3.00s/it]"
     ]
    },
    {
     "name": "stdout",
     "output_type": "stream",
     "text": [
      "Name:  Magna Centres For Obesity, Diabetes & Endocrinology\n",
      "Speciality:  Multi-speciality Clinic\n",
      "Rating:  4.5\n",
      "Name:  (1835 patient stories)\n",
      "Address:  Sai Manasa Building, 703, 1st Floor, 30th Main Road, BTM 2nd Stage, Landmark: Next to Kuvempu Nagar Bus Stand, Bangalore\n",
      "https://google.com/search?q=dr+hari+kishan+kumar+dr+kishan`s+skin+care+&+aesthetic+research+centre+bangalore\n",
      "https://www.practo.com/bangalore/doctor/dr-hari-krishan-kumar-y-dermatologist-cosmetologist-1/recommended&sa=U&ved=2ahUKEwj_n8usy_r5AhUsD7kGHUU2DegQFnoECAgQAg&usg=AOvVaw3QNZzPjlUqWRcoN4zN2Hf2\n",
      "['https://www.practo.com/bangalore/doctor/dr-hari-krishan-kumar-y-dermatologist-cosmetologist-1/recommended', 'sa=U', 'ved=2ahUKEwj_n8usy_r5AhUsD7kGHUU2DegQFnoECAgQAg', 'usg=AOvVaw3QNZzPjlUqWRcoN4zN2Hf2']\n",
      "Link searched for:  https://www.practo.com/bangalore/doctor/dr-hari-krishan-kumar-y-dermatologist-cosmetologist-1/recommended\n",
      "**************************************************\n"
     ]
    },
    {
     "name": "stderr",
     "output_type": "stream",
     "text": [
      "\r",
      " 37%|██████████████▉                         | 640/1715 [39:11<58:16,  3.25s/it]"
     ]
    },
    {
     "name": "stdout",
     "output_type": "stream",
     "text": [
      "Name:  Dr. Hari Kishan Kumar\n",
      "Speciality:  Dermatologist\n",
      "Rating:  82% \n",
      "Name:  (62 votes)\n",
      "https://google.com/search?q=dr+sunil+gowda+rajajinagar+kidney+care+hospital+bangalore\n",
      "https://www.practo.com/bangalore/doctor/dr-sunil-gowda-1-urologist&sa=U&ved=2ahUKEwjzwLWuy_r5AhVfJrkGHVQ6CzsQFnoECAQQAg&usg=AOvVaw2LedsH7fw0O635Syvd9est\n",
      "['https://www.practo.com/bangalore/doctor/dr-sunil-gowda-1-urologist', 'sa=U', 'ved=2ahUKEwjzwLWuy_r5AhVfJrkGHVQ6CzsQFnoECAQQAg', 'usg=AOvVaw2LedsH7fw0O635Syvd9est']\n",
      "Link searched for:  https://www.practo.com/bangalore/doctor/dr-sunil-gowda-1-urologist\n",
      "**************************************************\n"
     ]
    },
    {
     "name": "stderr",
     "output_type": "stream",
     "text": [
      "\r",
      " 37%|██████████████▏                       | 641/1715 [39:17<1:13:37,  4.11s/it]"
     ]
    },
    {
     "name": "stdout",
     "output_type": "stream",
     "text": [
      "Name:  Dr. Sunil Gowda\n",
      "Speciality:  Urologist\n",
      "Rating:  3.5\n",
      "Votes are not available.\n",
      "Address:  519, 2nd Main, Nethravathi Street, Devasandra, Landmark: Opposite SLK Software, Bangalore\n",
      "https://google.com/search?q=dr+anand+arumugam+bangalore+urology+clinic+bangalore\n",
      "https://www.practo.com/bangalore/doctor/dr-anand-arumugam-urologist&sa=U&ved=2ahUKEwj49aqxy_r5AhVgHLkGHdGDA3wQFnoECAgQAg&usg=AOvVaw0B9hzYMFmWcXOLQrmxtN54\n",
      "['https://www.practo.com/bangalore/doctor/dr-anand-arumugam-urologist', 'sa=U', 'ved=2ahUKEwj49aqxy_r5AhVgHLkGHdGDA3wQFnoECAgQAg', 'usg=AOvVaw0B9hzYMFmWcXOLQrmxtN54']\n",
      "Link searched for:  https://www.practo.com/bangalore/doctor/dr-anand-arumugam-urologist\n",
      "**************************************************\n"
     ]
    },
    {
     "name": "stderr",
     "output_type": "stream",
     "text": [
      "\r",
      " 37%|██████████████▏                       | 642/1715 [39:23<1:20:14,  4.49s/it]"
     ]
    },
    {
     "name": "stdout",
     "output_type": "stream",
     "text": [
      "Name:  Dr. Anand Arumugam\n",
      "Speciality:  Urologist\n",
      "Rating:  94% \n",
      "Name:  (804 votes)\n",
      "Address:  154/11, Bannerghatta Road, Amalodbhavi Nagar, Panduranga Nagar, Landmark: Opposite IIM, Bangalore\n",
      "https://google.com/search?q=dr+suneela+nayak+nayak+clinic+bangalore\n",
      "https://www.practo.com/bangalore/doctor/suneela-nayak-allergist-immunologist&sa=U&ved=2ahUKEwiElPKzy_r5AhXXHbkGHVbTAx0QFnoECAgQAg&usg=AOvVaw1MGsR6n_dYeTxvIPXgOqAx\n",
      "['https://www.practo.com/bangalore/doctor/suneela-nayak-allergist-immunologist', 'sa=U', 'ved=2ahUKEwiElPKzy_r5AhXXHbkGHVbTAx0QFnoECAgQAg', 'usg=AOvVaw1MGsR6n_dYeTxvIPXgOqAx']\n",
      "Link searched for:  https://www.practo.com/bangalore/doctor/suneela-nayak-allergist-immunologist\n",
      "**************************************************\n"
     ]
    },
    {
     "name": "stderr",
     "output_type": "stream",
     "text": [
      "\r",
      " 37%|██████████████▏                       | 643/1715 [39:28<1:26:15,  4.83s/it]"
     ]
    },
    {
     "name": "stdout",
     "output_type": "stream",
     "text": [
      "Name:  Dr. Suneela Nayak\n",
      "Speciality:  Pediatrician\n",
      "Rating:  97% \n",
      "Name:  (65 votes)\n",
      "Address:  Road Number 178/1 and 178/2, Bilekahalli, Landmark: Opposite Janardhan Towers, Bangalore\n",
      "https://google.com/search?q=dr+tauseef+mohammed+medicare+health+centre+bangalore\n",
      "https://www.practo.com/bangalore/doctor/dr-mohammed-tauseef-physiotherapist&sa=U&ved=2ahUKEwj7nsm2y_r5AhVIA7kGHYzDBDEQFnoECAMQAg&usg=AOvVaw0tGTtEh-Xs8GgnFWM8odHL\n",
      "['https://www.practo.com/bangalore/doctor/dr-mohammed-tauseef-physiotherapist', 'sa=U', 'ved=2ahUKEwj7nsm2y_r5AhVIA7kGHYzDBDEQFnoECAMQAg', 'usg=AOvVaw0tGTtEh-Xs8GgnFWM8odHL']\n",
      "Link searched for:  https://www.practo.com/bangalore/doctor/dr-mohammed-tauseef-physiotherapist\n",
      "**************************************************\n"
     ]
    },
    {
     "name": "stderr",
     "output_type": "stream",
     "text": [
      "\r",
      " 38%|██████████████▎                       | 644/1715 [39:31<1:17:14,  4.33s/it]"
     ]
    },
    {
     "name": "stdout",
     "output_type": "stream",
     "text": [
      "Name:  Dr. Mohammed Tauseef\n",
      "Speciality:  General Physician\n",
      "Rating:  5.0\n",
      "Votes are not available.\n",
      "Address:  81, 80 Feet Road, New Friends Colony, Koramangala 4th Block,, Landmark: Above Magnus Diagnostic Center, Bangalore\n",
      "https://google.com/search?q=dr+srinivas+c+revive+skin+&+hair+clinic+bangalore\n",
      "https://www.practo.com/bangalore/doctor/dr-srinivas-c-dermatologist-cosmetologist&sa=U&ved=2ahUKEwijoYq4y_r5AhVsNrkGHfTwBbIQFnoECAgQAg&usg=AOvVaw09Gpv1c2v62R3wksfTzdpr\n",
      "['https://www.practo.com/bangalore/doctor/dr-srinivas-c-dermatologist-cosmetologist', 'sa=U', 'ved=2ahUKEwijoYq4y_r5AhVsNrkGHfTwBbIQFnoECAgQAg', 'usg=AOvVaw09Gpv1c2v62R3wksfTzdpr']\n",
      "Link searched for:  https://www.practo.com/bangalore/doctor/dr-srinivas-c-dermatologist-cosmetologist\n",
      "**************************************************\n"
     ]
    },
    {
     "name": "stderr",
     "output_type": "stream",
     "text": [
      "\r",
      " 38%|██████████████▎                       | 645/1715 [39:37<1:25:42,  4.81s/it]"
     ]
    },
    {
     "name": "stdout",
     "output_type": "stream",
     "text": [
      "Name:  Dr. Srinivas C\n",
      "Speciality:  Dermatologist\n",
      "Rating:  93% \n",
      "Name:  (884 votes)\n",
      "Address:  52/2, Nanjappa Main Road, Landmark: Opposite Apollo Pharmacy, Bangalore\n",
      "https://google.com/search?q=dr+sneha+sood+beautiful+mind+health+care+bangalore\n",
      "https://www.practo.com/bangalore/clinic/beautiful-mind-indiranagar&sa=U&ved=2ahUKEwir9_y6y_r5AhWSGbkGHRQSD3sQFnoECAkQAg&usg=AOvVaw1BtVyPCfpoit3bzcVAd_Zm\n",
      "['https://www.practo.com/bangalore/clinic/beautiful-mind-indiranagar', 'sa=U', 'ved=2ahUKEwir9_y6y_r5AhWSGbkGHRQSD3sQFnoECAkQAg', 'usg=AOvVaw1BtVyPCfpoit3bzcVAd_Zm']\n",
      "Link searched for:  https://www.practo.com/bangalore/clinic/beautiful-mind-indiranagar\n",
      "**************************************************\n"
     ]
    },
    {
     "name": "stderr",
     "output_type": "stream",
     "text": [
      "\r",
      " 38%|██████████████▎                       | 646/1715 [39:40<1:16:42,  4.31s/it]"
     ]
    },
    {
     "name": "stdout",
     "output_type": "stream",
     "text": [
      "Name:  Beautiful Mind Healthcare\n",
      "Speciality:  Multi-speciality Clinic\n",
      "Rating:  5.0\n",
      "Name:  (392 patient stories)\n",
      "Address:  161, 9th Cross, Indiranagar, 1st Stage, Landmark: Opposite Indiranagar Basketball Club, Bangalore\n",
      "https://google.com/search?q=dr+adil+iqbal+health+green+diagnostics+bangalore\n"
     ]
    },
    {
     "name": "stderr",
     "output_type": "stream",
     "text": [
      "\r",
      " 38%|██████████████▎                       | 647/1715 [39:43<1:07:09,  3.77s/it]"
     ]
    },
    {
     "name": "stdout",
     "output_type": "stream",
     "text": [
      "https://www.practo.com/india-doctor-clinic-profile-b-4-1-sitemap.xml.gz&sa=U&ved=2ahUKEwizr7O8y_r5AhV-K7kGHYfQCmUQFnoECAgQAg&usg=AOvVaw133bXltDp114EERM7dOlc-\n",
      "['https://www.practo.com/india-doctor-clinic-profile-b-4-1-sitemap.xml.gz', 'sa=U', 'ved=2ahUKEwizr7O8y_r5AhV-K7kGHYfQCmUQFnoECAgQAg', 'usg=AOvVaw133bXltDp114EERM7dOlc-']\n",
      "Link searched for:  https://www.practo.com/india-doctor-clinic-profile-b-4-1-sitemap.xml.gz\n",
      "**************************************************\n",
      "Error was:  'utf-8' codec can't decode byte 0x8b in position 1: invalid start byte\n",
      "https://google.com/search?q=dr+vasunethra+kasargod+vr+breathe+-+well+clinic+bangalore\n",
      "https://www.practo.com/bangalore/clinic/av-breathe-well-clinic-kalyan-nagar-1&sa=U&ved=2ahUKEwjCgs-9y_r5AhWrDrkGHSKQANgQFnoECAUQAg&usg=AOvVaw3fGVl-YFtZ-wgO-eUm7JGP\n",
      "['https://www.practo.com/bangalore/clinic/av-breathe-well-clinic-kalyan-nagar-1', 'sa=U', 'ved=2ahUKEwjCgs-9y_r5AhWrDrkGHSKQANgQFnoECAUQAg', 'usg=AOvVaw3fGVl-YFtZ-wgO-eUm7JGP']\n",
      "Link searched for:  https://www.practo.com/bangalore/clinic/av-breathe-well-clinic-kalyan-nagar-1\n",
      "**************************************************\n"
     ]
    },
    {
     "name": "stderr",
     "output_type": "stream",
     "text": [
      "\r",
      " 38%|██████████████▎                       | 648/1715 [39:46<1:02:01,  3.49s/it]"
     ]
    },
    {
     "name": "stdout",
     "output_type": "stream",
     "text": [
      "Name:  VR Breathe - Well Clinic\n",
      "Speciality:  Pulmonology and Tuberculous and chest Diseases Clinic\n",
      "Rating:  5.0\n",
      "Name:  (542 patient stories)\n",
      "Address:  Number 356, Abhilash Complex, Hennur Main Road, Landmark: Opposite Grace Garden Apartment, Bangalore\n",
      "https://google.com/search?q=dr+naveen+m+care+speciality+clinics++bangalore\n",
      "https://www.practo.com/bangalore/doctor/dr-naveen-m-internal-medicine&sa=U&ved=2ahUKEwj2ivq-y_r5AhW7D7kGHVLDDUIQFnoECAYQAg&usg=AOvVaw3N5_dTFKQSTq8LV5xaHSP-\n",
      "['https://www.practo.com/bangalore/doctor/dr-naveen-m-internal-medicine', 'sa=U', 'ved=2ahUKEwj2ivq-y_r5AhW7D7kGHVLDDUIQFnoECAYQAg', 'usg=AOvVaw3N5_dTFKQSTq8LV5xaHSP-']\n",
      "Link searched for:  https://www.practo.com/bangalore/doctor/dr-naveen-m-internal-medicine\n",
      "**************************************************\n"
     ]
    },
    {
     "name": "stderr",
     "output_type": "stream",
     "text": [
      "\r",
      " 38%|██████████████▍                       | 649/1715 [39:52<1:16:52,  4.33s/it]"
     ]
    },
    {
     "name": "stdout",
     "output_type": "stream",
     "text": [
      "Name:  Dr. Naveen M\n",
      "Speciality:  Internal Medicine\n",
      "Rating:  4.5\n",
      "Votes are not available.\n",
      "Address:  No.18, Kanakapura Road, Venkatareddy Layout, Industrial Area, Doddakallasandra, Uttarahalli Hobli, Bengaluru, Karnataka, Bangalore\n",
      "https://google.com/search?q=dr+jaidev+nc+blue+bliss+hospital+bangalore\n",
      "https://www.practo.com/bangalore/hospital/blue-bliss-hospitals-seshadripuram/doctors&sa=U&ved=2ahUKEwic7_nBy_r5AhWqDbkGHTP5BJQQFnoECAUQAg&usg=AOvVaw1C18VhuVHOUIYGp_rH6AWC\n",
      "['https://www.practo.com/bangalore/hospital/blue-bliss-hospitals-seshadripuram/doctors', 'sa=U', 'ved=2ahUKEwic7_nBy_r5AhWqDbkGHTP5BJQQFnoECAUQAg', 'usg=AOvVaw1C18VhuVHOUIYGp_rH6AWC']\n",
      "Link searched for:  https://www.practo.com/bangalore/hospital/blue-bliss-hospitals-seshadripuram/doctors\n",
      "**************************************************\n"
     ]
    },
    {
     "name": "stderr",
     "output_type": "stream",
     "text": [
      "\r",
      " 38%|██████████████▍                       | 650/1715 [39:56<1:12:39,  4.09s/it]"
     ]
    },
    {
     "name": "stdout",
     "output_type": "stream",
     "text": [
      "Name:  Blue Bliss Hospital\n",
      "Speciality is not available.\n",
      "Rating:  4.5\n",
      "Name:  (38 patient stories)\n",
      "https://google.com/search?q=dr+sharada+c+meghana+nursing+and+maternity+hospital+bangalore\n",
      "https://www.practo.com/hyderabad/doctor/dr-sarada-c-gynecologist-obstetrician&sa=U&ved=2ahUKEwjQxJPEy_r5AhWIDrkGHRyCC-EQFnoECAoQAg&usg=AOvVaw2Xw2ln1P43x5cqRjpOpObe\n",
      "['https://www.practo.com/hyderabad/doctor/dr-sarada-c-gynecologist-obstetrician', 'sa=U', 'ved=2ahUKEwjQxJPEy_r5AhWIDrkGHRyCC-EQFnoECAoQAg', 'usg=AOvVaw2Xw2ln1P43x5cqRjpOpObe']\n",
      "Link searched for:  https://www.practo.com/hyderabad/doctor/dr-sarada-c-gynecologist-obstetrician\n",
      "**************************************************\n"
     ]
    },
    {
     "name": "stderr",
     "output_type": "stream",
     "text": [
      "\r",
      " 38%|██████████████▍                       | 651/1715 [40:00<1:12:41,  4.10s/it]"
     ]
    },
    {
     "name": "stdout",
     "output_type": "stream",
     "text": [
      "Name:  Dr. Sarada C\n",
      "Speciality is not available.\n",
      "Rating not available.\n",
      "Votes are not available.\n",
      "Address:  No.641 & 642, Opp.Vnayaka Ground, Near Government Library , Sanath Nagar, Hyderabad\n",
      "https://google.com/search?q=dr+mahendra+jain+best+urology+clinic+bangalore\n",
      "https://www.practo.com/bangalore/doctor/mahendra-jain-urologist&sa=U&ved=2ahUKEwi--bfGy_r5AhX0AtQKHdTCAUUQFnoECAkQAg&usg=AOvVaw0OeUi4hHI7DrDXghwrBWqA\n",
      "['https://www.practo.com/bangalore/doctor/mahendra-jain-urologist', 'sa=U', 'ved=2ahUKEwi--bfGy_r5AhX0AtQKHdTCAUUQFnoECAkQAg', 'usg=AOvVaw0OeUi4hHI7DrDXghwrBWqA']\n",
      "Link searched for:  https://www.practo.com/bangalore/doctor/mahendra-jain-urologist\n",
      "**************************************************\n"
     ]
    },
    {
     "name": "stderr",
     "output_type": "stream",
     "text": [
      "\r",
      " 38%|██████████████▍                       | 652/1715 [40:04<1:14:07,  4.18s/it]"
     ]
    },
    {
     "name": "stdout",
     "output_type": "stream",
     "text": [
      "Name:  Dr. Mahendra Jain\n",
      "Speciality:  Urological Surgeon\n",
      "Rating:  81% \n",
      "Name:  (42 votes)\n",
      "Address:  No 511, 15th Cross Rd,  Sector 4, Landmark: Sankalp Diagnostic Labs, Bangalore\n",
      "https://google.com/search?q=dr+vasantha+ramu+padmashree+nursing+home+bangalore\n",
      "https://www.practo.com/bangalore/doctor/vasantha-ramu-gynecologist-obstetrician&sa=U&ved=2ahUKEwj1_NjHy_r5AhWLH7kGHc9qC2EQFnoECAMQAg&usg=AOvVaw0C-46SPXo-Ude5Fo6fV2do\n",
      "['https://www.practo.com/bangalore/doctor/vasantha-ramu-gynecologist-obstetrician', 'sa=U', 'ved=2ahUKEwj1_NjHy_r5AhWLH7kGHc9qC2EQFnoECAMQAg', 'usg=AOvVaw0C-46SPXo-Ude5Fo6fV2do']\n",
      "Link searched for:  https://www.practo.com/bangalore/doctor/vasantha-ramu-gynecologist-obstetrician\n",
      "**************************************************\n"
     ]
    },
    {
     "name": "stderr",
     "output_type": "stream",
     "text": [
      "\r",
      " 38%|██████████████▍                       | 653/1715 [40:08<1:13:50,  4.17s/it]"
     ]
    },
    {
     "name": "stdout",
     "output_type": "stream",
     "text": [
      "Name:  Dr. Vasantha Ramu\n",
      "Speciality:  Gynecologist\n",
      "Rating not available.\n",
      "Votes are not available.\n",
      "Address:  1108, Bus stand, 30, 10th Main Rd, Chowdappa Layout, near Hampi Nagar, RPC Layout, contact no-08023384138/ 23118372, Landmark: RPC Layout, Bangalore\n",
      "https://google.com/search?q=dr+niran+uthaiah+hsr+diabetes+centre+bangalore\n",
      "https://www.practo.com/bangalore/doctor/dr-niran-kmc-no-49047-diabetologist&sa=U&ved=2ahUKEwjG6dXJy_r5AhWUAtQKHQ6CAVcQFnoECAgQAg&usg=AOvVaw0xT2U4tCOTK5ziyMT1ZLtO\n",
      "['https://www.practo.com/bangalore/doctor/dr-niran-kmc-no-49047-diabetologist', 'sa=U', 'ved=2ahUKEwjG6dXJy_r5AhWUAtQKHQ6CAVcQFnoECAgQAg', 'usg=AOvVaw0xT2U4tCOTK5ziyMT1ZLtO']\n",
      "Link searched for:  https://www.practo.com/bangalore/doctor/dr-niran-kmc-no-49047-diabetologist\n",
      "**************************************************\n"
     ]
    },
    {
     "name": "stderr",
     "output_type": "stream",
     "text": [
      "\r",
      " 38%|██████████████▍                       | 654/1715 [40:12<1:11:57,  4.07s/it]"
     ]
    },
    {
     "name": "stdout",
     "output_type": "stream",
     "text": [
      "Name:  Dr. Niran Uthaiah\n",
      "Speciality:  General Physician\n",
      "Rating:  98% \n",
      "Name:  (1505 votes)\n",
      "Address:  1197, 22nd Cross Road,  HSR Sector 3, HSR Club Road., Landmark: Near HSR Club, Bangalore\n",
      "https://google.com/search?q=dr+nagaraj+s+infilife+multispeciality+centre+bangalore\n"
     ]
    }
   ],
   "source": [
    "final_df = extractReviews(df_not_missing)"
   ]
  },
  {
   "cell_type": "markdown",
   "id": "bec36300",
   "metadata": {},
   "source": [
    "practo: name, address, working days, phone, speciality"
   ]
  },
  {
   "cell_type": "code",
   "execution_count": null,
   "id": "4220a0a9",
   "metadata": {},
   "outputs": [],
   "source": [
    "df_final = pd.DataFrame.from_dict(final_df, orient=\"index\").T"
   ]
  },
  {
   "cell_type": "code",
   "execution_count": null,
   "id": "b5147083",
   "metadata": {},
   "outputs": [],
   "source": [
    "df_final"
   ]
  },
  {
   "cell_type": "code",
   "execution_count": null,
   "id": "193b0aa7",
   "metadata": {},
   "outputs": [],
   "source": [
    "df_final.to_csv(\"practo_4_sep_2022_output.csv\", index=False)"
   ]
  },
  {
   "cell_type": "code",
   "execution_count": null,
   "id": "c18f7498",
   "metadata": {},
   "outputs": [],
   "source": [
    "pd.merge(df, df_final, how='outer').to_csv(\"full_output_30_aug_2022.csv\", index=False)"
   ]
  },
  {
   "cell_type": "code",
   "execution_count": null,
   "id": "0f593e5f",
   "metadata": {},
   "outputs": [],
   "source": [
    "pd.read_csv(\"full_output_30_aug_2022.csv\")"
   ]
  },
  {
   "cell_type": "code",
   "execution_count": null,
   "id": "78499a38",
   "metadata": {},
   "outputs": [],
   "source": [
    "df"
   ]
  },
  {
   "cell_type": "markdown",
   "id": "8d6bc02c",
   "metadata": {},
   "source": [
    "### Processing for NA"
   ]
  },
  {
   "cell_type": "code",
   "execution_count": null,
   "id": "bd4684a5",
   "metadata": {},
   "outputs": [],
   "source": [
    "df = pd.read_csv(\"full_output_30_aug_2022.csv\")\n",
    "df.head()"
   ]
  },
  {
   "cell_type": "code",
   "execution_count": null,
   "id": "5ca98276",
   "metadata": {},
   "outputs": [],
   "source": [
    "df_na = df[df['rating'].isna() == True]"
   ]
  },
  {
   "cell_type": "code",
   "execution_count": null,
   "id": "54a974ff",
   "metadata": {},
   "outputs": [],
   "source": [
    "df_na = df_na[df_na['firstName'].isna()!=True].drop('clinicName', axis=1)"
   ]
  },
  {
   "cell_type": "code",
   "execution_count": null,
   "id": "5b7d84a6",
   "metadata": {},
   "outputs": [],
   "source": [
    "df_na.columns = ['firstName', 'lastName', 'name', 'baseCity', 'GoogleNRs', 'googleRating']"
   ]
  },
  {
   "cell_type": "code",
   "execution_count": null,
   "id": "090c73e1",
   "metadata": {},
   "outputs": [],
   "source": [
    "df_na"
   ]
  },
  {
   "cell_type": "code",
   "execution_count": null,
   "id": "650730b0",
   "metadata": {},
   "outputs": [],
   "source": []
  }
 ],
 "metadata": {
  "kernelspec": {
   "display_name": "Python 3 (ipykernel)",
   "language": "python",
   "name": "python3"
  },
  "language_info": {
   "codemirror_mode": {
    "name": "ipython",
    "version": 3
   },
   "file_extension": ".py",
   "mimetype": "text/x-python",
   "name": "python",
   "nbconvert_exporter": "python",
   "pygments_lexer": "ipython3",
   "version": "3.9.13"
  },
  "vscode": {
   "interpreter": {
    "hash": "1152254d1e610f803db0a6fed8bc02d35ce78bc817c0aa9e797ec443b5cb6318"
   }
  }
 },
 "nbformat": 4,
 "nbformat_minor": 5
}
