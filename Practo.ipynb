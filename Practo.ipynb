{
 "cells": [
  {
   "cell_type": "code",
   "execution_count": 1,
   "id": "1b862ef2",
   "metadata": {},
   "outputs": [],
   "source": [
    "import pandas as pd\n",
    "import re\n",
    "from tqdm import tqdm\n",
    "\n",
    "import matplotlib.pyplot as plt\n",
    "import numpy as np\n",
    "import locationtagger"
   ]
  },
  {
   "cell_type": "code",
   "execution_count": 2,
   "id": "644e6a25",
   "metadata": {},
   "outputs": [
    {
     "data": {
      "text/html": [
       "<div>\n",
       "<style scoped>\n",
       "    .dataframe tbody tr th:only-of-type {\n",
       "        vertical-align: middle;\n",
       "    }\n",
       "\n",
       "    .dataframe tbody tr th {\n",
       "        vertical-align: top;\n",
       "    }\n",
       "\n",
       "    .dataframe thead th {\n",
       "        text-align: right;\n",
       "    }\n",
       "</style>\n",
       "<table border=\"1\" class=\"dataframe\">\n",
       "  <thead>\n",
       "    <tr style=\"text-align: right;\">\n",
       "      <th></th>\n",
       "      <th>SVAAS_ID</th>\n",
       "      <th>user_id</th>\n",
       "      <th>firstName</th>\n",
       "      <th>middleName</th>\n",
       "      <th>lastName</th>\n",
       "      <th>email</th>\n",
       "      <th>phone</th>\n",
       "      <th>description</th>\n",
       "      <th>pan</th>\n",
       "      <th>mci</th>\n",
       "      <th>...</th>\n",
       "      <th>numberFollowUp</th>\n",
       "      <th>followUpDuration</th>\n",
       "      <th>insuranceProviderId</th>\n",
       "      <th>isActive</th>\n",
       "      <th>ABDM_Healthcare_Professional_ID</th>\n",
       "      <th>SVAAS_DOCTOR_ID</th>\n",
       "      <th>svaasClinicId</th>\n",
       "      <th>tbl_user_phone_number</th>\n",
       "      <th>name</th>\n",
       "      <th>location</th>\n",
       "    </tr>\n",
       "  </thead>\n",
       "  <tbody>\n",
       "    <tr>\n",
       "      <th>0</th>\n",
       "      <td>NaN</td>\n",
       "      <td>NaN</td>\n",
       "      <td>NaN</td>\n",
       "      <td>NaN</td>\n",
       "      <td>NaN</td>\n",
       "      <td>NaN</td>\n",
       "      <td>NaN</td>\n",
       "      <td>NaN</td>\n",
       "      <td>NaN</td>\n",
       "      <td>NaN</td>\n",
       "      <td>...</td>\n",
       "      <td>NaN</td>\n",
       "      <td>NaN</td>\n",
       "      <td>NaN</td>\n",
       "      <td>NaN</td>\n",
       "      <td>NaN</td>\n",
       "      <td>NaN</td>\n",
       "      <td>NaN</td>\n",
       "      <td>NaN</td>\n",
       "      <td>NaN</td>\n",
       "      <td>NaN</td>\n",
       "    </tr>\n",
       "    <tr>\n",
       "      <th>1</th>\n",
       "      <td>NaN</td>\n",
       "      <td>NaN</td>\n",
       "      <td>NaN</td>\n",
       "      <td>NaN</td>\n",
       "      <td>NaN</td>\n",
       "      <td>NaN</td>\n",
       "      <td>NaN</td>\n",
       "      <td>NaN</td>\n",
       "      <td>NaN</td>\n",
       "      <td>NaN</td>\n",
       "      <td>...</td>\n",
       "      <td>NaN</td>\n",
       "      <td>NaN</td>\n",
       "      <td>NaN</td>\n",
       "      <td>NaN</td>\n",
       "      <td>NaN</td>\n",
       "      <td>NaN</td>\n",
       "      <td>NaN</td>\n",
       "      <td>NaN</td>\n",
       "      <td>NaN</td>\n",
       "      <td>NaN</td>\n",
       "    </tr>\n",
       "    <tr>\n",
       "      <th>2</th>\n",
       "      <td>NaN</td>\n",
       "      <td>NaN</td>\n",
       "      <td>NaN</td>\n",
       "      <td>NaN</td>\n",
       "      <td>NaN</td>\n",
       "      <td>NaN</td>\n",
       "      <td>NaN</td>\n",
       "      <td>NaN</td>\n",
       "      <td>NaN</td>\n",
       "      <td>NaN</td>\n",
       "      <td>...</td>\n",
       "      <td>NaN</td>\n",
       "      <td>NaN</td>\n",
       "      <td>NaN</td>\n",
       "      <td>NaN</td>\n",
       "      <td>NaN</td>\n",
       "      <td>NaN</td>\n",
       "      <td>NaN</td>\n",
       "      <td>NaN</td>\n",
       "      <td>NaN</td>\n",
       "      <td>NaN</td>\n",
       "    </tr>\n",
       "    <tr>\n",
       "      <th>3</th>\n",
       "      <td>NaN</td>\n",
       "      <td>NaN</td>\n",
       "      <td>NaN</td>\n",
       "      <td>NaN</td>\n",
       "      <td>NaN</td>\n",
       "      <td>NaN</td>\n",
       "      <td>NaN</td>\n",
       "      <td>NaN</td>\n",
       "      <td>NaN</td>\n",
       "      <td>NaN</td>\n",
       "      <td>...</td>\n",
       "      <td>NaN</td>\n",
       "      <td>NaN</td>\n",
       "      <td>NaN</td>\n",
       "      <td>NaN</td>\n",
       "      <td>NaN</td>\n",
       "      <td>NaN</td>\n",
       "      <td>NaN</td>\n",
       "      <td>NaN</td>\n",
       "      <td>NaN</td>\n",
       "      <td>NaN</td>\n",
       "    </tr>\n",
       "    <tr>\n",
       "      <th>4</th>\n",
       "      <td>NaN</td>\n",
       "      <td>NaN</td>\n",
       "      <td>NaN</td>\n",
       "      <td>NaN</td>\n",
       "      <td>NaN</td>\n",
       "      <td>NaN</td>\n",
       "      <td>NaN</td>\n",
       "      <td>NaN</td>\n",
       "      <td>NaN</td>\n",
       "      <td>NaN</td>\n",
       "      <td>...</td>\n",
       "      <td>NaN</td>\n",
       "      <td>NaN</td>\n",
       "      <td>NaN</td>\n",
       "      <td>NaN</td>\n",
       "      <td>NaN</td>\n",
       "      <td>NaN</td>\n",
       "      <td>NaN</td>\n",
       "      <td>NaN</td>\n",
       "      <td>NaN</td>\n",
       "      <td>NaN</td>\n",
       "    </tr>\n",
       "  </tbody>\n",
       "</table>\n",
       "<p>5 rows × 53 columns</p>\n",
       "</div>"
      ],
      "text/plain": [
       "   SVAAS_ID  user_id firstName middleName lastName email  phone  description  \\\n",
       "0       NaN      NaN       NaN        NaN      NaN   NaN    NaN          NaN   \n",
       "1       NaN      NaN       NaN        NaN      NaN   NaN    NaN          NaN   \n",
       "2       NaN      NaN       NaN        NaN      NaN   NaN    NaN          NaN   \n",
       "3       NaN      NaN       NaN        NaN      NaN   NaN    NaN          NaN   \n",
       "4       NaN      NaN       NaN        NaN      NaN   NaN    NaN          NaN   \n",
       "\n",
       "   pan  mci  ... numberFollowUp followUpDuration insuranceProviderId isActive  \\\n",
       "0  NaN  NaN  ...            NaN              NaN                 NaN      NaN   \n",
       "1  NaN  NaN  ...            NaN              NaN                 NaN      NaN   \n",
       "2  NaN  NaN  ...            NaN              NaN                 NaN      NaN   \n",
       "3  NaN  NaN  ...            NaN              NaN                 NaN      NaN   \n",
       "4  NaN  NaN  ...            NaN              NaN                 NaN      NaN   \n",
       "\n",
       "  ABDM_Healthcare_Professional_ID SVAAS_DOCTOR_ID  svaasClinicId  \\\n",
       "0                             NaN             NaN            NaN   \n",
       "1                             NaN             NaN            NaN   \n",
       "2                             NaN             NaN            NaN   \n",
       "3                             NaN             NaN            NaN   \n",
       "4                             NaN             NaN            NaN   \n",
       "\n",
       "  tbl_user_phone_number  name location  \n",
       "0                   NaN   NaN      NaN  \n",
       "1                   NaN   NaN      NaN  \n",
       "2                   NaN   NaN      NaN  \n",
       "3                   NaN   NaN      NaN  \n",
       "4                   NaN   NaN      NaN  \n",
       "\n",
       "[5 rows x 53 columns]"
      ]
     },
     "execution_count": 2,
     "metadata": {},
     "output_type": "execute_result"
    }
   ],
   "source": [
    "df = pd.read_csv(\"google_review_29_08_v3.csv\")\n",
    "df.head()"
   ]
  },
  {
   "cell_type": "code",
   "execution_count": 3,
   "id": "2c48fe3d",
   "metadata": {},
   "outputs": [
    {
     "data": {
      "text/html": [
       "<div>\n",
       "<style scoped>\n",
       "    .dataframe tbody tr th:only-of-type {\n",
       "        vertical-align: middle;\n",
       "    }\n",
       "\n",
       "    .dataframe tbody tr th {\n",
       "        vertical-align: top;\n",
       "    }\n",
       "\n",
       "    .dataframe thead th {\n",
       "        text-align: right;\n",
       "    }\n",
       "</style>\n",
       "<table border=\"1\" class=\"dataframe\">\n",
       "  <thead>\n",
       "    <tr style=\"text-align: right;\">\n",
       "      <th></th>\n",
       "      <th>SVAAS_ID</th>\n",
       "      <th>firstName</th>\n",
       "      <th>lastName</th>\n",
       "      <th>name</th>\n",
       "      <th>baseCity</th>\n",
       "    </tr>\n",
       "  </thead>\n",
       "  <tbody>\n",
       "    <tr>\n",
       "      <th>0</th>\n",
       "      <td>NaN</td>\n",
       "      <td>NaN</td>\n",
       "      <td>NaN</td>\n",
       "      <td>NaN</td>\n",
       "      <td>NaN</td>\n",
       "    </tr>\n",
       "    <tr>\n",
       "      <th>1</th>\n",
       "      <td>NaN</td>\n",
       "      <td>NaN</td>\n",
       "      <td>NaN</td>\n",
       "      <td>NaN</td>\n",
       "      <td>NaN</td>\n",
       "    </tr>\n",
       "    <tr>\n",
       "      <th>2</th>\n",
       "      <td>NaN</td>\n",
       "      <td>NaN</td>\n",
       "      <td>NaN</td>\n",
       "      <td>NaN</td>\n",
       "      <td>NaN</td>\n",
       "    </tr>\n",
       "    <tr>\n",
       "      <th>3</th>\n",
       "      <td>NaN</td>\n",
       "      <td>NaN</td>\n",
       "      <td>NaN</td>\n",
       "      <td>NaN</td>\n",
       "      <td>NaN</td>\n",
       "    </tr>\n",
       "    <tr>\n",
       "      <th>4</th>\n",
       "      <td>NaN</td>\n",
       "      <td>NaN</td>\n",
       "      <td>NaN</td>\n",
       "      <td>NaN</td>\n",
       "      <td>NaN</td>\n",
       "    </tr>\n",
       "  </tbody>\n",
       "</table>\n",
       "</div>"
      ],
      "text/plain": [
       "   SVAAS_ID firstName lastName name baseCity\n",
       "0       NaN       NaN      NaN  NaN      NaN\n",
       "1       NaN       NaN      NaN  NaN      NaN\n",
       "2       NaN       NaN      NaN  NaN      NaN\n",
       "3       NaN       NaN      NaN  NaN      NaN\n",
       "4       NaN       NaN      NaN  NaN      NaN"
      ]
     },
     "execution_count": 3,
     "metadata": {},
     "output_type": "execute_result"
    }
   ],
   "source": [
    "df = df[['SVAAS_ID', 'firstName', 'lastName', 'name', 'baseCity']]\n",
    "df.head()"
   ]
  },
  {
   "cell_type": "code",
   "execution_count": 4,
   "id": "6e5eec07",
   "metadata": {},
   "outputs": [],
   "source": [
    "df_not_missing = df.dropna()"
   ]
  },
  {
   "cell_type": "code",
   "execution_count": 5,
   "id": "bbf3e6ea",
   "metadata": {},
   "outputs": [
    {
     "data": {
      "text/html": [
       "<div>\n",
       "<style scoped>\n",
       "    .dataframe tbody tr th:only-of-type {\n",
       "        vertical-align: middle;\n",
       "    }\n",
       "\n",
       "    .dataframe tbody tr th {\n",
       "        vertical-align: top;\n",
       "    }\n",
       "\n",
       "    .dataframe thead th {\n",
       "        text-align: right;\n",
       "    }\n",
       "</style>\n",
       "<table border=\"1\" class=\"dataframe\">\n",
       "  <thead>\n",
       "    <tr style=\"text-align: right;\">\n",
       "      <th></th>\n",
       "      <th>SVAAS_ID</th>\n",
       "      <th>firstName</th>\n",
       "      <th>lastName</th>\n",
       "      <th>name</th>\n",
       "      <th>baseCity</th>\n",
       "    </tr>\n",
       "  </thead>\n",
       "  <tbody>\n",
       "    <tr>\n",
       "      <th>17</th>\n",
       "      <td>3.0</td>\n",
       "      <td>Divya</td>\n",
       "      <td>Kavuri</td>\n",
       "      <td>Apollo Clinic</td>\n",
       "      <td>Hyderabad</td>\n",
       "    </tr>\n",
       "    <tr>\n",
       "      <th>18</th>\n",
       "      <td>4.0</td>\n",
       "      <td>Shivam</td>\n",
       "      <td>P</td>\n",
       "      <td>Shivam hospitals</td>\n",
       "      <td>Hyderabad</td>\n",
       "    </tr>\n",
       "    <tr>\n",
       "      <th>19</th>\n",
       "      <td>5.0</td>\n",
       "      <td>Ranjan</td>\n",
       "      <td>Dey</td>\n",
       "      <td>Ranjan skin clinics</td>\n",
       "      <td>Hyderabad</td>\n",
       "    </tr>\n",
       "    <tr>\n",
       "      <th>20</th>\n",
       "      <td>6.0</td>\n",
       "      <td>Soumya</td>\n",
       "      <td>Sarkar</td>\n",
       "      <td>Soumya Multi speciality clinic</td>\n",
       "      <td>Hyderabad</td>\n",
       "    </tr>\n",
       "    <tr>\n",
       "      <th>21</th>\n",
       "      <td>7.0</td>\n",
       "      <td>Rishanku</td>\n",
       "      <td>Goyal</td>\n",
       "      <td>RKG Eye Center</td>\n",
       "      <td>Hyderabad</td>\n",
       "    </tr>\n",
       "  </tbody>\n",
       "</table>\n",
       "</div>"
      ],
      "text/plain": [
       "    SVAAS_ID firstName lastName                            name   baseCity\n",
       "17       3.0     Divya   Kavuri                   Apollo Clinic  Hyderabad\n",
       "18       4.0    Shivam        P                Shivam hospitals  Hyderabad\n",
       "19       5.0    Ranjan      Dey             Ranjan skin clinics  Hyderabad\n",
       "20       6.0    Soumya   Sarkar  Soumya Multi speciality clinic  Hyderabad\n",
       "21       7.0  Rishanku    Goyal                  RKG Eye Center  Hyderabad"
      ]
     },
     "execution_count": 5,
     "metadata": {},
     "output_type": "execute_result"
    }
   ],
   "source": [
    "df_not_missing.head()"
   ]
  },
  {
   "cell_type": "code",
   "execution_count": 6,
   "id": "bb40a816",
   "metadata": {},
   "outputs": [
    {
     "data": {
      "text/plain": [
       "SVAAS_ID     0\n",
       "firstName    0\n",
       "lastName     0\n",
       "name         0\n",
       "baseCity     0\n",
       "dtype: int64"
      ]
     },
     "execution_count": 6,
     "metadata": {},
     "output_type": "execute_result"
    }
   ],
   "source": [
    "df_not_missing.isna().sum()"
   ]
  },
  {
   "cell_type": "code",
   "execution_count": 7,
   "id": "33480c13",
   "metadata": {},
   "outputs": [
    {
     "data": {
      "text/plain": [
       "0.9879032258064516"
      ]
     },
     "execution_count": 7,
     "metadata": {},
     "output_type": "execute_result"
    }
   ],
   "source": [
    "len(df_not_missing)/len(df)"
   ]
  },
  {
   "cell_type": "code",
   "execution_count": 8,
   "id": "909ded9e",
   "metadata": {},
   "outputs": [
    {
     "name": "stderr",
     "output_type": "stream",
     "text": [
      "/var/folders/z1/0tn2v83n6pzgl2m8lzz1phbc0000gn/T/ipykernel_90802/4047833984.py:1: SettingWithCopyWarning: \n",
      "A value is trying to be set on a copy of a slice from a DataFrame.\n",
      "Try using .loc[row_indexer,col_indexer] = value instead\n",
      "\n",
      "See the caveats in the documentation: https://pandas.pydata.org/pandas-docs/stable/user_guide/indexing.html#returning-a-view-versus-a-copy\n",
      "  df_not_missing['query'] = df_not_missing['firstName'].apply(lambda x:x.lower()) +\"+\" + df_not_missing['lastName'].apply(lambda x:x.lower()) \\\n"
     ]
    }
   ],
   "source": [
    "df_not_missing['query'] = df_not_missing['firstName'].apply(lambda x:x.lower()) +\"+\" + df_not_missing['lastName'].apply(lambda x:x.lower()) \\\n",
    "                          +\"+\"+ df_not_missing['name'].apply(lambda x:x.lower()) + \"+\" + df_not_missing[\"baseCity\"].apply(lambda x:x.lower())"
   ]
  },
  {
   "cell_type": "code",
   "execution_count": 9,
   "id": "7683467c",
   "metadata": {},
   "outputs": [
    {
     "data": {
      "text/plain": [
       "(1715,)"
      ]
     },
     "execution_count": 9,
     "metadata": {},
     "output_type": "execute_result"
    }
   ],
   "source": [
    "df_not_missing['query'].values.shape"
   ]
  },
  {
   "cell_type": "markdown",
   "id": "8836fa3d",
   "metadata": {},
   "source": [
    "## For missing data"
   ]
  },
  {
   "cell_type": "code",
   "execution_count": 10,
   "id": "c0470c89",
   "metadata": {},
   "outputs": [],
   "source": [
    "import preprocess_kgptalkie as ps\n",
    "import re\n",
    "\n",
    "def get_clean(x):\n",
    "    x = str(x).lower().replace('\\\\', '').replace('_', ' ')\n",
    "    x = ps.cont_exp(x)\n",
    "    x = ps.remove_emails(x)\n",
    "    x = ps.remove_urls(x)\n",
    "    x = ps.remove_html_tags(x)\n",
    "    x = ps.remove_rt(x)\n",
    "    x = ps.remove_accented_chars(x)\n",
    "    x = ps.remove_special_chars(x)\n",
    "    x = re.sub(\"(.)\\\\1{2,}\", \"\\\\1\", x)\n",
    "    return x\n",
    "\n",
    "\n"
   ]
  },
  {
   "cell_type": "code",
   "execution_count": 11,
   "id": "4100283b",
   "metadata": {},
   "outputs": [
    {
     "name": "stderr",
     "output_type": "stream",
     "text": [
      "/var/folders/z1/0tn2v83n6pzgl2m8lzz1phbc0000gn/T/ipykernel_90802/4195452832.py:1: SettingWithCopyWarning: \n",
      "A value is trying to be set on a copy of a slice from a DataFrame.\n",
      "Try using .loc[row_indexer,col_indexer] = value instead\n",
      "\n",
      "See the caveats in the documentation: https://pandas.pydata.org/pandas-docs/stable/user_guide/indexing.html#returning-a-view-versus-a-copy\n",
      "  df_not_missing['SVAAS_ID'] = df_not_missing['SVAAS_ID'].astype('int')\n"
     ]
    }
   ],
   "source": [
    "df_not_missing['SVAAS_ID'] = df_not_missing['SVAAS_ID'].astype('int')"
   ]
  },
  {
   "cell_type": "code",
   "execution_count": 12,
   "id": "e2eafedb",
   "metadata": {},
   "outputs": [
    {
     "name": "stderr",
     "output_type": "stream",
     "text": [
      "/var/folders/z1/0tn2v83n6pzgl2m8lzz1phbc0000gn/T/ipykernel_90802/153722280.py:1: SettingWithCopyWarning: \n",
      "A value is trying to be set on a copy of a slice from a DataFrame.\n",
      "Try using .loc[row_indexer,col_indexer] = value instead\n",
      "\n",
      "See the caveats in the documentation: https://pandas.pydata.org/pandas-docs/stable/user_guide/indexing.html#returning-a-view-versus-a-copy\n",
      "  df_not_missing['query'] = df_not_missing['query'].apply(lambda x:ps.remove_accented_chars(x))\n"
     ]
    },
    {
     "data": {
      "text/plain": [
       "17                 divya+kavuri+apollo clinic+hyderabad\n",
       "18                  shivam+p+shivam hospitals+hyderabad\n",
       "19             ranjan+dey+ranjan skin clinics+hyderabad\n",
       "20    soumya+sarkar+soumya multi speciality clinic+h...\n",
       "21              rishanku+goyal+rkg eye center+hyderabad\n",
       "Name: query, dtype: object"
      ]
     },
     "execution_count": 12,
     "metadata": {},
     "output_type": "execute_result"
    }
   ],
   "source": [
    "df_not_missing['query'] = df_not_missing['query'].apply(lambda x:ps.remove_accented_chars(x))\n",
    "df_not_missing['query'].head()"
   ]
  },
  {
   "cell_type": "code",
   "execution_count": 13,
   "id": "6bd5d1c1",
   "metadata": {},
   "outputs": [],
   "source": [
    "from collections import defaultdict\n",
    "\n",
    "final_df = defaultdict(list)"
   ]
  },
  {
   "cell_type": "code",
   "execution_count": 14,
   "id": "82cc7b64",
   "metadata": {},
   "outputs": [],
   "source": [
    "def isDigit(char):\n",
    "    pattern = \"^[-+]?[0-9]*\\.?[0-9]+(e[-+]?[0-9]+)?$\"\n",
    "    reg = re.compile(pattern)\n",
    "    if reg.match(char):\n",
    "        return True\n",
    "    return False"
   ]
  },
  {
   "cell_type": "code",
   "execution_count": 15,
   "id": "974664b5",
   "metadata": {},
   "outputs": [],
   "source": [
    "import requests\n",
    "from bs4 import BeautifulSoup\n",
    "import re\n",
    "\n",
    "def getLinkFromUrl(query):\n",
    "    link_values = []\n",
    "    cleaned_links = []\n",
    "    page = requests.get(query)\n",
    "    soup = BeautifulSoup(page.content)\n",
    "    links = soup.findAll(\"a\")\n",
    "    for link in  soup.find_all(\"a\",href=re.compile(\"(?<=/url\\?q=)(htt.*://.*)\")):\n",
    "        url = re.split(\":(?=http)\",link[\"href\"].replace(\"/url?q=\",\"\"))\n",
    "        link_values.append(str(url[0]))\n",
    "        \n",
    "    return link_values "
   ]
  },
  {
   "cell_type": "code",
   "execution_count": 16,
   "id": "a7f4e201",
   "metadata": {},
   "outputs": [],
   "source": [
    "links = getLinkFromUrl(query=\"https://google.com/search?q=shivam+p+shivam+hospitals+hyderabad\")"
   ]
  },
  {
   "cell_type": "code",
   "execution_count": 17,
   "id": "fa6f9898",
   "metadata": {},
   "outputs": [
    {
     "name": "stdout",
     "output_type": "stream",
     "text": [
      "https://www.justdial.com/Hyderabad/Shivam-Clinic-Near-Hanuman-Temple-Kukatpally/040PXX40-XX40-140310200923-M5T7_BZDET\n",
      "https://www.justdial.com/Hyderabad/Shivam-Clinic-Obg-Gynecology-and-Orthopedics-Near-Y-Junction-Kukatpally/040PXX40-XX40-150727214202-J1K7_BZDET\n",
      "https://www.practo.com/hyderabad/clinic/shivam-clinic-kphb\n",
      "https://drlogy.com/hospitals/shivam-clinic-23676\n",
      "https://www.lybrate.com/hyderabad/clinic/shivam-clinic-kphb\n",
      "https://www.timesmed.com/Hospital/Hyderabad/shivam-clinic-115461\n",
      "https://www.drmsanjayortho.com/\n",
      "https://ezz.health/hyderabad/hospitals/shivam-clinic-kukatpally\n",
      "https://theshivamhospital.in/\n",
      "http://www.shivamhospital.in/\n",
      "https://support.google.com/websearch\n",
      "https://accounts.google.com/ServiceLogin\n"
     ]
    }
   ],
   "source": [
    "for l in links:\n",
    "    if \"%\" in l:\n",
    "        link = l.split(\"%\")[0]\n",
    "        print(link)\n",
    "    elif \"&\" in l:\n",
    "        link = l.split(\"&\")[0]\n",
    "        print(link)"
   ]
  },
  {
   "cell_type": "code",
   "execution_count": 18,
   "id": "865468a8",
   "metadata": {},
   "outputs": [],
   "source": [
    "from bs4 import BeautifulSoup\n",
    "import urllib.request\n",
    "import numpy as np\n",
    "import requests\n",
    "import re\n",
    "\n",
    "    \n",
    "\n",
    "query=\"https://google.com/search?q=shivam+p+shivam+hospitals+hyderabad\"\n",
    "\n",
    "request = urllib.request.Request(query)\n",
    "request.add_header('User-Agent', 'Mozilla/5.0 (Macintosh; Intel Mac OS X 10_15_6) AppleWebKit/537.36 (KHTML, like Gecko) Chrome/87.0.4280.88 Safari/537.36')\n",
    "raw_response = urllib.request.urlopen(request).read()\n",
    "\n",
    "html = raw_response.decode(\"utf-8\")\n",
    "\n",
    "soup = BeautifulSoup(html, 'html.parser')\n",
    "\n",
    "links = soup.findAll(\"a\")\n",
    "for link in  soup.find_all(\"a\",href=re.compile(\"(?<=/url\\?q=)(htt.*://.*)\")):\n",
    "    print(re.split(\":(?=http)\",link[\"href\"].replace(\"/url?q=\",\"\")))\n"
   ]
  },
  {
   "cell_type": "code",
   "execution_count": 19,
   "id": "3732d754",
   "metadata": {},
   "outputs": [
    {
     "data": {
      "text/plain": [
       "True"
      ]
     },
     "execution_count": 19,
     "metadata": {},
     "output_type": "execute_result"
    }
   ],
   "source": [
    "\"practo\" in \"practo.com\""
   ]
  },
  {
   "cell_type": "code",
   "execution_count": 20,
   "id": "187c9c4c",
   "metadata": {},
   "outputs": [
    {
     "name": "stdout",
     "output_type": "stream",
     "text": [
      "Dr. Divya Varikallu\n",
      "General Practitioner\n",
      "61B, Sri Ram Nagar Colony, Botanical Garden Road, Landmark: Beside Lane of Burfighar Sweet Shop &  State Bank of India Lane, Hyderabad\n"
     ]
    }
   ],
   "source": [
    "from bs4 import BeautifulSoup\n",
    "import urllib.request\n",
    "import numpy as np\n",
    "from googlesearch import search   \n",
    "\n",
    "url = \"https://www.practo.com/hyderabad/doctor/divya-varikallu-general-practitioner\"\n",
    "request = urllib.request.Request(url)\n",
    "\n",
    "request.add_header('User-Agent', 'your bot 0.1')\n",
    "raw_response = urllib.request.urlopen(request).read()\n",
    "\n",
    "html = raw_response.decode(\"utf-8\")\n",
    "\n",
    "soup = BeautifulSoup(html, 'html.parser')\n",
    "\n",
    "heading = soup.find(\"h1\")\n",
    "speciality = soup.find(\"h2\", class_=\"u-d-inlineblock u-spacer--right-v-thin c-profile__details\")\n",
    "rating = soup.find(\"span\", class_=\"u-green-text u-bold u-large-font\")\n",
    "votes = soup.find(\"span\", class_=\"u-smallest-font u-grey_3-text\")\n",
    "address = soup.find(\"p\", class_=\"c-profile--clinic__address\")\n",
    "\n",
    "print(heading.get_text())\n",
    "print(speciality.get_text())\n",
    "# print(rating.get_text())\n",
    "# print(votes.get_text().strip(\")\").strip(\"(\"))\n",
    "print(address.get_text())\n"
   ]
  },
  {
   "cell_type": "code",
   "execution_count": 21,
   "id": "1350e677",
   "metadata": {},
   "outputs": [
    {
     "data": {
      "text/plain": [
       "17                      divyakavuriapollo clinichyderabad\n",
       "18                       shivampshivam hospitalshyderabad\n",
       "19                  ranjandeyranjan skin clinicshyderabad\n",
       "20      soumyasarkarsoumya multi speciality clinichyde...\n",
       "21                   rishankugoyalrkg eye centerhyderabad\n",
       "                              ...                        \n",
       "1731    kushangmodshivam children hospital and neonata...\n",
       "1732              dhavalakhanichildhood hospitalahmedabad\n",
       "1733    keval patelpateljk dental hospital orthodontic...\n",
       "1734    jinal patelpateljk dental hospital orthodontic...\n",
       "1735                      lavanyayasamsai clinichyderabad\n",
       "Name: query, Length: 1715, dtype: object"
      ]
     },
     "execution_count": 21,
     "metadata": {},
     "output_type": "execute_result"
    }
   ],
   "source": [
    "df_not_missing['query'].apply(lambda x:ps.remove_special_chars(x))"
   ]
  },
  {
   "cell_type": "code",
   "execution_count": 22,
   "id": "a6839852",
   "metadata": {},
   "outputs": [
    {
     "data": {
      "text/plain": [
       "False"
      ]
     },
     "execution_count": 22,
     "metadata": {},
     "output_type": "execute_result"
    }
   ],
   "source": [
    "set([\"doctor\"]).issubset(set(list(map(str.lower, link.split(\"/\")))))"
   ]
  },
  {
   "cell_type": "code",
   "execution_count": 23,
   "id": "c06e3a20",
   "metadata": {},
   "outputs": [],
   "source": [
    "from bs4 import BeautifulSoup\n",
    "import urllib.request\n",
    "import numpy as np\n",
    "from googlesearch import search   \n",
    "\n",
    "\n",
    "def extractReviews(df_not_missing):\n",
    "    queries = df_not_missing['query'].values\n",
    "\n",
    "    for i in tqdm(range(len(queries))):\n",
    "        query = queries[i]\n",
    "        query = \"+\".join(query.split(\" \"))\n",
    "        url = 'https://google.com/search?q=dr+'+query\n",
    "        \n",
    "        print(url)\n",
    "        \n",
    "        links = [link for link in getLinkFromUrl(url) if \"practo\" in link]\n",
    "        if len(links)>0:\n",
    "            link = links[0]\n",
    "            print(links[0])\n",
    "\n",
    "            if \"&\" in link:\n",
    "                print(link.split(\"&\"))\n",
    "                link_w = link.split(\"&\")[0]\n",
    "                link_w = '/'.join(i for i in link_w.split(\"/\") if not i.isdigit())\n",
    "            elif \"%\" in link:\n",
    "                print(link.split(\"%\"))\n",
    "                link_w = link.split(\"%\")[0]\n",
    "                link_w = '/'.join(i for i in link_w.split(\"/\") if not i.isdigit())\n",
    "            \n",
    "            \n",
    "            print(\"Link searched for: \", link_w)                    \n",
    "            print(\"*\" * 50)\n",
    "            \n",
    "            \n",
    "            \n",
    "            # Encoding the utf-values here by unquoting them\n",
    "            link_w = requests.utils.unquote(link_w)\n",
    "\n",
    "            request = urllib.request.Request(link_w)\n",
    "            request.add_header('User-Agent', 'Mozilla/5.0 (Macintosh; Intel Mac OS X 10_15_6) AppleWebKit/537.36 (KHTML, like Gecko) Chrome/87.0.4280.88 Safari/537.36')\n",
    "\n",
    "\n",
    "\n",
    "            raw_response = urllib.request.urlopen(request).read()\n",
    "            # Read the repsonse as a utf-8 string\n",
    "            html = raw_response.decode(\"utf-8\")\n",
    "\n",
    "            soup = BeautifulSoup(html, 'html.parser')\n",
    "\n",
    "            heading = soup.find(\"h1\")\n",
    "\n",
    "            # Dr data\n",
    "            speciality = soup.find(\"h2\", class_=\"u-d-inlineblock u-spacer--right-v-thin c-profile__details\")\n",
    "            rating = soup.find(\"span\", class_=\"u-green-text u-bold u-large-font\")\n",
    "            votes = soup.find(\"span\", class_=\"u-smallest-font u-grey_3-text\")\n",
    "            address = soup.find(\"p\", class_=\"c-profile--clinic__address\")\n",
    "\n",
    "            # clinic data\n",
    "            speciality_cl = soup.find(\"h2\", attrs={\n",
    "                \"data-qa-id\":\"clinic-speciality\"\n",
    "            })\n",
    "            rating_cl = soup.find(\"span\", class_=\"common__star-rating__value\")\n",
    "            votes_cl = soup.find(\"span\", attrs={\n",
    "                \"data-qa-id\":\"clinic-votes\"\n",
    "            })\n",
    "            address_cl = soup.find(\"p\", class_=\"c-profile--clinic__address\")\n",
    "\n",
    "            final_df['SVAAS_ID'].append(df_not_missing.iloc[i]['SVAAS_ID'])\n",
    "            final_df['link'].append(link_w)\n",
    "\n",
    "\n",
    "            if heading is not None:\n",
    "                print(\"Name: \", heading.get_text())\n",
    "                final_df['name'].append(heading.get_text())\n",
    "            else:\n",
    "                print(\"Heading is not availble\")\n",
    "                final_df['name'].append(\"NA\")\n",
    "\n",
    "            if speciality is not None:\n",
    "                print(\"Speciality: \", speciality.get_text())\n",
    "                final_df['speciality'].append(speciality.get_text())\n",
    "            elif speciality_cl is not None:\n",
    "                print(\"Speciality: \", speciality_cl.get_text())\n",
    "                final_df['speciality'].append(speciality_cl.get_text())\n",
    "            else:\n",
    "                print(\"Speciality is not available.\")\n",
    "                final_df['speciality'].append(\"NA\")\n",
    "\n",
    "            if rating is not None:\n",
    "                print(\"Rating: \", rating.get_text())\n",
    "                final_df['rating'].append(rating.get_text())\n",
    "            elif rating_cl is not None:\n",
    "                print(\"Rating: \", rating_cl.get_text())\n",
    "                final_df['rating'].append(rating_cl.get_text())\n",
    "            else:\n",
    "                print(\"Rating not available.\")\n",
    "                final_df[\"rating\"].append(\"NA\")\n",
    "\n",
    "            if votes is not None:\n",
    "                print(\"Name: \", votes.get_text())\n",
    "                final_df['votes'].append(votes.get_text())\n",
    "            elif votes_cl is not None:\n",
    "                print(\"Name: \", votes_cl.get_text())\n",
    "                final_df['votes'].append(votes_cl.get_text())\n",
    "            else:\n",
    "                print(\"Votes are not available.\")\n",
    "                final_df['votes'].append(\"NA\")\n",
    "\n",
    "\n",
    "            if address is not None:\n",
    "                print(\"Address: \", address.get_text())\n",
    "                final_df['address'].append(address.get_text())\n",
    "            elif address_cl is not None:\n",
    "                print(\"Address: \", address_cl.get_text())\n",
    "                final_df['address'].append(address_cl.get_text())\n",
    "            else:\n",
    "                final_df['address'].append(\"NA\")\n",
    "        else:\n",
    "            print(\"Couldn't find any practo links.\")\n",
    "\n",
    "                        \n",
    "                       \n",
    "    return final_df"
   ]
  },
  {
   "cell_type": "code",
   "execution_count": null,
   "id": "f3359b65",
   "metadata": {},
   "outputs": [
    {
     "name": "stderr",
     "output_type": "stream",
     "text": [
      "\r",
      "  0%|                                                  | 0/1715 [00:00<?, ?it/s]"
     ]
    },
    {
     "name": "stdout",
     "output_type": "stream",
     "text": [
      "https://google.com/search?q=dr+divya+kavuri+apollo+clinic+hyderabad\n",
      "https://www.practo.com/hyderabad/doctor/divya-varikallu-general-practitioner&sa=U&ved=2ahUKEwiV3pGArvr5AhVYi1wKHSwNDHYQFnoECAQQAg&usg=AOvVaw0_rNwAlxdE1ODqNItJCGBY\n",
      "['https://www.practo.com/hyderabad/doctor/divya-varikallu-general-practitioner', 'sa=U', 'ved=2ahUKEwiV3pGArvr5AhVYi1wKHSwNDHYQFnoECAQQAg', 'usg=AOvVaw0_rNwAlxdE1ODqNItJCGBY']\n",
      "Link searched for:  https://www.practo.com/hyderabad/doctor/divya-varikallu-general-practitioner\n",
      "**************************************************\n"
     ]
    },
    {
     "name": "stderr",
     "output_type": "stream",
     "text": [
      "\r",
      "  0%|                                        | 1/1715 [00:05<2:31:13,  5.29s/it]"
     ]
    },
    {
     "name": "stdout",
     "output_type": "stream",
     "text": [
      "Name:  Dr. Divya Varikallu\n",
      "Speciality:  General Practitioner\n",
      "Rating:  5.0\n",
      "Votes are not available.\n",
      "Address:  61B, Sri Ram Nagar Colony, Botanical Garden Road, Landmark: Beside Lane of Burfighar Sweet Shop &  State Bank of India Lane, Hyderabad\n",
      "https://google.com/search?q=dr+shivam+p+shivam+hospitals+hyderabad\n",
      "https://www.practo.com/hyderabad/clinic/shivam-clinic-kphb&sa=U&ved=2ahUKEwi8s9WCrvr5AhXJS0EAHQglBXAQFnoECAEQAg&usg=AOvVaw0aD0VzeGAiuZgtLDpoYFRm\n",
      "['https://www.practo.com/hyderabad/clinic/shivam-clinic-kphb', 'sa=U', 'ved=2ahUKEwi8s9WCrvr5AhXJS0EAHQglBXAQFnoECAEQAg', 'usg=AOvVaw0aD0VzeGAiuZgtLDpoYFRm']\n",
      "Link searched for:  https://www.practo.com/hyderabad/clinic/shivam-clinic-kphb\n",
      "**************************************************\n"
     ]
    },
    {
     "name": "stderr",
     "output_type": "stream",
     "text": [
      "\r",
      "  0%|                                        | 2/1715 [00:10<2:25:56,  5.11s/it]"
     ]
    },
    {
     "name": "stdout",
     "output_type": "stream",
     "text": [
      "Name:  Shivam Clinic\n",
      "Speciality:  Orthopedics and Gynecology/Obstetrics Clinic\n",
      "Rating:  4.5\n",
      "Name:  (20 patient stories)\n",
      "Address:  22-1-81/2, Shop Number 9&10, Sree Nivasam, Y Junction, Shubodaya Colony, Kukatpally, Landmark: Near Hunaman Temple, Hyderabad\n",
      "https://google.com/search?q=dr+ranjan+dey+ranjan+skin+clinics+hyderabad\n",
      "https://www.practo.com/kolkata/doctor/ranjan-kumar-dey-urologist/recommended&sa=U&ved=2ahUKEwjm3Z-Frvr5AhXGilwKHfBQBKEQFnoECAUQAg&usg=AOvVaw2n6bD3n6sdQ7bxFH_LcHv9\n",
      "['https://www.practo.com/kolkata/doctor/ranjan-kumar-dey-urologist/recommended', 'sa=U', 'ved=2ahUKEwjm3Z-Frvr5AhXGilwKHfBQBKEQFnoECAUQAg', 'usg=AOvVaw2n6bD3n6sdQ7bxFH_LcHv9']\n",
      "Link searched for:  https://www.practo.com/kolkata/doctor/ranjan-kumar-dey-urologist/recommended\n",
      "**************************************************\n"
     ]
    },
    {
     "name": "stderr",
     "output_type": "stream",
     "text": [
      "\r",
      "  0%|                                        | 3/1715 [00:13<2:07:30,  4.47s/it]"
     ]
    },
    {
     "name": "stdout",
     "output_type": "stream",
     "text": [
      "Name:  Dr. Ranjan Kumar Dey\n",
      "Speciality:  Urologist\n",
      "Rating:  94% \n",
      "Name:  (184 votes)\n",
      "https://google.com/search?q=dr+soumya+sarkar+soumya+multi+speciality+clinic+hyderabad\n",
      "https://www.practo.com/kolkata/hospital/b-p-poddar-hospital-medical-research-new-alipore&sa=U&ved=2ahUKEwielZ2Hrvr5AhVlQEEAHTMXD2MQFnoECAEQAg&usg=AOvVaw0OiVcQaH71zvePeSnpE-5U\n",
      "['https://www.practo.com/kolkata/hospital/b-p-poddar-hospital-medical-research-new-alipore', 'sa=U', 'ved=2ahUKEwielZ2Hrvr5AhVlQEEAHTMXD2MQFnoECAEQAg', 'usg=AOvVaw0OiVcQaH71zvePeSnpE-5U']\n",
      "Link searched for:  https://www.practo.com/kolkata/hospital/b-p-poddar-hospital-medical-research-new-alipore\n",
      "**************************************************\n"
     ]
    },
    {
     "name": "stderr",
     "output_type": "stream",
     "text": [
      "\r",
      "  0%|                                        | 4/1715 [00:18<2:08:48,  4.52s/it]"
     ]
    },
    {
     "name": "stdout",
     "output_type": "stream",
     "text": [
      "Name:  B P Poddar Hospital & Medical Research\n",
      "Speciality is not available.\n",
      "Rating not available.\n",
      "Votes are not available.\n",
      "https://google.com/search?q=dr+rishanku+goyal+rkg+eye+center+hyderabad\n"
     ]
    },
    {
     "name": "stderr",
     "output_type": "stream",
     "text": [
      "\r",
      "  0%|                                        | 5/1715 [00:22<2:05:01,  4.39s/it]"
     ]
    },
    {
     "name": "stdout",
     "output_type": "stream",
     "text": [
      "Couldn't find any practo links.\n",
      "https://google.com/search?q=dr+mamatha+r+mamatha+clinics+hyderabad\n",
      "https://www.practo.com/hyderabad/doctor/mamatha-4-general-physician&sa=U&ved=2ahUKEwipyuaLrvr5AhVvqpUCHX_3BvoQFnoECAIQAg&usg=AOvVaw0o_6MyFAQLDk9F5Qc_FxIz\n",
      "['https://www.practo.com/hyderabad/doctor/mamatha-4-general-physician', 'sa=U', 'ved=2ahUKEwipyuaLrvr5AhVvqpUCHX_3BvoQFnoECAIQAg', 'usg=AOvVaw0o_6MyFAQLDk9F5Qc_FxIz']\n",
      "Link searched for:  https://www.practo.com/hyderabad/doctor/mamatha-4-general-physician\n",
      "**************************************************\n"
     ]
    },
    {
     "name": "stderr",
     "output_type": "stream",
     "text": [
      "\r",
      "  0%|▏                                       | 6/1715 [00:27<2:12:52,  4.67s/it]"
     ]
    },
    {
     "name": "stdout",
     "output_type": "stream",
     "text": [
      "Name:  Dr. Mamatha\n",
      "Speciality:  General Physician\n",
      "Rating not available.\n",
      "Votes are not available.\n",
      "https://google.com/search?q=dr+ravi+pallapolu+sai+keerthi+children+and+dental+clinic+hyderabad\n"
     ]
    },
    {
     "name": "stderr",
     "output_type": "stream",
     "text": [
      "\r",
      "  0%|▏                                       | 7/1715 [00:32<2:07:45,  4.49s/it]"
     ]
    },
    {
     "name": "stdout",
     "output_type": "stream",
     "text": [
      "Couldn't find any practo links.\n",
      "https://google.com/search?q=dr+b++ramesh+aditya+medical+complex+visakhapatnam\n",
      "https://www.practo.com/visakhapatnam/doctor/dr-b-ramesh-1-psychiatrist&sa=U&ved=2ahUKEwipraCQrvr5AhVTK7kGHRyKAVsQFnoECAIQAg&usg=AOvVaw1SRB7QUAqLRTYuLahrrBcC\n",
      "['https://www.practo.com/visakhapatnam/doctor/dr-b-ramesh-1-psychiatrist', 'sa=U', 'ved=2ahUKEwipraCQrvr5AhVTK7kGHRyKAVsQFnoECAIQAg', 'usg=AOvVaw1SRB7QUAqLRTYuLahrrBcC']\n",
      "Link searched for:  https://www.practo.com/visakhapatnam/doctor/dr-b-ramesh-1-psychiatrist\n",
      "**************************************************\n"
     ]
    },
    {
     "name": "stderr",
     "output_type": "stream",
     "text": [
      "\r",
      "  0%|▏                                       | 8/1715 [00:37<2:12:24,  4.65s/it]"
     ]
    },
    {
     "name": "stdout",
     "output_type": "stream",
     "text": [
      "Name:  Dr. B Ramesh\n",
      "Speciality:  Neuropsychiatrist\n",
      "Rating not available.\n",
      "Votes are not available.\n",
      "Address:  Sainath Plaza, Maharanipeta, Landmark: Opp KGH Clock Tower., Visakhapatnam\n",
      "https://google.com/search?q=dr+v+v++satya+sekhar+mamata+hospital+visakhapatnam\n"
     ]
    },
    {
     "name": "stderr",
     "output_type": "stream",
     "text": [
      "\r",
      "  1%|▏                                       | 9/1715 [00:39<1:48:39,  3.82s/it]"
     ]
    },
    {
     "name": "stdout",
     "output_type": "stream",
     "text": [
      "Couldn't find any practo links.\n",
      "https://google.com/search?q=dr+v+ravi+chandra+sg+ortho+care+visakhapatnam\n"
     ]
    },
    {
     "name": "stderr",
     "output_type": "stream",
     "text": [
      "\r",
      "  1%|▏                                      | 10/1715 [00:42<1:47:41,  3.79s/it]"
     ]
    },
    {
     "name": "stdout",
     "output_type": "stream",
     "text": [
      "Couldn't find any practo links.\n",
      "https://google.com/search?q=dr+l+s++appala+naidu+visakha+multispeciality+clinics+visakhapatnam\n",
      "https://www.practo.com/visakhapatnam/doctor/dr-appala-naidu-l-s-cardiologist&sa=U&ved=2ahUKEwjj2K6Vrvr5AhVfBbkGHfBWDwEQFnoECAoQAg&usg=AOvVaw1stgydFpx8XRAMLhe_LUo1\n",
      "['https://www.practo.com/visakhapatnam/doctor/dr-appala-naidu-l-s-cardiologist', 'sa=U', 'ved=2ahUKEwjj2K6Vrvr5AhVfBbkGHfBWDwEQFnoECAoQAg', 'usg=AOvVaw1stgydFpx8XRAMLhe_LUo1']\n",
      "Link searched for:  https://www.practo.com/visakhapatnam/doctor/dr-appala-naidu-l-s-cardiologist\n",
      "**************************************************\n"
     ]
    },
    {
     "name": "stderr",
     "output_type": "stream",
     "text": [
      "\r",
      "  1%|▎                                      | 11/1715 [00:48<2:00:20,  4.24s/it]"
     ]
    },
    {
     "name": "stdout",
     "output_type": "stream",
     "text": [
      "Name:  Dr. Appala Naidu L S\n",
      "Speciality:  General Physician\n",
      "Rating not available.\n",
      "Votes are not available.\n",
      "https://google.com/search?q=dr+v++chandra+sekharam+chandra+sekharam+clinic+visakhapatnam\n"
     ]
    },
    {
     "name": "stderr",
     "output_type": "stream",
     "text": [
      "\r",
      "  1%|▎                                      | 12/1715 [00:51<1:57:01,  4.12s/it]"
     ]
    },
    {
     "name": "stdout",
     "output_type": "stream",
     "text": [
      "Couldn't find any practo links.\n",
      "https://google.com/search?q=dr+sreeniavsa+rao+reddy+sri+srinivasa+gastro+&+liver+centre+visakhapatnam\n",
      "https://www.practo.com/visakhapatnam/doctor/dr-reddy-sreenivasa-rao-gastroenterologist&sa=U&ved=2ahUKEwi-hNqZrvr5AhUbALkGHWBhDeAQFnoECAkQAg&usg=AOvVaw1lIPV0XvQQ75n1kC5g7cEG\n",
      "['https://www.practo.com/visakhapatnam/doctor/dr-reddy-sreenivasa-rao-gastroenterologist', 'sa=U', 'ved=2ahUKEwi-hNqZrvr5AhUbALkGHWBhDeAQFnoECAkQAg', 'usg=AOvVaw1lIPV0XvQQ75n1kC5g7cEG']\n",
      "Link searched for:  https://www.practo.com/visakhapatnam/doctor/dr-reddy-sreenivasa-rao-gastroenterologist\n",
      "**************************************************\n"
     ]
    },
    {
     "name": "stderr",
     "output_type": "stream",
     "text": [
      "\r",
      "  1%|▎                                      | 13/1715 [00:56<1:58:55,  4.19s/it]"
     ]
    },
    {
     "name": "stdout",
     "output_type": "stream",
     "text": [
      "Name:  Dr. Reddy Sreenivasa Rao\n",
      "Speciality:  Gastroenterologist\n",
      "Rating:  97% \n",
      "Name:  (303 votes)\n",
      "Address:  1st floor, MVV chambers, behind care-2 hospital,near KGH OP bus stop, Landmark: Opposite To care hospital backside, Visakhapatnam\n",
      "https://google.com/search?q=dr+j+k++vijay+kumar+urocare+visakhapatnam\n",
      "https://www.practo.com/visakhapatnam/doctor/dr-j-k-vijay-kumar-urologist&sa=U&ved=2ahUKEwiY5Imcrvr5AhXQqpUCHTm1AfYQFnoECAkQAg&usg=AOvVaw2iY0-om5YBrYbeRNkfbNoh\n",
      "['https://www.practo.com/visakhapatnam/doctor/dr-j-k-vijay-kumar-urologist', 'sa=U', 'ved=2ahUKEwiY5Imcrvr5AhXQqpUCHTm1AfYQFnoECAkQAg', 'usg=AOvVaw2iY0-om5YBrYbeRNkfbNoh']\n",
      "Link searched for:  https://www.practo.com/visakhapatnam/doctor/dr-j-k-vijay-kumar-urologist\n",
      "**************************************************\n"
     ]
    },
    {
     "name": "stderr",
     "output_type": "stream",
     "text": [
      "\r",
      "  1%|▎                                      | 14/1715 [01:00<2:03:36,  4.36s/it]"
     ]
    },
    {
     "name": "stdout",
     "output_type": "stream",
     "text": [
      "Name:  Dr. J. k Vijay Kumar\n",
      "Speciality is not available.\n",
      "Rating not available.\n",
      "Votes are not available.\n",
      "https://google.com/search?q=dr+chodisetti++subbarao+samudra+hospital+visakhapatnam\n",
      "https://www.practo.com/visakhapatnam/doctor/dr-chodisetti-subba-rao-urologist&sa=U&ved=2ahUKEwiz7Zydrvr5AhWaspUCHZjlBnQQFnoECAkQAg&usg=AOvVaw0LFX5sHik0r0Msp4G3JZ-1\n",
      "['https://www.practo.com/visakhapatnam/doctor/dr-chodisetti-subba-rao-urologist', 'sa=U', 'ved=2ahUKEwiz7Zydrvr5AhWaspUCHZjlBnQQFnoECAkQAg', 'usg=AOvVaw0LFX5sHik0r0Msp4G3JZ-1']\n",
      "Link searched for:  https://www.practo.com/visakhapatnam/doctor/dr-chodisetti-subba-rao-urologist\n",
      "**************************************************\n"
     ]
    },
    {
     "name": "stderr",
     "output_type": "stream",
     "text": [
      "\r",
      "  1%|▎                                      | 15/1715 [01:04<1:56:32,  4.11s/it]"
     ]
    },
    {
     "name": "stdout",
     "output_type": "stream",
     "text": [
      "Name:  Dr. Chodisetti Subba Rao\n",
      "Speciality:  Urological Surgeon\n",
      "Rating:  5.0\n",
      "Votes are not available.\n",
      "Address:  10-50-80, Waltair Main Road, Landmark: Opposite Daspalla Executive Court, Visakhapatnam\n",
      "https://google.com/search?q=dr+b+s++kalyani+dr.+b.+s+kalyani+bharathi+hospital+visakhapatnam\n"
     ]
    },
    {
     "name": "stderr",
     "output_type": "stream",
     "text": [
      "\r",
      "  1%|▎                                      | 16/1715 [01:07<1:45:16,  3.72s/it]"
     ]
    },
    {
     "name": "stdout",
     "output_type": "stream",
     "text": [
      "Couldn't find any practo links.\n",
      "https://google.com/search?q=dr+k++v+nageswar+rao+kotagiri+clinic+visakhapatnam\n"
     ]
    },
    {
     "name": "stderr",
     "output_type": "stream",
     "text": [
      "\r",
      "  1%|▍                                      | 17/1715 [01:12<1:55:58,  4.10s/it]"
     ]
    },
    {
     "name": "stdout",
     "output_type": "stream",
     "text": [
      "Couldn't find any practo links.\n",
      "https://google.com/search?q=dr+mohammed+akbar+gastro+&+liver+clinic+visakhapatnam\n",
      "https://www.practo.com/visakhapatnam/doctor/mohammed-akbar-gastroenterologist&sa=U&ved=2ahUKEwj3lc-irvr5AhXNpZUCHZJUBPIQFnoECAMQAg&usg=AOvVaw0HIGH2prHf-PqPM84zgpim\n",
      "['https://www.practo.com/visakhapatnam/doctor/mohammed-akbar-gastroenterologist', 'sa=U', 'ved=2ahUKEwj3lc-irvr5AhXNpZUCHZJUBPIQFnoECAMQAg', 'usg=AOvVaw0HIGH2prHf-PqPM84zgpim']\n",
      "Link searched for:  https://www.practo.com/visakhapatnam/doctor/mohammed-akbar-gastroenterologist\n",
      "**************************************************\n"
     ]
    },
    {
     "name": "stderr",
     "output_type": "stream",
     "text": [
      "\r",
      "  1%|▍                                      | 18/1715 [01:15<1:45:29,  3.73s/it]"
     ]
    },
    {
     "name": "stdout",
     "output_type": "stream",
     "text": [
      "Name:  Dr. Mohammed Akbar\n",
      "Speciality:  Gastroenterologist\n",
      "Rating not available.\n",
      "Votes are not available.\n",
      "Address:  Near KGH, Collector Offce Junction, Visakhapatnam\n",
      "https://google.com/search?q=dr+sravani++sandhya+aura+skin+&+hair+clinic+visakhapatnam\n",
      "https://www.practo.com/visakhapatnam/doctor/dr-sravani-sandhya-b-dermatologist-cosmetologist&sa=U&ved=2ahUKEwjziOmkrvr5AhXzq5UCHVcXCboQFnoECAYQAg&usg=AOvVaw3qGmb1Bjkh5pWJFa-oR_-Q\n",
      "['https://www.practo.com/visakhapatnam/doctor/dr-sravani-sandhya-b-dermatologist-cosmetologist', 'sa=U', 'ved=2ahUKEwjziOmkrvr5AhXzq5UCHVcXCboQFnoECAYQAg', 'usg=AOvVaw3qGmb1Bjkh5pWJFa-oR_-Q']\n",
      "Link searched for:  https://www.practo.com/visakhapatnam/doctor/dr-sravani-sandhya-b-dermatologist-cosmetologist\n",
      "**************************************************\n"
     ]
    },
    {
     "name": "stderr",
     "output_type": "stream",
     "text": [
      "\r",
      "  1%|▍                                      | 19/1715 [01:20<1:59:37,  4.23s/it]"
     ]
    },
    {
     "name": "stdout",
     "output_type": "stream",
     "text": [
      "Name:  Dr. Sravani Sandhya B\n",
      "Speciality:  Dermatologist\n",
      "Rating:  84% \n",
      "Name:  (19 votes)\n",
      "Address:  #50-49-43/4, TPT Colony, Seethammadhara., Landmark: Opposite Hindu Press., Visakhapatnam\n",
      "https://google.com/search?q=dr+komanapalli+sowjanya++padmaja+hospital+visakhapatnam\n",
      "https://www.practo.com/visakhapatnam/doctor/dr-ch-s-padmaja-gynecologist-obstetrician&sa=U&ved=2ahUKEwittM2nrvr5AhWFnVwKHe-TChgQFnoECAQQAg&usg=AOvVaw0foxVWi7Zer5WKpx78BNQp\n",
      "['https://www.practo.com/visakhapatnam/doctor/dr-ch-s-padmaja-gynecologist-obstetrician', 'sa=U', 'ved=2ahUKEwittM2nrvr5AhWFnVwKHe-TChgQFnoECAQQAg', 'usg=AOvVaw0foxVWi7Zer5WKpx78BNQp']\n",
      "Link searched for:  https://www.practo.com/visakhapatnam/doctor/dr-ch-s-padmaja-gynecologist-obstetrician\n",
      "**************************************************\n"
     ]
    },
    {
     "name": "stderr",
     "output_type": "stream",
     "text": [
      "\r",
      "  1%|▍                                      | 20/1715 [01:26<2:12:23,  4.69s/it]"
     ]
    },
    {
     "name": "stdout",
     "output_type": "stream",
     "text": [
      "Name:  Dr. CH.S Padmaja\n",
      "Speciality:  Gynecologist\n",
      "Rating not available.\n",
      "Votes are not available.\n",
      "Address:  Seethammadara Jn,Visakhapatnam ,Landmark: Near Alluramalinga Statue., Visakhapatnam\n",
      "https://google.com/search?q=dr+a+meenakshi+sai+clinic+visakhapatnam\n",
      "https://www.practo.com/visakhapatnam/doctor/dr-a-meenakshi-gynecologist-obstetrician&sa=U&ved=2ahUKEwjylaiprvr5AhWEhFwKHU0HCPoQFnoECAgQAg&usg=AOvVaw3OGFPTvXFO__KCPufhf3SZ\n",
      "['https://www.practo.com/visakhapatnam/doctor/dr-a-meenakshi-gynecologist-obstetrician', 'sa=U', 'ved=2ahUKEwjylaiprvr5AhWEhFwKHU0HCPoQFnoECAgQAg', 'usg=AOvVaw3OGFPTvXFO__KCPufhf3SZ']\n",
      "Link searched for:  https://www.practo.com/visakhapatnam/doctor/dr-a-meenakshi-gynecologist-obstetrician\n",
      "**************************************************\n"
     ]
    },
    {
     "name": "stderr",
     "output_type": "stream",
     "text": [
      "\r",
      "  1%|▍                                      | 21/1715 [01:29<1:59:20,  4.23s/it]"
     ]
    },
    {
     "name": "stdout",
     "output_type": "stream",
     "text": [
      "Name:  Dr. A Meenakshi\n",
      "Speciality:  Gynecologist\n",
      "Rating not available.\n",
      "Votes are not available.\n",
      "Address:  #50-16-32,LandMark: Dwaraka Medical Centre Back Side, Near Seethamma peta Bus Stop,, Visakhapatnam\n",
      "https://google.com/search?q=dr+krishnam+penmatsa+onelife+clinic+visakhapatnam\n",
      "https://www.practo.com/visakhapatnam/doctor/dr-swetha-penmetsa-dermatologist&sa=U&ved=2ahUKEwjj7ueqrvr5AhX2QUEAHU_JC-IQFnoECAEQAg&usg=AOvVaw2uR6ZZaxuOUNYF2Z0OLk5h\n",
      "['https://www.practo.com/visakhapatnam/doctor/dr-swetha-penmetsa-dermatologist', 'sa=U', 'ved=2ahUKEwjj7ueqrvr5AhX2QUEAHU_JC-IQFnoECAEQAg', 'usg=AOvVaw2uR6ZZaxuOUNYF2Z0OLk5h']\n",
      "Link searched for:  https://www.practo.com/visakhapatnam/doctor/dr-swetha-penmetsa-dermatologist\n",
      "**************************************************\n"
     ]
    },
    {
     "name": "stderr",
     "output_type": "stream",
     "text": [
      "\r",
      "  1%|▌                                      | 22/1715 [01:32<1:52:30,  3.99s/it]"
     ]
    },
    {
     "name": "stdout",
     "output_type": "stream",
     "text": [
      "Name:  Dr. Swetha Penmetsa\n",
      "Speciality:  Dermatologist\n",
      "Rating:  5.0\n",
      "Votes are not available.\n",
      "Address:  10-50-80, Waltair Main Road, Landmark: Opposite Daspalla Executive Court, Visakhapatnam\n",
      "https://google.com/search?q=dr+j+n++srinivasulu+sri+chaitra+kidney+clinic+visakhapatnam\n",
      "https://www.practo.com/visakhapatnam/doctor/dr-j-n-srinivasulu-nephrologist&sa=U&ved=2ahUKEwjAzLutrvr5AhU4pZUCHZsjDVYQFnoECAYQAg&usg=AOvVaw0j3hNfDt1ZP9uPDzmIYO7a\n",
      "['https://www.practo.com/visakhapatnam/doctor/dr-j-n-srinivasulu-nephrologist', 'sa=U', 'ved=2ahUKEwjAzLutrvr5AhU4pZUCHZsjDVYQFnoECAYQAg', 'usg=AOvVaw0j3hNfDt1ZP9uPDzmIYO7a']\n",
      "Link searched for:  https://www.practo.com/visakhapatnam/doctor/dr-j-n-srinivasulu-nephrologist\n",
      "**************************************************\n"
     ]
    },
    {
     "name": "stderr",
     "output_type": "stream",
     "text": [
      "\r",
      "  1%|▌                                      | 23/1715 [01:38<2:05:02,  4.43s/it]"
     ]
    },
    {
     "name": "stdout",
     "output_type": "stream",
     "text": [
      "Name:  Dr. J N Srinivasulu\n",
      "Speciality:  Nephrologist/Renal Specialist\n",
      "Rating:  4.5\n",
      "Votes are not available.\n",
      "Address:  Oppo. Lions Club, Waltair main Road, Landmark: Opp Lions Club, Visakhapatnam\n",
      "https://google.com/search?q=dr+monitha+narendrula+eeshritha+skin+&+hair+institute++hyderabad\n",
      "https://www.practo.com/hyderabad/doctor/monitha-narendrula-dermatologist&sa=U&ved=2ahUKEwiU6Zyvrvr5AhWSpJUCHfZvA5kQFnoECAkQAg&usg=AOvVaw2hxiLEbNKv2l1LC3lHn1nZ\n",
      "['https://www.practo.com/hyderabad/doctor/monitha-narendrula-dermatologist', 'sa=U', 'ved=2ahUKEwiU6Zyvrvr5AhWSpJUCHfZvA5kQFnoECAkQAg', 'usg=AOvVaw2hxiLEbNKv2l1LC3lHn1nZ']\n",
      "Link searched for:  https://www.practo.com/hyderabad/doctor/monitha-narendrula-dermatologist\n",
      "**************************************************\n"
     ]
    },
    {
     "name": "stderr",
     "output_type": "stream",
     "text": [
      "\r",
      "  1%|▌                                      | 24/1715 [01:41<1:55:17,  4.09s/it]"
     ]
    },
    {
     "name": "stdout",
     "output_type": "stream",
     "text": [
      "Name:  Dr. Monitha Narendrula\n",
      "Speciality:  Cosmetologist\n",
      "Rating not available.\n",
      "Votes are not available.\n",
      "https://google.com/search?q=dr+mona+deva+apollo+sugar+clinic+hyderabad\n"
     ]
    },
    {
     "name": "stderr",
     "output_type": "stream",
     "text": [
      "\r",
      "  1%|▌                                      | 25/1715 [01:45<1:54:04,  4.05s/it]"
     ]
    },
    {
     "name": "stdout",
     "output_type": "stream",
     "text": [
      "Couldn't find any practo links.\n",
      "https://google.com/search?q=dr+shehzad+ruman+dr.shehzad+endocrine+&+diabetes+clinic+hyderabad\n",
      "https://www.practo.com/hyderabad/doctor/shehzad-ruman-endocrinologist&sa=U&ved=2ahUKEwiW08Gyrvr5AhUYqpUCHY_iBMAQFnoECAAQAg&usg=AOvVaw1dpskuQ7YYvCtUM1-Y_hfF\n",
      "['https://www.practo.com/hyderabad/doctor/shehzad-ruman-endocrinologist', 'sa=U', 'ved=2ahUKEwiW08Gyrvr5AhUYqpUCHY_iBMAQFnoECAAQAg', 'usg=AOvVaw1dpskuQ7YYvCtUM1-Y_hfF']\n",
      "Link searched for:  https://www.practo.com/hyderabad/doctor/shehzad-ruman-endocrinologist\n",
      "**************************************************\n"
     ]
    },
    {
     "name": "stderr",
     "output_type": "stream",
     "text": [
      "\r",
      "  2%|▌                                      | 26/1715 [01:48<1:45:23,  3.74s/it]"
     ]
    },
    {
     "name": "stdout",
     "output_type": "stream",
     "text": [
      "Name:  Dr. Shehzad Ruman\n",
      "Speciality:  Internal Medicine\n",
      "Rating not available.\n",
      "Votes are not available.\n",
      "Address:  8-1-400/48/E, Deluxe Colony, Hyderabad\n",
      "https://google.com/search?q=dr+mushtaq+quadri+first+health+diagnostics+and+clinics+hyderabad\n",
      "https://www.practo.com/Hyderabad/doctor/dr-syed-mustaq-m-quadri-cardiologist/594091/call&sa=U&ved=2ahUKEwjV0OS0rvr5AhWurpUCHQONCHoQFnoECAYQAg&usg=AOvVaw1redsJTmE7XkPxR5_Jk3mb\n",
      "['https://www.practo.com/Hyderabad/doctor/dr-syed-mustaq-m-quadri-cardiologist/594091/call', 'sa=U', 'ved=2ahUKEwjV0OS0rvr5AhWurpUCHQONCHoQFnoECAYQAg', 'usg=AOvVaw1redsJTmE7XkPxR5_Jk3mb']\n",
      "Link searched for:  https://www.practo.com/Hyderabad/doctor/dr-syed-mustaq-m-quadri-cardiologist/call\n",
      "**************************************************\n"
     ]
    },
    {
     "name": "stderr",
     "output_type": "stream",
     "text": [
      "\r",
      "  2%|▌                                      | 27/1715 [01:53<1:54:29,  4.07s/it]"
     ]
    },
    {
     "name": "stdout",
     "output_type": "stream",
     "text": [
      "Name:  Dr. Syed Mustaq M Quadri\n",
      "Speciality:  Cardiologist\n",
      "Rating:  95% \n",
      "Name:  (39 votes)\n",
      "Address:  Upperpally, Landmark: opposite Pillar Number 222 & beside Khushi function Hall, Hyderabad\n",
      "https://google.com/search?q=dr+fiazullah+khan+integro+hospital+hyderabad\n",
      "https://www.practo.com/hyderabad/doctor/dr-faizulla-khan-urologist-3&sa=U&ved=2ahUKEwjAtaG2rvr5AhXIs5UCHWWAC1wQFnoECAgQAg&usg=AOvVaw3Kg1BFruRaFDnRMooVEbHc\n",
      "['https://www.practo.com/hyderabad/doctor/dr-faizulla-khan-urologist-3', 'sa=U', 'ved=2ahUKEwjAtaG2rvr5AhXIs5UCHWWAC1wQFnoECAgQAg', 'usg=AOvVaw3Kg1BFruRaFDnRMooVEbHc']\n",
      "Link searched for:  https://www.practo.com/hyderabad/doctor/dr-faizulla-khan-urologist-3\n",
      "**************************************************\n"
     ]
    },
    {
     "name": "stderr",
     "output_type": "stream",
     "text": [
      "\r",
      "  2%|▋                                      | 28/1715 [01:56<1:48:08,  3.85s/it]"
     ]
    },
    {
     "name": "stdout",
     "output_type": "stream",
     "text": [
      "Name:  Dr. Faizulla Khan\n",
      "Speciality:  Urologist\n",
      "Rating:  4.5\n",
      "Votes are not available.\n",
      "Address:  Road No 1 Virinchi Circle, Landmark: Near Pension Office, Hyderabad\n",
      "https://google.com/search?q=dr+mohammed+asif+sameer+cardiac+care+hyderabad\n",
      "https://www.practo.com/hyderabad/doctor/mohammed-asif-s-cardiologist&sa=U&ved=2ahUKEwjxjey3rvr5AhWVr5UCHfl1AuwQFnoECAgQAg&usg=AOvVaw00gmsR42q9X8tlyJDyVQA5\n",
      "['https://www.practo.com/hyderabad/doctor/mohammed-asif-s-cardiologist', 'sa=U', 'ved=2ahUKEwjxjey3rvr5AhWVr5UCHfl1AuwQFnoECAgQAg', 'usg=AOvVaw00gmsR42q9X8tlyJDyVQA5']\n",
      "Link searched for:  https://www.practo.com/hyderabad/doctor/mohammed-asif-s-cardiologist\n",
      "**************************************************\n"
     ]
    },
    {
     "name": "stderr",
     "output_type": "stream",
     "text": [
      "\r",
      "  2%|▋                                      | 29/1715 [01:59<1:37:43,  3.48s/it]"
     ]
    },
    {
     "name": "stdout",
     "output_type": "stream",
     "text": [
      "Name:  Dr. Mohammed Asif.S\n",
      "Speciality:  Cardiologist\n",
      "Rating not available.\n",
      "Votes are not available.\n",
      "Address:  12-2-835/A/B, Asif Nagar Road, Sri Ram Nagar Colony, MIGH Colony, Landmark: Opposite Andhra Bank, Hyderabad\n",
      "https://google.com/search?q=dr+kollipara++haritha+radha's+derma+care+visakhapatnam\n"
     ]
    },
    {
     "name": "stderr",
     "output_type": "stream",
     "text": [
      "\r",
      "  2%|▋                                      | 30/1715 [02:03<1:46:46,  3.80s/it]"
     ]
    },
    {
     "name": "stdout",
     "output_type": "stream",
     "text": [
      "Couldn't find any practo links.\n",
      "https://google.com/search?q=dr+shilpa+bharatgiri+raghava+polyclinic+hyderabad\n",
      "https://www.practo.com/hyderabad/doctor/shilpa-22-dermatologist-cosmetologist&sa=U&ved=2ahUKEwiEpYy8rvr5AhXSqpUCHZp4DY4QFnoECAUQAg&usg=AOvVaw2dPv3-0F19d2MjvAtkAM6U\n",
      "['https://www.practo.com/hyderabad/doctor/shilpa-22-dermatologist-cosmetologist', 'sa=U', 'ved=2ahUKEwiEpYy8rvr5AhXSqpUCHZp4DY4QFnoECAUQAg', 'usg=AOvVaw2dPv3-0F19d2MjvAtkAM6U']\n",
      "Link searched for:  https://www.practo.com/hyderabad/doctor/shilpa-22-dermatologist-cosmetologist\n",
      "**************************************************\n"
     ]
    },
    {
     "name": "stderr",
     "output_type": "stream",
     "text": [
      "\r",
      "  2%|▋                                      | 31/1715 [02:09<2:02:09,  4.35s/it]"
     ]
    },
    {
     "name": "stdout",
     "output_type": "stream",
     "text": [
      "Name:  Dr. Shilpa\n",
      "Speciality:  Dermatologist\n",
      "Rating:  92% \n",
      "Name:  (83 votes)\n",
      "Address:  House Number 8-2-469/9C, Road Number 5, Landmark: Opposite INOX GVK One Mall, Hyderabad\n",
      "https://google.com/search?q=dr+sujitkumar+vakatir+orthopaedic+&+sports+injury+clinic+hyderabad\n",
      "https://www.practo.com/hyderabad/doctor/dr-sujith-kumar-vakati-r-orthopedist&sa=U&ved=2ahUKEwiWppC-rvr5AhXLq5UCHehJAQ0QFnoECAcQAg&usg=AOvVaw3sM9FQWM3CXHN42jh4LXjf\n",
      "['https://www.practo.com/hyderabad/doctor/dr-sujith-kumar-vakati-r-orthopedist', 'sa=U', 'ved=2ahUKEwiWppC-rvr5AhXLq5UCHehJAQ0QFnoECAcQAg', 'usg=AOvVaw3sM9FQWM3CXHN42jh4LXjf']\n",
      "Link searched for:  https://www.practo.com/hyderabad/doctor/dr-sujith-kumar-vakati-r-orthopedist\n",
      "**************************************************\n"
     ]
    },
    {
     "name": "stderr",
     "output_type": "stream",
     "text": [
      "\r",
      "  2%|▋                                      | 32/1715 [02:13<1:58:10,  4.21s/it]"
     ]
    },
    {
     "name": "stdout",
     "output_type": "stream",
     "text": [
      "Name:  Dr. Sujitkumar Vakati R\n",
      "Speciality:  Orthopedist\n",
      "Rating not available.\n",
      "Votes are not available.\n",
      "Address:  Flat No. G-8, SERENE VIEW Apartment Complex, Road No. 12, Madhavapuri Hills, Chanda Nnagar, Hyderabad\n",
      "https://google.com/search?q=dr+divyaswetha+narasapuram+sai+medha+speciality+clinics+hyderabad\n",
      "https://www.practo.com/hyderabad/clinic/sai-medha-speciality-clinic-s-chanda-nagar&sa=U&ved=2ahUKEwiuhue_rvr5AhWurpUCHQONCHoQFnoECAAQAg&usg=AOvVaw2_W4FV1iU7liwQ8LLWyXPX\n",
      "['https://www.practo.com/hyderabad/clinic/sai-medha-speciality-clinic-s-chanda-nagar', 'sa=U', 'ved=2ahUKEwiuhue_rvr5AhWurpUCHQONCHoQFnoECAAQAg', 'usg=AOvVaw2_W4FV1iU7liwQ8LLWyXPX']\n",
      "Link searched for:  https://www.practo.com/hyderabad/clinic/sai-medha-speciality-clinic-s-chanda-nagar\n",
      "**************************************************\n"
     ]
    },
    {
     "name": "stderr",
     "output_type": "stream",
     "text": [
      "\r",
      "  2%|▊                                      | 33/1715 [02:16<1:50:02,  3.93s/it]"
     ]
    },
    {
     "name": "stdout",
     "output_type": "stream",
     "text": [
      "Name:  Sai Medha Speciality Clinic's\n",
      "Speciality:  Multi-speciality Clinic\n",
      "Rating not available.\n",
      "Votes are not available.\n",
      "Address:  Flat No. G-8, SERENE VIEW Apartment Complex, Road No. 12, Madhavapuri Hills, Chanda Nnagar, Hyderabad\n",
      "https://google.com/search?q=dr+alekya+singapore+the+skin+sense+hyderabad\n",
      "https://www.practo.com/hyderabad/clinic/the-skin-sens%25C3%25A9-by-dr-alekya-singapore-banjara-hills-1&sa=U&ved=2ahUKEwjTwq7Brvr5AhUriJUCHcLWBh4QFnoECAAQAg&usg=AOvVaw14zROIVCgKB-BIK17HR4s9\n",
      "['https://www.practo.com/hyderabad/clinic/the-skin-sens%25C3%25A9-by-dr-alekya-singapore-banjara-hills-1', 'sa=U', 'ved=2ahUKEwjTwq7Brvr5AhUriJUCHcLWBh4QFnoECAAQAg', 'usg=AOvVaw14zROIVCgKB-BIK17HR4s9']\n",
      "Link searched for:  https://www.practo.com/hyderabad/clinic/the-skin-sens%25C3%25A9-by-dr-alekya-singapore-banjara-hills-1\n",
      "**************************************************\n"
     ]
    },
    {
     "name": "stderr",
     "output_type": "stream",
     "text": [
      "\r",
      "  2%|▊                                      | 34/1715 [02:19<1:41:42,  3.63s/it]"
     ]
    },
    {
     "name": "stdout",
     "output_type": "stream",
     "text": [
      "Name:  The Skin Sense - Dr. Alekya\n",
      "Speciality:  Multi-speciality Clinic\n",
      "Rating:  5.0\n",
      "Name:  (13 patient stories)\n",
      "Address:  Bhavyas Fantastika, Road Number 12., Hyderabad\n",
      "https://google.com/search?q=dr+suneetha++reddy+e+birthcare+hospital+hyderabad\n",
      "https://www.practo.com/hyderabad/doctor/dr-k-suneetha-gynecologist-obstetrician&sa=U&ved=2ahUKEwiw9uHCrvr5AhVDppUCHWc1C-IQFnoECAkQAg&usg=AOvVaw3EcxOSteuIIUuAAX1KqyZO\n",
      "['https://www.practo.com/hyderabad/doctor/dr-k-suneetha-gynecologist-obstetrician', 'sa=U', 'ved=2ahUKEwiw9uHCrvr5AhVDppUCHWc1C-IQFnoECAkQAg', 'usg=AOvVaw3EcxOSteuIIUuAAX1KqyZO']\n",
      "Link searched for:  https://www.practo.com/hyderabad/doctor/dr-k-suneetha-gynecologist-obstetrician\n",
      "**************************************************\n"
     ]
    },
    {
     "name": "stderr",
     "output_type": "stream",
     "text": [
      "\r",
      "  2%|▊                                      | 35/1715 [02:23<1:39:18,  3.55s/it]"
     ]
    },
    {
     "name": "stdout",
     "output_type": "stream",
     "text": [
      "Name:  Dr. E. Suneetha Reddy\n",
      "Speciality:  Gynecologist\n",
      "Rating not available.\n",
      "Votes are not available.\n",
      "https://google.com/search?q=dr+naveen+kumar+magna+code+clinic+hyderabad\n",
      "https://www.practo.com/hyderabad/doctor/g-naveen-kumar-diabetologist&sa=U&ved=2ahUKEwjpq67Ervr5AhUwpJUCHfRtAzkQFnoECAEQAg&usg=AOvVaw3c82woKxTp_GGF3JEujnKr\n",
      "['https://www.practo.com/hyderabad/doctor/g-naveen-kumar-diabetologist', 'sa=U', 'ved=2ahUKEwjpq67Ervr5AhUwpJUCHfRtAzkQFnoECAEQAg', 'usg=AOvVaw3c82woKxTp_GGF3JEujnKr']\n",
      "Link searched for:  https://www.practo.com/hyderabad/doctor/g-naveen-kumar-diabetologist\n",
      "**************************************************\n"
     ]
    },
    {
     "name": "stderr",
     "output_type": "stream",
     "text": [
      "\r",
      "  2%|▊                                      | 36/1715 [02:26<1:41:57,  3.64s/it]"
     ]
    },
    {
     "name": "stdout",
     "output_type": "stream",
     "text": [
      "Name:  Dr. G Naveen Kumar\n",
      "Speciality:  General Physician\n",
      "Rating not available.\n",
      "Votes are not available.\n",
      "Address:  Plot No:5, Shop No:8, 2nd Floor, Sri Lakshmi Nagar, Lanco Hills Road, Landmark: Marichettu Junction, Hyderabad\n",
      "https://google.com/search?q=dr+hariram+vuppaladadhiam+hari's+heart+clinic.+dr+v+hariram+hyderabad\n",
      "https://www.practo.com/hyderabad/doctor/dr-v-hariram-cardiologist&sa=U&ved=2ahUKEwjl9YLHrvr5AhXTrpUCHSqMBvwQFnoECAEQAg&usg=AOvVaw1W35dY1hzvdl6sf0ZEdR-Q\n",
      "['https://www.practo.com/hyderabad/doctor/dr-v-hariram-cardiologist', 'sa=U', 'ved=2ahUKEwjl9YLHrvr5AhXTrpUCHSqMBvwQFnoECAEQAg', 'usg=AOvVaw1W35dY1hzvdl6sf0ZEdR-Q']\n",
      "Link searched for:  https://www.practo.com/hyderabad/doctor/dr-v-hariram-cardiologist\n",
      "**************************************************\n"
     ]
    },
    {
     "name": "stderr",
     "output_type": "stream",
     "text": [
      "\r",
      "  2%|▊                                      | 37/1715 [02:32<1:57:48,  4.21s/it]"
     ]
    },
    {
     "name": "stdout",
     "output_type": "stream",
     "text": [
      "Name:  Dr. Hari Ram. V\n",
      "Speciality:  Cardiologist\n",
      "Rating:  95% \n",
      "Name:  (87 votes)\n",
      "Address:  2-22-1/113, S2 & G14, Pragathi Enclave, Plot 95, 104 & 113, Pipeline Road, Bhagyanagar, Landmark: Opposite Ram Reddy Chicken Center, Hyderabad\n",
      "https://google.com/search?q=dr+ramesh+raju+sneha+clinic+hyderabad\n",
      "https://www.practo.com/hyderabad/doctor/g-ramesh-raju-general-physician&sa=U&ved=2ahUKEwjQxezIrvr5AhXQppUCHWUPAGEQFnoECAgQAg&usg=AOvVaw1tbLR9N_avqi4679h4uDp1\n",
      "['https://www.practo.com/hyderabad/doctor/g-ramesh-raju-general-physician', 'sa=U', 'ved=2ahUKEwjQxezIrvr5AhXQppUCHWUPAGEQFnoECAgQAg', 'usg=AOvVaw1tbLR9N_avqi4679h4uDp1']\n",
      "Link searched for:  https://www.practo.com/hyderabad/doctor/g-ramesh-raju-general-physician\n",
      "**************************************************\n"
     ]
    },
    {
     "name": "stderr",
     "output_type": "stream",
     "text": [
      "\r",
      "  2%|▊                                      | 38/1715 [02:36<1:56:11,  4.16s/it]"
     ]
    },
    {
     "name": "stdout",
     "output_type": "stream",
     "text": [
      "Name:  Dr. G.Ramesh Raju\n",
      "Speciality:  General Physician\n",
      "Rating:  97% \n",
      "Name:  (493 votes)\n",
      "Address:  MIG 152, KPHB Road Number 1, Landmark: Above Axis Bank, Hyderabad\n",
      "https://google.com/search?q=dr+venkata++arella+sri+sai+kalpana+clinic+hyderabad\n",
      "https://www.practo.com/hyderabad/doctor/dr-s-venkata-ramana-arella-general-physician&sa=U&ved=2ahUKEwi17eHKrvr5AhXMr5UCHYwiDOUQFnoECAAQAg&usg=AOvVaw3-enxd25u6kw1W9zMyABpp\n",
      "['https://www.practo.com/hyderabad/doctor/dr-s-venkata-ramana-arella-general-physician', 'sa=U', 'ved=2ahUKEwi17eHKrvr5AhXMr5UCHYwiDOUQFnoECAAQAg', 'usg=AOvVaw3-enxd25u6kw1W9zMyABpp']\n",
      "Link searched for:  https://www.practo.com/hyderabad/doctor/dr-s-venkata-ramana-arella-general-physician\n",
      "**************************************************\n"
     ]
    },
    {
     "name": "stderr",
     "output_type": "stream",
     "text": [
      "\r",
      "  2%|▉                                      | 39/1715 [02:40<1:56:53,  4.18s/it]"
     ]
    },
    {
     "name": "stdout",
     "output_type": "stream",
     "text": [
      "Name:  Dr. S. Venkata Ramana Arella\n",
      "Speciality:  General Physician\n",
      "Rating not available.\n",
      "Votes are not available.\n",
      "Address:  #8-3-228/265/A, Masjid road, Rahmath nagar, Yousufguda. Landmark: Near to vegetable market., Hyderabad\n",
      "https://google.com/search?q=dr+madhavi+aurangabadkar+skin+&+laser+clinic+hyderabad\n"
     ]
    },
    {
     "name": "stderr",
     "output_type": "stream",
     "text": [
      "\r",
      "  2%|▉                                      | 40/1715 [02:43<1:41:15,  3.63s/it]"
     ]
    },
    {
     "name": "stdout",
     "output_type": "stream",
     "text": [
      "Couldn't find any practo links.\n",
      "https://google.com/search?q=dr+raghunath+babu+diabaid+diabetes+center+hyderabad\n",
      "https://www.practo.com/hyderabad/doctor/dr-raghunath-babu-diabetologist-1&sa=U&ved=2ahUKEwj7zPLNrvr5AhXMr5UCHYwiDOUQFnoECAkQAg&usg=AOvVaw3bYJT3rALon7OqqXjNVsdV\n",
      "['https://www.practo.com/hyderabad/doctor/dr-raghunath-babu-diabetologist-1', 'sa=U', 'ved=2ahUKEwj7zPLNrvr5AhXMr5UCHYwiDOUQFnoECAkQAg', 'usg=AOvVaw3bYJT3rALon7OqqXjNVsdV']\n",
      "Link searched for:  https://www.practo.com/hyderabad/doctor/dr-raghunath-babu-diabetologist-1\n",
      "**************************************************\n"
     ]
    },
    {
     "name": "stderr",
     "output_type": "stream",
     "text": [
      "\r",
      "  2%|▉                                      | 41/1715 [02:47<1:43:52,  3.72s/it]"
     ]
    },
    {
     "name": "stdout",
     "output_type": "stream",
     "text": [
      "Name:  Dr. Raghunath Babu.M\n",
      "Speciality is not available.\n",
      "Rating:  97% \n",
      "Name:  (70 votes)\n",
      "Address:  #8-3-677 / 35, S.K.D. Nagar, Sri Nagar Colony., Landmark: Near HDFC & IDBI Atm, Hyderabad\n",
      "https://google.com/search?q=dr+saketh+k+gk+polyclinic+hyderabad\n",
      "https://www.practo.com/hyderabad/doctor/dr-k-saketh-1-orthopedist&sa=U&ved=2ahUKEwiq9c3Qrvr5AhWHrZUCHdyjD_wQFnoECAkQAg&usg=AOvVaw0PC-k2Q41Mi71fXpBjUnfS\n",
      "['https://www.practo.com/hyderabad/doctor/dr-k-saketh-1-orthopedist', 'sa=U', 'ved=2ahUKEwiq9c3Qrvr5AhWHrZUCHdyjD_wQFnoECAkQAg', 'usg=AOvVaw0PC-k2Q41Mi71fXpBjUnfS']\n",
      "Link searched for:  https://www.practo.com/hyderabad/doctor/dr-k-saketh-1-orthopedist\n",
      "**************************************************\n"
     ]
    },
    {
     "name": "stderr",
     "output_type": "stream",
     "text": [
      "\r",
      "  2%|▉                                      | 42/1715 [02:52<2:01:30,  4.36s/it]"
     ]
    },
    {
     "name": "stdout",
     "output_type": "stream",
     "text": [
      "Name:  Dr. K Saketh\n",
      "Speciality:  Orthopedist\n",
      "Rating:  4.5\n",
      "Votes are not available.\n",
      "Address:  6-1-1040/1 to 4, Landmark: Beside Ranga Reddy District & Opposite Dwaraka Hotel, Hyderabad\n",
      "https://google.com/search?q=dr+samata+tulla+medihub+clinics+hyderabad\n",
      "https://www.practo.com/hyderabad/doctor/dr-samatha-tulla-general-physician&sa=U&ved=2ahUKEwjz7qXTrvr5AhWus5UCHRjDBUAQFnoECAIQAg&usg=AOvVaw3mnMbbWxy-43fUlQ-kc5t_\n",
      "['https://www.practo.com/hyderabad/doctor/dr-samatha-tulla-general-physician', 'sa=U', 'ved=2ahUKEwjz7qXTrvr5AhWus5UCHRjDBUAQFnoECAIQAg', 'usg=AOvVaw3mnMbbWxy-43fUlQ-kc5t_']\n",
      "Link searched for:  https://www.practo.com/hyderabad/doctor/dr-samatha-tulla-general-physician\n",
      "**************************************************\n"
     ]
    },
    {
     "name": "stderr",
     "output_type": "stream",
     "text": [
      "\r",
      "  3%|▉                                      | 43/1715 [02:59<2:16:28,  4.90s/it]"
     ]
    },
    {
     "name": "stdout",
     "output_type": "stream",
     "text": [
      "Name:  Dr. Samatha Tulla\n",
      "Speciality:  Internal Medicine\n",
      "Rating:  4.5\n",
      "Votes are not available.\n",
      "Address:  Film Nagar , Landmark: Opposite Bata Showroom & Beside Film Nagar Temple Complex, Hyderabad\n",
      "https://google.com/search?q=dr+janaki+ram+reddy+sree+srinivasa+ent+center+hyderabad\n",
      "https://www.practo.com/hyderabad/doctor/dr-janaki-ram-reddy-ear-nose-throat-ent-specialist-1&sa=U&ved=2ahUKEwjrsMDVrvr5AhWkr5UCHaHgAcoQFnoECAgQAg&usg=AOvVaw10If4TZk-HD6uBUYZhPXan\n",
      "['https://www.practo.com/hyderabad/doctor/dr-janaki-ram-reddy-ear-nose-throat-ent-specialist-1', 'sa=U', 'ved=2ahUKEwjrsMDVrvr5AhWkr5UCHaHgAcoQFnoECAgQAg', 'usg=AOvVaw10If4TZk-HD6uBUYZhPXan']\n",
      "Link searched for:  https://www.practo.com/hyderabad/doctor/dr-janaki-ram-reddy-ear-nose-throat-ent-specialist-1\n",
      "**************************************************\n"
     ]
    },
    {
     "name": "stderr",
     "output_type": "stream",
     "text": [
      "\r",
      "  3%|█                                      | 44/1715 [03:02<2:02:25,  4.40s/it]"
     ]
    },
    {
     "name": "stdout",
     "output_type": "stream",
     "text": [
      "Name:  Dr. Janaki Ram Reddy\n",
      "Speciality:  ENT/ Otorhinolaryngologist\n",
      "Rating:  88% \n",
      "Name:  (17 votes)\n",
      "Address:  6-3-347/17/2, SY Number 142, Saibaba Temple Road, Dwarakapuri, Landmark: Near Sai Baba Temple, Hyderabad\n",
      "https://google.com/search?q=dr+manogna++vellala+mano's+skin+&+hair+clinic+hyderabad\n"
     ]
    },
    {
     "name": "stderr",
     "output_type": "stream",
     "text": [
      "\r",
      "  3%|█                                      | 45/1715 [03:04<1:44:15,  3.75s/it]"
     ]
    },
    {
     "name": "stdout",
     "output_type": "stream",
     "text": [
      "Couldn't find any practo links.\n",
      "https://google.com/search?q=dr+amishrita++chintawar++manasa+hospital+hyderabad\n",
      "https://www.practo.com/hyderabad/doctor/amishrita-chintawar-gynecologist-obstetrician&sa=U&ved=2ahUKEwi00_3Yrvr5AhXDh1wKHaHsATAQFnoECAgQAg&usg=AOvVaw0eX5WhjZNSEmtul-5DzKf_\n",
      "['https://www.practo.com/hyderabad/doctor/amishrita-chintawar-gynecologist-obstetrician', 'sa=U', 'ved=2ahUKEwi00_3Yrvr5AhXDh1wKHaHsATAQFnoECAgQAg', 'usg=AOvVaw0eX5WhjZNSEmtul-5DzKf_']\n",
      "Link searched for:  https://www.practo.com/hyderabad/doctor/amishrita-chintawar-gynecologist-obstetrician\n",
      "**************************************************\n"
     ]
    },
    {
     "name": "stderr",
     "output_type": "stream",
     "text": [
      "\r",
      "  3%|█                                      | 46/1715 [03:09<1:58:54,  4.27s/it]"
     ]
    },
    {
     "name": "stdout",
     "output_type": "stream",
     "text": [
      "Name:  Dr. Amishrita Chintawar\n",
      "Speciality:  Infertility Specialist\n",
      "Rating:  100% \n",
      "Name:  (11 votes)\n",
      "Address:  Lane No 6, Sai Chitra Nagar, Landmark: lane adj to hyderabad public school, Hyderabad\n",
      "https://google.com/search?q=dr+neelima+potluri+v+viva+skin+clinic+hyderabad\n"
     ]
    },
    {
     "name": "stderr",
     "output_type": "stream",
     "text": [
      "\r",
      "  3%|█                                      | 47/1715 [03:14<1:58:07,  4.25s/it]"
     ]
    },
    {
     "name": "stdout",
     "output_type": "stream",
     "text": [
      "Couldn't find any practo links.\n",
      "https://google.com/search?q=dr+swapna++priya+cosmosure+clinic+hyderabad\n",
      "https://www.practo.com/hyderabad/doctor/dr-p-swapna-priya-dermatologist-cosmetologist&sa=U&ved=2ahUKEwjRxc3drvr5AhVlkFwKHb7cCgYQFnoECAQQAg&usg=AOvVaw2TMByp3ONN9PV50H6_W3im\n",
      "['https://www.practo.com/hyderabad/doctor/dr-p-swapna-priya-dermatologist-cosmetologist', 'sa=U', 'ved=2ahUKEwjRxc3drvr5AhVlkFwKHb7cCgYQFnoECAQQAg', 'usg=AOvVaw2TMByp3ONN9PV50H6_W3im']\n",
      "Link searched for:  https://www.practo.com/hyderabad/doctor/dr-p-swapna-priya-dermatologist-cosmetologist\n",
      "**************************************************\n"
     ]
    },
    {
     "name": "stderr",
     "output_type": "stream",
     "text": [
      "\r",
      "  3%|█                                      | 48/1715 [03:19<2:05:29,  4.52s/it]"
     ]
    },
    {
     "name": "stdout",
     "output_type": "stream",
     "text": [
      "Name:  Dr. P.Swapna Priya\n",
      "Speciality:  Dermatologist\n",
      "Rating:  95% \n",
      "Name:  (20 votes)\n",
      "Address:  SBR Gateway, 4th Floor, Landmark: Opposite Cyber Gateway and Adjacent to Ibis Hotel, Hyderabad\n",
      "https://google.com/search?q=dr+babitha+++++++++maturi+parijatham+women+wellness+clinics+hyderabad\n",
      "https://www.practo.com/hyderabad/clinic/maturi-health-banjara-hills&sa=U&ved=2ahUKEwjrv4Dgrvr5AhUOr5UCHXPkDXAQFnoECAoQAg&usg=AOvVaw2cDAf6wqgcY0HG8389ZQmP\n",
      "['https://www.practo.com/hyderabad/clinic/maturi-health-banjara-hills', 'sa=U', 'ved=2ahUKEwjrv4Dgrvr5AhUOr5UCHXPkDXAQFnoECAoQAg', 'usg=AOvVaw2cDAf6wqgcY0HG8389ZQmP']\n",
      "Link searched for:  https://www.practo.com/hyderabad/clinic/maturi-health-banjara-hills\n",
      "**************************************************\n"
     ]
    },
    {
     "name": "stderr",
     "output_type": "stream",
     "text": [
      "\r",
      "  3%|█                                      | 49/1715 [03:25<2:21:01,  5.08s/it]"
     ]
    },
    {
     "name": "stdout",
     "output_type": "stream",
     "text": [
      "Name:  Parijatham Woman's Health Redifined\n",
      "Speciality:  Multi-speciality Clinic\n",
      "Rating not available.\n",
      "Votes are not available.\n",
      "Address:  8-1-301/302/303, Shaikpet, Landmark: Above Karachi Bakery, Hyderabad\n",
      "https://google.com/search?q=dr+sudha+shroff+dermdent+skin&dental+clinic+hyderabad\n",
      "https://www.practo.com/hyderabad/doctor/sudha-shroff-dermatologist-cosmetologist&sa=U&ved=2ahUKEwjV-o3jrvr5AhWTaMAKHTZeB3EQFnoECAcQAg&usg=AOvVaw3rXY3oyS1QILTv_jeAzKBz\n",
      "['https://www.practo.com/hyderabad/doctor/sudha-shroff-dermatologist-cosmetologist', 'sa=U', 'ved=2ahUKEwjV-o3jrvr5AhWTaMAKHTZeB3EQFnoECAcQAg', 'usg=AOvVaw3rXY3oyS1QILTv_jeAzKBz']\n",
      "Link searched for:  https://www.practo.com/hyderabad/doctor/sudha-shroff-dermatologist-cosmetologist\n",
      "**************************************************\n"
     ]
    },
    {
     "name": "stderr",
     "output_type": "stream",
     "text": [
      "\r",
      "  3%|█▏                                     | 50/1715 [03:32<2:32:19,  5.49s/it]"
     ]
    },
    {
     "name": "stdout",
     "output_type": "stream",
     "text": [
      "Name:  Dr. Sudha Shroff\n",
      "Speciality:  Dermatologist\n",
      "Rating:  93% \n",
      "Name:  (28 votes)\n",
      "Address:  3-100/2/B , 2nd Floor, Kolan Haritha Complex,, Landmark: Above Axis Bank, Hyderabad\n",
      "https://google.com/search?q=dr+suryaprakash+hedda+hedda+clinic+hyderabad\n",
      "https://www.practo.com/hyderabad/doctor/dr-suryaprakash-hedda-pediatrician&sa=U&ved=2ahUKEwjll5fmrvr5AhXEoFwKHaQfDykQFnoECAoQAg&usg=AOvVaw2C1VsWQwjzenhArkWJPiC4\n",
      "['https://www.practo.com/hyderabad/doctor/dr-suryaprakash-hedda-pediatrician', 'sa=U', 'ved=2ahUKEwjll5fmrvr5AhXEoFwKHaQfDykQFnoECAoQAg', 'usg=AOvVaw2C1VsWQwjzenhArkWJPiC4']\n",
      "Link searched for:  https://www.practo.com/hyderabad/doctor/dr-suryaprakash-hedda-pediatrician\n",
      "**************************************************\n"
     ]
    },
    {
     "name": "stderr",
     "output_type": "stream",
     "text": [
      "\r",
      "  3%|█▏                                     | 51/1715 [03:37<2:27:14,  5.31s/it]"
     ]
    },
    {
     "name": "stdout",
     "output_type": "stream",
     "text": [
      "Name:  Dr. Suryaprakash Hedda\n",
      "Speciality:  Pediatrician\n",
      "Rating:  93% \n",
      "Name:  (27 votes)\n",
      "Address:  7-2-1735/A, Czech Colony, Landmark: Opposite Voltas Company Private Limited, Hyderabad\n",
      "https://google.com/search?q=dr+srikant+jawalkar+the+shoulder+centre+hyderabad\n",
      "https://www.practo.com/hyderabad/doctor/dr-srikant-jawalkar-neurologist&sa=U&ved=2ahUKEwix4NHnrvr5AhUEiVwKHWLQAzcQFnoECAgQAg&usg=AOvVaw2l14IfVmpgqlU449Qf3Wiz\n",
      "['https://www.practo.com/hyderabad/doctor/dr-srikant-jawalkar-neurologist', 'sa=U', 'ved=2ahUKEwix4NHnrvr5AhUEiVwKHWLQAzcQFnoECAgQAg', 'usg=AOvVaw2l14IfVmpgqlU449Qf3Wiz']\n",
      "Link searched for:  https://www.practo.com/hyderabad/doctor/dr-srikant-jawalkar-neurologist\n",
      "**************************************************\n"
     ]
    },
    {
     "name": "stderr",
     "output_type": "stream",
     "text": [
      "\r",
      "  3%|█▏                                     | 52/1715 [03:41<2:21:38,  5.11s/it]"
     ]
    },
    {
     "name": "stdout",
     "output_type": "stream",
     "text": [
      "Name:  Dr. Srikant Jawalkar\n",
      "Speciality:  Neurologist\n",
      "Rating:  96% \n",
      "Name:  (341 votes)\n",
      "Address:  A-1, View Towers, Landmark: Opposite to Saifabad Police Station, Lane Before HP Petrol Pump and Mosque / Lane After Gogas Auto LPG Station,Near Seha Hospital., Hyderabad\n",
      "https://google.com/search?q=dr+suraj+uppalapati+gastro+360+clinics+hyderabad\n",
      "https://www.practo.com/hyderabad/doctor/dr-suraj-uppalapati-gastroenterologist&sa=U&ved=2ahUKEwjn--zprvr5AhVGUMAKHXzaAo8QFnoECAkQAg&usg=AOvVaw3ewWDayDzNjsT0NbSur3G2\n",
      "['https://www.practo.com/hyderabad/doctor/dr-suraj-uppalapati-gastroenterologist', 'sa=U', 'ved=2ahUKEwjn--zprvr5AhVGUMAKHXzaAo8QFnoECAkQAg', 'usg=AOvVaw3ewWDayDzNjsT0NbSur3G2']\n",
      "Link searched for:  https://www.practo.com/hyderabad/doctor/dr-suraj-uppalapati-gastroenterologist\n",
      "**************************************************\n"
     ]
    },
    {
     "name": "stderr",
     "output_type": "stream",
     "text": [
      "\r",
      "  3%|█▏                                     | 53/1715 [03:45<2:09:00,  4.66s/it]"
     ]
    },
    {
     "name": "stdout",
     "output_type": "stream",
     "text": [
      "Name:  Dr. Suraj Uppalapati\n",
      "Speciality:  Gastroenterologist\n",
      "Rating:  95% \n",
      "Name:  (206 votes)\n",
      "Address:  2nd Floor Harsha Pride, Plot No 34 A 45 A Botanical Garden road Sriramnagar, Landmark: Above KS Bakers, Hyderabad\n",
      "https://google.com/search?q=dr+sivani+payneni+vito+specialty+clinic+hyderabad\n",
      "https://www.practo.com/hyderabad/doctor/sivani-payneni-diabetologist-1&sa=U&ved=2ahUKEwi9_-Drrvr5AhU1QEEAHUfrDm8QFnoECAEQAg&usg=AOvVaw1EIP78Su41_qMOUSjV_RAo\n",
      "['https://www.practo.com/hyderabad/doctor/sivani-payneni-diabetologist-1', 'sa=U', 'ved=2ahUKEwi9_-Drrvr5AhU1QEEAHUfrDm8QFnoECAEQAg', 'usg=AOvVaw1EIP78Su41_qMOUSjV_RAo']\n",
      "Link searched for:  https://www.practo.com/hyderabad/doctor/sivani-payneni-diabetologist-1\n",
      "**************************************************\n"
     ]
    },
    {
     "name": "stderr",
     "output_type": "stream",
     "text": [
      "\r",
      "  3%|█▏                                     | 54/1715 [03:50<2:13:02,  4.81s/it]"
     ]
    },
    {
     "name": "stdout",
     "output_type": "stream",
     "text": [
      "Name:  Dr. Sivani Payneni\n",
      "Speciality:  General Physician\n",
      "Rating:  100% \n",
      "Name:  (46 votes)\n",
      "Address:  2F, Plot # 1492, Seshadri Marg, Raghavendra Colony,, Landmark: Opposite Bike Affair,Above Global Diagnostics, Hyderabad\n",
      "https://google.com/search?q=dr+saikiran+thipparthi+vito+specialty+clinics+hyderabad\n",
      "https://www.practo.com/hyderabad/doctor/sai-kiran-thipparthi-cardiologist&sa=U&ved=2ahUKEwjXlIPurvr5AhWES8AKHVPVCt0QFnoECAMQAg&usg=AOvVaw11Ly4xZCf8Lg1tN7ps1qmQ\n",
      "['https://www.practo.com/hyderabad/doctor/sai-kiran-thipparthi-cardiologist', 'sa=U', 'ved=2ahUKEwjXlIPurvr5AhWES8AKHVPVCt0QFnoECAMQAg', 'usg=AOvVaw11Ly4xZCf8Lg1tN7ps1qmQ']\n",
      "Link searched for:  https://www.practo.com/hyderabad/doctor/sai-kiran-thipparthi-cardiologist\n",
      "**************************************************\n"
     ]
    },
    {
     "name": "stderr",
     "output_type": "stream",
     "text": [
      "\r",
      "  3%|█▎                                     | 55/1715 [03:54<2:05:03,  4.52s/it]"
     ]
    },
    {
     "name": "stdout",
     "output_type": "stream",
     "text": [
      "Name:  Dr. Sai Kiran Thipparthi\n",
      "Speciality:  General Physician\n",
      "Rating:  5.0\n",
      "Votes are not available.\n",
      "Address:  Plot Number-107 and 108, High-Tension Line Road, Raja Rajeshwara Nagar, Landmark: Opposite to global diagnostics, Hyderabad\n",
      "https://google.com/search?q=dr+venkateswara++abburu+siri+children's+clinic+hyderabad\n"
     ]
    },
    {
     "name": "stderr",
     "output_type": "stream",
     "text": [
      "\r",
      "  3%|█▎                                     | 56/1715 [03:57<1:57:02,  4.23s/it]"
     ]
    },
    {
     "name": "stdout",
     "output_type": "stream",
     "text": [
      "Couldn't find any practo links.\n",
      "https://google.com/search?q=dr+gokul+mandala+drgokulreddy+hyderabad\n"
     ]
    }
   ],
   "source": [
    "final_df = extractReviews(df_not_missing)"
   ]
  },
  {
   "cell_type": "code",
   "execution_count": null,
   "id": "c9de2f71",
   "metadata": {},
   "outputs": [],
   "source": [
    "import requests\n",
    "\n",
    "url = \"https://www.practo.com/hyderabad/clinic/the-skin-sens%25C3%25A9-by-dr-alekya-singapore-banjara-hills-1\"\n",
    "\n",
    "print(f\"Before: {url}\")\n",
    "print(f\"After:  {requests.utils.unquote(url)}\")\n",
    "l = requests.utils.unquote(url)\n",
    "request = urllib.request.Request(l)"
   ]
  },
  {
   "cell_type": "code",
   "execution_count": null,
   "id": "21e29168",
   "metadata": {},
   "outputs": [],
   "source": [
    "request.data"
   ]
  },
  {
   "cell_type": "code",
   "execution_count": null,
   "id": "34a05a64",
   "metadata": {},
   "outputs": [],
   "source": [
    "url = \"https://www.google.com/search?q=dr+alekya+singapore+the+skin+sense+hyderabad&safe=strict\"\n",
    "\n",
    "getLinkFromUrl(url)"
   ]
  },
  {
   "cell_type": "markdown",
   "id": "bec36300",
   "metadata": {},
   "source": [
    "practo: name, address, working days, phone, speciality"
   ]
  },
  {
   "cell_type": "code",
   "execution_count": null,
   "id": "b5147083",
   "metadata": {},
   "outputs": [],
   "source": [
    "df_final"
   ]
  },
  {
   "cell_type": "code",
   "execution_count": null,
   "id": "c18f7498",
   "metadata": {},
   "outputs": [],
   "source": [
    "pd.merge(df, df_final, how='outer').to_csv(\"full_output_30_aug_2022.csv\", index=False)"
   ]
  },
  {
   "cell_type": "code",
   "execution_count": null,
   "id": "0f593e5f",
   "metadata": {},
   "outputs": [],
   "source": [
    "pd.read_csv(\"full_output_30_aug_2022.csv\")"
   ]
  },
  {
   "cell_type": "code",
   "execution_count": null,
   "id": "78499a38",
   "metadata": {},
   "outputs": [],
   "source": [
    "df"
   ]
  },
  {
   "cell_type": "markdown",
   "id": "8d6bc02c",
   "metadata": {},
   "source": [
    "### Processing for NA"
   ]
  },
  {
   "cell_type": "code",
   "execution_count": null,
   "id": "bd4684a5",
   "metadata": {},
   "outputs": [],
   "source": [
    "df = pd.read_csv(\"full_output_30_aug_2022.csv\")\n",
    "df.head()"
   ]
  },
  {
   "cell_type": "code",
   "execution_count": null,
   "id": "5ca98276",
   "metadata": {},
   "outputs": [],
   "source": [
    "df_na = df[df['rating'].isna() == True]"
   ]
  },
  {
   "cell_type": "code",
   "execution_count": null,
   "id": "54a974ff",
   "metadata": {},
   "outputs": [],
   "source": [
    "df_na = df_na[df_na['firstName'].isna()!=True].drop('clinicName', axis=1)"
   ]
  },
  {
   "cell_type": "code",
   "execution_count": null,
   "id": "5b7d84a6",
   "metadata": {},
   "outputs": [],
   "source": [
    "df_na.columns = ['firstName', 'lastName', 'name', 'baseCity', 'GoogleNRs', 'googleRating']"
   ]
  },
  {
   "cell_type": "code",
   "execution_count": null,
   "id": "090c73e1",
   "metadata": {},
   "outputs": [],
   "source": [
    "df_na"
   ]
  },
  {
   "cell_type": "code",
   "execution_count": null,
   "id": "650730b0",
   "metadata": {},
   "outputs": [],
   "source": []
  }
 ],
 "metadata": {
  "kernelspec": {
   "display_name": "Python 3 (ipykernel)",
   "language": "python",
   "name": "python3"
  },
  "language_info": {
   "codemirror_mode": {
    "name": "ipython",
    "version": 3
   },
   "file_extension": ".py",
   "mimetype": "text/x-python",
   "name": "python",
   "nbconvert_exporter": "python",
   "pygments_lexer": "ipython3",
   "version": "3.9.13"
  },
  "vscode": {
   "interpreter": {
    "hash": "1152254d1e610f803db0a6fed8bc02d35ce78bc817c0aa9e797ec443b5cb6318"
   }
  }
 },
 "nbformat": 4,
 "nbformat_minor": 5
}
