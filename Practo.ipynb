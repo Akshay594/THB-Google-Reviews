{
 "cells": [
  {
   "cell_type": "code",
   "execution_count": 1,
   "id": "1b862ef2",
   "metadata": {},
   "outputs": [],
   "source": [
    "import pandas as pd\n",
    "import re\n",
    "from tqdm import tqdm\n",
    "\n",
    "import matplotlib.pyplot as plt\n",
    "import numpy as np\n",
    "import locationtagger"
   ]
  },
  {
   "cell_type": "code",
   "execution_count": 2,
   "id": "644e6a25",
   "metadata": {},
   "outputs": [
    {
     "data": {
      "text/html": [
       "<div>\n",
       "<style scoped>\n",
       "    .dataframe tbody tr th:only-of-type {\n",
       "        vertical-align: middle;\n",
       "    }\n",
       "\n",
       "    .dataframe tbody tr th {\n",
       "        vertical-align: top;\n",
       "    }\n",
       "\n",
       "    .dataframe thead th {\n",
       "        text-align: right;\n",
       "    }\n",
       "</style>\n",
       "<table border=\"1\" class=\"dataframe\">\n",
       "  <thead>\n",
       "    <tr style=\"text-align: right;\">\n",
       "      <th></th>\n",
       "      <th>SVAAS_ID</th>\n",
       "      <th>user_id</th>\n",
       "      <th>firstName</th>\n",
       "      <th>middleName</th>\n",
       "      <th>lastName</th>\n",
       "      <th>email</th>\n",
       "      <th>phone</th>\n",
       "      <th>description</th>\n",
       "      <th>pan</th>\n",
       "      <th>mci</th>\n",
       "      <th>...</th>\n",
       "      <th>numberFollowUp</th>\n",
       "      <th>followUpDuration</th>\n",
       "      <th>insuranceProviderId</th>\n",
       "      <th>isActive</th>\n",
       "      <th>ABDM_Healthcare_Professional_ID</th>\n",
       "      <th>SVAAS_DOCTOR_ID</th>\n",
       "      <th>svaasClinicId</th>\n",
       "      <th>tbl_user_phone_number</th>\n",
       "      <th>name</th>\n",
       "      <th>location</th>\n",
       "    </tr>\n",
       "  </thead>\n",
       "  <tbody>\n",
       "    <tr>\n",
       "      <th>0</th>\n",
       "      <td>NaN</td>\n",
       "      <td>NaN</td>\n",
       "      <td>NaN</td>\n",
       "      <td>NaN</td>\n",
       "      <td>NaN</td>\n",
       "      <td>NaN</td>\n",
       "      <td>NaN</td>\n",
       "      <td>NaN</td>\n",
       "      <td>NaN</td>\n",
       "      <td>NaN</td>\n",
       "      <td>...</td>\n",
       "      <td>NaN</td>\n",
       "      <td>NaN</td>\n",
       "      <td>NaN</td>\n",
       "      <td>NaN</td>\n",
       "      <td>NaN</td>\n",
       "      <td>NaN</td>\n",
       "      <td>NaN</td>\n",
       "      <td>NaN</td>\n",
       "      <td>NaN</td>\n",
       "      <td>NaN</td>\n",
       "    </tr>\n",
       "    <tr>\n",
       "      <th>1</th>\n",
       "      <td>NaN</td>\n",
       "      <td>NaN</td>\n",
       "      <td>NaN</td>\n",
       "      <td>NaN</td>\n",
       "      <td>NaN</td>\n",
       "      <td>NaN</td>\n",
       "      <td>NaN</td>\n",
       "      <td>NaN</td>\n",
       "      <td>NaN</td>\n",
       "      <td>NaN</td>\n",
       "      <td>...</td>\n",
       "      <td>NaN</td>\n",
       "      <td>NaN</td>\n",
       "      <td>NaN</td>\n",
       "      <td>NaN</td>\n",
       "      <td>NaN</td>\n",
       "      <td>NaN</td>\n",
       "      <td>NaN</td>\n",
       "      <td>NaN</td>\n",
       "      <td>NaN</td>\n",
       "      <td>NaN</td>\n",
       "    </tr>\n",
       "    <tr>\n",
       "      <th>2</th>\n",
       "      <td>NaN</td>\n",
       "      <td>NaN</td>\n",
       "      <td>NaN</td>\n",
       "      <td>NaN</td>\n",
       "      <td>NaN</td>\n",
       "      <td>NaN</td>\n",
       "      <td>NaN</td>\n",
       "      <td>NaN</td>\n",
       "      <td>NaN</td>\n",
       "      <td>NaN</td>\n",
       "      <td>...</td>\n",
       "      <td>NaN</td>\n",
       "      <td>NaN</td>\n",
       "      <td>NaN</td>\n",
       "      <td>NaN</td>\n",
       "      <td>NaN</td>\n",
       "      <td>NaN</td>\n",
       "      <td>NaN</td>\n",
       "      <td>NaN</td>\n",
       "      <td>NaN</td>\n",
       "      <td>NaN</td>\n",
       "    </tr>\n",
       "    <tr>\n",
       "      <th>3</th>\n",
       "      <td>NaN</td>\n",
       "      <td>NaN</td>\n",
       "      <td>NaN</td>\n",
       "      <td>NaN</td>\n",
       "      <td>NaN</td>\n",
       "      <td>NaN</td>\n",
       "      <td>NaN</td>\n",
       "      <td>NaN</td>\n",
       "      <td>NaN</td>\n",
       "      <td>NaN</td>\n",
       "      <td>...</td>\n",
       "      <td>NaN</td>\n",
       "      <td>NaN</td>\n",
       "      <td>NaN</td>\n",
       "      <td>NaN</td>\n",
       "      <td>NaN</td>\n",
       "      <td>NaN</td>\n",
       "      <td>NaN</td>\n",
       "      <td>NaN</td>\n",
       "      <td>NaN</td>\n",
       "      <td>NaN</td>\n",
       "    </tr>\n",
       "    <tr>\n",
       "      <th>4</th>\n",
       "      <td>NaN</td>\n",
       "      <td>NaN</td>\n",
       "      <td>NaN</td>\n",
       "      <td>NaN</td>\n",
       "      <td>NaN</td>\n",
       "      <td>NaN</td>\n",
       "      <td>NaN</td>\n",
       "      <td>NaN</td>\n",
       "      <td>NaN</td>\n",
       "      <td>NaN</td>\n",
       "      <td>...</td>\n",
       "      <td>NaN</td>\n",
       "      <td>NaN</td>\n",
       "      <td>NaN</td>\n",
       "      <td>NaN</td>\n",
       "      <td>NaN</td>\n",
       "      <td>NaN</td>\n",
       "      <td>NaN</td>\n",
       "      <td>NaN</td>\n",
       "      <td>NaN</td>\n",
       "      <td>NaN</td>\n",
       "    </tr>\n",
       "  </tbody>\n",
       "</table>\n",
       "<p>5 rows × 53 columns</p>\n",
       "</div>"
      ],
      "text/plain": [
       "   SVAAS_ID  user_id firstName middleName lastName email  phone  description  \\\n",
       "0       NaN      NaN       NaN        NaN      NaN   NaN    NaN          NaN   \n",
       "1       NaN      NaN       NaN        NaN      NaN   NaN    NaN          NaN   \n",
       "2       NaN      NaN       NaN        NaN      NaN   NaN    NaN          NaN   \n",
       "3       NaN      NaN       NaN        NaN      NaN   NaN    NaN          NaN   \n",
       "4       NaN      NaN       NaN        NaN      NaN   NaN    NaN          NaN   \n",
       "\n",
       "   pan  mci  ... numberFollowUp followUpDuration insuranceProviderId isActive  \\\n",
       "0  NaN  NaN  ...            NaN              NaN                 NaN      NaN   \n",
       "1  NaN  NaN  ...            NaN              NaN                 NaN      NaN   \n",
       "2  NaN  NaN  ...            NaN              NaN                 NaN      NaN   \n",
       "3  NaN  NaN  ...            NaN              NaN                 NaN      NaN   \n",
       "4  NaN  NaN  ...            NaN              NaN                 NaN      NaN   \n",
       "\n",
       "  ABDM_Healthcare_Professional_ID SVAAS_DOCTOR_ID  svaasClinicId  \\\n",
       "0                             NaN             NaN            NaN   \n",
       "1                             NaN             NaN            NaN   \n",
       "2                             NaN             NaN            NaN   \n",
       "3                             NaN             NaN            NaN   \n",
       "4                             NaN             NaN            NaN   \n",
       "\n",
       "  tbl_user_phone_number  name location  \n",
       "0                   NaN   NaN      NaN  \n",
       "1                   NaN   NaN      NaN  \n",
       "2                   NaN   NaN      NaN  \n",
       "3                   NaN   NaN      NaN  \n",
       "4                   NaN   NaN      NaN  \n",
       "\n",
       "[5 rows x 53 columns]"
      ]
     },
     "execution_count": 2,
     "metadata": {},
     "output_type": "execute_result"
    }
   ],
   "source": [
    "df = pd.read_csv(\"google_review_29_08_v3.csv\")\n",
    "df.head()"
   ]
  },
  {
   "cell_type": "code",
   "execution_count": 3,
   "id": "2c48fe3d",
   "metadata": {},
   "outputs": [
    {
     "data": {
      "text/html": [
       "<div>\n",
       "<style scoped>\n",
       "    .dataframe tbody tr th:only-of-type {\n",
       "        vertical-align: middle;\n",
       "    }\n",
       "\n",
       "    .dataframe tbody tr th {\n",
       "        vertical-align: top;\n",
       "    }\n",
       "\n",
       "    .dataframe thead th {\n",
       "        text-align: right;\n",
       "    }\n",
       "</style>\n",
       "<table border=\"1\" class=\"dataframe\">\n",
       "  <thead>\n",
       "    <tr style=\"text-align: right;\">\n",
       "      <th></th>\n",
       "      <th>SVAAS_ID</th>\n",
       "      <th>firstName</th>\n",
       "      <th>lastName</th>\n",
       "      <th>name</th>\n",
       "      <th>baseCity</th>\n",
       "    </tr>\n",
       "  </thead>\n",
       "  <tbody>\n",
       "    <tr>\n",
       "      <th>0</th>\n",
       "      <td>NaN</td>\n",
       "      <td>NaN</td>\n",
       "      <td>NaN</td>\n",
       "      <td>NaN</td>\n",
       "      <td>NaN</td>\n",
       "    </tr>\n",
       "    <tr>\n",
       "      <th>1</th>\n",
       "      <td>NaN</td>\n",
       "      <td>NaN</td>\n",
       "      <td>NaN</td>\n",
       "      <td>NaN</td>\n",
       "      <td>NaN</td>\n",
       "    </tr>\n",
       "    <tr>\n",
       "      <th>2</th>\n",
       "      <td>NaN</td>\n",
       "      <td>NaN</td>\n",
       "      <td>NaN</td>\n",
       "      <td>NaN</td>\n",
       "      <td>NaN</td>\n",
       "    </tr>\n",
       "    <tr>\n",
       "      <th>3</th>\n",
       "      <td>NaN</td>\n",
       "      <td>NaN</td>\n",
       "      <td>NaN</td>\n",
       "      <td>NaN</td>\n",
       "      <td>NaN</td>\n",
       "    </tr>\n",
       "    <tr>\n",
       "      <th>4</th>\n",
       "      <td>NaN</td>\n",
       "      <td>NaN</td>\n",
       "      <td>NaN</td>\n",
       "      <td>NaN</td>\n",
       "      <td>NaN</td>\n",
       "    </tr>\n",
       "  </tbody>\n",
       "</table>\n",
       "</div>"
      ],
      "text/plain": [
       "   SVAAS_ID firstName lastName name baseCity\n",
       "0       NaN       NaN      NaN  NaN      NaN\n",
       "1       NaN       NaN      NaN  NaN      NaN\n",
       "2       NaN       NaN      NaN  NaN      NaN\n",
       "3       NaN       NaN      NaN  NaN      NaN\n",
       "4       NaN       NaN      NaN  NaN      NaN"
      ]
     },
     "execution_count": 3,
     "metadata": {},
     "output_type": "execute_result"
    }
   ],
   "source": [
    "df = df[['SVAAS_ID', 'firstName', 'lastName', 'name', 'baseCity']]\n",
    "df.head()"
   ]
  },
  {
   "cell_type": "code",
   "execution_count": 4,
   "id": "6e5eec07",
   "metadata": {},
   "outputs": [],
   "source": [
    "df_not_missing = df.dropna()"
   ]
  },
  {
   "cell_type": "code",
   "execution_count": 5,
   "id": "bbf3e6ea",
   "metadata": {},
   "outputs": [
    {
     "data": {
      "text/html": [
       "<div>\n",
       "<style scoped>\n",
       "    .dataframe tbody tr th:only-of-type {\n",
       "        vertical-align: middle;\n",
       "    }\n",
       "\n",
       "    .dataframe tbody tr th {\n",
       "        vertical-align: top;\n",
       "    }\n",
       "\n",
       "    .dataframe thead th {\n",
       "        text-align: right;\n",
       "    }\n",
       "</style>\n",
       "<table border=\"1\" class=\"dataframe\">\n",
       "  <thead>\n",
       "    <tr style=\"text-align: right;\">\n",
       "      <th></th>\n",
       "      <th>SVAAS_ID</th>\n",
       "      <th>firstName</th>\n",
       "      <th>lastName</th>\n",
       "      <th>name</th>\n",
       "      <th>baseCity</th>\n",
       "    </tr>\n",
       "  </thead>\n",
       "  <tbody>\n",
       "    <tr>\n",
       "      <th>17</th>\n",
       "      <td>3.0</td>\n",
       "      <td>Divya</td>\n",
       "      <td>Kavuri</td>\n",
       "      <td>Apollo Clinic</td>\n",
       "      <td>Hyderabad</td>\n",
       "    </tr>\n",
       "    <tr>\n",
       "      <th>18</th>\n",
       "      <td>4.0</td>\n",
       "      <td>Shivam</td>\n",
       "      <td>P</td>\n",
       "      <td>Shivam hospitals</td>\n",
       "      <td>Hyderabad</td>\n",
       "    </tr>\n",
       "    <tr>\n",
       "      <th>19</th>\n",
       "      <td>5.0</td>\n",
       "      <td>Ranjan</td>\n",
       "      <td>Dey</td>\n",
       "      <td>Ranjan skin clinics</td>\n",
       "      <td>Hyderabad</td>\n",
       "    </tr>\n",
       "    <tr>\n",
       "      <th>20</th>\n",
       "      <td>6.0</td>\n",
       "      <td>Soumya</td>\n",
       "      <td>Sarkar</td>\n",
       "      <td>Soumya Multi speciality clinic</td>\n",
       "      <td>Hyderabad</td>\n",
       "    </tr>\n",
       "    <tr>\n",
       "      <th>21</th>\n",
       "      <td>7.0</td>\n",
       "      <td>Rishanku</td>\n",
       "      <td>Goyal</td>\n",
       "      <td>RKG Eye Center</td>\n",
       "      <td>Hyderabad</td>\n",
       "    </tr>\n",
       "  </tbody>\n",
       "</table>\n",
       "</div>"
      ],
      "text/plain": [
       "    SVAAS_ID firstName lastName                            name   baseCity\n",
       "17       3.0     Divya   Kavuri                   Apollo Clinic  Hyderabad\n",
       "18       4.0    Shivam        P                Shivam hospitals  Hyderabad\n",
       "19       5.0    Ranjan      Dey             Ranjan skin clinics  Hyderabad\n",
       "20       6.0    Soumya   Sarkar  Soumya Multi speciality clinic  Hyderabad\n",
       "21       7.0  Rishanku    Goyal                  RKG Eye Center  Hyderabad"
      ]
     },
     "execution_count": 5,
     "metadata": {},
     "output_type": "execute_result"
    }
   ],
   "source": [
    "df_not_missing.head()"
   ]
  },
  {
   "cell_type": "code",
   "execution_count": 6,
   "id": "bb40a816",
   "metadata": {},
   "outputs": [
    {
     "data": {
      "text/plain": [
       "SVAAS_ID     0\n",
       "firstName    0\n",
       "lastName     0\n",
       "name         0\n",
       "baseCity     0\n",
       "dtype: int64"
      ]
     },
     "execution_count": 6,
     "metadata": {},
     "output_type": "execute_result"
    }
   ],
   "source": [
    "df_not_missing.isna().sum()"
   ]
  },
  {
   "cell_type": "code",
   "execution_count": 7,
   "id": "33480c13",
   "metadata": {},
   "outputs": [
    {
     "data": {
      "text/plain": [
       "0.9879032258064516"
      ]
     },
     "execution_count": 7,
     "metadata": {},
     "output_type": "execute_result"
    }
   ],
   "source": [
    "len(df_not_missing)/len(df)"
   ]
  },
  {
   "cell_type": "code",
   "execution_count": 8,
   "id": "909ded9e",
   "metadata": {},
   "outputs": [
    {
     "name": "stderr",
     "output_type": "stream",
     "text": [
      "/var/folders/z1/0tn2v83n6pzgl2m8lzz1phbc0000gn/T/ipykernel_91558/4047833984.py:1: SettingWithCopyWarning: \n",
      "A value is trying to be set on a copy of a slice from a DataFrame.\n",
      "Try using .loc[row_indexer,col_indexer] = value instead\n",
      "\n",
      "See the caveats in the documentation: https://pandas.pydata.org/pandas-docs/stable/user_guide/indexing.html#returning-a-view-versus-a-copy\n",
      "  df_not_missing['query'] = df_not_missing['firstName'].apply(lambda x:x.lower()) +\"+\" + df_not_missing['lastName'].apply(lambda x:x.lower()) \\\n"
     ]
    }
   ],
   "source": [
    "df_not_missing['query'] = df_not_missing['firstName'].apply(lambda x:x.lower()) +\"+\" + df_not_missing['lastName'].apply(lambda x:x.lower()) \\\n",
    "                          +\"+\"+ df_not_missing['name'].apply(lambda x:x.lower()) + \"+\" + df_not_missing[\"baseCity\"].apply(lambda x:x.lower())"
   ]
  },
  {
   "cell_type": "code",
   "execution_count": 9,
   "id": "7683467c",
   "metadata": {},
   "outputs": [
    {
     "data": {
      "text/plain": [
       "(1715,)"
      ]
     },
     "execution_count": 9,
     "metadata": {},
     "output_type": "execute_result"
    }
   ],
   "source": [
    "df_not_missing['query'].values.shape"
   ]
  },
  {
   "cell_type": "markdown",
   "id": "8836fa3d",
   "metadata": {},
   "source": [
    "## For missing data"
   ]
  },
  {
   "cell_type": "code",
   "execution_count": 10,
   "id": "c0470c89",
   "metadata": {},
   "outputs": [],
   "source": [
    "import preprocess_kgptalkie as ps\n",
    "import re\n",
    "\n",
    "def get_clean(x):\n",
    "    x = str(x).lower().replace('\\\\', '').replace('_', ' ')\n",
    "    x = ps.cont_exp(x)\n",
    "    x = ps.remove_emails(x)\n",
    "    x = ps.remove_urls(x)\n",
    "    x = ps.remove_html_tags(x)\n",
    "    x = ps.remove_rt(x)\n",
    "    x = ps.remove_accented_chars(x)\n",
    "    x = ps.remove_special_chars(x)\n",
    "    x = re.sub(\"(.)\\\\1{2,}\", \"\\\\1\", x)\n",
    "    return x\n",
    "\n",
    "\n"
   ]
  },
  {
   "cell_type": "code",
   "execution_count": 11,
   "id": "4100283b",
   "metadata": {},
   "outputs": [
    {
     "name": "stderr",
     "output_type": "stream",
     "text": [
      "/var/folders/z1/0tn2v83n6pzgl2m8lzz1phbc0000gn/T/ipykernel_91558/4195452832.py:1: SettingWithCopyWarning: \n",
      "A value is trying to be set on a copy of a slice from a DataFrame.\n",
      "Try using .loc[row_indexer,col_indexer] = value instead\n",
      "\n",
      "See the caveats in the documentation: https://pandas.pydata.org/pandas-docs/stable/user_guide/indexing.html#returning-a-view-versus-a-copy\n",
      "  df_not_missing['SVAAS_ID'] = df_not_missing['SVAAS_ID'].astype('int')\n"
     ]
    }
   ],
   "source": [
    "df_not_missing['SVAAS_ID'] = df_not_missing['SVAAS_ID'].astype('int')"
   ]
  },
  {
   "cell_type": "code",
   "execution_count": 12,
   "id": "e2eafedb",
   "metadata": {},
   "outputs": [
    {
     "name": "stderr",
     "output_type": "stream",
     "text": [
      "/var/folders/z1/0tn2v83n6pzgl2m8lzz1phbc0000gn/T/ipykernel_91558/153722280.py:1: SettingWithCopyWarning: \n",
      "A value is trying to be set on a copy of a slice from a DataFrame.\n",
      "Try using .loc[row_indexer,col_indexer] = value instead\n",
      "\n",
      "See the caveats in the documentation: https://pandas.pydata.org/pandas-docs/stable/user_guide/indexing.html#returning-a-view-versus-a-copy\n",
      "  df_not_missing['query'] = df_not_missing['query'].apply(lambda x:ps.remove_accented_chars(x))\n"
     ]
    },
    {
     "data": {
      "text/plain": [
       "17                 divya+kavuri+apollo clinic+hyderabad\n",
       "18                  shivam+p+shivam hospitals+hyderabad\n",
       "19             ranjan+dey+ranjan skin clinics+hyderabad\n",
       "20    soumya+sarkar+soumya multi speciality clinic+h...\n",
       "21              rishanku+goyal+rkg eye center+hyderabad\n",
       "Name: query, dtype: object"
      ]
     },
     "execution_count": 12,
     "metadata": {},
     "output_type": "execute_result"
    }
   ],
   "source": [
    "df_not_missing['query'] = df_not_missing['query'].apply(lambda x:ps.remove_accented_chars(x))\n",
    "df_not_missing['query'].head()"
   ]
  },
  {
   "cell_type": "code",
   "execution_count": 13,
   "id": "6bd5d1c1",
   "metadata": {},
   "outputs": [],
   "source": [
    "from collections import defaultdict\n",
    "\n",
    "final_df = defaultdict(list)"
   ]
  },
  {
   "cell_type": "code",
   "execution_count": 14,
   "id": "82cc7b64",
   "metadata": {},
   "outputs": [],
   "source": [
    "def isDigit(char):\n",
    "    pattern = \"^[-+]?[0-9]*\\.?[0-9]+(e[-+]?[0-9]+)?$\"\n",
    "    reg = re.compile(pattern)\n",
    "    if reg.match(char):\n",
    "        return True\n",
    "    return False"
   ]
  },
  {
   "cell_type": "code",
   "execution_count": 15,
   "id": "974664b5",
   "metadata": {},
   "outputs": [],
   "source": [
    "import requests\n",
    "from bs4 import BeautifulSoup\n",
    "import re\n",
    "\n",
    "def getLinkFromUrl(query):\n",
    "    link_values = []\n",
    "    cleaned_links = []\n",
    "    page = requests.get(query)\n",
    "    soup = BeautifulSoup(page.content)\n",
    "    links = soup.findAll(\"a\")\n",
    "    for link in  soup.find_all(\"a\",href=re.compile(\"(?<=/url\\?q=)(htt.*://.*)\")):\n",
    "        url = re.split(\":(?=http)\",link[\"href\"].replace(\"/url?q=\",\"\"))\n",
    "        link_values.append(str(url[0]))\n",
    "        \n",
    "    return link_values "
   ]
  },
  {
   "cell_type": "code",
   "execution_count": 16,
   "id": "a7f4e201",
   "metadata": {},
   "outputs": [],
   "source": [
    "links = getLinkFromUrl(query=\"https://google.com/search?q=shivam+p+shivam+hospitals+hyderabad\")"
   ]
  },
  {
   "cell_type": "code",
   "execution_count": 17,
   "id": "fa6f9898",
   "metadata": {},
   "outputs": [
    {
     "name": "stdout",
     "output_type": "stream",
     "text": [
      "https://www.justdial.com/Hyderabad/Shivam-Clinic-Near-Hanuman-Temple-Kukatpally/040PXX40-XX40-140310200923-M5T7_BZDET\n",
      "https://www.justdial.com/Hyderabad/Shivam-Clinic-Obg-Gynecology-and-Orthopedics-Near-Y-Junction-Kukatpally/040PXX40-XX40-150727214202-J1K7_BZDET\n",
      "https://www.practo.com/hyderabad/clinic/shivam-clinic-kphb\n",
      "https://drlogy.com/hospitals/shivam-clinic-23676\n",
      "https://www.timesmed.com/Hospital/Hyderabad/shivam-clinic-115461\n",
      "https://theshivamhospital.in/\n",
      "https://www.drmsanjayortho.com/\n",
      "https://ezz.health/hyderabad/hospitals/shivam-clinic-kukatpally\n",
      "http://www.shivamhospital.in/\n",
      "https://www.lybrate.com/hyderabad/clinic/shivam-clinic-kphb\n",
      "https://support.google.com/websearch\n",
      "https://accounts.google.com/ServiceLogin\n"
     ]
    }
   ],
   "source": [
    "for l in links:\n",
    "    if \"%\" in l:\n",
    "        link = l.split(\"%\")[0]\n",
    "        print(link)\n",
    "    elif \"&\" in l:\n",
    "        link = l.split(\"&\")[0]\n",
    "        print(link)"
   ]
  },
  {
   "cell_type": "code",
   "execution_count": 18,
   "id": "865468a8",
   "metadata": {},
   "outputs": [],
   "source": [
    "from bs4 import BeautifulSoup\n",
    "import urllib.request\n",
    "import numpy as np\n",
    "import requests\n",
    "import re\n",
    "\n",
    "    \n",
    "\n",
    "query=\"https://google.com/search?q=shivam+p+shivam+hospitals+hyderabad\"\n",
    "\n",
    "request = urllib.request.Request(query)\n",
    "request.add_header('User-Agent', 'Mozilla/5.0 (Macintosh; Intel Mac OS X 10_15_6) AppleWebKit/537.36 (KHTML, like Gecko) Chrome/87.0.4280.88 Safari/537.36')\n",
    "raw_response = urllib.request.urlopen(request).read()\n",
    "\n",
    "html = raw_response.decode(\"utf-8\")\n",
    "\n",
    "soup = BeautifulSoup(html, 'html.parser')\n",
    "\n",
    "links = soup.findAll(\"a\")\n",
    "for link in  soup.find_all(\"a\",href=re.compile(\"(?<=/url\\?q=)(htt.*://.*)\")):\n",
    "    print(re.split(\":(?=http)\",link[\"href\"].replace(\"/url?q=\",\"\")))\n"
   ]
  },
  {
   "cell_type": "code",
   "execution_count": 19,
   "id": "3732d754",
   "metadata": {},
   "outputs": [
    {
     "data": {
      "text/plain": [
       "True"
      ]
     },
     "execution_count": 19,
     "metadata": {},
     "output_type": "execute_result"
    }
   ],
   "source": [
    "\"practo\" in \"practo.com\""
   ]
  },
  {
   "cell_type": "code",
   "execution_count": 20,
   "id": "187c9c4c",
   "metadata": {},
   "outputs": [
    {
     "name": "stdout",
     "output_type": "stream",
     "text": [
      "Dr. Divya Varikallu\n",
      "General Practitioner\n",
      "61B, Sri Ram Nagar Colony, Botanical Garden Road, Landmark: Beside Lane of Burfighar Sweet Shop &  State Bank of India Lane, Hyderabad\n"
     ]
    }
   ],
   "source": [
    "from bs4 import BeautifulSoup\n",
    "import urllib.request\n",
    "import numpy as np\n",
    "from googlesearch import search   \n",
    "\n",
    "url = \"https://www.practo.com/hyderabad/doctor/divya-varikallu-general-practitioner\"\n",
    "request = urllib.request.Request(url)\n",
    "\n",
    "request.add_header('User-Agent', 'your bot 0.1')\n",
    "raw_response = urllib.request.urlopen(request).read()\n",
    "\n",
    "html = raw_response.decode(\"utf-8\")\n",
    "\n",
    "soup = BeautifulSoup(html, 'html.parser')\n",
    "\n",
    "heading = soup.find(\"h1\")\n",
    "speciality = soup.find(\"h2\", class_=\"u-d-inlineblock u-spacer--right-v-thin c-profile__details\")\n",
    "rating = soup.find(\"span\", class_=\"u-green-text u-bold u-large-font\")\n",
    "votes = soup.find(\"span\", class_=\"u-smallest-font u-grey_3-text\")\n",
    "address = soup.find(\"p\", class_=\"c-profile--clinic__address\")\n",
    "\n",
    "print(heading.get_text())\n",
    "print(speciality.get_text())\n",
    "# print(rating.get_text())\n",
    "# print(votes.get_text().strip(\")\").strip(\"(\"))\n",
    "print(address.get_text())\n"
   ]
  },
  {
   "cell_type": "code",
   "execution_count": 21,
   "id": "1350e677",
   "metadata": {},
   "outputs": [
    {
     "data": {
      "text/plain": [
       "17                      divyakavuriapollo clinichyderabad\n",
       "18                       shivampshivam hospitalshyderabad\n",
       "19                  ranjandeyranjan skin clinicshyderabad\n",
       "20      soumyasarkarsoumya multi speciality clinichyde...\n",
       "21                   rishankugoyalrkg eye centerhyderabad\n",
       "                              ...                        \n",
       "1731    kushangmodshivam children hospital and neonata...\n",
       "1732              dhavalakhanichildhood hospitalahmedabad\n",
       "1733    keval patelpateljk dental hospital orthodontic...\n",
       "1734    jinal patelpateljk dental hospital orthodontic...\n",
       "1735                      lavanyayasamsai clinichyderabad\n",
       "Name: query, Length: 1715, dtype: object"
      ]
     },
     "execution_count": 21,
     "metadata": {},
     "output_type": "execute_result"
    }
   ],
   "source": [
    "df_not_missing['query'].apply(lambda x:ps.remove_special_chars(x))"
   ]
  },
  {
   "cell_type": "code",
   "execution_count": 22,
   "id": "a6839852",
   "metadata": {},
   "outputs": [
    {
     "data": {
      "text/plain": [
       "False"
      ]
     },
     "execution_count": 22,
     "metadata": {},
     "output_type": "execute_result"
    }
   ],
   "source": [
    "set([\"doctor\"]).issubset(set(list(map(str.lower, link.split(\"/\")))))"
   ]
  },
  {
   "cell_type": "code",
   "execution_count": 23,
   "id": "c06e3a20",
   "metadata": {},
   "outputs": [],
   "source": [
    "from bs4 import BeautifulSoup\n",
    "import urllib.request\n",
    "import numpy as np\n",
    "from googlesearch import search   \n",
    "\n",
    "\n",
    "def extractReviews(df_not_missing):\n",
    "    queries = df_not_missing['query'].values\n",
    "\n",
    "    for i in tqdm(range(len(queries))):\n",
    "        query = queries[i]\n",
    "        query = \"+\".join(query.split(\" \"))\n",
    "        url = 'https://google.com/search?q=dr+'+query\n",
    "        \n",
    "        print(url)\n",
    "        \n",
    "        links = [link for link in getLinkFromUrl(url) if \"practo\" in link]\n",
    "        if len(links)>0:\n",
    "            link = links[0]\n",
    "            print(links[0])\n",
    "\n",
    "            if \"&\" in link:\n",
    "                print(link.split(\"&\"))\n",
    "                link_w = link.split(\"&\")[0]\n",
    "                link_w = '/'.join(i for i in link_w.split(\"/\") if not i.isdigit())\n",
    "            elif \"%\" in link:\n",
    "                print(link.split(\"%\"))\n",
    "                link_w = link.split(\"%\")[0]\n",
    "                link_w = '/'.join(i for i in link_w.split(\"/\") if not i.isdigit())\n",
    "            \n",
    "            \n",
    "            print(\"Link searched for: \", link_w)                    \n",
    "            print(\"*\" * 50)\n",
    "            \n",
    "            \n",
    "            try:\n",
    "                # Encoding the utf-values here by unquoting them\n",
    "                link_w = requests.utils.unquote(link_w)\n",
    "\n",
    "                request = urllib.request.Request(link_w)\n",
    "                request.add_header('User-Agent', 'Mozilla/5.0 (Macintosh; Intel Mac OS X 10_15_6) AppleWebKit/537.36 (KHTML, like Gecko) Chrome/87.0.4280.88 Safari/537.36')\n",
    "\n",
    "\n",
    "\n",
    "                raw_response = urllib.request.urlopen(request).read()\n",
    "                # Read the repsonse as a utf-8 string\n",
    "                html = raw_response.decode(\"utf-8\")\n",
    "\n",
    "                soup = BeautifulSoup(html, 'html.parser')\n",
    "\n",
    "                heading = soup.find(\"h1\")\n",
    "\n",
    "                # Dr data\n",
    "                speciality = soup.find(\"h2\", class_=\"u-d-inlineblock u-spacer--right-v-thin c-profile__details\")\n",
    "                rating = soup.find(\"span\", class_=\"u-green-text u-bold u-large-font\")\n",
    "                votes = soup.find(\"span\", class_=\"u-smallest-font u-grey_3-text\")\n",
    "                address = soup.find(\"p\", class_=\"c-profile--clinic__address\")\n",
    "\n",
    "                # clinic data\n",
    "                speciality_cl = soup.find(\"h2\", attrs={\n",
    "                    \"data-qa-id\":\"clinic-speciality\"\n",
    "                })\n",
    "                rating_cl = soup.find(\"span\", class_=\"common__star-rating__value\")\n",
    "                votes_cl = soup.find(\"span\", attrs={\n",
    "                    \"data-qa-id\":\"clinic-votes\"\n",
    "                })\n",
    "                address_cl = soup.find(\"p\", class_=\"c-profile--clinic__address\")\n",
    "\n",
    "                final_df['SVAAS_ID'].append(df_not_missing.iloc[i]['SVAAS_ID'])\n",
    "                final_df['link'].append(link_w)\n",
    "\n",
    "\n",
    "                if heading is not None:\n",
    "                    print(\"Name: \", heading.get_text())\n",
    "                    final_df['name'].append(heading.get_text())\n",
    "                else:\n",
    "                    print(\"Heading is not availble\")\n",
    "                    final_df['name'].append(\"NA\")\n",
    "\n",
    "                if speciality is not None:\n",
    "                    print(\"Speciality: \", speciality.get_text())\n",
    "                    final_df['speciality'].append(speciality.get_text())\n",
    "                elif speciality_cl is not None:\n",
    "                    print(\"Speciality: \", speciality_cl.get_text())\n",
    "                    final_df['speciality'].append(speciality_cl.get_text())\n",
    "                else:\n",
    "                    print(\"Speciality is not available.\")\n",
    "                    final_df['speciality'].append(\"NA\")\n",
    "\n",
    "                if rating is not None:\n",
    "                    print(\"Rating: \", rating.get_text())\n",
    "                    final_df['rating'].append(rating.get_text())\n",
    "                elif rating_cl is not None:\n",
    "                    print(\"Rating: \", rating_cl.get_text())\n",
    "                    final_df['rating'].append(rating_cl.get_text())\n",
    "                else:\n",
    "                    print(\"Rating not available.\")\n",
    "                    final_df[\"rating\"].append(\"NA\")\n",
    "\n",
    "                if votes is not None:\n",
    "                    print(\"Name: \", votes.get_text())\n",
    "                    final_df['votes'].append(votes.get_text())\n",
    "                elif votes_cl is not None:\n",
    "                    print(\"Name: \", votes_cl.get_text())\n",
    "                    final_df['votes'].append(votes_cl.get_text())\n",
    "                else:\n",
    "                    print(\"Votes are not available.\")\n",
    "                    final_df['votes'].append(\"NA\")\n",
    "\n",
    "\n",
    "                if address is not None:\n",
    "                    print(\"Address: \", address.get_text())\n",
    "                    final_df['address'].append(address.get_text())\n",
    "                elif address_cl is not None:\n",
    "                    print(\"Address: \", address_cl.get_text())\n",
    "                    final_df['address'].append(address_cl.get_text())\n",
    "                else:\n",
    "                    final_df['address'].append(\"NA\")\n",
    "            \n",
    "            except Exception as e:\n",
    "                print(\"Error was: \", e)\n",
    "        \n",
    "        else:\n",
    "            print(\"Couldn't find any practo links.\")\n",
    "\n",
    "                        \n",
    "                       \n",
    "    return final_df"
   ]
  },
  {
   "cell_type": "code",
   "execution_count": null,
   "id": "f3359b65",
   "metadata": {},
   "outputs": [
    {
     "name": "stderr",
     "output_type": "stream",
     "text": [
      "\r",
      "  0%|                                                  | 0/1715 [00:00<?, ?it/s]"
     ]
    },
    {
     "name": "stdout",
     "output_type": "stream",
     "text": [
      "https://google.com/search?q=dr+divya+kavuri+apollo+clinic+hyderabad\n",
      "https://www.practo.com/hyderabad/doctor/divya-varikallu-general-practitioner&sa=U&ved=2ahUKEwjE7YTNwvr5AhX2KLkGHTf-A2oQFnoECAYQAg&usg=AOvVaw0-VFdGjj7tIkeZDl8jU7Jp\n",
      "['https://www.practo.com/hyderabad/doctor/divya-varikallu-general-practitioner', 'sa=U', 'ved=2ahUKEwjE7YTNwvr5AhX2KLkGHTf-A2oQFnoECAYQAg', 'usg=AOvVaw0-VFdGjj7tIkeZDl8jU7Jp']\n",
      "Link searched for:  https://www.practo.com/hyderabad/doctor/divya-varikallu-general-practitioner\n",
      "**************************************************\n"
     ]
    },
    {
     "name": "stderr",
     "output_type": "stream",
     "text": [
      "\r",
      "  0%|                                        | 1/1715 [00:04<2:14:50,  4.72s/it]"
     ]
    },
    {
     "name": "stdout",
     "output_type": "stream",
     "text": [
      "Name:  Dr. Divya Varikallu\n",
      "Speciality:  General Practitioner\n",
      "Rating:  5.0\n",
      "Votes are not available.\n",
      "Address:  61B, Sri Ram Nagar Colony, Botanical Garden Road, Landmark: Beside Lane of Burfighar Sweet Shop &  State Bank of India Lane, Hyderabad\n",
      "https://google.com/search?q=dr+shivam+p+shivam+hospitals+hyderabad\n",
      "https://www.practo.com/hyderabad/clinic/shivam-clinic-kphb&sa=U&ved=2ahUKEwjWtKXPwvr5AhVAIbkGHWD_BIMQFnoECAIQAg&usg=AOvVaw1_nLBcMsbCWzkP3Jmq5mK9\n",
      "['https://www.practo.com/hyderabad/clinic/shivam-clinic-kphb', 'sa=U', 'ved=2ahUKEwjWtKXPwvr5AhVAIbkGHWD_BIMQFnoECAIQAg', 'usg=AOvVaw1_nLBcMsbCWzkP3Jmq5mK9']\n",
      "Link searched for:  https://www.practo.com/hyderabad/clinic/shivam-clinic-kphb\n",
      "**************************************************\n"
     ]
    },
    {
     "name": "stderr",
     "output_type": "stream",
     "text": [
      "\r",
      "  0%|                                        | 2/1715 [00:09<2:09:59,  4.55s/it]"
     ]
    },
    {
     "name": "stdout",
     "output_type": "stream",
     "text": [
      "Name:  Shivam Clinic\n",
      "Speciality:  Orthopedics and Gynecology/Obstetrics Clinic\n",
      "Rating:  4.5\n",
      "Name:  (20 patient stories)\n",
      "Address:  22-1-81/2, Shop Number 9&10, Sree Nivasam, Y Junction, Shubodaya Colony, Kukatpally, Landmark: Near Hunaman Temple, Hyderabad\n",
      "https://google.com/search?q=dr+ranjan+dey+ranjan+skin+clinics+hyderabad\n",
      "https://www.practo.com/kolkata/doctor/ranjan-kumar-dey-urologist/recommended&sa=U&ved=2ahUKEwjYmLTRwvr5AhUpA7kGHbrKBWoQFnoECAQQAg&usg=AOvVaw1utech_eGb7EUKCD7ITtNf\n",
      "['https://www.practo.com/kolkata/doctor/ranjan-kumar-dey-urologist/recommended', 'sa=U', 'ved=2ahUKEwjYmLTRwvr5AhUpA7kGHbrKBWoQFnoECAQQAg', 'usg=AOvVaw1utech_eGb7EUKCD7ITtNf']\n",
      "Link searched for:  https://www.practo.com/kolkata/doctor/ranjan-kumar-dey-urologist/recommended\n",
      "**************************************************\n"
     ]
    },
    {
     "name": "stderr",
     "output_type": "stream",
     "text": [
      "\r",
      "  0%|                                        | 3/1715 [00:11<1:43:55,  3.64s/it]"
     ]
    },
    {
     "name": "stdout",
     "output_type": "stream",
     "text": [
      "Name:  Dr. Ranjan Kumar Dey\n",
      "Speciality:  Urologist\n",
      "Rating:  94% \n",
      "Name:  (184 votes)\n",
      "https://google.com/search?q=dr+soumya+sarkar+soumya+multi+speciality+clinic+hyderabad\n"
     ]
    }
   ],
   "source": [
    "final_df = extractReviews(df_not_missing)"
   ]
  },
  {
   "cell_type": "markdown",
   "id": "bec36300",
   "metadata": {},
   "source": [
    "practo: name, address, working days, phone, speciality"
   ]
  },
  {
   "cell_type": "code",
   "execution_count": null,
   "id": "4220a0a9",
   "metadata": {},
   "outputs": [],
   "source": [
    "df_final = pd.DataFrame.from_dict(final_df, orient=\"index\").T"
   ]
  },
  {
   "cell_type": "code",
   "execution_count": null,
   "id": "b5147083",
   "metadata": {},
   "outputs": [],
   "source": [
    "df_final"
   ]
  },
  {
   "cell_type": "code",
   "execution_count": null,
   "id": "193b0aa7",
   "metadata": {},
   "outputs": [],
   "source": [
    "df_final.to_csv(\"practo_4_sep_2022_output.csv\", index=False)"
   ]
  },
  {
   "cell_type": "code",
   "execution_count": null,
   "id": "c18f7498",
   "metadata": {},
   "outputs": [],
   "source": [
    "pd.merge(df, df_final, how='outer').to_csv(\"full_output_30_aug_2022.csv\", index=False)"
   ]
  },
  {
   "cell_type": "code",
   "execution_count": null,
   "id": "0f593e5f",
   "metadata": {},
   "outputs": [],
   "source": [
    "pd.read_csv(\"full_output_30_aug_2022.csv\")"
   ]
  },
  {
   "cell_type": "code",
   "execution_count": null,
   "id": "78499a38",
   "metadata": {},
   "outputs": [],
   "source": [
    "df"
   ]
  },
  {
   "cell_type": "markdown",
   "id": "8d6bc02c",
   "metadata": {},
   "source": [
    "### Processing for NA"
   ]
  },
  {
   "cell_type": "code",
   "execution_count": null,
   "id": "bd4684a5",
   "metadata": {},
   "outputs": [],
   "source": [
    "df = pd.read_csv(\"full_output_30_aug_2022.csv\")\n",
    "df.head()"
   ]
  },
  {
   "cell_type": "code",
   "execution_count": null,
   "id": "5ca98276",
   "metadata": {},
   "outputs": [],
   "source": [
    "df_na = df[df['rating'].isna() == True]"
   ]
  },
  {
   "cell_type": "code",
   "execution_count": null,
   "id": "54a974ff",
   "metadata": {},
   "outputs": [],
   "source": [
    "df_na = df_na[df_na['firstName'].isna()!=True].drop('clinicName', axis=1)"
   ]
  },
  {
   "cell_type": "code",
   "execution_count": null,
   "id": "5b7d84a6",
   "metadata": {},
   "outputs": [],
   "source": [
    "df_na.columns = ['firstName', 'lastName', 'name', 'baseCity', 'GoogleNRs', 'googleRating']"
   ]
  },
  {
   "cell_type": "code",
   "execution_count": null,
   "id": "090c73e1",
   "metadata": {},
   "outputs": [],
   "source": [
    "df_na"
   ]
  },
  {
   "cell_type": "code",
   "execution_count": null,
   "id": "650730b0",
   "metadata": {},
   "outputs": [],
   "source": []
  }
 ],
 "metadata": {
  "kernelspec": {
   "display_name": "Python 3 (ipykernel)",
   "language": "python",
   "name": "python3"
  },
  "language_info": {
   "codemirror_mode": {
    "name": "ipython",
    "version": 3
   },
   "file_extension": ".py",
   "mimetype": "text/x-python",
   "name": "python",
   "nbconvert_exporter": "python",
   "pygments_lexer": "ipython3",
   "version": "3.9.13"
  },
  "vscode": {
   "interpreter": {
    "hash": "1152254d1e610f803db0a6fed8bc02d35ce78bc817c0aa9e797ec443b5cb6318"
   }
  }
 },
 "nbformat": 4,
 "nbformat_minor": 5
}
